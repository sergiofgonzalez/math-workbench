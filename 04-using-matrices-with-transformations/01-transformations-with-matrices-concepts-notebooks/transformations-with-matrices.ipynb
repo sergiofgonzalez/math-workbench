{
 "metadata": {
  "language_info": {
   "codemirror_mode": {
    "name": "ipython",
    "version": 3
   },
   "file_extension": ".py",
   "mimetype": "text/x-python",
   "name": "python",
   "nbconvert_exporter": "python",
   "pygments_lexer": "ipython3",
   "version": "3.8.3-final"
  },
  "orig_nbformat": 2,
  "kernelspec": {
   "name": "Python 3.8.3 64-bit ('base': conda)",
   "display_name": "Python 3.8.3 64-bit ('base': conda)",
   "metadata": {
    "interpreter": {
     "hash": "ead85409a3df2736fa4852a03cf3afe7e5b1dbdc0e40d7d22bbcbf8cf1adf5fa"
    }
   }
  }
 },
 "nbformat": 4,
 "nbformat_minor": 2,
 "cells": [
  {
   "source": [
    "# Using matrices with transformations\n",
    "> TBD\n",
    "\n",
    "## Contents\n",
    "TBD\n",
    "\n",
    "## Intro\n",
    "We saw in the previous chapter that any linear transformation in 3D can be specified by knowing how it affects the three standard basis vectors $ e1 $, $ e2 $, and $ e3 $.\n",
    "\n",
    "This means that exactly 9 numbers uniquely identify the effects of linear transformation. When arranged appropriately, the numbers that tell us how to compute a linear transformation are called a *matrix*.\n",
    "\n",
    "Note that these matrices should be considered *computational tools* or a *notation* that will help use calculate these transformations more efficiently, but ultimately, we will be doing the same transformations we performed on the previous chapters: rotations, scaling, reflection, etc.\n",
    "\n",
    "The underlying idea would be to arrange in the matrix the information of that tells us how the linear transformation affects the standar basis vectors."
   ],
   "cell_type": "markdown",
   "metadata": {}
  },
  {
   "source": [
    "## Representing linear transformations with matrices\n",
    "\n",
    "Let $ A $ be a linear transformation and we know that:\n",
    "\n",
    "$\n",
    "A(e1) = (1, 1, 1) \\\\\n",
    "A(e2) = (1, 0, -1) \\\\\n",
    "A(e3) = (0, 1, 1)\n",
    "$\n",
    "\n",
    "This information completely specifies the $ A $ transformation, in a way that it can be applied to any vector.\n",
    "\n",
    "Because we will reuse this concept over and over, it warrants a special notation called *matrix notation*.\n",
    "\n"
   ],
   "cell_type": "markdown",
   "metadata": {}
  },
  {
   "source": [
    "### Writing vectors and linear transformations as matrices\n",
    "\n",
    "Matrices are rectangular grids of numbers. Their shape (i.e. arrangement) tells us how to interpret them.\n",
    "\n",
    "For instance, a matrix that is a single column of numbers as a vector, with its entries being the coordinates ordered from top to bottom is called a *column vector*.\n",
    "\n",
    "For example, the standard basis can be written as three column vectors as:\n",
    "\n",
    "$\n",
    "e1 = \\begin{pmatrix}\n",
    "        1 \\\\\n",
    "        0 \\\\\n",
    "        0\n",
    "    \\end{pmatrix}\n",
    ",\\hspace{1ex}\n",
    "e2 = \\begin{pmatrix}\n",
    "        0 \\\\\n",
    "        1 \\\\\n",
    "        0\n",
    "    \\end{pmatrix}\n",
    ",\\hspace{1ex}\n",
    "e3 = \\begin{pmatrix}\n",
    "        0 \\\\\n",
    "        0 \\\\\n",
    "        1\n",
    "    \\end{pmatrix}\n",
    "$\n",
    "\n",
    "For our purposes, this notation means the same as $ e1=(1, 0, 0) $, $ e2=(0, 1, 0) $, $ e3 = (0, 0, 1) $."
   ],
   "cell_type": "markdown",
   "metadata": {}
  },
  {
   "source": [
    "As a consequence, we can denote A transformation as:\n",
    "\n",
    "$\n",
    "A(e1) = \\begin{pmatrix}\n",
    "        1 \\\\\n",
    "        1 \\\\\n",
    "        1\n",
    "    \\end{pmatrix}\n",
    ",\\hspace{1ex}\n",
    "e2 = \\begin{pmatrix}\n",
    "        1 \\\\\n",
    "        0 \\\\\n",
    "        -1\n",
    "    \\end{pmatrix}\n",
    ",\\hspace{1ex}\n",
    "e3 = \\begin{pmatrix}\n",
    "        0 \\\\\n",
    "        1 \\\\\n",
    "        1\n",
    "    \\end{pmatrix}\n",
    "$"
   ],
   "cell_type": "markdown",
   "metadata": {}
  },
  {
   "source": [
    "And the matrix representing $ A $ transformation is the 3x3 grid of numbers consisting of theses vectors squashed together:\n",
    "\n",
    "$\n",
    "A = \\begin{pmatrix}\n",
    "        1 & 1 & 0 \\\\\n",
    "        1 & 0 & 1\\\\\n",
    "        1 & -1 & 1\n",
    "    \\end{pmatrix}\n",
    "$"
   ],
   "cell_type": "markdown",
   "metadata": {}
  },
  {
   "source": [
    "In 2D, a column vector consists of two entries. As a result, the linear transformation that scales input vectors by a factor of 2 can be written as:\n",
    "\n",
    "$\n",
    "D(e1) = \\begin{pmatrix}\n",
    "2 \\\\\n",
    "0\n",
    "\\end{pmatrix}\n",
    ",\\hspace{1ex} \n",
    "D(e2) = \\begin{pmatrix}\n",
    "0 \\\\\n",
    "2\n",
    "\\end{pmatrix}\n",
    "$\n",
    "\n",
    "Or using the matrix notation:\n",
    "\n",
    "$\n",
    "D = \\begin{pmatrix}\n",
    "2 & 0 \\\\\n",
    "0 & 2 \n",
    "\\end{pmatrix}\n",
    "$"
   ],
   "cell_type": "markdown",
   "metadata": {}
  },
  {
   "source": [
    "Matrices will come in other shapes and sizes, but for now, the focus is in column matrices representing vectors and square matrices representing linear transformations.\n",
    "\n",
    "The next step will consist in evaluating a linear transformation given its matrix."
   ],
   "cell_type": "markdown",
   "metadata": {}
  },
  {
   "source": [
    "### Multiplying a matrix with a vector\n",
    "\n",
    "Let $ B $ a linear transformation represented as a matrix and $ v $ a vector also represented as a matrix:\n",
    "\n",
    "$\n",
    "B = \\begin{pmatrix}\n",
    "0 & 2 & 1 \\\\\n",
    "0 & 1 & 0 \\\\\n",
    "1 & 0 & -1 \n",
    "\\end{pmatrix}\n",
    ",\\hspace{1ex}\n",
    "v = \\begin{pmatrix}\n",
    "3 \\\\\n",
    "-2 \\\\\n",
    "5\n",
    "\\end{pmatrix}\n",
    "$\n",
    "\n",
    "Then, using the already known procedure for linear transformations, with the only change that we use *column vector* notation, we can say:\n",
    "\n",
    "$\n",
    "B(v) = 3 \\cdot B(e1) -2 \\cdot B(e2) + 5 \\cdot B(e3) \\\\\n",
    "= 3 \\cdot \\begin{pmatrix}\n",
    "0 \\\\\n",
    "0 \\\\\n",
    "1\n",
    "\\end{pmatrix} - 2 \\cdot \\begin{pmatrix}\n",
    "2 \\\\\n",
    "1 \\\\\n",
    "0\n",
    "\\end{pmatrix} + 5 \\cdot \\begin{pmatrix}\n",
    "1 \\\\\n",
    "0 \\\\\n",
    "-1\n",
    "\\end{pmatrix} = \\begin{pmatrix}\n",
    "0 \\\\\n",
    "0 \\\\\n",
    "3\n",
    "\\end{pmatrix} + \\begin{pmatrix}\n",
    "-4 \\\\\n",
    "-2 \\\\\n",
    "0\n",
    "\\end{pmatrix} + \\begin{pmatrix}\n",
    "5 \\\\\n",
    "0 \\\\\n",
    "-5\n",
    "\\end{pmatrix} = \\begin{pmatrix}\n",
    "1 \\\\\n",
    "-2 \\\\\n",
    "-2\n",
    "\\end{pmatrix}\n",
    "$"
   ],
   "cell_type": "markdown",
   "metadata": {}
  },
  {
   "source": [
    "This sequence of operations is a special case of an operation called *matrix multiplication*. This can be succinctly denoted as:\n",
    "\n",
    "$\n",
    "Bv = \\begin{pmatrix}\n",
    "0 & 2 & 1 \\\\\n",
    "0 & 1 & 0 \\\\\n",
    "1 & 0 & -1\n",
    "\\end{pmatrix} \\begin{pmatrix}\n",
    "3 \\\\\n",
    "-2 \\\\\n",
    "5\n",
    "\\end{pmatrix} = \\begin{pmatrix}\n",
    "1 \\\\\n",
    "-2 \\\\\n",
    "-2\n",
    "\\end{pmatrix}\n",
    "$"
   ],
   "cell_type": "markdown",
   "metadata": {}
  },
  {
   "source": [
    "As opposed to multiplying numbers, the order matters when you multiply matrices. In particular $ Bv $ is a valid product but $ vB $ is not.\n",
    "\n",
    "Now, we're in a position to write Python code that multiplies a matrix by a vector:"
   ],
   "cell_type": "markdown",
   "metadata": {}
  },
  {
   "cell_type": "code",
   "execution_count": 3,
   "metadata": {},
   "outputs": [
    {
     "output_type": "stream",
     "name": "stdout",
     "text": [
      "columns of the matrix B: [(0, 0, 1), (2, 1, 0), (1, 0, -1)]\nB v = (1, -2, -2)\n"
     ]
    }
   ],
   "source": [
    "from my_vectors import *\n",
    "\n",
    "B = (\n",
    "    (0, 2, 1),\n",
    "    (0, 1, 0),\n",
    "    (1, 0, -1)\n",
    ")\n",
    "\n",
    "v = (3, -2, 5)\n",
    "\n",
    "# Note that the B matrix is arranged as a set of rows,\n",
    "# rather than as a set of columns\n",
    "# However, you can easily get the columns using `zip`\n",
    "\n",
    "print('columns of the matrix B: {}'.format(list(zip(*B))))\n",
    "\n",
    "def linear_combination(scalars, *vectors):\n",
    "    scaled = [scale(s, v) for s,v in zip(scalars, vectors)]\n",
    "    return add(*scaled)\n",
    "\n",
    "def multiply_matrix_vector(matrix, vector):\n",
    "    return linear_combination(vector, *zip(*matrix))\n",
    "\n",
    "print('B v = {}'.format(multiply_matrix_vector(B, v)))"
   ]
  },
  {
   "source": [
    "Let's dissect a little bit, howe we got to this succinct Python implementation:\n",
    "\n",
    "Firstly, we define our matrix as a tuple of tuples, with the first tuple containing the first row, the second tuple the second row, etc.\n",
    "\n",
    "This is just for convenience, as it is easier to write that way:\n",
    "\n",
    "```Python\n",
    "B = (\n",
    "    (0, 2, 1),\n",
    "    (0, 1, 0),\n",
    "    (1, 0, -1)\n",
    ")\n",
    "```\n",
    "\n",
    "Then we define our `v` vector the usual way:\n",
    "\n",
    "```Python\n",
    "v = (3, -2, 5)\n",
    "```"
   ],
   "cell_type": "markdown",
   "metadata": {}
  },
  {
   "source": [
    "Now, we need to find an efficient way to do:\n",
    "\n",
    "```Python\n",
    "3 * (0, 0, 1) + -2 * (2, 1, 0) + 5 * (1, 0, -1)\n",
    "```\n",
    "\n",
    "Getting the columns from B is easy using the `zip(...)` function, as it will *aggregate* the first elements of all the tuples into a first tuple, the second elements into a second tuple, etc.\n",
    "\n",
    "Remember that `zip(...)` expects a variable number of *iterables* of the same size:\n",
    "\n",
    "```Python\n",
    "list(zip(('a', 'b', 'c'), (1, 2, 3), ('x', 'y', 'z'))) = \n",
    "[('a', 1, 'x'), ('b', 2, 'y'), ('c', 3, 'z')]\n",
    "```\n",
    "\n",
    "Note that we cannot feed `B` directly into `zip(...)` as it won't have the desired effect on account of `B` being a single tuple containing multiple tuples within it:\n",
    "\n",
    "```Python\n",
    "list(zip(((0, 2, 1), (0, 1, 0), (1, 0, -1)))) = \n",
    "[\n",
    "  (\n",
    "      (0, 2, 1)\n",
    "  ), \n",
    "  (\n",
    "      (0, 1, 0)\n",
    "  ), \n",
    "  (\n",
    "      (1, 0, -1)\n",
    "  )\n",
    "]\n",
    "```\n",
    "\n",
    "Fortunately, we can use the `*` operator to *flatten* `B` before passing it to `zip(...)`. This will have the effect of injecting the actual matrix rows as arguments to the `zip(...)` function:\n",
    "\n",
    "```Python\n",
    "list(zip((0, 2, 1), (0, 1, 0), (1, 0, -1))) = [(0, 0, 1), (2, 1, 0), (1, 0, -1)]\n",
    "list(zip(*B)) = [(0, 0, 1), (2, 1, 0), (1, 0, -1)]\n",
    "```"
   ],
   "cell_type": "markdown",
   "metadata": {}
  },
  {
   "source": [
    "Now that we've got the matrix columns in an iterable, we can focus on writing the function that will take each of the coordinates of the vector `v` and perform the scalar multiplication of the first coordinate by the first column (*vector*), add it to the scalar multiplication of the second coordinate by the second column, etc.\n",
    "\n",
    "But we already define such function in the previous chapter! &mdash; the `linear_combination(...)` function:\n",
    "\n",
    "```Python\n",
    "def linear_combination(scalars, *vectors):\n",
    "    scaled = [scale(s, v) for s,v in zip(scalars, vectors)]\n",
    "    return add(*scaled)\n",
    "```"
   ],
   "cell_type": "markdown",
   "metadata": {}
  },
  {
   "source": [
    "We just need to pass `v` as `scalars` and the columns of the matrix in `vectors` (note that the second argument is a variable argument list):\n",
    "\n",
    "Thus, to perform the desired multiplication, we have to do:\n",
    "\n",
    "```Python\n",
    "linear_combination((3, -2, 5), (0, 0, 1), (2, 1, 0), (1, 0, -1)) = (1, -2, -2)\n",
    "```"
   ],
   "cell_type": "markdown",
   "metadata": {}
  },
  {
   "source": [
    "We're almost there: we just need to define now a Python function that will name that operation:\n",
    "\n",
    "```Python\n",
    "def multiply_matrix_vector(matrix_columns, vector):\n",
    "    return linear_combination(vector, matrix_columns)\n",
    "```\n",
    "\n",
    "However, if we try to invoke the function using:\n",
    "\n",
    "```Python\n",
    "multiply_matrix_vector(((0, 0, 1), (2, 1, 0), (1, 0, -1)), (3, -2, 5))\n",
    "```\n",
    "\n",
    "it will fail, because `linear_combination(...)` requires a variable number of tuples as the second argument, and we're passing a tuple of tuples. We need to *flatten* again this argument using the `*` operator:\n",
    "\n",
    "```Python\n",
    "def multiply_matrix_vector(matrix_columns, vector):\n",
    "    return linear_combination(vector, *matrix_columns)\n",
    "```\n",
    "\n",
    "This let us define our first functional `multiply_matrix_vector(...)` function:\n",
    "\n",
    "```Python\n",
    "multiply_matrix_vector(((0, 0, 1), (2, 1, 0), (1, 0, -1)), (3, -2, 5)) = (1, -2, -2)\n",
    "```"
   ],
   "cell_type": "markdown",
   "metadata": {}
  },
  {
   "source": [
    "Now for the final step &mdash; it wouldn't be a good DX if the consumer of the `multiply_matrix_vector(...)` would have to convert the rows of the matrix into columns. It will be much better if we do it ourselves as part of the function implementation:\n",
    "\n",
    "```Python\n",
    "def multiply_matrix_vector(matrix, vector):\n",
    "    return linear_combination(vector, *(zip(*matrix)))\n",
    "```\n",
    "\n",
    "or more succinctly:\n",
    "```Python\n",
    "def multiply_matrix_vector(matrix, vector):\n",
    "    return linear_combination(vector, *zip(*matrix))\n",
    "```\n"
   ],
   "cell_type": "markdown",
   "metadata": {}
  },
  {
   "source": [
    "Now we're ready to test the function with hardcoded arguments and variables too:\n",
    "\n"
   ],
   "cell_type": "markdown",
   "metadata": {}
  },
  {
   "cell_type": "code",
   "execution_count": 1,
   "metadata": {},
   "outputs": [
    {
     "output_type": "error",
     "ename": "NameError",
     "evalue": "name 'scale' is not defined",
     "traceback": [
      "\u001b[0;31m---------------------------------------------------------------------------\u001b[0m",
      "\u001b[0;31mNameError\u001b[0m                                 Traceback (most recent call last)",
      "\u001b[0;32m<ipython-input-1-e454cf755a73>\u001b[0m in \u001b[0;36m<module>\u001b[0;34m\u001b[0m\n\u001b[1;32m      6\u001b[0m     \u001b[0;32mreturn\u001b[0m \u001b[0mlinear_combination\u001b[0m\u001b[0;34m(\u001b[0m\u001b[0mvector\u001b[0m\u001b[0;34m,\u001b[0m \u001b[0;34m*\u001b[0m\u001b[0mzip\u001b[0m\u001b[0;34m(\u001b[0m\u001b[0;34m*\u001b[0m\u001b[0mmatrix\u001b[0m\u001b[0;34m)\u001b[0m\u001b[0;34m)\u001b[0m\u001b[0;34m\u001b[0m\u001b[0;34m\u001b[0m\u001b[0m\n\u001b[1;32m      7\u001b[0m \u001b[0;34m\u001b[0m\u001b[0m\n\u001b[0;32m----> 8\u001b[0;31m \u001b[0mprint\u001b[0m\u001b[0;34m(\u001b[0m\u001b[0mmultiply_matrix_vector\u001b[0m\u001b[0;34m(\u001b[0m\u001b[0;34m(\u001b[0m\u001b[0;34m(\u001b[0m\u001b[0;36m0\u001b[0m\u001b[0;34m,\u001b[0m \u001b[0;36m2\u001b[0m\u001b[0;34m,\u001b[0m \u001b[0;36m1\u001b[0m\u001b[0;34m)\u001b[0m\u001b[0;34m,\u001b[0m \u001b[0;34m(\u001b[0m\u001b[0;36m0\u001b[0m\u001b[0;34m,\u001b[0m \u001b[0;36m1\u001b[0m\u001b[0;34m,\u001b[0m \u001b[0;36m0\u001b[0m\u001b[0;34m)\u001b[0m\u001b[0;34m,\u001b[0m \u001b[0;34m(\u001b[0m\u001b[0;36m1\u001b[0m\u001b[0;34m,\u001b[0m \u001b[0;36m0\u001b[0m\u001b[0;34m,\u001b[0m \u001b[0;34m-\u001b[0m\u001b[0;36m1\u001b[0m\u001b[0;34m)\u001b[0m\u001b[0;34m)\u001b[0m\u001b[0;34m,\u001b[0m \u001b[0;34m(\u001b[0m\u001b[0;36m3\u001b[0m\u001b[0;34m,\u001b[0m \u001b[0;34m-\u001b[0m\u001b[0;36m2\u001b[0m\u001b[0;34m,\u001b[0m \u001b[0;36m5\u001b[0m\u001b[0;34m)\u001b[0m\u001b[0;34m)\u001b[0m\u001b[0;34m)\u001b[0m\u001b[0;34m\u001b[0m\u001b[0;34m\u001b[0m\u001b[0m\n\u001b[0m\u001b[1;32m      9\u001b[0m \u001b[0;34m\u001b[0m\u001b[0m\n\u001b[1;32m     10\u001b[0m \u001b[0mmultiply_matrix_vector\u001b[0m\u001b[0;34m(\u001b[0m\u001b[0mB\u001b[0m\u001b[0;34m,\u001b[0m \u001b[0mv\u001b[0m\u001b[0;34m)\u001b[0m\u001b[0;34m\u001b[0m\u001b[0;34m\u001b[0m\u001b[0m\n",
      "\u001b[0;32m<ipython-input-1-e454cf755a73>\u001b[0m in \u001b[0;36mmultiply_matrix_vector\u001b[0;34m(matrix, vector)\u001b[0m\n\u001b[1;32m      4\u001b[0m \u001b[0;34m\u001b[0m\u001b[0m\n\u001b[1;32m      5\u001b[0m \u001b[0;32mdef\u001b[0m \u001b[0mmultiply_matrix_vector\u001b[0m\u001b[0;34m(\u001b[0m\u001b[0mmatrix\u001b[0m\u001b[0;34m,\u001b[0m \u001b[0mvector\u001b[0m\u001b[0;34m)\u001b[0m\u001b[0;34m:\u001b[0m\u001b[0;34m\u001b[0m\u001b[0;34m\u001b[0m\u001b[0m\n\u001b[0;32m----> 6\u001b[0;31m     \u001b[0;32mreturn\u001b[0m \u001b[0mlinear_combination\u001b[0m\u001b[0;34m(\u001b[0m\u001b[0mvector\u001b[0m\u001b[0;34m,\u001b[0m \u001b[0;34m*\u001b[0m\u001b[0mzip\u001b[0m\u001b[0;34m(\u001b[0m\u001b[0;34m*\u001b[0m\u001b[0mmatrix\u001b[0m\u001b[0;34m)\u001b[0m\u001b[0;34m)\u001b[0m\u001b[0;34m\u001b[0m\u001b[0;34m\u001b[0m\u001b[0m\n\u001b[0m\u001b[1;32m      7\u001b[0m \u001b[0;34m\u001b[0m\u001b[0m\n\u001b[1;32m      8\u001b[0m \u001b[0mprint\u001b[0m\u001b[0;34m(\u001b[0m\u001b[0mmultiply_matrix_vector\u001b[0m\u001b[0;34m(\u001b[0m\u001b[0;34m(\u001b[0m\u001b[0;34m(\u001b[0m\u001b[0;36m0\u001b[0m\u001b[0;34m,\u001b[0m \u001b[0;36m2\u001b[0m\u001b[0;34m,\u001b[0m \u001b[0;36m1\u001b[0m\u001b[0;34m)\u001b[0m\u001b[0;34m,\u001b[0m \u001b[0;34m(\u001b[0m\u001b[0;36m0\u001b[0m\u001b[0;34m,\u001b[0m \u001b[0;36m1\u001b[0m\u001b[0;34m,\u001b[0m \u001b[0;36m0\u001b[0m\u001b[0;34m)\u001b[0m\u001b[0;34m,\u001b[0m \u001b[0;34m(\u001b[0m\u001b[0;36m1\u001b[0m\u001b[0;34m,\u001b[0m \u001b[0;36m0\u001b[0m\u001b[0;34m,\u001b[0m \u001b[0;34m-\u001b[0m\u001b[0;36m1\u001b[0m\u001b[0;34m)\u001b[0m\u001b[0;34m)\u001b[0m\u001b[0;34m,\u001b[0m \u001b[0;34m(\u001b[0m\u001b[0;36m3\u001b[0m\u001b[0;34m,\u001b[0m \u001b[0;34m-\u001b[0m\u001b[0;36m2\u001b[0m\u001b[0;34m,\u001b[0m \u001b[0;36m5\u001b[0m\u001b[0;34m)\u001b[0m\u001b[0;34m)\u001b[0m\u001b[0;34m)\u001b[0m\u001b[0;34m\u001b[0m\u001b[0;34m\u001b[0m\u001b[0m\n",
      "\u001b[0;32m<ipython-input-1-e454cf755a73>\u001b[0m in \u001b[0;36mlinear_combination\u001b[0;34m(scalars, *vectors)\u001b[0m\n\u001b[1;32m      1\u001b[0m \u001b[0;32mdef\u001b[0m \u001b[0mlinear_combination\u001b[0m\u001b[0;34m(\u001b[0m\u001b[0mscalars\u001b[0m\u001b[0;34m,\u001b[0m \u001b[0;34m*\u001b[0m\u001b[0mvectors\u001b[0m\u001b[0;34m)\u001b[0m\u001b[0;34m:\u001b[0m\u001b[0;34m\u001b[0m\u001b[0;34m\u001b[0m\u001b[0m\n\u001b[0;32m----> 2\u001b[0;31m     \u001b[0mscaled\u001b[0m \u001b[0;34m=\u001b[0m \u001b[0;34m[\u001b[0m\u001b[0mscale\u001b[0m\u001b[0;34m(\u001b[0m\u001b[0ms\u001b[0m\u001b[0;34m,\u001b[0m \u001b[0mv\u001b[0m\u001b[0;34m)\u001b[0m \u001b[0;32mfor\u001b[0m \u001b[0ms\u001b[0m\u001b[0;34m,\u001b[0m\u001b[0mv\u001b[0m \u001b[0;32min\u001b[0m \u001b[0mzip\u001b[0m\u001b[0;34m(\u001b[0m\u001b[0mscalars\u001b[0m\u001b[0;34m,\u001b[0m \u001b[0mvectors\u001b[0m\u001b[0;34m)\u001b[0m\u001b[0;34m]\u001b[0m\u001b[0;34m\u001b[0m\u001b[0;34m\u001b[0m\u001b[0m\n\u001b[0m\u001b[1;32m      3\u001b[0m     \u001b[0;32mreturn\u001b[0m \u001b[0madd\u001b[0m\u001b[0;34m(\u001b[0m\u001b[0;34m*\u001b[0m\u001b[0mscaled\u001b[0m\u001b[0;34m)\u001b[0m\u001b[0;34m\u001b[0m\u001b[0;34m\u001b[0m\u001b[0m\n\u001b[1;32m      4\u001b[0m \u001b[0;34m\u001b[0m\u001b[0m\n\u001b[1;32m      5\u001b[0m \u001b[0;32mdef\u001b[0m \u001b[0mmultiply_matrix_vector\u001b[0m\u001b[0;34m(\u001b[0m\u001b[0mmatrix\u001b[0m\u001b[0;34m,\u001b[0m \u001b[0mvector\u001b[0m\u001b[0;34m)\u001b[0m\u001b[0;34m:\u001b[0m\u001b[0;34m\u001b[0m\u001b[0;34m\u001b[0m\u001b[0m\n",
      "\u001b[0;32m<ipython-input-1-e454cf755a73>\u001b[0m in \u001b[0;36m<listcomp>\u001b[0;34m(.0)\u001b[0m\n\u001b[1;32m      1\u001b[0m \u001b[0;32mdef\u001b[0m \u001b[0mlinear_combination\u001b[0m\u001b[0;34m(\u001b[0m\u001b[0mscalars\u001b[0m\u001b[0;34m,\u001b[0m \u001b[0;34m*\u001b[0m\u001b[0mvectors\u001b[0m\u001b[0;34m)\u001b[0m\u001b[0;34m:\u001b[0m\u001b[0;34m\u001b[0m\u001b[0;34m\u001b[0m\u001b[0m\n\u001b[0;32m----> 2\u001b[0;31m     \u001b[0mscaled\u001b[0m \u001b[0;34m=\u001b[0m \u001b[0;34m[\u001b[0m\u001b[0mscale\u001b[0m\u001b[0;34m(\u001b[0m\u001b[0ms\u001b[0m\u001b[0;34m,\u001b[0m \u001b[0mv\u001b[0m\u001b[0;34m)\u001b[0m \u001b[0;32mfor\u001b[0m \u001b[0ms\u001b[0m\u001b[0;34m,\u001b[0m\u001b[0mv\u001b[0m \u001b[0;32min\u001b[0m \u001b[0mzip\u001b[0m\u001b[0;34m(\u001b[0m\u001b[0mscalars\u001b[0m\u001b[0;34m,\u001b[0m \u001b[0mvectors\u001b[0m\u001b[0;34m)\u001b[0m\u001b[0;34m]\u001b[0m\u001b[0;34m\u001b[0m\u001b[0;34m\u001b[0m\u001b[0m\n\u001b[0m\u001b[1;32m      3\u001b[0m     \u001b[0;32mreturn\u001b[0m \u001b[0madd\u001b[0m\u001b[0;34m(\u001b[0m\u001b[0;34m*\u001b[0m\u001b[0mscaled\u001b[0m\u001b[0;34m)\u001b[0m\u001b[0;34m\u001b[0m\u001b[0;34m\u001b[0m\u001b[0m\n\u001b[1;32m      4\u001b[0m \u001b[0;34m\u001b[0m\u001b[0m\n\u001b[1;32m      5\u001b[0m \u001b[0;32mdef\u001b[0m \u001b[0mmultiply_matrix_vector\u001b[0m\u001b[0;34m(\u001b[0m\u001b[0mmatrix\u001b[0m\u001b[0;34m,\u001b[0m \u001b[0mvector\u001b[0m\u001b[0;34m)\u001b[0m\u001b[0;34m:\u001b[0m\u001b[0;34m\u001b[0m\u001b[0;34m\u001b[0m\u001b[0m\n",
      "\u001b[0;31mNameError\u001b[0m: name 'scale' is not defined"
     ]
    }
   ],
   "source": [
    "def linear_combination(scalars, *vectors):\n",
    "    scaled = [scale(s, v) for s,v in zip(scalars, vectors)]\n",
    "    return add(*scaled)\n",
    "\n",
    "def multiply_matrix_vector(matrix, vector):\n",
    "    return linear_combination(vector, *zip(*matrix))\n",
    "\n",
    "print(multiply_matrix_vector(((0, 2, 1), (0, 1, 0), (1, 0, -1)), (3, -2, 5)))\n",
    "\n",
    "multiply_matrix_vector(B, v)"
   ]
  },
  {
   "source": [
    "Now that we have a way to do the multiplication programmatically, we can explore mnemonic recipes for multiplying a matrix by a vector.\n",
    "\n",
    "Consider the following *prototypical* matrix multiplication:\n",
    "\n",
    "$\n",
    "\\begin{pmatrix}\n",
    "a & b & c \\\\\n",
    "d & e & f \\\\\n",
    "g & h & i\n",
    "\\end{pmatrix}\n",
    "\\begin{pmatrix}\n",
    "x \\\\\n",
    "y \\\\\n",
    "z\n",
    "\\end{pmatrix} = x \\cdot \\begin{pmatrix}\n",
    "a \\\\\n",
    "d \\\\\n",
    "g\n",
    "\\end{pmatrix} + y \\cdot \\begin{pmatrix}\n",
    "b \\\\\n",
    "e \\\\\n",
    "h\n",
    "\\end{pmatrix} + z \\cdot \\begin{pmatrix}\n",
    "c \\\\\n",
    "f \\\\\n",
    "i\n",
    "\\end{pmatrix} = \\begin{pmatrix}\n",
    "a \\cdot x + b \\cdot y + c \\cdot z \\\\\n",
    "d \\cdot x + e \\cdot y + f \\cdot z \\\\\n",
    "g \\cdot x + h \\cdot y + i \\cdot z\n",
    "\\end{pmatrix}\n",
    "$"
   ],
   "cell_type": "markdown",
   "metadata": {}
  },
  {
   "source": [
    "The first recipe is that each coordinate of the output vector is a function of all the coordinates of the input vector:\n",
    "\n",
    "$\n",
    "f(x, y, z) = a \\cdot x + b \\cdot y + c \\cdot z\n",
    "$\n",
    "\n",
    "Moreover, this is a linear function, in the sense that it is a sum of number of times each variable."
   ],
   "cell_type": "markdown",
   "metadata": {}
  },
  {
   "source": [
    "The second mnemonic recipe presents the same formula as the result of doing *dot products* of the corresponding matrix rows by the column vector:\n",
    "\n",
    "$\n",
    "\\begin{pmatrix}\n",
    "a & b & c \\\\\n",
    "d & e & f \\\\\n",
    "g & h & i\n",
    "\\end{pmatrix}\n",
    "\\begin{pmatrix}\n",
    "x \\\\\n",
    "y \\\\\n",
    "z\n",
    "\\end{pmatrix} = \\begin{pmatrix}\n",
    "(a, b, c) \\cdot (x, y, z) \\\\\n",
    "(d, e, f) \\cdot (x, y, z) \\\\\n",
    "(g, h, i) \\cdot (x, y, z)\n",
    "\\end{pmatrix} = = \\begin{pmatrix}\n",
    "a \\cdot x + b \\cdot y + c \\cdot z \\\\\n",
    "d \\cdot x + e \\cdot y + f \\cdot z \\\\\n",
    "g \\cdot x + h \\cdot y + i \\cdot z\n",
    "\\end{pmatrix}\n",
    "$"
   ],
   "cell_type": "markdown",
   "metadata": {}
  },
  {
   "source": [
    "Note that the same mnemonics will apply to 2D transformations:\n",
    "\n",
    "$\n",
    "\\begin{pmatrix}\n",
    "j & k \\\\\n",
    "l & m\n",
    "\\end{pmatrix}\n",
    "\\begin{pmatrix}\n",
    "x \\\\\n",
    "y\n",
    "\\end{pmatrix} = x \\cdot \\begin{pmatrix}\n",
    "j \\\\\n",
    "l\n",
    "\\end{pmatrix} + y \\cdot \\begin{pmatrix}\n",
    "k \\\\\n",
    "m \n",
    "\\end{pmatrix} = \\begin{pmatrix}\n",
    "(j, k) \\cdot (x, y) \\\\\n",
    "(l, m) \\cdot (x, y)\n",
    "\\end{pmatrix} = \\begin{pmatrix}\n",
    "j \\cdot x + k \\cdot y \\\\\n",
    "l \\cdot x + m \\cdot y\n",
    "\\end{pmatrix}\n",
    "$\n"
   ],
   "cell_type": "markdown",
   "metadata": {}
  },
  {
   "source": [
    "### Composing linear transformations by matrix multiplication\n",
    "\n",
    "We know from the previous chapter that the composition of a linear transformation is also a linear transformation. Because any linear transformation can be represented by a matrix, any composition of linear transformations can also be represented by a matrix.\n",
    "\n",
    "This fact has profound consequences in terms of the computing power to apply transformations. If you were to apply a big number of transformations to a vector, each of the function calls `f1(f2(f3(...fn(v))))` would represent some overhead, while if you could represent $ f_1 \\circ f_2 \\circ f_3 \\circ ... \\circ f_n $ by a matrix, applying it to a vector would be just a handful of simple computations (additions and multiplications)."
   ],
   "cell_type": "markdown",
   "metadata": {}
  },
  {
   "source": [
    "Let $ A $ and $ B $ be two linear transformations that we want to compose for a given vector $ v = (x, y, z) $. Thus we're interested in $ A(B(v)) $.\n",
    "\n",
    "$\n",
    "A = \\begin{pmatrix}\n",
    "1 & 1 & 0 \\\\\n",
    "1 & 0 & 1 \\\\\n",
    "1 & -1 & 1\n",
    "\\end{pmatrix}, \\hspace{1ex}\n",
    "B = \\begin{pmatrix}\n",
    "0 & 2 & 1 \\\\\n",
    "0 & 1 & 0 \\\\\n",
    "1 & 0 & -1\n",
    "\\end{pmatrix}\n",
    "$\n",
    "\n",
    "In order to compute the transformation, we would need to first apply the $ B $ transformation to $ v $, which would render a 3D column vector, which we would then apply to $ A $ which would render the definitive 3d column vector that is the result of the composition:\n",
    "\n",
    "$\n",
    "A(B(v)) = ABv = \\begin{pmatrix}\n",
    "1 & 1 & 0 \\\\\n",
    "1 & 0 & 1 \\\\\n",
    "1 & -1 & 1\n",
    "\\end{pmatrix}\n",
    "\\begin{pmatrix}\n",
    "0 & 2 & 1 \\\\\n",
    "0 & 1 & 0 \\\\\n",
    "1 & 0 & -1\n",
    "\\end{pmatrix}\n",
    "\\begin{pmatrix}\n",
    "x \\\\\n",
    "y \\\\\n",
    "z\n",
    "\\end{pmatrix}\n",
    "$\n",
    "\n",
    "So the problem lies in determining, what should be the result of multiplying $ AB $. "
   ],
   "cell_type": "markdown",
   "metadata": {}
  },
  {
   "source": [
    "We know that ultimately, $ AB $ should be a 3x3 matrix, so we need are interesting in calculating all those question marks:\n",
    "\n",
    "$\n",
    "AB = \\begin{pmatrix}\n",
    "1 & 1 & 0 \\\\\n",
    "1 & 0 & 1 \\\\\n",
    "1 & -1 & 1\n",
    "\\end{pmatrix}\n",
    "\\begin{pmatrix}\n",
    "0 & 2 & 1 \\\\\n",
    "0 & 1 & 0 \\\\\n",
    "1 & 0 & -1\n",
    "\\end{pmatrix} = \\begin{pmatrix}\n",
    "? & ? & ? \\\\\n",
    "? & ? & ? \\\\\n",
    "? & ? & ?\n",
    "\\end{pmatrix}\n",
    "$\n"
   ],
   "cell_type": "markdown",
   "metadata": {}
  },
  {
   "source": [
    "We also know that each of the columns of the transformation is the effect of applying the given transformation to the vectors of the standard basis.\n",
    "\n",
    "That is:\n",
    "\n",
    "$\n",
    "B(e1) = \\begin{pmatrix}\n",
    "0 \\\\\n",
    "0 \\\\\n",
    "1\n",
    "\\end{pmatrix} \\\\\n",
    "B(e2) = \\begin{pmatrix}\n",
    "2 \\\\\n",
    "1 \\\\\n",
    "0\n",
    "\\end{pmatrix} \\\\\n",
    "B(e3) = \\begin{pmatrix}\n",
    "1 \\\\\n",
    "0 \\\\\n",
    "-1\n",
    "\\end{pmatrix}\n",
    "$"
   ],
   "cell_type": "markdown",
   "metadata": {}
  },
  {
   "source": [
    "But also, in virtue of the last fact, the first column of the resulting matrix, will be the effect of $ AB(e1) $, the second column will be $ A(B(e2)) $ etc.\n",
    "\n",
    "Therefore:\n",
    "$\n",
    "A(B(e1)) = ABe1 = \\begin{pmatrix}\n",
    "1 & 1 & 0 \\\\\n",
    "1 & 0 & 1 \\\\\n",
    "1 & -1 & 1\n",
    "\\end{pmatrix}\n",
    "\\begin{pmatrix}\n",
    "0 \\\\\n",
    "0 \\\\\n",
    "1\n",
    "\\end{pmatrix} = \\begin{pmatrix}\n",
    "0 \\\\\n",
    "1 \\\\\n",
    "1\n",
    "\\end{pmatrix}\n",
    "$\n",
    "\n",
    "And similarly:\n",
    "$\n",
    "A(B(e2)) = ABe2 = \\begin{pmatrix}\n",
    "1 & 1 & 0 \\\\\n",
    "1 & 0 & 1 \\\\\n",
    "1 & -1 & 1\n",
    "\\end{pmatrix}\n",
    "\\begin{pmatrix}\n",
    "2 \\\\\n",
    "1 \\\\\n",
    "0\n",
    "\\end{pmatrix} = \\begin{pmatrix}\n",
    "3 \\\\\n",
    "2 \\\\\n",
    "1\n",
    "\\end{pmatrix} \\\\\n",
    "A(B(e3)) = ABe3 = \\begin{pmatrix}\n",
    "1 & 1 & 0 \\\\\n",
    "1 & 0 & 1 \\\\\n",
    "1 & -1 & 1\n",
    "\\end{pmatrix}\n",
    "\\begin{pmatrix}\n",
    "0 \\\\\n",
    "0 \\\\\n",
    "1\n",
    "\\end{pmatrix} = \\begin{pmatrix}\n",
    "1 \\\\\n",
    "0 \\\\\n",
    "0\n",
    "\\end{pmatrix}\n",
    "$\n",
    "\n",
    "And fitting all the intermediate results together into a single matrix:\n",
    "\n",
    "$\n",
    "AB = \\begin{pmatrix}\n",
    "0 & 3 & 1 \\\\\n",
    "1 & 2 & 0 \\\\\n",
    "1 & 1 & 0\n",
    "\\end{pmatrix}\n",
    "$\n"
   ],
   "cell_type": "markdown",
   "metadata": {}
  },
  {
   "source": [
    "As a takeaway, we haven't reivented the wheel &mdash; we've just leaned once more into concepts that we already knew to come up with the *matrix multiplication*:\n",
    "\n",
    "![Getting to matrix multiplication](../images/getting_to_matrix_multiplication.png)"
   ],
   "cell_type": "markdown",
   "metadata": {}
  },
  {
   "source": [
    "AS a mnemonic rule, multiplying a 3x3 matrix by a column vector is the same as doing the *dot product* of a given row by a given column:\n",
    "\n",
    "$ \n",
    "AB = \\begin{pmatrix}\n",
    "1 & 1 & 0 \\\\\n",
    "1 & 0 & 1 \\\\\n",
    "1 & -1 & 1\n",
    "\\end{pmatrix}\n",
    "\\begin{pmatrix}\n",
    "0 & 2 & 1 \\\\\n",
    "0 & 1 & 0 \\\\\n",
    "1 & 0 & -1\n",
    "\\end{pmatrix} = \\\\\n",
    "\\begin{pmatrix}\n",
    "(1, 1, 0) \\cdot (0, 0, 1) & (1, 1, 0) \\cdot (2, 1, 0) & (1, 1, 0) \\cdot (1, 0, -1) \\\\\n",
    "(1, 0, 1) \\cdot (0, 0, 1) & (1, 0, 1) \\cdot (2, 1, 0) & (1, 0, 1) \\cdot (1, 0, -1) \\\\\n",
    "(1, -1, 1) \\cdot (0, 0, 1) & (1, -1, 1) \\cdot (2, 1, 0) & (1, -1, 1) \\cdot (1, 0, -1)\n",
    "\\end{pmatrix} = \\\\\n",
    "= \\begin{pmatrix}\n",
    "0 & 3 & 1 \\\\\n",
    "1 & 2 & 0 \\\\\n",
    "1 & 1 & 0 \\\\\n",
    "\\end{pmatrix}\n",
    "$\n",
    "\n",
    "\n",
    "That is, each of the $ a_ij $ elements of the matrix, with $ i $ being the row index and $ j $ being the column index is the result of dot multiplication of the *ith* row vector from $ A $ by the *jth* row vector from $ B $.\n",
    "\n",
    "![Matrix multiplication](../images/matrix_multiplication.png)"
   ],
   "cell_type": "markdown",
   "metadata": {}
  },
  {
   "source": [
    "Note that the same rule applies to matrices of lower dimension:\n",
    "\n",
    "$\n",
    "\\begin{pmatrix}\n",
    "1 & 2 \\\\\n",
    "3 & 4 \n",
    "\\end{pmatrix}\n",
    "\\begin{pmatrix}\n",
    "0 & -1 \\\\\n",
    "1 & 0\n",
    "\\end{pmatrix} = \\begin{pmatrix}\n",
    "2 & -1 \\\\\n",
    "4 & -3\n",
    "\\end{pmatrix}\n",
    "$"
   ],
   "cell_type": "markdown",
   "metadata": {}
  },
  {
   "source": [
    "### Implementing matrix multiplication\n",
    "\n",
    "Learning how to do matrix multiplication by hand is fine for educational purposes, but the ultimate goal is to define a function that will do that tedious work for us.\n",
    "\n",
    "When using Python, the fact that each of the elements is the result of the dot product of the corresponding row and column from the given matrices is more conducive to this calculation:"
   ],
   "cell_type": "markdown",
   "metadata": {}
  },
  {
   "source": [
    "Again, this will require a little bit of an staged approach.\n",
    "\n",
    "Let's denote the elements of the resulting matrix as `a00`, `a01`, etc.\n",
    "\n",
    "$\n",
    "AB = \\begin{pmatrix}\n",
    "a_{00} & a_{01} & a_{02} \\\\\n",
    "a_{10} & a_{11} & a_{12} \\\\\n",
    "a_{20} & a_{21} & a_{22}\n",
    "\\end{pmatrix}\n",
    "$\n",
    "\n",
    "We know that $ a_ij $ will be the result of the dot product of row i from $ A $ by column j from $ B $. We also know that we can get the column vectors from B doing `zip(*b)`.\n",
    "\n",
    "Thus, the first brute force approach for the `matrix_multiply(...)` function will be:\n"
   ],
   "cell_type": "markdown",
   "metadata": {}
  },
  {
   "cell_type": "code",
   "execution_count": 14,
   "metadata": {},
   "outputs": [
    {
     "output_type": "execute_result",
     "data": {
      "text/plain": [
       "((0, 3, 1), (1, 2, 0), (1, 1, 0))"
      ]
     },
     "metadata": {},
     "execution_count": 14
    }
   ],
   "source": [
    "from my_vectors import *\n",
    "\n",
    "a = (\n",
    "    (1, 1, 0),\n",
    "    (1, 0, 1),\n",
    "    (1, -1, 1)\n",
    ")\n",
    "b = (\n",
    "    (0, 2, 1),\n",
    "    (0, 1, 0),\n",
    "    (1, 0, -1)\n",
    ")\n",
    "\n",
    "def matrix_multiply(a, b):\n",
    "    b_cols = tuple(zip(*b))\n",
    "    a00 = dot(a[0], b_cols[0])\n",
    "    a01 = dot(a[0], b_cols[1])\n",
    "    a02 = dot(a[0], b_cols[2])\n",
    "    a10 = dot(a[1], b_cols[0])\n",
    "    a11 = dot(a[1], b_cols[1])\n",
    "    a12 = dot(a[1], b_cols[2])\n",
    "    a20 = dot(a[2], b_cols[0])\n",
    "    a21 = dot(a[2], b_cols[1])\n",
    "    a22 = dot(a[2], b_cols[2])        \n",
    "    return (\n",
    "        (a00, a01, a02),\n",
    "        (a10, a11, a12),\n",
    "        (a20, a21, a22)\n",
    "    )\n",
    "\n",
    "\n",
    "matrix_multiply(a, b)"
   ]
  },
  {
   "source": [
    "Obviously, that's far from an ideal implementation, but it gives us some hints about the kind of loops that will be needed &mdash; we will need an inner iteration over cols of b, and an outer iteration over the rows of a.\n",
    "\n",
    "This second implementation focuses on the inner iteration:"
   ],
   "cell_type": "markdown",
   "metadata": {}
  },
  {
   "cell_type": "code",
   "execution_count": 17,
   "metadata": {},
   "outputs": [
    {
     "output_type": "execute_result",
     "data": {
      "text/plain": [
       "((0, 3, 1), (1, 2, 0), (1, 1, 0))"
      ]
     },
     "metadata": {},
     "execution_count": 17
    }
   ],
   "source": [
    "from my_vectors import *\n",
    "\n",
    "a = (\n",
    "    (1, 1, 0),\n",
    "    (1, 0, 1),\n",
    "    (1, -1, 1)\n",
    ")\n",
    "b = (\n",
    "    (0, 2, 1),\n",
    "    (0, 1, 0),\n",
    "    (1, 0, -1)\n",
    ")\n",
    "\n",
    "def matrix_multiply(a, b):\n",
    "    result_first_row = tuple(dot(a[0], col_from_b) for col_from_b in zip(*b))\n",
    "    result_second_row = tuple(dot(a[1], col_from_b) for col_from_b in zip(*b))\n",
    "    result_third_row = tuple(dot(a[2], col_from_b) for col_from_b in zip(*b))\n",
    "    return (result_first_row, result_second_row, result_third_row)\n",
    "\n",
    "matrix_multiply(a, b)"
   ]
  },
  {
   "source": [
    "We're really close to our final implementation, we just need to add the outer loop, so that no variable definition is needed:"
   ],
   "cell_type": "markdown",
   "metadata": {}
  },
  {
   "cell_type": "code",
   "execution_count": 19,
   "metadata": {},
   "outputs": [
    {
     "output_type": "execute_result",
     "data": {
      "text/plain": [
       "((0, 3, 1), (1, 2, 0), (1, 1, 0))"
      ]
     },
     "metadata": {},
     "execution_count": 19
    }
   ],
   "source": [
    "from my_vectors import *\n",
    "\n",
    "a = (\n",
    "    (1, 1, 0),\n",
    "    (1, 0, 1),\n",
    "    (1, -1, 1)\n",
    ")\n",
    "b = (\n",
    "    (0, 2, 1),\n",
    "    (0, 1, 0),\n",
    "    (1, 0, -1)\n",
    ")\n",
    "\n",
    "def matrix_multiply(a, b):\n",
    "    return tuple(\n",
    "        tuple(dot(row_from_a, col_from_b) for col_from_b in zip(*b)) \n",
    "        for row_from_a in a\n",
    "    )\n",
    "\n",
    "matrix_multiply(a, b)"
   ]
  },
  {
   "source": [
    "Note that this function works for matrices of any dimension:"
   ],
   "cell_type": "markdown",
   "metadata": {}
  },
  {
   "cell_type": "code",
   "execution_count": 20,
   "metadata": {},
   "outputs": [
    {
     "output_type": "execute_result",
     "data": {
      "text/plain": [
       "((2, -1), (4, -3))"
      ]
     },
     "metadata": {},
     "execution_count": 20
    }
   ],
   "source": [
    "from my_vectors import *\n",
    "\n",
    "c = (\n",
    "    (1, 2),\n",
    "    (3, 4)\n",
    ")\n",
    "d = (\n",
    "    (0, -1),\n",
    "    (1, 0)\n",
    ")\n",
    "\n",
    "def matrix_multiply(a, b):\n",
    "    return tuple(\n",
    "        tuple(dot(row_from_a, col_from_b) for col_from_b in zip(*b)) \n",
    "        for row_from_a in a\n",
    "    )\n",
    "\n",
    "matrix_multiply(c, d)"
   ]
  },
  {
   "source": [
    "### 3D animation with matrix transformations\n",
    "\n",
    "To animate a 3D model, we redraw a transformed version of the original model in each frame. To make the model appear to move or change over time, we need to use different transformations as the time progresses. If these transformations are linear transformations specified by matrices, we will need a new matric for every new frame of the animation.\n",
    "\n",
    "Because *PyGame*'s built-in clock keeps track of time in milliseconds, we can generate matrices whose entries depend on time. That is, we can think of every matrix as a function that takes the current time and returns a matrix for that given time:\n",
    "\n",
    "$\n",
    "t \\rightarrow \\begin{pmatrix}\n",
    "a_{00}(t) & a_{01}(t) & a_{02}(t) \\\\\n",
    "a_{10}(t) & a_{11}(t) & a_{12}(t) \\\\\n",
    "a_{20}(t) & a_{21}(t) & a_{22}(t)\n",
    "\\end{pmatrix}\n",
    "$"
   ],
   "cell_type": "markdown",
   "metadata": {}
  },
  {
   "source": [
    "The following matrix, would be an example of such transformation that depends on time:\n",
    "\n",
    "$\n",
    "\\begin{pmatrix}\n",
    "cos(t) & 0 & -sin(t) \\\\\n",
    "0 & 1 & 0 \\\\\n",
    "sin(t) & 0 & cos(t)\n",
    "\\end{pmatrix}\n",
    "$\n",
    "\n",
    "| NOTE: |\n",
    "| :---- |\n",
    "| Given any value of $ t $, the matrix represents the same linear transformation as `rotate_y_by(t)`. |"
   ],
   "cell_type": "markdown",
   "metadata": {}
  },
  {
   "source": [
    "Let's use this transformation when drawing the teapot, so that it rotates over time around the y axis. Note that instead of using *PyOpenGL* methods as we did in previous exercises, the idea of this exercise is to apply the transformation to the loaded triangles to achieve the same effect.\n",
    "\n",
    "That is, we're looking for a new function:\n",
    "\n",
    "```Python\n",
    "draw_model(..., get_matrix=<transformation-to-be-applied>):\n",
    "...\n",
    "```\n",
    "\n",
    "that will allow us to configure a transformation matrix that will be applied to the faces of the 3D model on each and every frame. The effect will be the same as using `glRotatef(...)` function.\n",
    "\n",
    "| NOTE: |\n",
    "| :---- |\n",
    "| You can find the standalone project for this exercise in [`02-draw-animated-transformation`](../02-draw-animated-transformation). |"
   ],
   "cell_type": "markdown",
   "metadata": {}
  },
  {
   "cell_type": "code",
   "execution_count": 2,
   "metadata": {},
   "outputs": [
    {
     "output_type": "stream",
     "name": "stdout",
     "text": [
      "pygame 1.9.6\nHello from the pygame community. https://www.pygame.org/contribute.html\n"
     ]
    },
    {
     "output_type": "error",
     "ename": "SystemExit",
     "evalue": "0",
     "traceback": [
      "An exception has occurred, use %tb to see the full traceback.\n",
      "\u001b[0;31mSystemExit\u001b[0m\u001b[0;31m:\u001b[0m 0\n"
     ]
    }
   ],
   "source": [
    "from my_teapot import load_triangles\n",
    "from my_draw_model import draw_model\n",
    "from math import sin, cos\n",
    "\n",
    "\n",
    "# define the rotate_y_by(t) transformation as a function\n",
    "def get_rotation_matrix(t):\n",
    "    seconds = t / 1000\n",
    "    return (\n",
    "      (cos(seconds), 0, -sin(seconds)),\n",
    "      (0, 1, 0),\n",
    "      (sin(seconds), 0, cos(seconds))\n",
    "    )\n",
    "\n",
    "\n",
    "draw_model(load_triangles(), get_matrix=get_rotation_matrix)"
   ]
  },
  {
   "source": [
    "| NOTE: |\n",
    "| :---- |\n",
    "| What about the axis, boy? According to the theory, whenever you do a rotation about the y axis, the y coordinates of all the vectors should stay the same. That is consistent with the transformation matrix (the second column vector is $(0, 1, 0)), but the animation seem to be rotated around the z-axis: the z-axis of the teapot does not seem to change! |\n",
    "\n",
    "Let's investigate a little bit more what's going on, firstly, using our good-old `draw3d` to see if we get the same behavior."
   ],
   "cell_type": "markdown",
   "metadata": {}
  },
  {
   "cell_type": "code",
   "execution_count": 10,
   "metadata": {},
   "outputs": [
    {
     "output_type": "display_data",
     "data": {
      "text/plain": "<Figure size 432x288 with 1 Axes>",
      "image/svg+xml": "<?xml version=\"1.0\" encoding=\"utf-8\" standalone=\"no\"?>\n<!DOCTYPE svg PUBLIC \"-//W3C//DTD SVG 1.1//EN\"\n  \"http://www.w3.org/Graphics/SVG/1.1/DTD/svg11.dtd\">\n<!-- Created with matplotlib (https://matplotlib.org/) -->\n<svg height=\"231.84pt\" version=\"1.1\" viewBox=\"0 0 349.2 231.84\" width=\"349.2pt\" xmlns=\"http://www.w3.org/2000/svg\" xmlns:xlink=\"http://www.w3.org/1999/xlink\">\n <defs>\n  <style type=\"text/css\">\n*{stroke-linecap:butt;stroke-linejoin:round;}\n  </style>\n </defs>\n <g id=\"figure_1\">\n  <g id=\"patch_1\">\n   <path d=\"M 0 231.84 \nL 349.2 231.84 \nL 349.2 0 \nL 0 0 \nz\n\" style=\"fill:none;\"/>\n  </g>\n  <g id=\"patch_2\">\n   <path d=\"M 7.2 224.64 \nL 342 224.64 \nL 342 7.2 \nL 7.2 7.2 \nz\n\" style=\"fill:#ffffff;\"/>\n  </g>\n  <g id=\"pane3d_1\">\n   <g id=\"patch_3\">\n    <path d=\"M 51.582914 176.593423 \nL 147.404425 123.282062 \nL 145.809099 21.412801 \nL 44.64491 69.311962 \n\" style=\"fill:#f2f2f2;opacity:0.5;stroke:#f2f2f2;stroke-linejoin:miter;\"/>\n   </g>\n  </g>\n  <g id=\"pane3d_2\">\n   <g id=\"patch_4\">\n    <path d=\"M 147.404425 123.282062 \nL 302.626265 153.086553 \nL 309.120561 48.145466 \nL 145.809099 21.412801 \n\" style=\"fill:#e6e6e6;opacity:0.5;stroke:#e6e6e6;stroke-linejoin:miter;\"/>\n   </g>\n  </g>\n  <g id=\"pane3d_3\">\n   <g id=\"patch_5\">\n    <path d=\"M 51.582914 176.593423 \nL 214.897263 211.305609 \nL 302.626265 153.086553 \nL 147.404425 123.282062 \n\" style=\"fill:#ececec;opacity:0.5;stroke:#ececec;stroke-linejoin:miter;\"/>\n   </g>\n  </g>\n  <g id=\"axis3d_1\">\n   <g id=\"line2d_1\">\n    <path d=\"M 51.582914 176.593423 \nL 214.897263 211.305609 \n\" style=\"fill:none;stroke:#000000;stroke-linecap:square;stroke-width:0.8;\"/>\n   </g>\n   <g id=\"text_1\">\n    <!-- x -->\n    <defs>\n     <path d=\"M 54.890625 54.6875 \nL 35.109375 28.078125 \nL 55.90625 0 \nL 45.3125 0 \nL 29.390625 21.484375 \nL 13.484375 0 \nL 2.875 0 \nL 24.125 28.609375 \nL 4.6875 54.6875 \nL 15.28125 54.6875 \nL 29.78125 35.203125 \nL 44.28125 54.6875 \nz\n\" id=\"DejaVuSans-120\"/>\n    </defs>\n    <g transform=\"translate(111.516779 224.825263)scale(0.1 -0.1)\">\n     <use xlink:href=\"#DejaVuSans-120\"/>\n    </g>\n   </g>\n   <g id=\"Line3DCollection_1\">\n    <path d=\"M 61.539611 178.709702 \nL 156.897598 125.104867 \nL 155.776615 23.044396 \n\" style=\"fill:none;stroke:#b0b0b0;stroke-width:0.8;\"/>\n    <path d=\"M 83.587694 183.395985 \nL 177.905422 129.138626 \nL 177.843571 26.656565 \n\" style=\"fill:none;stroke:#b0b0b0;stroke-width:0.8;\"/>\n    <path d=\"M 105.915169 188.141651 \nL 199.160059 133.219776 \nL 200.183018 30.313338 \n\" style=\"fill:none;stroke:#b0b0b0;stroke-width:0.8;\"/>\n    <path d=\"M 128.527381 192.947838 \nL 220.665883 137.349158 \nL 222.800038 34.015547 \n\" style=\"fill:none;stroke:#b0b0b0;stroke-width:0.8;\"/>\n    <path d=\"M 151.429811 197.815711 \nL 242.427375 141.52763 \nL 245.699834 37.764045 \n\" style=\"fill:none;stroke:#b0b0b0;stroke-width:0.8;\"/>\n    <path d=\"M 174.628083 202.746464 \nL 264.44912 145.756074 \nL 268.887743 41.559704 \n\" style=\"fill:none;stroke:#b0b0b0;stroke-width:0.8;\"/>\n    <path d=\"M 198.127966 207.741324 \nL 286.735816 150.035392 \nL 292.369238 45.40342 \n\" style=\"fill:none;stroke:#b0b0b0;stroke-width:0.8;\"/>\n   </g>\n   <g id=\"xtick_1\">\n    <g id=\"line2d_2\">\n     <path d=\"M 62.361169 178.247869 \nL 59.893431 179.635091 \n\" style=\"fill:none;stroke:#000000;stroke-linecap:square;stroke-width:0.8;\"/>\n    </g>\n    <g id=\"text_2\">\n     <!-- −2 -->\n     <defs>\n      <path d=\"M 10.59375 35.5 \nL 73.1875 35.5 \nL 73.1875 27.203125 \nL 10.59375 27.203125 \nz\n\" id=\"DejaVuSans-8722\"/>\n      <path d=\"M 19.1875 8.296875 \nL 53.609375 8.296875 \nL 53.609375 0 \nL 7.328125 0 \nL 7.328125 8.296875 \nQ 12.9375 14.109375 22.625 23.890625 \nQ 32.328125 33.6875 34.8125 36.53125 \nQ 39.546875 41.84375 41.421875 45.53125 \nQ 43.3125 49.21875 43.3125 52.78125 \nQ 43.3125 58.59375 39.234375 62.25 \nQ 35.15625 65.921875 28.609375 65.921875 \nQ 23.96875 65.921875 18.8125 64.3125 \nQ 13.671875 62.703125 7.8125 59.421875 \nL 7.8125 69.390625 \nQ 13.765625 71.78125 18.9375 73 \nQ 24.125 74.21875 28.421875 74.21875 \nQ 39.75 74.21875 46.484375 68.546875 \nQ 53.21875 62.890625 53.21875 53.421875 \nQ 53.21875 48.921875 51.53125 44.890625 \nQ 49.859375 40.875 45.40625 35.40625 \nQ 44.1875 33.984375 37.640625 27.21875 \nQ 31.109375 20.453125 19.1875 8.296875 \nz\n\" id=\"DejaVuSans-50\"/>\n     </defs>\n     <g transform=\"translate(46.421865 199.10444)scale(0.1 -0.1)\">\n      <use xlink:href=\"#DejaVuSans-8722\"/>\n      <use x=\"83.789062\" xlink:href=\"#DejaVuSans-50\"/>\n     </g>\n    </g>\n   </g>\n   <g id=\"xtick_2\">\n    <g id=\"line2d_3\">\n     <path d=\"M 84.400655 182.928319 \nL 81.958721 184.33307 \n\" style=\"fill:none;stroke:#000000;stroke-linecap:square;stroke-width:0.8;\"/>\n    </g>\n    <g id=\"text_3\">\n     <!-- 0 -->\n     <defs>\n      <path d=\"M 31.78125 66.40625 \nQ 24.171875 66.40625 20.328125 58.90625 \nQ 16.5 51.421875 16.5 36.375 \nQ 16.5 21.390625 20.328125 13.890625 \nQ 24.171875 6.390625 31.78125 6.390625 \nQ 39.453125 6.390625 43.28125 13.890625 \nQ 47.125 21.390625 47.125 36.375 \nQ 47.125 51.421875 43.28125 58.90625 \nQ 39.453125 66.40625 31.78125 66.40625 \nz\nM 31.78125 74.21875 \nQ 44.046875 74.21875 50.515625 64.515625 \nQ 56.984375 54.828125 56.984375 36.375 \nQ 56.984375 17.96875 50.515625 8.265625 \nQ 44.046875 -1.421875 31.78125 -1.421875 \nQ 19.53125 -1.421875 13.0625 8.265625 \nQ 6.59375 17.96875 6.59375 36.375 \nQ 6.59375 54.828125 13.0625 64.515625 \nQ 19.53125 74.21875 31.78125 74.21875 \nz\n\" id=\"DejaVuSans-48\"/>\n     </defs>\n     <g transform=\"translate(72.656909 203.881232)scale(0.1 -0.1)\">\n      <use xlink:href=\"#DejaVuSans-48\"/>\n     </g>\n    </g>\n   </g>\n   <g id=\"xtick_3\">\n    <g id=\"line2d_4\">\n     <path d=\"M 106.719249 187.668043 \nL 104.303973 189.090657 \n\" style=\"fill:none;stroke:#000000;stroke-linecap:square;stroke-width:0.8;\"/>\n    </g>\n    <g id=\"text_4\">\n     <!-- 2 -->\n     <g transform=\"translate(94.982052 208.718683)scale(0.1 -0.1)\">\n      <use xlink:href=\"#DejaVuSans-50\"/>\n     </g>\n    </g>\n   </g>\n   <g id=\"xtick_4\">\n    <g id=\"line2d_5\">\n     <path d=\"M 129.322286 192.468173 \nL 126.93455 193.908993 \n\" style=\"fill:none;stroke:#000000;stroke-linecap:square;stroke-width:0.8;\"/>\n    </g>\n    <g id=\"text_5\">\n     <!-- 4 -->\n     <defs>\n      <path d=\"M 37.796875 64.3125 \nL 12.890625 25.390625 \nL 37.796875 25.390625 \nz\nM 35.203125 72.90625 \nL 47.609375 72.90625 \nL 47.609375 25.390625 \nL 58.015625 25.390625 \nL 58.015625 17.1875 \nL 47.609375 17.1875 \nL 47.609375 0 \nL 37.796875 0 \nL 37.796875 17.1875 \nL 4.890625 17.1875 \nL 4.890625 26.703125 \nz\n\" id=\"DejaVuSans-52\"/>\n     </defs>\n     <g transform=\"translate(117.592502 213.617955)scale(0.1 -0.1)\">\n      <use xlink:href=\"#DejaVuSans-52\"/>\n     </g>\n    </g>\n   </g>\n   <g id=\"xtick_5\">\n    <g id=\"line2d_6\">\n     <path d=\"M 152.215239 197.329871 \nL 149.855951 198.789248 \n\" style=\"fill:none;stroke:#000000;stroke-linecap:square;stroke-width:0.8;\"/>\n    </g>\n    <g id=\"text_6\">\n     <!-- 6 -->\n     <defs>\n      <path d=\"M 33.015625 40.375 \nQ 26.375 40.375 22.484375 35.828125 \nQ 18.609375 31.296875 18.609375 23.390625 \nQ 18.609375 15.53125 22.484375 10.953125 \nQ 26.375 6.390625 33.015625 6.390625 \nQ 39.65625 6.390625 43.53125 10.953125 \nQ 47.40625 15.53125 47.40625 23.390625 \nQ 47.40625 31.296875 43.53125 35.828125 \nQ 39.65625 40.375 33.015625 40.375 \nz\nM 52.59375 71.296875 \nL 52.59375 62.3125 \nQ 48.875 64.0625 45.09375 64.984375 \nQ 41.3125 65.921875 37.59375 65.921875 \nQ 27.828125 65.921875 22.671875 59.328125 \nQ 17.53125 52.734375 16.796875 39.40625 \nQ 19.671875 43.65625 24.015625 45.921875 \nQ 28.375 48.1875 33.59375 48.1875 \nQ 44.578125 48.1875 50.953125 41.515625 \nQ 57.328125 34.859375 57.328125 23.390625 \nQ 57.328125 12.15625 50.6875 5.359375 \nQ 44.046875 -1.421875 33.015625 -1.421875 \nQ 20.359375 -1.421875 13.671875 8.265625 \nQ 6.984375 17.96875 6.984375 36.375 \nQ 6.984375 53.65625 15.1875 63.9375 \nQ 23.390625 74.21875 37.203125 74.21875 \nQ 40.921875 74.21875 44.703125 73.484375 \nQ 48.484375 72.75 52.59375 71.296875 \nz\n\" id=\"DejaVuSans-54\"/>\n     </defs>\n     <g transform=\"translate(140.493766 218.580241)scale(0.1 -0.1)\">\n      <use xlink:href=\"#DejaVuSans-54\"/>\n     </g>\n    </g>\n   </g>\n   <g id=\"xtick_6\">\n    <g id=\"line2d_7\">\n     <path d=\"M 175.403721 202.25433 \nL 173.073819 203.732626 \n\" style=\"fill:none;stroke:#000000;stroke-linecap:square;stroke-width:0.8;\"/>\n    </g>\n    <g id=\"text_7\">\n     <!-- 8 -->\n     <defs>\n      <path d=\"M 31.78125 34.625 \nQ 24.75 34.625 20.71875 30.859375 \nQ 16.703125 27.09375 16.703125 20.515625 \nQ 16.703125 13.921875 20.71875 10.15625 \nQ 24.75 6.390625 31.78125 6.390625 \nQ 38.8125 6.390625 42.859375 10.171875 \nQ 46.921875 13.96875 46.921875 20.515625 \nQ 46.921875 27.09375 42.890625 30.859375 \nQ 38.875 34.625 31.78125 34.625 \nz\nM 21.921875 38.8125 \nQ 15.578125 40.375 12.03125 44.71875 \nQ 8.5 49.078125 8.5 55.328125 \nQ 8.5 64.0625 14.71875 69.140625 \nQ 20.953125 74.21875 31.78125 74.21875 \nQ 42.671875 74.21875 48.875 69.140625 \nQ 55.078125 64.0625 55.078125 55.328125 \nQ 55.078125 49.078125 51.53125 44.71875 \nQ 48 40.375 41.703125 38.8125 \nQ 48.828125 37.15625 52.796875 32.3125 \nQ 56.78125 27.484375 56.78125 20.515625 \nQ 56.78125 9.90625 50.3125 4.234375 \nQ 43.84375 -1.421875 31.78125 -1.421875 \nQ 19.734375 -1.421875 13.25 4.234375 \nQ 6.78125 9.90625 6.78125 20.515625 \nQ 6.78125 27.484375 10.78125 32.3125 \nQ 14.796875 37.15625 21.921875 38.8125 \nz\nM 18.3125 54.390625 \nQ 18.3125 48.734375 21.84375 45.5625 \nQ 25.390625 42.390625 31.78125 42.390625 \nQ 38.140625 42.390625 41.71875 45.5625 \nQ 45.3125 48.734375 45.3125 54.390625 \nQ 45.3125 60.0625 41.71875 63.234375 \nQ 38.140625 66.40625 31.78125 66.40625 \nQ 25.390625 66.40625 21.84375 63.234375 \nQ 18.3125 60.0625 18.3125 54.390625 \nz\n\" id=\"DejaVuSans-56\"/>\n     </defs>\n     <g transform=\"translate(163.691489 223.606765)scale(0.1 -0.1)\">\n      <use xlink:href=\"#DejaVuSans-56\"/>\n     </g>\n    </g>\n   </g>\n   <g id=\"xtick_7\">\n    <g id=\"line2d_8\">\n     <path d=\"M 198.893494 207.242773 \nL 196.593942 208.740357 \n\" style=\"fill:none;stroke:#000000;stroke-linecap:square;stroke-width:0.8;\"/>\n    </g>\n    <g id=\"text_8\">\n     <!-- 10 -->\n     <defs>\n      <path d=\"M 12.40625 8.296875 \nL 28.515625 8.296875 \nL 28.515625 63.921875 \nL 10.984375 60.40625 \nL 10.984375 69.390625 \nL 28.421875 72.90625 \nL 38.28125 72.90625 \nL 38.28125 8.296875 \nL 54.390625 8.296875 \nL 54.390625 0 \nL 12.40625 0 \nz\n\" id=\"DejaVuSans-49\"/>\n     </defs>\n     <g transform=\"translate(184.010216 228.698781)scale(0.1 -0.1)\">\n      <use xlink:href=\"#DejaVuSans-49\"/>\n      <use x=\"63.623047\" xlink:href=\"#DejaVuSans-48\"/>\n     </g>\n    </g>\n   </g>\n  </g>\n  <g id=\"axis3d_2\">\n   <g id=\"line2d_9\">\n    <path d=\"M 302.626265 153.086553 \nL 214.897263 211.305609 \n\" style=\"fill:none;stroke:#000000;stroke-linecap:square;stroke-width:0.8;\"/>\n   </g>\n   <g id=\"text_9\">\n    <!-- y -->\n    <defs>\n     <path d=\"M 32.171875 -5.078125 \nQ 28.375 -14.84375 24.75 -17.8125 \nQ 21.140625 -20.796875 15.09375 -20.796875 \nL 7.90625 -20.796875 \nL 7.90625 -13.28125 \nL 13.1875 -13.28125 \nQ 16.890625 -13.28125 18.9375 -11.515625 \nQ 21 -9.765625 23.484375 -3.21875 \nL 25.09375 0.875 \nL 2.984375 54.6875 \nL 12.5 54.6875 \nL 29.59375 11.921875 \nL 46.6875 54.6875 \nL 56.203125 54.6875 \nz\n\" id=\"DejaVuSans-121\"/>\n    </defs>\n    <g transform=\"translate(285.659129 207.381712)scale(0.1 -0.1)\">\n     <use xlink:href=\"#DejaVuSans-121\"/>\n    </g>\n   </g>\n   <g id=\"Line3DCollection_2\">\n    <path d=\"M 55.341632 64.247285 \nL 61.679441 170.976108 \nL 224.168871 205.15275 \n\" style=\"fill:none;stroke:#b0b0b0;stroke-width:0.8;\"/>\n    <path d=\"M 70.209651 57.207583 \nL 75.727032 163.160575 \nL 237.057815 196.599339 \n\" style=\"fill:none;stroke:#b0b0b0;stroke-width:0.8;\"/>\n    <path d=\"M 84.748993 50.323504 \nL 89.479648 155.509155 \nL 249.663833 188.233685 \n\" style=\"fill:none;stroke:#b0b0b0;stroke-width:0.8;\"/>\n    <path d=\"M 98.970437 43.589943 \nL 102.946484 148.016731 \nL 261.996139 180.049673 \n\" style=\"fill:none;stroke:#b0b0b0;stroke-width:0.8;\"/>\n    <path d=\"M 112.884298 37.002016 \nL 116.136356 140.678399 \nL 274.063551 172.041451 \n\" style=\"fill:none;stroke:#b0b0b0;stroke-width:0.8;\"/>\n    <path d=\"M 126.500445 30.555051 \nL 129.057721 133.489454 \nL 285.874514 164.203414 \n\" style=\"fill:none;stroke:#b0b0b0;stroke-width:0.8;\"/>\n    <path d=\"M 139.828335 24.244569 \nL 141.718696 126.445381 \nL 297.437117 156.530196 \n\" style=\"fill:none;stroke:#b0b0b0;stroke-width:0.8;\"/>\n   </g>\n   <g id=\"xtick_8\">\n    <g id=\"line2d_10\">\n     <path d=\"M 222.809145 204.866757 \nL 226.891352 205.725373 \n\" style=\"fill:none;stroke:#000000;stroke-linecap:square;stroke-width:0.8;\"/>\n    </g>\n    <g id=\"text_10\">\n     <!-- −10 -->\n     <g transform=\"translate(227.012243 223.931431)scale(0.1 -0.1)\">\n      <use xlink:href=\"#DejaVuSans-8722\"/>\n      <use x=\"83.789062\" xlink:href=\"#DejaVuSans-49\"/>\n      <use x=\"147.412109\" xlink:href=\"#DejaVuSans-48\"/>\n     </g>\n    </g>\n   </g>\n   <g id=\"xtick_9\">\n    <g id=\"line2d_11\">\n     <path d=\"M 235.708444 196.319657 \nL 239.759531 197.159319 \n\" style=\"fill:none;stroke:#000000;stroke-linecap:square;stroke-width:0.8;\"/>\n    </g>\n    <g id=\"text_11\">\n     <!-- −8 -->\n     <g transform=\"translate(242.926553 215.258871)scale(0.1 -0.1)\">\n      <use xlink:href=\"#DejaVuSans-8722\"/>\n      <use x=\"83.789062\" xlink:href=\"#DejaVuSans-56\"/>\n     </g>\n    </g>\n   </g>\n   <g id=\"xtick_10\">\n    <g id=\"line2d_12\">\n     <path d=\"M 248.324692 187.960108 \nL 252.345034 188.781436 \n\" style=\"fill:none;stroke:#000000;stroke-linecap:square;stroke-width:0.8;\"/>\n    </g>\n    <g id=\"text_12\">\n     <!-- −6 -->\n     <g transform=\"translate(255.380265 206.776578)scale(0.1 -0.1)\">\n      <use xlink:href=\"#DejaVuSans-8722\"/>\n      <use x=\"83.789062\" xlink:href=\"#DejaVuSans-54\"/>\n     </g>\n    </g>\n   </g>\n   <g id=\"xtick_11\">\n    <g id=\"line2d_13\">\n     <path d=\"M 260.667104 179.782003 \nL 264.657074 180.585591 \n\" style=\"fill:none;stroke:#000000;stroke-linecap:square;stroke-width:0.8;\"/>\n    </g>\n    <g id=\"text_13\">\n     <!-- −4 -->\n     <g transform=\"translate(267.563722 198.478356)scale(0.1 -0.1)\">\n      <use xlink:href=\"#DejaVuSans-8722\"/>\n      <use x=\"83.789062\" xlink:href=\"#DejaVuSans-52\"/>\n     </g>\n    </g>\n   </g>\n   <g id=\"xtick_12\">\n    <g id=\"line2d_14\">\n     <path d=\"M 272.744499 171.779498 \nL 276.704468 172.565915 \n\" style=\"fill:none;stroke:#000000;stroke-linecap:square;stroke-width:0.8;\"/>\n    </g>\n    <g id=\"text_14\">\n     <!-- −2 -->\n     <g transform=\"translate(279.485626 190.358279)scale(0.1 -0.1)\">\n      <use xlink:href=\"#DejaVuSans-8722\"/>\n      <use x=\"83.789062\" xlink:href=\"#DejaVuSans-50\"/>\n     </g>\n    </g>\n   </g>\n   <g id=\"xtick_13\">\n    <g id=\"line2d_15\">\n     <path d=\"M 284.565323 163.946998 \nL 288.495658 164.716789 \n\" style=\"fill:none;stroke:#000000;stroke-linecap:square;stroke-width:0.8;\"/>\n    </g>\n    <g id=\"text_15\">\n     <!-- 0 -->\n     <g transform=\"translate(295.344155 182.410672)scale(0.1 -0.1)\">\n      <use xlink:href=\"#DejaVuSans-48\"/>\n     </g>\n    </g>\n   </g>\n   <g id=\"xtick_14\">\n    <g id=\"line2d_16\">\n     <path d=\"M 296.137666 156.279142 \nL 300.038731 157.032828 \n\" style=\"fill:none;stroke:#000000;stroke-linecap:square;stroke-width:0.8;\"/>\n    </g>\n    <g id=\"text_16\">\n     <!-- 2 -->\n     <g transform=\"translate(306.767603 174.630097)scale(0.1 -0.1)\">\n      <use xlink:href=\"#DejaVuSans-50\"/>\n     </g>\n    </g>\n   </g>\n  </g>\n  <g id=\"axis3d_3\">\n   <g id=\"line2d_17\">\n    <path d=\"M 302.626265 153.086553 \nL 309.120561 48.145466 \n\" style=\"fill:none;stroke:#000000;stroke-linecap:square;stroke-width:0.8;\"/>\n   </g>\n   <g id=\"text_17\">\n    <!-- z -->\n    <defs>\n     <path d=\"M 5.515625 54.6875 \nL 48.1875 54.6875 \nL 48.1875 46.484375 \nL 14.40625 7.171875 \nL 48.1875 7.171875 \nL 48.1875 0 \nL 4.296875 0 \nL 4.296875 8.203125 \nL 38.09375 47.515625 \nL 5.515625 47.515625 \nz\n\" id=\"DejaVuSans-122\"/>\n    </defs>\n    <g transform=\"translate(346.246043 100.971155)scale(0.1 -0.1)\">\n     <use xlink:href=\"#DejaVuSans-122\"/>\n    </g>\n   </g>\n   <g id=\"Line3DCollection_3\">\n    <path d=\"M 303.020145 146.72187 \nL 147.30747 117.091031 \nL 51.162803 170.097309 \n\" style=\"fill:none;stroke:#b0b0b0;stroke-width:0.8;\"/>\n    <path d=\"M 303.893296 132.612657 \nL 147.092633 103.372606 \nL 50.231191 155.691908 \n\" style=\"fill:none;stroke:#b0b0b0;stroke-width:0.8;\"/>\n    <path d=\"M 304.778841 118.303165 \nL 146.874874 89.46766 \nL 49.285914 141.075214 \n\" style=\"fill:none;stroke:#b0b0b0;stroke-width:0.8;\"/>\n    <path d=\"M 305.677046 103.789098 \nL 146.654134 75.372361 \nL 48.32667 126.242544 \n\" style=\"fill:none;stroke:#b0b0b0;stroke-width:0.8;\"/>\n    <path d=\"M 306.588185 89.066038 \nL 146.430351 61.082774 \nL 47.353146 111.189076 \n\" style=\"fill:none;stroke:#b0b0b0;stroke-width:0.8;\"/>\n    <path d=\"M 307.512539 74.129438 \nL 146.203463 46.594855 \nL 46.365022 95.909843 \n\" style=\"fill:none;stroke:#b0b0b0;stroke-width:0.8;\"/>\n    <path d=\"M 308.450397 58.974618 \nL 145.973403 31.904445 \nL 45.361967 80.399726 \n\" style=\"fill:none;stroke:#b0b0b0;stroke-width:0.8;\"/>\n   </g>\n   <g id=\"xtick_15\">\n    <g id=\"line2d_18\">\n     <path d=\"M 301.720828 146.474621 \nL 305.621487 147.216884 \n\" style=\"fill:none;stroke:#000000;stroke-linecap:square;stroke-width:0.8;\"/>\n    </g>\n    <g id=\"text_18\">\n     <!-- −2 -->\n     <g transform=\"translate(315.099564 152.515062)scale(0.1 -0.1)\">\n      <use xlink:href=\"#DejaVuSans-8722\"/>\n      <use x=\"83.789062\" xlink:href=\"#DejaVuSans-50\"/>\n     </g>\n    </g>\n   </g>\n   <g id=\"xtick_16\">\n    <g id=\"line2d_19\">\n     <path d=\"M 302.58452 132.368598 \nL 306.513595 133.101288 \n\" style=\"fill:none;stroke:#000000;stroke-linecap:square;stroke-width:0.8;\"/>\n    </g>\n    <g id=\"text_19\">\n     <!-- 0 -->\n     <g transform=\"translate(320.297057 138.429168)scale(0.1 -0.1)\">\n      <use xlink:href=\"#DejaVuSans-48\"/>\n     </g>\n    </g>\n   </g>\n   <g id=\"xtick_17\">\n    <g id=\"line2d_20\">\n     <path d=\"M 303.460468 118.062411 \nL 307.418375 118.785181 \n\" style=\"fill:none;stroke:#000000;stroke-linecap:square;stroke-width:0.8;\"/>\n    </g>\n    <g id=\"text_20\">\n     <!-- 2 -->\n     <g transform=\"translate(321.318973 124.143838)scale(0.1 -0.1)\">\n      <use xlink:href=\"#DejaVuSans-50\"/>\n     </g>\n    </g>\n   </g>\n   <g id=\"xtick_18\">\n    <g id=\"line2d_21\">\n     <path d=\"M 304.348934 103.55177 \nL 308.336099 104.26426 \n\" style=\"fill:none;stroke:#000000;stroke-linecap:square;stroke-width:0.8;\"/>\n    </g>\n    <g id=\"text_21\">\n     <!-- 4 -->\n     <g transform=\"translate(322.355461 109.654809)scale(0.1 -0.1)\">\n      <use xlink:href=\"#DejaVuSans-52\"/>\n     </g>\n    </g>\n   </g>\n   <g id=\"xtick_19\">\n    <g id=\"line2d_22\">\n     <path d=\"M 305.250189 88.832259 \nL 309.267047 89.534097 \n\" style=\"fill:none;stroke:#000000;stroke-linecap:square;stroke-width:0.8;\"/>\n    </g>\n    <g id=\"text_22\">\n     <!-- 6 -->\n     <g transform=\"translate(323.406835 94.95769)scale(0.1 -0.1)\">\n      <use xlink:href=\"#DejaVuSans-54\"/>\n     </g>\n    </g>\n   </g>\n   <g id=\"xtick_20\">\n    <g id=\"line2d_23\">\n     <path d=\"M 306.164511 73.899337 \nL 310.211508 74.590137 \n\" style=\"fill:none;stroke:#000000;stroke-linecap:square;stroke-width:0.8;\"/>\n    </g>\n    <g id=\"text_23\">\n     <!-- 8 -->\n     <g transform=\"translate(324.473418 80.047968)scale(0.1 -0.1)\">\n      <use xlink:href=\"#DejaVuSans-56\"/>\n     </g>\n    </g>\n   </g>\n   <g id=\"xtick_21\">\n    <g id=\"line2d_24\">\n     <path d=\"M 307.092186 58.748327 \nL 311.169776 59.427692 \n\" style=\"fill:none;stroke:#000000;stroke-linecap:square;stroke-width:0.8;\"/>\n    </g>\n    <g id=\"text_24\">\n     <!-- 10 -->\n     <g transform=\"translate(322.374292 64.920994)scale(0.1 -0.1)\">\n      <use xlink:href=\"#DejaVuSans-49\"/>\n      <use x=\"63.623047\" xlink:href=\"#DejaVuSans-48\"/>\n     </g>\n    </g>\n   </g>\n  </g>\n  <g id=\"axes_1\">\n   <g id=\"patch_6\">\n    <path clip-path=\"url(#p60a3bf8d3c)\" d=\"M 161.56551 118.683516 \nQ 184.291447 111.303696 205.954011 104.269186 \n\" style=\"fill:none;stroke:#1f77b4;stroke-linecap:round;\"/>\n    <path clip-path=\"url(#p60a3bf8d3c)\" d=\"M 197.109718 102.935587 \nL 205.954011 104.269186 \nL 199.580557 110.544461 \nL 197.109718 102.935587 \nz\n\" style=\"fill:#1f77b4;stroke:#1f77b4;stroke-linecap:round;\"/>\n   </g>\n   <g id=\"line2d_25\">\n    <path clip-path=\"url(#p60a3bf8d3c)\" d=\"M 138.237699 115.225436 \nL 276.487097 141.527761 \n\" style=\"fill:none;stroke:#000000;stroke-linecap:square;stroke-width:1.5;\"/>\n   </g>\n   <g id=\"line2d_26\">\n    <path clip-path=\"url(#p60a3bf8d3c)\" d=\"M 89.078201 158.735278 \nL 172.244537 112.272151 \n\" style=\"fill:none;stroke:#000000;stroke-linecap:square;stroke-width:1.5;\"/>\n   </g>\n   <g id=\"line2d_27\">\n    <path clip-path=\"url(#p60a3bf8d3c)\" d=\"M 159.795963 133.234999 \nL 158.929393 42.871193 \n\" style=\"fill:none;stroke:#000000;stroke-linecap:square;stroke-width:1.5;\"/>\n   </g>\n   <g id=\"line2d_28\">\n    <path clip-path=\"url(#p60a3bf8d3c)\" d=\"M 92.62315 156.754796 \nL 207.800456 180.304403 \n\" style=\"fill:none;stroke:#808080;stroke-dasharray:5.55,2.4;stroke-dashoffset:0;stroke-width:1.5;\"/>\n   </g>\n   <g id=\"line2d_29\">\n    <path clip-path=\"url(#p60a3bf8d3c)\" d=\"M 158.965546 46.641039 \nL 89.350379 81.387682 \n\" style=\"fill:none;stroke:#808080;stroke-dasharray:5.55,2.4;stroke-dashoffset:0;stroke-width:1.5;\"/>\n   </g>\n   <g id=\"line2d_30\">\n    <path clip-path=\"url(#p60a3bf8d3c)\" d=\"M 158.965546 46.641039 \nL 274.137884 66.232103 \n\" style=\"fill:none;stroke:#808080;stroke-dasharray:5.55,2.4;stroke-dashoffset:0;stroke-width:1.5;\"/>\n   </g>\n   <g id=\"line2d_31\">\n    <path clip-path=\"url(#p60a3bf8d3c)\" d=\"M 92.62315 156.754796 \nL 89.350379 81.387682 \n\" style=\"fill:none;stroke:#808080;stroke-dasharray:5.55,2.4;stroke-dashoffset:0;stroke-width:1.5;\"/>\n   </g>\n   <g id=\"line2d_32\">\n    <path clip-path=\"url(#p60a3bf8d3c)\" d=\"M 270.752345 140.436709 \nL 207.800456 180.304403 \n\" style=\"fill:none;stroke:#808080;stroke-dasharray:5.55,2.4;stroke-dashoffset:0;stroke-width:1.5;\"/>\n   </g>\n   <g id=\"line2d_33\">\n    <path clip-path=\"url(#p60a3bf8d3c)\" d=\"M 270.752345 140.436709 \nL 274.137884 66.232103 \n\" style=\"fill:none;stroke:#808080;stroke-dasharray:5.55,2.4;stroke-dashoffset:0;stroke-width:1.5;\"/>\n   </g>\n   <g id=\"line2d_34\">\n    <path clip-path=\"url(#p60a3bf8d3c)\" d=\"M 89.350379 81.387682 \nL 208.922171 103.305332 \n\" style=\"fill:none;stroke:#808080;stroke-dasharray:5.55,2.4;stroke-dashoffset:0;stroke-width:1.5;\"/>\n   </g>\n   <g id=\"line2d_35\">\n    <path clip-path=\"url(#p60a3bf8d3c)\" d=\"M 274.137884 66.232103 \nL 208.922171 103.305332 \n\" style=\"fill:none;stroke:#808080;stroke-dasharray:5.55,2.4;stroke-dashoffset:0;stroke-width:1.5;\"/>\n   </g>\n   <g id=\"line2d_36\">\n    <path clip-path=\"url(#p60a3bf8d3c)\" d=\"M 207.800456 180.304403 \nL 208.922171 103.305332 \n\" style=\"fill:none;stroke:#808080;stroke-dasharray:5.55,2.4;stroke-dashoffset:0;stroke-width:1.5;\"/>\n   </g>\n   <g id=\"Path3DCollection_1\">\n    <defs>\n     <path d=\"M -2.236068 2.236068 \nL 2.236068 -2.236068 \nM -2.236068 -2.236068 \nL 2.236068 2.236068 \n\" id=\"m550648ba8f\" style=\"stroke:#000000;stroke-width:1.5;\"/>\n    </defs>\n    <g clip-path=\"url(#p60a3bf8d3c)\">\n     <use style=\"stroke:#000000;stroke-width:1.5;\" x=\"159.662344\" xlink:href=\"#m550648ba8f\" y=\"119.301533\"/>\n    </g>\n   </g>\n  </g>\n </g>\n <defs>\n  <clipPath id=\"p60a3bf8d3c\">\n   <rect height=\"217.44\" width=\"334.8\" x=\"7.2\" y=\"7.2\"/>\n  </clipPath>\n </defs>\n</svg>\n",
      "image/png": "[encoded data removed]"
     },
     "metadata": {
      "needs_background": "light"
     }
    }
   ],
   "source": [
    "from my_draw3d import draw3d, Arrow3D, Box3D, blue\n",
    "\n",
    "\n",
    "draw3d(\n",
    "    Arrow3D((10, -10, 10), color=blue),\n",
    "    Box3D(10, -10, 10)\n",
    "    )"
   ]
  },
  {
   "source": [
    "If we rotate the vector $ (10, -10, 10) $ about the z axis `pi / 4` the vector should be enclosed in the plane y = 0 (it should be (x, 0, 10), with x something greater than 10)."
   ],
   "cell_type": "markdown",
   "metadata": {}
  },
  {
   "cell_type": "code",
   "execution_count": 15,
   "metadata": {},
   "outputs": [
    {
     "output_type": "stream",
     "name": "stdout",
     "text": [
      "(14.142135623730951, 0.0, 10)\n"
     ]
    },
    {
     "output_type": "display_data",
     "data": {
      "text/plain": "<Figure size 432x288 with 1 Axes>",
      "image/svg+xml": "<?xml version=\"1.0\" encoding=\"utf-8\" standalone=\"no\"?>\n<!DOCTYPE svg PUBLIC \"-//W3C//DTD SVG 1.1//EN\"\n  \"http://www.w3.org/Graphics/SVG/1.1/DTD/svg11.dtd\">\n<!-- Created with matplotlib (https://matplotlib.org/) -->\n<svg height=\"231.84pt\" version=\"1.1\" viewBox=\"0 0 349.2 231.84\" width=\"349.2pt\" xmlns=\"http://www.w3.org/2000/svg\" xmlns:xlink=\"http://www.w3.org/1999/xlink\">\n <defs>\n  <style type=\"text/css\">\n*{stroke-linecap:butt;stroke-linejoin:round;}\n  </style>\n </defs>\n <g id=\"figure_1\">\n  <g id=\"patch_1\">\n   <path d=\"M 0 231.84 \nL 349.2 231.84 \nL 349.2 0 \nL 0 0 \nz\n\" style=\"fill:none;\"/>\n  </g>\n  <g id=\"patch_2\">\n   <path d=\"M 7.2 224.64 \nL 342 224.64 \nL 342 7.2 \nL 7.2 7.2 \nz\n\" style=\"fill:#ffffff;\"/>\n  </g>\n  <g id=\"pane3d_1\">\n   <g id=\"patch_3\">\n    <path d=\"M 51.582914 176.593423 \nL 147.404425 123.282062 \nL 145.809099 21.412801 \nL 44.64491 69.311962 \n\" style=\"fill:#f2f2f2;opacity:0.5;stroke:#f2f2f2;stroke-linejoin:miter;\"/>\n   </g>\n  </g>\n  <g id=\"pane3d_2\">\n   <g id=\"patch_4\">\n    <path d=\"M 147.404425 123.282062 \nL 302.626265 153.086553 \nL 309.120561 48.145466 \nL 145.809099 21.412801 \n\" style=\"fill:#e6e6e6;opacity:0.5;stroke:#e6e6e6;stroke-linejoin:miter;\"/>\n   </g>\n  </g>\n  <g id=\"pane3d_3\">\n   <g id=\"patch_5\">\n    <path d=\"M 51.582914 176.593423 \nL 214.897263 211.305609 \nL 302.626265 153.086553 \nL 147.404425 123.282062 \n\" style=\"fill:#ececec;opacity:0.5;stroke:#ececec;stroke-linejoin:miter;\"/>\n   </g>\n  </g>\n  <g id=\"axis3d_1\">\n   <g id=\"line2d_1\">\n    <path d=\"M 51.582914 176.593423 \nL 214.897263 211.305609 \n\" style=\"fill:none;stroke:#000000;stroke-linecap:square;stroke-width:0.8;\"/>\n   </g>\n   <g id=\"text_1\">\n    <!-- x -->\n    <defs>\n     <path d=\"M 54.890625 54.6875 \nL 35.109375 28.078125 \nL 55.90625 0 \nL 45.3125 0 \nL 29.390625 21.484375 \nL 13.484375 0 \nL 2.875 0 \nL 24.125 28.609375 \nL 4.6875 54.6875 \nL 15.28125 54.6875 \nL 29.78125 35.203125 \nL 44.28125 54.6875 \nz\n\" id=\"DejaVuSans-120\"/>\n    </defs>\n    <g transform=\"translate(111.516779 224.825263)scale(0.1 -0.1)\">\n     <use xlink:href=\"#DejaVuSans-120\"/>\n    </g>\n   </g>\n   <g id=\"Line3DCollection_1\">\n    <path d=\"M 57.480686 177.846985 \nL 153.028102 124.361877 \nL 151.713452 22.379292 \n\" style=\"fill:none;stroke:#b0b0b0;stroke-width:0.8;\"/>\n    <path d=\"M 77.869951 182.180688 \nL 172.459279 128.0929 \nL 172.121607 25.719929 \n\" style=\"fill:none;stroke:#b0b0b0;stroke-width:0.8;\"/>\n    <path d=\"M 98.498314 186.565211 \nL 192.101748 131.864494 \nL 192.762983 29.098743 \n\" style=\"fill:none;stroke:#b0b0b0;stroke-width:0.8;\"/>\n    <path d=\"M 119.370005 191.001454 \nL 211.958973 135.677324 \nL 213.641602 32.516391 \n\" style=\"fill:none;stroke:#b0b0b0;stroke-width:0.8;\"/>\n    <path d=\"M 140.489355 195.490335 \nL 232.034497 139.53207 \nL 234.761578 35.973547 \n\" style=\"fill:none;stroke:#b0b0b0;stroke-width:0.8;\"/>\n    <path d=\"M 161.860799 200.032799 \nL 252.331938 143.429427 \nL 256.12712 39.470901 \n\" style=\"fill:none;stroke:#b0b0b0;stroke-width:0.8;\"/>\n    <path d=\"M 183.488876 204.62981 \nL 272.854997 147.370105 \nL 277.742536 43.009156 \n\" style=\"fill:none;stroke:#b0b0b0;stroke-width:0.8;\"/>\n    <path d=\"M 205.378238 209.282357 \nL 293.607456 151.354831 \nL 299.612235 46.589035 \n\" style=\"fill:none;stroke:#b0b0b0;stroke-width:0.8;\"/>\n   </g>\n   <g id=\"xtick_1\">\n    <g id=\"line2d_2\">\n     <path d=\"M 58.303808 177.386221 \nL 55.831375 178.770228 \n\" style=\"fill:none;stroke:#000000;stroke-linecap:square;stroke-width:0.8;\"/>\n    </g>\n    <g id=\"text_2\">\n     <!-- −2.5 -->\n     <defs>\n      <path d=\"M 10.59375 35.5 \nL 73.1875 35.5 \nL 73.1875 27.203125 \nL 10.59375 27.203125 \nz\n\" id=\"DejaVuSans-8722\"/>\n      <path d=\"M 19.1875 8.296875 \nL 53.609375 8.296875 \nL 53.609375 0 \nL 7.328125 0 \nL 7.328125 8.296875 \nQ 12.9375 14.109375 22.625 23.890625 \nQ 32.328125 33.6875 34.8125 36.53125 \nQ 39.546875 41.84375 41.421875 45.53125 \nQ 43.3125 49.21875 43.3125 52.78125 \nQ 43.3125 58.59375 39.234375 62.25 \nQ 35.15625 65.921875 28.609375 65.921875 \nQ 23.96875 65.921875 18.8125 64.3125 \nQ 13.671875 62.703125 7.8125 59.421875 \nL 7.8125 69.390625 \nQ 13.765625 71.78125 18.9375 73 \nQ 24.125 74.21875 28.421875 74.21875 \nQ 39.75 74.21875 46.484375 68.546875 \nQ 53.21875 62.890625 53.21875 53.421875 \nQ 53.21875 48.921875 51.53125 44.890625 \nQ 49.859375 40.875 45.40625 35.40625 \nQ 44.1875 33.984375 37.640625 27.21875 \nQ 31.109375 20.453125 19.1875 8.296875 \nz\n\" id=\"DejaVuSans-50\"/>\n      <path d=\"M 10.6875 12.40625 \nL 21 12.40625 \nL 21 0 \nL 10.6875 0 \nz\n\" id=\"DejaVuSans-46\"/>\n      <path d=\"M 10.796875 72.90625 \nL 49.515625 72.90625 \nL 49.515625 64.59375 \nL 19.828125 64.59375 \nL 19.828125 46.734375 \nQ 21.96875 47.46875 24.109375 47.828125 \nQ 26.265625 48.1875 28.421875 48.1875 \nQ 40.625 48.1875 47.75 41.5 \nQ 54.890625 34.8125 54.890625 23.390625 \nQ 54.890625 11.625 47.5625 5.09375 \nQ 40.234375 -1.421875 26.90625 -1.421875 \nQ 22.3125 -1.421875 17.546875 -0.640625 \nQ 12.796875 0.140625 7.71875 1.703125 \nL 7.71875 11.625 \nQ 12.109375 9.234375 16.796875 8.0625 \nQ 21.484375 6.890625 26.703125 6.890625 \nQ 35.15625 6.890625 40.078125 11.328125 \nQ 45.015625 15.765625 45.015625 23.390625 \nQ 45.015625 31 40.078125 35.4375 \nQ 35.15625 39.890625 26.703125 39.890625 \nQ 22.75 39.890625 18.8125 39.015625 \nQ 14.890625 38.140625 10.796875 36.28125 \nz\n\" id=\"DejaVuSans-53\"/>\n     </defs>\n     <g transform=\"translate(37.593221 198.225073)scale(0.1 -0.1)\">\n      <use xlink:href=\"#DejaVuSans-8722\"/>\n      <use x=\"83.789062\" xlink:href=\"#DejaVuSans-50\"/>\n      <use x=\"147.412109\" xlink:href=\"#DejaVuSans-46\"/>\n      <use x=\"179.199219\" xlink:href=\"#DejaVuSans-53\"/>\n     </g>\n    </g>\n   </g>\n   <g id=\"xtick_2\">\n    <g id=\"line2d_3\">\n     <path d=\"M 78.685158 181.714539 \nL 76.236482 183.114733 \n\" style=\"fill:none;stroke:#000000;stroke-linecap:square;stroke-width:0.8;\"/>\n    </g>\n    <g id=\"text_3\">\n     <!-- 0.0 -->\n     <defs>\n      <path d=\"M 31.78125 66.40625 \nQ 24.171875 66.40625 20.328125 58.90625 \nQ 16.5 51.421875 16.5 36.375 \nQ 16.5 21.390625 20.328125 13.890625 \nQ 24.171875 6.390625 31.78125 6.390625 \nQ 39.453125 6.390625 43.28125 13.890625 \nQ 47.125 21.390625 47.125 36.375 \nQ 47.125 51.421875 43.28125 58.90625 \nQ 39.453125 66.40625 31.78125 66.40625 \nz\nM 31.78125 74.21875 \nQ 44.046875 74.21875 50.515625 64.515625 \nQ 56.984375 54.828125 56.984375 36.375 \nQ 56.984375 17.96875 50.515625 8.265625 \nQ 44.046875 -1.421875 31.78125 -1.421875 \nQ 19.53125 -1.421875 13.0625 8.265625 \nQ 6.59375 17.96875 6.59375 36.375 \nQ 6.59375 54.828125 13.0625 64.515625 \nQ 19.53125 74.21875 31.78125 74.21875 \nz\n\" id=\"DejaVuSans-48\"/>\n     </defs>\n     <g transform=\"translate(62.169546 202.642452)scale(0.1 -0.1)\">\n      <use xlink:href=\"#DejaVuSans-48\"/>\n      <use x=\"63.623047\" xlink:href=\"#DejaVuSans-46\"/>\n      <use x=\"95.410156\" xlink:href=\"#DejaVuSans-48\"/>\n     </g>\n    </g>\n   </g>\n   <g id=\"xtick_3\">\n    <g id=\"line2d_4\">\n     <path d=\"M 99.305364 186.093581 \nL 96.881173 187.510249 \n\" style=\"fill:none;stroke:#000000;stroke-linecap:square;stroke-width:0.8;\"/>\n    </g>\n    <g id=\"text_4\">\n     <!-- 2.5 -->\n     <g transform=\"translate(82.795594 207.11174)scale(0.1 -0.1)\">\n      <use xlink:href=\"#DejaVuSans-50\"/>\n      <use x=\"63.623047\" xlink:href=\"#DejaVuSans-46\"/>\n      <use x=\"95.410156\" xlink:href=\"#DejaVuSans-53\"/>\n     </g>\n    </g>\n   </g>\n   <g id=\"xtick_4\">\n    <g id=\"line2d_5\">\n     <path d=\"M 120.168647 190.524246 \nL 117.769693 191.957679 \n\" style=\"fill:none;stroke:#000000;stroke-linecap:square;stroke-width:0.8;\"/>\n    </g>\n    <g id=\"text_5\">\n     <!-- 5.0 -->\n     <g transform=\"translate(103.665454 211.633858)scale(0.1 -0.1)\">\n      <use xlink:href=\"#DejaVuSans-53\"/>\n      <use x=\"63.623047\" xlink:href=\"#DejaVuSans-46\"/>\n      <use x=\"95.410156\" xlink:href=\"#DejaVuSans-48\"/>\n     </g>\n    </g>\n   </g>\n   <g id=\"xtick_5\">\n    <g id=\"line2d_6\">\n     <path d=\"M 141.279333 195.00745 \nL 138.906386 196.457948 \n\" style=\"fill:none;stroke:#000000;stroke-linecap:square;stroke-width:0.8;\"/>\n    </g>\n    <g id=\"text_6\">\n     <!-- 7.5 -->\n     <defs>\n      <path d=\"M 8.203125 72.90625 \nL 55.078125 72.90625 \nL 55.078125 68.703125 \nL 28.609375 0 \nL 18.3125 0 \nL 43.21875 64.59375 \nL 8.203125 64.59375 \nz\n\" id=\"DejaVuSans-55\"/>\n     </defs>\n     <g transform=\"translate(124.783477 216.209748)scale(0.1 -0.1)\">\n      <use xlink:href=\"#DejaVuSans-55\"/>\n      <use x=\"63.623047\" xlink:href=\"#DejaVuSans-46\"/>\n      <use x=\"95.410156\" xlink:href=\"#DejaVuSans-53\"/>\n     </g>\n    </g>\n   </g>\n   <g id=\"xtick_6\">\n    <g id=\"line2d_7\">\n     <path d=\"M 162.641848 199.544135 \nL 160.295702 201.012003 \n\" style=\"fill:none;stroke:#000000;stroke-linecap:square;stroke-width:0.8;\"/>\n    </g>\n    <g id=\"text_7\">\n     <!-- 10.0 -->\n     <defs>\n      <path d=\"M 12.40625 8.296875 \nL 28.515625 8.296875 \nL 28.515625 63.921875 \nL 10.984375 60.40625 \nL 10.984375 69.390625 \nL 28.421875 72.90625 \nL 38.28125 72.90625 \nL 38.28125 8.296875 \nL 54.390625 8.296875 \nL 54.390625 0 \nL 12.40625 0 \nz\n\" id=\"DejaVuSans-49\"/>\n     </defs>\n     <g transform=\"translate(142.972865 220.840375)scale(0.1 -0.1)\">\n      <use xlink:href=\"#DejaVuSans-49\"/>\n      <use x=\"63.623047\" xlink:href=\"#DejaVuSans-48\"/>\n      <use x=\"127.246094\" xlink:href=\"#DejaVuSans-46\"/>\n      <use x=\"159.033203\" xlink:href=\"#DejaVuSans-48\"/>\n     </g>\n    </g>\n   </g>\n   <g id=\"xtick_7\">\n    <g id=\"line2d_8\">\n     <path d=\"M 184.260726 204.135262 \nL 181.942198 205.620816 \n\" style=\"fill:none;stroke:#000000;stroke-linecap:square;stroke-width:0.8;\"/>\n    </g>\n    <g id=\"text_8\">\n     <!-- 12.5 -->\n     <g transform=\"translate(164.600678 225.526728)scale(0.1 -0.1)\">\n      <use xlink:href=\"#DejaVuSans-49\"/>\n      <use x=\"63.623047\" xlink:href=\"#DejaVuSans-50\"/>\n      <use x=\"127.246094\" xlink:href=\"#DejaVuSans-46\"/>\n      <use x=\"159.033203\" xlink:href=\"#DejaVuSans-53\"/>\n     </g>\n    </g>\n   </g>\n   <g id=\"xtick_8\">\n    <g id=\"line2d_9\">\n     <path d=\"M 206.140608 208.781818 \nL 203.850539 210.285379 \n\" style=\"fill:none;stroke:#000000;stroke-linecap:square;stroke-width:0.8;\"/>\n    </g>\n    <g id=\"text_9\">\n     <!-- 15.0 -->\n     <g transform=\"translate(186.490337 230.269817)scale(0.1 -0.1)\">\n      <use xlink:href=\"#DejaVuSans-49\"/>\n      <use x=\"63.623047\" xlink:href=\"#DejaVuSans-53\"/>\n      <use x=\"127.246094\" xlink:href=\"#DejaVuSans-46\"/>\n      <use x=\"159.033203\" xlink:href=\"#DejaVuSans-48\"/>\n     </g>\n    </g>\n   </g>\n  </g>\n  <g id=\"axis3d_2\">\n   <g id=\"line2d_10\">\n    <path d=\"M 302.626265 153.086553 \nL 214.897263 211.305609 \n\" style=\"fill:none;stroke:#000000;stroke-linecap:square;stroke-width:0.8;\"/>\n   </g>\n   <g id=\"text_10\">\n    <!-- y -->\n    <defs>\n     <path d=\"M 32.171875 -5.078125 \nQ 28.375 -14.84375 24.75 -17.8125 \nQ 21.140625 -20.796875 15.09375 -20.796875 \nL 7.90625 -20.796875 \nL 7.90625 -13.28125 \nL 13.1875 -13.28125 \nQ 16.890625 -13.28125 18.9375 -11.515625 \nQ 21 -9.765625 23.484375 -3.21875 \nL 25.09375 0.875 \nL 2.984375 54.6875 \nL 12.5 54.6875 \nL 29.59375 11.921875 \nL 46.6875 54.6875 \nL 56.203125 54.6875 \nz\n\" id=\"DejaVuSans-121\"/>\n    </defs>\n    <g transform=\"translate(285.659129 207.381712)scale(0.1 -0.1)\">\n     <use xlink:href=\"#DejaVuSans-121\"/>\n    </g>\n   </g>\n   <g id=\"Line3DCollection_2\">\n    <path d=\"M 55.341632 64.247285 \nL 61.679441 170.976108 \nL 224.168871 205.15275 \n\" style=\"fill:none;stroke:#b0b0b0;stroke-width:0.8;\"/>\n    <path d=\"M 70.209651 57.207583 \nL 75.727032 163.160575 \nL 237.057815 196.599339 \n\" style=\"fill:none;stroke:#b0b0b0;stroke-width:0.8;\"/>\n    <path d=\"M 84.748993 50.323504 \nL 89.479648 155.509155 \nL 249.663833 188.233685 \n\" style=\"fill:none;stroke:#b0b0b0;stroke-width:0.8;\"/>\n    <path d=\"M 98.970437 43.589943 \nL 102.946484 148.016731 \nL 261.996139 180.049673 \n\" style=\"fill:none;stroke:#b0b0b0;stroke-width:0.8;\"/>\n    <path d=\"M 112.884298 37.002016 \nL 116.136356 140.678399 \nL 274.063551 172.041451 \n\" style=\"fill:none;stroke:#b0b0b0;stroke-width:0.8;\"/>\n    <path d=\"M 126.500445 30.555051 \nL 129.057721 133.489454 \nL 285.874514 164.203414 \n\" style=\"fill:none;stroke:#b0b0b0;stroke-width:0.8;\"/>\n    <path d=\"M 139.828335 24.244569 \nL 141.718696 126.445381 \nL 297.437117 156.530196 \n\" style=\"fill:none;stroke:#b0b0b0;stroke-width:0.8;\"/>\n   </g>\n   <g id=\"xtick_9\">\n    <g id=\"line2d_11\">\n     <path d=\"M 222.809145 204.866757 \nL 226.891352 205.725373 \n\" style=\"fill:none;stroke:#000000;stroke-linecap:square;stroke-width:0.8;\"/>\n    </g>\n    <g id=\"text_11\">\n     <!-- −10 -->\n     <g transform=\"translate(227.012243 223.931431)scale(0.1 -0.1)\">\n      <use xlink:href=\"#DejaVuSans-8722\"/>\n      <use x=\"83.789062\" xlink:href=\"#DejaVuSans-49\"/>\n      <use x=\"147.412109\" xlink:href=\"#DejaVuSans-48\"/>\n     </g>\n    </g>\n   </g>\n   <g id=\"xtick_10\">\n    <g id=\"line2d_12\">\n     <path d=\"M 235.708444 196.319657 \nL 239.759531 197.159319 \n\" style=\"fill:none;stroke:#000000;stroke-linecap:square;stroke-width:0.8;\"/>\n    </g>\n    <g id=\"text_12\">\n     <!-- −8 -->\n     <defs>\n      <path d=\"M 31.78125 34.625 \nQ 24.75 34.625 20.71875 30.859375 \nQ 16.703125 27.09375 16.703125 20.515625 \nQ 16.703125 13.921875 20.71875 10.15625 \nQ 24.75 6.390625 31.78125 6.390625 \nQ 38.8125 6.390625 42.859375 10.171875 \nQ 46.921875 13.96875 46.921875 20.515625 \nQ 46.921875 27.09375 42.890625 30.859375 \nQ 38.875 34.625 31.78125 34.625 \nz\nM 21.921875 38.8125 \nQ 15.578125 40.375 12.03125 44.71875 \nQ 8.5 49.078125 8.5 55.328125 \nQ 8.5 64.0625 14.71875 69.140625 \nQ 20.953125 74.21875 31.78125 74.21875 \nQ 42.671875 74.21875 48.875 69.140625 \nQ 55.078125 64.0625 55.078125 55.328125 \nQ 55.078125 49.078125 51.53125 44.71875 \nQ 48 40.375 41.703125 38.8125 \nQ 48.828125 37.15625 52.796875 32.3125 \nQ 56.78125 27.484375 56.78125 20.515625 \nQ 56.78125 9.90625 50.3125 4.234375 \nQ 43.84375 -1.421875 31.78125 -1.421875 \nQ 19.734375 -1.421875 13.25 4.234375 \nQ 6.78125 9.90625 6.78125 20.515625 \nQ 6.78125 27.484375 10.78125 32.3125 \nQ 14.796875 37.15625 21.921875 38.8125 \nz\nM 18.3125 54.390625 \nQ 18.3125 48.734375 21.84375 45.5625 \nQ 25.390625 42.390625 31.78125 42.390625 \nQ 38.140625 42.390625 41.71875 45.5625 \nQ 45.3125 48.734375 45.3125 54.390625 \nQ 45.3125 60.0625 41.71875 63.234375 \nQ 38.140625 66.40625 31.78125 66.40625 \nQ 25.390625 66.40625 21.84375 63.234375 \nQ 18.3125 60.0625 18.3125 54.390625 \nz\n\" id=\"DejaVuSans-56\"/>\n     </defs>\n     <g transform=\"translate(242.926553 215.258871)scale(0.1 -0.1)\">\n      <use xlink:href=\"#DejaVuSans-8722\"/>\n      <use x=\"83.789062\" xlink:href=\"#DejaVuSans-56\"/>\n     </g>\n    </g>\n   </g>\n   <g id=\"xtick_11\">\n    <g id=\"line2d_13\">\n     <path d=\"M 248.324692 187.960108 \nL 252.345034 188.781436 \n\" style=\"fill:none;stroke:#000000;stroke-linecap:square;stroke-width:0.8;\"/>\n    </g>\n    <g id=\"text_13\">\n     <!-- −6 -->\n     <defs>\n      <path d=\"M 33.015625 40.375 \nQ 26.375 40.375 22.484375 35.828125 \nQ 18.609375 31.296875 18.609375 23.390625 \nQ 18.609375 15.53125 22.484375 10.953125 \nQ 26.375 6.390625 33.015625 6.390625 \nQ 39.65625 6.390625 43.53125 10.953125 \nQ 47.40625 15.53125 47.40625 23.390625 \nQ 47.40625 31.296875 43.53125 35.828125 \nQ 39.65625 40.375 33.015625 40.375 \nz\nM 52.59375 71.296875 \nL 52.59375 62.3125 \nQ 48.875 64.0625 45.09375 64.984375 \nQ 41.3125 65.921875 37.59375 65.921875 \nQ 27.828125 65.921875 22.671875 59.328125 \nQ 17.53125 52.734375 16.796875 39.40625 \nQ 19.671875 43.65625 24.015625 45.921875 \nQ 28.375 48.1875 33.59375 48.1875 \nQ 44.578125 48.1875 50.953125 41.515625 \nQ 57.328125 34.859375 57.328125 23.390625 \nQ 57.328125 12.15625 50.6875 5.359375 \nQ 44.046875 -1.421875 33.015625 -1.421875 \nQ 20.359375 -1.421875 13.671875 8.265625 \nQ 6.984375 17.96875 6.984375 36.375 \nQ 6.984375 53.65625 15.1875 63.9375 \nQ 23.390625 74.21875 37.203125 74.21875 \nQ 40.921875 74.21875 44.703125 73.484375 \nQ 48.484375 72.75 52.59375 71.296875 \nz\n\" id=\"DejaVuSans-54\"/>\n     </defs>\n     <g transform=\"translate(255.380265 206.776578)scale(0.1 -0.1)\">\n      <use xlink:href=\"#DejaVuSans-8722\"/>\n      <use x=\"83.789062\" xlink:href=\"#DejaVuSans-54\"/>\n     </g>\n    </g>\n   </g>\n   <g id=\"xtick_12\">\n    <g id=\"line2d_14\">\n     <path d=\"M 260.667104 179.782003 \nL 264.657074 180.585591 \n\" style=\"fill:none;stroke:#000000;stroke-linecap:square;stroke-width:0.8;\"/>\n    </g>\n    <g id=\"text_14\">\n     <!-- −4 -->\n     <defs>\n      <path d=\"M 37.796875 64.3125 \nL 12.890625 25.390625 \nL 37.796875 25.390625 \nz\nM 35.203125 72.90625 \nL 47.609375 72.90625 \nL 47.609375 25.390625 \nL 58.015625 25.390625 \nL 58.015625 17.1875 \nL 47.609375 17.1875 \nL 47.609375 0 \nL 37.796875 0 \nL 37.796875 17.1875 \nL 4.890625 17.1875 \nL 4.890625 26.703125 \nz\n\" id=\"DejaVuSans-52\"/>\n     </defs>\n     <g transform=\"translate(267.563722 198.478356)scale(0.1 -0.1)\">\n      <use xlink:href=\"#DejaVuSans-8722\"/>\n      <use x=\"83.789062\" xlink:href=\"#DejaVuSans-52\"/>\n     </g>\n    </g>\n   </g>\n   <g id=\"xtick_13\">\n    <g id=\"line2d_15\">\n     <path d=\"M 272.744499 171.779498 \nL 276.704468 172.565915 \n\" style=\"fill:none;stroke:#000000;stroke-linecap:square;stroke-width:0.8;\"/>\n    </g>\n    <g id=\"text_15\">\n     <!-- −2 -->\n     <g transform=\"translate(279.485626 190.358279)scale(0.1 -0.1)\">\n      <use xlink:href=\"#DejaVuSans-8722\"/>\n      <use x=\"83.789062\" xlink:href=\"#DejaVuSans-50\"/>\n     </g>\n    </g>\n   </g>\n   <g id=\"xtick_14\">\n    <g id=\"line2d_16\">\n     <path d=\"M 284.565323 163.946998 \nL 288.495658 164.716789 \n\" style=\"fill:none;stroke:#000000;stroke-linecap:square;stroke-width:0.8;\"/>\n    </g>\n    <g id=\"text_16\">\n     <!-- 0 -->\n     <g transform=\"translate(295.344155 182.410672)scale(0.1 -0.1)\">\n      <use xlink:href=\"#DejaVuSans-48\"/>\n     </g>\n    </g>\n   </g>\n   <g id=\"xtick_15\">\n    <g id=\"line2d_17\">\n     <path d=\"M 296.137666 156.279142 \nL 300.038731 157.032828 \n\" style=\"fill:none;stroke:#000000;stroke-linecap:square;stroke-width:0.8;\"/>\n    </g>\n    <g id=\"text_17\">\n     <!-- 2 -->\n     <g transform=\"translate(306.767603 174.630097)scale(0.1 -0.1)\">\n      <use xlink:href=\"#DejaVuSans-50\"/>\n     </g>\n    </g>\n   </g>\n  </g>\n  <g id=\"axis3d_3\">\n   <g id=\"line2d_18\">\n    <path d=\"M 302.626265 153.086553 \nL 309.120561 48.145466 \n\" style=\"fill:none;stroke:#000000;stroke-linecap:square;stroke-width:0.8;\"/>\n   </g>\n   <g id=\"text_18\">\n    <!-- z -->\n    <defs>\n     <path d=\"M 5.515625 54.6875 \nL 48.1875 54.6875 \nL 48.1875 46.484375 \nL 14.40625 7.171875 \nL 48.1875 7.171875 \nL 48.1875 0 \nL 4.296875 0 \nL 4.296875 8.203125 \nL 38.09375 47.515625 \nL 5.515625 47.515625 \nz\n\" id=\"DejaVuSans-122\"/>\n    </defs>\n    <g transform=\"translate(346.246043 100.971155)scale(0.1 -0.1)\">\n     <use xlink:href=\"#DejaVuSans-122\"/>\n    </g>\n   </g>\n   <g id=\"Line3DCollection_3\">\n    <path d=\"M 303.020145 146.72187 \nL 147.30747 117.091031 \nL 51.162803 170.097309 \n\" style=\"fill:none;stroke:#b0b0b0;stroke-width:0.8;\"/>\n    <path d=\"M 303.893296 132.612657 \nL 147.092633 103.372606 \nL 50.231191 155.691908 \n\" style=\"fill:none;stroke:#b0b0b0;stroke-width:0.8;\"/>\n    <path d=\"M 304.778841 118.303165 \nL 146.874874 89.46766 \nL 49.285914 141.075214 \n\" style=\"fill:none;stroke:#b0b0b0;stroke-width:0.8;\"/>\n    <path d=\"M 305.677046 103.789098 \nL 146.654134 75.372361 \nL 48.32667 126.242544 \n\" style=\"fill:none;stroke:#b0b0b0;stroke-width:0.8;\"/>\n    <path d=\"M 306.588185 89.066038 \nL 146.430351 61.082774 \nL 47.353146 111.189076 \n\" style=\"fill:none;stroke:#b0b0b0;stroke-width:0.8;\"/>\n    <path d=\"M 307.512539 74.129438 \nL 146.203463 46.594855 \nL 46.365022 95.909843 \n\" style=\"fill:none;stroke:#b0b0b0;stroke-width:0.8;\"/>\n    <path d=\"M 308.450397 58.974618 \nL 145.973403 31.904445 \nL 45.361967 80.399726 \n\" style=\"fill:none;stroke:#b0b0b0;stroke-width:0.8;\"/>\n   </g>\n   <g id=\"xtick_16\">\n    <g id=\"line2d_19\">\n     <path d=\"M 301.720828 146.474621 \nL 305.621487 147.216884 \n\" style=\"fill:none;stroke:#000000;stroke-linecap:square;stroke-width:0.8;\"/>\n    </g>\n    <g id=\"text_19\">\n     <!-- −2 -->\n     <g transform=\"translate(315.099564 152.515062)scale(0.1 -0.1)\">\n      <use xlink:href=\"#DejaVuSans-8722\"/>\n      <use x=\"83.789062\" xlink:href=\"#DejaVuSans-50\"/>\n     </g>\n    </g>\n   </g>\n   <g id=\"xtick_17\">\n    <g id=\"line2d_20\">\n     <path d=\"M 302.58452 132.368598 \nL 306.513595 133.101288 \n\" style=\"fill:none;stroke:#000000;stroke-linecap:square;stroke-width:0.8;\"/>\n    </g>\n    <g id=\"text_20\">\n     <!-- 0 -->\n     <g transform=\"translate(320.297057 138.429168)scale(0.1 -0.1)\">\n      <use xlink:href=\"#DejaVuSans-48\"/>\n     </g>\n    </g>\n   </g>\n   <g id=\"xtick_18\">\n    <g id=\"line2d_21\">\n     <path d=\"M 303.460468 118.062411 \nL 307.418375 118.785181 \n\" style=\"fill:none;stroke:#000000;stroke-linecap:square;stroke-width:0.8;\"/>\n    </g>\n    <g id=\"text_21\">\n     <!-- 2 -->\n     <g transform=\"translate(321.318973 124.143838)scale(0.1 -0.1)\">\n      <use xlink:href=\"#DejaVuSans-50\"/>\n     </g>\n    </g>\n   </g>\n   <g id=\"xtick_19\">\n    <g id=\"line2d_22\">\n     <path d=\"M 304.348934 103.55177 \nL 308.336099 104.26426 \n\" style=\"fill:none;stroke:#000000;stroke-linecap:square;stroke-width:0.8;\"/>\n    </g>\n    <g id=\"text_22\">\n     <!-- 4 -->\n     <g transform=\"translate(322.355461 109.654809)scale(0.1 -0.1)\">\n      <use xlink:href=\"#DejaVuSans-52\"/>\n     </g>\n    </g>\n   </g>\n   <g id=\"xtick_20\">\n    <g id=\"line2d_23\">\n     <path d=\"M 305.250189 88.832259 \nL 309.267047 89.534097 \n\" style=\"fill:none;stroke:#000000;stroke-linecap:square;stroke-width:0.8;\"/>\n    </g>\n    <g id=\"text_23\">\n     <!-- 6 -->\n     <g transform=\"translate(323.406835 94.95769)scale(0.1 -0.1)\">\n      <use xlink:href=\"#DejaVuSans-54\"/>\n     </g>\n    </g>\n   </g>\n   <g id=\"xtick_21\">\n    <g id=\"line2d_24\">\n     <path d=\"M 306.164511 73.899337 \nL 310.211508 74.590137 \n\" style=\"fill:none;stroke:#000000;stroke-linecap:square;stroke-width:0.8;\"/>\n    </g>\n    <g id=\"text_24\">\n     <!-- 8 -->\n     <g transform=\"translate(324.473418 80.047968)scale(0.1 -0.1)\">\n      <use xlink:href=\"#DejaVuSans-56\"/>\n     </g>\n    </g>\n   </g>\n   <g id=\"xtick_22\">\n    <g id=\"line2d_25\">\n     <path d=\"M 307.092186 58.748327 \nL 311.169776 59.427692 \n\" style=\"fill:none;stroke:#000000;stroke-linecap:square;stroke-width:0.8;\"/>\n    </g>\n    <g id=\"text_25\">\n     <!-- 10 -->\n     <g transform=\"translate(322.374292 64.920994)scale(0.1 -0.1)\">\n      <use xlink:href=\"#DejaVuSans-49\"/>\n      <use x=\"63.623047\" xlink:href=\"#DejaVuSans-48\"/>\n     </g>\n    </g>\n   </g>\n  </g>\n  <g id=\"axes_1\">\n   <g id=\"patch_6\">\n    <path clip-path=\"url(#pa0ef25baa7)\" d=\"M 155.332338 116.660474 \nQ 162.567778 107.301613 169.119387 98.82727 \n\" style=\"fill:none;stroke:#1f77b4;stroke-linecap:round;\"/>\n    <path clip-path=\"url(#pa0ef25baa7)\" d=\"M 161.061733 102.709824 \nL 169.119387 98.82727 \nL 167.390838 107.602925 \nL 161.061733 102.709824 \nz\n\" style=\"fill:#1f77b4;stroke:#1f77b4;stroke-linecap:round;\"/>\n   </g>\n   <g id=\"patch_7\">\n    <path clip-path=\"url(#pa0ef25baa7)\" d=\"M 155.938256 117.448721 \nQ 213.97623 92.213734 270.988895 67.424553 \n\" style=\"fill:none;stroke:#ff7f0e;stroke-linecap:round;\"/>\n    <path clip-path=\"url(#pa0ef25baa7)\" d=\"M 262.057423 66.946222 \nL 270.988895 67.424553 \nL 265.247347 74.282732 \nL 262.057423 66.946222 \nz\n\" style=\"fill:#ff7f0e;stroke:#ff7f0e;stroke-linecap:round;\"/>\n   </g>\n   <g id=\"line2d_26\">\n    <path clip-path=\"url(#pa0ef25baa7)\" d=\"M 138.237699 115.225436 \nL 276.487097 141.527761 \n\" style=\"fill:none;stroke:#000000;stroke-linecap:square;stroke-width:1.5;\"/>\n   </g>\n   <g id=\"line2d_27\">\n    <path clip-path=\"url(#pa0ef25baa7)\" d=\"M 83.319274 157.553371 \nL 166.727443 111.236899 \n\" style=\"fill:none;stroke:#000000;stroke-linecap:square;stroke-width:1.5;\"/>\n   </g>\n   <g id=\"line2d_28\">\n    <path clip-path=\"url(#pa0ef25baa7)\" d=\"M 154.279035 132.164076 \nL 153.166903 41.897006 \n\" style=\"fill:none;stroke:#000000;stroke-linecap:square;stroke-width:1.5;\"/>\n   </g>\n   <g id=\"line2d_29\">\n    <path clip-path=\"url(#pa0ef25baa7)\" d=\"M 86.874175 155.579338 \nL 171.329237 172.847353 \n\" style=\"fill:none;stroke:#808080;stroke-dasharray:5.55,2.4;stroke-dashoffset:0;stroke-width:1.5;\"/>\n   </g>\n   <g id=\"line2d_30\">\n    <path clip-path=\"url(#pa0ef25baa7)\" d=\"M 153.213296 45.662569 \nL 83.389786 80.295099 \n\" style=\"fill:none;stroke:#808080;stroke-dasharray:5.55,2.4;stroke-dashoffset:0;stroke-width:1.5;\"/>\n   </g>\n   <g id=\"line2d_31\">\n    <path clip-path=\"url(#pa0ef25baa7)\" d=\"M 153.213296 45.662569 \nL 237.682777 60.031011 \n\" style=\"fill:none;stroke:#808080;stroke-dasharray:5.55,2.4;stroke-dashoffset:0;stroke-width:1.5;\"/>\n   </g>\n   <g id=\"line2d_32\">\n    <path clip-path=\"url(#pa0ef25baa7)\" d=\"M 86.874175 155.579338 \nL 83.389786 80.295099 \n\" style=\"fill:none;stroke:#808080;stroke-dasharray:5.55,2.4;stroke-dashoffset:0;stroke-width:1.5;\"/>\n   </g>\n   <g id=\"line2d_33\">\n    <path clip-path=\"url(#pa0ef25baa7)\" d=\"M 235.615968 133.751917 \nL 171.329237 172.847353 \n\" style=\"fill:none;stroke:#808080;stroke-dasharray:5.55,2.4;stroke-dashoffset:0;stroke-width:1.5;\"/>\n   </g>\n   <g id=\"line2d_34\">\n    <path clip-path=\"url(#pa0ef25baa7)\" d=\"M 235.615968 133.751917 \nL 237.682777 60.031011 \n\" style=\"fill:none;stroke:#808080;stroke-dasharray:5.55,2.4;stroke-dashoffset:0;stroke-width:1.5;\"/>\n   </g>\n   <g id=\"line2d_35\">\n    <path clip-path=\"url(#pa0ef25baa7)\" d=\"M 83.389786 80.295099 \nL 171.027486 96.359191 \n\" style=\"fill:none;stroke:#808080;stroke-dasharray:5.55,2.4;stroke-dashoffset:0;stroke-width:1.5;\"/>\n   </g>\n   <g id=\"line2d_36\">\n    <path clip-path=\"url(#pa0ef25baa7)\" d=\"M 237.682777 60.031011 \nL 171.027486 96.359191 \n\" style=\"fill:none;stroke:#808080;stroke-dasharray:5.55,2.4;stroke-dashoffset:0;stroke-width:1.5;\"/>\n   </g>\n   <g id=\"line2d_37\">\n    <path clip-path=\"url(#pa0ef25baa7)\" d=\"M 171.329237 172.847353 \nL 171.027486 96.359191 \n\" style=\"fill:none;stroke:#808080;stroke-dasharray:5.55,2.4;stroke-dashoffset:0;stroke-width:1.5;\"/>\n   </g>\n   <g id=\"Path3DCollection_1\">\n    <defs>\n     <path d=\"M -2.236068 2.236068 \nL 2.236068 -2.236068 \nM -2.236068 -2.236068 \nL 2.236068 2.236068 \n\" id=\"mb64f4df27d\" style=\"stroke:#000000;stroke-width:1.5;\"/>\n    </defs>\n    <g clip-path=\"url(#pa0ef25baa7)\">\n     <use style=\"stroke:#000000;stroke-width:1.5;\" x=\"154.107542\" xlink:href=\"#mb64f4df27d\" y=\"118.244717\"/>\n    </g>\n   </g>\n  </g>\n </g>\n <defs>\n  <clipPath id=\"pa0ef25baa7\">\n   <rect height=\"217.44\" width=\"334.8\" x=\"7.2\" y=\"7.2\"/>\n  </clipPath>\n </defs>\n</svg>\n",
      "image/png": "[encoded data removed]"
     },
     "metadata": {
      "needs_background": "light"
     }
    }
   ],
   "source": [
    "from my_draw3d import draw3d, Arrow3D, Box3D, blue, orange\n",
    "from my_transformations import rotate_z_by\n",
    "from math import pi\n",
    "\n",
    "\n",
    "rotated_vector = rotate_z_by(pi / 4)((10, -10, 10))\n",
    "\n",
    "print(rotated_vector)"
   ]
  },
  {
   "source": [
    "The result is consistend with our expectations. However, that does not happen on our teapot animation.\n",
    "\n",
    "Let's see the results of rotating the teapot a given angle about x, y and z to understand what might be going on:"
   ],
   "cell_type": "markdown",
   "metadata": {}
  },
  {
   "cell_type": "code",
   "execution_count": 17,
   "metadata": {},
   "outputs": [
    {
     "output_type": "error",
     "ename": "SystemExit",
     "evalue": "0",
     "traceback": [
      "An exception has occurred, use %tb to see the full traceback.\n",
      "\u001b[0;31mSystemExit\u001b[0m\u001b[0;31m:\u001b[0m 0\n"
     ]
    }
   ],
   "source": [
    "from my_teapot import load_triangles\n",
    "from my_draw_model import draw_model\n",
    "from my_transformations import *\n",
    "from math import pi\n",
    "\n",
    "\n",
    "draw_model(polygon_map(rotate_x_by(pi / 4), load_triangles()))"
   ]
  },
  {
   "cell_type": "code",
   "execution_count": 18,
   "metadata": {},
   "outputs": [
    {
     "output_type": "error",
     "ename": "SystemExit",
     "evalue": "0",
     "traceback": [
      "An exception has occurred, use %tb to see the full traceback.\n",
      "\u001b[0;31mSystemExit\u001b[0m\u001b[0;31m:\u001b[0m 0\n"
     ]
    }
   ],
   "source": [
    "from my_teapot import load_triangles\n",
    "from my_draw_model import draw_model\n",
    "from my_transformations import *\n",
    "from math import pi\n",
    "\n",
    "\n",
    "draw_model(polygon_map(rotate_y_by(pi / 4), load_triangles()))"
   ]
  },
  {
   "cell_type": "code",
   "execution_count": 19,
   "metadata": {},
   "outputs": [
    {
     "output_type": "error",
     "ename": "SystemExit",
     "evalue": "0",
     "traceback": [
      "An exception has occurred, use %tb to see the full traceback.\n",
      "\u001b[0;31mSystemExit\u001b[0m\u001b[0;31m:\u001b[0m 0\n"
     ]
    }
   ],
   "source": [
    "from my_teapot import load_triangles\n",
    "from my_draw_model import draw_model\n",
    "from my_transformations import *\n",
    "from math import pi\n",
    "\n",
    "\n",
    "draw_model(polygon_map(rotate_z_by(pi / 4), load_triangles()))"
   ]
  },
  {
   "source": [
    "The examples and the following diagram explains what seems to be the problem:\n",
    "\n",
    "![Axis in OpenGL](../images/axis_in_opengl.png)\n",
    "\n",
    "Rotation about the x-axis is consistent with our expectations, but y and z seem to have switched.\n",
    "\n",
    "By convention, *OpenGL* is a right-handed system, with the following disposition of axes:\n",
    "\n",
    "![Axis notation in OpenGL](../images/axis_notation_opengl.png)\n",
    "\n",
    "Note that this doesn't break the rules of the system we used when discussing about axis orientation and the right-hand rule for cross product &mdash; it is simply that *OpenGL* decided to rotate the axis, so that z measures the depth, while y measures the height.\n",
    "\n",
    "Now that you think of it, it may make more sense than the one we were using, as when z = 0, you have the 2D drawing system."
   ],
   "cell_type": "markdown",
   "metadata": {}
  }
 ]
}