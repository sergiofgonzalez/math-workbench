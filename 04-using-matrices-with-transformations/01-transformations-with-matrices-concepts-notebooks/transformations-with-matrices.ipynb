{
 "metadata": {
  "language_info": {
   "codemirror_mode": {
    "name": "ipython",
    "version": 3
   },
   "file_extension": ".py",
   "mimetype": "text/x-python",
   "name": "python",
   "nbconvert_exporter": "python",
   "pygments_lexer": "ipython3",
   "version": "3.8.3-final"
  },
  "orig_nbformat": 2,
  "kernelspec": {
   "name": "Python 3.8.3 64-bit ('base': conda)",
   "display_name": "Python 3.8.3 64-bit ('base': conda)",
   "metadata": {
    "interpreter": {
     "hash": "ead85409a3df2736fa4852a03cf3afe7e5b1dbdc0e40d7d22bbcbf8cf1adf5fa"
    }
   }
  }
 },
 "nbformat": 4,
 "nbformat_minor": 2,
 "cells": [
  {
   "source": [
    "# Using matrices with transformations\n",
    "> TBD\n",
    "\n",
    "## Contents\n",
    "TBD\n",
    "\n",
    "## Intro\n",
    "We saw in the previous chapter that any linear transformation in 3D can be specified by knowing how it affects the three standard basis vectors $ e1 $, $ e2 $, and $ e3 $.\n",
    "\n",
    "This means that exactly 9 numbers uniquely identify the effects of linear transformation. When arranged appropriately, the numbers that tell us how to compute a linear transformation are called a *matrix*.\n",
    "\n",
    "Note that these matrices should be considered *computational tools* or a *notation* that will help use calculate these transformations more efficiently, but ultimately, we will be doing the same transformations we performed on the previous chapters: rotations, scaling, reflection, etc.\n",
    "\n",
    "The underlying idea would be to arrange in the matrix the information of that tells us how the linear transformation affects the standar basis vectors."
   ],
   "cell_type": "markdown",
   "metadata": {}
  },
  {
   "source": [
    "## Representing linear transformations with matrices\n",
    "\n",
    "Let $ A $ be a linear transformation and we know that:\n",
    "\n",
    "$\n",
    "A(e1) = (1, 1, 1) \\\\\n",
    "A(e2) = (1, 0, -1) \\\\\n",
    "A(e3) = (0, 1, 1)\n",
    "$\n",
    "\n",
    "This information completely specifies the $ A $ transformation, in a way that it can be applied to any vector.\n",
    "\n",
    "Because we will reuse this concept over and over, it warrants a special notation called *matrix notation*.\n",
    "\n"
   ],
   "cell_type": "markdown",
   "metadata": {}
  },
  {
   "source": [
    "### Writing vectors and linear transformations as matrices\n",
    "\n",
    "Matrices are rectangular grids of numbers. Their shape (i.e. arrangement) tells us how to interpret them.\n",
    "\n",
    "For instance, a matrix that is a single column of numbers as a vector, with its entries being the coordinates ordered from top to bottom is called a *column vector*.\n",
    "\n",
    "For example, the standard basis can be written as three column vectors as:\n",
    "\n",
    "$\n",
    "e1 = \\begin{pmatrix}\n",
    "        1 \\\\\n",
    "        0 \\\\\n",
    "        0\n",
    "    \\end{pmatrix}\n",
    ",\\hspace{1ex}\n",
    "e2 = \\begin{pmatrix}\n",
    "        0 \\\\\n",
    "        1 \\\\\n",
    "        0\n",
    "    \\end{pmatrix}\n",
    ",\\hspace{1ex}\n",
    "e3 = \\begin{pmatrix}\n",
    "        0 \\\\\n",
    "        0 \\\\\n",
    "        1\n",
    "    \\end{pmatrix}\n",
    "$\n",
    "\n",
    "For our purposes, this notation means the same as $ e1=(1, 0, 0) $, $ e2=(0, 1, 0) $, $ e3 = (0, 0, 1) $."
   ],
   "cell_type": "markdown",
   "metadata": {}
  },
  {
   "source": [
    "As a consequence, we can denote A transformation as:\n",
    "\n",
    "$\n",
    "A(e1) = \\begin{pmatrix}\n",
    "        1 \\\\\n",
    "        1 \\\\\n",
    "        1\n",
    "    \\end{pmatrix}\n",
    ",\\hspace{1ex}\n",
    "e2 = \\begin{pmatrix}\n",
    "        1 \\\\\n",
    "        0 \\\\\n",
    "        -1\n",
    "    \\end{pmatrix}\n",
    ",\\hspace{1ex}\n",
    "e3 = \\begin{pmatrix}\n",
    "        0 \\\\\n",
    "        1 \\\\\n",
    "        1\n",
    "    \\end{pmatrix}\n",
    "$"
   ],
   "cell_type": "markdown",
   "metadata": {}
  },
  {
   "source": [
    "And the matrix representing $ A $ transformation is the 3x3 grid of numbers consisting of theses vectors squashed together:\n",
    "\n",
    "$\n",
    "A = \\begin{pmatrix}\n",
    "        1 & 1 & 0 \\\\\n",
    "        1 & 0 & 1\\\\\n",
    "        1 & -1 & 1\n",
    "    \\end{pmatrix}\n",
    "$"
   ],
   "cell_type": "markdown",
   "metadata": {}
  },
  {
   "source": [
    "In 2D, a column vector consists of two entries. As a result, the linear transformation that scales input vectors by a factor of 2 can be written as:\n",
    "\n",
    "$\n",
    "D(e1) = \\begin{pmatrix}\n",
    "2 \\\\\n",
    "0\n",
    "\\end{pmatrix}\n",
    ",\\hspace{1ex} \n",
    "D(e2) = \\begin{pmatrix}\n",
    "0 \\\\\n",
    "2\n",
    "\\end{pmatrix}\n",
    "$\n",
    "\n",
    "Or using the matrix notation:\n",
    "\n",
    "$\n",
    "D = \\begin{pmatrix}\n",
    "2 & 0 \\\\\n",
    "0 & 2 \n",
    "\\end{pmatrix}\n",
    "$"
   ],
   "cell_type": "markdown",
   "metadata": {}
  },
  {
   "source": [
    "Matrices will come in other shapes and sizes, but for now, the focus is in column matrices representing vectors and square matrices representing linear transformations.\n",
    "\n",
    "The next step will consist in evaluating a linear transformation given its matrix."
   ],
   "cell_type": "markdown",
   "metadata": {}
  },
  {
   "source": [
    "### Multiplying a matrix with a vector\n",
    "\n",
    "Let $ B $ a linear transformation represented as a matrix and $ v $ a vector also represented as a matrix:\n",
    "\n",
    "$\n",
    "B = \\begin{pmatrix}\n",
    "0 & 2 & 1 \\\\\n",
    "0 & 1 & 0 \\\\\n",
    "1 & 0 & -1 \n",
    "\\end{pmatrix}\n",
    ",\\hspace{1ex}\n",
    "v = \\begin{pmatrix}\n",
    "3 \\\\\n",
    "-2 \\\\\n",
    "5\n",
    "\\end{pmatrix}\n",
    "$\n",
    "\n",
    "Then, using the already known procedure for linear transformations, with the only change that we use *column vector* notation, we can say:\n",
    "\n",
    "$\n",
    "B(v) = 3 \\cdot B(e1) -2 \\cdot B(e2) + 5 \\cdot B(e3) \\\\\n",
    "= 3 \\cdot \\begin{pmatrix}\n",
    "0 \\\\\n",
    "0 \\\\\n",
    "1\n",
    "\\end{pmatrix} - 2 \\cdot \\begin{pmatrix}\n",
    "2 \\\\\n",
    "1 \\\\\n",
    "0\n",
    "\\end{pmatrix} + 5 \\cdot \\begin{pmatrix}\n",
    "1 \\\\\n",
    "0 \\\\\n",
    "-1\n",
    "\\end{pmatrix} = \\begin{pmatrix}\n",
    "0 \\\\\n",
    "0 \\\\\n",
    "3\n",
    "\\end{pmatrix} + \\begin{pmatrix}\n",
    "-4 \\\\\n",
    "-2 \\\\\n",
    "0\n",
    "\\end{pmatrix} + \\begin{pmatrix}\n",
    "5 \\\\\n",
    "0 \\\\\n",
    "-5\n",
    "\\end{pmatrix} = \\begin{pmatrix}\n",
    "1 \\\\\n",
    "-2 \\\\\n",
    "-2\n",
    "\\end{pmatrix}\n",
    "$"
   ],
   "cell_type": "markdown",
   "metadata": {}
  },
  {
   "source": [
    "This sequence of operations is a special case of an operation called *matrix multiplication*. This can be succinctly denoted as:\n",
    "\n",
    "$\n",
    "Bv = \\begin{pmatrix}\n",
    "0 & 2 & 1 \\\\\n",
    "0 & 1 & 0 \\\\\n",
    "1 & 0 & -1\n",
    "\\end{pmatrix} \\begin{pmatrix}\n",
    "3 \\\\\n",
    "-2 \\\\\n",
    "5\n",
    "\\end{pmatrix} = \\begin{pmatrix}\n",
    "1 \\\\\n",
    "-2 \\\\\n",
    "-2\n",
    "\\end{pmatrix}\n",
    "$"
   ],
   "cell_type": "markdown",
   "metadata": {}
  },
  {
   "source": [
    "As opposed to multiplying numbers, the order matters when you multiply matrices. In particular $ Bv $ is a valid product but $ vB $ is not.\n",
    "\n",
    "Now, we're in a position to write Python code that multiplies a matrix by a vector:"
   ],
   "cell_type": "markdown",
   "metadata": {}
  },
  {
   "cell_type": "code",
   "execution_count": 3,
   "metadata": {},
   "outputs": [
    {
     "output_type": "stream",
     "name": "stdout",
     "text": [
      "columns of the matrix B: [(0, 0, 1), (2, 1, 0), (1, 0, -1)]\nB v = (1, -2, -2)\n"
     ]
    }
   ],
   "source": [
    "from my_vectors import *\n",
    "\n",
    "B = (\n",
    "    (0, 2, 1),\n",
    "    (0, 1, 0),\n",
    "    (1, 0, -1)\n",
    ")\n",
    "\n",
    "v = (3, -2, 5)\n",
    "\n",
    "# Note that the B matrix is arranged as a set of rows,\n",
    "# rather than as a set of columns\n",
    "# However, you can easily get the columns using `zip`\n",
    "\n",
    "print('columns of the matrix B: {}'.format(list(zip(*B))))\n",
    "\n",
    "def linear_combination(scalars, *vectors):\n",
    "    scaled = [scale(s, v) for s,v in zip(scalars, vectors)]\n",
    "    return add(*scaled)\n",
    "\n",
    "def multiply_matrix_vector(matrix, vector):\n",
    "    return linear_combination(vector, *zip(*matrix))\n",
    "\n",
    "print('B v = {}'.format(multiply_matrix_vector(B, v)))"
   ]
  },
  {
   "source": [
    "Let's dissect a little bit, howe we got to this succinct Python implementation:\n",
    "\n",
    "Firstly, we define our matrix as a tuple of tuples, with the first tuple containing the first row, the second tuple the second row, etc.\n",
    "\n",
    "This is just for convenience, as it is easier to write that way:\n",
    "\n",
    "```Python\n",
    "B = (\n",
    "    (0, 2, 1),\n",
    "    (0, 1, 0),\n",
    "    (1, 0, -1)\n",
    ")\n",
    "```\n",
    "\n",
    "Then we define our `v` vector the usual way:\n",
    "\n",
    "```Python\n",
    "v = (3, -2, 5)\n",
    "```"
   ],
   "cell_type": "markdown",
   "metadata": {}
  },
  {
   "source": [
    "Now, we need to find an efficient way to do:\n",
    "\n",
    "```Python\n",
    "3 * (0, 0, 1) + -2 * (2, 1, 0) + 5 * (1, 0, -1)\n",
    "```\n",
    "\n",
    "Getting the columns from B is easy using the `zip(...)` function, as it will *aggregate* the first elements of all the tuples into a first tuple, the second elements into a second tuple, etc.\n",
    "\n",
    "Remember that `zip(...)` expects a variable number of *iterables* of the same size:\n",
    "\n",
    "```Python\n",
    "list(zip(('a', 'b', 'c'), (1, 2, 3), ('x', 'y', 'z'))) = \n",
    "[('a', 1, 'x'), ('b', 2, 'y'), ('c', 3, 'z')]\n",
    "```\n",
    "\n",
    "Note that we cannot feed `B` directly into `zip(...)` as it won't have the desired effect on account of `B` being a single tuple containing multiple tuples within it:\n",
    "\n",
    "```Python\n",
    "list(zip(((0, 2, 1), (0, 1, 0), (1, 0, -1)))) = \n",
    "[\n",
    "  (\n",
    "      (0, 2, 1)\n",
    "  ), \n",
    "  (\n",
    "      (0, 1, 0)\n",
    "  ), \n",
    "  (\n",
    "      (1, 0, -1)\n",
    "  )\n",
    "]\n",
    "```\n",
    "\n",
    "Fortunately, we can use the `*` operator to *flatten* `B` before passing it to `zip(...)`. This will have the effect of injecting the actual matrix rows as arguments to the `zip(...)` function:\n",
    "\n",
    "```Python\n",
    "list(zip((0, 2, 1), (0, 1, 0), (1, 0, -1))) = [(0, 0, 1), (2, 1, 0), (1, 0, -1)]\n",
    "list(zip(*B)) = [(0, 0, 1), (2, 1, 0), (1, 0, -1)]\n",
    "```"
   ],
   "cell_type": "markdown",
   "metadata": {}
  },
  {
   "source": [
    "Now that we've got the matrix columns in an iterable, we can focus on writing the function that will take each of the coordinates of the vector `v` and perform the scalar multiplication of the first coordinate by the first column (*vector*), add it to the scalar multiplication of the second coordinate by the second column, etc.\n",
    "\n",
    "But we already define such function in the previous chapter! &mdash; the `linear_combination(...)` function:\n",
    "\n",
    "```Python\n",
    "def linear_combination(scalars, *vectors):\n",
    "    scaled = [scale(s, v) for s,v in zip(scalars, vectors)]\n",
    "    return add(*scaled)\n",
    "```"
   ],
   "cell_type": "markdown",
   "metadata": {}
  },
  {
   "source": [
    "We just need to pass `v` as `scalars` and the columns of the matrix in `vectors` (note that the second argument is a variable argument list):\n",
    "\n",
    "Thus, to perform the desired multiplication, we have to do:\n",
    "\n",
    "```Python\n",
    "linear_combination((3, -2, 5), (0, 0, 1), (2, 1, 0), (1, 0, -1)) = (1, -2, -2)\n",
    "```"
   ],
   "cell_type": "markdown",
   "metadata": {}
  },
  {
   "source": [
    "We're almost there: we just need to define now a Python function that will name that operation:\n",
    "\n",
    "```Python\n",
    "def multiply_matrix_vector(matrix_columns, vector):\n",
    "    return linear_combination(vector, matrix_columns)\n",
    "```\n",
    "\n",
    "However, if we try to invoke the function using:\n",
    "\n",
    "```Python\n",
    "multiply_matrix_vector(((0, 0, 1), (2, 1, 0), (1, 0, -1)), (3, -2, 5))\n",
    "```\n",
    "\n",
    "it will fail, because `linear_combination(...)` requires a variable number of tuples as the second argument, and we're passing a tuple of tuples. We need to *flatten* again this argument using the `*` operator:\n",
    "\n",
    "```Python\n",
    "def multiply_matrix_vector(matrix_columns, vector):\n",
    "    return linear_combination(vector, *matrix_columns)\n",
    "```\n",
    "\n",
    "This let us define our first functional `multiply_matrix_vector(...)` function:\n",
    "\n",
    "```Python\n",
    "multiply_matrix_vector(((0, 0, 1), (2, 1, 0), (1, 0, -1)), (3, -2, 5)) = (1, -2, -2)\n",
    "```"
   ],
   "cell_type": "markdown",
   "metadata": {}
  },
  {
   "source": [
    "Now for the final step &mdash; it wouldn't be a good DX if the consumer of the `multiply_matrix_vector(...)` would have to convert the rows of the matrix into columns. It will be much better if we do it ourselves as part of the function implementation:\n",
    "\n",
    "```Python\n",
    "def multiply_matrix_vector(matrix, vector):\n",
    "    return linear_combination(vector, *(zip(*matrix)))\n",
    "```\n",
    "\n",
    "or more succinctly:\n",
    "```Python\n",
    "def multiply_matrix_vector(matrix, vector):\n",
    "    return linear_combination(vector, *zip(*matrix))\n",
    "```\n"
   ],
   "cell_type": "markdown",
   "metadata": {}
  },
  {
   "source": [
    "Now we're ready to test the function with hardcoded arguments and variables too:\n",
    "\n"
   ],
   "cell_type": "markdown",
   "metadata": {}
  },
  {
   "cell_type": "code",
   "execution_count": 1,
   "metadata": {},
   "outputs": [
    {
     "output_type": "error",
     "ename": "NameError",
     "evalue": "name 'scale' is not defined",
     "traceback": [
      "\u001b[0;31m---------------------------------------------------------------------------\u001b[0m",
      "\u001b[0;31mNameError\u001b[0m                                 Traceback (most recent call last)",
      "\u001b[0;32m<ipython-input-1-e454cf755a73>\u001b[0m in \u001b[0;36m<module>\u001b[0;34m\u001b[0m\n\u001b[1;32m      6\u001b[0m     \u001b[0;32mreturn\u001b[0m \u001b[0mlinear_combination\u001b[0m\u001b[0;34m(\u001b[0m\u001b[0mvector\u001b[0m\u001b[0;34m,\u001b[0m \u001b[0;34m*\u001b[0m\u001b[0mzip\u001b[0m\u001b[0;34m(\u001b[0m\u001b[0;34m*\u001b[0m\u001b[0mmatrix\u001b[0m\u001b[0;34m)\u001b[0m\u001b[0;34m)\u001b[0m\u001b[0;34m\u001b[0m\u001b[0;34m\u001b[0m\u001b[0m\n\u001b[1;32m      7\u001b[0m \u001b[0;34m\u001b[0m\u001b[0m\n\u001b[0;32m----> 8\u001b[0;31m \u001b[0mprint\u001b[0m\u001b[0;34m(\u001b[0m\u001b[0mmultiply_matrix_vector\u001b[0m\u001b[0;34m(\u001b[0m\u001b[0;34m(\u001b[0m\u001b[0;34m(\u001b[0m\u001b[0;36m0\u001b[0m\u001b[0;34m,\u001b[0m \u001b[0;36m2\u001b[0m\u001b[0;34m,\u001b[0m \u001b[0;36m1\u001b[0m\u001b[0;34m)\u001b[0m\u001b[0;34m,\u001b[0m \u001b[0;34m(\u001b[0m\u001b[0;36m0\u001b[0m\u001b[0;34m,\u001b[0m \u001b[0;36m1\u001b[0m\u001b[0;34m,\u001b[0m \u001b[0;36m0\u001b[0m\u001b[0;34m)\u001b[0m\u001b[0;34m,\u001b[0m \u001b[0;34m(\u001b[0m\u001b[0;36m1\u001b[0m\u001b[0;34m,\u001b[0m \u001b[0;36m0\u001b[0m\u001b[0;34m,\u001b[0m \u001b[0;34m-\u001b[0m\u001b[0;36m1\u001b[0m\u001b[0;34m)\u001b[0m\u001b[0;34m)\u001b[0m\u001b[0;34m,\u001b[0m \u001b[0;34m(\u001b[0m\u001b[0;36m3\u001b[0m\u001b[0;34m,\u001b[0m \u001b[0;34m-\u001b[0m\u001b[0;36m2\u001b[0m\u001b[0;34m,\u001b[0m \u001b[0;36m5\u001b[0m\u001b[0;34m)\u001b[0m\u001b[0;34m)\u001b[0m\u001b[0;34m)\u001b[0m\u001b[0;34m\u001b[0m\u001b[0;34m\u001b[0m\u001b[0m\n\u001b[0m\u001b[1;32m      9\u001b[0m \u001b[0;34m\u001b[0m\u001b[0m\n\u001b[1;32m     10\u001b[0m \u001b[0mmultiply_matrix_vector\u001b[0m\u001b[0;34m(\u001b[0m\u001b[0mB\u001b[0m\u001b[0;34m,\u001b[0m \u001b[0mv\u001b[0m\u001b[0;34m)\u001b[0m\u001b[0;34m\u001b[0m\u001b[0;34m\u001b[0m\u001b[0m\n",
      "\u001b[0;32m<ipython-input-1-e454cf755a73>\u001b[0m in \u001b[0;36mmultiply_matrix_vector\u001b[0;34m(matrix, vector)\u001b[0m\n\u001b[1;32m      4\u001b[0m \u001b[0;34m\u001b[0m\u001b[0m\n\u001b[1;32m      5\u001b[0m \u001b[0;32mdef\u001b[0m \u001b[0mmultiply_matrix_vector\u001b[0m\u001b[0;34m(\u001b[0m\u001b[0mmatrix\u001b[0m\u001b[0;34m,\u001b[0m \u001b[0mvector\u001b[0m\u001b[0;34m)\u001b[0m\u001b[0;34m:\u001b[0m\u001b[0;34m\u001b[0m\u001b[0;34m\u001b[0m\u001b[0m\n\u001b[0;32m----> 6\u001b[0;31m     \u001b[0;32mreturn\u001b[0m \u001b[0mlinear_combination\u001b[0m\u001b[0;34m(\u001b[0m\u001b[0mvector\u001b[0m\u001b[0;34m,\u001b[0m \u001b[0;34m*\u001b[0m\u001b[0mzip\u001b[0m\u001b[0;34m(\u001b[0m\u001b[0;34m*\u001b[0m\u001b[0mmatrix\u001b[0m\u001b[0;34m)\u001b[0m\u001b[0;34m)\u001b[0m\u001b[0;34m\u001b[0m\u001b[0;34m\u001b[0m\u001b[0m\n\u001b[0m\u001b[1;32m      7\u001b[0m \u001b[0;34m\u001b[0m\u001b[0m\n\u001b[1;32m      8\u001b[0m \u001b[0mprint\u001b[0m\u001b[0;34m(\u001b[0m\u001b[0mmultiply_matrix_vector\u001b[0m\u001b[0;34m(\u001b[0m\u001b[0;34m(\u001b[0m\u001b[0;34m(\u001b[0m\u001b[0;36m0\u001b[0m\u001b[0;34m,\u001b[0m \u001b[0;36m2\u001b[0m\u001b[0;34m,\u001b[0m \u001b[0;36m1\u001b[0m\u001b[0;34m)\u001b[0m\u001b[0;34m,\u001b[0m \u001b[0;34m(\u001b[0m\u001b[0;36m0\u001b[0m\u001b[0;34m,\u001b[0m \u001b[0;36m1\u001b[0m\u001b[0;34m,\u001b[0m \u001b[0;36m0\u001b[0m\u001b[0;34m)\u001b[0m\u001b[0;34m,\u001b[0m \u001b[0;34m(\u001b[0m\u001b[0;36m1\u001b[0m\u001b[0;34m,\u001b[0m \u001b[0;36m0\u001b[0m\u001b[0;34m,\u001b[0m \u001b[0;34m-\u001b[0m\u001b[0;36m1\u001b[0m\u001b[0;34m)\u001b[0m\u001b[0;34m)\u001b[0m\u001b[0;34m,\u001b[0m \u001b[0;34m(\u001b[0m\u001b[0;36m3\u001b[0m\u001b[0;34m,\u001b[0m \u001b[0;34m-\u001b[0m\u001b[0;36m2\u001b[0m\u001b[0;34m,\u001b[0m \u001b[0;36m5\u001b[0m\u001b[0;34m)\u001b[0m\u001b[0;34m)\u001b[0m\u001b[0;34m)\u001b[0m\u001b[0;34m\u001b[0m\u001b[0;34m\u001b[0m\u001b[0m\n",
      "\u001b[0;32m<ipython-input-1-e454cf755a73>\u001b[0m in \u001b[0;36mlinear_combination\u001b[0;34m(scalars, *vectors)\u001b[0m\n\u001b[1;32m      1\u001b[0m \u001b[0;32mdef\u001b[0m \u001b[0mlinear_combination\u001b[0m\u001b[0;34m(\u001b[0m\u001b[0mscalars\u001b[0m\u001b[0;34m,\u001b[0m \u001b[0;34m*\u001b[0m\u001b[0mvectors\u001b[0m\u001b[0;34m)\u001b[0m\u001b[0;34m:\u001b[0m\u001b[0;34m\u001b[0m\u001b[0;34m\u001b[0m\u001b[0m\n\u001b[0;32m----> 2\u001b[0;31m     \u001b[0mscaled\u001b[0m \u001b[0;34m=\u001b[0m \u001b[0;34m[\u001b[0m\u001b[0mscale\u001b[0m\u001b[0;34m(\u001b[0m\u001b[0ms\u001b[0m\u001b[0;34m,\u001b[0m \u001b[0mv\u001b[0m\u001b[0;34m)\u001b[0m \u001b[0;32mfor\u001b[0m \u001b[0ms\u001b[0m\u001b[0;34m,\u001b[0m\u001b[0mv\u001b[0m \u001b[0;32min\u001b[0m \u001b[0mzip\u001b[0m\u001b[0;34m(\u001b[0m\u001b[0mscalars\u001b[0m\u001b[0;34m,\u001b[0m \u001b[0mvectors\u001b[0m\u001b[0;34m)\u001b[0m\u001b[0;34m]\u001b[0m\u001b[0;34m\u001b[0m\u001b[0;34m\u001b[0m\u001b[0m\n\u001b[0m\u001b[1;32m      3\u001b[0m     \u001b[0;32mreturn\u001b[0m \u001b[0madd\u001b[0m\u001b[0;34m(\u001b[0m\u001b[0;34m*\u001b[0m\u001b[0mscaled\u001b[0m\u001b[0;34m)\u001b[0m\u001b[0;34m\u001b[0m\u001b[0;34m\u001b[0m\u001b[0m\n\u001b[1;32m      4\u001b[0m \u001b[0;34m\u001b[0m\u001b[0m\n\u001b[1;32m      5\u001b[0m \u001b[0;32mdef\u001b[0m \u001b[0mmultiply_matrix_vector\u001b[0m\u001b[0;34m(\u001b[0m\u001b[0mmatrix\u001b[0m\u001b[0;34m,\u001b[0m \u001b[0mvector\u001b[0m\u001b[0;34m)\u001b[0m\u001b[0;34m:\u001b[0m\u001b[0;34m\u001b[0m\u001b[0;34m\u001b[0m\u001b[0m\n",
      "\u001b[0;32m<ipython-input-1-e454cf755a73>\u001b[0m in \u001b[0;36m<listcomp>\u001b[0;34m(.0)\u001b[0m\n\u001b[1;32m      1\u001b[0m \u001b[0;32mdef\u001b[0m \u001b[0mlinear_combination\u001b[0m\u001b[0;34m(\u001b[0m\u001b[0mscalars\u001b[0m\u001b[0;34m,\u001b[0m \u001b[0;34m*\u001b[0m\u001b[0mvectors\u001b[0m\u001b[0;34m)\u001b[0m\u001b[0;34m:\u001b[0m\u001b[0;34m\u001b[0m\u001b[0;34m\u001b[0m\u001b[0m\n\u001b[0;32m----> 2\u001b[0;31m     \u001b[0mscaled\u001b[0m \u001b[0;34m=\u001b[0m \u001b[0;34m[\u001b[0m\u001b[0mscale\u001b[0m\u001b[0;34m(\u001b[0m\u001b[0ms\u001b[0m\u001b[0;34m,\u001b[0m \u001b[0mv\u001b[0m\u001b[0;34m)\u001b[0m \u001b[0;32mfor\u001b[0m \u001b[0ms\u001b[0m\u001b[0;34m,\u001b[0m\u001b[0mv\u001b[0m \u001b[0;32min\u001b[0m \u001b[0mzip\u001b[0m\u001b[0;34m(\u001b[0m\u001b[0mscalars\u001b[0m\u001b[0;34m,\u001b[0m \u001b[0mvectors\u001b[0m\u001b[0;34m)\u001b[0m\u001b[0;34m]\u001b[0m\u001b[0;34m\u001b[0m\u001b[0;34m\u001b[0m\u001b[0m\n\u001b[0m\u001b[1;32m      3\u001b[0m     \u001b[0;32mreturn\u001b[0m \u001b[0madd\u001b[0m\u001b[0;34m(\u001b[0m\u001b[0;34m*\u001b[0m\u001b[0mscaled\u001b[0m\u001b[0;34m)\u001b[0m\u001b[0;34m\u001b[0m\u001b[0;34m\u001b[0m\u001b[0m\n\u001b[1;32m      4\u001b[0m \u001b[0;34m\u001b[0m\u001b[0m\n\u001b[1;32m      5\u001b[0m \u001b[0;32mdef\u001b[0m \u001b[0mmultiply_matrix_vector\u001b[0m\u001b[0;34m(\u001b[0m\u001b[0mmatrix\u001b[0m\u001b[0;34m,\u001b[0m \u001b[0mvector\u001b[0m\u001b[0;34m)\u001b[0m\u001b[0;34m:\u001b[0m\u001b[0;34m\u001b[0m\u001b[0;34m\u001b[0m\u001b[0m\n",
      "\u001b[0;31mNameError\u001b[0m: name 'scale' is not defined"
     ]
    }
   ],
   "source": [
    "def linear_combination(scalars, *vectors):\n",
    "    scaled = [scale(s, v) for s,v in zip(scalars, vectors)]\n",
    "    return add(*scaled)\n",
    "\n",
    "def multiply_matrix_vector(matrix, vector):\n",
    "    return linear_combination(vector, *zip(*matrix))\n",
    "\n",
    "print(multiply_matrix_vector(((0, 2, 1), (0, 1, 0), (1, 0, -1)), (3, -2, 5)))\n",
    "\n",
    "multiply_matrix_vector(B, v)"
   ]
  },
  {
   "source": [
    "Now that we have a way to do the multiplication programmatically, we can explore mnemonic recipes for multiplying a matrix by a vector.\n",
    "\n",
    "Consider the following *prototypical* matrix multiplication:\n",
    "\n",
    "$\n",
    "\\begin{pmatrix}\n",
    "a & b & c \\\\\n",
    "d & e & f \\\\\n",
    "g & h & i\n",
    "\\end{pmatrix}\n",
    "\\begin{pmatrix}\n",
    "x \\\\\n",
    "y \\\\\n",
    "z\n",
    "\\end{pmatrix} = x \\cdot \\begin{pmatrix}\n",
    "a \\\\\n",
    "d \\\\\n",
    "g\n",
    "\\end{pmatrix} + y \\cdot \\begin{pmatrix}\n",
    "b \\\\\n",
    "e \\\\\n",
    "h\n",
    "\\end{pmatrix} + z \\cdot \\begin{pmatrix}\n",
    "c \\\\\n",
    "f \\\\\n",
    "i\n",
    "\\end{pmatrix} = \\begin{pmatrix}\n",
    "a \\cdot x + b \\cdot y + c \\cdot z \\\\\n",
    "d \\cdot x + e \\cdot y + f \\cdot z \\\\\n",
    "g \\cdot x + h \\cdot y + i \\cdot z\n",
    "\\end{pmatrix}\n",
    "$"
   ],
   "cell_type": "markdown",
   "metadata": {}
  },
  {
   "source": [
    "The first recipe is that each coordinate of the output vector is a function of all the coordinates of the input vector:\n",
    "\n",
    "$\n",
    "f(x, y, z) = a \\cdot x + b \\cdot y + c \\cdot z\n",
    "$\n",
    "\n",
    "Moreover, this is a linear function, in the sense that it is a sum of number of times each variable."
   ],
   "cell_type": "markdown",
   "metadata": {}
  },
  {
   "source": [
    "The second mnemonic recipe presents the same formula as the result of doing *dot products* of the corresponding matrix rows by the column vector:\n",
    "\n",
    "$\n",
    "\\begin{pmatrix}\n",
    "a & b & c \\\\\n",
    "d & e & f \\\\\n",
    "g & h & i\n",
    "\\end{pmatrix}\n",
    "\\begin{pmatrix}\n",
    "x \\\\\n",
    "y \\\\\n",
    "z\n",
    "\\end{pmatrix} = \\begin{pmatrix}\n",
    "(a, b, c) \\cdot (x, y, z) \\\\\n",
    "(d, e, f) \\cdot (x, y, z) \\\\\n",
    "(g, h, i) \\cdot (x, y, z)\n",
    "\\end{pmatrix} = = \\begin{pmatrix}\n",
    "a \\cdot x + b \\cdot y + c \\cdot z \\\\\n",
    "d \\cdot x + e \\cdot y + f \\cdot z \\\\\n",
    "g \\cdot x + h \\cdot y + i \\cdot z\n",
    "\\end{pmatrix}\n",
    "$"
   ],
   "cell_type": "markdown",
   "metadata": {}
  },
  {
   "source": [
    "Note that the same mnemonics will apply to 2D transformations:\n",
    "\n",
    "$\n",
    "\\begin{pmatrix}\n",
    "j & k \\\\\n",
    "l & m\n",
    "\\end{pmatrix}\n",
    "\\begin{pmatrix}\n",
    "x \\\\\n",
    "y\n",
    "\\end{pmatrix} = x \\cdot \\begin{pmatrix}\n",
    "j \\\\\n",
    "l\n",
    "\\end{pmatrix} + y \\cdot \\begin{pmatrix}\n",
    "k \\\\\n",
    "m \n",
    "\\end{pmatrix} = \\begin{pmatrix}\n",
    "(j, k) \\cdot (x, y) \\\\\n",
    "(l, m) \\cdot (x, y)\n",
    "\\end{pmatrix} = \\begin{pmatrix}\n",
    "j \\cdot x + k \\cdot y \\\\\n",
    "l \\cdot x + m \\cdot y\n",
    "\\end{pmatrix}\n",
    "$\n"
   ],
   "cell_type": "markdown",
   "metadata": {}
  },
  {
   "source": [
    "### Composing linear transformations by matrix multiplication\n",
    "\n",
    "We know from the previous chapter that the composition of a linear transformation is also a linear transformation. Because any linear transformation can be represented by a matrix, any composition of linear transformations can also be represented by a matrix.\n",
    "\n",
    "This fact has profound consequences in terms of the computing power to apply transformations. If you were to apply a big number of transformations to a vector, each of the function calls `f1(f2(f3(...fn(v))))` would represent some overhead, while if you could represent $ f_1 \\circ f_2 \\circ f_3 \\circ ... \\circ f_n $ by a matrix, applying it to a vector would be just a handful of simple computations (additions and multiplications)."
   ],
   "cell_type": "markdown",
   "metadata": {}
  },
  {
   "source": [
    "Let $ A $ and $ B $ be two linear transformations that we want to compose for a given vector $ v = (x, y, z) $. Thus we're interested in $ A(B(v)) $.\n",
    "\n",
    "$\n",
    "A = \\begin{pmatrix}\n",
    "1 & 1 & 0 \\\\\n",
    "1 & 0 & 1 \\\\\n",
    "1 & -1 & 1\n",
    "\\end{pmatrix}, \\hspace{1ex}\n",
    "B = \\begin{pmatrix}\n",
    "0 & 2 & 1 \\\\\n",
    "0 & 1 & 0 \\\\\n",
    "1 & 0 & -1\n",
    "\\end{pmatrix}\n",
    "$\n",
    "\n",
    "In order to compute the transformation, we would need to first apply the $ B $ transformation to $ v $, which would render a 3D column vector, which we would then apply to $ A $ which would render the definitive 3d column vector that is the result of the composition:\n",
    "\n",
    "$\n",
    "A(B(v)) = ABv = \\begin{pmatrix}\n",
    "1 & 1 & 0 \\\\\n",
    "1 & 0 & 1 \\\\\n",
    "1 & -1 & 1\n",
    "\\end{pmatrix}\n",
    "\\begin{pmatrix}\n",
    "0 & 2 & 1 \\\\\n",
    "0 & 1 & 0 \\\\\n",
    "1 & 0 & -1\n",
    "\\end{pmatrix}\n",
    "\\begin{pmatrix}\n",
    "x \\\\\n",
    "y \\\\\n",
    "z\n",
    "\\end{pmatrix}\n",
    "$\n",
    "\n",
    "So the problem lies in determining, what should be the result of multiplying $ AB $. "
   ],
   "cell_type": "markdown",
   "metadata": {}
  },
  {
   "source": [
    "We know that ultimately, $ AB $ should be a 3x3 matrix, so we need are interesting in calculating all those question marks:\n",
    "\n",
    "$\n",
    "AB = \\begin{pmatrix}\n",
    "1 & 1 & 0 \\\\\n",
    "1 & 0 & 1 \\\\\n",
    "1 & -1 & 1\n",
    "\\end{pmatrix}\n",
    "\\begin{pmatrix}\n",
    "0 & 2 & 1 \\\\\n",
    "0 & 1 & 0 \\\\\n",
    "1 & 0 & -1\n",
    "\\end{pmatrix} = \\begin{pmatrix}\n",
    "? & ? & ? \\\\\n",
    "? & ? & ? \\\\\n",
    "? & ? & ?\n",
    "\\end{pmatrix}\n",
    "$\n"
   ],
   "cell_type": "markdown",
   "metadata": {}
  },
  {
   "source": [
    "We also know that each of the columns of the transformation is the effect of applying the given transformation to the vectors of the standard basis.\n",
    "\n",
    "That is:\n",
    "\n",
    "$\n",
    "B(e1) = \\begin{pmatrix}\n",
    "0 \\\\\n",
    "0 \\\\\n",
    "1\n",
    "\\end{pmatrix} \\\\\n",
    "B(e2) = \\begin{pmatrix}\n",
    "2 \\\\\n",
    "1 \\\\\n",
    "0\n",
    "\\end{pmatrix} \\\\\n",
    "B(e3) = \\begin{pmatrix}\n",
    "1 \\\\\n",
    "0 \\\\\n",
    "-1\n",
    "\\end{pmatrix}\n",
    "$"
   ],
   "cell_type": "markdown",
   "metadata": {}
  },
  {
   "source": [
    "But also, in virtue of the last fact, the first column of the resulting matrix, will be the effect of $ AB(e1) $, the second column will be $ A(B(e2)) $ etc.\n",
    "\n",
    "Therefore:\n",
    "$\n",
    "A(B(e1)) = ABe1 = \\begin{pmatrix}\n",
    "1 & 1 & 0 \\\\\n",
    "1 & 0 & 1 \\\\\n",
    "1 & -1 & 1\n",
    "\\end{pmatrix}\n",
    "\\begin{pmatrix}\n",
    "0 \\\\\n",
    "0 \\\\\n",
    "1\n",
    "\\end{pmatrix} = \\begin{pmatrix}\n",
    "0 \\\\\n",
    "1 \\\\\n",
    "1\n",
    "\\end{pmatrix}\n",
    "$\n",
    "\n",
    "And similarly:\n",
    "$\n",
    "A(B(e2)) = ABe2 = \\begin{pmatrix}\n",
    "1 & 1 & 0 \\\\\n",
    "1 & 0 & 1 \\\\\n",
    "1 & -1 & 1\n",
    "\\end{pmatrix}\n",
    "\\begin{pmatrix}\n",
    "2 \\\\\n",
    "1 \\\\\n",
    "0\n",
    "\\end{pmatrix} = \\begin{pmatrix}\n",
    "3 \\\\\n",
    "2 \\\\\n",
    "1\n",
    "\\end{pmatrix} \\\\\n",
    "A(B(e3)) = ABe3 = \\begin{pmatrix}\n",
    "1 & 1 & 0 \\\\\n",
    "1 & 0 & 1 \\\\\n",
    "1 & -1 & 1\n",
    "\\end{pmatrix}\n",
    "\\begin{pmatrix}\n",
    "0 \\\\\n",
    "0 \\\\\n",
    "1\n",
    "\\end{pmatrix} = \\begin{pmatrix}\n",
    "1 \\\\\n",
    "0 \\\\\n",
    "0\n",
    "\\end{pmatrix}\n",
    "$\n",
    "\n",
    "And fitting all the intermediate results together into a single matrix:\n",
    "\n",
    "$\n",
    "AB = \\begin{pmatrix}\n",
    "0 & 3 & 1 \\\\\n",
    "1 & 2 & 0 \\\\\n",
    "1 & 1 & 0\n",
    "\\end{pmatrix}\n",
    "$\n"
   ],
   "cell_type": "markdown",
   "metadata": {}
  },
  {
   "source": [
    "As a takeaway, we haven't reivented the wheel &mdash; we've just leaned once more into concepts that we already knew to come up with the *matrix multiplication*:\n",
    "\n",
    "![Getting to matrix multiplication](../images/getting_to_matrix_multiplication.png)"
   ],
   "cell_type": "markdown",
   "metadata": {}
  },
  {
   "source": [
    "AS a mnemonic rule, multiplying a 3x3 matrix by a column vector is the same as doing the *dot product* of a given row by a given column:\n",
    "\n",
    "$ \n",
    "AB = \\begin{pmatrix}\n",
    "1 & 1 & 0 \\\\\n",
    "1 & 0 & 1 \\\\\n",
    "1 & -1 & 1\n",
    "\\end{pmatrix}\n",
    "\\begin{pmatrix}\n",
    "0 & 2 & 1 \\\\\n",
    "0 & 1 & 0 \\\\\n",
    "1 & 0 & -1\n",
    "\\end{pmatrix} = \\\\\n",
    "\\begin{pmatrix}\n",
    "(1, 1, 0) \\cdot (0, 0, 1) & (1, 1, 0) \\cdot (2, 1, 0) & (1, 1, 0) \\cdot (1, 0, -1) \\\\\n",
    "(1, 0, 1) \\cdot (0, 0, 1) & (1, 0, 1) \\cdot (2, 1, 0) & (1, 0, 1) \\cdot (1, 0, -1) \\\\\n",
    "(1, -1, 1) \\cdot (0, 0, 1) & (1, -1, 1) \\cdot (2, 1, 0) & (1, -1, 1) \\cdot (1, 0, -1)\n",
    "\\end{pmatrix} = \\\\\n",
    "= \\begin{pmatrix}\n",
    "0 & 3 & 1 \\\\\n",
    "1 & 2 & 0 \\\\\n",
    "1 & 1 & 0 \\\\\n",
    "\\end{pmatrix}\n",
    "$\n",
    "\n",
    "\n",
    "That is, each of the $ a_ij $ elements of the matrix, with $ i $ being the row index and $ j $ being the column index is the result of dot multiplication of the *ith* row vector from $ A $ by the *jth* row vector from $ B $.\n",
    "\n",
    "![Matrix multiplication](../images/matrix_multiplication.png)"
   ],
   "cell_type": "markdown",
   "metadata": {}
  },
  {
   "source": [
    "Note that the same rule applies to matrices of lower dimension:\n",
    "\n",
    "$\n",
    "\\begin{pmatrix}\n",
    "1 & 2 \\\\\n",
    "3 & 4 \n",
    "\\end{pmatrix}\n",
    "\\begin{pmatrix}\n",
    "0 & -1 \\\\\n",
    "1 & 0\n",
    "\\end{pmatrix} = \\begin{pmatrix}\n",
    "2 & -1 \\\\\n",
    "4 & -3\n",
    "\\end{pmatrix}\n",
    "$"
   ],
   "cell_type": "markdown",
   "metadata": {}
  },
  {
   "source": [
    "### Implementing matrix multiplication\n",
    "\n",
    "Learning how to do matrix multiplication by hand is fine for educational purposes, but the ultimate goal is to define a function that will do that tedious work for us.\n",
    "\n",
    "When using Python, the fact that each of the elements is the result of the dot product of the corresponding row and column from the given matrices is more conducive to this calculation:"
   ],
   "cell_type": "markdown",
   "metadata": {}
  },
  {
   "source": [
    "Again, this will require a little bit of an staged approach.\n",
    "\n",
    "Let's denote the elements of the resulting matrix as `a00`, `a01`, etc.\n",
    "\n",
    "$\n",
    "AB = \\begin{pmatrix}\n",
    "a_{00} & a_{01} & a_{02} \\\\\n",
    "a_{10} & a_{11} & a_{12} \\\\\n",
    "a_{20} & a_{21} & a_{22}\n",
    "\\end{pmatrix}\n",
    "$\n",
    "\n",
    "We know that $ a_ij $ will be the result of the dot product of row i from $ A $ by column j from $ B $. We also know that we can get the column vectors from B doing `zip(*b)`.\n",
    "\n",
    "Thus, the first brute force approach for the `matrix_multiply(...)` function will be:\n"
   ],
   "cell_type": "markdown",
   "metadata": {}
  },
  {
   "cell_type": "code",
   "execution_count": 14,
   "metadata": {},
   "outputs": [
    {
     "output_type": "execute_result",
     "data": {
      "text/plain": [
       "((0, 3, 1), (1, 2, 0), (1, 1, 0))"
      ]
     },
     "metadata": {},
     "execution_count": 14
    }
   ],
   "source": [
    "from my_vectors import *\n",
    "\n",
    "a = (\n",
    "    (1, 1, 0),\n",
    "    (1, 0, 1),\n",
    "    (1, -1, 1)\n",
    ")\n",
    "b = (\n",
    "    (0, 2, 1),\n",
    "    (0, 1, 0),\n",
    "    (1, 0, -1)\n",
    ")\n",
    "\n",
    "def matrix_multiply(a, b):\n",
    "    b_cols = tuple(zip(*b))\n",
    "    a00 = dot(a[0], b_cols[0])\n",
    "    a01 = dot(a[0], b_cols[1])\n",
    "    a02 = dot(a[0], b_cols[2])\n",
    "    a10 = dot(a[1], b_cols[0])\n",
    "    a11 = dot(a[1], b_cols[1])\n",
    "    a12 = dot(a[1], b_cols[2])\n",
    "    a20 = dot(a[2], b_cols[0])\n",
    "    a21 = dot(a[2], b_cols[1])\n",
    "    a22 = dot(a[2], b_cols[2])        \n",
    "    return (\n",
    "        (a00, a01, a02),\n",
    "        (a10, a11, a12),\n",
    "        (a20, a21, a22)\n",
    "    )\n",
    "\n",
    "\n",
    "matrix_multiply(a, b)"
   ]
  },
  {
   "source": [
    "Obviously, that's far from an ideal implementation, but it gives us some hints about the kind of loops that will be needed &mdash; we will need an inner iteration over cols of b, and an outer iteration over the rows of a.\n",
    "\n",
    "This second implementation focuses on the inner iteration:"
   ],
   "cell_type": "markdown",
   "metadata": {}
  },
  {
   "cell_type": "code",
   "execution_count": 17,
   "metadata": {},
   "outputs": [
    {
     "output_type": "execute_result",
     "data": {
      "text/plain": [
       "((0, 3, 1), (1, 2, 0), (1, 1, 0))"
      ]
     },
     "metadata": {},
     "execution_count": 17
    }
   ],
   "source": [
    "from my_vectors import *\n",
    "\n",
    "a = (\n",
    "    (1, 1, 0),\n",
    "    (1, 0, 1),\n",
    "    (1, -1, 1)\n",
    ")\n",
    "b = (\n",
    "    (0, 2, 1),\n",
    "    (0, 1, 0),\n",
    "    (1, 0, -1)\n",
    ")\n",
    "\n",
    "def matrix_multiply(a, b):\n",
    "    result_first_row = tuple(dot(a[0], col_from_b) for col_from_b in zip(*b))\n",
    "    result_second_row = tuple(dot(a[1], col_from_b) for col_from_b in zip(*b))\n",
    "    result_third_row = tuple(dot(a[2], col_from_b) for col_from_b in zip(*b))\n",
    "    return (result_first_row, result_second_row, result_third_row)\n",
    "\n",
    "matrix_multiply(a, b)"
   ]
  },
  {
   "source": [
    "We're really close to our final implementation, we just need to add the outer loop, so that no variable definition is needed:"
   ],
   "cell_type": "markdown",
   "metadata": {}
  },
  {
   "cell_type": "code",
   "execution_count": 19,
   "metadata": {},
   "outputs": [
    {
     "output_type": "execute_result",
     "data": {
      "text/plain": [
       "((0, 3, 1), (1, 2, 0), (1, 1, 0))"
      ]
     },
     "metadata": {},
     "execution_count": 19
    }
   ],
   "source": [
    "from my_vectors import *\n",
    "\n",
    "a = (\n",
    "    (1, 1, 0),\n",
    "    (1, 0, 1),\n",
    "    (1, -1, 1)\n",
    ")\n",
    "b = (\n",
    "    (0, 2, 1),\n",
    "    (0, 1, 0),\n",
    "    (1, 0, -1)\n",
    ")\n",
    "\n",
    "def matrix_multiply(a, b):\n",
    "    return tuple(\n",
    "        tuple(dot(row_from_a, col_from_b) for col_from_b in zip(*b)) \n",
    "        for row_from_a in a\n",
    "    )\n",
    "\n",
    "matrix_multiply(a, b)"
   ]
  },
  {
   "source": [
    "Note that this function works for matrices of any dimension:"
   ],
   "cell_type": "markdown",
   "metadata": {}
  },
  {
   "cell_type": "code",
   "execution_count": 20,
   "metadata": {},
   "outputs": [
    {
     "output_type": "execute_result",
     "data": {
      "text/plain": [
       "((2, -1), (4, -3))"
      ]
     },
     "metadata": {},
     "execution_count": 20
    }
   ],
   "source": [
    "from my_vectors import *\n",
    "\n",
    "c = (\n",
    "    (1, 2),\n",
    "    (3, 4)\n",
    ")\n",
    "d = (\n",
    "    (0, -1),\n",
    "    (1, 0)\n",
    ")\n",
    "\n",
    "def matrix_multiply(a, b):\n",
    "    return tuple(\n",
    "        tuple(dot(row_from_a, col_from_b) for col_from_b in zip(*b)) \n",
    "        for row_from_a in a\n",
    "    )\n",
    "\n",
    "matrix_multiply(c, d)"
   ]
  },
  {
   "source": [
    "### 3D animation with matrix transformations\n",
    "\n",
    "To animate a 3D model, we redraw a transformed version of the original model in each frame. To make the model appear to move or change over time, we need to use different transformations as the time progresses. If these transformations are linear transformations specified by matrices, we will need a new matric for every new frame of the animation.\n",
    "\n",
    "Because *PyGame*'s built-in clock keeps track of time in milliseconds, we can generate matrices whose entries depend on time. That is, we can think of every matrix as a function that takes the current time and returns a matrix for that given time:\n",
    "\n",
    "$\n",
    "t \\rightarrow \\begin{pmatrix}\n",
    "a_{00}(t) & a_{01}(t) & a_{02}(t) \\\\\n",
    "a_{10}(t) & a_{11}(t) & a_{12}(t) \\\\\n",
    "a_{20}(t) & a_{21}(t) & a_{22}(t)\n",
    "\\end{pmatrix}\n",
    "$"
   ],
   "cell_type": "markdown",
   "metadata": {}
  },
  {
   "source": [
    "The following matrix, would be an example of such transformation that depends on time:\n",
    "\n",
    "$\n",
    "\\begin{pmatrix}\n",
    "cos(t) & 0 & -sin(t) \\\\\n",
    "0 & 1 & 0 \\\\\n",
    "sin(t) & 0 & cos(t)\n",
    "\\end{pmatrix}\n",
    "$"
   ],
   "cell_type": "markdown",
   "metadata": {}
  },
  {
   "source": [
    "Let's use this transformation when drawing the teapot."
   ],
   "cell_type": "markdown",
   "metadata": {}
  }
 ]
}