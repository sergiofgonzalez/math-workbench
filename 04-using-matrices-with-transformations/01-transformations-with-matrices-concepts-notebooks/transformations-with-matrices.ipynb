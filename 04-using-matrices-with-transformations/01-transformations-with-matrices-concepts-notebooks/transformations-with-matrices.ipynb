{
 "metadata": {
  "language_info": {
   "codemirror_mode": {
    "name": "ipython",
    "version": 3
   },
   "file_extension": ".py",
   "mimetype": "text/x-python",
   "name": "python",
   "nbconvert_exporter": "python",
   "pygments_lexer": "ipython3",
   "version": "3.8.3-final"
  },
  "orig_nbformat": 2,
  "kernelspec": {
   "name": "Python 3.8.3 64-bit ('base': conda)",
   "display_name": "Python 3.8.3 64-bit ('base': conda)",
   "metadata": {
    "interpreter": {
     "hash": "ead85409a3df2736fa4852a03cf3afe7e5b1dbdc0e40d7d22bbcbf8cf1adf5fa"
    }
   }
  }
 },
 "nbformat": 4,
 "nbformat_minor": 2,
 "cells": [
  {
   "source": [
    "# Using matrices with transformations\n",
    "> TBD\n",
    "\n",
    "## Contents\n",
    "TBD\n",
    "\n",
    "## Intro\n",
    "We saw in the previous chapter that any linear transformation in 3D can be specified by knowing how it affects the three standard basis vectors $ e1 $, $ e2 $, and $ e3 $.\n",
    "\n",
    "This means that exactly 9 numbers uniquely identify the effects of linear transformation. When arranged appropriately, the numbers that tell us how to compute a linear transformation are called a *matrix*.\n",
    "\n",
    "Note that these matrices should be considered *computational tools* or a *notation* that will help use calculate these transformations more efficiently, but ultimately, we will be doing the same transformations we performed on the previous chapters: rotations, scaling, reflection, etc.\n",
    "\n",
    "The underlying idea would be to arrange in the matrix the information of that tells us how the linear transformation affects the standar basis vectors."
   ],
   "cell_type": "markdown",
   "metadata": {}
  },
  {
   "source": [
    "## Representing linear transformations with matrices\n",
    "\n",
    "Let $ A $ be a linear transformation and we know that:\n",
    "\n",
    "$\n",
    "A(e1) = (1, 1, 1) \\\\\n",
    "A(e2) = (1, 0, -1) \\\\\n",
    "A(e3) = (0, 1, 1)\n",
    "$\n",
    "\n",
    "This information completely specifies the $ A $ transformation, in a way that it can be applied to any vector.\n",
    "\n",
    "Because we will reuse this concept over and over, it warrants a special notation called *matrix notation*.\n",
    "\n"
   ],
   "cell_type": "markdown",
   "metadata": {}
  },
  {
   "source": [
    "### Writing vectors and linear transformations as matrices\n",
    "\n",
    "Matrices are rectangular grids of numbers. Their shape (i.e. arrangement) tells us how to interpret them.\n",
    "\n",
    "For instance, a matrix that is a single column of numbers as a vector, with its entries being the coordinates ordered from top to bottom is called a *column vector*.\n",
    "\n",
    "For example, the standard basis can be written as three column vectors as:\n",
    "\n",
    "$\n",
    "e1 = \\begin{pmatrix}\n",
    "        1 \\\\\n",
    "        0 \\\\\n",
    "        0\n",
    "    \\end{pmatrix}\n",
    ",\\hspace{1ex}\n",
    "e2 = \\begin{pmatrix}\n",
    "        0 \\\\\n",
    "        1 \\\\\n",
    "        0\n",
    "    \\end{pmatrix}\n",
    ",\\hspace{1ex}\n",
    "e3 = \\begin{pmatrix}\n",
    "        0 \\\\\n",
    "        0 \\\\\n",
    "        1\n",
    "    \\end{pmatrix}\n",
    "$\n",
    "\n",
    "For our purposes, this notation means the same as $ e1=(1, 0, 0) $, $ e2=(0, 1, 0) $, $ e3 = (0, 0, 1) $."
   ],
   "cell_type": "markdown",
   "metadata": {}
  },
  {
   "source": [
    "As a consequence, we can denote A transformation as:\n",
    "\n",
    "$\n",
    "A(e1) = \\begin{pmatrix}\n",
    "        1 \\\\\n",
    "        1 \\\\\n",
    "        1\n",
    "    \\end{pmatrix}\n",
    ",\\hspace{1ex}\n",
    "e2 = \\begin{pmatrix}\n",
    "        1 \\\\\n",
    "        0 \\\\\n",
    "        -1\n",
    "    \\end{pmatrix}\n",
    ",\\hspace{1ex}\n",
    "e3 = \\begin{pmatrix}\n",
    "        0 \\\\\n",
    "        1 \\\\\n",
    "        1\n",
    "    \\end{pmatrix}\n",
    "$"
   ],
   "cell_type": "markdown",
   "metadata": {}
  },
  {
   "source": [
    "And the matrix representing $ A $ transformation is the 3x3 grid of numbers consisting of theses vectors squashed together:\n",
    "\n",
    "$\n",
    "e1 = \\begin{pmatrix}\n",
    "        1 & 1 & 0 \\\\\n",
    "        1 & 0 & 1\\\\\n",
    "        1 & -1 & 1\n",
    "    \\end{pmatrix}\n",
    "$"
   ],
   "cell_type": "markdown",
   "metadata": {}
  },
  {
   "source": [
    "In 2D, a column vector consists of two entries. As a result, the linear transformation that scales input vectors by a factor of 2 can be written as:\n",
    "\n",
    "$\n",
    "D(e1) = \\begin{pmatrix}\n",
    "2 \\\\\n",
    "0\n",
    "\\end{pmatrix}\n",
    ",\\hspace{1ex} \n",
    "D(e2) = \\begin{pmatrix}\n",
    "0 \\\\\n",
    "2\n",
    "\\end{pmatrix}\n",
    "$\n",
    "\n",
    "Or using the matrix notation:\n",
    "\n",
    "$\n",
    "D = \\begin{pmatrix}\n",
    "2 & 0 \\\\\n",
    "0 & 2 \n",
    "\\end{pmatrix}\n",
    "$"
   ],
   "cell_type": "markdown",
   "metadata": {}
  },
  {
   "source": [
    "Matrices will come in other shapes and sizes, but for now, the focus is in column matrices representing vectors and square matrices representing linear transformations.\n",
    "\n",
    "The next step will consist in evaluating a linear transformation given its matrix."
   ],
   "cell_type": "markdown",
   "metadata": {}
  },
  {
   "source": [
    "### Multiplying a matrix with a vector\n",
    "\n",
    "Let $ B $ a linear transformation represented as a matrix and $ v $ a vector also represented as a matrix:\n",
    "\n",
    "$\n",
    "B = \\begin{pmatrix}\n",
    "0 & 2 & 1 \\\\\n",
    "0 & 1 & 0 \\\\\n",
    "1 & 0 & -1 \n",
    "\\end{pmatrix}\n",
    ",\\hspace{1ex}\n",
    "v = \\begin{pmatrix}\n",
    "3 \\\\\n",
    "-2 \\\\\n",
    "5\n",
    "\\end{pmatrix}\n",
    "$\n",
    "\n",
    "Then, using the already known procedure for linear transformations, with the only change that we use *column vector* notation, we can say:\n",
    "\n",
    "$\n",
    "B(v) = 3 \\cdot B(e1) -2 \\cdot B(e2) + 5 \\cdot B(e3) \\\\\n",
    "= 3 \\cdot \\begin{pmatrix}\n",
    "0 \\\\\n",
    "0 \\\\\n",
    "1\n",
    "\\end{pmatrix} - 2 \\cdot \\begin{pmatrix}\n",
    "2 \\\\\n",
    "1 \\\\\n",
    "0\n",
    "\\end{pmatrix} + 5 \\cdot \\begin{pmatrix}\n",
    "1 \\\\\n",
    "0 \\\\\n",
    "-1\n",
    "\\end{pmatrix} = \\begin{pmatrix}\n",
    "0 \\\\\n",
    "0 \\\\\n",
    "3\n",
    "\\end{pmatrix} + \\begin{pmatrix}\n",
    "-4 \\\\\n",
    "-2 \\\\\n",
    "0\n",
    "\\end{pmatrix} + \\begin{pmatrix}\n",
    "5 \\\\\n",
    "0 \\\\\n",
    "-5\n",
    "\\end{pmatrix} = \\begin{pmatrix}\n",
    "1 \\\\\n",
    "-2 \\\\\n",
    "-2\n",
    "\\end{pmatrix}\n",
    "$"
   ],
   "cell_type": "markdown",
   "metadata": {}
  },
  {
   "source": [
    "This sequence of operations is a special case of an operation called *matrix multiplication*. This can be succinctly denoted as:\n",
    "\n",
    "$\n",
    "Bv = \\begin{pmatrix}\n",
    "0 & 2 & 1 \\\\\n",
    "0 & 1 & 0 \\\\\n",
    "1 & 0 & -1\n",
    "\\end{pmatrix} \\begin{pmatrix}\n",
    "3 \\\\\n",
    "-2 \\\\\n",
    "5\n",
    "\\end{pmatrix} = \\begin{pmatrix}\n",
    "1 \\\\\n",
    "-2 \\\\\n",
    "-2\n",
    "\\end{pmatrix}\n",
    "$"
   ],
   "cell_type": "markdown",
   "metadata": {}
  },
  {
   "source": [
    "As opposed to multiplying numbers, the order matters when you multiply matrices. In particular $ Bv $ is a valid product but $ vB $ is not.\n",
    "\n",
    "Now, we're in a position to write Python code that multiplies a matrix by a vector:"
   ],
   "cell_type": "markdown",
   "metadata": {}
  },
  {
   "cell_type": "code",
   "execution_count": 3,
   "metadata": {},
   "outputs": [
    {
     "output_type": "stream",
     "name": "stdout",
     "text": [
      "B v = (1, -2, -2)\n"
     ]
    }
   ],
   "source": [
    "from vectors_my_implementation import *\n",
    "\n",
    "B = (\n",
    "    (0, 2, 1),\n",
    "    (0, 1, 0),\n",
    "    (1, 0, -1)\n",
    ")\n",
    "\n",
    "v = (3, -2, 5)\n",
    "\n",
    "# Note that the B matrix is arranged as a set of rows,\n",
    "# rather than as a set of columns\n",
    "# However, you can easily get the columns using `zip`\n",
    "\n",
    "list(zip(*B))\n",
    "\n",
    "def linear_combination(scalars, *vectors):\n",
    "    scaled = [scale(s, v) for s,v in zip(scalars, vectors)]\n",
    "    return add(*scaled)\n",
    "\n",
    "def multiply_matrix_vector(matrix, vector):\n",
    "    return linear_combination(vector, *zip(*matrix))\n",
    "\n",
    "print('B v = {}'.format(multiply_matrix_vector(B, v)))"
   ]
  },
  {
   "cell_type": "code",
   "execution_count": null,
   "metadata": {},
   "outputs": [],
   "source": []
  }
 ]
}