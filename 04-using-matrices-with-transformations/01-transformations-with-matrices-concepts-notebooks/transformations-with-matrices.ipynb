{
 "metadata": {
  "language_info": {
   "codemirror_mode": {
    "name": "ipython",
    "version": 3
   },
   "file_extension": ".py",
   "mimetype": "text/x-python",
   "name": "python",
   "nbconvert_exporter": "python",
   "pygments_lexer": "ipython3",
   "version": 3
  },
  "orig_nbformat": 2
 },
 "nbformat": 4,
 "nbformat_minor": 2,
 "cells": [
  {
   "source": [
    "# Using matrices with transformations\n",
    "> TBD\n",
    "\n",
    "## Contents\n",
    "TBD\n",
    "\n",
    "## Intro\n",
    "We saw in the previous chapter that any linear transformation in 3D can be specified by knowing how it affects the three standard basis vectors $ e1 $, $ e2 $, and $ e3 $.\n",
    "\n",
    "This means that exactly 9 numbers uniquely identify the effects of linear transformation. When arranged appropriately, the numbers that tell us how to compute a linear transformation are called a *matrix*.\n",
    "\n",
    "Note that these matrices should be considered *computational tools* or a *notation* that will help use calculate these transformations more efficiently, but ultimately, we will be doing the same transformations we performed on the previous chapters: rotations, scaling, reflection, etc.\n",
    "\n",
    "The underlying idea would be to arrange in the matrix the information of that tells us how the linear transformation affects the standar basis vectors."
   ],
   "cell_type": "markdown",
   "metadata": {}
  },
  {
   "source": [
    "## Representing linear transformations with matrices\n",
    "\n",
    "Let's"
   ],
   "cell_type": "markdown",
   "metadata": {}
  }
 ]
}