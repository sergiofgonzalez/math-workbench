{
 "metadata": {
  "language_info": {
   "codemirror_mode": {
    "name": "ipython",
    "version": 3
   },
   "file_extension": ".py",
   "mimetype": "text/x-python",
   "name": "python",
   "nbconvert_exporter": "python",
   "pygments_lexer": "ipython3",
   "version": "3.8.3-final"
  },
  "orig_nbformat": 2,
  "kernelspec": {
   "name": "Python 3.8.3 64-bit ('base': conda)",
   "display_name": "Python 3.8.3 64-bit ('base': conda)",
   "metadata": {
    "interpreter": {
     "hash": "ead85409a3df2736fa4852a03cf3afe7e5b1dbdc0e40d7d22bbcbf8cf1adf5fa"
    }
   }
  }
 },
 "nbformat": 4,
 "nbformat_minor": 2,
 "cells": [
  {
   "source": [
    "# Exercises on 3D animations with matrix transformations\n",
    "\n",
    "## Exercise 5.1\n",
    "Write a function `infer_matrix(n, transformation)` that takes a dimension and a function that is a vector transformation assumed to be linear and returns an nxn square matrix that represents the linear transformation.\n",
    "\n",
    "Note that the given `transformation` **has** to be linear, otherwise, the returned matrix will not represent the transformation."
   ],
   "cell_type": "markdown",
   "metadata": {}
  },
  {
   "source": [
    "We know that to completely specify a linear transformation, it is enough to specify how it transforms the vectors of the standard basis.\n",
    "\n",
    "Thus, what we have to do is is apply the given transformation to the standard basis of the given dimension, collect the results in columns, and return that matrix.\n",
    "\n",
    "Let's start with a supporting function that will return the standard basis vectors."
   ],
   "cell_type": "markdown",
   "metadata": {}
  },
  {
   "source": [
    "For the standard basis vectors, we need to come up with a collection of tuples on which the coordinate 1 is shifted in position for every vector.\n",
    "\n",
    "```\n",
    "n = 2:\n",
    "    e1 = (1, 0)\n",
    "    e2 = (0, 1)\n",
    "    standard_basis = [e1, e2]\n",
    "\n",
    "n = 3:\n",
    "    e1 = (1, 0, 0)\n",
    "    e2 = (0, 1, 0)\n",
    "    e3 = (0, 0, 1)\n",
    "    standard_basis = [e1, e2, e3]\n",
    "\n",
    "n = 4:\n",
    "    e1 = (1, 0, 0, 0)\n",
    "    e2 = (0, 1, 0, 0)\n",
    "    e3 = (0, 0, 1, 0)\n",
    "    e4 = (0, 0, 0, 1)\n",
    "    standard_basis = [e1, e2, e3, e4]\n",
    "```\n",
    "\n",
    "Now, we're beginning to see that we will need a couple of nested iterations: one over the number of dimensions given (number of standard basis vectors) and an inner one to build the elements of each of the vectors.\n",
    "\n",
    "Let's start with a *procedural*, non-Pythonic way:"
   ],
   "cell_type": "markdown",
   "metadata": {}
  },
  {
   "cell_type": "code",
   "execution_count": 3,
   "metadata": {},
   "outputs": [
    {
     "output_type": "stream",
     "name": "stdout",
     "text": [
      "[[1, 0], [0, 1]]\n[[1, 0, 0], [0, 1, 0], [0, 0, 1]]\n[[1, 0, 0, 0], [0, 1, 0, 0], [0, 0, 1, 0], [0, 0, 0, 1]]\n"
     ]
    }
   ],
   "source": [
    "def standard_basis(dimension):\n",
    "    standard_basis = []\n",
    "    for i in range(0, dimension):\n",
    "        e = []\n",
    "        for j in range(0, dimension):\n",
    "            if (i == j):\n",
    "                e.append(1)\n",
    "            else:\n",
    "                e.append(0)\n",
    "        standard_basis.append(e)\n",
    "    return standard_basis\n",
    "\n",
    "print(standard_basis(2))\n",
    "print(standard_basis(3))\n",
    "print(standard_basis(4))"
   ]
  },
  {
   "source": [
    "That solution more or less works, but we are only using lists instead of tuples, and it cries for a more succinct implementation.\n",
    "\n",
    "Let's give it a second try with the hint that list and tuple comprehensions in Python allows for using if conditions in their definition:"
   ],
   "cell_type": "markdown",
   "metadata": {}
  },
  {
   "cell_type": "code",
   "execution_count": 7,
   "metadata": {},
   "outputs": [
    {
     "output_type": "stream",
     "name": "stdout",
     "text": [
      "[(1, 0), (0, 1)]\n[(1, 0, 0), (0, 1, 0), (0, 0, 1)]\n[(1, 0, 0, 0), (0, 1, 0, 0), (0, 0, 1, 0), (0, 0, 0, 1)]\n"
     ]
    }
   ],
   "source": [
    "def standard_basis(dimension):\n",
    "    standard_basis = [\n",
    "        tuple(1 if i == j else 0 for j in range(0, dimension)) \n",
    "        for i in range(0, dimension)\n",
    "        ]\n",
    "    return standard_basis\n",
    "\n",
    "print(standard_basis(2))\n",
    "print(standard_basis(3))\n",
    "print(standard_basis(4))"
   ]
  },
  {
   "source": [
    "Note that for readability purposes, the author recommends defining a support function to return the standard basis vector, but either way is fine.\n",
    "\n"
   ],
   "cell_type": "markdown",
   "metadata": {}
  },
  {
   "cell_type": "code",
   "execution_count": 8,
   "metadata": {},
   "outputs": [
    {
     "output_type": "stream",
     "name": "stdout",
     "text": [
      "[(1, 0), (0, 1)]\n[(1, 0, 0), (0, 1, 0), (0, 0, 1)]\n[(1, 0, 0, 0), (0, 1, 0, 0), (0, 0, 1, 0), (0, 0, 0, 1)]\n"
     ]
    }
   ],
   "source": [
    "def standard_basis(dimension):\n",
    "    def standard_basis_vector(i):\n",
    "        return tuple(1 if i == j else 0 for j in range(0, dimension))\n",
    "    standard_basis = [standard_basis_vector(i) for i in range(0, dimension)]\n",
    "    return standard_basis\n",
    "\n",
    "print(standard_basis(2))\n",
    "print(standard_basis(3))\n",
    "print(standard_basis(4))"
   ]
  },
  {
   "cell_type": "code",
   "execution_count": null,
   "metadata": {},
   "outputs": [],
   "source": [
    "Now, we need to define our main function:"
   ]
  },
  {
   "cell_type": "code",
   "execution_count": 9,
   "metadata": {},
   "outputs": [],
   "source": [
    "def infer_matrix(n, transformation):\n",
    "    transformations_on_standard_basis = [transformation(ei) for ei in standard_basis(n)]\n",
    "    return tuple(zip(*transformations_on_standard_basis))"
   ]
  },
  {
   "source": [
    "Note that we had to use `zip(*matrix)` to convert the matrix rows into columns.\n",
    "\n",
    "Let's validate it with a transformation like `rotate_z_by(pi / 2)`:"
   ],
   "cell_type": "markdown",
   "metadata": {}
  },
  {
   "cell_type": "code",
   "execution_count": 12,
   "metadata": {},
   "outputs": [
    {
     "output_type": "execute_result",
     "data": {
      "text/plain": [
       "((6.123233995736766e-17, -1.0, 0.0),\n",
       " (1.0, 1.2246467991473532e-16, 0.0),\n",
       " (0, 0, 1))"
      ]
     },
     "metadata": {},
     "execution_count": 12
    }
   ],
   "source": [
    "from my_transformations import rotate_z_by\n",
    "from math import pi\n",
    "\n",
    "infer_matrix(3, rotate_z_by(pi / 2))"
   ]
  },
  {
   "source": [
    "We can validate it also visually, by using this function to rotate our teapot:"
   ],
   "cell_type": "markdown",
   "metadata": {}
  },
  {
   "cell_type": "code",
   "execution_count": 19,
   "metadata": {},
   "outputs": [
    {
     "output_type": "error",
     "ename": "SystemExit",
     "evalue": "0",
     "traceback": [
      "An exception has occurred, use %tb to see the full traceback.\n",
      "\u001b[0;31mSystemExit\u001b[0m\u001b[0;31m:\u001b[0m 0\n"
     ]
    }
   ],
   "source": [
    "from my_teapot import load_triangles\n",
    "from my_draw_model import draw_model\n",
    "from math import sin, cos\n",
    "from my_transformations import rotate_z_by, polygon_map\n",
    "from my_matrices import multiply_matrix_vector\n",
    "from math import pi\n",
    "\n",
    "def standard_basis(dimension):\n",
    "    def standard_basis_vector(i):\n",
    "        return tuple(1 if i == j else 0 for j in range(0, dimension))\n",
    "    standard_basis = [standard_basis_vector(i) for i in range(0, dimension)]\n",
    "    return standard_basis\n",
    "\n",
    "def infer_matrix(n, transformation):\n",
    "    transformations_on_standard_basis = [transformation(ei) for ei in standard_basis(n)]\n",
    "    return tuple(zip(*transformations_on_standard_basis))\n",
    "\n",
    "rotation_matrix = infer_matrix(3, rotate_z_by(pi / 2))\n",
    "\n",
    "def matrix_rotate_z_by(angle_radians):\n",
    "    matrix_transformation = infer_matrix(3, rotate_z_by(angle_radians))\n",
    "    def new_function(v):\n",
    "        return multiply_matrix_vector(matrix_transformation, v)\n",
    "    return new_function\n",
    "\n",
    "draw_model(polygon_map(matrix_rotate_z_by(pi / 2), load_triangles()))"
   ]
  },
  {
   "cell_type": "code",
   "execution_count": null,
   "metadata": {},
   "outputs": [],
   "source": [
    "Note that as this rotation matrix does not depend on time, the teapot is not animated, but rather rotated once."
   ]
  },
  {
   "source": [
    "# Exercise 5.2\n",
    "\n",
    "What is the result of the following product?\n",
    "\n",
    "$\n",
    "\\begin{pmatrix}\n",
    "1.3 & -0.7 \\\\\n",
    "6.5 & 3.2\n",
    "\\end{pmatrix}\n",
    "\\begin{pmatrix}\n",
    "-2.5 \\\\\n",
    "0.3\n",
    "\\end{pmatrix}\n",
    "$"
   ],
   "cell_type": "markdown",
   "metadata": {}
  },
  {
   "source": [
    "The result will be a column vector with dimension 2, with $ a_{11} = (1.3, -0.7) \\cdot (-2.5, 0.3) $ and $ a_{21} = (6.5, 3.2) \\cdot (-2.5, 0.3) $\n",
    "\n",
    "$\n",
    "\\begin{pmatrix}\n",
    "1.3 & -0.7 \\\\\n",
    "6.5 & 3.2\n",
    "\\end{pmatrix}\n",
    "\\begin{pmatrix}\n",
    "-2.5 \\\\\n",
    "0.3\n",
    "\\end{pmatrix} = \\begin{pmatrix}\n",
    "-3.46 \\\\\n",
    "-15.29\n",
    "\\end{pmatrix}\n",
    "$\n"
   ],
   "cell_type": "markdown",
   "metadata": {}
  },
  {
   "source": [
    "Let's validate it with our Python functions:"
   ],
   "cell_type": "markdown",
   "metadata": {}
  },
  {
   "cell_type": "code",
   "execution_count": 21,
   "metadata": {},
   "outputs": [
    {
     "output_type": "stream",
     "name": "stdout",
     "text": [
      "(-3.46, -15.29)\n"
     ]
    }
   ],
   "source": [
    "from my_matrices import multiply_matrix_vector\n",
    "\n",
    "m = (\n",
    "    (1.3, -0.7),\n",
    "    (6.5, 3.2)\n",
    "    )\n",
    "v = (-2.5, 0.3)\n",
    "\n",
    "print(multiply_matrix_vector(m, v))"
   ]
  },
  {
   "source": [
    "# Exercise 5.3\n",
    "\n",
    "Write a `random_matrix`"
   ],
   "cell_type": "markdown",
   "metadata": {}
  }
 ]
}