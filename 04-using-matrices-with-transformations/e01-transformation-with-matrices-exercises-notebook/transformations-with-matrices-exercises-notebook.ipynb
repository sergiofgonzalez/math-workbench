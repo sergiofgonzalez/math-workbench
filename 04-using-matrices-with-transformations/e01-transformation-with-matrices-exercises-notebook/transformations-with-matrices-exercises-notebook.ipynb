{
 "metadata": {
  "language_info": {
   "codemirror_mode": {
    "name": "ipython",
    "version": 3
   },
   "file_extension": ".py",
   "mimetype": "text/x-python",
   "name": "python",
   "nbconvert_exporter": "python",
   "pygments_lexer": "ipython3",
   "version": "3.8.3-final"
  },
  "orig_nbformat": 2,
  "kernelspec": {
   "name": "Python 3.8.3 64-bit ('base': conda)",
   "display_name": "Python 3.8.3 64-bit ('base': conda)",
   "metadata": {
    "interpreter": {
     "hash": "ead85409a3df2736fa4852a03cf3afe7e5b1dbdc0e40d7d22bbcbf8cf1adf5fa"
    }
   }
  }
 },
 "nbformat": 4,
 "nbformat_minor": 2,
 "cells": [
  {
   "source": [
    "# Exercises on 3D animations with matrix transformations\n",
    "\n",
    "## Exercise 5.1\n",
    "Write a function `infer_matrix(n, transformation)` that takes a dimension and a function that is a vector transformation assumed to be linear and returns an nxn square matrix that represents the linear transformation.\n",
    "\n",
    "Note that the given `transformation` **has** to be linear, otherwise, the returned matrix will not represent the transformation."
   ],
   "cell_type": "markdown",
   "metadata": {}
  },
  {
   "source": [
    "We know that to completely specify a linear transformation, it is enough to specify how it transforms the vectors of the standard basis.\n",
    "\n",
    "Thus, what we have to do is is apply the given transformation to the standard basis of the given dimension, collect the results in columns, and return that matrix.\n",
    "\n",
    "Let's start with a supporting function that will return the standard basis vectors."
   ],
   "cell_type": "markdown",
   "metadata": {}
  },
  {
   "source": [
    "For the standard basis vectors, we need to come up with a collection of tuples on which the coordinate 1 is shifted in position for every vector.\n",
    "\n",
    "```\n",
    "n = 2:\n",
    "    e1 = (1, 0)\n",
    "    e2 = (0, 1)\n",
    "    standard_basis = [e1, e2]\n",
    "\n",
    "n = 3:\n",
    "    e1 = (1, 0, 0)\n",
    "    e2 = (0, 1, 0)\n",
    "    e3 = (0, 0, 1)\n",
    "    standard_basis = [e1, e2, e3]\n",
    "\n",
    "n = 4:\n",
    "    e1 = (1, 0, 0, 0)\n",
    "    e2 = (0, 1, 0, 0)\n",
    "    e3 = (0, 0, 1, 0)\n",
    "    e4 = (0, 0, 0, 1)\n",
    "    standard_basis = [e1, e2, e3, e4]\n",
    "```\n",
    "\n",
    "Now, we're beginning to see that we will need a couple of nested iterations: one over the number of dimensions given (number of standard basis vectors) and an inner one to build the elements of each of the vectors.\n",
    "\n",
    "Let's start with a *procedural*, non-Pythonic way:"
   ],
   "cell_type": "markdown",
   "metadata": {}
  },
  {
   "cell_type": "code",
   "execution_count": 3,
   "metadata": {},
   "outputs": [
    {
     "output_type": "stream",
     "name": "stdout",
     "text": [
      "[[1, 0], [0, 1]]\n[[1, 0, 0], [0, 1, 0], [0, 0, 1]]\n[[1, 0, 0, 0], [0, 1, 0, 0], [0, 0, 1, 0], [0, 0, 0, 1]]\n"
     ]
    }
   ],
   "source": [
    "def standard_basis(dimension):\n",
    "    standard_basis = []\n",
    "    for i in range(0, dimension):\n",
    "        e = []\n",
    "        for j in range(0, dimension):\n",
    "            if (i == j):\n",
    "                e.append(1)\n",
    "            else:\n",
    "                e.append(0)\n",
    "        standard_basis.append(e)\n",
    "    return standard_basis\n",
    "\n",
    "print(standard_basis(2))\n",
    "print(standard_basis(3))\n",
    "print(standard_basis(4))"
   ]
  },
  {
   "source": [
    "That solution more or less works, but we are only using lists instead of tuples, and it cries for a more succinct implementation.\n",
    "\n",
    "Let's give it a second try with the hint that list and tuple comprehensions in Python allows for using if conditions in their definition:"
   ],
   "cell_type": "markdown",
   "metadata": {}
  },
  {
   "cell_type": "code",
   "execution_count": 7,
   "metadata": {},
   "outputs": [
    {
     "output_type": "stream",
     "name": "stdout",
     "text": [
      "[(1, 0), (0, 1)]\n[(1, 0, 0), (0, 1, 0), (0, 0, 1)]\n[(1, 0, 0, 0), (0, 1, 0, 0), (0, 0, 1, 0), (0, 0, 0, 1)]\n"
     ]
    }
   ],
   "source": [
    "def standard_basis(dimension):\n",
    "    standard_basis = [\n",
    "        tuple(1 if i == j else 0 for j in range(0, dimension)) \n",
    "        for i in range(0, dimension)\n",
    "        ]\n",
    "    return standard_basis\n",
    "\n",
    "print(standard_basis(2))\n",
    "print(standard_basis(3))\n",
    "print(standard_basis(4))"
   ]
  },
  {
   "source": [
    "Note that for readability purposes, the author recommends defining a support function to return the standard basis vector, but either way is fine.\n",
    "\n"
   ],
   "cell_type": "markdown",
   "metadata": {}
  },
  {
   "cell_type": "code",
   "execution_count": 8,
   "metadata": {},
   "outputs": [
    {
     "output_type": "stream",
     "name": "stdout",
     "text": [
      "[(1, 0), (0, 1)]\n[(1, 0, 0), (0, 1, 0), (0, 0, 1)]\n[(1, 0, 0, 0), (0, 1, 0, 0), (0, 0, 1, 0), (0, 0, 0, 1)]\n"
     ]
    }
   ],
   "source": [
    "def standard_basis(dimension):\n",
    "    def standard_basis_vector(i):\n",
    "        return tuple(1 if i == j else 0 for j in range(0, dimension))\n",
    "    standard_basis = [standard_basis_vector(i) for i in range(0, dimension)]\n",
    "    return standard_basis\n",
    "\n",
    "print(standard_basis(2))\n",
    "print(standard_basis(3))\n",
    "print(standard_basis(4))"
   ]
  },
  {
   "cell_type": "code",
   "execution_count": null,
   "metadata": {},
   "outputs": [],
   "source": [
    "Now, we need to define our main function:"
   ]
  },
  {
   "cell_type": "code",
   "execution_count": 9,
   "metadata": {},
   "outputs": [],
   "source": [
    "def infer_matrix(n, transformation):\n",
    "    transformations_on_standard_basis = [transformation(ei) for ei in standard_basis(n)]\n",
    "    return tuple(zip(*transformations_on_standard_basis))"
   ]
  },
  {
   "source": [
    "Note that we had to use `zip(*matrix)` to convert the matrix rows into columns.\n",
    "\n",
    "Let's validate it with a transformation like `rotate_z_by(pi / 2)`:"
   ],
   "cell_type": "markdown",
   "metadata": {}
  },
  {
   "cell_type": "code",
   "execution_count": 12,
   "metadata": {},
   "outputs": [
    {
     "output_type": "execute_result",
     "data": {
      "text/plain": [
       "((6.123233995736766e-17, -1.0, 0.0),\n",
       " (1.0, 1.2246467991473532e-16, 0.0),\n",
       " (0, 0, 1))"
      ]
     },
     "metadata": {},
     "execution_count": 12
    }
   ],
   "source": [
    "from my_transformations import rotate_z_by\n",
    "from math import pi\n",
    "\n",
    "infer_matrix(3, rotate_z_by(pi / 2))"
   ]
  },
  {
   "source": [
    "We can validate it also visually, by using this function to rotate our teapot:"
   ],
   "cell_type": "markdown",
   "metadata": {}
  },
  {
   "cell_type": "code",
   "execution_count": 19,
   "metadata": {},
   "outputs": [
    {
     "output_type": "error",
     "ename": "SystemExit",
     "evalue": "0",
     "traceback": [
      "An exception has occurred, use %tb to see the full traceback.\n",
      "\u001b[0;31mSystemExit\u001b[0m\u001b[0;31m:\u001b[0m 0\n"
     ]
    }
   ],
   "source": [
    "from my_teapot import load_triangles\n",
    "from my_draw_model import draw_model\n",
    "from math import sin, cos\n",
    "from my_transformations import rotate_z_by, polygon_map\n",
    "from my_matrices import multiply_matrix_vector\n",
    "from math import pi\n",
    "\n",
    "def standard_basis(dimension):\n",
    "    def standard_basis_vector(i):\n",
    "        return tuple(1 if i == j else 0 for j in range(0, dimension))\n",
    "    standard_basis = [standard_basis_vector(i) for i in range(0, dimension)]\n",
    "    return standard_basis\n",
    "\n",
    "def infer_matrix(n, transformation):\n",
    "    transformations_on_standard_basis = [transformation(ei) for ei in standard_basis(n)]\n",
    "    return tuple(zip(*transformations_on_standard_basis))\n",
    "\n",
    "rotation_matrix = infer_matrix(3, rotate_z_by(pi / 2))\n",
    "\n",
    "def matrix_rotate_z_by(angle_radians):\n",
    "    matrix_transformation = infer_matrix(3, rotate_z_by(angle_radians))\n",
    "    def new_function(v):\n",
    "        return multiply_matrix_vector(matrix_transformation, v)\n",
    "    return new_function\n",
    "\n",
    "draw_model(polygon_map(matrix_rotate_z_by(pi / 2), load_triangles()))"
   ]
  },
  {
   "cell_type": "code",
   "execution_count": null,
   "metadata": {},
   "outputs": [],
   "source": [
    "Note that as this rotation matrix does not depend on time, the teapot is not animated, but rather rotated once."
   ]
  },
  {
   "source": [
    "# Exercise 5.2\n",
    "\n",
    "What is the result of the following product?\n",
    "\n",
    "$\n",
    "\\begin{pmatrix}\n",
    "1.3 & -0.7 \\\\\n",
    "6.5 & 3.2\n",
    "\\end{pmatrix}\n",
    "\\begin{pmatrix}\n",
    "-2.5 \\\\\n",
    "0.3\n",
    "\\end{pmatrix}\n",
    "$"
   ],
   "cell_type": "markdown",
   "metadata": {}
  },
  {
   "source": [
    "The result will be a column vector with dimension 2, with $ a_{11} = (1.3, -0.7) \\cdot (-2.5, 0.3) $ and $ a_{21} = (6.5, 3.2) \\cdot (-2.5, 0.3) $\n",
    "\n",
    "$\n",
    "\\begin{pmatrix}\n",
    "1.3 & -0.7 \\\\\n",
    "6.5 & 3.2\n",
    "\\end{pmatrix}\n",
    "\\begin{pmatrix}\n",
    "-2.5 \\\\\n",
    "0.3\n",
    "\\end{pmatrix} = \\begin{pmatrix}\n",
    "-3.46 \\\\\n",
    "-15.29\n",
    "\\end{pmatrix}\n",
    "$\n"
   ],
   "cell_type": "markdown",
   "metadata": {}
  },
  {
   "source": [
    "Let's validate it with our Python functions:"
   ],
   "cell_type": "markdown",
   "metadata": {}
  },
  {
   "cell_type": "code",
   "execution_count": 21,
   "metadata": {},
   "outputs": [
    {
     "output_type": "stream",
     "name": "stdout",
     "text": [
      "(-3.46, -15.29)\n"
     ]
    }
   ],
   "source": [
    "from my_matrices import multiply_matrix_vector\n",
    "\n",
    "m = (\n",
    "    (1.3, -0.7),\n",
    "    (6.5, 3.2)\n",
    "    )\n",
    "v = (-2.5, 0.3)\n",
    "\n",
    "print(multiply_matrix_vector(m, v))"
   ]
  },
  {
   "source": [
    "# Exercise 5.3\n",
    "\n",
    "Write a `random_matrix(...)` function that generates matrices of a specified size with random whole number entries. Use the function to generate five pairs or 3x3 matrices. Multiply each of the pairs together by hand for practice and then check your work with the `matrix_multiply(...)` function."
   ],
   "cell_type": "markdown",
   "metadata": {}
  },
  {
   "source": [
    "Let's define the `random_matrix(...)` function first:"
   ],
   "cell_type": "markdown",
   "metadata": {}
  },
  {
   "source": [
    "From the initial chapter we know that we can get random ints using:\n",
    "\n",
    "```python\n",
    "import random\n",
    "\n",
    "print(random.randint(0, 10))\n",
    "```\n",
    "\n",
    "This can also be written as:\n",
    "\n",
    "```python\n",
    "from random import randint\n",
    "\n",
    "print(randint(0, 10))\n",
    "```"
   ],
   "cell_type": "markdown",
   "metadata": {}
  },
  {
   "cell_type": "code",
   "execution_count": 3,
   "metadata": {},
   "outputs": [
    {
     "output_type": "stream",
     "name": "stdout",
     "text": [
      "((2, 10), (0, 4))\n((2, 10, 11), (8, 6, 11), (11, 3, 11), (4, 3, 8))\n((-1, 5, 3, 0), (-4, 6, -1, -1))\n"
     ]
    }
   ],
   "source": [
    "from random import randint\n",
    "\n",
    "def random_matrix(num_rows, num_cols, min_int_inc=0, max_int_inc=10):\n",
    "    def get_random_in_range(min_val, max_val):\n",
    "        def new_function():\n",
    "            return randint(min_val, max_val + 1)\n",
    "        return new_function\n",
    "    rand = get_random_in_range(min_int_inc, max_int_inc)\n",
    "    result = tuple(\n",
    "        tuple(rand() for i in range(0, num_cols))\n",
    "        for j in range(0, num_rows)\n",
    "    )\n",
    "    return result\n",
    "\n",
    "print(random_matrix(2, 2))\n",
    "print(random_matrix(4, 3))\n",
    "print(random_matrix(2, 4, -5, 5))\n"
   ]
  },
  {
   "source": [
    "Now, let's generate 5 pairs of 3-by-3 matrices:"
   ],
   "cell_type": "markdown",
   "metadata": {}
  },
  {
   "cell_type": "code",
   "execution_count": 7,
   "metadata": {},
   "outputs": [
    {
     "output_type": "stream",
     "name": "stdout",
     "text": [
      "((2, -1, -2), (0, -2, 1), (0, 0, -1))\n((0, 0, 0), (1, 2, 0), (2, 3, 2))\n\n((2, 3, 2), (1, -1, -2), (3, 0, 3))\n((1, 1, -2), (2, -1, -2), (0, 0, -1))\n\n((0, 3, 0), (-2, 3, -1), (-1, -2, 3))\n((1, 1, 0), (3, -1, -1), (-1, 2, -2))\n\n((0, 0, 0), (-1, 3, 3), (2, 3, 0))\n((-1, 2, 1), (2, -2, -2), (-2, -1, 0))\n\n((-1, 1, 3), (-1, 0, 2), (2, 1, 0))\n((0, 2, 1), (-1, 3, 2), (3, -2, 0))\n\n"
     ]
    }
   ],
   "source": [
    "from my_matrices import random_matrix\n",
    "\n",
    "for i in range(0, 5):\n",
    "    print(random_matrix(3, 3, min_int_inc=-2, max_int_inc=2))\n",
    "    print(random_matrix(3, 3, min_int_inc=-2, max_int_inc=2))\n",
    "    print()\n"
   ]
  },
  {
   "cell_type": "code",
   "execution_count": 9,
   "metadata": {},
   "outputs": [
    {
     "output_type": "execute_result",
     "data": {
      "text/plain": [
       "((0, -2, -2), (-6, -4, 2), (10, 5, -6))"
      ]
     },
     "metadata": {},
     "execution_count": 9
    }
   ],
   "source": [
    "from my_matrices import matrix_multiply\n",
    "\n",
    "matrix_multiply(((0, 1, 0), (-2, -1, 0), (3, 2, 1)), ((3, 3, 0), (0, -2, -2), (1, 0, -2)))"
   ]
  },
  {
   "source": [
    "# Exercise 5.4\n",
    "\n",
    "For each of the matrices from the previous exercise, multiply them in the opposite order. Do you get the same result?"
   ],
   "cell_type": "markdown",
   "metadata": {}
  },
  {
   "cell_type": "code",
   "execution_count": 10,
   "metadata": {},
   "outputs": [
    {
     "output_type": "execute_result",
     "data": {
      "text/plain": [
       "((-6, 0, 0), (-2, -2, -2), (-6, -3, -2))"
      ]
     },
     "metadata": {},
     "execution_count": 10
    }
   ],
   "source": [
    "from my_matrices import matrix_multiply\n",
    "\n",
    "matrix_multiply(((3, 3, 0), (0, -2, -2), (1, 0, -2)), ((0, 1, 0), (-2, -1, 0), (3, 2, 1)))"
   ]
  },
  {
   "source": [
    "So, no, the result is not the same."
   ],
   "cell_type": "markdown",
   "metadata": {}
  },
  {
   "source": [
    "# Exercises 5.5\n",
    "\n",
    "In either 2D or 3D, there is a boring but important transformation called the *identity transformation* that takes in a vector and returns the same vector as output. This transformation is linear because it preserves (obviously) a linear combination of vectors. What are the matrices representing the identity transformation in 2D and 3D respectively?"
   ],
   "cell_type": "markdown",
   "metadata": {}
  },
  {
   "source": [
    "We know from the concepts section that in order to compute the matrix representing a transformation we apply the transformation to the vectors of the standard basis and place the result in the columns of the matrix.\n",
    "\n",
    "Therefore, let $ I_{d=2} $ the identity transformation for the 2D plane, $ I_{d=3} $ the identity transformation for the 3D space.\n",
    "\n",
    "Therefore:\n",
    "$\n",
    "I_{d=2} = \\begin{pmatrix}\n",
    "1 & 0 \\\\\n",
    "0 & 1\n",
    "\\end{pmatrix} \\\\\n",
    "I_{d=3} = \\begin{pmatrix}\n",
    "1 & 0 & 0 \\\\\n",
    "0 & 1 & 0 \\\\\n",
    "0 & 0 & 1\n",
    "\\end{pmatrix} \\\\\n",
    "$"
   ],
   "cell_type": "markdown",
   "metadata": {}
  },
  {
   "source": [
    "# Exercise 5.6\n",
    "\n",
    "Apply the matrix ((2, 1, 1), (1, 2, 1), (1, 1, 2)) to all the vectors defining the teapot. What happens to the teapot and why?"
   ],
   "cell_type": "markdown",
   "metadata": {}
  },
  {
   "cell_type": "code",
   "execution_count": 16,
   "metadata": {},
   "outputs": [
    {
     "output_type": "error",
     "ename": "SystemExit",
     "evalue": "0",
     "traceback": [
      "An exception has occurred, use %tb to see the full traceback.\n",
      "\u001b[0;31mSystemExit\u001b[0m\u001b[0;31m:\u001b[0m 0\n"
     ]
    }
   ],
   "source": [
    "from my_teapot import load_triangles\n",
    "from my_draw_model import draw_model\n",
    "from my_transformations import polygon_map\n",
    "from my_matrices import multiply_matrix_vector\n",
    "\n",
    "transformation_matrix = ((2, 1, 1), (1, 2, 1), (1, 1, 2))\n",
    "\n",
    "def apply_matrix_transformation(matrix):\n",
    "    def new_function(v):\n",
    "        return multiply_matrix_vector(matrix, v)\n",
    "    return new_function\n",
    "\n",
    "draw_model(polygon_map(apply_matrix_transformation(transformation_matrix), load_triangles()))"
   ]
  },
  {
   "source": [
    "The teapot seems to have been stretched out into the region where x, y and z are all positive. This happens because the transformation is changing:\n",
    "\n",
    "$\n",
    "A(e1) = (2, 1, 1) \\\\\n",
    "A(e2) = (1, 2, 1) \\\\\n",
    "A(e3) = (1, 1, 2)\n",
    "$\n",
    "\n",
    "That is, all the vectors will be stretched into that region where x > 0, y > 0, z > 0"
   ],
   "cell_type": "markdown",
   "metadata": {}
  },
  {
   "source": [
    "# Exercise 5.7\n",
    "\n",
    "Implement multiply_matrix_vector in a different way using two nested comprehensions: one traversing the rows of the matrix, and one traversing the entries of each rows\n",
    "\n"
   ],
   "cell_type": "markdown",
   "metadata": {}
  },
  {
   "source": [
    "It is asked to perform the sums and products as if we were using the mnemonic recipes. The only benefit is that it is a zero-dependency solution"
   ],
   "cell_type": "markdown",
   "metadata": {}
  },
  {
   "cell_type": "code",
   "execution_count": 22,
   "metadata": {},
   "outputs": [
    {
     "output_type": "stream",
     "name": "stdout",
     "text": [
      "(0, -6, 10)\n"
     ]
    }
   ],
   "source": [
    "def multiply_matrix_vector(matrix,vector):\n",
    "    return tuple(\n",
    "        sum(vector_entry * matrix_entry for vector_entry, matrix_entry in zip(row,vector)       ) \n",
    "        for row in matrix)\n",
    "\n",
    "# (0, -6, 10)\n",
    "print(multiply_matrix_vector(\n",
    "    ((0, 1, 0),\n",
    "    (-2, -1, 0),\n",
    "    (3, 2, 1)\n",
    "    ),\n",
    "    (3, 0, 1))\n",
    ")"
   ]
  },
  {
   "source": [
    "# Exercise 5.8\n",
    "\n",
    "Implement `multiply_matrix_vector(...)` yet another way using the fact that the output coordinates are the dot products of the input matrix rows with the input vector."
   ],
   "cell_type": "markdown",
   "metadata": {}
  },
  {
   "cell_type": "code",
   "execution_count": 25,
   "metadata": {},
   "outputs": [
    {
     "output_type": "stream",
     "name": "stdout",
     "text": [
      "(0, -6, 10)\n"
     ]
    }
   ],
   "source": [
    "from my_vectors import dot\n",
    "\n",
    "def multiply_matrix_vector(m, v):\n",
    "    return tuple(dot(row, v) for row in m)\n",
    "\n",
    "# (0, -6, 10)\n",
    "print(multiply_matrix_vector(\n",
    "    ((0, 1, 0),\n",
    "    (-2, -1, 0),\n",
    "    (3, 2, 1)\n",
    "    ),\n",
    "    (3, 0, 1))\n",
    ")"
   ]
  },
  {
   "source": [
    "# Exercise 5.9\n",
    "\n",
    "We know that any linear transformation can be represented by a matrix. Demonstrate the converse fact:\n",
    "> all matrices represent linear transformations. That is, show that matrix multiplication preserves sums and scalar multiples.\n",
    "\n",
    "Hint: start with the explicit formulas for multiplying a 2D vector by a 2x2 matrix and multiplying a 3D vector by a 3x3 matrix."
   ],
   "cell_type": "markdown",
   "metadata": {}
  },
  {
   "source": [
    "The algebraic demonstration is easy but long, the idea is to demonstrate that:\n",
    "\n",
    "Let $ A $ a matrix, $ v $, $ w $ vectors such that:\n",
    "$\n",
    "A = \\begin{pmatrix}\n",
    "a_{00} & a_{01} & a_{02} \\\\\n",
    "a_{10} & a_{11} & a_{12} \\\\\n",
    "a_{20} & a_{21} & a_{22}\n",
    "\\end{pmatrix} \\\\\n",
    "v = (v_x, v_y, v_z), \\hspace{1ex} w = (w_x, w_y, w_z)\n",
    "$\n",
    "\n",
    "You have to demonstrate that:\n",
    "$\n",
    "A(a \\cdot v + b \\cdot w) = a \\cdot Av + b \\cdot Bw\n",
    "$\n",
    "\n",
    "which is evident as:\n",
    "$\n",
    "A(a \\cdot v + b \\cdot w) = \\begin{pmatrix}\n",
    "a_{00} & a_{01} & a_{02} \\\\\n",
    "a_{10} & a_{11} & a_{12} \\\\\n",
    "a_{20} & a_{21} & a_{22}\n",
    "\\end{pmatrix}\n",
    "\\begin{pmatrix}\n",
    "a \\cdot v_x + b \\cdot w_x \\\\\n",
    "a \\cdot v_y + b \\cdot w_y \\\\\n",
    "a \\cdot v_z + b \\cdot w_z\n",
    "\\end{pmatrix}\n",
    "$\n",
    "\n",
    "As a consequence, all 3x3 matrices are linear transformations, as they preserve linear combinations.\n"
   ],
   "cell_type": "markdown",
   "metadata": {}
  },
  {
   "source": [
    "## Exercise 5.10\n",
    "\n",
    "Consider that following matrices representing transformations:\n",
    "\n",
    "$\n",
    "A = \\begin{pmatrix}\n",
    "1 & 1 & 0 \\\\\n",
    "1 & 0 & 1 \\\\\n",
    "1 & -1 & 1\n",
    "\\end{pmatrix}, \\hspace{1ex} B = \\begin{pmatrix}\n",
    "0 & 2 & 1 \\\\\n",
    "0 & 1 & 0 \\\\\n",
    "1 & 0 & -1\n",
    "\\end{pmatrix}\n",
    "$\n",
    "\n",
    "Write a function `compose_a_b(...)` that executes the composition of the linear transformation for $ A $ and the linear transformation for $ B $.\n",
    "Then use the `infer_matrix(...)` function on the result to check that those results match."
   ],
   "cell_type": "markdown",
   "metadata": {}
  },
  {
   "source": [
    "We know from the concept section that composition of linear transformations is the same as matrix multiplication.\n",
    "\n",
    "Therefore:"
   ],
   "cell_type": "markdown",
   "metadata": {}
  },
  {
   "cell_type": "code",
   "execution_count": 1,
   "metadata": {},
   "outputs": [
    {
     "output_type": "stream",
     "name": "stdout",
     "text": [
      "((0, 3, 1), (1, 2, 0), (1, 1, 0))\n(0, 1, 1)\n(3, 2, 1)\n(1, 0, 0)\n((0, 3, 1), (1, 2, 0), (1, 1, 0))\n"
     ]
    }
   ],
   "source": [
    "from my_matrices import *\n",
    "\n",
    "def compose_a_b(a, b):\n",
    "    composition_matrix = matrix_multiply(a, b)\n",
    "    def new_function(v):\n",
    "        return multiply_matrix_vector(composition_matrix, v)\n",
    "    return new_function\n",
    "\n",
    "a = (\n",
    "    (1, 1, 0),\n",
    "    (1, 0, 1),\n",
    "    (1, -1, 1)\n",
    ")\n",
    "\n",
    "b = (\n",
    "    (0, 2, 1),\n",
    "    (0, 1, 0),\n",
    "    (1, 0, -1)\n",
    ")\n",
    "\n",
    "# ((0, 3, 1), (1, 2, 0), (1, 1, 0))\n",
    "print(matrix_multiply(a, b))\n",
    "\n",
    "# (0, 1, 1)\n",
    "print(compose_a_b(a, b)((1, 0, 0)))\n",
    "\n",
    "# (3, 2, 1)\n",
    "print(compose_a_b(a, b)((0, 1, 0)))\n",
    "\n",
    "# (1, 0, 0)\n",
    "print(compose_a_b(a, b)((0, 0, 1)))\n",
    "\n",
    "# ((0, 3, 1), (1, 2, 0), (1, 1, 0))\n",
    "print(infer_matrix(3, compose_a_b(a, b)))\n"
   ]
  },
  {
   "source": [
    "## Exercise 5.12\n",
    "\n",
    "Find two 2x2 matrices, neither of which is the identity matrux, but whose product is the identity matrix."
   ],
   "cell_type": "markdown",
   "metadata": {}
  },
  {
   "source": [
    "We need to find two matrices $ A $ and $ B $ such that:\n",
    "\n",
    "$\n",
    "AB = \\begin{pmatrix}\n",
    "1 & 0 \\\\\n",
    "0 & 1 \n",
    "\\end{pmatrix}\n",
    "$\n",
    "\n",
    "And we know that:\n",
    "\n",
    "$\n",
    "AB = \\begin{pmatrix}\n",
    "a_{00} & a_{01} \\\\\n",
    "a_{10} & a_{11}\n",
    "\\end{pmatrix}\n",
    "\\begin{pmatrix}\n",
    "b_{00} & b_{01} \\\\\n",
    "b_{10} & b_{11}\n",
    "\\end{pmatrix} = \\begin{pmatrix}\n",
    "1 & 0 \\\\\n",
    "0 & 1 \n",
    "\\end{pmatrix}\n",
    "$"
   ],
   "cell_type": "markdown",
   "metadata": {}
  },
  {
   "source": [
    "That will however lead to quite a messy set of equations, so there is a much better way to think of solving this problem using the properties of linear transformations\n",
    "> multiplying two matrices together is the same as composing linear transformations &mdash; if two composed transformations lead to the identity matrix, it means they return the original vector."
   ],
   "cell_type": "markdown",
   "metadata": {}
  },
  {
   "source": [
    "Thus, we can think of matrices representing transformations that when composed, return the original vector:\n",
    "+ $ A $ scales the vector by 2, $ B $ scales the vector by $ \\frac{1}{2} $\n",
    "+ $ A $ rotates the vector 90° and $ B $ rotates the vector 270°\n",
    "\n",
    "For the first case:\n",
    "$\n",
    "A = \\begin{pmatrix}\n",
    "2 & 0 \\\\\n",
    "0 & 2\n",
    "\\end{pmatrix}, \\hspace{1ex} B = \\begin{pmatrix}\n",
    "\\frac{1}{2} & 0 \\\\\n",
    "0 & \\frac{1}{2}\n",
    "\\end{pmatrix}\n",
    "$\n",
    "\n",
    "For the second case:\n",
    "$\n",
    "A = \\begin{pmatrix}\n",
    "0 & -1 \\\\\n",
    "1 & 0\n",
    "\\end{pmatrix}, \\hspace{1ex} B = \\begin{pmatrix}\n",
    "0 & 1 \\\\\n",
    "-1 & 0\n",
    "\\end{pmatrix}\n",
    "$"
   ],
   "cell_type": "markdown",
   "metadata": {}
  },
  {
   "source": [
    "| NOTE: |\n",
    "| :---- |\n",
    "| Remember that to come up with the matrix representing a linear transformation, you have consider that the first column of the matrix represent the effect of the transformation on the $ e1 $ vector, the second column is the result of the transformation on $ e2 $, etc. |"
   ],
   "cell_type": "markdown",
   "metadata": {}
  },
  {
   "source": [
    "## Exercise 5.12\n",
    "\n",
    "We can multiply a square matrix by itself any number of times. We can think of successive matrix multiplications as *\"raising a matrix to a power\"*. For example, $ AA = A² $, $ AAA = A³ $, etc.\n",
    "\n",
    "Write a `matrix_power(power, matrix)` function that raises a matrix to the specified whole number power."
   ],
   "cell_type": "markdown",
   "metadata": {}
  },
  {
   "cell_type": "code",
   "execution_count": 3,
   "metadata": {},
   "outputs": [
    {
     "output_type": "stream",
     "name": "stdout",
     "text": [
      "((7, 10), (15, 22))\n((7, 10), (15, 22))\n"
     ]
    }
   ],
   "source": [
    "from my_matrices import *\n",
    "\n",
    "def matrix_power(power, matrix):\n",
    "    temp_result = matrix\n",
    "    for i in range(0, power):\n",
    "        temp_result = matrix_multiply(matrix, matrix)\n",
    "    return temp_result\n",
    "\n",
    "a = (\n",
    "    (1, 2),\n",
    "    (3, 4)\n",
    ")\n",
    "\n",
    "# ((7, 10), (15, 22))\n",
    "print(matrix_power(2, a))\n",
    "\n",
    "# ((7, 10), (15, 22))\n",
    "print(matrix_multiply(a, a))"
   ]
  },
  {
   "cell_type": "code",
   "execution_count": null,
   "metadata": {},
   "outputs": [],
   "source": [
    "It can also be coded using recursion:"
   ]
  },
  {
   "cell_type": "code",
   "execution_count": 6,
   "metadata": {},
   "outputs": [
    {
     "output_type": "stream",
     "name": "stdout",
     "text": [
      "((7, 10), (15, 22))\n((7, 10), (15, 22))\n"
     ]
    }
   ],
   "source": [
    "from my_matrices import *\n",
    "\n",
    "def matrix_power(power, matrix):\n",
    "    if power == 1:\n",
    "        return matrix\n",
    "    else:\n",
    "        return matrix_multiply(matrix_power(power - 1, matrix), matrix)\n",
    "a = (\n",
    "    (1, 2),\n",
    "    (3, 4)\n",
    ")\n",
    "\n",
    "# ((7, 10), (15, 22))\n",
    "print(matrix_power(2, a))\n",
    "\n",
    "# ((7, 10), (15, 22))\n",
    "print(matrix_multiply(a, a))"
   ]
  },
  {
   "source": [
    "## Exercise 5.13\n",
    "\n",
    "What are the dimensions of this matrix?\n",
    "\n",
    "$\n",
    "\\begin{pmatrix}\n",
    "1 & 2 & 3 & 4 & 5 \\\\\n",
    "6 & 7 & 8 & 9 & 10 \\\\\n",
    "11 & 12 & 13 & 14 & 15\n",
    "\\end{pmatrix}\n",
    "$"
   ],
   "cell_type": "markdown",
   "metadata": {}
  },
  {
   "source": [
    "It is a 3x5 (3-by-5) matrix, as it has 3 rows and 5 columns."
   ],
   "cell_type": "markdown",
   "metadata": {}
  },
  {
   "source": [
    "## Exercise 5.14\n",
    "\n",
    "What are the dimensions of a 2D column vector considered as a matrix? What about a 2D row vector? A 3D column vector? A 3D row vector?"
   ],
   "cell_type": "markdown",
   "metadata": {}
  },
  {
   "source": [
    "+ What are the dimensions of a 2D column vector considered as a matrix? 2x1\n",
    "+ What about a 2D row vector? 1x2\n",
    "+ A 3D column vector?  3x1\n",
    "+ A 3D row vector? 1x3"
   ],
   "cell_type": "markdown",
   "metadata": {}
  },
  {
   "source": [
    "# Exercise 5.15\n",
    "\n",
    "Many of our vector and matrix operations make use of the Python `zip(...)` function. When given input lists of different sizes, this function truncates the longer of the two rather than failing.\n",
    "\n",
    "This means that when we pass invalid inputs, we get meaningless results back in our matrix and vector operations. For example, the dot product between a 2D vector and a 3D vector should fail, but our `dot(...)` function returns something anyway.\n",
    "\n",
    "1. Validate that `dot(...)` does not fail when passing vectors that could not be multiplied.\n",
    "2. Validate that `matrix_multiply(...)` return values when passing matrices that cannot be multiplied.\n",
    "3. Add safeguards to all our vector and matrix arithmetic functions so that they don't fail when passing invalid arguments."
   ],
   "cell_type": "markdown",
   "metadata": {}
  },
  {
   "source": [
    "Let's solve point 1 and 2 first:"
   ],
   "cell_type": "markdown",
   "metadata": {}
  },
  {
   "cell_type": "code",
   "execution_count": 2,
   "metadata": {},
   "outputs": [
    {
     "output_type": "stream",
     "name": "stdout",
     "text": [
      "2\n((-11, -14, -17, -20), (-29, -38, -47, -56))\n"
     ]
    }
   ],
   "source": [
    "# *_old before adding safeguards\n",
    "from my_vectors_old import dot\n",
    "from my_matrices_old import matrix_multiply\n",
    "\n",
    "# before adding safeguards => returns 2, because the longer vector is truncated to (1, 1)\n",
    "print(dot((1, 1), (1, 1, 1)))\n",
    "\n",
    "# before adding safeguards => returns ((-11, -14, -17, -20), (-29, -38, -47, -56))\n",
    "print(matrix_multiply(\n",
    "    (\n",
    "        (1, 2, 3),\n",
    "        (4, 5, 6)\n",
    "    ),\n",
    "    (\n",
    "        (-1, -2, -3, -4),\n",
    "        (-5, -6, -7, -8)\n",
    "    )\n",
    "))"
   ]
  },
  {
   "source": [
    "For point #3, a new implementation of the libraries and unit tests have been created in [e00-my-libs](../e00-my-libs) and copied in this folder, so that point 1 and 2 no longer return invalid values, but instead fail."
   ],
   "cell_type": "markdown",
   "metadata": {}
  },
  {
   "cell_type": "code",
   "execution_count": 7,
   "metadata": {},
   "outputs": [
    {
     "output_type": "stream",
     "name": "stdout",
     "text": [
      "ValueError\nTypeError\n"
     ]
    }
   ],
   "source": [
    "from my_vectors import dot\n",
    "from my_matrices import matrix_multiply\n",
    "\n",
    "# before adding safeguards => returns 2, because the longer vector is truncated to (1, 1)\n",
    "try:\n",
    "    dot((1, 1), (1, 1, 1))\n",
    "except ValueError:\n",
    "    print('ValueError')\n",
    "except TypeError:\n",
    "    print('TypeError')\n",
    "\n",
    "# before adding safeguards => returns ((-11, -14, -17, -20), (-29, -38, -47, -56))\n",
    "try:\n",
    "    matrix_multiply(\n",
    "    (\n",
    "        (1, 2, 3),\n",
    "        (4, 5, 6)\n",
    "    ),\n",
    "    (\n",
    "        (-1, -2, -3, -4),\n",
    "        (-5, -6, -7, -8)\n",
    "    )\n",
    "    )\n",
    "\n",
    "except TypeError:\n",
    "    print('TypeError')\n",
    "except ValueError:\n",
    "    print('ValueError')"
   ]
  },
  {
   "source": [
    "## Exercise 5.16\n",
    "\n",
    "Which of the following are valid matrix products? For those that are valid, what dimension is the product matrix?"
   ],
   "cell_type": "markdown",
   "metadata": {}
  },
  {
   "source": [
    "a)\n",
    "$\n",
    "\\begin{pmatrix}\n",
    "10 & 0 \\\\\n",
    "3 & 4\n",
    "\\end{pmatrix}\n",
    "\\begin{pmatrix}\n",
    "8 & 2 & 3 & 6 \\\\\n",
    "7 & 8 & 9 & 4 \\\\\n",
    "5 & 7 & 0 & 9 \\\\\n",
    "3 & 3 & 0 & 2\n",
    "\\end{pmatrix}\n",
    "$\n",
    "\n",
    "This multiplication of matrices is not possible because the number of columns of the first matrix, does not match the number of rows of the second matrix:"
   ],
   "cell_type": "markdown",
   "metadata": {}
  },
  {
   "source": [
    "b)\n",
    "$\n",
    "\\begin{pmatrix}\n",
    "0 & 2 & 1 & -2 \\\\\n",
    "-2 & 1 & -2 & -1\n",
    "\\end{pmatrix}\n",
    "\\begin{pmatrix}\n",
    "-3 & 5 \\\\\n",
    "1 & -1 \\\\\n",
    "-4 & -4 \\\\\n",
    "-2 & -4\n",
    "\\end{pmatrix}\n",
    "$\n",
    "\n",
    "This multiplication is possible and the resulting matrix will be a 2x2 matrix."
   ],
   "cell_type": "markdown",
   "metadata": {}
  },
  {
   "source": [
    "c)\n",
    "$\n",
    "\\begin{pmatrix}\n",
    "1 \\\\\n",
    "3 \\\\\n",
    "0\n",
    "\\end{pmatrix}\n",
    "\\begin{pmatrix}\n",
    "3 & 3 & 5 & 1 & 3 & 0 & 5 & 1\n",
    "\\end{pmatrix}\n",
    "$\n",
    "\n",
    "This multiplication is possible because the number of columns of the first matrix is one (it is a column vector), and the number of rows of the second matrix is one (it is row vector).\n",
    "\n",
    "The resulting matrix will be a 3x8 matrix.\n"
   ],
   "cell_type": "markdown",
   "metadata": {}
  },
  {
   "source": [
    "d)\n",
    "$\n",
    "\\begin{pmatrix}\n",
    "9 & 2 & 3 \\\\\n",
    "0 & 6 & 8 \\\\\n",
    "7 & 7 & 9\n",
    "\\end{pmatrix}\n",
    "\\begin{pmatrix}\n",
    "7 & 8 & 9 \\\\\n",
    "10 & 7 & 8\n",
    "\\end{pmatrix}\n",
    "$\n",
    "\n",
    "This multiplication is not possible because the number of columns of the first matrix (3) does not match the number of rows of the second one (2)\n"
   ],
   "cell_type": "markdown",
   "metadata": {}
  },
  {
   "source": [
    "## Exercise 5.17\n",
    "\n",
    "A matrix with 15 total entries is multiplied by a matrix with 6 total entries. What are the dimensions of the two matrices, and what is the dimension of the product matrix?"
   ],
   "cell_type": "markdown",
   "metadata": {}
  },
  {
   "source": [
    "Let's assume that the first matrix is $ m \\times n $ and the second matrix is $n \\times k $.\n",
    "\n",
    "Then:\n",
    "\n",
    "$ \n",
    "m \\cdot n = 15 \\\\\n",
    "n \\cdot k = 6\n",
    "$\n",
    "\n",
    "There are two possible solutions:\n",
    "\n",
    "a)\n",
    "$ m = 5, \\hspace{1ex} n = 3, \\hspace{1ex} k = 2 $, result = $ 5 \\times 2 $ matrix\n",
    "\n",
    "b)\n",
    "$ m = 15, \\hspace{1ex} n = 1, \\hspace{1ex} k = 6 $, result = $ 15 \\times 6 $ matrix\n"
   ],
   "cell_type": "markdown",
   "metadata": {}
  },
  {
   "source": [
    "# Exercise 5.18\n",
    "\n",
    "Write a function that turns a column vector into a row vector, or vice versa. Flipping a matrix on its side like this is called transposition and the resulting matrix is called the transpose of the original."
   ],
   "cell_type": "markdown",
   "metadata": {}
  },
  {
   "source": [
    "We've seen before that the `zip(...)` operation is the magic trick for the transposition.\n",
    "\n",
    "Let's see why:"
   ],
   "cell_type": "markdown",
   "metadata": {}
  },
  {
   "cell_type": "code",
   "execution_count": 12,
   "metadata": {},
   "outputs": [
    {
     "output_type": "execute_result",
     "data": {
      "text/plain": [
       "[(1,), (3,), (5,)]"
      ]
     },
     "metadata": {},
     "execution_count": 12
    }
   ],
   "source": [
    "# basic use case, note that the longer list gets truncated\n",
    "list_a = (1, 3, 5)\n",
    "list_b = (2, 4, 6, 8)\n",
    "\n",
    "list(zip(list_a, list_b))\n",
    "\n",
    "# passing three lists\n",
    "list_a = (1, 3, 5)\n",
    "list_b = (2, 4, 6, 8)\n",
    "list_c = ('a', 'b', 'c')\n",
    "\n",
    "list(zip(list_a, list_b, list_c))\n",
    "\n",
    "# passing a single list transposes:\n",
    "# According to the official docs: https://docs.python.org/3.3/library/functions.html#zip\n",
    "# `zip(*iterables)` when gave a single iterable argument, it returns an iterator of 1-tuples\n",
    "# corresponding to each of the elements of the given iterable\n",
    "list_a = (1, 3, 5)\n",
    "list(zip(list_a))"
   ]
  },
  {
   "source": [
    "Thus, thanks to how the `zip(...)` function behaves when given a single argument will help doing the transposition for matrices a vectors written as matrices:\n"
   ],
   "cell_type": "markdown",
   "metadata": {}
  },
  {
   "cell_type": "code",
   "execution_count": 23,
   "metadata": {},
   "outputs": [
    {
     "output_type": "stream",
     "name": "stdout",
     "text": [
      "((1, 4), (2, 5), (3, 6))\n((1,), (2,), (3,))\n((1, 2, 3),)\n"
     ]
    }
   ],
   "source": [
    "def transpose(matrix):\n",
    "    return tuple(zip(*matrix))\n",
    "\n",
    "a = (\n",
    "    (1, 2, 3),\n",
    "    (4, 5, 6))\n",
    "\n",
    "# (\n",
    "#   (1, 4), \n",
    "#   (2, 5), \n",
    "#   (3, 6)\n",
    "# )\n",
    "print(transpose(a))    \n",
    "\n",
    "# it works with vectors too, but you have to write them as matrices (tuples of tuples)\n",
    "row_vector = ((1, 2, 3),)\n",
    "print(transpose(row_vector))\n",
    "\n",
    "# this will fail as we're not passing a tuple of tuples\n",
    "vector = (1, 2, 3)\n",
    "# transpose(vector)\n",
    "\n",
    "# this will work well, as we're passing a tuple of tuples\n",
    "col_vector = (\n",
    "    (1,),\n",
    "    (2,),\n",
    "    (3,)\n",
    "    )\n",
    "print(transpose(col_vector))"
   ]
  },
  {
   "source": [
    "Note however, that we could transpose a regular vector (tuple) using `zip(...)` without using the `*` operator:"
   ],
   "cell_type": "markdown",
   "metadata": {}
  },
  {
   "cell_type": "code",
   "execution_count": 24,
   "metadata": {},
   "outputs": [
    {
     "output_type": "execute_result",
     "data": {
      "text/plain": [
       "((1,), (2,), (3,))"
      ]
     },
     "metadata": {},
     "execution_count": 24
    }
   ],
   "source": [
    "vector = (1, 2, 3)\n",
    "\n",
    "tuple(zip(vector))"
   ]
  },
  {
   "source": [
    "We can then define both functions to help us do any kind of transpositions:"
   ],
   "cell_type": "markdown",
   "metadata": {}
  },
  {
   "cell_type": "code",
   "execution_count": 9,
   "metadata": {},
   "outputs": [
    {
     "output_type": "stream",
     "name": "stdout",
     "text": [
      "((1,), (2,), (3,))\n((1, 4), (2, 5), (3, 6))\n((1, 2, 3),)\n(1, 2, 3)\n"
     ]
    }
   ],
   "source": [
    "from my_matrices import transpose, transpose_row_vector\n",
    "\n",
    "v = (1, 2, 3)\n",
    "vt = transpose_row_vector(v)\n",
    "\n",
    "print(vt)\n",
    "\n",
    "a = (\n",
    "    (1, 2, 3),\n",
    "    (4, 5, 6))\n",
    "\n",
    "at = transpose(a)\n",
    "print(at)\n",
    "\n",
    "w = ((1, ),\n",
    "(2, ),\n",
    "(3, ))\n",
    "\n",
    "wt = transpose(w)\n",
    "print(wt)\n",
    "\n",
    "unpacked_wt = wt[0]\n",
    "print(unpacked_wt)"
   ]
  },
  {
   "source": [
    "# Exercise 5.19\n",
    "\n",
    "Draw a picture that shows a 10x8 and a 5x8 matrix can't be multiplied in that order."
   ],
   "cell_type": "markdown",
   "metadata": {}
  },
  {
   "source": [
    "## Exercise 5.20\n",
    "\n",
    "We want to multiply three matrices together: $ A $ is $ 5 \\times 7 $, $ B $ is $ 2 \\times 3 $ and C is $ 3 \\times 5 $. What order can they be multiplied, and what is the size of the result?\n"
   ],
   "cell_type": "markdown",
   "metadata": {}
  },
  {
   "source": [
    "Two matrices can be multiplied when they number of columns of the first matrix matches the number of rows of the second. The resulting matrix is the number of rows of the first matrix by the number of cols of the second.\n",
    "\n",
    "Therefore, one way to multiply those matrices will be:\n",
    "\n",
    "$ \n",
    "B C A\n",
    "$\n",
    "\n",
    "$ B C $ gives a resulting matrix of $ 2 \\times 5 $ and therefore, the resulting matrix will be $ 2 \\times 7 $."
   ],
   "cell_type": "markdown",
   "metadata": {}
  },
  {
   "source": [
    "# Exercise 5.21\n",
    "\n",
    "Projection onto the $ y, z $ plane and onto the $ x, z $ plane are also linear maps from 3D to 2D. What are their matrices?"
   ],
   "cell_type": "markdown",
   "metadata": {}
  },
  {
   "source": [
    "We know from the concepts section that a linear transformation matrix results from applying the transformation to the standard basis vectors.\n",
    "\n",
    "Therefore:\n",
    "\n",
    "$\n",
    "P_{x=0} = \\begin{pmatrix}\n",
    "0 & 1 & 0 \\\\\n",
    "0 & 0 & 1\n",
    "\\end{pmatrix}\n",
    "$\n",
    "\n",
    "$\n",
    "P_{y=0} = \\begin{pmatrix}\n",
    "1 & 0 & 0 \\\\\n",
    "0 & 0 & 1\n",
    "\\end{pmatrix}\n",
    "$\n",
    "\n",
    "We can validate it, alebrically doing:\n",
    "\n",
    "$\n",
    "P_{x=0} = \\begin{pmatrix}\n",
    "0 & 1 & 0 \\\\\n",
    "0 & 0 & 1\n",
    "\\end{pmatrix} \\begin{pmatrix}\n",
    "x \\\\\n",
    "y \\\\\n",
    "z\n",
    "\\end{pmatrix} = \\begin{pmatrix}\n",
    "y \\\\\n",
    "z\n",
    "\\end{pmatrix}\n",
    "$\n",
    "\n",
    "$\n",
    "P_{y=0} = \\begin{pmatrix}\n",
    "1 & 0 & 0 \\\\\n",
    "0 & 0 & 1\n",
    "\\end{pmatrix} \\begin{pmatrix}\n",
    "x \\\\\n",
    "y \\\\\n",
    "z\n",
    "\\end{pmatrix} = \\begin{pmatrix}\n",
    "x \\\\\n",
    "z\n",
    "\\end{pmatrix}\n",
    "$"
   ],
   "cell_type": "markdown",
   "metadata": {}
  },
  {
   "source": [
    "# Exercise 5.22\n",
    "\n",
    "Show by example that the `infer_matrix(...)` function can create matrices for linear functions whose inputs and outputs are different dimensions."
   ],
   "cell_type": "markdown",
   "metadata": {}
  },
  {
   "source": [
    "Let's try with the projection in the $ z=0 $ plane:"
   ],
   "cell_type": "markdown",
   "metadata": {}
  },
  {
   "cell_type": "code",
   "execution_count": 2,
   "metadata": {},
   "outputs": [
    {
     "output_type": "stream",
     "name": "stdout",
     "text": [
      "((1, 0, 0), (0, 1, 0))\n"
     ]
    }
   ],
   "source": [
    "from my_matrices import infer_matrix\n",
    "\n",
    "def project_xy(v_3d):\n",
    "    x, y, z = v_3d\n",
    "    return (x, y)\n",
    "\n",
    "\n",
    "inferred_linear_transformation = infer_matrix(3, project_xy)\n",
    "print(inferred_linear_transformation) "
   ]
  },
  {
   "source": [
    "# Exercise 5.23\n",
    "\n",
    "Write a $ 4 \\times 5 $ matrix that acts on a 5D vector by deleting the third of its five entries, thereby producing a 4D vector.\n",
    "\n",
    "For example, $ P((1, 2, 3, 4, 5)) $ should return $ (1, 2, 4, 5) $"
   ],
   "cell_type": "markdown",
   "metadata": {}
  },
  {
   "source": [
    "We know from the concepts section that linear maps matrices are built in the same way as linear transformations &mdash; by applying the transformation to the vectors of the standard basis.\n",
    "\n",
    "Therefore:\n",
    "\n",
    "$\n",
    "P = \\begin{pmatrix}\n",
    "1 & 0 & 0 & 0 & 0 \\\\\n",
    "0 & 1 & 0 & 0 & 0 \\\\\n",
    "0 & 0 & 0 & 1 & 0 \\\\\n",
    "0 & 0 & 0 & 0 & 1 \\\\\n",
    "\\end{pmatrix}\n",
    "$"
   ],
   "cell_type": "markdown",
   "metadata": {}
  },
  {
   "cell_type": "code",
   "execution_count": 1,
   "metadata": {},
   "outputs": [
    {
     "output_type": "stream",
     "name": "stdout",
     "text": [
      "(1, 2, 4, 5)\n"
     ]
    }
   ],
   "source": [
    "from my_matrices import multiply_matrix_vector\n",
    "linear_map = (\n",
    "    (1, 0, 0, 0, 0),\n",
    "    (0, 1, 0, 0, 0),\n",
    "    (0, 0, 0, 1, 0),\n",
    "    (0, 0, 0, 0, 1)\n",
    ")\n",
    "\n",
    "v = (1, 2, 3, 4, 5)\n",
    "\n",
    "transformed_v = multiply_matrix_vector(linear_map, v)\n",
    "print(transformed_v)\n"
   ]
  },
  {
   "source": [
    "# Exercise 5.24\n",
    "\n",
    "Consider the vector of six variables $ (l, e, m, o, n, s) $. Find the matrix for the linear transformation that acts on this vector to produce the vector $ (s, o, l, e, m, n) $ as result."
   ],
   "cell_type": "markdown",
   "metadata": {}
  },
  {
   "source": [
    "Note how the linear transformation is a *reorganization* of the letters of the first vector.\n",
    "\n",
    "+ 1st entry is transformed into the 3rd one\n",
    "+ 2nd entry is transformed into the 4th one\n",
    "+ 3rd entry is transformed into the 5th one\n",
    "+ 4th entry is transforrmed into the 2nd one\n",
    "+ 5th entry is transformed into the 6th one\n",
    "+ 6th entry is transformed into the first one\n",
    "\n",
    "Then, even when we don't know about the standard basis vectors, we can do:\n",
    "\n",
    "$\n",
    "L = \\begin{pmatrix}\n",
    "0 & 0 & 0 & 0 & 0 & 1 \\\\\n",
    "0 & 0 & 0 & 1 & 0 & 0 \\\\\n",
    "1 & 0 & 0 & 0 & 0 & 0 \\\\\n",
    "0 & 1 & 0 & 0 & 0 & 0 \\\\\n",
    "0 & 0 & 1 & 0 & 0 & 0 \\\\\n",
    "0 & 0 & 0 & 0 & 1 & 0\n",
    "\\end{pmatrix}\n",
    "$\n",
    "\n",
    "And thus:\n",
    "\n",
    "$\n",
    "\\begin{pmatrix}\n",
    "0 & 0 & 0 & 0 & 0 & 1 \\\\\n",
    "0 & 0 & 0 & 1 & 0 & 0 \\\\\n",
    "1 & 0 & 0 & 0 & 0 & 0 \\\\\n",
    "0 & 1 & 0 & 0 & 0 & 0 \\\\\n",
    "0 & 0 & 1 & 0 & 0 & 0 \\\\\n",
    "0 & 0 & 0 & 0 & 1 & 0\n",
    "\\end{pmatrix} \\begin{pmatrix}\n",
    "l \\\\\n",
    "e \\\\\n",
    "m \\\\\n",
    "o \\\\\n",
    "n \\\\\n",
    "s\n",
    "\\end{pmatrix} = \\begin{pmatrix}\n",
    "s \\\\\n",
    "o \\\\\n",
    "l \\\\\n",
    "e \\\\\n",
    "m \\\\\n",
    "n\n",
    "\\end{pmatrix}\n",
    "$"
   ],
   "cell_type": "markdown",
   "metadata": {}
  },
  {
   "source": [
    "## Exercise 5.25\n",
    "\n",
    "What valid products can be made from the matrices, $ M $, $ N $, $ P $, and $ Q $ from section 5.2.5. Include in your consideration the products of matrices with themselves. For the products that are valid, what are the dimensions of the matrix products?\n",
    "\n",
    "From section 5.2.5 we see that:\n",
    "+ M is a $ 3 \\times 3 $ matrix\n",
    "+ N is a $ 2 \\times 2 $ matrix\n",
    "+ P is a $ 2 \\times 3 $ matrix\n",
    "+ Q is a $ 2 \\times 3 $ matrix\n",
    "\n",
    "+ $ M M $ is a valid product, result matrix is $ 3 \\times 3 $ matrix\n",
    "+ $ M N $ is not a valid product\n",
    "+ $ M P $ is not a valid product\n",
    "+ $ M Q $ is not a valid product\n",
    "\n",
    "+ $ N M $ is not a valid product\n",
    "+ $ N N $ is a valid product, result matrix is $ 2 \\times 2 $ matrix\n",
    "+ $ N P $ is a valid product, result matrix is $ 2 \\times 3 $ matrix\n",
    "+ $ N Q $ is a valid product, result matrix is $ 2 \\times 3 $ matrix\n",
    "\n",
    "+ $ P M $ is a valid product, result matrix is $ 2 \\times 3 $ matrix\n",
    "+ $ P N $ is not a valid product\n",
    "+ $ P P $ is not a valid product\n",
    "+ $ P Q $ is not a valid product\n",
    "\n",
    "+ $ Q M $ is a valid product, result matrix is $ 2 \\times 3 $ matrix\n",
    "+ $ Q N $ is not a valid product\n",
    "+ $ Q P $ is not a valid product\n",
    "+ $ Q Q $ is not a valid product\n",
    "\n"
   ],
   "cell_type": "markdown",
   "metadata": {}
  },
  {
   "source": [
    "## Exercise 5.26\n",
    "\n",
    "Show that the translation matrix does not work if you place the 2D figure in the plane $ z = 2 $. What happens?"
   ],
   "cell_type": "markdown",
   "metadata": {}
  },
  {
   "source": [
    "The exercise consists in using the same translation matrix:\n",
    "\n",
    "$\n",
    "\\begin{pmatrix}\n",
    "1 & 0 & a \\\\\n",
    "0 & 1 & b \\\\\n",
    "0 & 0 & 1 \n",
    "\\end{pmatrix}\n",
    "$\n",
    "\n",
    "but *upgrading* the vector to $ (x, y, 2) $.\n",
    "\n",
    "Algebraically, we see:\n",
    "\n",
    "$\n",
    "\\begin{pmatrix}\n",
    "1 & 0 & a \\\\\n",
    "0 & 1 & b \\\\\n",
    "0 & 0 & 1 \n",
    "\\end{pmatrix} \\begin{pmatrix}\n",
    "x \\\\\n",
    "y \\\\\n",
    "2\n",
    "\\end{pmatrix} = \\begin{pmatrix}\n",
    "x + 2a \\\\\n",
    "y + 2b\n",
    "\\end{pmatrix}\n",
    "$\n",
    "\n",
    "Therefore, the vector will translated twice as far."
   ],
   "cell_type": "markdown",
   "metadata": {}
  },
  {
   "source": [
    "Let's see what happens when we use $ (1, 1) $ as the translation vector and that matrix:"
   ],
   "cell_type": "markdown",
   "metadata": {}
  },
  {
   "cell_type": "code",
   "execution_count": 8,
   "metadata": {},
   "outputs": [
    {
     "output_type": "display_data",
     "data": {
      "text/plain": "<Figure size 432x374.4 with 1 Axes>",
      "image/svg+xml": "<?xml version=\"1.0\" encoding=\"utf-8\" standalone=\"no\"?>\n<!DOCTYPE svg PUBLIC \"-//W3C//DTD SVG 1.1//EN\"\n  \"http://www.w3.org/Graphics/SVG/1.1/DTD/svg11.dtd\">\n<!-- Created with matplotlib (https://matplotlib.org/) -->\n<svg height=\"313.750125pt\" version=\"1.1\" viewBox=\"0 0 370.942187 313.750125\" width=\"370.942187pt\" xmlns=\"http://www.w3.org/2000/svg\" xmlns:xlink=\"http://www.w3.org/1999/xlink\">\n <defs>\n  <style type=\"text/css\">\n*{stroke-linecap:butt;stroke-linejoin:round;}\n  </style>\n </defs>\n <g id=\"figure_1\">\n  <g id=\"patch_1\">\n   <path d=\"M 0 313.750125 \nL 370.942187 313.750125 \nL 370.942187 0 \nL 0 0 \nz\n\" style=\"fill:none;\"/>\n  </g>\n  <g id=\"axes_1\">\n   <g id=\"patch_2\">\n    <path d=\"M 28.942188 289.872 \nL 363.742188 289.872 \nL 363.742188 7.2 \nL 28.942188 7.2 \nz\n\" style=\"fill:#ffffff;\"/>\n   </g>\n   <g id=\"matplotlib.axis_1\">\n    <g id=\"xtick_1\">\n     <g id=\"line2d_1\">\n      <path clip-path=\"url(#p9ed68ce78d)\" d=\"M 28.942187 289.872 \nL 28.942187 7.2 \n\" style=\"fill:none;stroke:#b0b0b0;stroke-linecap:square;stroke-width:0.8;\"/>\n     </g>\n     <g id=\"line2d_2\">\n      <defs>\n       <path d=\"M 0 0 \nL 0 3.5 \n\" id=\"ma95f506e04\" style=\"stroke:#000000;stroke-width:0.8;\"/>\n      </defs>\n      <g>\n       <use style=\"stroke:#000000;stroke-width:0.8;\" x=\"28.942187\" xlink:href=\"#ma95f506e04\" y=\"289.872\"/>\n      </g>\n     </g>\n     <g id=\"text_1\">\n      <!-- −6 -->\n      <defs>\n       <path d=\"M 10.59375 35.5 \nL 73.1875 35.5 \nL 73.1875 27.203125 \nL 10.59375 27.203125 \nz\n\" id=\"DejaVuSans-8722\"/>\n       <path d=\"M 33.015625 40.375 \nQ 26.375 40.375 22.484375 35.828125 \nQ 18.609375 31.296875 18.609375 23.390625 \nQ 18.609375 15.53125 22.484375 10.953125 \nQ 26.375 6.390625 33.015625 6.390625 \nQ 39.65625 6.390625 43.53125 10.953125 \nQ 47.40625 15.53125 47.40625 23.390625 \nQ 47.40625 31.296875 43.53125 35.828125 \nQ 39.65625 40.375 33.015625 40.375 \nz\nM 52.59375 71.296875 \nL 52.59375 62.3125 \nQ 48.875 64.0625 45.09375 64.984375 \nQ 41.3125 65.921875 37.59375 65.921875 \nQ 27.828125 65.921875 22.671875 59.328125 \nQ 17.53125 52.734375 16.796875 39.40625 \nQ 19.671875 43.65625 24.015625 45.921875 \nQ 28.375 48.1875 33.59375 48.1875 \nQ 44.578125 48.1875 50.953125 41.515625 \nQ 57.328125 34.859375 57.328125 23.390625 \nQ 57.328125 12.15625 50.6875 5.359375 \nQ 44.046875 -1.421875 33.015625 -1.421875 \nQ 20.359375 -1.421875 13.671875 8.265625 \nQ 6.984375 17.96875 6.984375 36.375 \nQ 6.984375 53.65625 15.1875 63.9375 \nQ 23.390625 74.21875 37.203125 74.21875 \nQ 40.921875 74.21875 44.703125 73.484375 \nQ 48.484375 72.75 52.59375 71.296875 \nz\n\" id=\"DejaVuSans-54\"/>\n      </defs>\n      <g transform=\"translate(21.571094 304.470438)scale(0.1 -0.1)\">\n       <use xlink:href=\"#DejaVuSans-8722\"/>\n       <use x=\"83.789062\" xlink:href=\"#DejaVuSans-54\"/>\n      </g>\n     </g>\n    </g>\n    <g id=\"xtick_2\">\n     <g id=\"line2d_3\">\n      <path clip-path=\"url(#p9ed68ce78d)\" d=\"M 51.262188 289.872 \nL 51.262188 7.2 \n\" style=\"fill:none;stroke:#b0b0b0;stroke-linecap:square;stroke-width:0.8;\"/>\n     </g>\n     <g id=\"line2d_4\">\n      <g>\n       <use style=\"stroke:#000000;stroke-width:0.8;\" x=\"51.262188\" xlink:href=\"#ma95f506e04\" y=\"289.872\"/>\n      </g>\n     </g>\n     <g id=\"text_2\">\n      <!-- −5 -->\n      <defs>\n       <path d=\"M 10.796875 72.90625 \nL 49.515625 72.90625 \nL 49.515625 64.59375 \nL 19.828125 64.59375 \nL 19.828125 46.734375 \nQ 21.96875 47.46875 24.109375 47.828125 \nQ 26.265625 48.1875 28.421875 48.1875 \nQ 40.625 48.1875 47.75 41.5 \nQ 54.890625 34.8125 54.890625 23.390625 \nQ 54.890625 11.625 47.5625 5.09375 \nQ 40.234375 -1.421875 26.90625 -1.421875 \nQ 22.3125 -1.421875 17.546875 -0.640625 \nQ 12.796875 0.140625 7.71875 1.703125 \nL 7.71875 11.625 \nQ 12.109375 9.234375 16.796875 8.0625 \nQ 21.484375 6.890625 26.703125 6.890625 \nQ 35.15625 6.890625 40.078125 11.328125 \nQ 45.015625 15.765625 45.015625 23.390625 \nQ 45.015625 31 40.078125 35.4375 \nQ 35.15625 39.890625 26.703125 39.890625 \nQ 22.75 39.890625 18.8125 39.015625 \nQ 14.890625 38.140625 10.796875 36.28125 \nz\n\" id=\"DejaVuSans-53\"/>\n      </defs>\n      <g transform=\"translate(43.891094 304.470438)scale(0.1 -0.1)\">\n       <use xlink:href=\"#DejaVuSans-8722\"/>\n       <use x=\"83.789062\" xlink:href=\"#DejaVuSans-53\"/>\n      </g>\n     </g>\n    </g>\n    <g id=\"xtick_3\">\n     <g id=\"line2d_5\">\n      <path clip-path=\"url(#p9ed68ce78d)\" d=\"M 73.582188 289.872 \nL 73.582188 7.2 \n\" style=\"fill:none;stroke:#b0b0b0;stroke-linecap:square;stroke-width:0.8;\"/>\n     </g>\n     <g id=\"line2d_6\">\n      <g>\n       <use style=\"stroke:#000000;stroke-width:0.8;\" x=\"73.582188\" xlink:href=\"#ma95f506e04\" y=\"289.872\"/>\n      </g>\n     </g>\n     <g id=\"text_3\">\n      <!-- −4 -->\n      <defs>\n       <path d=\"M 37.796875 64.3125 \nL 12.890625 25.390625 \nL 37.796875 25.390625 \nz\nM 35.203125 72.90625 \nL 47.609375 72.90625 \nL 47.609375 25.390625 \nL 58.015625 25.390625 \nL 58.015625 17.1875 \nL 47.609375 17.1875 \nL 47.609375 0 \nL 37.796875 0 \nL 37.796875 17.1875 \nL 4.890625 17.1875 \nL 4.890625 26.703125 \nz\n\" id=\"DejaVuSans-52\"/>\n      </defs>\n      <g transform=\"translate(66.211094 304.470438)scale(0.1 -0.1)\">\n       <use xlink:href=\"#DejaVuSans-8722\"/>\n       <use x=\"83.789062\" xlink:href=\"#DejaVuSans-52\"/>\n      </g>\n     </g>\n    </g>\n    <g id=\"xtick_4\">\n     <g id=\"line2d_7\">\n      <path clip-path=\"url(#p9ed68ce78d)\" d=\"M 95.902187 289.872 \nL 95.902187 7.2 \n\" style=\"fill:none;stroke:#b0b0b0;stroke-linecap:square;stroke-width:0.8;\"/>\n     </g>\n     <g id=\"line2d_8\">\n      <g>\n       <use style=\"stroke:#000000;stroke-width:0.8;\" x=\"95.902187\" xlink:href=\"#ma95f506e04\" y=\"289.872\"/>\n      </g>\n     </g>\n     <g id=\"text_4\">\n      <!-- −3 -->\n      <defs>\n       <path d=\"M 40.578125 39.3125 \nQ 47.65625 37.796875 51.625 33 \nQ 55.609375 28.21875 55.609375 21.1875 \nQ 55.609375 10.40625 48.1875 4.484375 \nQ 40.765625 -1.421875 27.09375 -1.421875 \nQ 22.515625 -1.421875 17.65625 -0.515625 \nQ 12.796875 0.390625 7.625 2.203125 \nL 7.625 11.71875 \nQ 11.71875 9.328125 16.59375 8.109375 \nQ 21.484375 6.890625 26.8125 6.890625 \nQ 36.078125 6.890625 40.9375 10.546875 \nQ 45.796875 14.203125 45.796875 21.1875 \nQ 45.796875 27.640625 41.28125 31.265625 \nQ 36.765625 34.90625 28.71875 34.90625 \nL 20.21875 34.90625 \nL 20.21875 43.015625 \nL 29.109375 43.015625 \nQ 36.375 43.015625 40.234375 45.921875 \nQ 44.09375 48.828125 44.09375 54.296875 \nQ 44.09375 59.90625 40.109375 62.90625 \nQ 36.140625 65.921875 28.71875 65.921875 \nQ 24.65625 65.921875 20.015625 65.03125 \nQ 15.375 64.15625 9.8125 62.3125 \nL 9.8125 71.09375 \nQ 15.4375 72.65625 20.34375 73.4375 \nQ 25.25 74.21875 29.59375 74.21875 \nQ 40.828125 74.21875 47.359375 69.109375 \nQ 53.90625 64.015625 53.90625 55.328125 \nQ 53.90625 49.265625 50.4375 45.09375 \nQ 46.96875 40.921875 40.578125 39.3125 \nz\n\" id=\"DejaVuSans-51\"/>\n      </defs>\n      <g transform=\"translate(88.531094 304.470438)scale(0.1 -0.1)\">\n       <use xlink:href=\"#DejaVuSans-8722\"/>\n       <use x=\"83.789062\" xlink:href=\"#DejaVuSans-51\"/>\n      </g>\n     </g>\n    </g>\n    <g id=\"xtick_5\">\n     <g id=\"line2d_9\">\n      <path clip-path=\"url(#p9ed68ce78d)\" d=\"M 118.222188 289.872 \nL 118.222188 7.2 \n\" style=\"fill:none;stroke:#b0b0b0;stroke-linecap:square;stroke-width:0.8;\"/>\n     </g>\n     <g id=\"line2d_10\">\n      <g>\n       <use style=\"stroke:#000000;stroke-width:0.8;\" x=\"118.222188\" xlink:href=\"#ma95f506e04\" y=\"289.872\"/>\n      </g>\n     </g>\n     <g id=\"text_5\">\n      <!-- −2 -->\n      <defs>\n       <path d=\"M 19.1875 8.296875 \nL 53.609375 8.296875 \nL 53.609375 0 \nL 7.328125 0 \nL 7.328125 8.296875 \nQ 12.9375 14.109375 22.625 23.890625 \nQ 32.328125 33.6875 34.8125 36.53125 \nQ 39.546875 41.84375 41.421875 45.53125 \nQ 43.3125 49.21875 43.3125 52.78125 \nQ 43.3125 58.59375 39.234375 62.25 \nQ 35.15625 65.921875 28.609375 65.921875 \nQ 23.96875 65.921875 18.8125 64.3125 \nQ 13.671875 62.703125 7.8125 59.421875 \nL 7.8125 69.390625 \nQ 13.765625 71.78125 18.9375 73 \nQ 24.125 74.21875 28.421875 74.21875 \nQ 39.75 74.21875 46.484375 68.546875 \nQ 53.21875 62.890625 53.21875 53.421875 \nQ 53.21875 48.921875 51.53125 44.890625 \nQ 49.859375 40.875 45.40625 35.40625 \nQ 44.1875 33.984375 37.640625 27.21875 \nQ 31.109375 20.453125 19.1875 8.296875 \nz\n\" id=\"DejaVuSans-50\"/>\n      </defs>\n      <g transform=\"translate(110.851094 304.470438)scale(0.1 -0.1)\">\n       <use xlink:href=\"#DejaVuSans-8722\"/>\n       <use x=\"83.789062\" xlink:href=\"#DejaVuSans-50\"/>\n      </g>\n     </g>\n    </g>\n    <g id=\"xtick_6\">\n     <g id=\"line2d_11\">\n      <path clip-path=\"url(#p9ed68ce78d)\" d=\"M 140.542188 289.872 \nL 140.542188 7.2 \n\" style=\"fill:none;stroke:#b0b0b0;stroke-linecap:square;stroke-width:0.8;\"/>\n     </g>\n     <g id=\"line2d_12\">\n      <g>\n       <use style=\"stroke:#000000;stroke-width:0.8;\" x=\"140.542188\" xlink:href=\"#ma95f506e04\" y=\"289.872\"/>\n      </g>\n     </g>\n     <g id=\"text_6\">\n      <!-- −1 -->\n      <defs>\n       <path d=\"M 12.40625 8.296875 \nL 28.515625 8.296875 \nL 28.515625 63.921875 \nL 10.984375 60.40625 \nL 10.984375 69.390625 \nL 28.421875 72.90625 \nL 38.28125 72.90625 \nL 38.28125 8.296875 \nL 54.390625 8.296875 \nL 54.390625 0 \nL 12.40625 0 \nz\n\" id=\"DejaVuSans-49\"/>\n      </defs>\n      <g transform=\"translate(133.171094 304.470438)scale(0.1 -0.1)\">\n       <use xlink:href=\"#DejaVuSans-8722\"/>\n       <use x=\"83.789062\" xlink:href=\"#DejaVuSans-49\"/>\n      </g>\n     </g>\n    </g>\n    <g id=\"xtick_7\">\n     <g id=\"line2d_13\">\n      <path clip-path=\"url(#p9ed68ce78d)\" d=\"M 162.862188 289.872 \nL 162.862188 7.2 \n\" style=\"fill:none;stroke:#b0b0b0;stroke-linecap:square;stroke-width:0.8;\"/>\n     </g>\n     <g id=\"line2d_14\">\n      <g>\n       <use style=\"stroke:#000000;stroke-width:0.8;\" x=\"162.862188\" xlink:href=\"#ma95f506e04\" y=\"289.872\"/>\n      </g>\n     </g>\n     <g id=\"text_7\">\n      <!-- 0 -->\n      <defs>\n       <path d=\"M 31.78125 66.40625 \nQ 24.171875 66.40625 20.328125 58.90625 \nQ 16.5 51.421875 16.5 36.375 \nQ 16.5 21.390625 20.328125 13.890625 \nQ 24.171875 6.390625 31.78125 6.390625 \nQ 39.453125 6.390625 43.28125 13.890625 \nQ 47.125 21.390625 47.125 36.375 \nQ 47.125 51.421875 43.28125 58.90625 \nQ 39.453125 66.40625 31.78125 66.40625 \nz\nM 31.78125 74.21875 \nQ 44.046875 74.21875 50.515625 64.515625 \nQ 56.984375 54.828125 56.984375 36.375 \nQ 56.984375 17.96875 50.515625 8.265625 \nQ 44.046875 -1.421875 31.78125 -1.421875 \nQ 19.53125 -1.421875 13.0625 8.265625 \nQ 6.59375 17.96875 6.59375 36.375 \nQ 6.59375 54.828125 13.0625 64.515625 \nQ 19.53125 74.21875 31.78125 74.21875 \nz\n\" id=\"DejaVuSans-48\"/>\n      </defs>\n      <g transform=\"translate(159.680937 304.470438)scale(0.1 -0.1)\">\n       <use xlink:href=\"#DejaVuSans-48\"/>\n      </g>\n     </g>\n    </g>\n    <g id=\"xtick_8\">\n     <g id=\"line2d_15\">\n      <path clip-path=\"url(#p9ed68ce78d)\" d=\"M 185.182187 289.872 \nL 185.182187 7.2 \n\" style=\"fill:none;stroke:#b0b0b0;stroke-linecap:square;stroke-width:0.8;\"/>\n     </g>\n     <g id=\"line2d_16\">\n      <g>\n       <use style=\"stroke:#000000;stroke-width:0.8;\" x=\"185.182187\" xlink:href=\"#ma95f506e04\" y=\"289.872\"/>\n      </g>\n     </g>\n     <g id=\"text_8\">\n      <!-- 1 -->\n      <g transform=\"translate(182.000937 304.470438)scale(0.1 -0.1)\">\n       <use xlink:href=\"#DejaVuSans-49\"/>\n      </g>\n     </g>\n    </g>\n    <g id=\"xtick_9\">\n     <g id=\"line2d_17\">\n      <path clip-path=\"url(#p9ed68ce78d)\" d=\"M 207.502187 289.872 \nL 207.502187 7.2 \n\" style=\"fill:none;stroke:#b0b0b0;stroke-linecap:square;stroke-width:0.8;\"/>\n     </g>\n     <g id=\"line2d_18\">\n      <g>\n       <use style=\"stroke:#000000;stroke-width:0.8;\" x=\"207.502187\" xlink:href=\"#ma95f506e04\" y=\"289.872\"/>\n      </g>\n     </g>\n     <g id=\"text_9\">\n      <!-- 2 -->\n      <g transform=\"translate(204.320937 304.470438)scale(0.1 -0.1)\">\n       <use xlink:href=\"#DejaVuSans-50\"/>\n      </g>\n     </g>\n    </g>\n    <g id=\"xtick_10\">\n     <g id=\"line2d_19\">\n      <path clip-path=\"url(#p9ed68ce78d)\" d=\"M 229.822188 289.872 \nL 229.822188 7.2 \n\" style=\"fill:none;stroke:#b0b0b0;stroke-linecap:square;stroke-width:0.8;\"/>\n     </g>\n     <g id=\"line2d_20\">\n      <g>\n       <use style=\"stroke:#000000;stroke-width:0.8;\" x=\"229.822188\" xlink:href=\"#ma95f506e04\" y=\"289.872\"/>\n      </g>\n     </g>\n     <g id=\"text_10\">\n      <!-- 3 -->\n      <g transform=\"translate(226.640938 304.470438)scale(0.1 -0.1)\">\n       <use xlink:href=\"#DejaVuSans-51\"/>\n      </g>\n     </g>\n    </g>\n    <g id=\"xtick_11\">\n     <g id=\"line2d_21\">\n      <path clip-path=\"url(#p9ed68ce78d)\" d=\"M 252.142188 289.872 \nL 252.142188 7.2 \n\" style=\"fill:none;stroke:#b0b0b0;stroke-linecap:square;stroke-width:0.8;\"/>\n     </g>\n     <g id=\"line2d_22\">\n      <g>\n       <use style=\"stroke:#000000;stroke-width:0.8;\" x=\"252.142188\" xlink:href=\"#ma95f506e04\" y=\"289.872\"/>\n      </g>\n     </g>\n     <g id=\"text_11\">\n      <!-- 4 -->\n      <g transform=\"translate(248.960938 304.470438)scale(0.1 -0.1)\">\n       <use xlink:href=\"#DejaVuSans-52\"/>\n      </g>\n     </g>\n    </g>\n    <g id=\"xtick_12\">\n     <g id=\"line2d_23\">\n      <path clip-path=\"url(#p9ed68ce78d)\" d=\"M 274.462188 289.872 \nL 274.462188 7.2 \n\" style=\"fill:none;stroke:#b0b0b0;stroke-linecap:square;stroke-width:0.8;\"/>\n     </g>\n     <g id=\"line2d_24\">\n      <g>\n       <use style=\"stroke:#000000;stroke-width:0.8;\" x=\"274.462188\" xlink:href=\"#ma95f506e04\" y=\"289.872\"/>\n      </g>\n     </g>\n     <g id=\"text_12\">\n      <!-- 5 -->\n      <g transform=\"translate(271.280938 304.470438)scale(0.1 -0.1)\">\n       <use xlink:href=\"#DejaVuSans-53\"/>\n      </g>\n     </g>\n    </g>\n    <g id=\"xtick_13\">\n     <g id=\"line2d_25\">\n      <path clip-path=\"url(#p9ed68ce78d)\" d=\"M 296.782188 289.872 \nL 296.782188 7.2 \n\" style=\"fill:none;stroke:#b0b0b0;stroke-linecap:square;stroke-width:0.8;\"/>\n     </g>\n     <g id=\"line2d_26\">\n      <g>\n       <use style=\"stroke:#000000;stroke-width:0.8;\" x=\"296.782188\" xlink:href=\"#ma95f506e04\" y=\"289.872\"/>\n      </g>\n     </g>\n     <g id=\"text_13\">\n      <!-- 6 -->\n      <g transform=\"translate(293.600938 304.470438)scale(0.1 -0.1)\">\n       <use xlink:href=\"#DejaVuSans-54\"/>\n      </g>\n     </g>\n    </g>\n    <g id=\"xtick_14\">\n     <g id=\"line2d_27\">\n      <path clip-path=\"url(#p9ed68ce78d)\" d=\"M 319.102188 289.872 \nL 319.102188 7.2 \n\" style=\"fill:none;stroke:#b0b0b0;stroke-linecap:square;stroke-width:0.8;\"/>\n     </g>\n     <g id=\"line2d_28\">\n      <g>\n       <use style=\"stroke:#000000;stroke-width:0.8;\" x=\"319.102188\" xlink:href=\"#ma95f506e04\" y=\"289.872\"/>\n      </g>\n     </g>\n     <g id=\"text_14\">\n      <!-- 7 -->\n      <defs>\n       <path d=\"M 8.203125 72.90625 \nL 55.078125 72.90625 \nL 55.078125 68.703125 \nL 28.609375 0 \nL 18.3125 0 \nL 43.21875 64.59375 \nL 8.203125 64.59375 \nz\n\" id=\"DejaVuSans-55\"/>\n      </defs>\n      <g transform=\"translate(315.920938 304.470438)scale(0.1 -0.1)\">\n       <use xlink:href=\"#DejaVuSans-55\"/>\n      </g>\n     </g>\n    </g>\n    <g id=\"xtick_15\">\n     <g id=\"line2d_29\">\n      <path clip-path=\"url(#p9ed68ce78d)\" d=\"M 341.422188 289.872 \nL 341.422188 7.2 \n\" style=\"fill:none;stroke:#b0b0b0;stroke-linecap:square;stroke-width:0.8;\"/>\n     </g>\n     <g id=\"line2d_30\">\n      <g>\n       <use style=\"stroke:#000000;stroke-width:0.8;\" x=\"341.422188\" xlink:href=\"#ma95f506e04\" y=\"289.872\"/>\n      </g>\n     </g>\n     <g id=\"text_15\">\n      <!-- 8 -->\n      <defs>\n       <path d=\"M 31.78125 34.625 \nQ 24.75 34.625 20.71875 30.859375 \nQ 16.703125 27.09375 16.703125 20.515625 \nQ 16.703125 13.921875 20.71875 10.15625 \nQ 24.75 6.390625 31.78125 6.390625 \nQ 38.8125 6.390625 42.859375 10.171875 \nQ 46.921875 13.96875 46.921875 20.515625 \nQ 46.921875 27.09375 42.890625 30.859375 \nQ 38.875 34.625 31.78125 34.625 \nz\nM 21.921875 38.8125 \nQ 15.578125 40.375 12.03125 44.71875 \nQ 8.5 49.078125 8.5 55.328125 \nQ 8.5 64.0625 14.71875 69.140625 \nQ 20.953125 74.21875 31.78125 74.21875 \nQ 42.671875 74.21875 48.875 69.140625 \nQ 55.078125 64.0625 55.078125 55.328125 \nQ 55.078125 49.078125 51.53125 44.71875 \nQ 48 40.375 41.703125 38.8125 \nQ 48.828125 37.15625 52.796875 32.3125 \nQ 56.78125 27.484375 56.78125 20.515625 \nQ 56.78125 9.90625 50.3125 4.234375 \nQ 43.84375 -1.421875 31.78125 -1.421875 \nQ 19.734375 -1.421875 13.25 4.234375 \nQ 6.78125 9.90625 6.78125 20.515625 \nQ 6.78125 27.484375 10.78125 32.3125 \nQ 14.796875 37.15625 21.921875 38.8125 \nz\nM 18.3125 54.390625 \nQ 18.3125 48.734375 21.84375 45.5625 \nQ 25.390625 42.390625 31.78125 42.390625 \nQ 38.140625 42.390625 41.71875 45.5625 \nQ 45.3125 48.734375 45.3125 54.390625 \nQ 45.3125 60.0625 41.71875 63.234375 \nQ 38.140625 66.40625 31.78125 66.40625 \nQ 25.390625 66.40625 21.84375 63.234375 \nQ 18.3125 60.0625 18.3125 54.390625 \nz\n\" id=\"DejaVuSans-56\"/>\n      </defs>\n      <g transform=\"translate(338.240938 304.470438)scale(0.1 -0.1)\">\n       <use xlink:href=\"#DejaVuSans-56\"/>\n      </g>\n     </g>\n    </g>\n   </g>\n   <g id=\"matplotlib.axis_2\">\n    <g id=\"ytick_1\">\n     <g id=\"line2d_31\">\n      <path clip-path=\"url(#p9ed68ce78d)\" d=\"M 28.942188 289.872 \nL 363.742188 289.872 \n\" style=\"fill:none;stroke:#b0b0b0;stroke-linecap:square;stroke-width:0.8;\"/>\n     </g>\n     <g id=\"line2d_32\">\n      <defs>\n       <path d=\"M 0 0 \nL -3.5 0 \n\" id=\"m79d5b1373f\" style=\"stroke:#000000;stroke-width:0.8;\"/>\n      </defs>\n      <g>\n       <use style=\"stroke:#000000;stroke-width:0.8;\" x=\"28.942188\" xlink:href=\"#m79d5b1373f\" y=\"289.872\"/>\n      </g>\n     </g>\n     <g id=\"text_16\">\n      <!-- −5 -->\n      <g transform=\"translate(7.2 293.671219)scale(0.1 -0.1)\">\n       <use xlink:href=\"#DejaVuSans-8722\"/>\n       <use x=\"83.789062\" xlink:href=\"#DejaVuSans-53\"/>\n      </g>\n     </g>\n    </g>\n    <g id=\"ytick_2\">\n     <g id=\"line2d_33\">\n      <path clip-path=\"url(#p9ed68ce78d)\" d=\"M 28.942188 268.128 \nL 363.742188 268.128 \n\" style=\"fill:none;stroke:#b0b0b0;stroke-linecap:square;stroke-width:0.8;\"/>\n     </g>\n     <g id=\"line2d_34\">\n      <g>\n       <use style=\"stroke:#000000;stroke-width:0.8;\" x=\"28.942188\" xlink:href=\"#m79d5b1373f\" y=\"268.128\"/>\n      </g>\n     </g>\n     <g id=\"text_17\">\n      <!-- −4 -->\n      <g transform=\"translate(7.2 271.927219)scale(0.1 -0.1)\">\n       <use xlink:href=\"#DejaVuSans-8722\"/>\n       <use x=\"83.789062\" xlink:href=\"#DejaVuSans-52\"/>\n      </g>\n     </g>\n    </g>\n    <g id=\"ytick_3\">\n     <g id=\"line2d_35\">\n      <path clip-path=\"url(#p9ed68ce78d)\" d=\"M 28.942188 246.384 \nL 363.742188 246.384 \n\" style=\"fill:none;stroke:#b0b0b0;stroke-linecap:square;stroke-width:0.8;\"/>\n     </g>\n     <g id=\"line2d_36\">\n      <g>\n       <use style=\"stroke:#000000;stroke-width:0.8;\" x=\"28.942188\" xlink:href=\"#m79d5b1373f\" y=\"246.384\"/>\n      </g>\n     </g>\n     <g id=\"text_18\">\n      <!-- −3 -->\n      <g transform=\"translate(7.2 250.183219)scale(0.1 -0.1)\">\n       <use xlink:href=\"#DejaVuSans-8722\"/>\n       <use x=\"83.789062\" xlink:href=\"#DejaVuSans-51\"/>\n      </g>\n     </g>\n    </g>\n    <g id=\"ytick_4\">\n     <g id=\"line2d_37\">\n      <path clip-path=\"url(#p9ed68ce78d)\" d=\"M 28.942188 224.64 \nL 363.742188 224.64 \n\" style=\"fill:none;stroke:#b0b0b0;stroke-linecap:square;stroke-width:0.8;\"/>\n     </g>\n     <g id=\"line2d_38\">\n      <g>\n       <use style=\"stroke:#000000;stroke-width:0.8;\" x=\"28.942188\" xlink:href=\"#m79d5b1373f\" y=\"224.64\"/>\n      </g>\n     </g>\n     <g id=\"text_19\">\n      <!-- −2 -->\n      <g transform=\"translate(7.2 228.439219)scale(0.1 -0.1)\">\n       <use xlink:href=\"#DejaVuSans-8722\"/>\n       <use x=\"83.789062\" xlink:href=\"#DejaVuSans-50\"/>\n      </g>\n     </g>\n    </g>\n    <g id=\"ytick_5\">\n     <g id=\"line2d_39\">\n      <path clip-path=\"url(#p9ed68ce78d)\" d=\"M 28.942188 202.896 \nL 363.742188 202.896 \n\" style=\"fill:none;stroke:#b0b0b0;stroke-linecap:square;stroke-width:0.8;\"/>\n     </g>\n     <g id=\"line2d_40\">\n      <g>\n       <use style=\"stroke:#000000;stroke-width:0.8;\" x=\"28.942188\" xlink:href=\"#m79d5b1373f\" y=\"202.896\"/>\n      </g>\n     </g>\n     <g id=\"text_20\">\n      <!-- −1 -->\n      <g transform=\"translate(7.2 206.695219)scale(0.1 -0.1)\">\n       <use xlink:href=\"#DejaVuSans-8722\"/>\n       <use x=\"83.789062\" xlink:href=\"#DejaVuSans-49\"/>\n      </g>\n     </g>\n    </g>\n    <g id=\"ytick_6\">\n     <g id=\"line2d_41\">\n      <path clip-path=\"url(#p9ed68ce78d)\" d=\"M 28.942188 181.152 \nL 363.742188 181.152 \n\" style=\"fill:none;stroke:#b0b0b0;stroke-linecap:square;stroke-width:0.8;\"/>\n     </g>\n     <g id=\"line2d_42\">\n      <g>\n       <use style=\"stroke:#000000;stroke-width:0.8;\" x=\"28.942188\" xlink:href=\"#m79d5b1373f\" y=\"181.152\"/>\n      </g>\n     </g>\n     <g id=\"text_21\">\n      <!-- 0 -->\n      <g transform=\"translate(15.579688 184.951219)scale(0.1 -0.1)\">\n       <use xlink:href=\"#DejaVuSans-48\"/>\n      </g>\n     </g>\n    </g>\n    <g id=\"ytick_7\">\n     <g id=\"line2d_43\">\n      <path clip-path=\"url(#p9ed68ce78d)\" d=\"M 28.942188 159.408 \nL 363.742188 159.408 \n\" style=\"fill:none;stroke:#b0b0b0;stroke-linecap:square;stroke-width:0.8;\"/>\n     </g>\n     <g id=\"line2d_44\">\n      <g>\n       <use style=\"stroke:#000000;stroke-width:0.8;\" x=\"28.942188\" xlink:href=\"#m79d5b1373f\" y=\"159.408\"/>\n      </g>\n     </g>\n     <g id=\"text_22\">\n      <!-- 1 -->\n      <g transform=\"translate(15.579688 163.207219)scale(0.1 -0.1)\">\n       <use xlink:href=\"#DejaVuSans-49\"/>\n      </g>\n     </g>\n    </g>\n    <g id=\"ytick_8\">\n     <g id=\"line2d_45\">\n      <path clip-path=\"url(#p9ed68ce78d)\" d=\"M 28.942188 137.664 \nL 363.742188 137.664 \n\" style=\"fill:none;stroke:#b0b0b0;stroke-linecap:square;stroke-width:0.8;\"/>\n     </g>\n     <g id=\"line2d_46\">\n      <g>\n       <use style=\"stroke:#000000;stroke-width:0.8;\" x=\"28.942188\" xlink:href=\"#m79d5b1373f\" y=\"137.664\"/>\n      </g>\n     </g>\n     <g id=\"text_23\">\n      <!-- 2 -->\n      <g transform=\"translate(15.579688 141.463219)scale(0.1 -0.1)\">\n       <use xlink:href=\"#DejaVuSans-50\"/>\n      </g>\n     </g>\n    </g>\n    <g id=\"ytick_9\">\n     <g id=\"line2d_47\">\n      <path clip-path=\"url(#p9ed68ce78d)\" d=\"M 28.942188 115.92 \nL 363.742188 115.92 \n\" style=\"fill:none;stroke:#b0b0b0;stroke-linecap:square;stroke-width:0.8;\"/>\n     </g>\n     <g id=\"line2d_48\">\n      <g>\n       <use style=\"stroke:#000000;stroke-width:0.8;\" x=\"28.942188\" xlink:href=\"#m79d5b1373f\" y=\"115.92\"/>\n      </g>\n     </g>\n     <g id=\"text_24\">\n      <!-- 3 -->\n      <g transform=\"translate(15.579688 119.719219)scale(0.1 -0.1)\">\n       <use xlink:href=\"#DejaVuSans-51\"/>\n      </g>\n     </g>\n    </g>\n    <g id=\"ytick_10\">\n     <g id=\"line2d_49\">\n      <path clip-path=\"url(#p9ed68ce78d)\" d=\"M 28.942188 94.176 \nL 363.742188 94.176 \n\" style=\"fill:none;stroke:#b0b0b0;stroke-linecap:square;stroke-width:0.8;\"/>\n     </g>\n     <g id=\"line2d_50\">\n      <g>\n       <use style=\"stroke:#000000;stroke-width:0.8;\" x=\"28.942188\" xlink:href=\"#m79d5b1373f\" y=\"94.176\"/>\n      </g>\n     </g>\n     <g id=\"text_25\">\n      <!-- 4 -->\n      <g transform=\"translate(15.579688 97.975219)scale(0.1 -0.1)\">\n       <use xlink:href=\"#DejaVuSans-52\"/>\n      </g>\n     </g>\n    </g>\n    <g id=\"ytick_11\">\n     <g id=\"line2d_51\">\n      <path clip-path=\"url(#p9ed68ce78d)\" d=\"M 28.942188 72.432 \nL 363.742188 72.432 \n\" style=\"fill:none;stroke:#b0b0b0;stroke-linecap:square;stroke-width:0.8;\"/>\n     </g>\n     <g id=\"line2d_52\">\n      <g>\n       <use style=\"stroke:#000000;stroke-width:0.8;\" x=\"28.942188\" xlink:href=\"#m79d5b1373f\" y=\"72.432\"/>\n      </g>\n     </g>\n     <g id=\"text_26\">\n      <!-- 5 -->\n      <g transform=\"translate(15.579688 76.231219)scale(0.1 -0.1)\">\n       <use xlink:href=\"#DejaVuSans-53\"/>\n      </g>\n     </g>\n    </g>\n    <g id=\"ytick_12\">\n     <g id=\"line2d_53\">\n      <path clip-path=\"url(#p9ed68ce78d)\" d=\"M 28.942188 50.688 \nL 363.742188 50.688 \n\" style=\"fill:none;stroke:#b0b0b0;stroke-linecap:square;stroke-width:0.8;\"/>\n     </g>\n     <g id=\"line2d_54\">\n      <g>\n       <use style=\"stroke:#000000;stroke-width:0.8;\" x=\"28.942188\" xlink:href=\"#m79d5b1373f\" y=\"50.688\"/>\n      </g>\n     </g>\n     <g id=\"text_27\">\n      <!-- 6 -->\n      <g transform=\"translate(15.579688 54.487219)scale(0.1 -0.1)\">\n       <use xlink:href=\"#DejaVuSans-54\"/>\n      </g>\n     </g>\n    </g>\n    <g id=\"ytick_13\">\n     <g id=\"line2d_55\">\n      <path clip-path=\"url(#p9ed68ce78d)\" d=\"M 28.942188 28.944 \nL 363.742188 28.944 \n\" style=\"fill:none;stroke:#b0b0b0;stroke-linecap:square;stroke-width:0.8;\"/>\n     </g>\n     <g id=\"line2d_56\">\n      <g>\n       <use style=\"stroke:#000000;stroke-width:0.8;\" x=\"28.942188\" xlink:href=\"#m79d5b1373f\" y=\"28.944\"/>\n      </g>\n     </g>\n     <g id=\"text_28\">\n      <!-- 7 -->\n      <g transform=\"translate(15.579688 32.743219)scale(0.1 -0.1)\">\n       <use xlink:href=\"#DejaVuSans-55\"/>\n      </g>\n     </g>\n    </g>\n   </g>\n   <g id=\"PathCollection_1\">\n    <defs>\n     <path d=\"M -3 3 \nL 3 -3 \nM -3 -3 \nL 3 3 \n\" id=\"m46c5aba175\" style=\"stroke:#000000;stroke-width:1.5;\"/>\n    </defs>\n    <g clip-path=\"url(#p9ed68ce78d)\">\n     <use style=\"stroke:#000000;stroke-width:1.5;\" x=\"162.862188\" xlink:href=\"#m46c5aba175\" y=\"181.152\"/>\n    </g>\n   </g>\n   <g id=\"PathCollection_2\">\n    <defs>\n     <path d=\"M 0 3 \nC 0.795609 3 1.55874 2.683901 2.12132 2.12132 \nC 2.683901 1.55874 3 0.795609 3 0 \nC 3 -0.795609 2.683901 -1.55874 2.12132 -2.12132 \nC 1.55874 -2.683901 0.795609 -3 0 -3 \nC -0.795609 -3 -1.55874 -2.683901 -2.12132 -2.12132 \nC -2.683901 -1.55874 -3 -0.795609 -3 0 \nC -3 0.795609 -2.683901 1.55874 -2.12132 2.12132 \nC -1.55874 2.683901 -0.795609 3 0 3 \nz\n\" id=\"maad51fe7a4\" style=\"stroke:#000000;\"/>\n    </defs>\n    <g clip-path=\"url(#p9ed68ce78d)\">\n     <use style=\"stroke:#000000;\" x=\"296.782188\" xlink:href=\"#maad51fe7a4\" y=\"94.176\"/>\n     <use style=\"stroke:#000000;\" x=\"229.822188\" xlink:href=\"#maad51fe7a4\" y=\"159.408\"/>\n     <use style=\"stroke:#000000;\" x=\"185.182187\" xlink:href=\"#maad51fe7a4\" y=\"137.664\"/>\n     <use style=\"stroke:#000000;\" x=\"140.542188\" xlink:href=\"#maad51fe7a4\" y=\"72.432\"/>\n     <use style=\"stroke:#000000;\" x=\"118.222188\" xlink:href=\"#maad51fe7a4\" y=\"72.432\"/>\n     <use style=\"stroke:#000000;\" x=\"95.902187\" xlink:href=\"#maad51fe7a4\" y=\"94.176\"/>\n     <use style=\"stroke:#000000;\" x=\"73.582188\" xlink:href=\"#maad51fe7a4\" y=\"94.176\"/>\n     <use style=\"stroke:#000000;\" x=\"51.262188\" xlink:href=\"#maad51fe7a4\" y=\"115.92\"/>\n     <use style=\"stroke:#000000;\" x=\"51.262188\" xlink:href=\"#maad51fe7a4\" y=\"137.664\"/>\n     <use style=\"stroke:#000000;\" x=\"118.222188\" xlink:href=\"#maad51fe7a4\" y=\"137.664\"/>\n     <use style=\"stroke:#000000;\" x=\"51.262188\" xlink:href=\"#maad51fe7a4\" y=\"159.408\"/>\n     <use style=\"stroke:#000000;\" x=\"73.582188\" xlink:href=\"#maad51fe7a4\" y=\"181.152\"/>\n     <use style=\"stroke:#000000;\" x=\"118.222188\" xlink:href=\"#maad51fe7a4\" y=\"159.408\"/>\n     <use style=\"stroke:#000000;\" x=\"140.542188\" xlink:href=\"#maad51fe7a4\" y=\"181.152\"/>\n     <use style=\"stroke:#000000;\" x=\"162.862188\" xlink:href=\"#maad51fe7a4\" y=\"246.384\"/>\n     <use style=\"stroke:#000000;\" x=\"140.542188\" xlink:href=\"#maad51fe7a4\" y=\"268.128\"/>\n     <use style=\"stroke:#000000;\" x=\"185.182187\" xlink:href=\"#maad51fe7a4\" y=\"268.128\"/>\n     <use style=\"stroke:#000000;\" x=\"207.502187\" xlink:href=\"#maad51fe7a4\" y=\"246.384\"/>\n     <use style=\"stroke:#000000;\" x=\"185.182187\" xlink:href=\"#maad51fe7a4\" y=\"224.64\"/>\n     <use style=\"stroke:#000000;\" x=\"229.822188\" xlink:href=\"#maad51fe7a4\" y=\"202.896\"/>\n     <use style=\"stroke:#000000;\" x=\"274.462188\" xlink:href=\"#maad51fe7a4\" y=\"159.408\"/>\n    </g>\n   </g>\n   <g id=\"PathCollection_3\">\n    <g clip-path=\"url(#p9ed68ce78d)\">\n     <use style=\"stroke:#000000;\" x=\"341.422188\" xlink:href=\"#maad51fe7a4\" y=\"50.688\"/>\n     <use style=\"stroke:#000000;\" x=\"274.462188\" xlink:href=\"#maad51fe7a4\" y=\"115.92\"/>\n     <use style=\"stroke:#000000;\" x=\"229.822188\" xlink:href=\"#maad51fe7a4\" y=\"94.176\"/>\n     <use style=\"stroke:#000000;\" x=\"185.182187\" xlink:href=\"#maad51fe7a4\" y=\"28.944\"/>\n     <use style=\"stroke:#000000;\" x=\"162.862188\" xlink:href=\"#maad51fe7a4\" y=\"28.944\"/>\n     <use style=\"stroke:#000000;\" x=\"140.542188\" xlink:href=\"#maad51fe7a4\" y=\"50.688\"/>\n     <use style=\"stroke:#000000;\" x=\"118.222188\" xlink:href=\"#maad51fe7a4\" y=\"50.688\"/>\n     <use style=\"stroke:#000000;\" x=\"95.902187\" xlink:href=\"#maad51fe7a4\" y=\"72.432\"/>\n     <use style=\"stroke:#000000;\" x=\"95.902187\" xlink:href=\"#maad51fe7a4\" y=\"94.176\"/>\n     <use style=\"stroke:#000000;\" x=\"162.862188\" xlink:href=\"#maad51fe7a4\" y=\"94.176\"/>\n     <use style=\"stroke:#000000;\" x=\"95.902187\" xlink:href=\"#maad51fe7a4\" y=\"115.92\"/>\n     <use style=\"stroke:#000000;\" x=\"118.222188\" xlink:href=\"#maad51fe7a4\" y=\"137.664\"/>\n     <use style=\"stroke:#000000;\" x=\"162.862188\" xlink:href=\"#maad51fe7a4\" y=\"115.92\"/>\n     <use style=\"stroke:#000000;\" x=\"185.182187\" xlink:href=\"#maad51fe7a4\" y=\"137.664\"/>\n     <use style=\"stroke:#000000;\" x=\"207.502187\" xlink:href=\"#maad51fe7a4\" y=\"202.896\"/>\n     <use style=\"stroke:#000000;\" x=\"185.182187\" xlink:href=\"#maad51fe7a4\" y=\"224.64\"/>\n     <use style=\"stroke:#000000;\" x=\"229.822188\" xlink:href=\"#maad51fe7a4\" y=\"224.64\"/>\n     <use style=\"stroke:#000000;\" x=\"252.142188\" xlink:href=\"#maad51fe7a4\" y=\"202.896\"/>\n     <use style=\"stroke:#000000;\" x=\"229.822188\" xlink:href=\"#maad51fe7a4\" y=\"181.152\"/>\n     <use style=\"stroke:#000000;\" x=\"274.462188\" xlink:href=\"#maad51fe7a4\" y=\"159.408\"/>\n     <use style=\"stroke:#000000;\" x=\"319.102188\" xlink:href=\"#maad51fe7a4\" y=\"115.92\"/>\n    </g>\n   </g>\n   <g id=\"line2d_57\">\n    <path clip-path=\"url(#p9ed68ce78d)\" d=\"M 28.942188 181.152 \nL 363.742188 181.152 \n\" style=\"fill:none;stroke:#000000;stroke-linecap:square;stroke-width:2;\"/>\n   </g>\n   <g id=\"line2d_58\">\n    <path clip-path=\"url(#p9ed68ce78d)\" d=\"M 162.862188 289.872 \nL 162.862188 7.2 \n\" style=\"fill:none;stroke:#000000;stroke-linecap:square;stroke-width:2;\"/>\n   </g>\n   <g id=\"line2d_59\">\n    <path clip-path=\"url(#p9ed68ce78d)\" d=\"M 296.782188 94.176 \nL 229.822188 159.408 \n\" style=\"fill:none;stroke:#1f77b4;stroke-linecap:square;stroke-width:1.5;\"/>\n   </g>\n   <g id=\"line2d_60\">\n    <path clip-path=\"url(#p9ed68ce78d)\" d=\"M 229.822188 159.408 \nL 185.182187 137.664 \n\" style=\"fill:none;stroke:#1f77b4;stroke-linecap:square;stroke-width:1.5;\"/>\n   </g>\n   <g id=\"line2d_61\">\n    <path clip-path=\"url(#p9ed68ce78d)\" d=\"M 185.182187 137.664 \nL 140.542188 72.432 \n\" style=\"fill:none;stroke:#1f77b4;stroke-linecap:square;stroke-width:1.5;\"/>\n   </g>\n   <g id=\"line2d_62\">\n    <path clip-path=\"url(#p9ed68ce78d)\" d=\"M 140.542188 72.432 \nL 118.222188 72.432 \n\" style=\"fill:none;stroke:#1f77b4;stroke-linecap:square;stroke-width:1.5;\"/>\n   </g>\n   <g id=\"line2d_63\">\n    <path clip-path=\"url(#p9ed68ce78d)\" d=\"M 118.222188 72.432 \nL 95.902187 94.176 \n\" style=\"fill:none;stroke:#1f77b4;stroke-linecap:square;stroke-width:1.5;\"/>\n   </g>\n   <g id=\"line2d_64\">\n    <path clip-path=\"url(#p9ed68ce78d)\" d=\"M 95.902187 94.176 \nL 73.582188 94.176 \n\" style=\"fill:none;stroke:#1f77b4;stroke-linecap:square;stroke-width:1.5;\"/>\n   </g>\n   <g id=\"line2d_65\">\n    <path clip-path=\"url(#p9ed68ce78d)\" d=\"M 73.582188 94.176 \nL 51.262188 115.92 \n\" style=\"fill:none;stroke:#1f77b4;stroke-linecap:square;stroke-width:1.5;\"/>\n   </g>\n   <g id=\"line2d_66\">\n    <path clip-path=\"url(#p9ed68ce78d)\" d=\"M 51.262188 115.92 \nL 51.262188 137.664 \n\" style=\"fill:none;stroke:#1f77b4;stroke-linecap:square;stroke-width:1.5;\"/>\n   </g>\n   <g id=\"line2d_67\">\n    <path clip-path=\"url(#p9ed68ce78d)\" d=\"M 51.262188 137.664 \nL 118.222188 137.664 \n\" style=\"fill:none;stroke:#1f77b4;stroke-linecap:square;stroke-width:1.5;\"/>\n   </g>\n   <g id=\"line2d_68\">\n    <path clip-path=\"url(#p9ed68ce78d)\" d=\"M 118.222188 137.664 \nL 51.262188 159.408 \n\" style=\"fill:none;stroke:#1f77b4;stroke-linecap:square;stroke-width:1.5;\"/>\n   </g>\n   <g id=\"line2d_69\">\n    <path clip-path=\"url(#p9ed68ce78d)\" d=\"M 51.262188 159.408 \nL 73.582188 181.152 \n\" style=\"fill:none;stroke:#1f77b4;stroke-linecap:square;stroke-width:1.5;\"/>\n   </g>\n   <g id=\"line2d_70\">\n    <path clip-path=\"url(#p9ed68ce78d)\" d=\"M 73.582188 181.152 \nL 118.222188 159.408 \n\" style=\"fill:none;stroke:#1f77b4;stroke-linecap:square;stroke-width:1.5;\"/>\n   </g>\n   <g id=\"line2d_71\">\n    <path clip-path=\"url(#p9ed68ce78d)\" d=\"M 118.222188 159.408 \nL 140.542188 181.152 \n\" style=\"fill:none;stroke:#1f77b4;stroke-linecap:square;stroke-width:1.5;\"/>\n   </g>\n   <g id=\"line2d_72\">\n    <path clip-path=\"url(#p9ed68ce78d)\" d=\"M 140.542188 181.152 \nL 162.862188 246.384 \n\" style=\"fill:none;stroke:#1f77b4;stroke-linecap:square;stroke-width:1.5;\"/>\n   </g>\n   <g id=\"line2d_73\">\n    <path clip-path=\"url(#p9ed68ce78d)\" d=\"M 162.862188 246.384 \nL 140.542188 268.128 \n\" style=\"fill:none;stroke:#1f77b4;stroke-linecap:square;stroke-width:1.5;\"/>\n   </g>\n   <g id=\"line2d_74\">\n    <path clip-path=\"url(#p9ed68ce78d)\" d=\"M 140.542188 268.128 \nL 185.182187 268.128 \n\" style=\"fill:none;stroke:#1f77b4;stroke-linecap:square;stroke-width:1.5;\"/>\n   </g>\n   <g id=\"line2d_75\">\n    <path clip-path=\"url(#p9ed68ce78d)\" d=\"M 185.182187 268.128 \nL 207.502187 246.384 \n\" style=\"fill:none;stroke:#1f77b4;stroke-linecap:square;stroke-width:1.5;\"/>\n   </g>\n   <g id=\"line2d_76\">\n    <path clip-path=\"url(#p9ed68ce78d)\" d=\"M 207.502187 246.384 \nL 185.182187 224.64 \n\" style=\"fill:none;stroke:#1f77b4;stroke-linecap:square;stroke-width:1.5;\"/>\n   </g>\n   <g id=\"line2d_77\">\n    <path clip-path=\"url(#p9ed68ce78d)\" d=\"M 185.182187 224.64 \nL 229.822188 202.896 \n\" style=\"fill:none;stroke:#1f77b4;stroke-linecap:square;stroke-width:1.5;\"/>\n   </g>\n   <g id=\"line2d_78\">\n    <path clip-path=\"url(#p9ed68ce78d)\" d=\"M 229.822188 202.896 \nL 274.462188 159.408 \n\" style=\"fill:none;stroke:#1f77b4;stroke-linecap:square;stroke-width:1.5;\"/>\n   </g>\n   <g id=\"line2d_79\">\n    <path clip-path=\"url(#p9ed68ce78d)\" d=\"M 274.462188 159.408 \nL 296.782188 94.176 \n\" style=\"fill:none;stroke:#1f77b4;stroke-linecap:square;stroke-width:1.5;\"/>\n   </g>\n   <g id=\"line2d_80\">\n    <path clip-path=\"url(#p9ed68ce78d)\" d=\"M 341.422188 50.688 \nL 274.462188 115.92 \n\" style=\"fill:none;stroke:#ff7f0e;stroke-linecap:square;stroke-width:1.5;\"/>\n   </g>\n   <g id=\"line2d_81\">\n    <path clip-path=\"url(#p9ed68ce78d)\" d=\"M 274.462188 115.92 \nL 229.822188 94.176 \n\" style=\"fill:none;stroke:#ff7f0e;stroke-linecap:square;stroke-width:1.5;\"/>\n   </g>\n   <g id=\"line2d_82\">\n    <path clip-path=\"url(#p9ed68ce78d)\" d=\"M 229.822188 94.176 \nL 185.182187 28.944 \n\" style=\"fill:none;stroke:#ff7f0e;stroke-linecap:square;stroke-width:1.5;\"/>\n   </g>\n   <g id=\"line2d_83\">\n    <path clip-path=\"url(#p9ed68ce78d)\" d=\"M 185.182187 28.944 \nL 162.862188 28.944 \n\" style=\"fill:none;stroke:#ff7f0e;stroke-linecap:square;stroke-width:1.5;\"/>\n   </g>\n   <g id=\"line2d_84\">\n    <path clip-path=\"url(#p9ed68ce78d)\" d=\"M 162.862188 28.944 \nL 140.542188 50.688 \n\" style=\"fill:none;stroke:#ff7f0e;stroke-linecap:square;stroke-width:1.5;\"/>\n   </g>\n   <g id=\"line2d_85\">\n    <path clip-path=\"url(#p9ed68ce78d)\" d=\"M 140.542188 50.688 \nL 118.222188 50.688 \n\" style=\"fill:none;stroke:#ff7f0e;stroke-linecap:square;stroke-width:1.5;\"/>\n   </g>\n   <g id=\"line2d_86\">\n    <path clip-path=\"url(#p9ed68ce78d)\" d=\"M 118.222188 50.688 \nL 95.902187 72.432 \n\" style=\"fill:none;stroke:#ff7f0e;stroke-linecap:square;stroke-width:1.5;\"/>\n   </g>\n   <g id=\"line2d_87\">\n    <path clip-path=\"url(#p9ed68ce78d)\" d=\"M 95.902187 72.432 \nL 95.902187 94.176 \n\" style=\"fill:none;stroke:#ff7f0e;stroke-linecap:square;stroke-width:1.5;\"/>\n   </g>\n   <g id=\"line2d_88\">\n    <path clip-path=\"url(#p9ed68ce78d)\" d=\"M 95.902187 94.176 \nL 162.862188 94.176 \n\" style=\"fill:none;stroke:#ff7f0e;stroke-linecap:square;stroke-width:1.5;\"/>\n   </g>\n   <g id=\"line2d_89\">\n    <path clip-path=\"url(#p9ed68ce78d)\" d=\"M 162.862188 94.176 \nL 95.902187 115.92 \n\" style=\"fill:none;stroke:#ff7f0e;stroke-linecap:square;stroke-width:1.5;\"/>\n   </g>\n   <g id=\"line2d_90\">\n    <path clip-path=\"url(#p9ed68ce78d)\" d=\"M 95.902187 115.92 \nL 118.222188 137.664 \n\" style=\"fill:none;stroke:#ff7f0e;stroke-linecap:square;stroke-width:1.5;\"/>\n   </g>\n   <g id=\"line2d_91\">\n    <path clip-path=\"url(#p9ed68ce78d)\" d=\"M 118.222188 137.664 \nL 162.862188 115.92 \n\" style=\"fill:none;stroke:#ff7f0e;stroke-linecap:square;stroke-width:1.5;\"/>\n   </g>\n   <g id=\"line2d_92\">\n    <path clip-path=\"url(#p9ed68ce78d)\" d=\"M 162.862188 115.92 \nL 185.182187 137.664 \n\" style=\"fill:none;stroke:#ff7f0e;stroke-linecap:square;stroke-width:1.5;\"/>\n   </g>\n   <g id=\"line2d_93\">\n    <path clip-path=\"url(#p9ed68ce78d)\" d=\"M 185.182187 137.664 \nL 207.502187 202.896 \n\" style=\"fill:none;stroke:#ff7f0e;stroke-linecap:square;stroke-width:1.5;\"/>\n   </g>\n   <g id=\"line2d_94\">\n    <path clip-path=\"url(#p9ed68ce78d)\" d=\"M 207.502187 202.896 \nL 185.182187 224.64 \n\" style=\"fill:none;stroke:#ff7f0e;stroke-linecap:square;stroke-width:1.5;\"/>\n   </g>\n   <g id=\"line2d_95\">\n    <path clip-path=\"url(#p9ed68ce78d)\" d=\"M 185.182187 224.64 \nL 229.822188 224.64 \n\" style=\"fill:none;stroke:#ff7f0e;stroke-linecap:square;stroke-width:1.5;\"/>\n   </g>\n   <g id=\"line2d_96\">\n    <path clip-path=\"url(#p9ed68ce78d)\" d=\"M 229.822188 224.64 \nL 252.142188 202.896 \n\" style=\"fill:none;stroke:#ff7f0e;stroke-linecap:square;stroke-width:1.5;\"/>\n   </g>\n   <g id=\"line2d_97\">\n    <path clip-path=\"url(#p9ed68ce78d)\" d=\"M 252.142188 202.896 \nL 229.822188 181.152 \n\" style=\"fill:none;stroke:#ff7f0e;stroke-linecap:square;stroke-width:1.5;\"/>\n   </g>\n   <g id=\"line2d_98\">\n    <path clip-path=\"url(#p9ed68ce78d)\" d=\"M 229.822188 181.152 \nL 274.462188 159.408 \n\" style=\"fill:none;stroke:#ff7f0e;stroke-linecap:square;stroke-width:1.5;\"/>\n   </g>\n   <g id=\"line2d_99\">\n    <path clip-path=\"url(#p9ed68ce78d)\" d=\"M 274.462188 159.408 \nL 319.102188 115.92 \n\" style=\"fill:none;stroke:#ff7f0e;stroke-linecap:square;stroke-width:1.5;\"/>\n   </g>\n   <g id=\"line2d_100\">\n    <path clip-path=\"url(#p9ed68ce78d)\" d=\"M 319.102188 115.92 \nL 341.422188 50.688 \n\" style=\"fill:none;stroke:#ff7f0e;stroke-linecap:square;stroke-width:1.5;\"/>\n   </g>\n   <g id=\"patch_3\">\n    <path d=\"M 28.942188 289.872 \nL 28.942188 7.2 \n\" style=\"fill:none;stroke:#000000;stroke-linecap:square;stroke-linejoin:miter;stroke-width:0.8;\"/>\n   </g>\n   <g id=\"patch_4\">\n    <path d=\"M 363.742188 289.872 \nL 363.742188 7.2 \n\" style=\"fill:none;stroke:#000000;stroke-linecap:square;stroke-linejoin:miter;stroke-width:0.8;\"/>\n   </g>\n   <g id=\"patch_5\">\n    <path d=\"M 28.942187 289.872 \nL 363.742188 289.872 \n\" style=\"fill:none;stroke:#000000;stroke-linecap:square;stroke-linejoin:miter;stroke-width:0.8;\"/>\n   </g>\n   <g id=\"patch_6\">\n    <path d=\"M 28.942187 7.2 \nL 363.742188 7.2 \n\" style=\"fill:none;stroke:#000000;stroke-linecap:square;stroke-linejoin:miter;stroke-width:0.8;\"/>\n   </g>\n  </g>\n </g>\n <defs>\n  <clipPath id=\"p9ed68ce78d\">\n   <rect height=\"282.672\" width=\"334.8\" x=\"28.942188\" y=\"7.2\"/>\n  </clipPath>\n </defs>\n</svg>\n",
      "image/png": "[encoded data removed]"
     },
     "metadata": {
      "needs_background": "light"
     }
    }
   ],
   "source": [
    "from my_draw2d import draw2d, Points2D, Polygon2D\n",
    "from my_matrices import multiply_matrix_vector\n",
    "from my_colors import blue, orange\n",
    "\n",
    "def translate_2d(translation_vector):\n",
    "    def new_function(v):\n",
    "        a, b = translation_vector\n",
    "        x, y = v\n",
    "        matrix = (\n",
    "            (1, 0, a),\n",
    "            (0, 1, b),\n",
    "            (0, 0, 1)\n",
    "        )\n",
    "        upgraded_vector = (x, y, 2)\n",
    "        x_out, y_out, _ = multiply_matrix_vector(matrix, upgraded_vector)\n",
    "        return (x_out, y_out)\n",
    "    return new_function\n",
    "\n",
    "\n",
    "dino_vectors = [(6,4), (3,1), (1,2), (-1,5), (-2,5), (-3,4), (-4,4),\n",
    "    (-5,3), (-5,2), (-2,2), (-5,1), (-4,0), (-2,1), (-1,0), (0,-3),\n",
    "    (-1,-4), (1,-4), (2,-3), (1,-2), (3,-1), (5,1)\n",
    "]\n",
    "\n",
    "translation = translate_2d((1, 1))\n",
    "\n",
    "translated_dino_vectors = [translation(v) for v in dino_vectors]\n",
    "\n",
    "draw2d(\n",
    "    Points2D(*dino_vectors),\n",
    "    Polygon2D(*dino_vectors, color=blue),\n",
    "    Points2D(*translated_dino_vectors),\n",
    "    Polygon2D(*translated_dino_vectors, color=orange)\n",
    ")"
   ]
  },
  {
   "source": [
    "## Exercise 5.27\n",
    "\n",
    "Come up with a matrix to translate the dinosaur by -2 units in the x direction and -2 units in the y direction.\n",
    "\n",
    "Execute the transformation without using the packaged function and validate the result.\n"
   ],
   "cell_type": "markdown",
   "metadata": {}
  },
  {
   "cell_type": "code",
   "execution_count": 10,
   "metadata": {},
   "outputs": [
    {
     "output_type": "display_data",
     "data": {
      "text/plain": "<Figure size 432x374.4 with 1 Axes>",
      "image/svg+xml": "<?xml version=\"1.0\" encoding=\"utf-8\" standalone=\"no\"?>\n<!DOCTYPE svg PUBLIC \"-//W3C//DTD SVG 1.1//EN\"\n  \"http://www.w3.org/Graphics/SVG/1.1/DTD/svg11.dtd\">\n<!-- Created with matplotlib (https://matplotlib.org/) -->\n<svg height=\"313.750125pt\" version=\"1.1\" viewBox=\"0 0 370.942187 313.750125\" width=\"370.942187pt\" xmlns=\"http://www.w3.org/2000/svg\" xmlns:xlink=\"http://www.w3.org/1999/xlink\">\n <defs>\n  <style type=\"text/css\">\n*{stroke-linecap:butt;stroke-linejoin:round;}\n  </style>\n </defs>\n <g id=\"figure_1\">\n  <g id=\"patch_1\">\n   <path d=\"M 0 313.750125 \nL 370.942187 313.750125 \nL 370.942187 0 \nL 0 0 \nz\n\" style=\"fill:none;\"/>\n  </g>\n  <g id=\"axes_1\">\n   <g id=\"patch_2\">\n    <path d=\"M 28.942188 289.872 \nL 363.742188 289.872 \nL 363.742188 7.2 \nL 28.942188 7.2 \nz\n\" style=\"fill:#ffffff;\"/>\n   </g>\n   <g id=\"matplotlib.axis_1\">\n    <g id=\"xtick_1\">\n     <g id=\"line2d_1\">\n      <path clip-path=\"url(#p558f10b774)\" d=\"M 28.942187 289.872 \nL 28.942187 7.2 \n\" style=\"fill:none;stroke:#b0b0b0;stroke-linecap:square;stroke-width:0.8;\"/>\n     </g>\n     <g id=\"line2d_2\">\n      <defs>\n       <path d=\"M 0 0 \nL 0 3.5 \n\" id=\"m02b65debd6\" style=\"stroke:#000000;stroke-width:0.8;\"/>\n      </defs>\n      <g>\n       <use style=\"stroke:#000000;stroke-width:0.8;\" x=\"28.942187\" xlink:href=\"#m02b65debd6\" y=\"289.872\"/>\n      </g>\n     </g>\n     <g id=\"text_1\">\n      <!-- −8 -->\n      <defs>\n       <path d=\"M 10.59375 35.5 \nL 73.1875 35.5 \nL 73.1875 27.203125 \nL 10.59375 27.203125 \nz\n\" id=\"DejaVuSans-8722\"/>\n       <path d=\"M 31.78125 34.625 \nQ 24.75 34.625 20.71875 30.859375 \nQ 16.703125 27.09375 16.703125 20.515625 \nQ 16.703125 13.921875 20.71875 10.15625 \nQ 24.75 6.390625 31.78125 6.390625 \nQ 38.8125 6.390625 42.859375 10.171875 \nQ 46.921875 13.96875 46.921875 20.515625 \nQ 46.921875 27.09375 42.890625 30.859375 \nQ 38.875 34.625 31.78125 34.625 \nz\nM 21.921875 38.8125 \nQ 15.578125 40.375 12.03125 44.71875 \nQ 8.5 49.078125 8.5 55.328125 \nQ 8.5 64.0625 14.71875 69.140625 \nQ 20.953125 74.21875 31.78125 74.21875 \nQ 42.671875 74.21875 48.875 69.140625 \nQ 55.078125 64.0625 55.078125 55.328125 \nQ 55.078125 49.078125 51.53125 44.71875 \nQ 48 40.375 41.703125 38.8125 \nQ 48.828125 37.15625 52.796875 32.3125 \nQ 56.78125 27.484375 56.78125 20.515625 \nQ 56.78125 9.90625 50.3125 4.234375 \nQ 43.84375 -1.421875 31.78125 -1.421875 \nQ 19.734375 -1.421875 13.25 4.234375 \nQ 6.78125 9.90625 6.78125 20.515625 \nQ 6.78125 27.484375 10.78125 32.3125 \nQ 14.796875 37.15625 21.921875 38.8125 \nz\nM 18.3125 54.390625 \nQ 18.3125 48.734375 21.84375 45.5625 \nQ 25.390625 42.390625 31.78125 42.390625 \nQ 38.140625 42.390625 41.71875 45.5625 \nQ 45.3125 48.734375 45.3125 54.390625 \nQ 45.3125 60.0625 41.71875 63.234375 \nQ 38.140625 66.40625 31.78125 66.40625 \nQ 25.390625 66.40625 21.84375 63.234375 \nQ 18.3125 60.0625 18.3125 54.390625 \nz\n\" id=\"DejaVuSans-56\"/>\n      </defs>\n      <g transform=\"translate(21.571094 304.470438)scale(0.1 -0.1)\">\n       <use xlink:href=\"#DejaVuSans-8722\"/>\n       <use x=\"83.789062\" xlink:href=\"#DejaVuSans-56\"/>\n      </g>\n     </g>\n    </g>\n    <g id=\"xtick_2\">\n     <g id=\"line2d_3\">\n      <path clip-path=\"url(#p558f10b774)\" d=\"M 51.262187 289.872 \nL 51.262187 7.2 \n\" style=\"fill:none;stroke:#b0b0b0;stroke-linecap:square;stroke-width:0.8;\"/>\n     </g>\n     <g id=\"line2d_4\">\n      <g>\n       <use style=\"stroke:#000000;stroke-width:0.8;\" x=\"51.262187\" xlink:href=\"#m02b65debd6\" y=\"289.872\"/>\n      </g>\n     </g>\n     <g id=\"text_2\">\n      <!-- −7 -->\n      <defs>\n       <path d=\"M 8.203125 72.90625 \nL 55.078125 72.90625 \nL 55.078125 68.703125 \nL 28.609375 0 \nL 18.3125 0 \nL 43.21875 64.59375 \nL 8.203125 64.59375 \nz\n\" id=\"DejaVuSans-55\"/>\n      </defs>\n      <g transform=\"translate(43.891094 304.470438)scale(0.1 -0.1)\">\n       <use xlink:href=\"#DejaVuSans-8722\"/>\n       <use x=\"83.789062\" xlink:href=\"#DejaVuSans-55\"/>\n      </g>\n     </g>\n    </g>\n    <g id=\"xtick_3\">\n     <g id=\"line2d_5\">\n      <path clip-path=\"url(#p558f10b774)\" d=\"M 73.582187 289.872 \nL 73.582187 7.2 \n\" style=\"fill:none;stroke:#b0b0b0;stroke-linecap:square;stroke-width:0.8;\"/>\n     </g>\n     <g id=\"line2d_6\">\n      <g>\n       <use style=\"stroke:#000000;stroke-width:0.8;\" x=\"73.582187\" xlink:href=\"#m02b65debd6\" y=\"289.872\"/>\n      </g>\n     </g>\n     <g id=\"text_3\">\n      <!-- −6 -->\n      <defs>\n       <path d=\"M 33.015625 40.375 \nQ 26.375 40.375 22.484375 35.828125 \nQ 18.609375 31.296875 18.609375 23.390625 \nQ 18.609375 15.53125 22.484375 10.953125 \nQ 26.375 6.390625 33.015625 6.390625 \nQ 39.65625 6.390625 43.53125 10.953125 \nQ 47.40625 15.53125 47.40625 23.390625 \nQ 47.40625 31.296875 43.53125 35.828125 \nQ 39.65625 40.375 33.015625 40.375 \nz\nM 52.59375 71.296875 \nL 52.59375 62.3125 \nQ 48.875 64.0625 45.09375 64.984375 \nQ 41.3125 65.921875 37.59375 65.921875 \nQ 27.828125 65.921875 22.671875 59.328125 \nQ 17.53125 52.734375 16.796875 39.40625 \nQ 19.671875 43.65625 24.015625 45.921875 \nQ 28.375 48.1875 33.59375 48.1875 \nQ 44.578125 48.1875 50.953125 41.515625 \nQ 57.328125 34.859375 57.328125 23.390625 \nQ 57.328125 12.15625 50.6875 5.359375 \nQ 44.046875 -1.421875 33.015625 -1.421875 \nQ 20.359375 -1.421875 13.671875 8.265625 \nQ 6.984375 17.96875 6.984375 36.375 \nQ 6.984375 53.65625 15.1875 63.9375 \nQ 23.390625 74.21875 37.203125 74.21875 \nQ 40.921875 74.21875 44.703125 73.484375 \nQ 48.484375 72.75 52.59375 71.296875 \nz\n\" id=\"DejaVuSans-54\"/>\n      </defs>\n      <g transform=\"translate(66.211094 304.470438)scale(0.1 -0.1)\">\n       <use xlink:href=\"#DejaVuSans-8722\"/>\n       <use x=\"83.789062\" xlink:href=\"#DejaVuSans-54\"/>\n      </g>\n     </g>\n    </g>\n    <g id=\"xtick_4\">\n     <g id=\"line2d_7\">\n      <path clip-path=\"url(#p558f10b774)\" d=\"M 95.902187 289.872 \nL 95.902187 7.2 \n\" style=\"fill:none;stroke:#b0b0b0;stroke-linecap:square;stroke-width:0.8;\"/>\n     </g>\n     <g id=\"line2d_8\">\n      <g>\n       <use style=\"stroke:#000000;stroke-width:0.8;\" x=\"95.902187\" xlink:href=\"#m02b65debd6\" y=\"289.872\"/>\n      </g>\n     </g>\n     <g id=\"text_4\">\n      <!-- −5 -->\n      <defs>\n       <path d=\"M 10.796875 72.90625 \nL 49.515625 72.90625 \nL 49.515625 64.59375 \nL 19.828125 64.59375 \nL 19.828125 46.734375 \nQ 21.96875 47.46875 24.109375 47.828125 \nQ 26.265625 48.1875 28.421875 48.1875 \nQ 40.625 48.1875 47.75 41.5 \nQ 54.890625 34.8125 54.890625 23.390625 \nQ 54.890625 11.625 47.5625 5.09375 \nQ 40.234375 -1.421875 26.90625 -1.421875 \nQ 22.3125 -1.421875 17.546875 -0.640625 \nQ 12.796875 0.140625 7.71875 1.703125 \nL 7.71875 11.625 \nQ 12.109375 9.234375 16.796875 8.0625 \nQ 21.484375 6.890625 26.703125 6.890625 \nQ 35.15625 6.890625 40.078125 11.328125 \nQ 45.015625 15.765625 45.015625 23.390625 \nQ 45.015625 31 40.078125 35.4375 \nQ 35.15625 39.890625 26.703125 39.890625 \nQ 22.75 39.890625 18.8125 39.015625 \nQ 14.890625 38.140625 10.796875 36.28125 \nz\n\" id=\"DejaVuSans-53\"/>\n      </defs>\n      <g transform=\"translate(88.531094 304.470438)scale(0.1 -0.1)\">\n       <use xlink:href=\"#DejaVuSans-8722\"/>\n       <use x=\"83.789062\" xlink:href=\"#DejaVuSans-53\"/>\n      </g>\n     </g>\n    </g>\n    <g id=\"xtick_5\">\n     <g id=\"line2d_9\">\n      <path clip-path=\"url(#p558f10b774)\" d=\"M 118.222187 289.872 \nL 118.222187 7.2 \n\" style=\"fill:none;stroke:#b0b0b0;stroke-linecap:square;stroke-width:0.8;\"/>\n     </g>\n     <g id=\"line2d_10\">\n      <g>\n       <use style=\"stroke:#000000;stroke-width:0.8;\" x=\"118.222187\" xlink:href=\"#m02b65debd6\" y=\"289.872\"/>\n      </g>\n     </g>\n     <g id=\"text_5\">\n      <!-- −4 -->\n      <defs>\n       <path d=\"M 37.796875 64.3125 \nL 12.890625 25.390625 \nL 37.796875 25.390625 \nz\nM 35.203125 72.90625 \nL 47.609375 72.90625 \nL 47.609375 25.390625 \nL 58.015625 25.390625 \nL 58.015625 17.1875 \nL 47.609375 17.1875 \nL 47.609375 0 \nL 37.796875 0 \nL 37.796875 17.1875 \nL 4.890625 17.1875 \nL 4.890625 26.703125 \nz\n\" id=\"DejaVuSans-52\"/>\n      </defs>\n      <g transform=\"translate(110.851094 304.470438)scale(0.1 -0.1)\">\n       <use xlink:href=\"#DejaVuSans-8722\"/>\n       <use x=\"83.789062\" xlink:href=\"#DejaVuSans-52\"/>\n      </g>\n     </g>\n    </g>\n    <g id=\"xtick_6\">\n     <g id=\"line2d_11\">\n      <path clip-path=\"url(#p558f10b774)\" d=\"M 140.542187 289.872 \nL 140.542187 7.2 \n\" style=\"fill:none;stroke:#b0b0b0;stroke-linecap:square;stroke-width:0.8;\"/>\n     </g>\n     <g id=\"line2d_12\">\n      <g>\n       <use style=\"stroke:#000000;stroke-width:0.8;\" x=\"140.542187\" xlink:href=\"#m02b65debd6\" y=\"289.872\"/>\n      </g>\n     </g>\n     <g id=\"text_6\">\n      <!-- −3 -->\n      <defs>\n       <path d=\"M 40.578125 39.3125 \nQ 47.65625 37.796875 51.625 33 \nQ 55.609375 28.21875 55.609375 21.1875 \nQ 55.609375 10.40625 48.1875 4.484375 \nQ 40.765625 -1.421875 27.09375 -1.421875 \nQ 22.515625 -1.421875 17.65625 -0.515625 \nQ 12.796875 0.390625 7.625 2.203125 \nL 7.625 11.71875 \nQ 11.71875 9.328125 16.59375 8.109375 \nQ 21.484375 6.890625 26.8125 6.890625 \nQ 36.078125 6.890625 40.9375 10.546875 \nQ 45.796875 14.203125 45.796875 21.1875 \nQ 45.796875 27.640625 41.28125 31.265625 \nQ 36.765625 34.90625 28.71875 34.90625 \nL 20.21875 34.90625 \nL 20.21875 43.015625 \nL 29.109375 43.015625 \nQ 36.375 43.015625 40.234375 45.921875 \nQ 44.09375 48.828125 44.09375 54.296875 \nQ 44.09375 59.90625 40.109375 62.90625 \nQ 36.140625 65.921875 28.71875 65.921875 \nQ 24.65625 65.921875 20.015625 65.03125 \nQ 15.375 64.15625 9.8125 62.3125 \nL 9.8125 71.09375 \nQ 15.4375 72.65625 20.34375 73.4375 \nQ 25.25 74.21875 29.59375 74.21875 \nQ 40.828125 74.21875 47.359375 69.109375 \nQ 53.90625 64.015625 53.90625 55.328125 \nQ 53.90625 49.265625 50.4375 45.09375 \nQ 46.96875 40.921875 40.578125 39.3125 \nz\n\" id=\"DejaVuSans-51\"/>\n      </defs>\n      <g transform=\"translate(133.171094 304.470438)scale(0.1 -0.1)\">\n       <use xlink:href=\"#DejaVuSans-8722\"/>\n       <use x=\"83.789062\" xlink:href=\"#DejaVuSans-51\"/>\n      </g>\n     </g>\n    </g>\n    <g id=\"xtick_7\">\n     <g id=\"line2d_13\">\n      <path clip-path=\"url(#p558f10b774)\" d=\"M 162.862188 289.872 \nL 162.862188 7.2 \n\" style=\"fill:none;stroke:#b0b0b0;stroke-linecap:square;stroke-width:0.8;\"/>\n     </g>\n     <g id=\"line2d_14\">\n      <g>\n       <use style=\"stroke:#000000;stroke-width:0.8;\" x=\"162.862188\" xlink:href=\"#m02b65debd6\" y=\"289.872\"/>\n      </g>\n     </g>\n     <g id=\"text_7\">\n      <!-- −2 -->\n      <defs>\n       <path d=\"M 19.1875 8.296875 \nL 53.609375 8.296875 \nL 53.609375 0 \nL 7.328125 0 \nL 7.328125 8.296875 \nQ 12.9375 14.109375 22.625 23.890625 \nQ 32.328125 33.6875 34.8125 36.53125 \nQ 39.546875 41.84375 41.421875 45.53125 \nQ 43.3125 49.21875 43.3125 52.78125 \nQ 43.3125 58.59375 39.234375 62.25 \nQ 35.15625 65.921875 28.609375 65.921875 \nQ 23.96875 65.921875 18.8125 64.3125 \nQ 13.671875 62.703125 7.8125 59.421875 \nL 7.8125 69.390625 \nQ 13.765625 71.78125 18.9375 73 \nQ 24.125 74.21875 28.421875 74.21875 \nQ 39.75 74.21875 46.484375 68.546875 \nQ 53.21875 62.890625 53.21875 53.421875 \nQ 53.21875 48.921875 51.53125 44.890625 \nQ 49.859375 40.875 45.40625 35.40625 \nQ 44.1875 33.984375 37.640625 27.21875 \nQ 31.109375 20.453125 19.1875 8.296875 \nz\n\" id=\"DejaVuSans-50\"/>\n      </defs>\n      <g transform=\"translate(155.491094 304.470438)scale(0.1 -0.1)\">\n       <use xlink:href=\"#DejaVuSans-8722\"/>\n       <use x=\"83.789062\" xlink:href=\"#DejaVuSans-50\"/>\n      </g>\n     </g>\n    </g>\n    <g id=\"xtick_8\">\n     <g id=\"line2d_15\">\n      <path clip-path=\"url(#p558f10b774)\" d=\"M 185.182187 289.872 \nL 185.182187 7.2 \n\" style=\"fill:none;stroke:#b0b0b0;stroke-linecap:square;stroke-width:0.8;\"/>\n     </g>\n     <g id=\"line2d_16\">\n      <g>\n       <use style=\"stroke:#000000;stroke-width:0.8;\" x=\"185.182187\" xlink:href=\"#m02b65debd6\" y=\"289.872\"/>\n      </g>\n     </g>\n     <g id=\"text_8\">\n      <!-- −1 -->\n      <defs>\n       <path d=\"M 12.40625 8.296875 \nL 28.515625 8.296875 \nL 28.515625 63.921875 \nL 10.984375 60.40625 \nL 10.984375 69.390625 \nL 28.421875 72.90625 \nL 38.28125 72.90625 \nL 38.28125 8.296875 \nL 54.390625 8.296875 \nL 54.390625 0 \nL 12.40625 0 \nz\n\" id=\"DejaVuSans-49\"/>\n      </defs>\n      <g transform=\"translate(177.811094 304.470438)scale(0.1 -0.1)\">\n       <use xlink:href=\"#DejaVuSans-8722\"/>\n       <use x=\"83.789062\" xlink:href=\"#DejaVuSans-49\"/>\n      </g>\n     </g>\n    </g>\n    <g id=\"xtick_9\">\n     <g id=\"line2d_17\">\n      <path clip-path=\"url(#p558f10b774)\" d=\"M 207.502187 289.872 \nL 207.502187 7.2 \n\" style=\"fill:none;stroke:#b0b0b0;stroke-linecap:square;stroke-width:0.8;\"/>\n     </g>\n     <g id=\"line2d_18\">\n      <g>\n       <use style=\"stroke:#000000;stroke-width:0.8;\" x=\"207.502187\" xlink:href=\"#m02b65debd6\" y=\"289.872\"/>\n      </g>\n     </g>\n     <g id=\"text_9\">\n      <!-- 0 -->\n      <defs>\n       <path d=\"M 31.78125 66.40625 \nQ 24.171875 66.40625 20.328125 58.90625 \nQ 16.5 51.421875 16.5 36.375 \nQ 16.5 21.390625 20.328125 13.890625 \nQ 24.171875 6.390625 31.78125 6.390625 \nQ 39.453125 6.390625 43.28125 13.890625 \nQ 47.125 21.390625 47.125 36.375 \nQ 47.125 51.421875 43.28125 58.90625 \nQ 39.453125 66.40625 31.78125 66.40625 \nz\nM 31.78125 74.21875 \nQ 44.046875 74.21875 50.515625 64.515625 \nQ 56.984375 54.828125 56.984375 36.375 \nQ 56.984375 17.96875 50.515625 8.265625 \nQ 44.046875 -1.421875 31.78125 -1.421875 \nQ 19.53125 -1.421875 13.0625 8.265625 \nQ 6.59375 17.96875 6.59375 36.375 \nQ 6.59375 54.828125 13.0625 64.515625 \nQ 19.53125 74.21875 31.78125 74.21875 \nz\n\" id=\"DejaVuSans-48\"/>\n      </defs>\n      <g transform=\"translate(204.320937 304.470438)scale(0.1 -0.1)\">\n       <use xlink:href=\"#DejaVuSans-48\"/>\n      </g>\n     </g>\n    </g>\n    <g id=\"xtick_10\">\n     <g id=\"line2d_19\">\n      <path clip-path=\"url(#p558f10b774)\" d=\"M 229.822187 289.872 \nL 229.822187 7.2 \n\" style=\"fill:none;stroke:#b0b0b0;stroke-linecap:square;stroke-width:0.8;\"/>\n     </g>\n     <g id=\"line2d_20\">\n      <g>\n       <use style=\"stroke:#000000;stroke-width:0.8;\" x=\"229.822187\" xlink:href=\"#m02b65debd6\" y=\"289.872\"/>\n      </g>\n     </g>\n     <g id=\"text_10\">\n      <!-- 1 -->\n      <g transform=\"translate(226.640937 304.470438)scale(0.1 -0.1)\">\n       <use xlink:href=\"#DejaVuSans-49\"/>\n      </g>\n     </g>\n    </g>\n    <g id=\"xtick_11\">\n     <g id=\"line2d_21\">\n      <path clip-path=\"url(#p558f10b774)\" d=\"M 252.142187 289.872 \nL 252.142187 7.2 \n\" style=\"fill:none;stroke:#b0b0b0;stroke-linecap:square;stroke-width:0.8;\"/>\n     </g>\n     <g id=\"line2d_22\">\n      <g>\n       <use style=\"stroke:#000000;stroke-width:0.8;\" x=\"252.142187\" xlink:href=\"#m02b65debd6\" y=\"289.872\"/>\n      </g>\n     </g>\n     <g id=\"text_11\">\n      <!-- 2 -->\n      <g transform=\"translate(248.960937 304.470438)scale(0.1 -0.1)\">\n       <use xlink:href=\"#DejaVuSans-50\"/>\n      </g>\n     </g>\n    </g>\n    <g id=\"xtick_12\">\n     <g id=\"line2d_23\">\n      <path clip-path=\"url(#p558f10b774)\" d=\"M 274.462188 289.872 \nL 274.462188 7.2 \n\" style=\"fill:none;stroke:#b0b0b0;stroke-linecap:square;stroke-width:0.8;\"/>\n     </g>\n     <g id=\"line2d_24\">\n      <g>\n       <use style=\"stroke:#000000;stroke-width:0.8;\" x=\"274.462188\" xlink:href=\"#m02b65debd6\" y=\"289.872\"/>\n      </g>\n     </g>\n     <g id=\"text_12\">\n      <!-- 3 -->\n      <g transform=\"translate(271.280938 304.470438)scale(0.1 -0.1)\">\n       <use xlink:href=\"#DejaVuSans-51\"/>\n      </g>\n     </g>\n    </g>\n    <g id=\"xtick_13\">\n     <g id=\"line2d_25\">\n      <path clip-path=\"url(#p558f10b774)\" d=\"M 296.782187 289.872 \nL 296.782187 7.2 \n\" style=\"fill:none;stroke:#b0b0b0;stroke-linecap:square;stroke-width:0.8;\"/>\n     </g>\n     <g id=\"line2d_26\">\n      <g>\n       <use style=\"stroke:#000000;stroke-width:0.8;\" x=\"296.782187\" xlink:href=\"#m02b65debd6\" y=\"289.872\"/>\n      </g>\n     </g>\n     <g id=\"text_13\">\n      <!-- 4 -->\n      <g transform=\"translate(293.600937 304.470438)scale(0.1 -0.1)\">\n       <use xlink:href=\"#DejaVuSans-52\"/>\n      </g>\n     </g>\n    </g>\n    <g id=\"xtick_14\">\n     <g id=\"line2d_27\">\n      <path clip-path=\"url(#p558f10b774)\" d=\"M 319.102188 289.872 \nL 319.102188 7.2 \n\" style=\"fill:none;stroke:#b0b0b0;stroke-linecap:square;stroke-width:0.8;\"/>\n     </g>\n     <g id=\"line2d_28\">\n      <g>\n       <use style=\"stroke:#000000;stroke-width:0.8;\" x=\"319.102188\" xlink:href=\"#m02b65debd6\" y=\"289.872\"/>\n      </g>\n     </g>\n     <g id=\"text_14\">\n      <!-- 5 -->\n      <g transform=\"translate(315.920938 304.470438)scale(0.1 -0.1)\">\n       <use xlink:href=\"#DejaVuSans-53\"/>\n      </g>\n     </g>\n    </g>\n    <g id=\"xtick_15\">\n     <g id=\"line2d_29\">\n      <path clip-path=\"url(#p558f10b774)\" d=\"M 341.422188 289.872 \nL 341.422188 7.2 \n\" style=\"fill:none;stroke:#b0b0b0;stroke-linecap:square;stroke-width:0.8;\"/>\n     </g>\n     <g id=\"line2d_30\">\n      <g>\n       <use style=\"stroke:#000000;stroke-width:0.8;\" x=\"341.422188\" xlink:href=\"#m02b65debd6\" y=\"289.872\"/>\n      </g>\n     </g>\n     <g id=\"text_15\">\n      <!-- 6 -->\n      <g transform=\"translate(338.240938 304.470438)scale(0.1 -0.1)\">\n       <use xlink:href=\"#DejaVuSans-54\"/>\n      </g>\n     </g>\n    </g>\n   </g>\n   <g id=\"matplotlib.axis_2\">\n    <g id=\"ytick_1\">\n     <g id=\"line2d_31\">\n      <path clip-path=\"url(#p558f10b774)\" d=\"M 28.942188 289.872 \nL 363.742188 289.872 \n\" style=\"fill:none;stroke:#b0b0b0;stroke-linecap:square;stroke-width:0.8;\"/>\n     </g>\n     <g id=\"line2d_32\">\n      <defs>\n       <path d=\"M 0 0 \nL -3.5 0 \n\" id=\"m4dc33941c5\" style=\"stroke:#000000;stroke-width:0.8;\"/>\n      </defs>\n      <g>\n       <use style=\"stroke:#000000;stroke-width:0.8;\" x=\"28.942188\" xlink:href=\"#m4dc33941c5\" y=\"289.872\"/>\n      </g>\n     </g>\n     <g id=\"text_16\">\n      <!-- −7 -->\n      <g transform=\"translate(7.2 293.671219)scale(0.1 -0.1)\">\n       <use xlink:href=\"#DejaVuSans-8722\"/>\n       <use x=\"83.789062\" xlink:href=\"#DejaVuSans-55\"/>\n      </g>\n     </g>\n    </g>\n    <g id=\"ytick_2\">\n     <g id=\"line2d_33\">\n      <path clip-path=\"url(#p558f10b774)\" d=\"M 28.942188 268.128 \nL 363.742188 268.128 \n\" style=\"fill:none;stroke:#b0b0b0;stroke-linecap:square;stroke-width:0.8;\"/>\n     </g>\n     <g id=\"line2d_34\">\n      <g>\n       <use style=\"stroke:#000000;stroke-width:0.8;\" x=\"28.942188\" xlink:href=\"#m4dc33941c5\" y=\"268.128\"/>\n      </g>\n     </g>\n     <g id=\"text_17\">\n      <!-- −6 -->\n      <g transform=\"translate(7.2 271.927219)scale(0.1 -0.1)\">\n       <use xlink:href=\"#DejaVuSans-8722\"/>\n       <use x=\"83.789062\" xlink:href=\"#DejaVuSans-54\"/>\n      </g>\n     </g>\n    </g>\n    <g id=\"ytick_3\">\n     <g id=\"line2d_35\">\n      <path clip-path=\"url(#p558f10b774)\" d=\"M 28.942188 246.384 \nL 363.742188 246.384 \n\" style=\"fill:none;stroke:#b0b0b0;stroke-linecap:square;stroke-width:0.8;\"/>\n     </g>\n     <g id=\"line2d_36\">\n      <g>\n       <use style=\"stroke:#000000;stroke-width:0.8;\" x=\"28.942188\" xlink:href=\"#m4dc33941c5\" y=\"246.384\"/>\n      </g>\n     </g>\n     <g id=\"text_18\">\n      <!-- −5 -->\n      <g transform=\"translate(7.2 250.183219)scale(0.1 -0.1)\">\n       <use xlink:href=\"#DejaVuSans-8722\"/>\n       <use x=\"83.789062\" xlink:href=\"#DejaVuSans-53\"/>\n      </g>\n     </g>\n    </g>\n    <g id=\"ytick_4\">\n     <g id=\"line2d_37\">\n      <path clip-path=\"url(#p558f10b774)\" d=\"M 28.942188 224.64 \nL 363.742188 224.64 \n\" style=\"fill:none;stroke:#b0b0b0;stroke-linecap:square;stroke-width:0.8;\"/>\n     </g>\n     <g id=\"line2d_38\">\n      <g>\n       <use style=\"stroke:#000000;stroke-width:0.8;\" x=\"28.942188\" xlink:href=\"#m4dc33941c5\" y=\"224.64\"/>\n      </g>\n     </g>\n     <g id=\"text_19\">\n      <!-- −4 -->\n      <g transform=\"translate(7.2 228.439219)scale(0.1 -0.1)\">\n       <use xlink:href=\"#DejaVuSans-8722\"/>\n       <use x=\"83.789062\" xlink:href=\"#DejaVuSans-52\"/>\n      </g>\n     </g>\n    </g>\n    <g id=\"ytick_5\">\n     <g id=\"line2d_39\">\n      <path clip-path=\"url(#p558f10b774)\" d=\"M 28.942188 202.896 \nL 363.742188 202.896 \n\" style=\"fill:none;stroke:#b0b0b0;stroke-linecap:square;stroke-width:0.8;\"/>\n     </g>\n     <g id=\"line2d_40\">\n      <g>\n       <use style=\"stroke:#000000;stroke-width:0.8;\" x=\"28.942188\" xlink:href=\"#m4dc33941c5\" y=\"202.896\"/>\n      </g>\n     </g>\n     <g id=\"text_20\">\n      <!-- −3 -->\n      <g transform=\"translate(7.2 206.695219)scale(0.1 -0.1)\">\n       <use xlink:href=\"#DejaVuSans-8722\"/>\n       <use x=\"83.789062\" xlink:href=\"#DejaVuSans-51\"/>\n      </g>\n     </g>\n    </g>\n    <g id=\"ytick_6\">\n     <g id=\"line2d_41\">\n      <path clip-path=\"url(#p558f10b774)\" d=\"M 28.942188 181.152 \nL 363.742188 181.152 \n\" style=\"fill:none;stroke:#b0b0b0;stroke-linecap:square;stroke-width:0.8;\"/>\n     </g>\n     <g id=\"line2d_42\">\n      <g>\n       <use style=\"stroke:#000000;stroke-width:0.8;\" x=\"28.942188\" xlink:href=\"#m4dc33941c5\" y=\"181.152\"/>\n      </g>\n     </g>\n     <g id=\"text_21\">\n      <!-- −2 -->\n      <g transform=\"translate(7.2 184.951219)scale(0.1 -0.1)\">\n       <use xlink:href=\"#DejaVuSans-8722\"/>\n       <use x=\"83.789062\" xlink:href=\"#DejaVuSans-50\"/>\n      </g>\n     </g>\n    </g>\n    <g id=\"ytick_7\">\n     <g id=\"line2d_43\">\n      <path clip-path=\"url(#p558f10b774)\" d=\"M 28.942188 159.408 \nL 363.742188 159.408 \n\" style=\"fill:none;stroke:#b0b0b0;stroke-linecap:square;stroke-width:0.8;\"/>\n     </g>\n     <g id=\"line2d_44\">\n      <g>\n       <use style=\"stroke:#000000;stroke-width:0.8;\" x=\"28.942188\" xlink:href=\"#m4dc33941c5\" y=\"159.408\"/>\n      </g>\n     </g>\n     <g id=\"text_22\">\n      <!-- −1 -->\n      <g transform=\"translate(7.2 163.207219)scale(0.1 -0.1)\">\n       <use xlink:href=\"#DejaVuSans-8722\"/>\n       <use x=\"83.789062\" xlink:href=\"#DejaVuSans-49\"/>\n      </g>\n     </g>\n    </g>\n    <g id=\"ytick_8\">\n     <g id=\"line2d_45\">\n      <path clip-path=\"url(#p558f10b774)\" d=\"M 28.942188 137.664 \nL 363.742188 137.664 \n\" style=\"fill:none;stroke:#b0b0b0;stroke-linecap:square;stroke-width:0.8;\"/>\n     </g>\n     <g id=\"line2d_46\">\n      <g>\n       <use style=\"stroke:#000000;stroke-width:0.8;\" x=\"28.942188\" xlink:href=\"#m4dc33941c5\" y=\"137.664\"/>\n      </g>\n     </g>\n     <g id=\"text_23\">\n      <!-- 0 -->\n      <g transform=\"translate(15.579688 141.463219)scale(0.1 -0.1)\">\n       <use xlink:href=\"#DejaVuSans-48\"/>\n      </g>\n     </g>\n    </g>\n    <g id=\"ytick_9\">\n     <g id=\"line2d_47\">\n      <path clip-path=\"url(#p558f10b774)\" d=\"M 28.942188 115.92 \nL 363.742188 115.92 \n\" style=\"fill:none;stroke:#b0b0b0;stroke-linecap:square;stroke-width:0.8;\"/>\n     </g>\n     <g id=\"line2d_48\">\n      <g>\n       <use style=\"stroke:#000000;stroke-width:0.8;\" x=\"28.942188\" xlink:href=\"#m4dc33941c5\" y=\"115.92\"/>\n      </g>\n     </g>\n     <g id=\"text_24\">\n      <!-- 1 -->\n      <g transform=\"translate(15.579688 119.719219)scale(0.1 -0.1)\">\n       <use xlink:href=\"#DejaVuSans-49\"/>\n      </g>\n     </g>\n    </g>\n    <g id=\"ytick_10\">\n     <g id=\"line2d_49\">\n      <path clip-path=\"url(#p558f10b774)\" d=\"M 28.942188 94.176 \nL 363.742188 94.176 \n\" style=\"fill:none;stroke:#b0b0b0;stroke-linecap:square;stroke-width:0.8;\"/>\n     </g>\n     <g id=\"line2d_50\">\n      <g>\n       <use style=\"stroke:#000000;stroke-width:0.8;\" x=\"28.942188\" xlink:href=\"#m4dc33941c5\" y=\"94.176\"/>\n      </g>\n     </g>\n     <g id=\"text_25\">\n      <!-- 2 -->\n      <g transform=\"translate(15.579688 97.975219)scale(0.1 -0.1)\">\n       <use xlink:href=\"#DejaVuSans-50\"/>\n      </g>\n     </g>\n    </g>\n    <g id=\"ytick_11\">\n     <g id=\"line2d_51\">\n      <path clip-path=\"url(#p558f10b774)\" d=\"M 28.942188 72.432 \nL 363.742188 72.432 \n\" style=\"fill:none;stroke:#b0b0b0;stroke-linecap:square;stroke-width:0.8;\"/>\n     </g>\n     <g id=\"line2d_52\">\n      <g>\n       <use style=\"stroke:#000000;stroke-width:0.8;\" x=\"28.942188\" xlink:href=\"#m4dc33941c5\" y=\"72.432\"/>\n      </g>\n     </g>\n     <g id=\"text_26\">\n      <!-- 3 -->\n      <g transform=\"translate(15.579688 76.231219)scale(0.1 -0.1)\">\n       <use xlink:href=\"#DejaVuSans-51\"/>\n      </g>\n     </g>\n    </g>\n    <g id=\"ytick_12\">\n     <g id=\"line2d_53\">\n      <path clip-path=\"url(#p558f10b774)\" d=\"M 28.942188 50.688 \nL 363.742188 50.688 \n\" style=\"fill:none;stroke:#b0b0b0;stroke-linecap:square;stroke-width:0.8;\"/>\n     </g>\n     <g id=\"line2d_54\">\n      <g>\n       <use style=\"stroke:#000000;stroke-width:0.8;\" x=\"28.942188\" xlink:href=\"#m4dc33941c5\" y=\"50.688\"/>\n      </g>\n     </g>\n     <g id=\"text_27\">\n      <!-- 4 -->\n      <g transform=\"translate(15.579688 54.487219)scale(0.1 -0.1)\">\n       <use xlink:href=\"#DejaVuSans-52\"/>\n      </g>\n     </g>\n    </g>\n    <g id=\"ytick_13\">\n     <g id=\"line2d_55\">\n      <path clip-path=\"url(#p558f10b774)\" d=\"M 28.942188 28.944 \nL 363.742188 28.944 \n\" style=\"fill:none;stroke:#b0b0b0;stroke-linecap:square;stroke-width:0.8;\"/>\n     </g>\n     <g id=\"line2d_56\">\n      <g>\n       <use style=\"stroke:#000000;stroke-width:0.8;\" x=\"28.942188\" xlink:href=\"#m4dc33941c5\" y=\"28.944\"/>\n      </g>\n     </g>\n     <g id=\"text_28\">\n      <!-- 5 -->\n      <g transform=\"translate(15.579688 32.743219)scale(0.1 -0.1)\">\n       <use xlink:href=\"#DejaVuSans-53\"/>\n      </g>\n     </g>\n    </g>\n   </g>\n   <g id=\"PathCollection_1\">\n    <defs>\n     <path d=\"M -3 3 \nL 3 -3 \nM -3 -3 \nL 3 3 \n\" id=\"m210374406e\" style=\"stroke:#000000;stroke-width:1.5;\"/>\n    </defs>\n    <g clip-path=\"url(#p558f10b774)\">\n     <use style=\"stroke:#000000;stroke-width:1.5;\" x=\"207.502187\" xlink:href=\"#m210374406e\" y=\"137.664\"/>\n    </g>\n   </g>\n   <g id=\"PathCollection_2\">\n    <defs>\n     <path d=\"M 0 3 \nC 0.795609 3 1.55874 2.683901 2.12132 2.12132 \nC 2.683901 1.55874 3 0.795609 3 0 \nC 3 -0.795609 2.683901 -1.55874 2.12132 -2.12132 \nC 1.55874 -2.683901 0.795609 -3 0 -3 \nC -0.795609 -3 -1.55874 -2.683901 -2.12132 -2.12132 \nC -2.683901 -1.55874 -3 -0.795609 -3 0 \nC -3 0.795609 -2.683901 1.55874 -2.12132 2.12132 \nC -1.55874 2.683901 -0.795609 3 0 3 \nz\n\" id=\"mff956ed576\" style=\"stroke:#000000;\"/>\n    </defs>\n    <g clip-path=\"url(#p558f10b774)\">\n     <use style=\"stroke:#000000;\" x=\"341.422188\" xlink:href=\"#mff956ed576\" y=\"50.688\"/>\n     <use style=\"stroke:#000000;\" x=\"274.462188\" xlink:href=\"#mff956ed576\" y=\"115.92\"/>\n     <use style=\"stroke:#000000;\" x=\"229.822187\" xlink:href=\"#mff956ed576\" y=\"94.176\"/>\n     <use style=\"stroke:#000000;\" x=\"185.182187\" xlink:href=\"#mff956ed576\" y=\"28.944\"/>\n     <use style=\"stroke:#000000;\" x=\"162.862188\" xlink:href=\"#mff956ed576\" y=\"28.944\"/>\n     <use style=\"stroke:#000000;\" x=\"140.542187\" xlink:href=\"#mff956ed576\" y=\"50.688\"/>\n     <use style=\"stroke:#000000;\" x=\"118.222187\" xlink:href=\"#mff956ed576\" y=\"50.688\"/>\n     <use style=\"stroke:#000000;\" x=\"95.902187\" xlink:href=\"#mff956ed576\" y=\"72.432\"/>\n     <use style=\"stroke:#000000;\" x=\"95.902187\" xlink:href=\"#mff956ed576\" y=\"94.176\"/>\n     <use style=\"stroke:#000000;\" x=\"162.862188\" xlink:href=\"#mff956ed576\" y=\"94.176\"/>\n     <use style=\"stroke:#000000;\" x=\"95.902187\" xlink:href=\"#mff956ed576\" y=\"115.92\"/>\n     <use style=\"stroke:#000000;\" x=\"118.222187\" xlink:href=\"#mff956ed576\" y=\"137.664\"/>\n     <use style=\"stroke:#000000;\" x=\"162.862188\" xlink:href=\"#mff956ed576\" y=\"115.92\"/>\n     <use style=\"stroke:#000000;\" x=\"185.182187\" xlink:href=\"#mff956ed576\" y=\"137.664\"/>\n     <use style=\"stroke:#000000;\" x=\"207.502187\" xlink:href=\"#mff956ed576\" y=\"202.896\"/>\n     <use style=\"stroke:#000000;\" x=\"185.182187\" xlink:href=\"#mff956ed576\" y=\"224.64\"/>\n     <use style=\"stroke:#000000;\" x=\"229.822187\" xlink:href=\"#mff956ed576\" y=\"224.64\"/>\n     <use style=\"stroke:#000000;\" x=\"252.142187\" xlink:href=\"#mff956ed576\" y=\"202.896\"/>\n     <use style=\"stroke:#000000;\" x=\"229.822187\" xlink:href=\"#mff956ed576\" y=\"181.152\"/>\n     <use style=\"stroke:#000000;\" x=\"274.462188\" xlink:href=\"#mff956ed576\" y=\"159.408\"/>\n     <use style=\"stroke:#000000;\" x=\"319.102188\" xlink:href=\"#mff956ed576\" y=\"115.92\"/>\n    </g>\n   </g>\n   <g id=\"PathCollection_3\">\n    <g clip-path=\"url(#p558f10b774)\">\n     <use style=\"stroke:#000000;\" x=\"296.782187\" xlink:href=\"#mff956ed576\" y=\"94.176\"/>\n     <use style=\"stroke:#000000;\" x=\"229.822187\" xlink:href=\"#mff956ed576\" y=\"159.408\"/>\n     <use style=\"stroke:#000000;\" x=\"185.182187\" xlink:href=\"#mff956ed576\" y=\"137.664\"/>\n     <use style=\"stroke:#000000;\" x=\"140.542187\" xlink:href=\"#mff956ed576\" y=\"72.432\"/>\n     <use style=\"stroke:#000000;\" x=\"118.222187\" xlink:href=\"#mff956ed576\" y=\"72.432\"/>\n     <use style=\"stroke:#000000;\" x=\"95.902187\" xlink:href=\"#mff956ed576\" y=\"94.176\"/>\n     <use style=\"stroke:#000000;\" x=\"73.582187\" xlink:href=\"#mff956ed576\" y=\"94.176\"/>\n     <use style=\"stroke:#000000;\" x=\"51.262187\" xlink:href=\"#mff956ed576\" y=\"115.92\"/>\n     <use style=\"stroke:#000000;\" x=\"51.262187\" xlink:href=\"#mff956ed576\" y=\"137.664\"/>\n     <use style=\"stroke:#000000;\" x=\"118.222187\" xlink:href=\"#mff956ed576\" y=\"137.664\"/>\n     <use style=\"stroke:#000000;\" x=\"51.262187\" xlink:href=\"#mff956ed576\" y=\"159.408\"/>\n     <use style=\"stroke:#000000;\" x=\"73.582187\" xlink:href=\"#mff956ed576\" y=\"181.152\"/>\n     <use style=\"stroke:#000000;\" x=\"118.222187\" xlink:href=\"#mff956ed576\" y=\"159.408\"/>\n     <use style=\"stroke:#000000;\" x=\"140.542187\" xlink:href=\"#mff956ed576\" y=\"181.152\"/>\n     <use style=\"stroke:#000000;\" x=\"162.862188\" xlink:href=\"#mff956ed576\" y=\"246.384\"/>\n     <use style=\"stroke:#000000;\" x=\"140.542187\" xlink:href=\"#mff956ed576\" y=\"268.128\"/>\n     <use style=\"stroke:#000000;\" x=\"185.182187\" xlink:href=\"#mff956ed576\" y=\"268.128\"/>\n     <use style=\"stroke:#000000;\" x=\"207.502187\" xlink:href=\"#mff956ed576\" y=\"246.384\"/>\n     <use style=\"stroke:#000000;\" x=\"185.182187\" xlink:href=\"#mff956ed576\" y=\"224.64\"/>\n     <use style=\"stroke:#000000;\" x=\"229.822187\" xlink:href=\"#mff956ed576\" y=\"202.896\"/>\n     <use style=\"stroke:#000000;\" x=\"274.462188\" xlink:href=\"#mff956ed576\" y=\"159.408\"/>\n    </g>\n   </g>\n   <g id=\"line2d_57\">\n    <path clip-path=\"url(#p558f10b774)\" d=\"M 28.942188 137.664 \nL 363.742188 137.664 \n\" style=\"fill:none;stroke:#000000;stroke-linecap:square;stroke-width:2;\"/>\n   </g>\n   <g id=\"line2d_58\">\n    <path clip-path=\"url(#p558f10b774)\" d=\"M 207.502187 289.872 \nL 207.502187 7.2 \n\" style=\"fill:none;stroke:#000000;stroke-linecap:square;stroke-width:2;\"/>\n   </g>\n   <g id=\"line2d_59\">\n    <path clip-path=\"url(#p558f10b774)\" d=\"M 341.422188 50.688 \nL 274.462188 115.92 \n\" style=\"fill:none;stroke:#1f77b4;stroke-linecap:square;stroke-width:1.5;\"/>\n   </g>\n   <g id=\"line2d_60\">\n    <path clip-path=\"url(#p558f10b774)\" d=\"M 274.462188 115.92 \nL 229.822187 94.176 \n\" style=\"fill:none;stroke:#1f77b4;stroke-linecap:square;stroke-width:1.5;\"/>\n   </g>\n   <g id=\"line2d_61\">\n    <path clip-path=\"url(#p558f10b774)\" d=\"M 229.822187 94.176 \nL 185.182187 28.944 \n\" style=\"fill:none;stroke:#1f77b4;stroke-linecap:square;stroke-width:1.5;\"/>\n   </g>\n   <g id=\"line2d_62\">\n    <path clip-path=\"url(#p558f10b774)\" d=\"M 185.182187 28.944 \nL 162.862188 28.944 \n\" style=\"fill:none;stroke:#1f77b4;stroke-linecap:square;stroke-width:1.5;\"/>\n   </g>\n   <g id=\"line2d_63\">\n    <path clip-path=\"url(#p558f10b774)\" d=\"M 162.862188 28.944 \nL 140.542187 50.688 \n\" style=\"fill:none;stroke:#1f77b4;stroke-linecap:square;stroke-width:1.5;\"/>\n   </g>\n   <g id=\"line2d_64\">\n    <path clip-path=\"url(#p558f10b774)\" d=\"M 140.542187 50.688 \nL 118.222187 50.688 \n\" style=\"fill:none;stroke:#1f77b4;stroke-linecap:square;stroke-width:1.5;\"/>\n   </g>\n   <g id=\"line2d_65\">\n    <path clip-path=\"url(#p558f10b774)\" d=\"M 118.222187 50.688 \nL 95.902187 72.432 \n\" style=\"fill:none;stroke:#1f77b4;stroke-linecap:square;stroke-width:1.5;\"/>\n   </g>\n   <g id=\"line2d_66\">\n    <path clip-path=\"url(#p558f10b774)\" d=\"M 95.902187 72.432 \nL 95.902187 94.176 \n\" style=\"fill:none;stroke:#1f77b4;stroke-linecap:square;stroke-width:1.5;\"/>\n   </g>\n   <g id=\"line2d_67\">\n    <path clip-path=\"url(#p558f10b774)\" d=\"M 95.902187 94.176 \nL 162.862188 94.176 \n\" style=\"fill:none;stroke:#1f77b4;stroke-linecap:square;stroke-width:1.5;\"/>\n   </g>\n   <g id=\"line2d_68\">\n    <path clip-path=\"url(#p558f10b774)\" d=\"M 162.862188 94.176 \nL 95.902187 115.92 \n\" style=\"fill:none;stroke:#1f77b4;stroke-linecap:square;stroke-width:1.5;\"/>\n   </g>\n   <g id=\"line2d_69\">\n    <path clip-path=\"url(#p558f10b774)\" d=\"M 95.902187 115.92 \nL 118.222187 137.664 \n\" style=\"fill:none;stroke:#1f77b4;stroke-linecap:square;stroke-width:1.5;\"/>\n   </g>\n   <g id=\"line2d_70\">\n    <path clip-path=\"url(#p558f10b774)\" d=\"M 118.222187 137.664 \nL 162.862188 115.92 \n\" style=\"fill:none;stroke:#1f77b4;stroke-linecap:square;stroke-width:1.5;\"/>\n   </g>\n   <g id=\"line2d_71\">\n    <path clip-path=\"url(#p558f10b774)\" d=\"M 162.862188 115.92 \nL 185.182187 137.664 \n\" style=\"fill:none;stroke:#1f77b4;stroke-linecap:square;stroke-width:1.5;\"/>\n   </g>\n   <g id=\"line2d_72\">\n    <path clip-path=\"url(#p558f10b774)\" d=\"M 185.182187 137.664 \nL 207.502187 202.896 \n\" style=\"fill:none;stroke:#1f77b4;stroke-linecap:square;stroke-width:1.5;\"/>\n   </g>\n   <g id=\"line2d_73\">\n    <path clip-path=\"url(#p558f10b774)\" d=\"M 207.502187 202.896 \nL 185.182187 224.64 \n\" style=\"fill:none;stroke:#1f77b4;stroke-linecap:square;stroke-width:1.5;\"/>\n   </g>\n   <g id=\"line2d_74\">\n    <path clip-path=\"url(#p558f10b774)\" d=\"M 185.182187 224.64 \nL 229.822187 224.64 \n\" style=\"fill:none;stroke:#1f77b4;stroke-linecap:square;stroke-width:1.5;\"/>\n   </g>\n   <g id=\"line2d_75\">\n    <path clip-path=\"url(#p558f10b774)\" d=\"M 229.822187 224.64 \nL 252.142187 202.896 \n\" style=\"fill:none;stroke:#1f77b4;stroke-linecap:square;stroke-width:1.5;\"/>\n   </g>\n   <g id=\"line2d_76\">\n    <path clip-path=\"url(#p558f10b774)\" d=\"M 252.142187 202.896 \nL 229.822187 181.152 \n\" style=\"fill:none;stroke:#1f77b4;stroke-linecap:square;stroke-width:1.5;\"/>\n   </g>\n   <g id=\"line2d_77\">\n    <path clip-path=\"url(#p558f10b774)\" d=\"M 229.822187 181.152 \nL 274.462188 159.408 \n\" style=\"fill:none;stroke:#1f77b4;stroke-linecap:square;stroke-width:1.5;\"/>\n   </g>\n   <g id=\"line2d_78\">\n    <path clip-path=\"url(#p558f10b774)\" d=\"M 274.462188 159.408 \nL 319.102188 115.92 \n\" style=\"fill:none;stroke:#1f77b4;stroke-linecap:square;stroke-width:1.5;\"/>\n   </g>\n   <g id=\"line2d_79\">\n    <path clip-path=\"url(#p558f10b774)\" d=\"M 319.102188 115.92 \nL 341.422188 50.688 \n\" style=\"fill:none;stroke:#1f77b4;stroke-linecap:square;stroke-width:1.5;\"/>\n   </g>\n   <g id=\"line2d_80\">\n    <path clip-path=\"url(#p558f10b774)\" d=\"M 296.782187 94.176 \nL 229.822187 159.408 \n\" style=\"fill:none;stroke:#ff7f0e;stroke-linecap:square;stroke-width:1.5;\"/>\n   </g>\n   <g id=\"line2d_81\">\n    <path clip-path=\"url(#p558f10b774)\" d=\"M 229.822187 159.408 \nL 185.182187 137.664 \n\" style=\"fill:none;stroke:#ff7f0e;stroke-linecap:square;stroke-width:1.5;\"/>\n   </g>\n   <g id=\"line2d_82\">\n    <path clip-path=\"url(#p558f10b774)\" d=\"M 185.182187 137.664 \nL 140.542187 72.432 \n\" style=\"fill:none;stroke:#ff7f0e;stroke-linecap:square;stroke-width:1.5;\"/>\n   </g>\n   <g id=\"line2d_83\">\n    <path clip-path=\"url(#p558f10b774)\" d=\"M 140.542187 72.432 \nL 118.222187 72.432 \n\" style=\"fill:none;stroke:#ff7f0e;stroke-linecap:square;stroke-width:1.5;\"/>\n   </g>\n   <g id=\"line2d_84\">\n    <path clip-path=\"url(#p558f10b774)\" d=\"M 118.222187 72.432 \nL 95.902187 94.176 \n\" style=\"fill:none;stroke:#ff7f0e;stroke-linecap:square;stroke-width:1.5;\"/>\n   </g>\n   <g id=\"line2d_85\">\n    <path clip-path=\"url(#p558f10b774)\" d=\"M 95.902187 94.176 \nL 73.582187 94.176 \n\" style=\"fill:none;stroke:#ff7f0e;stroke-linecap:square;stroke-width:1.5;\"/>\n   </g>\n   <g id=\"line2d_86\">\n    <path clip-path=\"url(#p558f10b774)\" d=\"M 73.582187 94.176 \nL 51.262187 115.92 \n\" style=\"fill:none;stroke:#ff7f0e;stroke-linecap:square;stroke-width:1.5;\"/>\n   </g>\n   <g id=\"line2d_87\">\n    <path clip-path=\"url(#p558f10b774)\" d=\"M 51.262187 115.92 \nL 51.262187 137.664 \n\" style=\"fill:none;stroke:#ff7f0e;stroke-linecap:square;stroke-width:1.5;\"/>\n   </g>\n   <g id=\"line2d_88\">\n    <path clip-path=\"url(#p558f10b774)\" d=\"M 51.262187 137.664 \nL 118.222187 137.664 \n\" style=\"fill:none;stroke:#ff7f0e;stroke-linecap:square;stroke-width:1.5;\"/>\n   </g>\n   <g id=\"line2d_89\">\n    <path clip-path=\"url(#p558f10b774)\" d=\"M 118.222187 137.664 \nL 51.262187 159.408 \n\" style=\"fill:none;stroke:#ff7f0e;stroke-linecap:square;stroke-width:1.5;\"/>\n   </g>\n   <g id=\"line2d_90\">\n    <path clip-path=\"url(#p558f10b774)\" d=\"M 51.262187 159.408 \nL 73.582187 181.152 \n\" style=\"fill:none;stroke:#ff7f0e;stroke-linecap:square;stroke-width:1.5;\"/>\n   </g>\n   <g id=\"line2d_91\">\n    <path clip-path=\"url(#p558f10b774)\" d=\"M 73.582187 181.152 \nL 118.222187 159.408 \n\" style=\"fill:none;stroke:#ff7f0e;stroke-linecap:square;stroke-width:1.5;\"/>\n   </g>\n   <g id=\"line2d_92\">\n    <path clip-path=\"url(#p558f10b774)\" d=\"M 118.222187 159.408 \nL 140.542187 181.152 \n\" style=\"fill:none;stroke:#ff7f0e;stroke-linecap:square;stroke-width:1.5;\"/>\n   </g>\n   <g id=\"line2d_93\">\n    <path clip-path=\"url(#p558f10b774)\" d=\"M 140.542187 181.152 \nL 162.862188 246.384 \n\" style=\"fill:none;stroke:#ff7f0e;stroke-linecap:square;stroke-width:1.5;\"/>\n   </g>\n   <g id=\"line2d_94\">\n    <path clip-path=\"url(#p558f10b774)\" d=\"M 162.862188 246.384 \nL 140.542187 268.128 \n\" style=\"fill:none;stroke:#ff7f0e;stroke-linecap:square;stroke-width:1.5;\"/>\n   </g>\n   <g id=\"line2d_95\">\n    <path clip-path=\"url(#p558f10b774)\" d=\"M 140.542187 268.128 \nL 185.182187 268.128 \n\" style=\"fill:none;stroke:#ff7f0e;stroke-linecap:square;stroke-width:1.5;\"/>\n   </g>\n   <g id=\"line2d_96\">\n    <path clip-path=\"url(#p558f10b774)\" d=\"M 185.182187 268.128 \nL 207.502187 246.384 \n\" style=\"fill:none;stroke:#ff7f0e;stroke-linecap:square;stroke-width:1.5;\"/>\n   </g>\n   <g id=\"line2d_97\">\n    <path clip-path=\"url(#p558f10b774)\" d=\"M 207.502187 246.384 \nL 185.182187 224.64 \n\" style=\"fill:none;stroke:#ff7f0e;stroke-linecap:square;stroke-width:1.5;\"/>\n   </g>\n   <g id=\"line2d_98\">\n    <path clip-path=\"url(#p558f10b774)\" d=\"M 185.182187 224.64 \nL 229.822187 202.896 \n\" style=\"fill:none;stroke:#ff7f0e;stroke-linecap:square;stroke-width:1.5;\"/>\n   </g>\n   <g id=\"line2d_99\">\n    <path clip-path=\"url(#p558f10b774)\" d=\"M 229.822187 202.896 \nL 274.462188 159.408 \n\" style=\"fill:none;stroke:#ff7f0e;stroke-linecap:square;stroke-width:1.5;\"/>\n   </g>\n   <g id=\"line2d_100\">\n    <path clip-path=\"url(#p558f10b774)\" d=\"M 274.462188 159.408 \nL 296.782187 94.176 \n\" style=\"fill:none;stroke:#ff7f0e;stroke-linecap:square;stroke-width:1.5;\"/>\n   </g>\n   <g id=\"patch_3\">\n    <path d=\"M 28.942188 289.872 \nL 28.942188 7.2 \n\" style=\"fill:none;stroke:#000000;stroke-linecap:square;stroke-linejoin:miter;stroke-width:0.8;\"/>\n   </g>\n   <g id=\"patch_4\">\n    <path d=\"M 363.742188 289.872 \nL 363.742188 7.2 \n\" style=\"fill:none;stroke:#000000;stroke-linecap:square;stroke-linejoin:miter;stroke-width:0.8;\"/>\n   </g>\n   <g id=\"patch_5\">\n    <path d=\"M 28.942187 289.872 \nL 363.742188 289.872 \n\" style=\"fill:none;stroke:#000000;stroke-linecap:square;stroke-linejoin:miter;stroke-width:0.8;\"/>\n   </g>\n   <g id=\"patch_6\">\n    <path d=\"M 28.942187 7.2 \nL 363.742188 7.2 \n\" style=\"fill:none;stroke:#000000;stroke-linecap:square;stroke-linejoin:miter;stroke-width:0.8;\"/>\n   </g>\n  </g>\n </g>\n <defs>\n  <clipPath id=\"p558f10b774\">\n   <rect height=\"282.672\" width=\"334.8\" x=\"28.942188\" y=\"7.2\"/>\n  </clipPath>\n </defs>\n</svg>\n",
      "image/png": "[encoded data removed]"
     },
     "metadata": {
      "needs_background": "light"
     }
    }
   ],
   "source": [
    "from my_draw2d import draw2d, Points2D, Polygon2D\n",
    "from my_matrices import multiply_matrix_vector\n",
    "from my_colors import blue, orange\n",
    "\n",
    "translation_matrix = (\n",
    "    (1, 0, -2),\n",
    "    (0, 1, -2),\n",
    "    (0, 0, 1)\n",
    ")\n",
    "\n",
    "dino_vectors = [(6,4), (3,1), (1,2), (-1,5), (-2,5), (-3,4), (-4,4),\n",
    "    (-5,3), (-5,2), (-2,2), (-5,1), (-4,0), (-2,1), (-1,0), (0,-3),\n",
    "    (-1,-4), (1,-4), (2,-3), (1,-2), (3,-1), (5,1)\n",
    "]\n",
    "\n",
    "dino_vectors_3d = [(x, y, 1) for x, y in dino_vectors]\n",
    "\n",
    "translated_dino_vectors_3d = [multiply_matrix_vector(translation_matrix, dino_vector_3d) for dino_vector_3d in dino_vectors_3d ]\n",
    "\n",
    "translated_dino_vectors_2d = [(x, y) for x, y, _ in translated_dino_vectors_3d]\n",
    "\n",
    "draw2d(\n",
    "    Points2D(*dino_vectors),\n",
    "    Polygon2D(*dino_vectors, color=blue),\n",
    "    Points2D(*translated_dino_vectors_2d),\n",
    "    Polygon2D(*translated_dino_vectors_2d, color=orange)\n",
    ")"
   ]
  },
  {
   "source": [
    "## Exercise 5.28\n",
    "\n"
   ],
   "cell_type": "markdown",
   "metadata": {}
  }
 ]
}