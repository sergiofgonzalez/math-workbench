{
 "metadata": {
  "language_info": {
   "codemirror_mode": {
    "name": "ipython",
    "version": 3
   },
   "file_extension": ".py",
   "mimetype": "text/x-python",
   "name": "python",
   "nbconvert_exporter": "python",
   "pygments_lexer": "ipython3",
   "version": "3.8.3-final"
  },
  "orig_nbformat": 2,
  "kernelspec": {
   "name": "Python 3.8.3 64-bit ('base': conda)",
   "display_name": "Python 3.8.3 64-bit ('base': conda)",
   "metadata": {
    "interpreter": {
     "hash": "ead85409a3df2736fa4852a03cf3afe7e5b1dbdc0e40d7d22bbcbf8cf1adf5fa"
    }
   }
  }
 },
 "nbformat": 4,
 "nbformat_minor": 2,
 "cells": [
  {
   "source": [
    "# Exercises on 3D animations with matrix transformations\n",
    "\n",
    "## Exercise 5.1\n",
    "Write a function `infer_matrix(n, transformation)` that takes a dimension and a function that is a vector transformation assumed to be linear and returns an nxn square matrix that represents the linear transformation.\n",
    "\n",
    "Note that the given `transformation` **has** to be linear, otherwise, the returned matrix will not represent the transformation."
   ],
   "cell_type": "markdown",
   "metadata": {}
  },
  {
   "source": [
    "We know that to completely specify a linear transformation, it is enough to specify how it transforms the vectors of the standard basis.\n",
    "\n",
    "Thus, what we have to do is is apply the given transformation to the standard basis of the given dimension, collect the results in columns, and return that matrix.\n",
    "\n",
    "Let's start with a supporting function that will return the standard basis vectors."
   ],
   "cell_type": "markdown",
   "metadata": {}
  },
  {
   "source": [
    "For the standard basis vectors, we need to come up with a collection of tuples on which the coordinate 1 is shifted in position for every vector.\n",
    "\n",
    "```\n",
    "n = 2:\n",
    "    e1 = (1, 0)\n",
    "    e2 = (0, 1)\n",
    "    standard_basis = [e1, e2]\n",
    "\n",
    "n = 3:\n",
    "    e1 = (1, 0, 0)\n",
    "    e2 = (0, 1, 0)\n",
    "    e3 = (0, 0, 1)\n",
    "    standard_basis = [e1, e2, e3]\n",
    "\n",
    "n = 4:\n",
    "    e1 = (1, 0, 0, 0)\n",
    "    e2 = (0, 1, 0, 0)\n",
    "    e3 = (0, 0, 1, 0)\n",
    "    e4 = (0, 0, 0, 1)\n",
    "    standard_basis = [e1, e2, e3, e4]\n",
    "```\n",
    "\n",
    "Now, we're beginning to see that we will need a couple of nested iterations: one over the number of dimensions given (number of standard basis vectors) and an inner one to build the elements of each of the vectors.\n",
    "\n",
    "Let's start with a *procedural*, non-Pythonic way:"
   ],
   "cell_type": "markdown",
   "metadata": {}
  },
  {
   "cell_type": "code",
   "execution_count": 3,
   "metadata": {},
   "outputs": [
    {
     "output_type": "stream",
     "name": "stdout",
     "text": [
      "[[1, 0], [0, 1]]\n[[1, 0, 0], [0, 1, 0], [0, 0, 1]]\n[[1, 0, 0, 0], [0, 1, 0, 0], [0, 0, 1, 0], [0, 0, 0, 1]]\n"
     ]
    }
   ],
   "source": [
    "def standard_basis(dimension):\n",
    "    standard_basis = []\n",
    "    for i in range(0, dimension):\n",
    "        e = []\n",
    "        for j in range(0, dimension):\n",
    "            if (i == j):\n",
    "                e.append(1)\n",
    "            else:\n",
    "                e.append(0)\n",
    "        standard_basis.append(e)\n",
    "    return standard_basis\n",
    "\n",
    "print(standard_basis(2))\n",
    "print(standard_basis(3))\n",
    "print(standard_basis(4))"
   ]
  },
  {
   "source": [
    "That solution more or less works, but we are only using lists instead of tuples, and it cries for a more succinct implementation.\n",
    "\n",
    "Let's give it a second try with the hint that list and tuple comprehensions in Python allows for using if conditions in their definition:"
   ],
   "cell_type": "markdown",
   "metadata": {}
  },
  {
   "cell_type": "code",
   "execution_count": 7,
   "metadata": {},
   "outputs": [
    {
     "output_type": "stream",
     "name": "stdout",
     "text": [
      "[(1, 0), (0, 1)]\n[(1, 0, 0), (0, 1, 0), (0, 0, 1)]\n[(1, 0, 0, 0), (0, 1, 0, 0), (0, 0, 1, 0), (0, 0, 0, 1)]\n"
     ]
    }
   ],
   "source": [
    "def standard_basis(dimension):\n",
    "    standard_basis = [\n",
    "        tuple(1 if i == j else 0 for j in range(0, dimension)) \n",
    "        for i in range(0, dimension)\n",
    "        ]\n",
    "    return standard_basis\n",
    "\n",
    "print(standard_basis(2))\n",
    "print(standard_basis(3))\n",
    "print(standard_basis(4))"
   ]
  },
  {
   "source": [
    "Note that for readability purposes, the author recommends defining a support function to return the standard basis vector, but either way is fine.\n",
    "\n"
   ],
   "cell_type": "markdown",
   "metadata": {}
  },
  {
   "cell_type": "code",
   "execution_count": 8,
   "metadata": {},
   "outputs": [
    {
     "output_type": "stream",
     "name": "stdout",
     "text": [
      "[(1, 0), (0, 1)]\n[(1, 0, 0), (0, 1, 0), (0, 0, 1)]\n[(1, 0, 0, 0), (0, 1, 0, 0), (0, 0, 1, 0), (0, 0, 0, 1)]\n"
     ]
    }
   ],
   "source": [
    "def standard_basis(dimension):\n",
    "    def standard_basis_vector(i):\n",
    "        return tuple(1 if i == j else 0 for j in range(0, dimension))\n",
    "    standard_basis = [standard_basis_vector(i) for i in range(0, dimension)]\n",
    "    return standard_basis\n",
    "\n",
    "print(standard_basis(2))\n",
    "print(standard_basis(3))\n",
    "print(standard_basis(4))"
   ]
  },
  {
   "cell_type": "code",
   "execution_count": null,
   "metadata": {},
   "outputs": [],
   "source": [
    "Now, we need to define our main function:"
   ]
  },
  {
   "cell_type": "code",
   "execution_count": 9,
   "metadata": {},
   "outputs": [],
   "source": [
    "def infer_matrix(n, transformation):\n",
    "    transformations_on_standard_basis = [transformation(ei) for ei in standard_basis(n)]\n",
    "    return tuple(zip(*transformations_on_standard_basis))"
   ]
  },
  {
   "source": [
    "Note that we had to use `zip(*matrix)` to convert the matrix rows into columns.\n",
    "\n",
    "Let's validate it with a transformation like `rotate_z_by(pi / 2)`:"
   ],
   "cell_type": "markdown",
   "metadata": {}
  },
  {
   "cell_type": "code",
   "execution_count": 12,
   "metadata": {},
   "outputs": [
    {
     "output_type": "execute_result",
     "data": {
      "text/plain": [
       "((6.123233995736766e-17, -1.0, 0.0),\n",
       " (1.0, 1.2246467991473532e-16, 0.0),\n",
       " (0, 0, 1))"
      ]
     },
     "metadata": {},
     "execution_count": 12
    }
   ],
   "source": [
    "from my_transformations import rotate_z_by\n",
    "from math import pi\n",
    "\n",
    "infer_matrix(3, rotate_z_by(pi / 2))"
   ]
  },
  {
   "source": [
    "We can validate it also visually, by using this function to rotate our teapot:"
   ],
   "cell_type": "markdown",
   "metadata": {}
  },
  {
   "cell_type": "code",
   "execution_count": 19,
   "metadata": {},
   "outputs": [
    {
     "output_type": "error",
     "ename": "SystemExit",
     "evalue": "0",
     "traceback": [
      "An exception has occurred, use %tb to see the full traceback.\n",
      "\u001b[0;31mSystemExit\u001b[0m\u001b[0;31m:\u001b[0m 0\n"
     ]
    }
   ],
   "source": [
    "from my_teapot import load_triangles\n",
    "from my_draw_model import draw_model\n",
    "from math import sin, cos\n",
    "from my_transformations import rotate_z_by, polygon_map\n",
    "from my_matrices import multiply_matrix_vector\n",
    "from math import pi\n",
    "\n",
    "def standard_basis(dimension):\n",
    "    def standard_basis_vector(i):\n",
    "        return tuple(1 if i == j else 0 for j in range(0, dimension))\n",
    "    standard_basis = [standard_basis_vector(i) for i in range(0, dimension)]\n",
    "    return standard_basis\n",
    "\n",
    "def infer_matrix(n, transformation):\n",
    "    transformations_on_standard_basis = [transformation(ei) for ei in standard_basis(n)]\n",
    "    return tuple(zip(*transformations_on_standard_basis))\n",
    "\n",
    "rotation_matrix = infer_matrix(3, rotate_z_by(pi / 2))\n",
    "\n",
    "def matrix_rotate_z_by(angle_radians):\n",
    "    matrix_transformation = infer_matrix(3, rotate_z_by(angle_radians))\n",
    "    def new_function(v):\n",
    "        return multiply_matrix_vector(matrix_transformation, v)\n",
    "    return new_function\n",
    "\n",
    "draw_model(polygon_map(matrix_rotate_z_by(pi / 2), load_triangles()))"
   ]
  },
  {
   "cell_type": "code",
   "execution_count": null,
   "metadata": {},
   "outputs": [],
   "source": [
    "Note that as this rotation matrix does not depend on time, the teapot is not animated, but rather rotated once."
   ]
  },
  {
   "source": [
    "# Exercise 5.2\n",
    "\n",
    "What is the result of the following product?\n",
    "\n",
    "$\n",
    "\\begin{pmatrix}\n",
    "1.3 & -0.7 \\\\\n",
    "6.5 & 3.2\n",
    "\\end{pmatrix}\n",
    "\\begin{pmatrix}\n",
    "-2.5 \\\\\n",
    "0.3\n",
    "\\end{pmatrix}\n",
    "$"
   ],
   "cell_type": "markdown",
   "metadata": {}
  },
  {
   "source": [
    "The result will be a column vector with dimension 2, with $ a_{11} = (1.3, -0.7) \\cdot (-2.5, 0.3) $ and $ a_{21} = (6.5, 3.2) \\cdot (-2.5, 0.3) $\n",
    "\n",
    "$\n",
    "\\begin{pmatrix}\n",
    "1.3 & -0.7 \\\\\n",
    "6.5 & 3.2\n",
    "\\end{pmatrix}\n",
    "\\begin{pmatrix}\n",
    "-2.5 \\\\\n",
    "0.3\n",
    "\\end{pmatrix} = \\begin{pmatrix}\n",
    "-3.46 \\\\\n",
    "-15.29\n",
    "\\end{pmatrix}\n",
    "$\n"
   ],
   "cell_type": "markdown",
   "metadata": {}
  },
  {
   "source": [
    "Let's validate it with our Python functions:"
   ],
   "cell_type": "markdown",
   "metadata": {}
  },
  {
   "cell_type": "code",
   "execution_count": 21,
   "metadata": {},
   "outputs": [
    {
     "output_type": "stream",
     "name": "stdout",
     "text": [
      "(-3.46, -15.29)\n"
     ]
    }
   ],
   "source": [
    "from my_matrices import multiply_matrix_vector\n",
    "\n",
    "m = (\n",
    "    (1.3, -0.7),\n",
    "    (6.5, 3.2)\n",
    "    )\n",
    "v = (-2.5, 0.3)\n",
    "\n",
    "print(multiply_matrix_vector(m, v))"
   ]
  },
  {
   "source": [
    "# Exercise 5.3\n",
    "\n",
    "Write a `random_matrix(...)` function that generates matrices of a specified size with random whole number entries. Use the function to generate five pairs or 3x3 matrices. Multiply each of the pairs together by hand for practice and then check your work with the `matrix_multiply(...)` function."
   ],
   "cell_type": "markdown",
   "metadata": {}
  },
  {
   "source": [
    "Let's define the `random_matrix(...)` function first:"
   ],
   "cell_type": "markdown",
   "metadata": {}
  },
  {
   "source": [
    "From the initial chapter we know that we can get random ints using:\n",
    "\n",
    "```python\n",
    "import random\n",
    "\n",
    "print(random.randint(0, 10))\n",
    "```\n",
    "\n",
    "This can also be written as:\n",
    "\n",
    "```python\n",
    "from random import randint\n",
    "\n",
    "print(randint(0, 10))\n",
    "```"
   ],
   "cell_type": "markdown",
   "metadata": {}
  },
  {
   "cell_type": "code",
   "execution_count": 3,
   "metadata": {},
   "outputs": [
    {
     "output_type": "stream",
     "name": "stdout",
     "text": [
      "((2, 10), (0, 4))\n((2, 10, 11), (8, 6, 11), (11, 3, 11), (4, 3, 8))\n((-1, 5, 3, 0), (-4, 6, -1, -1))\n"
     ]
    }
   ],
   "source": [
    "from random import randint\n",
    "\n",
    "def random_matrix(num_rows, num_cols, min_int_inc=0, max_int_inc=10):\n",
    "    def get_random_in_range(min_val, max_val):\n",
    "        def new_function():\n",
    "            return randint(min_val, max_val + 1)\n",
    "        return new_function\n",
    "    rand = get_random_in_range(min_int_inc, max_int_inc)\n",
    "    result = tuple(\n",
    "        tuple(rand() for i in range(0, num_cols))\n",
    "        for j in range(0, num_rows)\n",
    "    )\n",
    "    return result\n",
    "\n",
    "print(random_matrix(2, 2))\n",
    "print(random_matrix(4, 3))\n",
    "print(random_matrix(2, 4, -5, 5))\n"
   ]
  },
  {
   "source": [
    "Now, let's generate 5 pairs of 3-by-3 matrices:"
   ],
   "cell_type": "markdown",
   "metadata": {}
  },
  {
   "cell_type": "code",
   "execution_count": 7,
   "metadata": {},
   "outputs": [
    {
     "output_type": "stream",
     "name": "stdout",
     "text": [
      "((2, -1, -2), (0, -2, 1), (0, 0, -1))\n((0, 0, 0), (1, 2, 0), (2, 3, 2))\n\n((2, 3, 2), (1, -1, -2), (3, 0, 3))\n((1, 1, -2), (2, -1, -2), (0, 0, -1))\n\n((0, 3, 0), (-2, 3, -1), (-1, -2, 3))\n((1, 1, 0), (3, -1, -1), (-1, 2, -2))\n\n((0, 0, 0), (-1, 3, 3), (2, 3, 0))\n((-1, 2, 1), (2, -2, -2), (-2, -1, 0))\n\n((-1, 1, 3), (-1, 0, 2), (2, 1, 0))\n((0, 2, 1), (-1, 3, 2), (3, -2, 0))\n\n"
     ]
    }
   ],
   "source": [
    "from my_matrices import random_matrix\n",
    "\n",
    "for i in range(0, 5):\n",
    "    print(random_matrix(3, 3, min_int_inc=-2, max_int_inc=2))\n",
    "    print(random_matrix(3, 3, min_int_inc=-2, max_int_inc=2))\n",
    "    print()\n"
   ]
  },
  {
   "cell_type": "code",
   "execution_count": 9,
   "metadata": {},
   "outputs": [
    {
     "output_type": "execute_result",
     "data": {
      "text/plain": [
       "((0, -2, -2), (-6, -4, 2), (10, 5, -6))"
      ]
     },
     "metadata": {},
     "execution_count": 9
    }
   ],
   "source": [
    "from my_matrices import matrix_multiply\n",
    "\n",
    "matrix_multiply(((0, 1, 0), (-2, -1, 0), (3, 2, 1)), ((3, 3, 0), (0, -2, -2), (1, 0, -2)))"
   ]
  },
  {
   "source": [
    "# Exercise 5.4\n",
    "\n",
    "For each of the matrices from the previous exercise, multiply them in the opposite order. Do you get the same result?"
   ],
   "cell_type": "markdown",
   "metadata": {}
  },
  {
   "cell_type": "code",
   "execution_count": 10,
   "metadata": {},
   "outputs": [
    {
     "output_type": "execute_result",
     "data": {
      "text/plain": [
       "((-6, 0, 0), (-2, -2, -2), (-6, -3, -2))"
      ]
     },
     "metadata": {},
     "execution_count": 10
    }
   ],
   "source": [
    "from my_matrices import matrix_multiply\n",
    "\n",
    "matrix_multiply(((3, 3, 0), (0, -2, -2), (1, 0, -2)), ((0, 1, 0), (-2, -1, 0), (3, 2, 1)))"
   ]
  },
  {
   "source": [
    "So, no, the result is not the same."
   ],
   "cell_type": "markdown",
   "metadata": {}
  },
  {
   "source": [
    "# Exercises 5.5\n",
    "\n",
    "In either 2D or 3D, there is a boring but important transformation called the *identity transformation* that takes in a vector and returns the same vector as output. This transformation is linear because it preserves (obviously) a linear combination of vectors. What are the matrices representing the identity transformation in 2D and 3D respectively?"
   ],
   "cell_type": "markdown",
   "metadata": {}
  },
  {
   "source": [
    "We know from the concepts section that in order to compute the matrix representing a transformation we apply the transformation to the vectors of the standard basis and place the result in the columns of the matrix.\n",
    "\n",
    "Therefore, let $ I_{d=2} $ the identity transformation for the 2D plane, $ I_{d=3} $ the identity transformation for the 3D space.\n",
    "\n",
    "Therefore:\n",
    "$\n",
    "I_{d=2} = \\begin{pmatrix}\n",
    "1 & 0 \\\\\n",
    "0 & 1\n",
    "\\end{pmatrix} \\\\\n",
    "I_{d=3} = \\begin{pmatrix}\n",
    "1 & 0 & 0 \\\\\n",
    "0 & 1 & 0 \\\\\n",
    "0 & 0 & 1\n",
    "\\end{pmatrix} \\\\\n",
    "$"
   ],
   "cell_type": "markdown",
   "metadata": {}
  },
  {
   "source": [
    "# Exercise 5.6\n",
    "\n",
    "Apply the matrix ((2, 1, 1), (1, 2, 1), (1, 1, 2)) to all the vectors defining the teapot. What happens to the teapot and why?"
   ],
   "cell_type": "markdown",
   "metadata": {}
  },
  {
   "cell_type": "code",
   "execution_count": 16,
   "metadata": {},
   "outputs": [
    {
     "output_type": "error",
     "ename": "SystemExit",
     "evalue": "0",
     "traceback": [
      "An exception has occurred, use %tb to see the full traceback.\n",
      "\u001b[0;31mSystemExit\u001b[0m\u001b[0;31m:\u001b[0m 0\n"
     ]
    }
   ],
   "source": [
    "from my_teapot import load_triangles\n",
    "from my_draw_model import draw_model\n",
    "from my_transformations import polygon_map\n",
    "from my_matrices import multiply_matrix_vector\n",
    "\n",
    "transformation_matrix = ((2, 1, 1), (1, 2, 1), (1, 1, 2))\n",
    "\n",
    "def apply_matrix_transformation(matrix):\n",
    "    def new_function(v):\n",
    "        return multiply_matrix_vector(matrix, v)\n",
    "    return new_function\n",
    "\n",
    "draw_model(polygon_map(apply_matrix_transformation(transformation_matrix), load_triangles()))"
   ]
  },
  {
   "source": [
    "The teapot seems to have been stretched out into the region where x, y and z are all positive. This happens because the transformation is changing:\n",
    "\n",
    "$\n",
    "A(e1) = (2, 1, 1) \\\\\n",
    "A(e2) = (1, 2, 1) \\\\\n",
    "A(e3) = (1, 1, 2)\n",
    "$\n",
    "\n",
    "That is, all the vectors will be stretched into that region where x > 0, y > 0, z > 0"
   ],
   "cell_type": "markdown",
   "metadata": {}
  },
  {
   "source": [
    "# Exercise 5.7\n",
    "\n",
    "Implement multiply_matrix_vector in a different way using two nested comprehensions: one traversing the rows of the matrix, and one traversing the entries of each rows\n",
    "\n"
   ],
   "cell_type": "markdown",
   "metadata": {}
  },
  {
   "source": [
    "It is asked to perform the sums and products as if we were using the mnemonic recipes. The only benefit is that it is a zero-dependency solution"
   ],
   "cell_type": "markdown",
   "metadata": {}
  },
  {
   "cell_type": "code",
   "execution_count": 22,
   "metadata": {},
   "outputs": [
    {
     "output_type": "stream",
     "name": "stdout",
     "text": [
      "(0, -6, 10)\n"
     ]
    }
   ],
   "source": [
    "def multiply_matrix_vector(matrix,vector):\n",
    "    return tuple(\n",
    "        sum(vector_entry * matrix_entry for vector_entry, matrix_entry in zip(row,vector)       ) \n",
    "        for row in matrix)\n",
    "\n",
    "# (0, -6, 10)\n",
    "print(multiply_matrix_vector(\n",
    "    ((0, 1, 0),\n",
    "    (-2, -1, 0),\n",
    "    (3, 2, 1)\n",
    "    ),\n",
    "    (3, 0, 1))\n",
    ")"
   ]
  },
  {
   "source": [
    "# Exercise 5.8\n",
    "\n",
    "Implement `multiply_matrix_vector(...)` yet another way using the fact that the output coordinates are the dot products of the input matrix rows with the input vector."
   ],
   "cell_type": "markdown",
   "metadata": {}
  },
  {
   "cell_type": "code",
   "execution_count": 25,
   "metadata": {},
   "outputs": [
    {
     "output_type": "stream",
     "name": "stdout",
     "text": [
      "(0, -6, 10)\n"
     ]
    }
   ],
   "source": [
    "from my_vectors import dot\n",
    "\n",
    "def multiply_matrix_vector(m, v):\n",
    "    return tuple(dot(row, v) for row in m)\n",
    "\n",
    "# (0, -6, 10)\n",
    "print(multiply_matrix_vector(\n",
    "    ((0, 1, 0),\n",
    "    (-2, -1, 0),\n",
    "    (3, 2, 1)\n",
    "    ),\n",
    "    (3, 0, 1))\n",
    ")"
   ]
  },
  {
   "source": [
    "# Exercise 5.9\n",
    "\n",
    "We know that any linear transformation can be represented by a matrix. Demonstrate the converse fact:\n",
    "> all matrices represent linear transformations. That is, show that matrix multiplication preserves sums and scalar multiples.\n",
    "\n",
    "Hint: start with the explicit formulas for multiplying a 2D vector by a 2x2 matrix and multiplying a 3D vector by a 3x3 matrix."
   ],
   "cell_type": "markdown",
   "metadata": {}
  },
  {
   "source": [
    "The algebraic demonstration is easy but long, the idea is to demonstrate that:\n",
    "\n",
    "Let $ A $ a matrix, $ v $, $ w $ vectors such that:\n",
    "$\n",
    "A = \\begin{pmatrix}\n",
    "a_{00} & a_{01} & a_{02} \\\\\n",
    "a_{10} & a_{11} & a_{12} \\\\\n",
    "a_{20} & a_{21} & a_{22}\n",
    "\\end{pmatrix} \\\\\n",
    "v = (v_x, v_y, v_z), \\hspace{1ex} w = (w_x, w_y, w_z)\n",
    "$\n",
    "\n",
    "You have to demonstrate that:\n",
    "$\n",
    "A(a \\cdot v + b \\cdot w) = a \\cdot Av + b \\cdot Bw\n",
    "$\n",
    "\n",
    "which is evident as:\n",
    "$\n",
    "A(a \\cdot v + b \\cdot w) = \\begin{pmatrix}\n",
    "a_{00} & a_{01} & a_{02} \\\\\n",
    "a_{10} & a_{11} & a_{12} \\\\\n",
    "a_{20} & a_{21} & a_{22}\n",
    "\\end{pmatrix}\n",
    "\\begin{pmatrix}\n",
    "a \\cdot v_x + b \\cdot w_x \\\\\n",
    "a \\cdot v_y + b \\cdot w_y \\\\\n",
    "a \\cdot v_z + b \\cdot w_z\n",
    "\\end{pmatrix}\n",
    "$\n",
    "\n",
    "As a consequence, all 3x3 matrices are linear transformations, as they preserve linear combinations.\n"
   ],
   "cell_type": "markdown",
   "metadata": {}
  },
  {
   "source": [
    "## Exercise 5.10\n",
    "\n",
    "Consider that following matrices representing transformations:\n",
    "\n",
    "$\n",
    "A = \\begin{pmatrix}\n",
    "1 & 1 & 0 \\\\\n",
    "1 & 0 & 1 \\\\\n",
    "1 & -1 & 1\n",
    "\\end{pmatrix}, \\hspace{1ex} B = \\begin{pmatrix}\n",
    "0 & 2 & 1 \\\\\n",
    "0 & 1 & 0 \\\\\n",
    "1 & 0 & -1\n",
    "\\end{pmatrix}\n",
    "$\n",
    "\n",
    "Write a function `compose_a_b(...)` that executes the composition of the linear transformation for $ A $ and the linear transformation for $ B $.\n",
    "Then use the `infer_matrix(...)` function on the result to check that those results match."
   ],
   "cell_type": "markdown",
   "metadata": {}
  },
  {
   "source": [
    "We know from the concept section that composition of linear transformations is the same as matrix multiplication.\n",
    "\n",
    "Therefore:"
   ],
   "cell_type": "markdown",
   "metadata": {}
  },
  {
   "cell_type": "code",
   "execution_count": 1,
   "metadata": {},
   "outputs": [
    {
     "output_type": "stream",
     "name": "stdout",
     "text": [
      "((0, 3, 1), (1, 2, 0), (1, 1, 0))\n(0, 1, 1)\n(3, 2, 1)\n(1, 0, 0)\n((0, 3, 1), (1, 2, 0), (1, 1, 0))\n"
     ]
    }
   ],
   "source": [
    "from my_matrices import *\n",
    "\n",
    "def compose_a_b(a, b):\n",
    "    composition_matrix = matrix_multiply(a, b)\n",
    "    def new_function(v):\n",
    "        return multiply_matrix_vector(composition_matrix, v)\n",
    "    return new_function\n",
    "\n",
    "a = (\n",
    "    (1, 1, 0),\n",
    "    (1, 0, 1),\n",
    "    (1, -1, 1)\n",
    ")\n",
    "\n",
    "b = (\n",
    "    (0, 2, 1),\n",
    "    (0, 1, 0),\n",
    "    (1, 0, -1)\n",
    ")\n",
    "\n",
    "# ((0, 3, 1), (1, 2, 0), (1, 1, 0))\n",
    "print(matrix_multiply(a, b))\n",
    "\n",
    "# (0, 1, 1)\n",
    "print(compose_a_b(a, b)((1, 0, 0)))\n",
    "\n",
    "# (3, 2, 1)\n",
    "print(compose_a_b(a, b)((0, 1, 0)))\n",
    "\n",
    "# (1, 0, 0)\n",
    "print(compose_a_b(a, b)((0, 0, 1)))\n",
    "\n",
    "# ((0, 3, 1), (1, 2, 0), (1, 1, 0))\n",
    "print(infer_matrix(3, compose_a_b(a, b)))\n"
   ]
  },
  {
   "source": [
    "## Exercise 5.12\n",
    "\n",
    "Find two 2x2 matrices, neither of which is the identity matrux, but whose product is the identity matrix."
   ],
   "cell_type": "markdown",
   "metadata": {}
  },
  {
   "source": [
    "We need to find two matrices $ A $ and $ B $ such that:\n",
    "\n",
    "$\n",
    "AB = \\begin{pmatrix}\n",
    "1 & 0 \\\\\n",
    "0 & 1 \n",
    "\\end{pmatrix}\n",
    "$\n",
    "\n",
    "And we know that:\n",
    "\n",
    "$\n",
    "AB = \\begin{pmatrix}\n",
    "a_{00} & a_{01} \\\\\n",
    "a_{10} & a_{11}\n",
    "\\end{pmatrix}\n",
    "\\begin{pmatrix}\n",
    "b_{00} & b_{01} \\\\\n",
    "b_{10} & b_{11}\n",
    "\\end{pmatrix} = \\begin{pmatrix}\n",
    "1 & 0 \\\\\n",
    "0 & 1 \n",
    "\\end{pmatrix}\n",
    "$"
   ],
   "cell_type": "markdown",
   "metadata": {}
  },
  {
   "source": [
    "That will however lead to quite a messy set of equations, so there is a much better way to think of solving this problem using the properties of linear transformations\n",
    "> multiplying two matrices together is the same as composing linear transformations &mdash; if two composed transformations lead to the identity matrix, it means they return the original vector."
   ],
   "cell_type": "markdown",
   "metadata": {}
  },
  {
   "source": [
    "Thus, we can think of matrices representing transformations that when composed, return the original vector:\n",
    "+ $ A $ scales the vector by 2, $ B $ scales the vector by $ \\frac{1}{2} $\n",
    "+ $ A $ rotates the vector 90° and $ B $ rotates the vector 270°\n",
    "\n",
    "For the first case:\n",
    "$\n",
    "A = \\begin{pmatrix}\n",
    "2 & 0 \\\\\n",
    "0 & 2\n",
    "\\end{pmatrix}, \\hspace{1ex} B = \\begin{pmatrix}\n",
    "\\frac{1}{2} & 0 \\\\\n",
    "0 & \\frac{1}{2}\n",
    "\\end{pmatrix}\n",
    "$\n",
    "\n",
    "For the second case:\n",
    "$\n",
    "A = \\begin{pmatrix}\n",
    "0 & -1 \\\\\n",
    "1 & 0\n",
    "\\end{pmatrix}, \\hspace{1ex} B = \\begin{pmatrix}\n",
    "0 & 1 \\\\\n",
    "-1 & 0\n",
    "\\end{pmatrix}\n",
    "$"
   ],
   "cell_type": "markdown",
   "metadata": {}
  },
  {
   "source": [
    "| NOTE: |\n",
    "| :---- |\n",
    "| Remember that to come up with the matrix representing a linear transformation, you have consider that the first column of the matrix represent the effect of the transformation on the $ e1 $ vector, the second column is the result of the transformation on $ e2 $, etc. |"
   ],
   "cell_type": "markdown",
   "metadata": {}
  },
  {
   "source": [
    "## Exercise 5.12\n",
    "\n",
    "We can multiply a square matrix by itself any number of times. We can think of successive matrix multiplications as *\"raising a matrix to a power\"*. For example, $ AA = A² $, $ AAA = A³ $, etc.\n",
    "\n",
    "Write a `matrix_power(power, matrix)` function that raises a matrix to the specified whole number power."
   ],
   "cell_type": "markdown",
   "metadata": {}
  },
  {
   "cell_type": "code",
   "execution_count": 3,
   "metadata": {},
   "outputs": [
    {
     "output_type": "stream",
     "name": "stdout",
     "text": [
      "((7, 10), (15, 22))\n((7, 10), (15, 22))\n"
     ]
    }
   ],
   "source": [
    "from my_matrices import *\n",
    "\n",
    "def matrix_power(power, matrix):\n",
    "    temp_result = matrix\n",
    "    for i in range(0, power):\n",
    "        temp_result = matrix_multiply(matrix, matrix)\n",
    "    return temp_result\n",
    "\n",
    "a = (\n",
    "    (1, 2),\n",
    "    (3, 4)\n",
    ")\n",
    "\n",
    "# ((7, 10), (15, 22))\n",
    "print(matrix_power(2, a))\n",
    "\n",
    "# ((7, 10), (15, 22))\n",
    "print(matrix_multiply(a, a))"
   ]
  },
  {
   "cell_type": "code",
   "execution_count": null,
   "metadata": {},
   "outputs": [],
   "source": [
    "It can also be coded using recursion:"
   ]
  },
  {
   "cell_type": "code",
   "execution_count": 6,
   "metadata": {},
   "outputs": [
    {
     "output_type": "stream",
     "name": "stdout",
     "text": [
      "((7, 10), (15, 22))\n((7, 10), (15, 22))\n"
     ]
    }
   ],
   "source": [
    "from my_matrices import *\n",
    "\n",
    "def matrix_power(power, matrix):\n",
    "    if power == 1:\n",
    "        return matrix\n",
    "    else:\n",
    "        return matrix_multiply(matrix_power(power - 1, matrix), matrix)\n",
    "a = (\n",
    "    (1, 2),\n",
    "    (3, 4)\n",
    ")\n",
    "\n",
    "# ((7, 10), (15, 22))\n",
    "print(matrix_power(2, a))\n",
    "\n",
    "# ((7, 10), (15, 22))\n",
    "print(matrix_multiply(a, a))"
   ]
  },
  {
   "source": [
    "## Exercise 5.13\n",
    "\n",
    "What are the dimensions of this matrix?\n",
    "\n",
    "$\n",
    "\\begin{pmatrix}\n",
    "1 & 2 & 3 & 4 & 5 \\\\\n",
    "6 & 7 & 8 & 9 & 10 \\\\\n",
    "11 & 12 & 13 & 14 & 15\n",
    "\\end{pmatrix}\n",
    "$"
   ],
   "cell_type": "markdown",
   "metadata": {}
  },
  {
   "source": [
    "It is a 3x5 (3-by-5) matrix, as it has 3 rows and 5 columns."
   ],
   "cell_type": "markdown",
   "metadata": {}
  },
  {
   "source": [
    "## Exercise 5.14\n",
    "\n",
    "What are the dimensions of a 2D column vector considered as a matrix? What about a 2D row vector? A 3D column vector? A 3D row vector?"
   ],
   "cell_type": "markdown",
   "metadata": {}
  },
  {
   "source": [
    "+ What are the dimensions of a 2D column vector considered as a matrix? 2x1\n",
    "+ What about a 2D row vector? 1x2\n",
    "+ A 3D column vector?  3x1\n",
    "+ A 3D row vector? 1x3"
   ],
   "cell_type": "markdown",
   "metadata": {}
  },
  {
   "source": [
    "# Exercise 5.15\n",
    "\n",
    "Many of our vector and matrix operations make use of the Python `zip(...)` function. When given input lists of different sizes, this function truncates the longer of the two rather than failing.\n",
    "\n",
    "This means that when we pass invalid inputs, we get meaningless results back in our matrix and vector operations. For example, the dot product between a 2D vector and a 3D vector should fail, but our `dot(...)` function returns something anyway.\n",
    "\n",
    "1. Validate that `dot(...)` does not fail when passing vectors that could not be multiplied.\n",
    "2. Validate that `matrix_multiply(...)` return values when passing matrices that cannot be multiplied.\n",
    "3. Add safeguards to all our vector and matrix arithmetic functions so that they don't fail when passing invalid arguments."
   ],
   "cell_type": "markdown",
   "metadata": {}
  },
  {
   "source": [
    "Let's solve point 1 and 2 first:"
   ],
   "cell_type": "markdown",
   "metadata": {}
  },
  {
   "cell_type": "code",
   "execution_count": 2,
   "metadata": {},
   "outputs": [
    {
     "output_type": "stream",
     "name": "stdout",
     "text": [
      "2\n((-11, -14, -17, -20), (-29, -38, -47, -56))\n"
     ]
    }
   ],
   "source": [
    "# *_old before adding safeguards\n",
    "from my_vectors_old import dot\n",
    "from my_matrices_old import matrix_multiply\n",
    "\n",
    "# before adding safeguards => returns 2, because the longer vector is truncated to (1, 1)\n",
    "print(dot((1, 1), (1, 1, 1)))\n",
    "\n",
    "# before adding safeguards => returns ((-11, -14, -17, -20), (-29, -38, -47, -56))\n",
    "print(matrix_multiply(\n",
    "    (\n",
    "        (1, 2, 3),\n",
    "        (4, 5, 6)\n",
    "    ),\n",
    "    (\n",
    "        (-1, -2, -3, -4),\n",
    "        (-5, -6, -7, -8)\n",
    "    )\n",
    "))"
   ]
  },
  {
   "source": [
    "For point #3, a new implementation of the libraries and unit tests have been created in [e00-my-libs](../e00-my-libs) and copied in this folder, so that point 1 and 2 no longer return invalid values, but instead fail."
   ],
   "cell_type": "markdown",
   "metadata": {}
  },
  {
   "cell_type": "code",
   "execution_count": 7,
   "metadata": {},
   "outputs": [
    {
     "output_type": "stream",
     "name": "stdout",
     "text": [
      "ValueError\nTypeError\n"
     ]
    }
   ],
   "source": [
    "from my_vectors import dot\n",
    "from my_matrices import matrix_multiply\n",
    "\n",
    "# before adding safeguards => returns 2, because the longer vector is truncated to (1, 1)\n",
    "try:\n",
    "    dot((1, 1), (1, 1, 1))\n",
    "except ValueError:\n",
    "    print('ValueError')\n",
    "except TypeError:\n",
    "    print('TypeError')\n",
    "\n",
    "# before adding safeguards => returns ((-11, -14, -17, -20), (-29, -38, -47, -56))\n",
    "try:\n",
    "    matrix_multiply(\n",
    "    (\n",
    "        (1, 2, 3),\n",
    "        (4, 5, 6)\n",
    "    ),\n",
    "    (\n",
    "        (-1, -2, -3, -4),\n",
    "        (-5, -6, -7, -8)\n",
    "    )\n",
    "    )\n",
    "\n",
    "except TypeError:\n",
    "    print('TypeError')\n",
    "except ValueError:\n",
    "    print('ValueError')"
   ]
  },
  {
   "source": [
    "## Exercise 5.16\n",
    "\n",
    "Which of the following are valid matrix products? For those that are valid, what dimension is the product matrix?"
   ],
   "cell_type": "markdown",
   "metadata": {}
  },
  {
   "source": [
    "a)\n",
    "$\n",
    "\\begin{pmatrix}\n",
    "10 & 0 \\\\\n",
    "3 & 4\n",
    "\\end{pmatrix}\n",
    "\\begin{pmatrix}\n",
    "8 & 2 & 3 & 6 \\\\\n",
    "7 & 8 & 9 & 4 \\\\\n",
    "5 & 7 & 0 & 9 \\\\\n",
    "3 & 3 & 0 & 2\n",
    "\\end{pmatrix}\n",
    "$\n",
    "\n",
    "This multiplication of matrices is not possible because the number of columns of the first matrix, does not match the number of rows of the second matrix:"
   ],
   "cell_type": "markdown",
   "metadata": {}
  },
  {
   "source": [
    "b)\n",
    "$\n",
    "\\begin{pmatrix}\n",
    "0 & 2 & 1 & -2 \\\\\n",
    "-2 & 1 & -2 & -1\n",
    "\\end{pmatrix}\n",
    "\\begin{pmatrix}\n",
    "-3 & 5 \\\\\n",
    "1 & -1 \\\\\n",
    "-4 & -4 \\\\\n",
    "-2 & -4\n",
    "\\end{pmatrix}\n",
    "$\n",
    "\n",
    "This multiplication is possible and the resulting matrix will be a 2x2 matrix."
   ],
   "cell_type": "markdown",
   "metadata": {}
  },
  {
   "source": [
    "c)\n",
    "$\n",
    "\\begin{pmatrix}\n",
    "1 \\\\\n",
    "3 \\\\\n",
    "0\n",
    "\\end{pmatrix}\n",
    "\\begin{pmatrix}\n",
    "3 & 3 & 5 & 1 & 3 & 0 & 5 & 1\n",
    "\\end{pmatrix}\n",
    "$\n",
    "\n",
    "This multiplication is possible because the number of columns of the first matrix is one (it is a column vector), and the number of rows of the second matrix is one (it is row vector).\n",
    "\n",
    "The resulting matrix will be a 3x8 matrix.\n"
   ],
   "cell_type": "markdown",
   "metadata": {}
  },
  {
   "source": [
    "d)\n",
    "$\n",
    "\\begin{pmatrix}\n",
    "9 & 2 & 3 \\\\\n",
    "0 & 6 & 8 \\\\\n",
    "7 & 7 & 9\n",
    "\\end{pmatrix}\n",
    "\\begin{pmatrix}\n",
    "7 & 8 & 9 \\\\\n",
    "10 & 7 & 8\n",
    "\\end{pmatrix}\n",
    "$\n",
    "\n",
    "This multiplication is not possible because the number of columns of the first matrix (3) does not match the number of rows of the second one (2)\n"
   ],
   "cell_type": "markdown",
   "metadata": {}
  },
  {
   "source": [
    "## Exercise 5.17\n",
    "\n",
    "A matrix with 15 total entries is multiplied by a matrix with 6 total entries. What are the dimensions of the two matrices, and what is the dimension of the product matrix?"
   ],
   "cell_type": "markdown",
   "metadata": {}
  },
  {
   "source": [
    "Let's assume that the first matrix is $ m \\times n $ and the second matrix is $n \\times k $.\n",
    "\n",
    "Then:\n",
    "\n",
    "$ \n",
    "m \\cdot n = 15 \\\\\n",
    "n \\cdot k = 6\n",
    "$\n",
    "\n",
    "There are two possible solutions:\n",
    "\n",
    "a)\n",
    "$ m = 5, \\hspace{1ex} n = 3, \\hspace{1ex} k = 2 $, result = $ 5 \\times 2 $ matrix\n",
    "\n",
    "b)\n",
    "$ m = 15, \\hspace{1ex} n = 1, \\hspace{1ex} k = 6 $, result = $ 15 \\times 6 $ matrix\n"
   ],
   "cell_type": "markdown",
   "metadata": {}
  },
  {
   "source": [
    "# Exercise 5.18\n",
    "\n",
    "Write a function that turns a column vector into a row vector, or vice versa. Flipping a matrix on its side like this is called transposition and the resulting matrix is called the transpose of the original."
   ],
   "cell_type": "markdown",
   "metadata": {}
  },
  {
   "source": [
    "We've seen before that the `zip(...)` operation is the magic trick for the transposition.\n",
    "\n",
    "Let's see why:"
   ],
   "cell_type": "markdown",
   "metadata": {}
  },
  {
   "cell_type": "code",
   "execution_count": 12,
   "metadata": {},
   "outputs": [
    {
     "output_type": "execute_result",
     "data": {
      "text/plain": [
       "[(1,), (3,), (5,)]"
      ]
     },
     "metadata": {},
     "execution_count": 12
    }
   ],
   "source": [
    "# basic use case, note that the longer list gets truncated\n",
    "list_a = (1, 3, 5)\n",
    "list_b = (2, 4, 6, 8)\n",
    "\n",
    "list(zip(list_a, list_b))\n",
    "\n",
    "# passing three lists\n",
    "list_a = (1, 3, 5)\n",
    "list_b = (2, 4, 6, 8)\n",
    "list_c = ('a', 'b', 'c')\n",
    "\n",
    "list(zip(list_a, list_b, list_c))\n",
    "\n",
    "# passing a single list transposes:\n",
    "# According to the official docs: https://docs.python.org/3.3/library/functions.html#zip\n",
    "# `zip(*iterables)` when gave a single iterable argument, it returns an iterator of 1-tuples\n",
    "# corresponding to each of the elements of the given iterable\n",
    "list_a = (1, 3, 5)\n",
    "list(zip(list_a))"
   ]
  },
  {
   "source": [
    "Thus, thanks to how the `zip(...)` function behaves when given a single argument will help doing the transposition for matrices a vectors written as matrices:\n"
   ],
   "cell_type": "markdown",
   "metadata": {}
  },
  {
   "cell_type": "code",
   "execution_count": 23,
   "metadata": {},
   "outputs": [
    {
     "output_type": "stream",
     "name": "stdout",
     "text": [
      "((1, 4), (2, 5), (3, 6))\n((1,), (2,), (3,))\n((1, 2, 3),)\n"
     ]
    }
   ],
   "source": [
    "def transpose(matrix):\n",
    "    return tuple(zip(*matrix))\n",
    "\n",
    "a = (\n",
    "    (1, 2, 3),\n",
    "    (4, 5, 6))\n",
    "\n",
    "# (\n",
    "#   (1, 4), \n",
    "#   (2, 5), \n",
    "#   (3, 6)\n",
    "# )\n",
    "print(transpose(a))    \n",
    "\n",
    "# it works with vectors too, but you have to write them as matrices (tuples of tuples)\n",
    "row_vector = ((1, 2, 3),)\n",
    "print(transpose(row_vector))\n",
    "\n",
    "# this will fail as we're not passing a tuple of tuples\n",
    "vector = (1, 2, 3)\n",
    "# transpose(vector)\n",
    "\n",
    "# this will work well, as we're passing a tuple of tuples\n",
    "col_vector = (\n",
    "    (1,),\n",
    "    (2,),\n",
    "    (3,)\n",
    "    )\n",
    "print(transpose(col_vector))"
   ]
  },
  {
   "source": [
    "Note however, that we could transpose a regular vector (tuple) using `zip(...)` without using the `*` operator:"
   ],
   "cell_type": "markdown",
   "metadata": {}
  },
  {
   "cell_type": "code",
   "execution_count": 24,
   "metadata": {},
   "outputs": [
    {
     "output_type": "execute_result",
     "data": {
      "text/plain": [
       "((1,), (2,), (3,))"
      ]
     },
     "metadata": {},
     "execution_count": 24
    }
   ],
   "source": [
    "vector = (1, 2, 3)\n",
    "\n",
    "tuple(zip(vector))"
   ]
  },
  {
   "source": [
    "We can then define both functions to help us do any kind of transpositions:"
   ],
   "cell_type": "markdown",
   "metadata": {}
  },
  {
   "cell_type": "code",
   "execution_count": 9,
   "metadata": {},
   "outputs": [
    {
     "output_type": "stream",
     "name": "stdout",
     "text": [
      "((1,), (2,), (3,))\n((1, 4), (2, 5), (3, 6))\n((1, 2, 3),)\n(1, 2, 3)\n"
     ]
    }
   ],
   "source": [
    "from my_matrices import transpose, transpose_row_vector\n",
    "\n",
    "v = (1, 2, 3)\n",
    "vt = transpose_row_vector(v)\n",
    "\n",
    "print(vt)\n",
    "\n",
    "a = (\n",
    "    (1, 2, 3),\n",
    "    (4, 5, 6))\n",
    "\n",
    "at = transpose(a)\n",
    "print(at)\n",
    "\n",
    "w = ((1, ),\n",
    "(2, ),\n",
    "(3, ))\n",
    "\n",
    "wt = transpose(w)\n",
    "print(wt)\n",
    "\n",
    "unpacked_wt = wt[0]\n",
    "print(unpacked_wt)"
   ]
  },
  {
   "source": [
    "# Exercise 5.19\n",
    "\n",
    "Draw a picture that shows a 10x8 and a 5x8 matrix can't be multiplied in that order."
   ],
   "cell_type": "markdown",
   "metadata": {}
  },
  {
   "source": [
    "## Exercise 5.20\n",
    "\n",
    "We want to multiply three matrices together: $ A $ is $ 5 \\times 7 $, $ B $ is $ 2 \\times 3 $ and C is $ 3 \\times 5 $. What order can they be multiplied, and what is the size of the result?\n"
   ],
   "cell_type": "markdown",
   "metadata": {}
  },
  {
   "source": [
    "Two matrices can be multiplied when they number of columns of the first matrix matches the number of rows of the second. The resulting matrix is the number of rows of the first matrix by the number of cols of the second.\n",
    "\n",
    "Therefore, one way to multiply those matrices will be:\n",
    "\n",
    "$ \n",
    "B C A\n",
    "$\n",
    "\n",
    "$ B C $ gives a resulting matrix of $ 2 \\times 5 $ and therefore, the resulting matrix will be $ 2 \\times 7 $."
   ],
   "cell_type": "markdown",
   "metadata": {}
  },
  {
   "source": [
    "# Exercise 5.21\n",
    "\n",
    "Projection onto the $ y, z $ plane and onto the $ x, z $ plane are also linear maps from 3D to 2D. What are their matrices?"
   ],
   "cell_type": "markdown",
   "metadata": {}
  },
  {
   "source": [
    "We know from the concepts section that a linear transformation matrix results from applying the transformation to the standard basis vectors.\n",
    "\n",
    "Therefore:\n",
    "\n",
    "$\n",
    "P_{x=0} = \\begin{pmatrix}\n",
    "0 & 1 & 0 \\\\\n",
    "0 & 0 & 1\n",
    "\\end{pmatrix}\n",
    "$\n",
    "\n",
    "$\n",
    "P_{y=0} = \\begin{pmatrix}\n",
    "1 & 0 & 0 \\\\\n",
    "0 & 0 & 1\n",
    "\\end{pmatrix}\n",
    "$\n",
    "\n",
    "We can validate it, alebrically doing:\n",
    "\n",
    "$\n",
    "P_{x=0} = \\begin{pmatrix}\n",
    "0 & 1 & 0 \\\\\n",
    "0 & 0 & 1\n",
    "\\end{pmatrix} \\begin{pmatrix}\n",
    "x \\\\\n",
    "y \\\\\n",
    "z\n",
    "\\end{pmatrix} = \\begin{pmatrix}\n",
    "y \\\\\n",
    "z\n",
    "\\end{pmatrix}\n",
    "$\n",
    "\n",
    "$\n",
    "P_{y=0} = \\begin{pmatrix}\n",
    "1 & 0 & 0 \\\\\n",
    "0 & 0 & 1\n",
    "\\end{pmatrix} \\begin{pmatrix}\n",
    "x \\\\\n",
    "y \\\\\n",
    "z\n",
    "\\end{pmatrix} = \\begin{pmatrix}\n",
    "x \\\\\n",
    "z\n",
    "\\end{pmatrix}\n",
    "$"
   ],
   "cell_type": "markdown",
   "metadata": {}
  },
  {
   "source": [
    "# Exercise 5.22\n",
    "\n",
    "Show by example that the `infer_matrix(...)` function can create matrices for linear functions whose inputs and outputs are different dimensions."
   ],
   "cell_type": "markdown",
   "metadata": {}
  },
  {
   "source": [
    "Let's try with the projection in the $ z=0 $ plane:"
   ],
   "cell_type": "markdown",
   "metadata": {}
  },
  {
   "cell_type": "code",
   "execution_count": 2,
   "metadata": {},
   "outputs": [
    {
     "output_type": "stream",
     "name": "stdout",
     "text": [
      "((1, 0, 0), (0, 1, 0))\n"
     ]
    }
   ],
   "source": [
    "from my_matrices import infer_matrix\n",
    "\n",
    "def project_xy(v_3d):\n",
    "    x, y, z = v_3d\n",
    "    return (x, y)\n",
    "\n",
    "\n",
    "inferred_linear_transformation = infer_matrix(3, project_xy)\n",
    "print(inferred_linear_transformation) "
   ]
  },
  {
   "source": [
    "# Exercise 5.23\n",
    "\n",
    "Write a $ 4 \\times 5 $ matrix that acts on a 5D vector by deleting the third of its five entries, thereby producing a 4D vector.\n",
    "\n",
    "For example, $ P(1, 2, 3, 4, 5) $ should return $ (1, 2, 4, 5) $"
   ],
   "cell_type": "markdown",
   "metadata": {}
  }
 ]
}