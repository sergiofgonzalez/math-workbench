{
 "metadata": {
  "language_info": {
   "codemirror_mode": {
    "name": "ipython",
    "version": 3
   },
   "file_extension": ".py",
   "mimetype": "text/x-python",
   "name": "python",
   "nbconvert_exporter": "python",
   "pygments_lexer": "ipython3",
   "version": "3.8.3-final"
  },
  "orig_nbformat": 2,
  "kernelspec": {
   "name": "python3",
   "display_name": "Python 3",
   "language": "python"
  }
 },
 "nbformat": 4,
 "nbformat_minor": 2,
 "cells": [
  {
   "source": [
    "# Simulating moving objects\n",
    "\n",
    "## Contents\n",
    "+ Simulating realistic motion using Newton's laws of motion\n",
    "+ Introducing the velocity and acceleration vectors\n",
    "+ Using Euler's method to approximate the position of a moving objects\n",
    "+ Finding the exact trajectory of a moving object using calculus"
   ],
   "cell_type": "markdown",
   "metadata": {}
  },
  {
   "source": [
    "## Introduction\n",
    "\n",
    "To implement motion in a videogame, like our *Asteroid* bootleg, we need to use many of the calculus concepts from the previous chapter.\n",
    "\n",
    "The numerical entities we will consider are the $ x $ and $ y $ positions of the asteroids and the spaceship. Those will be functions of the time, so we will have $ x(t) $ and $ y(t) $.\n",
    "\n",
    "We will consider the following physical functions:\n",
    "+ *velocity* &mdash; the derivative of the position function with respect to time.\n",
    "+ *acceleration* &mdash; the derivative of velocity with respect to time.\n",
    "\n",
    "As we have two functions $ x(t) $ and $ y(t) $ to determine the position of objects, we'll have two velocity functions and two acceleration functions, which will allow us to think in terms of vectors as well.\n",
    "\n",
    "Our first goal will consist in get the asteroids moving. To do that, we'll provide them with random, constant velocity functions. Then, we'll *integrate* these functions in real time to get their positions. We will use *Euler's method* to do that, which is a mathematically similar method for integration, with the advantage that it can be done as the game runs.\n",
    "\n",
    "The second goal will be to let the user move the spaceship. When the user presses any of the direction keys, the spaceship should *accelerate* on the direction of the pressed key, which means that the velocity will change, and as a result the position of the spaceship as well.\n",
    "\n",
    "Our third and final goal will consist in deep diving on the *Euler's method* as a way to obtain an approximation of the integral, and compare it with the exact solutions."
   ],
   "cell_type": "markdown",
   "metadata": {}
  },
  {
   "source": [
    "## Simulating a constant velocity motion\n",
    "\n",
    "In everyday usage, velocity is synonym with speed. In math and physics, velocity includes both the notions of speed and direction of motion &mdash; this means velocity is a vector!\n",
    "\n",
    "In our game, we will enhance the asteroid objects with a random velocity vector $ (vx, vy) $, and consider those to be the constant values of the derivatives of the position functions with respect to time.\n",
    "\n",
    "$\n",
    "x'(t) = vx \\\\\n",
    "y'(t) = vy\n",
    "$\n",
    "\n",
    "For simplicity, we will talk about:\n",
    "\n",
    "$\n",
    "s(t) = (x(t), y(t)) \\\\\n",
    "v(t) = (x'(t), y'(t))\n",
    "$\n",
    "\n",
    "As if they were vector-valued functions, but it just means that those are individual functions that take time and return values that we will interpret as vectors."
   ],
   "cell_type": "markdown",
   "metadata": {}
  },
  {
   "source": [
    "### Adding velocities to the asteroids\n",
    "\n",
    "Let's recap where we left our *Asteroids* bootleg. We created a hierarchy of classes that modeled our game entities first in a *math* world of coordinates and vectors and some functions that translated that model into the *game* world of pixels and frames.\n",
    "\n",
    "In the last step of the game, we even made our spacechip to rotate as can be seen when running [Asteroids: step 3](../e00-my-lib/asteroids_step3.py). In that stage, all the asteroids were static."
   ],
   "cell_type": "markdown",
   "metadata": {}
  },
  {
   "cell_type": "code",
   "execution_count": 4,
   "metadata": {},
   "outputs": [
    {
     "output_type": "stream",
     "name": "stdout",
     "text": [
      "pygame 2.0.0 (SDL 2.0.12, python 3.8.3)\nHello from the pygame community. https://www.pygame.org/contribute.html\n"
     ]
    },
    {
     "output_type": "error",
     "ename": "SystemExit",
     "evalue": "0",
     "traceback": [
      "An exception has occurred, use %tb to see the full traceback.\n",
      "\u001b[0;31mSystemExit\u001b[0m\u001b[0;31m:\u001b[0m 0\n"
     ]
    }
   ],
   "source": [
    "from asteroids_step3 import main \n",
    "\n",
    "main()"
   ]
  },
  {
   "source": [
    "This *math* model was supported by the `PolygonModel` class. As all of our game entities inherit from it, and all of them are subject of being moved, we will start by adding the velocity vector components as properties:\n",
    "\n",
    "```python\n",
    "class PolygonModel():\n",
    "    def __init__(self, points):\n",
    "        self.points = points\n",
    "        self.rotation_angle = 0\n",
    "        # x, y keeps track of the center of the polygon\n",
    "        self.x = 0\n",
    "        self.y = 0\n",
    "\n",
    "        # vx, vy are the velocity components\n",
    "        self.vx = 0\n",
    "        self.vy = 0\n",
    "```"
   ],
   "cell_type": "markdown",
   "metadata": {}
  },
  {
   "source": [
    "Next, to make our asteroids to move erratically we can assign them with random velocity values:\n",
    "\n",
    "```python\n",
    "class Asteroid(PolygonModel):\n",
    "    def __init__(self):\n",
    "        sides = randint(5, 9)\n",
    "        points = [to_cartesian((uniform(0.5, 1.0), 2 * pi * i / sides))\n",
    "            for i in range(0, sides)\n",
    "        ]\n",
    "        super().__init__(points)\n",
    "\n",
    "        # assign random velocity values\n",
    "        self.vx = uniform(-1, 1)\n",
    "        self.vy = uniform(-1, 1)\n",
    "```\n",
    "\n",
    "That will make `vx` and `vy` to take a random value between $ (-1, 1) $, with negative values for the velocity meaning the position of the corresponding coordinate will decrease, instead of increase."
   ],
   "cell_type": "markdown",
   "metadata": {}
  },
  {
   "source": [
    "### Updating the game engine to move the asteroids\n",
    "\n",
    "With the velocity values given, we need to use them to update the the game entities position `x` and `y`.\n",
    "\n",
    "If $ \\Delta t $ is the elapsed time between frames, we know that x will change according to:\n",
    "\n",
    "$ \n",
    "x = x + vx \\times \\Delta t \\\\\n",
    "y = y + vy \\times \\Delta t\n",
    "$\n",
    "\n",
    "This is a good way to do it because velocities are constant, and we know that $ v = \\frac{s}{t} $.\n",
    "\n",
    "Thus, the way to make the asteroids move will be to update our `PolygonModel` to include a `move()` method that will update the game entity position:\n",
    "\n",
    "```python\n",
    "class PolygonModel():\n",
    "...\n",
    "    def move(self, milliseconds):\n",
    "        dx, dy = (self.vx * milliseconds / 1000, self.vy * milliseconds / 1000)\n",
    "        self.x, self.y = add((self.x, self.y), (dx, dy))\n",
    "```"
   ],
   "cell_type": "markdown",
   "metadata": {}
  },
  {
   "source": [
    "This has been the first application of algorithm known as the *Euler's method*.\n",
    "\n",
    "The algorithm consists of keeping track of the value of one or more functions (in our case, $ x(t) $, $ y(t) $) and their derivatives ($ x'(t) $ and $ y'(t) $) and updating the functions according to their derivatives in each step.\n",
    "\n",
    "This will be exact if the derivatives are constant, but it will even be a good approximation if they're not."
   ],
   "cell_type": "markdown",
   "metadata": {}
  },
  {
   "source": [
    "### Keeping the asteroids on the screen\n",
    "\n",
    "As our game model space (that is the screen space) is fairly limited, any asteroid with a random velocity will be bound to drift off the screen at some point in time.\n",
    "\n",
    "To keep the asteroids within the screen are, we can add some extra logic to keep the $ x $ and $ y $ coordinates between the min and max *math* values of $ (-10, 10) $.\n",
    "\n",
    "One common solution in videogame scenarios (and the one that *Asteroids* used), consists in subtracting the width (or height) of the screen when one of the coordinate went over the limit.\n",
    "\n",
    "This effect can be seen in the picture below:\n",
    "\n",
    "![Teleportation](../images/teleportation.png)\n",
    "\n",
    "This can be written in the `move()` method:\n",
    "\n",
    "```python\n",
    "class PolygonModel():\n",
    "...\n",
    "    def move(self, milliseconds):\n",
    "        dx, dy = (self.vx * milliseconds / 1000, self.vy * milliseconds / 1000)\n",
    "        self.x, self.y = add((self.x, self.y), (dx, dy))\n",
    "\n",
    "        if self.x < -10:\n",
    "            self.x += 20\n",
    "        if self.y < -10:\n",
    "            self.y += 20\n",
    "        if self.x > 10:\n",
    "            self.x -= 20\n",
    "        if self.y > 10:\n",
    "            self.y -= 20\n",
    "```"
   ],
   "cell_type": "markdown",
   "metadata": {}
  },
  {
   "source": [
    "With that we're done with the *math* model of our game, and we just need to adjust the *game* model so that we add the call to move the asteroid in every game loop iteration.\n",
    "\n",
    "```python\n",
    "def main():\n",
    "...\n",
    "    while not done:\n",
    "        clock.tick()\n",
    "...\n",
    "        milliseconds = clock.get_time()\n",
    "...\n",
    "        for asteroid in asteroids:\n",
    "            asteroid.move(milliseconds)\n",
    "\n",
    "...\n",
    "```\n",
    "\n",
    "Those unremarkable 2 lines make all of our asteroids move according to the given velocity."
   ],
   "cell_type": "markdown",
   "metadata": {}
  },
  {
   "cell_type": "code",
   "execution_count": 4,
   "metadata": {},
   "outputs": [
    {
     "output_type": "error",
     "ename": "SystemExit",
     "evalue": "0",
     "traceback": [
      "An exception has occurred, use %tb to see the full traceback.\n",
      "\u001b[0;31mSystemExit\u001b[0m\u001b[0;31m:\u001b[0m 0\n"
     ]
    }
   ],
   "source": [
    "from asteroids_step4 import main\n",
    "\n",
    "main()"
   ]
  },
  {
   "source": [
    "## Simulating acceleration\n",
    "\n",
    "Let's assume that our spaceship is equipped with a thruster, that propels the spaceship in the direction it is pointed when it is burning fuel.\n",
    "\n",
    "Let's also assume that the spaceship acceleration is constant when the rocket is firing its thruster. Because acceleration is defined as the derivative of velocity, constant acceleration means the velocity changes at a constant rate in both directions with respect to time.\n",
    "\n",
    "That is, if $ ax $ and $ ay $ are the components of the constant acceleration:\n",
    "$\n",
    "vx'(t) = ax \\\\\n",
    "vy'(t) = ay\n",
    "$\n",
    "\n",
    "Our goal is to give the Python spaceship a pair of properties representing $ ax $ and $ ay $. When the user is not pressing any buttons, the spaceship should have zero acceleration in both directions (and therefore, be stationary), while when user presses the corresponding key, the acceleration values should instantly be updated so that $ (ax, ay) $ is not zero.\n"
   ],
   "cell_type": "markdown",
   "metadata": {}
  },
  {
   "source": [
    "### Accelerating the spaceship\n",
    "\n",
    "By trial and error can be concluded that an acceleration magnitude of 3 makes the ship handling sufficiently accurate. \n",
    "\n",
    "This means that the spaceship will accelerate at $ 3 \\frac{\\frac{m}{s}}{s} $. That is, when the user presses the thrust key, the spaceship should increase its speed at a rate of $ 3 \\frac{m}{s} $ every second.\n",
    "\n",
    "As PyGame works in milliseconds, this means the relevant speed change will be $ 0.003 \\frac{m}{s} $ per millisecond.\n",
    "\n",
    "To calculate the acceleration vector we have to use trigonometry: we know that the magnitude of the acceleration will be $ | \\vec{a} | = 3 $. Therefore, if the spaceship is rotated at a $ \\theta $ angle, we know that $ ax = | \\vec{a} | \\cdot cos(\\theta) $ and $ ay = | \\vec{a} | \\cdot sin(\\theta) $.\n",
    "\n",
    "![acceleration components](../images/acceleration_components.png)"
   ],
   "cell_type": "markdown",
   "metadata": {}
  },
  {
   "source": [
    "In the game, during each iteration of the game loop, we will update the velocity of the ship before it moves:\n",
    "\n",
    "Over an elapsed time $ \\Delta t $, the change to vx will be $ ax \\cdot \\Delta t $ and the update to vy will be $ ay \\cdot \\Delta t $."
   ],
   "cell_type": "markdown",
   "metadata": {}
  },
  {
   "cell_type": "code",
   "execution_count": 1,
   "metadata": {},
   "outputs": [
    {
     "output_type": "stream",
     "name": "stdout",
     "text": [
      "pygame 2.0.0 (SDL 2.0.12, python 3.8.3)\nHello from the pygame community. https://www.pygame.org/contribute.html\n"
     ]
    },
    {
     "output_type": "error",
     "ename": "SystemExit",
     "evalue": "0",
     "traceback": [
      "An exception has occurred, use %tb to see the full traceback.\n",
      "\u001b[0;31mSystemExit\u001b[0m\u001b[0;31m:\u001b[0m 0\n"
     ]
    }
   ],
   "source": [
    "from asteroids_step5 import main\n",
    "\n",
    "main()"
   ]
  },
  {
   "source": [
    "## Digging deeper into Euler's method\n",
    "\n",
    "> The core idea of Euler's method is given an initial value of a quantity (e.g. position), and an equation describing its derivatives (e.g. equation for the velocity and acceleration), the method tells us how to update the quantity.\n"
   ],
   "cell_type": "markdown",
   "metadata": {}
  },
  {
   "source": [
    "Let's try to understand the details with an example:\n",
    "\n",
    "Say an object starts at time $ t = 0 $, at position $ (0, 0) $ with an initial velocity $ (1, 0) $ and a constant acceleration $ (0, 0.2) $.\n",
    "\n",
    "| NOTE: |\n",
    "| :---- |\n",
    "| The initial data tells us that the object is travelling from the origin to the right, but will veer upward over time. |\n",
    "\n",
    "The goal is to find the values of the position vector every two seconds, from $ t = 0 $, to $ t = 10 $ using Euler's method. Once we get the data, and find a way to compute it manually and also programmatically, we'll draw position in the $x,\\, y $ plane to show how the object moves."
   ],
   "cell_type": "markdown",
   "metadata": {}
  },
  {
   "source": [
    "### Carrying out Euler's method by hand\n",
    "\n",
    "At any given time, the object can be characterized with the values for its position $ \\vec{s} $, velocity $ \\vec{v} $ and acceleration $ \\vec{a} $. We can consider those to be vector-valued functions, and we will be using the following initial conditions:\n",
    "\n",
    "| t     | $ \\vec{s}(t) $ | $ \\vec{v}(t) $ | $ \\vec{a}(t) $|\n",
    "| :---- | :------------- | :------------- | :------------ |\n",
    "| $ 0 $ | $ (0, 0) $     | $ (1, 0) $     | $ (0, 0.2) $  |\n",
    "\n",
    "\n",
    "Also, as stated before, we would like to get the position from time $ t = 0 $, to $ t = 10 $ in 2-second increments. Also, we know that the object's acceleration is constant.\n",
    "\n",
    "Thus, the table we need to complete is:\n",
    "\n",
    "| t      | $ \\vec{s}(t) $ | $ \\vec{v}(t) $ | $ \\vec{a}(t) $|\n",
    "| :----- | :------------- | :------------- | :------------ |\n",
    "| $ 0 $  | $ (0, 0) $     | $ (1, 0) $     | $ (0, 0.2) $  |\n",
    "| $ 2 $  |                |                | $ (0, 0.2) $  |\n",
    "| $ 4 $  |                |                | $ (0, 0.2) $  |\n",
    "| $ 6 $  |                |                | $ (0, 0.2) $  |\n",
    "| $ 8 $  |                |                | $ (0, 0.2) $  |\n",
    "| $ 10 $ |                |                | $ (0, 0.2) $  |"
   ],
   "cell_type": "markdown",
   "metadata": {}
  },
  {
   "source": [
    "Now, let's use what we know to start filling out those empty cells.\n",
    "\n",
    "We know that:\n",
    "\n",
    "$\n",
    "\\displaystyle\n",
    "a = \\frac{v}{t} \\Rightarrow v = a \\cdot t\n",
    "$\n",
    "\n",
    "> That is, velocities change according to the given acceleration.\n",
    "\n",
    "Now, we need to start computing the values for $ v_x $ and $ v_y $ in the given time intervals, starting with $ t = 2 $.\n",
    "\n",
    "But, as $ a_x $ and $ a_y $ are known (and constant):\n",
    "\n",
    "$\n",
    "\\displaystyle\n",
    "v_x(2) = v_x(0) + a_x(0) \\cdot \\Delta t = 1 + 0 = 1 \\\\\n",
    "v_y(2) = v_y(0) + a_y(0) \\cdot \\Delta t = 0 + 0.2 \\cdot 2 = 0.4\n",
    "$"
   ],
   "cell_type": "markdown",
   "metadata": {}
  },
  {
   "source": [
    "And applying the same reasoning for calculating the position, we will have:\n",
    "\n",
    "$\n",
    "\\displaystyle\n",
    "v = \\frac{s}{t}\n",
    "$\n",
    "\n",
    "> position change according to the given velocity\n",
    "\n",
    "And as $ v_x $ and $ v_y $ for the initial conditions are known:\n",
    "\n",
    "$\n",
    "\\displaystyle\n",
    "x(2) = x(0) + v_x(0) \\cdot \\Delta t = 0 + 1 \\cdot 2 = 2 \\\\\n",
    "y(2) = y(0) + v_y(0) \\cdot \\Delta t = 0 + 0 \\cdot 2 = 0 \n",
    "$\n",
    "\n",
    "Note that we're not using the recently calculated velocities for determining the position at $ t = 2 $, but instead, we use the values for the previous line, and assume that velocity was constant up to $ t = 2 $. That is, we assume that the velocity vector was $ v = (1, 0) $ for the time from $ t = 0 $ to $ t = 2 $. As the velocity was constant, the change in position can be calculated according to the formula: $ v = \\frac{s}{t} $. Therefore, $ \\Delta s = v \\cdot \\Delta t = 1 \\cdot 2 = 2 $."
   ],
   "cell_type": "markdown",
   "metadata": {}
  },
  {
   "source": [
    "So now, we can fill the second row of the table:\n",
    "\n",
    "| t      | $ \\vec{s}(t) $ | $ \\vec{v}(t) $ | $ \\vec{a}(t) $|\n",
    "| :----- | :------------- | :------------- | :------------ |\n",
    "| $ 0 $  | $ (0, 0) $     | $ (1, 0) $     | $ (0, 0.2) $  |\n",
    "| $ 2 $  | $ (2, 0) $     | $ (1, 0.4) $   | $ (0, 0.2) $  |\n",
    "| $ 4 $  |                |                | $ (0, 0.2) $  |\n",
    "| $ 6 $  |                |                | $ (0, 0.2) $  |\n",
    "| $ 8 $  |                |                | $ (0, 0.2) $  |\n",
    "| $ 10 $ |                |                | $ (0, 0.2) $  |"
   ],
   "cell_type": "markdown",
   "metadata": {}
  },
  {
   "source": [
    "The good thing is that we've established the method to calculate the subsequent rows, so it is easier now:\n",
    "\n",
    "$\n",
    "\\displaystyle \n",
    "v_x(4) = v_x(2) + a_x(2) \\cdot \\Delta t = 1 + 0 \\cdot 2 = 1 \\\\\n",
    "v_y(4) = v_y(2) + a_y(2) \\cdot \\Delta t = 0.4 + 0.2 \\dot 2 = 0.8 \\\\\n",
    "$\n",
    "\n",
    "And for the position:\n",
    "\n",
    "$\n",
    "\\displaystyle \n",
    "x(4) = x(2) + v_x(2) \\cdot \\Delta t = 2 + 1 \\cdot 2 = 4 \\\\\n",
    "y(4) = y(2) + v_y(2) \\cdot \\Delta t = 0 + 0.4 \\dot 2 = 0.8 \\\\\n",
    "$\n",
    "\n",
    "Therefore:\n",
    "\n",
    "| t      | $ \\vec{s}(t) $ | $ \\vec{v}(t) $ | $ \\vec{a}(t) $|\n",
    "| :----- | :------------- | :------------- | :------------ |\n",
    "| $ 0 $  | $ (0, 0) $     | $ (1, 0) $     | $ (0, 0.2) $  |\n",
    "| $ 2 $  | $ (2, 0) $     | $ (1, 0.4) $   | $ (0, 0.2) $  |\n",
    "| $ 4 $  | $ (4, 0.8) $   | $ (1, 0.8) $   | $ (0, 0.2) $  |\n",
    "| $ 6 $  |                |                | $ (0, 0.2) $  |\n",
    "| $ 8 $  |                |                | $ (0, 0.2) $  |\n",
    "| $ 10 $ |                |                | $ (0, 0.2) $  |"
   ],
   "cell_type": "markdown",
   "metadata": {}
  },
  {
   "source": [
    "Although we could continue doing the calculations manually, we see that it is very simple (and less error-prone) to use Python to do so.\n",
    "\n",
    "That will also give us the change to use smaller $ \\Delta t $."
   ],
   "cell_type": "markdown",
   "metadata": {}
  },
  {
   "source": [
    "### Implementing the algorithm in Python\n",
    "\n"
   ],
   "cell_type": "markdown",
   "metadata": {}
  }
 ]
}