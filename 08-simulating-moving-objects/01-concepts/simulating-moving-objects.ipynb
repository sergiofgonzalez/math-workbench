{
 "metadata": {
  "language_info": {
   "codemirror_mode": {
    "name": "ipython",
    "version": 3
   },
   "file_extension": ".py",
   "mimetype": "text/x-python",
   "name": "python",
   "nbconvert_exporter": "python",
   "pygments_lexer": "ipython3",
   "version": "3.8.3-final"
  },
  "orig_nbformat": 2,
  "kernelspec": {
   "name": "python3",
   "display_name": "Python 3",
   "language": "python"
  }
 },
 "nbformat": 4,
 "nbformat_minor": 2,
 "cells": [
  {
   "source": [
    "# Simulating moving objects\n",
    "\n",
    "## Contents\n",
    "+ Simulating realistic motion using Newton's laws of motion\n",
    "+ Introducing the velocity and acceleration vectors\n",
    "+ Using Euler's method to approximate the position of a moving objects\n",
    "+ Finding the exact trajectory of a moving object using calculus"
   ],
   "cell_type": "markdown",
   "metadata": {}
  },
  {
   "source": [
    "## Introduction\n",
    "\n",
    "To implement motion in a videogame, like our *Asteroid* bootleg, we need to use many of the calculus concepts from the previous chapter.\n",
    "\n",
    "The numerical entities we will consider are the $ x $ and $ y $ positions of the asteroids and the spaceship. Those will be functions of the time, so we will have $ x(t) $ and $ y(t) $.\n",
    "\n",
    "We will consider the following physical functions:\n",
    "+ *velocity* &mdash; the derivative of the position function with respect to time.\n",
    "+ *acceleration* &mdash; the derivative of velocity with respect to time.\n",
    "\n",
    "As we have two functions $ x(t) $ and $ y(t) $ to determine the position of objects, we'll have two velocity functions and two acceleration functions, which will allow us to think in terms of vectors as well.\n",
    "\n",
    "Our first goal will consist in get the asteroids moving. To do that, we'll provide them with random, constant velocity functions. Then, we'll *integrate* these functions in real time to get their positions. We will use *Euler's method* to do that, which is a mathematically similar method for integration, with the advantage that it can be done as the game runs.\n",
    "\n",
    "The second goal will be to let the user move the spaceship. When the user presses any of the direction keys, the spaceship should *accelerate* on the direction of the pressed key, which means that the velocity will change, and as a result the position of the spaceship as well.\n",
    "\n",
    "Our third and final goal will consist in deep diving on the *Euler's method* as a way to obtain an approximation of the integral, and compare it with the exact solutions."
   ],
   "cell_type": "markdown",
   "metadata": {}
  },
  {
   "source": [
    "## Simulating a constant velocity motion\n",
    "\n",
    "In everyday usage, velocity is synonym with speed. In math and physics, velocity includes both the notions of speed and direction of motion &mdash; this means velocity is a vector!\n",
    "\n",
    "In our game, we will enhance the asteroid objects with a random velocity vector $ (vx, vy) $, and consider those to be the constant values of the derivatives of the position functions with respect to time.\n",
    "\n",
    "$\n",
    "x'(t) = vx \\\\\n",
    "y'(t) = vy\n",
    "$\n",
    "\n",
    "For simplicity, we will talk about:\n",
    "\n",
    "$\n",
    "s(t) = (x(t), y(t)) \\\\\n",
    "v(t) = (x'(t), y'(t))\n",
    "$\n",
    "\n",
    "As if they were vector-valued functions, but it just means that those are individual functions that take time and return values that we will interpret as vectors."
   ],
   "cell_type": "markdown",
   "metadata": {}
  },
  {
   "source": [
    "### Adding velocities to the asteroids\n",
    "\n",
    "Let's recap where we left our *Asteroids* bootleg. We created a hierarchy of classes that modeled our game entities first in a *math* world of coordinates and vectors and some functions that translated that model into the *game* world of pixels and frames.\n",
    "\n",
    "In the last step of the game, we even made our spacechip to rotate as can be seen when running [Asteroids: step 3](../e00-my-lib/asteroids_step3.py). In that stage, all the asteroids were static."
   ],
   "cell_type": "markdown",
   "metadata": {}
  },
  {
   "cell_type": "code",
   "execution_count": 4,
   "metadata": {},
   "outputs": [
    {
     "output_type": "stream",
     "name": "stdout",
     "text": [
      "pygame 2.0.0 (SDL 2.0.12, python 3.8.3)\nHello from the pygame community. https://www.pygame.org/contribute.html\n"
     ]
    },
    {
     "output_type": "error",
     "ename": "SystemExit",
     "evalue": "0",
     "traceback": [
      "An exception has occurred, use %tb to see the full traceback.\n",
      "\u001b[0;31mSystemExit\u001b[0m\u001b[0;31m:\u001b[0m 0\n"
     ]
    }
   ],
   "source": [
    "from asteroids_step3 import main \n",
    "\n",
    "main()"
   ]
  },
  {
   "source": [
    "This *math* model was supported by the `PolygonModel` class. As all of our game entities inherit from it, and all of them are subject of being moved, we will start by adding the velocity vector components as properties:\n",
    "\n",
    "```python\n",
    "class PolygonModel():\n",
    "    def __init__(self, points):\n",
    "        self.points = points\n",
    "        self.rotation_angle = 0\n",
    "        # x, y keeps track of the center of the polygon\n",
    "        self.x = 0\n",
    "        self.y = 0\n",
    "\n",
    "        # vx, vy are the velocity components\n",
    "        self.vx = 0\n",
    "        self.vy = 0\n",
    "```"
   ],
   "cell_type": "markdown",
   "metadata": {}
  },
  {
   "source": [
    "Next, to make our asteroids to move erratically we can assign them with random velocity values:\n",
    "\n",
    "```python\n",
    "class Asteroid(PolygonModel):\n",
    "    def __init__(self):\n",
    "        sides = randint(5, 9)\n",
    "        points = [to_cartesian((uniform(0.5, 1.0), 2 * pi * i / sides))\n",
    "            for i in range(0, sides)\n",
    "        ]\n",
    "        super().__init__(points)\n",
    "\n",
    "        # assign random velocity values\n",
    "        self.vx = uniform(-1, 1)\n",
    "        self.vy = uniform(-1, 1)\n",
    "```\n",
    "\n",
    "That will make `vx` and `vy` to take a random value between $ (-1, 1) $, with negative values for the velocity meaning the position of the corresponding coordinate will decrease, instead of increase."
   ],
   "cell_type": "markdown",
   "metadata": {}
  },
  {
   "source": [
    "### Updating the game engine to move the asteroids\n",
    "\n",
    "With the velocity values given, we need to use them to update the the game entities position `x` and `y`.\n",
    "\n",
    "If $ \\Delta t $ is the elapsed time between frames, we know that x will change according to:\n",
    "\n",
    "$ \n",
    "x = x + vx \\times \\Delta t \\\\\n",
    "y = y + vy \\times \\Delta t\n",
    "$\n",
    "\n",
    "This is a good way to do it because velocities are constant, and we know that $ v = \\frac{s}{t} $.\n",
    "\n",
    "Thus, the way to make the asteroids move will be to update our `PolygonModel` to include a `move()` method that will update the game entity position:\n",
    "\n",
    "```python\n",
    "class PolygonModel():\n",
    "...\n",
    "    def move(self, milliseconds):\n",
    "        dx, dy = (self.vx * milliseconds / 1000, self.vy * milliseconds / 1000)\n",
    "        self.x, self.y = add((self.x, self.y), (dx, dy))\n",
    "```"
   ],
   "cell_type": "markdown",
   "metadata": {}
  },
  {
   "source": [
    "This has been the first application of algorithm known as the *Euler's method*.\n",
    "\n",
    "The algorithm consists of keeping track of the value of one or more functions (in our case, $ x(t) $, $ y(t) $) and their derivatives ($ x'(t) $ and $ y'(t) $) and updating the functions according to their derivatives in each step.\n",
    "\n",
    "This will be exact if the derivatives are constant, but it will even be a good approximation if they're not."
   ],
   "cell_type": "markdown",
   "metadata": {}
  },
  {
   "source": [
    "### Keeping the asteroids on the screen\n",
    "\n",
    "As our game model space (that is the screen space) is fairly limited, any asteroid with a random velocity will be bound to drift off the screen at some point in time.\n",
    "\n",
    "To keep the asteroids within the screen are, we can add some extra logic to keep the $ x $ and $ y $ coordinates between the min and max *math* values of $ (-10, 10) $.\n",
    "\n",
    "One common solution in videogame scenarios (and the one that *Asteroids* used), consists in subtracting the width (or height) of the screen when one of the coordinate went over the limit.\n",
    "\n",
    "This effect can be seen in the picture below:\n",
    "\n",
    "![Teleportation](../images/teleportation.png)\n",
    "\n",
    "This can be written in the `move()` method:\n",
    "\n",
    "```python\n",
    "class PolygonModel():\n",
    "...\n",
    "    def move(self, milliseconds):\n",
    "        dx, dy = (self.vx * milliseconds / 1000, self.vy * milliseconds / 1000)\n",
    "        self.x, self.y = add((self.x, self.y), (dx, dy))\n",
    "\n",
    "        if self.x < -10:\n",
    "            self.x += 20\n",
    "        if self.y < -10:\n",
    "            self.y += 20\n",
    "        if self.x > 10:\n",
    "            self.x -= 20\n",
    "        if self.y > 10:\n",
    "            self.y -= 20\n",
    "```"
   ],
   "cell_type": "markdown",
   "metadata": {}
  },
  {
   "source": [
    "With that we're done with the *math* model of our game, and we just need to adjust the *game* model so that we add the call to move the asteroid in every game loop iteration.\n",
    "\n",
    "```python\n",
    "def main():\n",
    "...\n",
    "    while not done:\n",
    "        clock.tick()\n",
    "...\n",
    "        milliseconds = clock.get_time()\n",
    "...\n",
    "        for asteroid in asteroids:\n",
    "            asteroid.move(milliseconds)\n",
    "\n",
    "...\n",
    "```\n",
    "\n",
    "Those unremarkable 2 lines make all of our asteroids move according to the given velocity."
   ],
   "cell_type": "markdown",
   "metadata": {}
  },
  {
   "cell_type": "code",
   "execution_count": 4,
   "metadata": {},
   "outputs": [
    {
     "output_type": "error",
     "ename": "SystemExit",
     "evalue": "0",
     "traceback": [
      "An exception has occurred, use %tb to see the full traceback.\n",
      "\u001b[0;31mSystemExit\u001b[0m\u001b[0;31m:\u001b[0m 0\n"
     ]
    }
   ],
   "source": [
    "from asteroids_step4 import main\n",
    "\n",
    "main()"
   ]
  },
  {
   "source": [
    "## Simulating acceleration"
   ],
   "cell_type": "markdown",
   "metadata": {}
  }
 ]
}