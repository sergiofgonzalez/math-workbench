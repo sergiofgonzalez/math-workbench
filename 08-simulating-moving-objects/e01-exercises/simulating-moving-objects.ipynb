{
 "metadata": {
  "language_info": {
   "codemirror_mode": {
    "name": "ipython",
    "version": 3
   },
   "file_extension": ".py",
   "mimetype": "text/x-python",
   "name": "python",
   "nbconvert_exporter": "python",
   "pygments_lexer": "ipython3",
   "version": 3
  },
  "orig_nbformat": 2
 },
 "nbformat": 4,
 "nbformat_minor": 2,
 "cells": [
  {
   "source": [
    "# Exercises on simulating moving objects"
   ],
   "cell_type": "markdown",
   "metadata": {}
  },
  {
   "source": [
    "## Exercises 9.2\n",
    "\n",
    "An asteroid has the velocity vector $ v = (vx, vy) = (-3, 1) $. Which direction is it moving on the screen."
   ],
   "cell_type": "markdown",
   "metadata": {}
  },
  {
   "source": [
    "The asteroid will be moving up ($ vy $ is positive) and to the left ($ vx $ is negative)."
   ],
   "cell_type": "markdown",
   "metadata": {}
  }
 ]
}