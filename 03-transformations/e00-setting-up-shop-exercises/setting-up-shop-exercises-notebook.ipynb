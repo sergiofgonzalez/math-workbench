{
 "metadata": {
  "language_info": {
   "codemirror_mode": {
    "name": "ipython",
    "version": 3
   },
   "file_extension": ".py",
   "mimetype": "text/x-python",
   "name": "python",
   "nbconvert_exporter": "python",
   "pygments_lexer": "ipython3",
   "version": "3.8.3-final"
  },
  "orig_nbformat": 2,
  "kernelspec": {
   "name": "Python 3.8.3 64-bit ('base': conda)",
   "display_name": "Python 3.8.3 64-bit ('base': conda)",
   "metadata": {
    "interpreter": {
     "hash": "ead85409a3df2736fa4852a03cf3afe7e5b1dbdc0e40d7d22bbcbf8cf1adf5fa"
    }
   }
  }
 },
 "nbformat": 4,
 "nbformat_minor": 2,
 "cells": [
  {
   "source": [
    "# Setting up shop exercises\n",
    "> exercises related to the *Setting up shop* section\n",
    "\n",
    "## Exercise C.1\n",
    "\n",
    "Modify the `draw_model(...)` function to display the input figure from any rotated perspective.\n",
    "\n",
    "Specifically, give the `draw_model(...)` a keyword argument `glRotatefArgs` that provide a tuple of four numbers corresponding to the four arguments of `glRotatef(...)`. With this extra information, add an appropriate call to the `glRotatef(...)` function within the body of `draw_model(...)` to execute the rotation."
   ],
   "cell_type": "markdown",
   "metadata": {}
  },
  {
   "source": [
    "We know from the concept section that we can use `glTranslatef(...)` to tell OpenGL the position from which we want to see the 3D scene we're drawing.\n",
    "\n",
    "```python\n",
    "# Observe the scene from 5 units up the z axis\n",
    "# (-5 means move the scene down by (0, 0, -5))\n",
    "glTranslatef(0.0, 0.0, -5)\n",
    "```\n",
    "\n",
    "And we can use `glRotatef(...)` to change the angle at which we observe the scene.\n",
    "\n",
    "```python\n",
    "vector (x, y, z)\n",
    "glRotatef(theta, x, y, z)\n",
    "```\n",
    "\n",
    "Let's modify `draw_model.py` by creating a `draw_model_v2.py` as suggested.\n"
   ],
   "cell_type": "markdown",
   "metadata": {}
  },
  {
   "cell_type": "code",
   "execution_count": 2,
   "metadata": {},
   "outputs": [
    {
     "output_type": "error",
     "ename": "SystemExit",
     "evalue": "0",
     "traceback": [
      "An exception has occurred, use %tb to see the full traceback.\n",
      "\u001b[0;31mSystemExit\u001b[0m\u001b[0;31m:\u001b[0m 0\n"
     ]
    }
   ],
   "source": [
    "from teapot import load_triangles\n",
    "from draw_model import draw_model\n",
    "\n",
    "# tilt 30° on the z-axis\n",
    "draw_model(load_triangles(), glRotatefArgs=(30, 0, 0, 1))\n",
    "\n",
    "# tilt 30° on the x-axis\n",
    "draw_model(load_triangles(), glRotatefArgs=(30, 1, 0, 0))"
   ]
  },
  {
   "cell_type": "code",
   "execution_count": 7,
   "metadata": {},
   "outputs": [
    {
     "output_type": "error",
     "ename": "SystemExit",
     "evalue": "0",
     "traceback": [
      "An exception has occurred, use %tb to see the full traceback.\n",
      "\u001b[0;31mSystemExit\u001b[0m\u001b[0;31m:\u001b[0m 0\n"
     ]
    }
   ],
   "source": [
    "from teapot import load_triangles\n",
    "from draw_model import draw_model\n",
    "\n",
    "# tilt 30° on the x-axis\n",
    "draw_model(load_triangles(), glRotatefArgs=(30, 1, 0, 0))"
   ]
  },
  {
   "cell_type": "code",
   "execution_count": 6,
   "metadata": {},
   "outputs": [
    {
     "output_type": "error",
     "ename": "SystemExit",
     "evalue": "0",
     "traceback": [
      "An exception has occurred, use %tb to see the full traceback.\n",
      "\u001b[0;31mSystemExit\u001b[0m\u001b[0;31m:\u001b[0m 0\n"
     ]
    }
   ],
   "source": [
    "from teapot import load_triangles\n",
    "from draw_model import draw_model\n",
    "\n",
    "# tilt 30° on the y-axis\n",
    "draw_model(load_triangles(), glRotatefArgs=(30, 0, 1, 0))"
   ]
  },
  {
   "source": [
    "## Exercise C.2\n",
    "\n",
    "If we call `glRotatef(1, 1, 1, 1) in every frame, how many seconds does it take for the scene to complete a full revolution."
   ],
   "cell_type": "markdown",
   "metadata": {}
  },
  {
   "source": [
    "The answer depends on the number of frames per second the drawing engine is capable of displaying.\n",
    "\n",
    "Let $ n $ be the number of frames per second:\n",
    "\n",
    "$ \n",
    "n \\hspace{1ex} fps = n \\hspace{1ex} \\frac{°}{sec}\n",
    "$\n",
    "\n",
    "Let $ t $ be the number of seconds needed for a full revolution:\n",
    "\n",
    "$ \n",
    "n \\cdot t \\frac{°}{sec} = 360 ° \\\\\n",
    "t = \\frac{360}{n} \\hspace{1ex} sec\n",
    "$\n",
    "\n",
    "\n",
    "Thus, if we assume 60 frames per second, we will have a full revolution in 6 seconds."
   ],
   "cell_type": "markdown",
   "metadata": {}
  },
  {
   "source": [
    "## Exercise C.3\n",
    "\n",
    "Implement the `load_triangles(...)` function that takes a set vertices that form a quadrilateral and produces a list of triangles in Python. Each triangle should be specified by 3D vectors.\n",
    "\n",
    "Then, enhance the function so that it can load the teapot from `teapot.off` and validate that it can be passed to `draw_model(...)`."
   ],
   "cell_type": "markdown",
   "metadata": {}
  }
 ]
}