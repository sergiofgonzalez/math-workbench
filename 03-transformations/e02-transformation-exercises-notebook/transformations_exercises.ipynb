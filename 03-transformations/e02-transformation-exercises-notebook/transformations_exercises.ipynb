{
 "metadata": {
  "language_info": {
   "codemirror_mode": {
    "name": "ipython",
    "version": 3
   },
   "file_extension": ".py",
   "mimetype": "text/x-python",
   "name": "python",
   "nbconvert_exporter": "python",
   "pygments_lexer": "ipython3",
   "version": "3.8.3-final"
  },
  "orig_nbformat": 2,
  "kernelspec": {
   "name": "Python 3.8.3 64-bit ('base': conda)",
   "display_name": "Python 3.8.3 64-bit ('base': conda)",
   "metadata": {
    "interpreter": {
     "hash": "ead85409a3df2736fa4852a03cf3afe7e5b1dbdc0e40d7d22bbcbf8cf1adf5fa"
    }
   }
  }
 },
 "nbformat": 4,
 "nbformat_minor": 2,
 "cells": [
  {
   "source": [
    "# Exercises on Transformations\n",
    "\n",
    "## Exercise 4.1\n",
    "Implement a `translate_by(...)` function that takes a translation vector as an input and returns a translation function as output."
   ],
   "cell_type": "markdown",
   "metadata": {}
  },
  {
   "source": [
    "Let's define the function and apply it to the teapot to validate it works"
   ],
   "cell_type": "markdown",
   "metadata": {}
  },
  {
   "cell_type": "code",
   "execution_count": 1,
   "metadata": {},
   "outputs": [
    {
     "output_type": "stream",
     "name": "stdout",
     "text": [
      "pygame 1.9.6\nHello from the pygame community. https://www.pygame.org/contribute.html\n"
     ]
    },
    {
     "output_type": "error",
     "ename": "SystemExit",
     "evalue": "0",
     "traceback": [
      "An exception has occurred, use %tb to see the full traceback.\n",
      "\u001b[0;31mSystemExit\u001b[0m\u001b[0;31m:\u001b[0m 0\n"
     ]
    }
   ],
   "source": [
    "from teapot import load_triangles\n",
    "from draw_model import draw_model\n",
    "from vectors import add\n",
    "\n",
    "def polygon_map(transformation, polygons):\n",
    "    return [\n",
    "        [transformation(vertex) for vertex in polygon]\n",
    "        for polygon in polygons\n",
    "    ]\n",
    "\n",
    "def translate_by(vector):\n",
    "    def new_function(v):\n",
    "        return add(vector, v)\n",
    "    return new_function\n",
    "\n",
    "draw_model(polygon_map(translate_by((-1, 0, 0)), load_triangles()))"
   ]
  },
  {
   "source": [
    "| NOTE: |\n",
    "| :---- |\n",
    "| To help simplify running the cells, I have created a library `transformation_support.py` that contains the building blocks such as `polygon_map(...)` etc. so that we don't have to create them in each and every exercise. |"
   ],
   "cell_type": "markdown",
   "metadata": {}
  },
  {
   "source": [
    "## Exercise 4.2\n",
    "\n",
    "Render the teapot translated by 20 units in the negative z direction. What does the resulting image look like?"
   ],
   "cell_type": "markdown",
   "metadata": {}
  },
  {
   "source": [
    "It should look as if we're looking at the teapot way above 3D model. We should be able to see the top of the teapot, and it should also look smaller, as it is way further."
   ],
   "cell_type": "markdown",
   "metadata": {}
  },
  {
   "cell_type": "code",
   "execution_count": 2,
   "metadata": {},
   "outputs": [
    {
     "output_type": "error",
     "ename": "SystemExit",
     "evalue": "0",
     "traceback": [
      "An exception has occurred, use %tb to see the full traceback.\n",
      "\u001b[0;31mSystemExit\u001b[0m\u001b[0;31m:\u001b[0m 0\n"
     ]
    }
   ],
   "source": [
    "from teapot import load_triangles\n",
    "from draw_model import draw_model\n",
    "from transformations_support import *\n",
    "\n",
    "draw_model(polygon_map(translate_by((0, 0, -20)), load_triangles()))"
   ]
  },
  {
   "source": [
    "Note that one of our predictions is right (it's smaller), but not the other (the shape it is still centered).\n",
    "The shape is further from the viewpoint `(0, 0, -5)`.\n",
    "\n",
    "Let's see what happens when we translate from different vectors:"
   ],
   "cell_type": "markdown",
   "metadata": {}
  },
  {
   "cell_type": "code",
   "execution_count": 3,
   "metadata": {},
   "outputs": [
    {
     "output_type": "error",
     "ename": "SystemExit",
     "evalue": "0",
     "traceback": [
      "An exception has occurred, use %tb to see the full traceback.\n",
      "\u001b[0;31mSystemExit\u001b[0m\u001b[0;31m:\u001b[0m 0\n"
     ]
    }
   ],
   "source": [
    "from teapot import load_triangles\n",
    "from draw_model import draw_model\n",
    "from transformations_support import *\n",
    "\n",
    "draw_model(polygon_map(translate_by((-2, 0, 0)), load_triangles()))"
   ]
  },
  {
   "cell_type": "code",
   "execution_count": 4,
   "metadata": {},
   "outputs": [
    {
     "output_type": "error",
     "ename": "SystemExit",
     "evalue": "0",
     "traceback": [
      "An exception has occurred, use %tb to see the full traceback.\n",
      "\u001b[0;31mSystemExit\u001b[0m\u001b[0;31m:\u001b[0m 0\n"
     ]
    }
   ],
   "source": [
    "from teapot import load_triangles\n",
    "from draw_model import draw_model\n",
    "from transformations_support import *\n",
    "\n",
    "draw_model(polygon_map(translate_by((0, -2, 0)), load_triangles()))"
   ]
  },
  {
   "source": [
    "So, what we though would happen for `(0, 0, -20)` is happening for `(0, -2, 0)`. The translation by `(-2, 0, 0)` is consistent with our expectations (move to the left) and `(0, 0, -20)` is more consisten with what we would expect for movement on the y axis."
   ],
   "cell_type": "markdown",
   "metadata": {}
  },
  {
   "source": [
    "## Exercise 4.3\n",
    "\n",
    "What happens to the teapot when you scale every vector by a scalar between 0 and 1? What happens when you scale it by a factor of -1?"
   ],
   "cell_type": "markdown",
   "metadata": {}
  },
  {
   "source": [
    "When you scale every vector by a scalar between 0 and 1 you will make the teapot smaller, but maintaining the ratio. Let's confirm:"
   ],
   "cell_type": "markdown",
   "metadata": {}
  },
  {
   "cell_type": "code",
   "execution_count": 5,
   "metadata": {},
   "outputs": [
    {
     "output_type": "error",
     "ename": "SystemExit",
     "evalue": "0",
     "traceback": [
      "An exception has occurred, use %tb to see the full traceback.\n",
      "\u001b[0;31mSystemExit\u001b[0m\u001b[0;31m:\u001b[0m 0\n"
     ]
    }
   ],
   "source": [
    "from teapot import load_triangles\n",
    "from draw_model import draw_model\n",
    "from transformations_support import *\n",
    "\n",
    "draw_model(polygon_map(scale_by(0.1), load_triangles()))"
   ]
  },
  {
   "source": [
    "If we scale every vector of the teapot by -1, we will *negate* every vector of the 3D model. As a result up will be down and left will be right (and vice versa)."
   ],
   "cell_type": "markdown",
   "metadata": {}
  },
  {
   "cell_type": "code",
   "execution_count": 6,
   "metadata": {},
   "outputs": [
    {
     "output_type": "error",
     "ename": "SystemExit",
     "evalue": "0",
     "traceback": [
      "An exception has occurred, use %tb to see the full traceback.\n",
      "\u001b[0;31mSystemExit\u001b[0m\u001b[0;31m:\u001b[0m 0\n"
     ]
    }
   ],
   "source": [
    "from teapot import load_triangles\n",
    "from draw_model import draw_model\n",
    "from transformations_support import *\n",
    "\n",
    "draw_model(polygon_map(scale_by(-1), load_triangles()))"
   ]
  },
  {
   "source": [
    "It must be noted that actually, scaling by -1 turns every vector inside-out, so each normal vector will now point into the teapot rather than outward, and therefore will create problem while rendering.\n",
    "\n",
    "Let's rotate the scaled teapot to see that:"
   ],
   "cell_type": "markdown",
   "metadata": {}
  },
  {
   "cell_type": "code",
   "execution_count": 7,
   "metadata": {},
   "outputs": [
    {
     "output_type": "error",
     "ename": "SystemExit",
     "evalue": "0",
     "traceback": [
      "An exception has occurred, use %tb to see the full traceback.\n",
      "\u001b[0;31mSystemExit\u001b[0m\u001b[0;31m:\u001b[0m 0\n"
     ]
    }
   ],
   "source": [
    "from teapot import load_triangles\n",
    "from draw_model_custom_impl import draw_model_anim\n",
    "from transformations_support import *\n",
    "\n",
    "draw_model_anim(polygon_map(scale_by(-1), load_triangles()))\n"
   ]
  },
  {
   "source": [
    "See how it does not render correctly, specially the spout."
   ],
   "cell_type": "markdown",
   "metadata": {}
  },
  {
   "source": [
    "## Exercise 4.4\n",
    "\n",
    "First apply a `translate1left(...)` to the teapot and then `scale2`. How is the result different when you compose the functions in different order?"
   ],
   "cell_type": "markdown",
   "metadata": {}
  },
  {
   "source": [
    "We know that if we first scale and then translate, a double size teapot will be found translated to the left. However, if we first translate and scale, the teapot will be stretched:"
   ],
   "cell_type": "markdown",
   "metadata": {}
  },
  {
   "cell_type": "code",
   "execution_count": 9,
   "metadata": {},
   "outputs": [
    {
     "output_type": "error",
     "ename": "SystemExit",
     "evalue": "0",
     "traceback": [
      "An exception has occurred, use %tb to see the full traceback.\n",
      "\u001b[0;31mSystemExit\u001b[0m\u001b[0;31m:\u001b[0m 0\n"
     ]
    }
   ],
   "source": [
    "from teapot import load_triangles\n",
    "from draw_model_custom_impl import draw_model_anim\n",
    "from transformations_support import *\n",
    "\n",
    "draw_model_anim(polygon_map(compose(translate_by((-1, 0, 0)), scale_by(2)), load_triangles()), display_axes=True)"
   ]
  },
  {
   "cell_type": "code",
   "execution_count": 10,
   "metadata": {},
   "outputs": [
    {
     "output_type": "error",
     "ename": "SystemExit",
     "evalue": "0",
     "traceback": [
      "An exception has occurred, use %tb to see the full traceback.\n",
      "\u001b[0;31mSystemExit\u001b[0m\u001b[0;31m:\u001b[0m 0\n"
     ]
    }
   ],
   "source": [
    "from teapot import load_triangles\n",
    "from draw_model_custom_impl import draw_model_anim\n",
    "from transformations_support import *\n",
    "\n",
    "draw_model_anim(polygon_map(compose(scale_by(2), translate_by((-1, 0, 0))), load_triangles()), display_axes=True)"
   ]
  },
  {
   "source": [
    "So we were wrong again: if we first translate and then scale, the 3D model is translated further to the left. This is because when the scaling factor of 2 is applied after the translation, the distance of the translation doubles as well.\n",
    "\n",
    "![Transformation Order is important](../images/transformation_order.png)"
   ],
   "cell_type": "markdown",
   "metadata": {}
  },
  {
   "source": [
    "## Exercise 4.5\n",
    "\n",
    "What is the effect of the transformation `compose(scale_by(0.4), scale_by(1.5))`?"
   ],
   "cell_type": "markdown",
   "metadata": {}
  },
  {
   "source": [
    "The effect will be the scaling the 3D shape by $ 0.4 \\times 1.5 = 0.6 $"
   ],
   "cell_type": "markdown",
   "metadata": {}
  },
  {
   "cell_type": "code",
   "execution_count": 11,
   "metadata": {},
   "outputs": [
    {
     "output_type": "error",
     "ename": "SystemExit",
     "evalue": "0",
     "traceback": [
      "An exception has occurred, use %tb to see the full traceback.\n",
      "\u001b[0;31mSystemExit\u001b[0m\u001b[0;31m:\u001b[0m 0\n"
     ]
    }
   ],
   "source": [
    "from teapot import load_triangles\n",
    "from draw_model_custom_impl import draw_model_anim\n",
    "from transformations_support import *\n",
    "\n",
    "draw_model_anim(polygon_map(compose(scale_by(0.4), scale_by(1.5)), load_triangles()))"
   ]
  },
  {
   "source": [
    "## Exercise 4.6\n",
    "\n",
    "Modify the `compose(...)` function so that it can take a variable number of arguments that will be applied in given order."
   ],
   "cell_type": "markdown",
   "metadata": {}
  },
  {
   "source": [
    "Let's see what is the anatomy of the `compose(f1, f2)` function and think about how it can be generalized:\n",
    "\n",
    "```python\n",
    "def compose(f1, f2):\n",
    "    def new_function(input):\n",
    "        return f1(f2(input))\n",
    "    return new_function\n",
    "```"
   ],
   "cell_type": "markdown",
   "metadata": {}
  },
  {
   "cell_type": "code",
   "execution_count": 12,
   "metadata": {},
   "outputs": [
    {
     "output_type": "error",
     "ename": "SystemExit",
     "evalue": "0",
     "traceback": [
      "An exception has occurred, use %tb to see the full traceback.\n",
      "\u001b[0;31mSystemExit\u001b[0m\u001b[0;31m:\u001b[0m 0\n"
     ]
    }
   ],
   "source": [
    "def compose_multiple(*fArgs):\n",
    "    def new_function(input):\n",
    "        resulting_f = None\n",
    "        for f in fArgs:\n",
    "            resulting_f = f(input)\n",
    "        return resulting_f\n",
    "    return new_function\n",
    "\n",
    "from teapot import load_triangles\n",
    "from draw_model_custom_impl import draw_model_anim\n",
    "from transformations_support import *\n",
    "\n",
    "draw_model_anim(polygon_map(compose_multiple(scale_by(0.4), scale_by(1.5), scale_by(2)), load_triangles()))"
   ]
  },
  {
   "source": [
    "This can be further improved, by applying it in reversed order, so that it is applied in the same order as `compose(f_last, f_first)`. Also, if no function given the *identity* transformation is applied (no transformation)."
   ],
   "cell_type": "markdown",
   "metadata": {}
  },
  {
   "cell_type": "code",
   "execution_count": null,
   "metadata": {},
   "outputs": [],
   "source": [
    "def compose(*fArgs):\n",
    "    def new_function(input):\n",
    "        state = input\n",
    "        for f in reversed(args):\n",
    "            state = f(state) \n",
    "            return state     \n",
    "    return new_function"
   ]
  },
  {
   "cell_type": "code",
   "execution_count": 13,
   "metadata": {},
   "outputs": [
    {
     "output_type": "error",
     "ename": "SystemExit",
     "evalue": "0",
     "traceback": [
      "An exception has occurred, use %tb to see the full traceback.\n",
      "\u001b[0;31mSystemExit\u001b[0m\u001b[0;31m:\u001b[0m 0\n"
     ]
    }
   ],
   "source": [
    "from teapot import load_triangles\n",
    "from draw_model_custom_impl import draw_model_anim\n",
    "from transformations_support import *\n",
    "\n",
    "draw_model_anim(polygon_map(compose(scale_by(0.4), scale_by(1.5), scale_by(2), translate_by((-1, 0, 0))), load_triangles()))"
   ]
  },
  {
   "source": [
    "Note that the `compose(...)` function is not constrained to 3D transformations, it can be applied to all type of Python functions that receive an input and transforms it:"
   ],
   "cell_type": "markdown",
   "metadata": {}
  },
  {
   "cell_type": "code",
   "execution_count": 14,
   "metadata": {},
   "outputs": [
    {
     "output_type": "stream",
     "name": "stdout",
     "text": [
      "PYTHON\n"
     ]
    }
   ],
   "source": [
    "def prepend(string):\n",
    "    def new_function(input):\n",
    "        return string + input\n",
    "    return new_function\n",
    "\n",
    "\n",
    "f = compose(prepend('P'), prepend('Y'), prepend('T'))\n",
    "print(f('HON'))\n"
   ]
  },
  {
   "source": [
    "## Exercise 4.7\n",
    "\n",
    "Write a `curry2(f)` that takes a Python function `f(x, y)` with two arguments and returns a curried version.\n",
    "\n",
    "That is, `g = curry2(f)` the result of `f(x, y)` and `g(x)(y)` should return the same result."
   ],
   "cell_type": "markdown",
   "metadata": {}
  },
  {
   "source": [
    "Currying is the process of transforming a function that takes multiple arguments in a function that takes a single argument and returns another function which accepts further arguments, one by one, that the original function would receive.\n",
    "\n",
    "In our case, we have a function `f(x, y)` that receives two arguments. Therefore, we'll use *currying* to transform it into `g(x)(y)`.\n",
    "\n",
    "Let's do it in Python:"
   ],
   "cell_type": "markdown",
   "metadata": {}
  },
  {
   "cell_type": "code",
   "execution_count": 15,
   "metadata": {},
   "outputs": [
    {
     "output_type": "stream",
     "name": "stdout",
     "text": [
      "(2, 4, 6)\n(2, 4, 6)\n"
     ]
    }
   ],
   "source": [
    "# no currying\n",
    "scale_by_2 = scale_by(2)\n",
    "print(scale_by_2((1, 2, 3)))\n",
    "\n",
    "\n",
    "def curry2(f):\n",
    "    def g(x):\n",
    "        def new_function(y):\n",
    "            return f(x, y)\n",
    "        return new_function\n",
    "    return g\n",
    "\n",
    "scale_by = curry2(scale)\n",
    "\n",
    "print(scale_by(2)((1, 2, 3)))"
   ]
  },
  {
   "source": [
    "## Exercise 4.8\n",
    "\n",
    "Without running it, what is the result of applying the transformation `compose(rotate_z_by(pi/2), rotate_x_by(pi/2))? What if you switch the order of the composition?"
   ],
   "cell_type": "markdown",
   "metadata": {}
  },
  {
   "source": [
    "The result will be the teapot rotated by the x-axis 90° towards us, so that we see the top part of the teapot, and then rotated 90° about the z-axis, so that the spout is looking down.\n",
    "\n",
    "Let's confirm:"
   ],
   "cell_type": "markdown",
   "metadata": {}
  },
  {
   "cell_type": "code",
   "execution_count": 16,
   "metadata": {},
   "outputs": [
    {
     "output_type": "error",
     "ename": "SystemExit",
     "evalue": "0",
     "traceback": [
      "An exception has occurred, use %tb to see the full traceback.\n",
      "\u001b[0;31mSystemExit\u001b[0m\u001b[0;31m:\u001b[0m 0\n"
     ]
    }
   ],
   "source": [
    "from teapot import load_triangles\n",
    "from draw_model_custom_impl import draw_model_anim\n",
    "from transformations_support import *\n",
    "from math import pi\n",
    "\n",
    "draw_model_anim(polygon_map(rotate_z_by(pi / 2.), load_triangles()))"
   ]
  },
  {
   "cell_type": "code",
   "execution_count": 1,
   "metadata": {},
   "outputs": [
    {
     "output_type": "stream",
     "name": "stdout",
     "text": [
      "pygame 1.9.6\nHello from the pygame community. https://www.pygame.org/contribute.html\n"
     ]
    },
    {
     "output_type": "error",
     "ename": "SystemExit",
     "evalue": "0",
     "traceback": [
      "An exception has occurred, use %tb to see the full traceback.\n",
      "\u001b[0;31mSystemExit\u001b[0m\u001b[0;31m:\u001b[0m 0\n"
     ]
    }
   ],
   "source": [
    "from teapot import load_triangles\n",
    "from draw_model_custom_impl import draw_model_anim\n",
    "from transformations_support import *\n",
    "from math import pi\n",
    "\n",
    "draw_model_anim(polygon_map(rotate_x_by(pi / 2.), load_triangles()))"
   ]
  },
  {
   "cell_type": "code",
   "execution_count": 17,
   "metadata": {},
   "outputs": [
    {
     "output_type": "error",
     "ename": "SystemExit",
     "evalue": "0",
     "traceback": [
      "An exception has occurred, use %tb to see the full traceback.\n",
      "\u001b[0;31mSystemExit\u001b[0m\u001b[0;31m:\u001b[0m 0\n"
     ]
    }
   ],
   "source": [
    "from teapot import load_triangles\n",
    "from draw_model_custom_impl import draw_model_anim\n",
    "from transformations_support import *\n",
    "from math import pi\n",
    "\n",
    "draw_model_anim(polygon_map(compose(rotate_z_by(pi / 2.), rotate_x_by(pi / 2.)), load_triangles()))"
   ]
  },
  {
   "source": [
    "If we apply the reverse composition, the spout will be in our direction:"
   ],
   "cell_type": "markdown",
   "metadata": {}
  },
  {
   "cell_type": "code",
   "execution_count": 18,
   "metadata": {},
   "outputs": [
    {
     "output_type": "error",
     "ename": "SystemExit",
     "evalue": "0",
     "traceback": [
      "An exception has occurred, use %tb to see the full traceback.\n",
      "\u001b[0;31mSystemExit\u001b[0m\u001b[0;31m:\u001b[0m 0\n"
     ]
    }
   ],
   "source": [
    "from teapot import load_triangles\n",
    "from draw_model_custom_impl import draw_model_anim\n",
    "from transformations_support import *\n",
    "from math import pi\n",
    "\n",
    "draw_model_anim(polygon_map(compose(rotate_x_by(pi / 2.), rotate_z_by(pi / 2.)), load_triangles()))"
   ]
  },
  {
   "source": [
    "## Exercise 4.9\n",
    "\n",
    "Write a function `stretch_x(scalar, vector)` that scales the target vector by the given factor, but only in the x direction.\n",
    "\n",
    "Also, write a curried version of `stretch_x_by(...)` so that `stretch_x_by(scalar)(vector)` returns the same result."
   ],
   "cell_type": "markdown",
   "metadata": {}
  },
  {
   "source": [
    "I'm already used to *currying* as seen in the previous example, without currying it would be:\n",
    "\n",
    "```python\n",
    "def stretch_x(scalar, vector):\n",
    "    ...\n",
    "```\n",
    "\n"
   ],
   "cell_type": "markdown",
   "metadata": {}
  },
  {
   "cell_type": "code",
   "execution_count": 19,
   "metadata": {},
   "outputs": [
    {
     "output_type": "error",
     "ename": "SystemExit",
     "evalue": "0",
     "traceback": [
      "An exception has occurred, use %tb to see the full traceback.\n",
      "\u001b[0;31mSystemExit\u001b[0m\u001b[0;31m:\u001b[0m 0\n"
     ]
    }
   ],
   "source": [
    "from teapot import load_triangles\n",
    "from draw_model_custom_impl import draw_model_anim\n",
    "from transformations_support import *\n",
    "\n",
    "# no currying\n",
    "\n",
    "def stretch_x(scalar, vector):\n",
    "    x, y, z = vector\n",
    "    return (scalar * x, y, z)\n",
    "\n",
    "transformed_triangles = [\n",
    "    [stretch_x(1.5, v) for v in triangle]\n",
    "    for triangle in load_triangles()\n",
    "]\n",
    "\n",
    "draw_model_anim(transformed_triangles)"
   ]
  },
  {
   "cell_type": "code",
   "execution_count": 20,
   "metadata": {},
   "outputs": [
    {
     "output_type": "error",
     "ename": "SystemExit",
     "evalue": "0",
     "traceback": [
      "An exception has occurred, use %tb to see the full traceback.\n",
      "\u001b[0;31mSystemExit\u001b[0m\u001b[0;31m:\u001b[0m 0\n"
     ]
    }
   ],
   "source": [
    "from teapot import load_triangles\n",
    "from draw_model_custom_impl import draw_model_anim\n",
    "from transformations_support import *\n",
    "\n",
    "def stretch_x(scalar):\n",
    "    def new_function(v):\n",
    "        x, y, z = v\n",
    "        return (scalar * x, y, z)\n",
    "    return new_function\n",
    "\n",
    "draw_model_anim(polygon_map(stretch_x(0.5), load_triangles()))\n"
   ]
  },
  {
   "source": [
    "## Exercise\n",
    "\n",
    "In the previous exercises, there is a mixture of implementations from the appendix, implementations from the book, and my implementations from the exercises and concepts.\n",
    "\n",
    "Create a project [e03 &mdash; my implementation](../e03-my-implementation/README.md) in which my implementations are used, instead of the ones given by the author."
   ],
   "cell_type": "markdown",
   "metadata": {}
  },
  {
   "source": [
    "It is done in the given directory."
   ],
   "cell_type": "markdown",
   "metadata": {}
  },
  {
   "source": [
    "## Exercise 4.10\n",
    "\n",
    "Considering $ S $ again as the vector transformation that squares the coordinates of the vector on which the transformation is applied, show algebraically that $ S(s \\cdot v) = s \\cdot S(v) $ does not hold for all choices of scalars $ s $ and 2D vectors $ v $."
   ],
   "cell_type": "markdown",
   "metadata": {}
  },
  {
   "source": [
    "$ \n",
    "S(v) = S((x, y)) = (x², y²) \\\\\n",
    "S(s \\cdot v) = S((s \\cdot x, s \\cdot y)) = ((s \\cdot x)², (s \\cdot y)²) \\\\\n",
    "= (s² \\cdot x², s² \\cdot y²) = s² \\cdot (x², y²) = s² \\cdot S((x, y)) \\\\\n",
    "= s² \\cdot S(v)\n",
    "$\n",
    "\n",
    "Therefore, $ S(s \\cdot v) \\ne s \\cdot S(v) $, but rather $ S(s \\cdot v) = s² \\cdot S(v) $\n",
    "\n",
    "As a counterexample, $ S(2 \\cdot (1, 1, 1)) = (4, 4, 4) \\ne (2, 2, 2) = 2 \\cdot S(1, 1, 1) $"
   ],
   "cell_type": "markdown",
   "metadata": {}
  },
  {
   "source": [
    "## Exercise 4.11\n",
    "\n",
    "Suppose $ T $ is a vector transformation and $ T(\\vec{0}) \\ne \\vec{0} $, where $ \\vec{0} $ represents the vector zero, that is, the vector with all coordinates equal to zero.\n",
    "\n",
    "Why is $ T $ not linear?"
   ],
   "cell_type": "markdown",
   "metadata": {}
  },
  {
   "source": [
    "Alebraically, $ w + \\vec{0}  = w $\n",
    "\n",
    "Therefore,\n",
    "\n",
    "$ T(w) = T(w + \\vec{0}) $\n",
    "\n",
    "If $ T $ were a linear transformation:\n",
    "\n",
    "$ T(w + \\vec{0}) = T(w) + T(\\vec{0}) $\n",
    "\n",
    "Then, using the first formula and applying it to the second:\n",
    "\n",
    "$ \n",
    "T(w + \\vec{0}) = T(w + \\vec{0}) + T(\\vec{0}) \\\\ \n",
    "\\vec{0} = T(\\vec{0})\n",
    "$\n",
    "\n",
    "which cannot be."
   ],
   "cell_type": "markdown",
   "metadata": {}
  },
  {
   "source": [
    "## Exercise 4.12\n",
    "\n",
    "The identity transformation is the vector transformation that returns the same vector it is passed. It is denoted as $ I $.\n",
    "\n",
    "Demonstrate that $ I $ is a linear transformation."
   ],
   "cell_type": "markdown",
   "metadata": {}
  },
  {
   "source": [
    "We know that a linear transformation preserves linear combinations.\n",
    "\n",
    "Therefore, it must fulfill:\n",
    "\n",
    "$ \n",
    "I(a \\cdot u + b \\cdot v) = a \\cdot I(u) + b \\cdot I(v) \n",
    "$\n",
    "\n",
    "As $ I(u) = u $ and $ I(v) = v $:\n",
    "$\n",
    "I(a \\cdot u + b \\cdot v) = a \\cdot u) + b \\cdot v = a \\cdot I(u) + b \\cdot I(v)\n",
    "$\n",
    "\n",
    "and therefore, preserves linear combination.\n",
    "\n",
    "| NOTE: |\n",
    "| :---- |\n",
    "| note that demonstrating that a transformation preserves a linear combination is enough to demonstrate it is a linear transformation because the sum of vectors is particular case of linear combination where $ a = b = 1 $ and scalar product is a particular case where $ b = 0 $. |"
   ],
   "cell_type": "markdown",
   "metadata": {}
  },
  {
   "source": [
    "## Exercise 4.13\n",
    "\n",
    "What is the midpoint between $ (5, 3) $ and $ (-2, 1) $. Plot all these three points to see that you are correct."
   ],
   "cell_type": "markdown",
   "metadata": {}
  },
  {
   "source": [
    "We saw in the concept section that the *midpoint* of the segment defined by two vectors is the transformation $ \\frac{1}{2} \\cdot (u + v) $.\n",
    "\n",
    "Therefore: $ P = (1.5, 2 ) $\n",
    "\n",
    "Let's confirm by plotting it:"
   ],
   "cell_type": "markdown",
   "metadata": {}
  },
  {
   "cell_type": "code",
   "execution_count": 8,
   "metadata": {},
   "outputs": [
    {
     "output_type": "display_data",
     "data": {
      "text/plain": "<Figure size 432x288 with 1 Axes>",
      "image/svg+xml": "<?xml version=\"1.0\" encoding=\"utf-8\" standalone=\"no\"?>\n<!DOCTYPE svg PUBLIC \"-//W3C//DTD SVG 1.1//EN\"\n  \"http://www.w3.org/Graphics/SVG/1.1/DTD/svg11.dtd\">\n<!-- Created with matplotlib (https://matplotlib.org/) -->\n<svg height=\"248.518125pt\" version=\"1.1\" viewBox=\"0 0 370.942187 248.518125\" width=\"370.942187pt\" xmlns=\"http://www.w3.org/2000/svg\" xmlns:xlink=\"http://www.w3.org/1999/xlink\">\n <defs>\n  <style type=\"text/css\">\n*{stroke-linecap:butt;stroke-linejoin:round;}\n  </style>\n </defs>\n <g id=\"figure_1\">\n  <g id=\"patch_1\">\n   <path d=\"M 0 248.518125 \nL 370.942187 248.518125 \nL 370.942187 0 \nL 0 0 \nz\n\" style=\"fill:none;\"/>\n  </g>\n  <g id=\"axes_1\">\n   <g id=\"patch_2\">\n    <path d=\"M 28.942188 224.64 \nL 363.742188 224.64 \nL 363.742188 7.2 \nL 28.942188 7.2 \nz\n\" style=\"fill:#ffffff;\"/>\n   </g>\n   <g id=\"matplotlib.axis_1\">\n    <g id=\"xtick_1\">\n     <g id=\"line2d_1\">\n      <path clip-path=\"url(#p7e47abc876)\" d=\"M 28.942188 224.64 \nL 28.942188 7.2 \n\" style=\"fill:none;stroke:#b0b0b0;stroke-linecap:square;stroke-width:0.8;\"/>\n     </g>\n     <g id=\"line2d_2\">\n      <defs>\n       <path d=\"M 0 0 \nL 0 3.5 \n\" id=\"m5a4da21e32\" style=\"stroke:#000000;stroke-width:0.8;\"/>\n      </defs>\n      <g>\n       <use style=\"stroke:#000000;stroke-width:0.8;\" x=\"28.942188\" xlink:href=\"#m5a4da21e32\" y=\"224.64\"/>\n      </g>\n     </g>\n     <g id=\"text_1\">\n      <!-- −3 -->\n      <defs>\n       <path d=\"M 10.59375 35.5 \nL 73.1875 35.5 \nL 73.1875 27.203125 \nL 10.59375 27.203125 \nz\n\" id=\"DejaVuSans-8722\"/>\n       <path d=\"M 40.578125 39.3125 \nQ 47.65625 37.796875 51.625 33 \nQ 55.609375 28.21875 55.609375 21.1875 \nQ 55.609375 10.40625 48.1875 4.484375 \nQ 40.765625 -1.421875 27.09375 -1.421875 \nQ 22.515625 -1.421875 17.65625 -0.515625 \nQ 12.796875 0.390625 7.625 2.203125 \nL 7.625 11.71875 \nQ 11.71875 9.328125 16.59375 8.109375 \nQ 21.484375 6.890625 26.8125 6.890625 \nQ 36.078125 6.890625 40.9375 10.546875 \nQ 45.796875 14.203125 45.796875 21.1875 \nQ 45.796875 27.640625 41.28125 31.265625 \nQ 36.765625 34.90625 28.71875 34.90625 \nL 20.21875 34.90625 \nL 20.21875 43.015625 \nL 29.109375 43.015625 \nQ 36.375 43.015625 40.234375 45.921875 \nQ 44.09375 48.828125 44.09375 54.296875 \nQ 44.09375 59.90625 40.109375 62.90625 \nQ 36.140625 65.921875 28.71875 65.921875 \nQ 24.65625 65.921875 20.015625 65.03125 \nQ 15.375 64.15625 9.8125 62.3125 \nL 9.8125 71.09375 \nQ 15.4375 72.65625 20.34375 73.4375 \nQ 25.25 74.21875 29.59375 74.21875 \nQ 40.828125 74.21875 47.359375 69.109375 \nQ 53.90625 64.015625 53.90625 55.328125 \nQ 53.90625 49.265625 50.4375 45.09375 \nQ 46.96875 40.921875 40.578125 39.3125 \nz\n\" id=\"DejaVuSans-51\"/>\n      </defs>\n      <g transform=\"translate(21.571094 239.238437)scale(0.1 -0.1)\">\n       <use xlink:href=\"#DejaVuSans-8722\"/>\n       <use x=\"83.789062\" xlink:href=\"#DejaVuSans-51\"/>\n      </g>\n     </g>\n    </g>\n    <g id=\"xtick_2\">\n     <g id=\"line2d_3\">\n      <path clip-path=\"url(#p7e47abc876)\" d=\"M 66.142188 224.64 \nL 66.142188 7.2 \n\" style=\"fill:none;stroke:#b0b0b0;stroke-linecap:square;stroke-width:0.8;\"/>\n     </g>\n     <g id=\"line2d_4\">\n      <g>\n       <use style=\"stroke:#000000;stroke-width:0.8;\" x=\"66.142188\" xlink:href=\"#m5a4da21e32\" y=\"224.64\"/>\n      </g>\n     </g>\n     <g id=\"text_2\">\n      <!-- −2 -->\n      <defs>\n       <path d=\"M 19.1875 8.296875 \nL 53.609375 8.296875 \nL 53.609375 0 \nL 7.328125 0 \nL 7.328125 8.296875 \nQ 12.9375 14.109375 22.625 23.890625 \nQ 32.328125 33.6875 34.8125 36.53125 \nQ 39.546875 41.84375 41.421875 45.53125 \nQ 43.3125 49.21875 43.3125 52.78125 \nQ 43.3125 58.59375 39.234375 62.25 \nQ 35.15625 65.921875 28.609375 65.921875 \nQ 23.96875 65.921875 18.8125 64.3125 \nQ 13.671875 62.703125 7.8125 59.421875 \nL 7.8125 69.390625 \nQ 13.765625 71.78125 18.9375 73 \nQ 24.125 74.21875 28.421875 74.21875 \nQ 39.75 74.21875 46.484375 68.546875 \nQ 53.21875 62.890625 53.21875 53.421875 \nQ 53.21875 48.921875 51.53125 44.890625 \nQ 49.859375 40.875 45.40625 35.40625 \nQ 44.1875 33.984375 37.640625 27.21875 \nQ 31.109375 20.453125 19.1875 8.296875 \nz\n\" id=\"DejaVuSans-50\"/>\n      </defs>\n      <g transform=\"translate(58.771094 239.238437)scale(0.1 -0.1)\">\n       <use xlink:href=\"#DejaVuSans-8722\"/>\n       <use x=\"83.789062\" xlink:href=\"#DejaVuSans-50\"/>\n      </g>\n     </g>\n    </g>\n    <g id=\"xtick_3\">\n     <g id=\"line2d_5\">\n      <path clip-path=\"url(#p7e47abc876)\" d=\"M 103.342188 224.64 \nL 103.342188 7.2 \n\" style=\"fill:none;stroke:#b0b0b0;stroke-linecap:square;stroke-width:0.8;\"/>\n     </g>\n     <g id=\"line2d_6\">\n      <g>\n       <use style=\"stroke:#000000;stroke-width:0.8;\" x=\"103.342188\" xlink:href=\"#m5a4da21e32\" y=\"224.64\"/>\n      </g>\n     </g>\n     <g id=\"text_3\">\n      <!-- −1 -->\n      <defs>\n       <path d=\"M 12.40625 8.296875 \nL 28.515625 8.296875 \nL 28.515625 63.921875 \nL 10.984375 60.40625 \nL 10.984375 69.390625 \nL 28.421875 72.90625 \nL 38.28125 72.90625 \nL 38.28125 8.296875 \nL 54.390625 8.296875 \nL 54.390625 0 \nL 12.40625 0 \nz\n\" id=\"DejaVuSans-49\"/>\n      </defs>\n      <g transform=\"translate(95.971094 239.238437)scale(0.1 -0.1)\">\n       <use xlink:href=\"#DejaVuSans-8722\"/>\n       <use x=\"83.789062\" xlink:href=\"#DejaVuSans-49\"/>\n      </g>\n     </g>\n    </g>\n    <g id=\"xtick_4\">\n     <g id=\"line2d_7\">\n      <path clip-path=\"url(#p7e47abc876)\" d=\"M 140.542188 224.64 \nL 140.542188 7.2 \n\" style=\"fill:none;stroke:#b0b0b0;stroke-linecap:square;stroke-width:0.8;\"/>\n     </g>\n     <g id=\"line2d_8\">\n      <g>\n       <use style=\"stroke:#000000;stroke-width:0.8;\" x=\"140.542188\" xlink:href=\"#m5a4da21e32\" y=\"224.64\"/>\n      </g>\n     </g>\n     <g id=\"text_4\">\n      <!-- 0 -->\n      <defs>\n       <path d=\"M 31.78125 66.40625 \nQ 24.171875 66.40625 20.328125 58.90625 \nQ 16.5 51.421875 16.5 36.375 \nQ 16.5 21.390625 20.328125 13.890625 \nQ 24.171875 6.390625 31.78125 6.390625 \nQ 39.453125 6.390625 43.28125 13.890625 \nQ 47.125 21.390625 47.125 36.375 \nQ 47.125 51.421875 43.28125 58.90625 \nQ 39.453125 66.40625 31.78125 66.40625 \nz\nM 31.78125 74.21875 \nQ 44.046875 74.21875 50.515625 64.515625 \nQ 56.984375 54.828125 56.984375 36.375 \nQ 56.984375 17.96875 50.515625 8.265625 \nQ 44.046875 -1.421875 31.78125 -1.421875 \nQ 19.53125 -1.421875 13.0625 8.265625 \nQ 6.59375 17.96875 6.59375 36.375 \nQ 6.59375 54.828125 13.0625 64.515625 \nQ 19.53125 74.21875 31.78125 74.21875 \nz\n\" id=\"DejaVuSans-48\"/>\n      </defs>\n      <g transform=\"translate(137.360938 239.238437)scale(0.1 -0.1)\">\n       <use xlink:href=\"#DejaVuSans-48\"/>\n      </g>\n     </g>\n    </g>\n    <g id=\"xtick_5\">\n     <g id=\"line2d_9\">\n      <path clip-path=\"url(#p7e47abc876)\" d=\"M 177.742188 224.64 \nL 177.742188 7.2 \n\" style=\"fill:none;stroke:#b0b0b0;stroke-linecap:square;stroke-width:0.8;\"/>\n     </g>\n     <g id=\"line2d_10\">\n      <g>\n       <use style=\"stroke:#000000;stroke-width:0.8;\" x=\"177.742188\" xlink:href=\"#m5a4da21e32\" y=\"224.64\"/>\n      </g>\n     </g>\n     <g id=\"text_5\">\n      <!-- 1 -->\n      <g transform=\"translate(174.560937 239.238437)scale(0.1 -0.1)\">\n       <use xlink:href=\"#DejaVuSans-49\"/>\n      </g>\n     </g>\n    </g>\n    <g id=\"xtick_6\">\n     <g id=\"line2d_11\">\n      <path clip-path=\"url(#p7e47abc876)\" d=\"M 214.942187 224.64 \nL 214.942187 7.2 \n\" style=\"fill:none;stroke:#b0b0b0;stroke-linecap:square;stroke-width:0.8;\"/>\n     </g>\n     <g id=\"line2d_12\">\n      <g>\n       <use style=\"stroke:#000000;stroke-width:0.8;\" x=\"214.942187\" xlink:href=\"#m5a4da21e32\" y=\"224.64\"/>\n      </g>\n     </g>\n     <g id=\"text_6\">\n      <!-- 2 -->\n      <g transform=\"translate(211.760937 239.238437)scale(0.1 -0.1)\">\n       <use xlink:href=\"#DejaVuSans-50\"/>\n      </g>\n     </g>\n    </g>\n    <g id=\"xtick_7\">\n     <g id=\"line2d_13\">\n      <path clip-path=\"url(#p7e47abc876)\" d=\"M 252.142188 224.64 \nL 252.142188 7.2 \n\" style=\"fill:none;stroke:#b0b0b0;stroke-linecap:square;stroke-width:0.8;\"/>\n     </g>\n     <g id=\"line2d_14\">\n      <g>\n       <use style=\"stroke:#000000;stroke-width:0.8;\" x=\"252.142188\" xlink:href=\"#m5a4da21e32\" y=\"224.64\"/>\n      </g>\n     </g>\n     <g id=\"text_7\">\n      <!-- 3 -->\n      <g transform=\"translate(248.960938 239.238437)scale(0.1 -0.1)\">\n       <use xlink:href=\"#DejaVuSans-51\"/>\n      </g>\n     </g>\n    </g>\n    <g id=\"xtick_8\">\n     <g id=\"line2d_15\">\n      <path clip-path=\"url(#p7e47abc876)\" d=\"M 289.342188 224.64 \nL 289.342188 7.2 \n\" style=\"fill:none;stroke:#b0b0b0;stroke-linecap:square;stroke-width:0.8;\"/>\n     </g>\n     <g id=\"line2d_16\">\n      <g>\n       <use style=\"stroke:#000000;stroke-width:0.8;\" x=\"289.342188\" xlink:href=\"#m5a4da21e32\" y=\"224.64\"/>\n      </g>\n     </g>\n     <g id=\"text_8\">\n      <!-- 4 -->\n      <defs>\n       <path d=\"M 37.796875 64.3125 \nL 12.890625 25.390625 \nL 37.796875 25.390625 \nz\nM 35.203125 72.90625 \nL 47.609375 72.90625 \nL 47.609375 25.390625 \nL 58.015625 25.390625 \nL 58.015625 17.1875 \nL 47.609375 17.1875 \nL 47.609375 0 \nL 37.796875 0 \nL 37.796875 17.1875 \nL 4.890625 17.1875 \nL 4.890625 26.703125 \nz\n\" id=\"DejaVuSans-52\"/>\n      </defs>\n      <g transform=\"translate(286.160938 239.238437)scale(0.1 -0.1)\">\n       <use xlink:href=\"#DejaVuSans-52\"/>\n      </g>\n     </g>\n    </g>\n    <g id=\"xtick_9\">\n     <g id=\"line2d_17\">\n      <path clip-path=\"url(#p7e47abc876)\" d=\"M 326.542187 224.64 \nL 326.542187 7.2 \n\" style=\"fill:none;stroke:#b0b0b0;stroke-linecap:square;stroke-width:0.8;\"/>\n     </g>\n     <g id=\"line2d_18\">\n      <g>\n       <use style=\"stroke:#000000;stroke-width:0.8;\" x=\"326.542187\" xlink:href=\"#m5a4da21e32\" y=\"224.64\"/>\n      </g>\n     </g>\n     <g id=\"text_9\">\n      <!-- 5 -->\n      <defs>\n       <path d=\"M 10.796875 72.90625 \nL 49.515625 72.90625 \nL 49.515625 64.59375 \nL 19.828125 64.59375 \nL 19.828125 46.734375 \nQ 21.96875 47.46875 24.109375 47.828125 \nQ 26.265625 48.1875 28.421875 48.1875 \nQ 40.625 48.1875 47.75 41.5 \nQ 54.890625 34.8125 54.890625 23.390625 \nQ 54.890625 11.625 47.5625 5.09375 \nQ 40.234375 -1.421875 26.90625 -1.421875 \nQ 22.3125 -1.421875 17.546875 -0.640625 \nQ 12.796875 0.140625 7.71875 1.703125 \nL 7.71875 11.625 \nQ 12.109375 9.234375 16.796875 8.0625 \nQ 21.484375 6.890625 26.703125 6.890625 \nQ 35.15625 6.890625 40.078125 11.328125 \nQ 45.015625 15.765625 45.015625 23.390625 \nQ 45.015625 31 40.078125 35.4375 \nQ 35.15625 39.890625 26.703125 39.890625 \nQ 22.75 39.890625 18.8125 39.015625 \nQ 14.890625 38.140625 10.796875 36.28125 \nz\n\" id=\"DejaVuSans-53\"/>\n      </defs>\n      <g transform=\"translate(323.360937 239.238437)scale(0.1 -0.1)\">\n       <use xlink:href=\"#DejaVuSans-53\"/>\n      </g>\n     </g>\n    </g>\n   </g>\n   <g id=\"matplotlib.axis_2\">\n    <g id=\"ytick_1\">\n     <g id=\"line2d_19\">\n      <path clip-path=\"url(#p7e47abc876)\" d=\"M 28.942188 224.64 \nL 363.742188 224.64 \n\" style=\"fill:none;stroke:#b0b0b0;stroke-linecap:square;stroke-width:0.8;\"/>\n     </g>\n     <g id=\"line2d_20\">\n      <defs>\n       <path d=\"M 0 0 \nL -3.5 0 \n\" id=\"m50cb839d2b\" style=\"stroke:#000000;stroke-width:0.8;\"/>\n      </defs>\n      <g>\n       <use style=\"stroke:#000000;stroke-width:0.8;\" x=\"28.942188\" xlink:href=\"#m50cb839d2b\" y=\"224.64\"/>\n      </g>\n     </g>\n     <g id=\"text_10\">\n      <!-- −1 -->\n      <g transform=\"translate(7.2 228.439219)scale(0.1 -0.1)\">\n       <use xlink:href=\"#DejaVuSans-8722\"/>\n       <use x=\"83.789062\" xlink:href=\"#DejaVuSans-49\"/>\n      </g>\n     </g>\n    </g>\n    <g id=\"ytick_2\">\n     <g id=\"line2d_21\">\n      <path clip-path=\"url(#p7e47abc876)\" d=\"M 28.942188 188.4 \nL 363.742188 188.4 \n\" style=\"fill:none;stroke:#b0b0b0;stroke-linecap:square;stroke-width:0.8;\"/>\n     </g>\n     <g id=\"line2d_22\">\n      <g>\n       <use style=\"stroke:#000000;stroke-width:0.8;\" x=\"28.942188\" xlink:href=\"#m50cb839d2b\" y=\"188.4\"/>\n      </g>\n     </g>\n     <g id=\"text_11\">\n      <!-- 0 -->\n      <g transform=\"translate(15.579688 192.199219)scale(0.1 -0.1)\">\n       <use xlink:href=\"#DejaVuSans-48\"/>\n      </g>\n     </g>\n    </g>\n    <g id=\"ytick_3\">\n     <g id=\"line2d_23\">\n      <path clip-path=\"url(#p7e47abc876)\" d=\"M 28.942188 152.16 \nL 363.742188 152.16 \n\" style=\"fill:none;stroke:#b0b0b0;stroke-linecap:square;stroke-width:0.8;\"/>\n     </g>\n     <g id=\"line2d_24\">\n      <g>\n       <use style=\"stroke:#000000;stroke-width:0.8;\" x=\"28.942188\" xlink:href=\"#m50cb839d2b\" y=\"152.16\"/>\n      </g>\n     </g>\n     <g id=\"text_12\">\n      <!-- 1 -->\n      <g transform=\"translate(15.579688 155.959219)scale(0.1 -0.1)\">\n       <use xlink:href=\"#DejaVuSans-49\"/>\n      </g>\n     </g>\n    </g>\n    <g id=\"ytick_4\">\n     <g id=\"line2d_25\">\n      <path clip-path=\"url(#p7e47abc876)\" d=\"M 28.942188 115.92 \nL 363.742188 115.92 \n\" style=\"fill:none;stroke:#b0b0b0;stroke-linecap:square;stroke-width:0.8;\"/>\n     </g>\n     <g id=\"line2d_26\">\n      <g>\n       <use style=\"stroke:#000000;stroke-width:0.8;\" x=\"28.942188\" xlink:href=\"#m50cb839d2b\" y=\"115.92\"/>\n      </g>\n     </g>\n     <g id=\"text_13\">\n      <!-- 2 -->\n      <g transform=\"translate(15.579688 119.719219)scale(0.1 -0.1)\">\n       <use xlink:href=\"#DejaVuSans-50\"/>\n      </g>\n     </g>\n    </g>\n    <g id=\"ytick_5\">\n     <g id=\"line2d_27\">\n      <path clip-path=\"url(#p7e47abc876)\" d=\"M 28.942188 79.68 \nL 363.742188 79.68 \n\" style=\"fill:none;stroke:#b0b0b0;stroke-linecap:square;stroke-width:0.8;\"/>\n     </g>\n     <g id=\"line2d_28\">\n      <g>\n       <use style=\"stroke:#000000;stroke-width:0.8;\" x=\"28.942188\" xlink:href=\"#m50cb839d2b\" y=\"79.68\"/>\n      </g>\n     </g>\n     <g id=\"text_14\">\n      <!-- 3 -->\n      <g transform=\"translate(15.579688 83.479219)scale(0.1 -0.1)\">\n       <use xlink:href=\"#DejaVuSans-51\"/>\n      </g>\n     </g>\n    </g>\n    <g id=\"ytick_6\">\n     <g id=\"line2d_29\">\n      <path clip-path=\"url(#p7e47abc876)\" d=\"M 28.942188 43.44 \nL 363.742188 43.44 \n\" style=\"fill:none;stroke:#b0b0b0;stroke-linecap:square;stroke-width:0.8;\"/>\n     </g>\n     <g id=\"line2d_30\">\n      <g>\n       <use style=\"stroke:#000000;stroke-width:0.8;\" x=\"28.942188\" xlink:href=\"#m50cb839d2b\" y=\"43.44\"/>\n      </g>\n     </g>\n     <g id=\"text_15\">\n      <!-- 4 -->\n      <g transform=\"translate(15.579688 47.239219)scale(0.1 -0.1)\">\n       <use xlink:href=\"#DejaVuSans-52\"/>\n      </g>\n     </g>\n    </g>\n   </g>\n   <g id=\"PathCollection_1\">\n    <defs>\n     <path d=\"M -3 3 \nL 3 -3 \nM -3 -3 \nL 3 3 \n\" id=\"mce9e7cda04\" style=\"stroke:#000000;stroke-width:1.5;\"/>\n    </defs>\n    <g clip-path=\"url(#p7e47abc876)\">\n     <use style=\"stroke:#000000;stroke-width:1.5;\" x=\"140.542188\" xlink:href=\"#mce9e7cda04\" y=\"188.4\"/>\n    </g>\n   </g>\n   <g id=\"PathCollection_2\">\n    <defs>\n     <path d=\"M 0 3 \nC 0.795609 3 1.55874 2.683901 2.12132 2.12132 \nC 2.683901 1.55874 3 0.795609 3 0 \nC 3 -0.795609 2.683901 -1.55874 2.12132 -2.12132 \nC 1.55874 -2.683901 0.795609 -3 0 -3 \nC -0.795609 -3 -1.55874 -2.683901 -2.12132 -2.12132 \nC -2.683901 -1.55874 -3 -0.795609 -3 0 \nC -3 0.795609 -2.683901 1.55874 -2.12132 2.12132 \nC -1.55874 2.683901 -0.795609 3 0 3 \nz\n\" id=\"m0df17cb100\" style=\"stroke:#d62728;\"/>\n    </defs>\n    <g clip-path=\"url(#p7e47abc876)\">\n     <use style=\"fill:#d62728;stroke:#d62728;\" x=\"326.542187\" xlink:href=\"#m0df17cb100\" y=\"79.68\"/>\n     <use style=\"fill:#d62728;stroke:#d62728;\" x=\"66.142188\" xlink:href=\"#m0df17cb100\" y=\"152.16\"/>\n     <use style=\"fill:#d62728;stroke:#d62728;\" x=\"196.342188\" xlink:href=\"#m0df17cb100\" y=\"115.92\"/>\n    </g>\n   </g>\n   <g id=\"patch_3\">\n    <path clip-path=\"url(#p7e47abc876)\" d=\"M 252.142187 43.44 \nL 246.562187 59.748 \nL 242.113067 56.497272 \nL 140.557067 188.410872 \nL 140.527308 188.389128 \nL 242.083307 56.475528 \nL 237.634187 53.2248 \nz\n\" style=\"fill:#ff7f0e;stroke:#ff7f0e;stroke-linejoin:miter;\"/>\n   </g>\n   <g id=\"patch_4\">\n    <path clip-path=\"url(#p7e47abc876)\" d=\"M 252.142188 43.44 \nL 269.610351 45.871053 \nL 267.123217 50.716952 \nL 326.550506 79.663793 \nL 326.533869 79.696207 \nL 267.106581 50.749366 \nL 264.619447 55.595266 \nz\n\" style=\"fill:#2ca02c;stroke:#2ca02c;stroke-linejoin:miter;\"/>\n   </g>\n   <g id=\"patch_5\">\n    <path clip-path=\"url(#p7e47abc876)\" d=\"M 252.142188 43.44 \nL 240.658642 56.491728 \nL 237.797326 51.845935 \nL 66.151757 152.175538 \nL 66.132618 152.144462 \nL 237.778186 51.814859 \nL 234.91687 47.169065 \nz\n\" style=\"fill:#1f77b4;stroke:#1f77b4;stroke-linejoin:miter;\"/>\n   </g>\n   <g id=\"patch_6\">\n    <path clip-path=\"url(#p7e47abc876)\" d=\"M 326.542187 79.68 \nL 315.058642 92.731728 \nL 312.197326 88.085935 \nL 140.551757 188.415538 \nL 140.532618 188.384462 \nL 312.178186 88.054859 \nL 309.31687 83.409065 \nz\n\" style=\"fill:#1f77b4;stroke:#1f77b4;stroke-linejoin:miter;\"/>\n   </g>\n   <g id=\"patch_7\">\n    <path clip-path=\"url(#p7e47abc876)\" d=\"M 66.142188 152.16 \nL 83.610351 154.591053 \nL 81.123217 159.436952 \nL 140.550506 188.383793 \nL 140.533869 188.416207 \nL 81.106581 159.469366 \nL 78.619447 164.315266 \nz\n\" style=\"fill:#2ca02c;stroke:#2ca02c;stroke-linejoin:miter;\"/>\n   </g>\n   <g id=\"patch_8\">\n    <path clip-path=\"url(#p7e47abc876)\" d=\"M 196.342188 115.92 \nL 190.762188 132.228 \nL 186.313067 128.977272 \nL 140.557068 188.410872 \nL 140.527308 188.389128 \nL 186.283308 128.955528 \nL 181.834187 125.7048 \nz\n\" style=\"fill:#9467bd;stroke:#9467bd;stroke-linejoin:miter;\"/>\n   </g>\n   <g id=\"line2d_31\">\n    <path clip-path=\"url(#p7e47abc876)\" d=\"M 28.942188 188.4 \nL 363.742188 188.4 \n\" style=\"fill:none;stroke:#000000;stroke-linecap:square;stroke-width:2;\"/>\n   </g>\n   <g id=\"line2d_32\">\n    <path clip-path=\"url(#p7e47abc876)\" d=\"M 140.542188 224.64 \nL 140.542188 7.2 \n\" style=\"fill:none;stroke:#000000;stroke-linecap:square;stroke-width:2;\"/>\n   </g>\n   <g id=\"line2d_33\">\n    <path clip-path=\"url(#p7e47abc876)\" d=\"M 326.542187 79.68 \nL 66.142188 152.16 \n\" style=\"fill:none;stroke:#000000;stroke-linecap:square;stroke-width:1.5;\"/>\n   </g>\n   <g id=\"patch_9\">\n    <path d=\"M 28.942188 224.64 \nL 28.942188 7.2 \n\" style=\"fill:none;stroke:#000000;stroke-linecap:square;stroke-linejoin:miter;stroke-width:0.8;\"/>\n   </g>\n   <g id=\"patch_10\">\n    <path d=\"M 363.742188 224.64 \nL 363.742188 7.2 \n\" style=\"fill:none;stroke:#000000;stroke-linecap:square;stroke-linejoin:miter;stroke-width:0.8;\"/>\n   </g>\n   <g id=\"patch_11\">\n    <path d=\"M 28.942188 224.64 \nL 363.742188 224.64 \n\" style=\"fill:none;stroke:#000000;stroke-linecap:square;stroke-linejoin:miter;stroke-width:0.8;\"/>\n   </g>\n   <g id=\"patch_12\">\n    <path d=\"M 28.942188 7.2 \nL 363.742188 7.2 \n\" style=\"fill:none;stroke:#000000;stroke-linecap:square;stroke-linejoin:miter;stroke-width:0.8;\"/>\n   </g>\n  </g>\n </g>\n <defs>\n  <clipPath id=\"p7e47abc876\">\n   <rect height=\"217.44\" width=\"334.8\" x=\"28.942188\" y=\"7.2\"/>\n  </clipPath>\n </defs>\n</svg>\n",
      "image/png": "[encoded data removed]"
     },
     "metadata": {
      "needs_background": "light"
     }
    }
   ],
   "source": [
    "from my_draw2d import *\n",
    "from vectors_my_implementation import *\n",
    "\n",
    "u = (5, 3)\n",
    "v = (-2, 1)\n",
    "midpoint = scale(0.5, add(u, v))\n",
    "\n",
    "draw2d(\n",
    "    Arrow2D(add(u, v), color=orange),\n",
    "    Arrow2D(add(u, v), u, color=green),\n",
    "    Arrow2D(add(u, v), v, color=blue),\n",
    "    Segment2D(u, v, color=black),\n",
    "    Points2D(u, v, midpoint, color=red),\n",
    "    Arrow2D(u, color=blue),\n",
    "    Arrow2D(v, color=green),\n",
    "    Arrow2D(midpoint, color=purple)\n",
    "\n",
    ")\n",
    "\n",
    "\n"
   ]
  },
  {
   "source": [
    "## Exercise 4.14\n",
    "\n",
    "Consider again the non-linear transformation $ S(v) = S((x, y)) = (x², y² ) $.\n",
    "\n",
    "Plot all 36 vectors v with integer coordinates from 0 to 5 as points, and then plot the result of applying $ S(v) $ for each of them. What happens geometrically to vectors under the action of S?"
   ],
   "cell_type": "markdown",
   "metadata": {}
  },
  {
   "cell_type": "code",
   "execution_count": 10,
   "metadata": {},
   "outputs": [
    {
     "output_type": "display_data",
     "data": {
      "text/plain": "<Figure size 432x432 with 1 Axes>",
      "image/svg+xml": "<?xml version=\"1.0\" encoding=\"utf-8\" standalone=\"no\"?>\n<!DOCTYPE svg PUBLIC \"-//W3C//DTD SVG 1.1//EN\"\n  \"http://www.w3.org/Graphics/SVG/1.1/DTD/svg11.dtd\">\n<!-- Created with matplotlib (https://matplotlib.org/) -->\n<svg height=\"357.238125pt\" version=\"1.1\" viewBox=\"0 0 370.942187 357.238125\" width=\"370.942187pt\" xmlns=\"http://www.w3.org/2000/svg\" xmlns:xlink=\"http://www.w3.org/1999/xlink\">\n <defs>\n  <style type=\"text/css\">\n*{stroke-linecap:butt;stroke-linejoin:round;}\n  </style>\n </defs>\n <g id=\"figure_1\">\n  <g id=\"patch_1\">\n   <path d=\"M 0 357.238125 \nL 370.942187 357.238125 \nL 370.942187 0 \nL 0 0 \nz\n\" style=\"fill:none;\"/>\n  </g>\n  <g id=\"axes_1\">\n   <g id=\"patch_2\">\n    <path d=\"M 28.942188 333.36 \nL 363.742188 333.36 \nL 363.742188 7.2 \nL 28.942188 7.2 \nz\n\" style=\"fill:#ffffff;\"/>\n   </g>\n   <g id=\"matplotlib.axis_1\">\n    <g id=\"xtick_1\">\n     <g id=\"line2d_1\">\n      <path clip-path=\"url(#pfb9bdf7fd0)\" d=\"M 28.942188 333.36 \nL 28.942188 7.2 \n\" style=\"fill:none;stroke:#b0b0b0;stroke-linecap:square;stroke-width:0.8;\"/>\n     </g>\n     <g id=\"line2d_2\">\n      <defs>\n       <path d=\"M 0 0 \nL 0 3.5 \n\" id=\"m1f70cdee40\" style=\"stroke:#000000;stroke-width:0.8;\"/>\n      </defs>\n      <g>\n       <use style=\"stroke:#000000;stroke-width:0.8;\" x=\"28.942188\" xlink:href=\"#m1f70cdee40\" y=\"333.36\"/>\n      </g>\n     </g>\n     <g id=\"text_1\">\n      <!-- −2 -->\n      <defs>\n       <path d=\"M 10.59375 35.5 \nL 73.1875 35.5 \nL 73.1875 27.203125 \nL 10.59375 27.203125 \nz\n\" id=\"DejaVuSans-8722\"/>\n       <path d=\"M 19.1875 8.296875 \nL 53.609375 8.296875 \nL 53.609375 0 \nL 7.328125 0 \nL 7.328125 8.296875 \nQ 12.9375 14.109375 22.625 23.890625 \nQ 32.328125 33.6875 34.8125 36.53125 \nQ 39.546875 41.84375 41.421875 45.53125 \nQ 43.3125 49.21875 43.3125 52.78125 \nQ 43.3125 58.59375 39.234375 62.25 \nQ 35.15625 65.921875 28.609375 65.921875 \nQ 23.96875 65.921875 18.8125 64.3125 \nQ 13.671875 62.703125 7.8125 59.421875 \nL 7.8125 69.390625 \nQ 13.765625 71.78125 18.9375 73 \nQ 24.125 74.21875 28.421875 74.21875 \nQ 39.75 74.21875 46.484375 68.546875 \nQ 53.21875 62.890625 53.21875 53.421875 \nQ 53.21875 48.921875 51.53125 44.890625 \nQ 49.859375 40.875 45.40625 35.40625 \nQ 44.1875 33.984375 37.640625 27.21875 \nQ 31.109375 20.453125 19.1875 8.296875 \nz\n\" id=\"DejaVuSans-50\"/>\n      </defs>\n      <g transform=\"translate(21.571094 347.958438)scale(0.1 -0.1)\">\n       <use xlink:href=\"#DejaVuSans-8722\"/>\n       <use x=\"83.789062\" xlink:href=\"#DejaVuSans-50\"/>\n      </g>\n     </g>\n    </g>\n    <g id=\"xtick_2\">\n     <g id=\"line2d_3\">\n      <path clip-path=\"url(#pfb9bdf7fd0)\" d=\"M 40.487015 333.36 \nL 40.487015 7.2 \n\" style=\"fill:none;stroke:#b0b0b0;stroke-linecap:square;stroke-width:0.8;\"/>\n     </g>\n     <g id=\"line2d_4\">\n      <g>\n       <use style=\"stroke:#000000;stroke-width:0.8;\" x=\"40.487015\" xlink:href=\"#m1f70cdee40\" y=\"333.36\"/>\n      </g>\n     </g>\n     <g id=\"text_2\">\n      <!-- −1 -->\n      <defs>\n       <path d=\"M 12.40625 8.296875 \nL 28.515625 8.296875 \nL 28.515625 63.921875 \nL 10.984375 60.40625 \nL 10.984375 69.390625 \nL 28.421875 72.90625 \nL 38.28125 72.90625 \nL 38.28125 8.296875 \nL 54.390625 8.296875 \nL 54.390625 0 \nL 12.40625 0 \nz\n\" id=\"DejaVuSans-49\"/>\n      </defs>\n      <g transform=\"translate(33.115921 347.958438)scale(0.1 -0.1)\">\n       <use xlink:href=\"#DejaVuSans-8722\"/>\n       <use x=\"83.789062\" xlink:href=\"#DejaVuSans-49\"/>\n      </g>\n     </g>\n    </g>\n    <g id=\"xtick_3\">\n     <g id=\"line2d_5\">\n      <path clip-path=\"url(#pfb9bdf7fd0)\" d=\"M 52.031843 333.36 \nL 52.031843 7.2 \n\" style=\"fill:none;stroke:#b0b0b0;stroke-linecap:square;stroke-width:0.8;\"/>\n     </g>\n     <g id=\"line2d_6\">\n      <g>\n       <use style=\"stroke:#000000;stroke-width:0.8;\" x=\"52.031843\" xlink:href=\"#m1f70cdee40\" y=\"333.36\"/>\n      </g>\n     </g>\n     <g id=\"text_3\">\n      <!-- 0 -->\n      <defs>\n       <path d=\"M 31.78125 66.40625 \nQ 24.171875 66.40625 20.328125 58.90625 \nQ 16.5 51.421875 16.5 36.375 \nQ 16.5 21.390625 20.328125 13.890625 \nQ 24.171875 6.390625 31.78125 6.390625 \nQ 39.453125 6.390625 43.28125 13.890625 \nQ 47.125 21.390625 47.125 36.375 \nQ 47.125 51.421875 43.28125 58.90625 \nQ 39.453125 66.40625 31.78125 66.40625 \nz\nM 31.78125 74.21875 \nQ 44.046875 74.21875 50.515625 64.515625 \nQ 56.984375 54.828125 56.984375 36.375 \nQ 56.984375 17.96875 50.515625 8.265625 \nQ 44.046875 -1.421875 31.78125 -1.421875 \nQ 19.53125 -1.421875 13.0625 8.265625 \nQ 6.59375 17.96875 6.59375 36.375 \nQ 6.59375 54.828125 13.0625 64.515625 \nQ 19.53125 74.21875 31.78125 74.21875 \nz\n\" id=\"DejaVuSans-48\"/>\n      </defs>\n      <g transform=\"translate(48.850593 347.958438)scale(0.1 -0.1)\">\n       <use xlink:href=\"#DejaVuSans-48\"/>\n      </g>\n     </g>\n    </g>\n    <g id=\"xtick_4\">\n     <g id=\"line2d_7\">\n      <path clip-path=\"url(#pfb9bdf7fd0)\" d=\"M 63.57667 333.36 \nL 63.57667 7.2 \n\" style=\"fill:none;stroke:#b0b0b0;stroke-linecap:square;stroke-width:0.8;\"/>\n     </g>\n     <g id=\"line2d_8\">\n      <g>\n       <use style=\"stroke:#000000;stroke-width:0.8;\" x=\"63.57667\" xlink:href=\"#m1f70cdee40\" y=\"333.36\"/>\n      </g>\n     </g>\n     <g id=\"text_4\">\n      <!-- 1 -->\n      <g transform=\"translate(60.39542 347.958438)scale(0.1 -0.1)\">\n       <use xlink:href=\"#DejaVuSans-49\"/>\n      </g>\n     </g>\n    </g>\n    <g id=\"xtick_5\">\n     <g id=\"line2d_9\">\n      <path clip-path=\"url(#pfb9bdf7fd0)\" d=\"M 75.121498 333.36 \nL 75.121498 7.2 \n\" style=\"fill:none;stroke:#b0b0b0;stroke-linecap:square;stroke-width:0.8;\"/>\n     </g>\n     <g id=\"line2d_10\">\n      <g>\n       <use style=\"stroke:#000000;stroke-width:0.8;\" x=\"75.121498\" xlink:href=\"#m1f70cdee40\" y=\"333.36\"/>\n      </g>\n     </g>\n     <g id=\"text_5\">\n      <!-- 2 -->\n      <g transform=\"translate(71.940248 347.958438)scale(0.1 -0.1)\">\n       <use xlink:href=\"#DejaVuSans-50\"/>\n      </g>\n     </g>\n    </g>\n    <g id=\"xtick_6\">\n     <g id=\"line2d_11\">\n      <path clip-path=\"url(#pfb9bdf7fd0)\" d=\"M 86.666325 333.36 \nL 86.666325 7.2 \n\" style=\"fill:none;stroke:#b0b0b0;stroke-linecap:square;stroke-width:0.8;\"/>\n     </g>\n     <g id=\"line2d_12\">\n      <g>\n       <use style=\"stroke:#000000;stroke-width:0.8;\" x=\"86.666325\" xlink:href=\"#m1f70cdee40\" y=\"333.36\"/>\n      </g>\n     </g>\n     <g id=\"text_6\">\n      <!-- 3 -->\n      <defs>\n       <path d=\"M 40.578125 39.3125 \nQ 47.65625 37.796875 51.625 33 \nQ 55.609375 28.21875 55.609375 21.1875 \nQ 55.609375 10.40625 48.1875 4.484375 \nQ 40.765625 -1.421875 27.09375 -1.421875 \nQ 22.515625 -1.421875 17.65625 -0.515625 \nQ 12.796875 0.390625 7.625 2.203125 \nL 7.625 11.71875 \nQ 11.71875 9.328125 16.59375 8.109375 \nQ 21.484375 6.890625 26.8125 6.890625 \nQ 36.078125 6.890625 40.9375 10.546875 \nQ 45.796875 14.203125 45.796875 21.1875 \nQ 45.796875 27.640625 41.28125 31.265625 \nQ 36.765625 34.90625 28.71875 34.90625 \nL 20.21875 34.90625 \nL 20.21875 43.015625 \nL 29.109375 43.015625 \nQ 36.375 43.015625 40.234375 45.921875 \nQ 44.09375 48.828125 44.09375 54.296875 \nQ 44.09375 59.90625 40.109375 62.90625 \nQ 36.140625 65.921875 28.71875 65.921875 \nQ 24.65625 65.921875 20.015625 65.03125 \nQ 15.375 64.15625 9.8125 62.3125 \nL 9.8125 71.09375 \nQ 15.4375 72.65625 20.34375 73.4375 \nQ 25.25 74.21875 29.59375 74.21875 \nQ 40.828125 74.21875 47.359375 69.109375 \nQ 53.90625 64.015625 53.90625 55.328125 \nQ 53.90625 49.265625 50.4375 45.09375 \nQ 46.96875 40.921875 40.578125 39.3125 \nz\n\" id=\"DejaVuSans-51\"/>\n      </defs>\n      <g transform=\"translate(83.485075 347.958438)scale(0.1 -0.1)\">\n       <use xlink:href=\"#DejaVuSans-51\"/>\n      </g>\n     </g>\n    </g>\n    <g id=\"xtick_7\">\n     <g id=\"line2d_13\">\n      <path clip-path=\"url(#pfb9bdf7fd0)\" d=\"M 98.211153 333.36 \nL 98.211153 7.2 \n\" style=\"fill:none;stroke:#b0b0b0;stroke-linecap:square;stroke-width:0.8;\"/>\n     </g>\n     <g id=\"line2d_14\">\n      <g>\n       <use style=\"stroke:#000000;stroke-width:0.8;\" x=\"98.211153\" xlink:href=\"#m1f70cdee40\" y=\"333.36\"/>\n      </g>\n     </g>\n     <g id=\"text_7\">\n      <!-- 4 -->\n      <defs>\n       <path d=\"M 37.796875 64.3125 \nL 12.890625 25.390625 \nL 37.796875 25.390625 \nz\nM 35.203125 72.90625 \nL 47.609375 72.90625 \nL 47.609375 25.390625 \nL 58.015625 25.390625 \nL 58.015625 17.1875 \nL 47.609375 17.1875 \nL 47.609375 0 \nL 37.796875 0 \nL 37.796875 17.1875 \nL 4.890625 17.1875 \nL 4.890625 26.703125 \nz\n\" id=\"DejaVuSans-52\"/>\n      </defs>\n      <g transform=\"translate(95.029903 347.958438)scale(0.1 -0.1)\">\n       <use xlink:href=\"#DejaVuSans-52\"/>\n      </g>\n     </g>\n    </g>\n    <g id=\"xtick_8\">\n     <g id=\"line2d_15\">\n      <path clip-path=\"url(#pfb9bdf7fd0)\" d=\"M 109.755981 333.36 \nL 109.755981 7.2 \n\" style=\"fill:none;stroke:#b0b0b0;stroke-linecap:square;stroke-width:0.8;\"/>\n     </g>\n     <g id=\"line2d_16\">\n      <g>\n       <use style=\"stroke:#000000;stroke-width:0.8;\" x=\"109.755981\" xlink:href=\"#m1f70cdee40\" y=\"333.36\"/>\n      </g>\n     </g>\n     <g id=\"text_8\">\n      <!-- 5 -->\n      <defs>\n       <path d=\"M 10.796875 72.90625 \nL 49.515625 72.90625 \nL 49.515625 64.59375 \nL 19.828125 64.59375 \nL 19.828125 46.734375 \nQ 21.96875 47.46875 24.109375 47.828125 \nQ 26.265625 48.1875 28.421875 48.1875 \nQ 40.625 48.1875 47.75 41.5 \nQ 54.890625 34.8125 54.890625 23.390625 \nQ 54.890625 11.625 47.5625 5.09375 \nQ 40.234375 -1.421875 26.90625 -1.421875 \nQ 22.3125 -1.421875 17.546875 -0.640625 \nQ 12.796875 0.140625 7.71875 1.703125 \nL 7.71875 11.625 \nQ 12.109375 9.234375 16.796875 8.0625 \nQ 21.484375 6.890625 26.703125 6.890625 \nQ 35.15625 6.890625 40.078125 11.328125 \nQ 45.015625 15.765625 45.015625 23.390625 \nQ 45.015625 31 40.078125 35.4375 \nQ 35.15625 39.890625 26.703125 39.890625 \nQ 22.75 39.890625 18.8125 39.015625 \nQ 14.890625 38.140625 10.796875 36.28125 \nz\n\" id=\"DejaVuSans-53\"/>\n      </defs>\n      <g transform=\"translate(106.574731 347.958438)scale(0.1 -0.1)\">\n       <use xlink:href=\"#DejaVuSans-53\"/>\n      </g>\n     </g>\n    </g>\n    <g id=\"xtick_9\">\n     <g id=\"line2d_17\">\n      <path clip-path=\"url(#pfb9bdf7fd0)\" d=\"M 121.300808 333.36 \nL 121.300808 7.2 \n\" style=\"fill:none;stroke:#b0b0b0;stroke-linecap:square;stroke-width:0.8;\"/>\n     </g>\n     <g id=\"line2d_18\">\n      <g>\n       <use style=\"stroke:#000000;stroke-width:0.8;\" x=\"121.300808\" xlink:href=\"#m1f70cdee40\" y=\"333.36\"/>\n      </g>\n     </g>\n     <g id=\"text_9\">\n      <!-- 6 -->\n      <defs>\n       <path d=\"M 33.015625 40.375 \nQ 26.375 40.375 22.484375 35.828125 \nQ 18.609375 31.296875 18.609375 23.390625 \nQ 18.609375 15.53125 22.484375 10.953125 \nQ 26.375 6.390625 33.015625 6.390625 \nQ 39.65625 6.390625 43.53125 10.953125 \nQ 47.40625 15.53125 47.40625 23.390625 \nQ 47.40625 31.296875 43.53125 35.828125 \nQ 39.65625 40.375 33.015625 40.375 \nz\nM 52.59375 71.296875 \nL 52.59375 62.3125 \nQ 48.875 64.0625 45.09375 64.984375 \nQ 41.3125 65.921875 37.59375 65.921875 \nQ 27.828125 65.921875 22.671875 59.328125 \nQ 17.53125 52.734375 16.796875 39.40625 \nQ 19.671875 43.65625 24.015625 45.921875 \nQ 28.375 48.1875 33.59375 48.1875 \nQ 44.578125 48.1875 50.953125 41.515625 \nQ 57.328125 34.859375 57.328125 23.390625 \nQ 57.328125 12.15625 50.6875 5.359375 \nQ 44.046875 -1.421875 33.015625 -1.421875 \nQ 20.359375 -1.421875 13.671875 8.265625 \nQ 6.984375 17.96875 6.984375 36.375 \nQ 6.984375 53.65625 15.1875 63.9375 \nQ 23.390625 74.21875 37.203125 74.21875 \nQ 40.921875 74.21875 44.703125 73.484375 \nQ 48.484375 72.75 52.59375 71.296875 \nz\n\" id=\"DejaVuSans-54\"/>\n      </defs>\n      <g transform=\"translate(118.119558 347.958438)scale(0.1 -0.1)\">\n       <use xlink:href=\"#DejaVuSans-54\"/>\n      </g>\n     </g>\n    </g>\n    <g id=\"xtick_10\">\n     <g id=\"line2d_19\">\n      <path clip-path=\"url(#pfb9bdf7fd0)\" d=\"M 132.845636 333.36 \nL 132.845636 7.2 \n\" style=\"fill:none;stroke:#b0b0b0;stroke-linecap:square;stroke-width:0.8;\"/>\n     </g>\n     <g id=\"line2d_20\">\n      <g>\n       <use style=\"stroke:#000000;stroke-width:0.8;\" x=\"132.845636\" xlink:href=\"#m1f70cdee40\" y=\"333.36\"/>\n      </g>\n     </g>\n     <g id=\"text_10\">\n      <!-- 7 -->\n      <defs>\n       <path d=\"M 8.203125 72.90625 \nL 55.078125 72.90625 \nL 55.078125 68.703125 \nL 28.609375 0 \nL 18.3125 0 \nL 43.21875 64.59375 \nL 8.203125 64.59375 \nz\n\" id=\"DejaVuSans-55\"/>\n      </defs>\n      <g transform=\"translate(129.664386 347.958438)scale(0.1 -0.1)\">\n       <use xlink:href=\"#DejaVuSans-55\"/>\n      </g>\n     </g>\n    </g>\n    <g id=\"xtick_11\">\n     <g id=\"line2d_21\">\n      <path clip-path=\"url(#pfb9bdf7fd0)\" d=\"M 144.390463 333.36 \nL 144.390463 7.2 \n\" style=\"fill:none;stroke:#b0b0b0;stroke-linecap:square;stroke-width:0.8;\"/>\n     </g>\n     <g id=\"line2d_22\">\n      <g>\n       <use style=\"stroke:#000000;stroke-width:0.8;\" x=\"144.390463\" xlink:href=\"#m1f70cdee40\" y=\"333.36\"/>\n      </g>\n     </g>\n     <g id=\"text_11\">\n      <!-- 8 -->\n      <defs>\n       <path d=\"M 31.78125 34.625 \nQ 24.75 34.625 20.71875 30.859375 \nQ 16.703125 27.09375 16.703125 20.515625 \nQ 16.703125 13.921875 20.71875 10.15625 \nQ 24.75 6.390625 31.78125 6.390625 \nQ 38.8125 6.390625 42.859375 10.171875 \nQ 46.921875 13.96875 46.921875 20.515625 \nQ 46.921875 27.09375 42.890625 30.859375 \nQ 38.875 34.625 31.78125 34.625 \nz\nM 21.921875 38.8125 \nQ 15.578125 40.375 12.03125 44.71875 \nQ 8.5 49.078125 8.5 55.328125 \nQ 8.5 64.0625 14.71875 69.140625 \nQ 20.953125 74.21875 31.78125 74.21875 \nQ 42.671875 74.21875 48.875 69.140625 \nQ 55.078125 64.0625 55.078125 55.328125 \nQ 55.078125 49.078125 51.53125 44.71875 \nQ 48 40.375 41.703125 38.8125 \nQ 48.828125 37.15625 52.796875 32.3125 \nQ 56.78125 27.484375 56.78125 20.515625 \nQ 56.78125 9.90625 50.3125 4.234375 \nQ 43.84375 -1.421875 31.78125 -1.421875 \nQ 19.734375 -1.421875 13.25 4.234375 \nQ 6.78125 9.90625 6.78125 20.515625 \nQ 6.78125 27.484375 10.78125 32.3125 \nQ 14.796875 37.15625 21.921875 38.8125 \nz\nM 18.3125 54.390625 \nQ 18.3125 48.734375 21.84375 45.5625 \nQ 25.390625 42.390625 31.78125 42.390625 \nQ 38.140625 42.390625 41.71875 45.5625 \nQ 45.3125 48.734375 45.3125 54.390625 \nQ 45.3125 60.0625 41.71875 63.234375 \nQ 38.140625 66.40625 31.78125 66.40625 \nQ 25.390625 66.40625 21.84375 63.234375 \nQ 18.3125 60.0625 18.3125 54.390625 \nz\n\" id=\"DejaVuSans-56\"/>\n      </defs>\n      <g transform=\"translate(141.209213 347.958438)scale(0.1 -0.1)\">\n       <use xlink:href=\"#DejaVuSans-56\"/>\n      </g>\n     </g>\n    </g>\n    <g id=\"xtick_12\">\n     <g id=\"line2d_23\">\n      <path clip-path=\"url(#pfb9bdf7fd0)\" d=\"M 155.935291 333.36 \nL 155.935291 7.2 \n\" style=\"fill:none;stroke:#b0b0b0;stroke-linecap:square;stroke-width:0.8;\"/>\n     </g>\n     <g id=\"line2d_24\">\n      <g>\n       <use style=\"stroke:#000000;stroke-width:0.8;\" x=\"155.935291\" xlink:href=\"#m1f70cdee40\" y=\"333.36\"/>\n      </g>\n     </g>\n     <g id=\"text_12\">\n      <!-- 9 -->\n      <defs>\n       <path d=\"M 10.984375 1.515625 \nL 10.984375 10.5 \nQ 14.703125 8.734375 18.5 7.8125 \nQ 22.3125 6.890625 25.984375 6.890625 \nQ 35.75 6.890625 40.890625 13.453125 \nQ 46.046875 20.015625 46.78125 33.40625 \nQ 43.953125 29.203125 39.59375 26.953125 \nQ 35.25 24.703125 29.984375 24.703125 \nQ 19.046875 24.703125 12.671875 31.3125 \nQ 6.296875 37.9375 6.296875 49.421875 \nQ 6.296875 60.640625 12.9375 67.421875 \nQ 19.578125 74.21875 30.609375 74.21875 \nQ 43.265625 74.21875 49.921875 64.515625 \nQ 56.59375 54.828125 56.59375 36.375 \nQ 56.59375 19.140625 48.40625 8.859375 \nQ 40.234375 -1.421875 26.421875 -1.421875 \nQ 22.703125 -1.421875 18.890625 -0.6875 \nQ 15.09375 0.046875 10.984375 1.515625 \nz\nM 30.609375 32.421875 \nQ 37.25 32.421875 41.125 36.953125 \nQ 45.015625 41.5 45.015625 49.421875 \nQ 45.015625 57.28125 41.125 61.84375 \nQ 37.25 66.40625 30.609375 66.40625 \nQ 23.96875 66.40625 20.09375 61.84375 \nQ 16.21875 57.28125 16.21875 49.421875 \nQ 16.21875 41.5 20.09375 36.953125 \nQ 23.96875 32.421875 30.609375 32.421875 \nz\n\" id=\"DejaVuSans-57\"/>\n      </defs>\n      <g transform=\"translate(152.754041 347.958438)scale(0.1 -0.1)\">\n       <use xlink:href=\"#DejaVuSans-57\"/>\n      </g>\n     </g>\n    </g>\n    <g id=\"xtick_13\">\n     <g id=\"line2d_25\">\n      <path clip-path=\"url(#pfb9bdf7fd0)\" d=\"M 167.480119 333.36 \nL 167.480119 7.2 \n\" style=\"fill:none;stroke:#b0b0b0;stroke-linecap:square;stroke-width:0.8;\"/>\n     </g>\n     <g id=\"line2d_26\">\n      <g>\n       <use style=\"stroke:#000000;stroke-width:0.8;\" x=\"167.480119\" xlink:href=\"#m1f70cdee40\" y=\"333.36\"/>\n      </g>\n     </g>\n     <g id=\"text_13\">\n      <!-- 10 -->\n      <g transform=\"translate(161.117619 347.958438)scale(0.1 -0.1)\">\n       <use xlink:href=\"#DejaVuSans-49\"/>\n       <use x=\"63.623047\" xlink:href=\"#DejaVuSans-48\"/>\n      </g>\n     </g>\n    </g>\n    <g id=\"xtick_14\">\n     <g id=\"line2d_27\">\n      <path clip-path=\"url(#pfb9bdf7fd0)\" d=\"M 179.024946 333.36 \nL 179.024946 7.2 \n\" style=\"fill:none;stroke:#b0b0b0;stroke-linecap:square;stroke-width:0.8;\"/>\n     </g>\n     <g id=\"line2d_28\">\n      <g>\n       <use style=\"stroke:#000000;stroke-width:0.8;\" x=\"179.024946\" xlink:href=\"#m1f70cdee40\" y=\"333.36\"/>\n      </g>\n     </g>\n     <g id=\"text_14\">\n      <!-- 11 -->\n      <g transform=\"translate(172.662446 347.958438)scale(0.1 -0.1)\">\n       <use xlink:href=\"#DejaVuSans-49\"/>\n       <use x=\"63.623047\" xlink:href=\"#DejaVuSans-49\"/>\n      </g>\n     </g>\n    </g>\n    <g id=\"xtick_15\">\n     <g id=\"line2d_29\">\n      <path clip-path=\"url(#pfb9bdf7fd0)\" d=\"M 190.569774 333.36 \nL 190.569774 7.2 \n\" style=\"fill:none;stroke:#b0b0b0;stroke-linecap:square;stroke-width:0.8;\"/>\n     </g>\n     <g id=\"line2d_30\">\n      <g>\n       <use style=\"stroke:#000000;stroke-width:0.8;\" x=\"190.569774\" xlink:href=\"#m1f70cdee40\" y=\"333.36\"/>\n      </g>\n     </g>\n     <g id=\"text_15\">\n      <!-- 12 -->\n      <g transform=\"translate(184.207274 347.958438)scale(0.1 -0.1)\">\n       <use xlink:href=\"#DejaVuSans-49\"/>\n       <use x=\"63.623047\" xlink:href=\"#DejaVuSans-50\"/>\n      </g>\n     </g>\n    </g>\n    <g id=\"xtick_16\">\n     <g id=\"line2d_31\">\n      <path clip-path=\"url(#pfb9bdf7fd0)\" d=\"M 202.114601 333.36 \nL 202.114601 7.2 \n\" style=\"fill:none;stroke:#b0b0b0;stroke-linecap:square;stroke-width:0.8;\"/>\n     </g>\n     <g id=\"line2d_32\">\n      <g>\n       <use style=\"stroke:#000000;stroke-width:0.8;\" x=\"202.114601\" xlink:href=\"#m1f70cdee40\" y=\"333.36\"/>\n      </g>\n     </g>\n     <g id=\"text_16\">\n      <!-- 13 -->\n      <g transform=\"translate(195.752101 347.958438)scale(0.1 -0.1)\">\n       <use xlink:href=\"#DejaVuSans-49\"/>\n       <use x=\"63.623047\" xlink:href=\"#DejaVuSans-51\"/>\n      </g>\n     </g>\n    </g>\n    <g id=\"xtick_17\">\n     <g id=\"line2d_33\">\n      <path clip-path=\"url(#pfb9bdf7fd0)\" d=\"M 213.659429 333.36 \nL 213.659429 7.2 \n\" style=\"fill:none;stroke:#b0b0b0;stroke-linecap:square;stroke-width:0.8;\"/>\n     </g>\n     <g id=\"line2d_34\">\n      <g>\n       <use style=\"stroke:#000000;stroke-width:0.8;\" x=\"213.659429\" xlink:href=\"#m1f70cdee40\" y=\"333.36\"/>\n      </g>\n     </g>\n     <g id=\"text_17\">\n      <!-- 14 -->\n      <g transform=\"translate(207.296929 347.958438)scale(0.1 -0.1)\">\n       <use xlink:href=\"#DejaVuSans-49\"/>\n       <use x=\"63.623047\" xlink:href=\"#DejaVuSans-52\"/>\n      </g>\n     </g>\n    </g>\n    <g id=\"xtick_18\">\n     <g id=\"line2d_35\">\n      <path clip-path=\"url(#pfb9bdf7fd0)\" d=\"M 225.204256 333.36 \nL 225.204256 7.2 \n\" style=\"fill:none;stroke:#b0b0b0;stroke-linecap:square;stroke-width:0.8;\"/>\n     </g>\n     <g id=\"line2d_36\">\n      <g>\n       <use style=\"stroke:#000000;stroke-width:0.8;\" x=\"225.204256\" xlink:href=\"#m1f70cdee40\" y=\"333.36\"/>\n      </g>\n     </g>\n     <g id=\"text_18\">\n      <!-- 15 -->\n      <g transform=\"translate(218.841756 347.958438)scale(0.1 -0.1)\">\n       <use xlink:href=\"#DejaVuSans-49\"/>\n       <use x=\"63.623047\" xlink:href=\"#DejaVuSans-53\"/>\n      </g>\n     </g>\n    </g>\n    <g id=\"xtick_19\">\n     <g id=\"line2d_37\">\n      <path clip-path=\"url(#pfb9bdf7fd0)\" d=\"M 236.749084 333.36 \nL 236.749084 7.2 \n\" style=\"fill:none;stroke:#b0b0b0;stroke-linecap:square;stroke-width:0.8;\"/>\n     </g>\n     <g id=\"line2d_38\">\n      <g>\n       <use style=\"stroke:#000000;stroke-width:0.8;\" x=\"236.749084\" xlink:href=\"#m1f70cdee40\" y=\"333.36\"/>\n      </g>\n     </g>\n     <g id=\"text_19\">\n      <!-- 16 -->\n      <g transform=\"translate(230.386584 347.958438)scale(0.1 -0.1)\">\n       <use xlink:href=\"#DejaVuSans-49\"/>\n       <use x=\"63.623047\" xlink:href=\"#DejaVuSans-54\"/>\n      </g>\n     </g>\n    </g>\n    <g id=\"xtick_20\">\n     <g id=\"line2d_39\">\n      <path clip-path=\"url(#pfb9bdf7fd0)\" d=\"M 248.293912 333.36 \nL 248.293912 7.2 \n\" style=\"fill:none;stroke:#b0b0b0;stroke-linecap:square;stroke-width:0.8;\"/>\n     </g>\n     <g id=\"line2d_40\">\n      <g>\n       <use style=\"stroke:#000000;stroke-width:0.8;\" x=\"248.293912\" xlink:href=\"#m1f70cdee40\" y=\"333.36\"/>\n      </g>\n     </g>\n     <g id=\"text_20\">\n      <!-- 17 -->\n      <g transform=\"translate(241.931412 347.958438)scale(0.1 -0.1)\">\n       <use xlink:href=\"#DejaVuSans-49\"/>\n       <use x=\"63.623047\" xlink:href=\"#DejaVuSans-55\"/>\n      </g>\n     </g>\n    </g>\n    <g id=\"xtick_21\">\n     <g id=\"line2d_41\">\n      <path clip-path=\"url(#pfb9bdf7fd0)\" d=\"M 259.838739 333.36 \nL 259.838739 7.2 \n\" style=\"fill:none;stroke:#b0b0b0;stroke-linecap:square;stroke-width:0.8;\"/>\n     </g>\n     <g id=\"line2d_42\">\n      <g>\n       <use style=\"stroke:#000000;stroke-width:0.8;\" x=\"259.838739\" xlink:href=\"#m1f70cdee40\" y=\"333.36\"/>\n      </g>\n     </g>\n     <g id=\"text_21\">\n      <!-- 18 -->\n      <g transform=\"translate(253.476239 347.958438)scale(0.1 -0.1)\">\n       <use xlink:href=\"#DejaVuSans-49\"/>\n       <use x=\"63.623047\" xlink:href=\"#DejaVuSans-56\"/>\n      </g>\n     </g>\n    </g>\n    <g id=\"xtick_22\">\n     <g id=\"line2d_43\">\n      <path clip-path=\"url(#pfb9bdf7fd0)\" d=\"M 271.383567 333.36 \nL 271.383567 7.2 \n\" style=\"fill:none;stroke:#b0b0b0;stroke-linecap:square;stroke-width:0.8;\"/>\n     </g>\n     <g id=\"line2d_44\">\n      <g>\n       <use style=\"stroke:#000000;stroke-width:0.8;\" x=\"271.383567\" xlink:href=\"#m1f70cdee40\" y=\"333.36\"/>\n      </g>\n     </g>\n     <g id=\"text_22\">\n      <!-- 19 -->\n      <g transform=\"translate(265.021067 347.958438)scale(0.1 -0.1)\">\n       <use xlink:href=\"#DejaVuSans-49\"/>\n       <use x=\"63.623047\" xlink:href=\"#DejaVuSans-57\"/>\n      </g>\n     </g>\n    </g>\n    <g id=\"xtick_23\">\n     <g id=\"line2d_45\">\n      <path clip-path=\"url(#pfb9bdf7fd0)\" d=\"M 282.928394 333.36 \nL 282.928394 7.2 \n\" style=\"fill:none;stroke:#b0b0b0;stroke-linecap:square;stroke-width:0.8;\"/>\n     </g>\n     <g id=\"line2d_46\">\n      <g>\n       <use style=\"stroke:#000000;stroke-width:0.8;\" x=\"282.928394\" xlink:href=\"#m1f70cdee40\" y=\"333.36\"/>\n      </g>\n     </g>\n     <g id=\"text_23\">\n      <!-- 20 -->\n      <g transform=\"translate(276.565894 347.958438)scale(0.1 -0.1)\">\n       <use xlink:href=\"#DejaVuSans-50\"/>\n       <use x=\"63.623047\" xlink:href=\"#DejaVuSans-48\"/>\n      </g>\n     </g>\n    </g>\n    <g id=\"xtick_24\">\n     <g id=\"line2d_47\">\n      <path clip-path=\"url(#pfb9bdf7fd0)\" d=\"M 294.473222 333.36 \nL 294.473222 7.2 \n\" style=\"fill:none;stroke:#b0b0b0;stroke-linecap:square;stroke-width:0.8;\"/>\n     </g>\n     <g id=\"line2d_48\">\n      <g>\n       <use style=\"stroke:#000000;stroke-width:0.8;\" x=\"294.473222\" xlink:href=\"#m1f70cdee40\" y=\"333.36\"/>\n      </g>\n     </g>\n     <g id=\"text_24\">\n      <!-- 21 -->\n      <g transform=\"translate(288.110722 347.958438)scale(0.1 -0.1)\">\n       <use xlink:href=\"#DejaVuSans-50\"/>\n       <use x=\"63.623047\" xlink:href=\"#DejaVuSans-49\"/>\n      </g>\n     </g>\n    </g>\n    <g id=\"xtick_25\">\n     <g id=\"line2d_49\">\n      <path clip-path=\"url(#pfb9bdf7fd0)\" d=\"M 306.01805 333.36 \nL 306.01805 7.2 \n\" style=\"fill:none;stroke:#b0b0b0;stroke-linecap:square;stroke-width:0.8;\"/>\n     </g>\n     <g id=\"line2d_50\">\n      <g>\n       <use style=\"stroke:#000000;stroke-width:0.8;\" x=\"306.01805\" xlink:href=\"#m1f70cdee40\" y=\"333.36\"/>\n      </g>\n     </g>\n     <g id=\"text_25\">\n      <!-- 22 -->\n      <g transform=\"translate(299.65555 347.958438)scale(0.1 -0.1)\">\n       <use xlink:href=\"#DejaVuSans-50\"/>\n       <use x=\"63.623047\" xlink:href=\"#DejaVuSans-50\"/>\n      </g>\n     </g>\n    </g>\n    <g id=\"xtick_26\">\n     <g id=\"line2d_51\">\n      <path clip-path=\"url(#pfb9bdf7fd0)\" d=\"M 317.562877 333.36 \nL 317.562877 7.2 \n\" style=\"fill:none;stroke:#b0b0b0;stroke-linecap:square;stroke-width:0.8;\"/>\n     </g>\n     <g id=\"line2d_52\">\n      <g>\n       <use style=\"stroke:#000000;stroke-width:0.8;\" x=\"317.562877\" xlink:href=\"#m1f70cdee40\" y=\"333.36\"/>\n      </g>\n     </g>\n     <g id=\"text_26\">\n      <!-- 23 -->\n      <g transform=\"translate(311.200377 347.958438)scale(0.1 -0.1)\">\n       <use xlink:href=\"#DejaVuSans-50\"/>\n       <use x=\"63.623047\" xlink:href=\"#DejaVuSans-51\"/>\n      </g>\n     </g>\n    </g>\n    <g id=\"xtick_27\">\n     <g id=\"line2d_53\">\n      <path clip-path=\"url(#pfb9bdf7fd0)\" d=\"M 329.107705 333.36 \nL 329.107705 7.2 \n\" style=\"fill:none;stroke:#b0b0b0;stroke-linecap:square;stroke-width:0.8;\"/>\n     </g>\n     <g id=\"line2d_54\">\n      <g>\n       <use style=\"stroke:#000000;stroke-width:0.8;\" x=\"329.107705\" xlink:href=\"#m1f70cdee40\" y=\"333.36\"/>\n      </g>\n     </g>\n     <g id=\"text_27\">\n      <!-- 24 -->\n      <g transform=\"translate(322.745205 347.958438)scale(0.1 -0.1)\">\n       <use xlink:href=\"#DejaVuSans-50\"/>\n       <use x=\"63.623047\" xlink:href=\"#DejaVuSans-52\"/>\n      </g>\n     </g>\n    </g>\n    <g id=\"xtick_28\">\n     <g id=\"line2d_55\">\n      <path clip-path=\"url(#pfb9bdf7fd0)\" d=\"M 340.652532 333.36 \nL 340.652532 7.2 \n\" style=\"fill:none;stroke:#b0b0b0;stroke-linecap:square;stroke-width:0.8;\"/>\n     </g>\n     <g id=\"line2d_56\">\n      <g>\n       <use style=\"stroke:#000000;stroke-width:0.8;\" x=\"340.652532\" xlink:href=\"#m1f70cdee40\" y=\"333.36\"/>\n      </g>\n     </g>\n     <g id=\"text_28\">\n      <!-- 25 -->\n      <g transform=\"translate(334.290032 347.958438)scale(0.1 -0.1)\">\n       <use xlink:href=\"#DejaVuSans-50\"/>\n       <use x=\"63.623047\" xlink:href=\"#DejaVuSans-53\"/>\n      </g>\n     </g>\n    </g>\n    <g id=\"xtick_29\">\n     <g id=\"line2d_57\">\n      <path clip-path=\"url(#pfb9bdf7fd0)\" d=\"M 352.19736 333.36 \nL 352.19736 7.2 \n\" style=\"fill:none;stroke:#b0b0b0;stroke-linecap:square;stroke-width:0.8;\"/>\n     </g>\n     <g id=\"line2d_58\">\n      <g>\n       <use style=\"stroke:#000000;stroke-width:0.8;\" x=\"352.19736\" xlink:href=\"#m1f70cdee40\" y=\"333.36\"/>\n      </g>\n     </g>\n     <g id=\"text_29\">\n      <!-- 26 -->\n      <g transform=\"translate(345.83486 347.958438)scale(0.1 -0.1)\">\n       <use xlink:href=\"#DejaVuSans-50\"/>\n       <use x=\"63.623047\" xlink:href=\"#DejaVuSans-54\"/>\n      </g>\n     </g>\n    </g>\n   </g>\n   <g id=\"matplotlib.axis_2\">\n    <g id=\"ytick_1\">\n     <g id=\"line2d_59\">\n      <path clip-path=\"url(#pfb9bdf7fd0)\" d=\"M 28.942188 333.36 \nL 363.742188 333.36 \n\" style=\"fill:none;stroke:#b0b0b0;stroke-linecap:square;stroke-width:0.8;\"/>\n     </g>\n     <g id=\"line2d_60\">\n      <defs>\n       <path d=\"M 0 0 \nL -3.5 0 \n\" id=\"m1b060e1dea\" style=\"stroke:#000000;stroke-width:0.8;\"/>\n      </defs>\n      <g>\n       <use style=\"stroke:#000000;stroke-width:0.8;\" x=\"28.942188\" xlink:href=\"#m1b060e1dea\" y=\"333.36\"/>\n      </g>\n     </g>\n     <g id=\"text_30\">\n      <!-- −2 -->\n      <g transform=\"translate(7.2 337.159219)scale(0.1 -0.1)\">\n       <use xlink:href=\"#DejaVuSans-8722\"/>\n       <use x=\"83.789062\" xlink:href=\"#DejaVuSans-50\"/>\n      </g>\n     </g>\n    </g>\n    <g id=\"ytick_2\">\n     <g id=\"line2d_61\">\n      <path clip-path=\"url(#pfb9bdf7fd0)\" d=\"M 28.942188 322.113103 \nL 363.742188 322.113103 \n\" style=\"fill:none;stroke:#b0b0b0;stroke-linecap:square;stroke-width:0.8;\"/>\n     </g>\n     <g id=\"line2d_62\">\n      <g>\n       <use style=\"stroke:#000000;stroke-width:0.8;\" x=\"28.942188\" xlink:href=\"#m1b060e1dea\" y=\"322.113103\"/>\n      </g>\n     </g>\n     <g id=\"text_31\">\n      <!-- −1 -->\n      <g transform=\"translate(7.2 325.912322)scale(0.1 -0.1)\">\n       <use xlink:href=\"#DejaVuSans-8722\"/>\n       <use x=\"83.789062\" xlink:href=\"#DejaVuSans-49\"/>\n      </g>\n     </g>\n    </g>\n    <g id=\"ytick_3\">\n     <g id=\"line2d_63\">\n      <path clip-path=\"url(#pfb9bdf7fd0)\" d=\"M 28.942188 310.866207 \nL 363.742188 310.866207 \n\" style=\"fill:none;stroke:#b0b0b0;stroke-linecap:square;stroke-width:0.8;\"/>\n     </g>\n     <g id=\"line2d_64\">\n      <g>\n       <use style=\"stroke:#000000;stroke-width:0.8;\" x=\"28.942188\" xlink:href=\"#m1b060e1dea\" y=\"310.866207\"/>\n      </g>\n     </g>\n     <g id=\"text_32\">\n      <!-- 0 -->\n      <g transform=\"translate(15.579688 314.665426)scale(0.1 -0.1)\">\n       <use xlink:href=\"#DejaVuSans-48\"/>\n      </g>\n     </g>\n    </g>\n    <g id=\"ytick_4\">\n     <g id=\"line2d_65\">\n      <path clip-path=\"url(#pfb9bdf7fd0)\" d=\"M 28.942188 299.61931 \nL 363.742188 299.61931 \n\" style=\"fill:none;stroke:#b0b0b0;stroke-linecap:square;stroke-width:0.8;\"/>\n     </g>\n     <g id=\"line2d_66\">\n      <g>\n       <use style=\"stroke:#000000;stroke-width:0.8;\" x=\"28.942188\" xlink:href=\"#m1b060e1dea\" y=\"299.61931\"/>\n      </g>\n     </g>\n     <g id=\"text_33\">\n      <!-- 1 -->\n      <g transform=\"translate(15.579688 303.418529)scale(0.1 -0.1)\">\n       <use xlink:href=\"#DejaVuSans-49\"/>\n      </g>\n     </g>\n    </g>\n    <g id=\"ytick_5\">\n     <g id=\"line2d_67\">\n      <path clip-path=\"url(#pfb9bdf7fd0)\" d=\"M 28.942188 288.372414 \nL 363.742188 288.372414 \n\" style=\"fill:none;stroke:#b0b0b0;stroke-linecap:square;stroke-width:0.8;\"/>\n     </g>\n     <g id=\"line2d_68\">\n      <g>\n       <use style=\"stroke:#000000;stroke-width:0.8;\" x=\"28.942188\" xlink:href=\"#m1b060e1dea\" y=\"288.372414\"/>\n      </g>\n     </g>\n     <g id=\"text_34\">\n      <!-- 2 -->\n      <g transform=\"translate(15.579688 292.171633)scale(0.1 -0.1)\">\n       <use xlink:href=\"#DejaVuSans-50\"/>\n      </g>\n     </g>\n    </g>\n    <g id=\"ytick_6\">\n     <g id=\"line2d_69\">\n      <path clip-path=\"url(#pfb9bdf7fd0)\" d=\"M 28.942188 277.125517 \nL 363.742188 277.125517 \n\" style=\"fill:none;stroke:#b0b0b0;stroke-linecap:square;stroke-width:0.8;\"/>\n     </g>\n     <g id=\"line2d_70\">\n      <g>\n       <use style=\"stroke:#000000;stroke-width:0.8;\" x=\"28.942188\" xlink:href=\"#m1b060e1dea\" y=\"277.125517\"/>\n      </g>\n     </g>\n     <g id=\"text_35\">\n      <!-- 3 -->\n      <g transform=\"translate(15.579688 280.924736)scale(0.1 -0.1)\">\n       <use xlink:href=\"#DejaVuSans-51\"/>\n      </g>\n     </g>\n    </g>\n    <g id=\"ytick_7\">\n     <g id=\"line2d_71\">\n      <path clip-path=\"url(#pfb9bdf7fd0)\" d=\"M 28.942188 265.878621 \nL 363.742188 265.878621 \n\" style=\"fill:none;stroke:#b0b0b0;stroke-linecap:square;stroke-width:0.8;\"/>\n     </g>\n     <g id=\"line2d_72\">\n      <g>\n       <use style=\"stroke:#000000;stroke-width:0.8;\" x=\"28.942188\" xlink:href=\"#m1b060e1dea\" y=\"265.878621\"/>\n      </g>\n     </g>\n     <g id=\"text_36\">\n      <!-- 4 -->\n      <g transform=\"translate(15.579688 269.677839)scale(0.1 -0.1)\">\n       <use xlink:href=\"#DejaVuSans-52\"/>\n      </g>\n     </g>\n    </g>\n    <g id=\"ytick_8\">\n     <g id=\"line2d_73\">\n      <path clip-path=\"url(#pfb9bdf7fd0)\" d=\"M 28.942188 254.631724 \nL 363.742188 254.631724 \n\" style=\"fill:none;stroke:#b0b0b0;stroke-linecap:square;stroke-width:0.8;\"/>\n     </g>\n     <g id=\"line2d_74\">\n      <g>\n       <use style=\"stroke:#000000;stroke-width:0.8;\" x=\"28.942188\" xlink:href=\"#m1b060e1dea\" y=\"254.631724\"/>\n      </g>\n     </g>\n     <g id=\"text_37\">\n      <!-- 5 -->\n      <g transform=\"translate(15.579688 258.430943)scale(0.1 -0.1)\">\n       <use xlink:href=\"#DejaVuSans-53\"/>\n      </g>\n     </g>\n    </g>\n    <g id=\"ytick_9\">\n     <g id=\"line2d_75\">\n      <path clip-path=\"url(#pfb9bdf7fd0)\" d=\"M 28.942188 243.384828 \nL 363.742188 243.384828 \n\" style=\"fill:none;stroke:#b0b0b0;stroke-linecap:square;stroke-width:0.8;\"/>\n     </g>\n     <g id=\"line2d_76\">\n      <g>\n       <use style=\"stroke:#000000;stroke-width:0.8;\" x=\"28.942188\" xlink:href=\"#m1b060e1dea\" y=\"243.384828\"/>\n      </g>\n     </g>\n     <g id=\"text_38\">\n      <!-- 6 -->\n      <g transform=\"translate(15.579688 247.184046)scale(0.1 -0.1)\">\n       <use xlink:href=\"#DejaVuSans-54\"/>\n      </g>\n     </g>\n    </g>\n    <g id=\"ytick_10\">\n     <g id=\"line2d_77\">\n      <path clip-path=\"url(#pfb9bdf7fd0)\" d=\"M 28.942188 232.137931 \nL 363.742188 232.137931 \n\" style=\"fill:none;stroke:#b0b0b0;stroke-linecap:square;stroke-width:0.8;\"/>\n     </g>\n     <g id=\"line2d_78\">\n      <g>\n       <use style=\"stroke:#000000;stroke-width:0.8;\" x=\"28.942188\" xlink:href=\"#m1b060e1dea\" y=\"232.137931\"/>\n      </g>\n     </g>\n     <g id=\"text_39\">\n      <!-- 7 -->\n      <g transform=\"translate(15.579688 235.93715)scale(0.1 -0.1)\">\n       <use xlink:href=\"#DejaVuSans-55\"/>\n      </g>\n     </g>\n    </g>\n    <g id=\"ytick_11\">\n     <g id=\"line2d_79\">\n      <path clip-path=\"url(#pfb9bdf7fd0)\" d=\"M 28.942188 220.891034 \nL 363.742188 220.891034 \n\" style=\"fill:none;stroke:#b0b0b0;stroke-linecap:square;stroke-width:0.8;\"/>\n     </g>\n     <g id=\"line2d_80\">\n      <g>\n       <use style=\"stroke:#000000;stroke-width:0.8;\" x=\"28.942188\" xlink:href=\"#m1b060e1dea\" y=\"220.891034\"/>\n      </g>\n     </g>\n     <g id=\"text_40\">\n      <!-- 8 -->\n      <g transform=\"translate(15.579688 224.690253)scale(0.1 -0.1)\">\n       <use xlink:href=\"#DejaVuSans-56\"/>\n      </g>\n     </g>\n    </g>\n    <g id=\"ytick_12\">\n     <g id=\"line2d_81\">\n      <path clip-path=\"url(#pfb9bdf7fd0)\" d=\"M 28.942188 209.644138 \nL 363.742188 209.644138 \n\" style=\"fill:none;stroke:#b0b0b0;stroke-linecap:square;stroke-width:0.8;\"/>\n     </g>\n     <g id=\"line2d_82\">\n      <g>\n       <use style=\"stroke:#000000;stroke-width:0.8;\" x=\"28.942188\" xlink:href=\"#m1b060e1dea\" y=\"209.644138\"/>\n      </g>\n     </g>\n     <g id=\"text_41\">\n      <!-- 9 -->\n      <g transform=\"translate(15.579688 213.443357)scale(0.1 -0.1)\">\n       <use xlink:href=\"#DejaVuSans-57\"/>\n      </g>\n     </g>\n    </g>\n    <g id=\"ytick_13\">\n     <g id=\"line2d_83\">\n      <path clip-path=\"url(#pfb9bdf7fd0)\" d=\"M 28.942188 198.397241 \nL 363.742188 198.397241 \n\" style=\"fill:none;stroke:#b0b0b0;stroke-linecap:square;stroke-width:0.8;\"/>\n     </g>\n     <g id=\"line2d_84\">\n      <g>\n       <use style=\"stroke:#000000;stroke-width:0.8;\" x=\"28.942188\" xlink:href=\"#m1b060e1dea\" y=\"198.397241\"/>\n      </g>\n     </g>\n     <g id=\"text_42\">\n      <!-- 10 -->\n      <g transform=\"translate(9.217188 202.19646)scale(0.1 -0.1)\">\n       <use xlink:href=\"#DejaVuSans-49\"/>\n       <use x=\"63.623047\" xlink:href=\"#DejaVuSans-48\"/>\n      </g>\n     </g>\n    </g>\n    <g id=\"ytick_14\">\n     <g id=\"line2d_85\">\n      <path clip-path=\"url(#pfb9bdf7fd0)\" d=\"M 28.942188 187.150345 \nL 363.742188 187.150345 \n\" style=\"fill:none;stroke:#b0b0b0;stroke-linecap:square;stroke-width:0.8;\"/>\n     </g>\n     <g id=\"line2d_86\">\n      <g>\n       <use style=\"stroke:#000000;stroke-width:0.8;\" x=\"28.942188\" xlink:href=\"#m1b060e1dea\" y=\"187.150345\"/>\n      </g>\n     </g>\n     <g id=\"text_43\">\n      <!-- 11 -->\n      <g transform=\"translate(9.217188 190.949564)scale(0.1 -0.1)\">\n       <use xlink:href=\"#DejaVuSans-49\"/>\n       <use x=\"63.623047\" xlink:href=\"#DejaVuSans-49\"/>\n      </g>\n     </g>\n    </g>\n    <g id=\"ytick_15\">\n     <g id=\"line2d_87\">\n      <path clip-path=\"url(#pfb9bdf7fd0)\" d=\"M 28.942188 175.903448 \nL 363.742188 175.903448 \n\" style=\"fill:none;stroke:#b0b0b0;stroke-linecap:square;stroke-width:0.8;\"/>\n     </g>\n     <g id=\"line2d_88\">\n      <g>\n       <use style=\"stroke:#000000;stroke-width:0.8;\" x=\"28.942188\" xlink:href=\"#m1b060e1dea\" y=\"175.903448\"/>\n      </g>\n     </g>\n     <g id=\"text_44\">\n      <!-- 12 -->\n      <g transform=\"translate(9.217188 179.702667)scale(0.1 -0.1)\">\n       <use xlink:href=\"#DejaVuSans-49\"/>\n       <use x=\"63.623047\" xlink:href=\"#DejaVuSans-50\"/>\n      </g>\n     </g>\n    </g>\n    <g id=\"ytick_16\">\n     <g id=\"line2d_89\">\n      <path clip-path=\"url(#pfb9bdf7fd0)\" d=\"M 28.942188 164.656552 \nL 363.742188 164.656552 \n\" style=\"fill:none;stroke:#b0b0b0;stroke-linecap:square;stroke-width:0.8;\"/>\n     </g>\n     <g id=\"line2d_90\">\n      <g>\n       <use style=\"stroke:#000000;stroke-width:0.8;\" x=\"28.942188\" xlink:href=\"#m1b060e1dea\" y=\"164.656552\"/>\n      </g>\n     </g>\n     <g id=\"text_45\">\n      <!-- 13 -->\n      <g transform=\"translate(9.217188 168.45577)scale(0.1 -0.1)\">\n       <use xlink:href=\"#DejaVuSans-49\"/>\n       <use x=\"63.623047\" xlink:href=\"#DejaVuSans-51\"/>\n      </g>\n     </g>\n    </g>\n    <g id=\"ytick_17\">\n     <g id=\"line2d_91\">\n      <path clip-path=\"url(#pfb9bdf7fd0)\" d=\"M 28.942188 153.409655 \nL 363.742188 153.409655 \n\" style=\"fill:none;stroke:#b0b0b0;stroke-linecap:square;stroke-width:0.8;\"/>\n     </g>\n     <g id=\"line2d_92\">\n      <g>\n       <use style=\"stroke:#000000;stroke-width:0.8;\" x=\"28.942188\" xlink:href=\"#m1b060e1dea\" y=\"153.409655\"/>\n      </g>\n     </g>\n     <g id=\"text_46\">\n      <!-- 14 -->\n      <g transform=\"translate(9.217188 157.208874)scale(0.1 -0.1)\">\n       <use xlink:href=\"#DejaVuSans-49\"/>\n       <use x=\"63.623047\" xlink:href=\"#DejaVuSans-52\"/>\n      </g>\n     </g>\n    </g>\n    <g id=\"ytick_18\">\n     <g id=\"line2d_93\">\n      <path clip-path=\"url(#pfb9bdf7fd0)\" d=\"M 28.942188 142.162759 \nL 363.742188 142.162759 \n\" style=\"fill:none;stroke:#b0b0b0;stroke-linecap:square;stroke-width:0.8;\"/>\n     </g>\n     <g id=\"line2d_94\">\n      <g>\n       <use style=\"stroke:#000000;stroke-width:0.8;\" x=\"28.942188\" xlink:href=\"#m1b060e1dea\" y=\"142.162759\"/>\n      </g>\n     </g>\n     <g id=\"text_47\">\n      <!-- 15 -->\n      <g transform=\"translate(9.217188 145.961977)scale(0.1 -0.1)\">\n       <use xlink:href=\"#DejaVuSans-49\"/>\n       <use x=\"63.623047\" xlink:href=\"#DejaVuSans-53\"/>\n      </g>\n     </g>\n    </g>\n    <g id=\"ytick_19\">\n     <g id=\"line2d_95\">\n      <path clip-path=\"url(#pfb9bdf7fd0)\" d=\"M 28.942188 130.915862 \nL 363.742188 130.915862 \n\" style=\"fill:none;stroke:#b0b0b0;stroke-linecap:square;stroke-width:0.8;\"/>\n     </g>\n     <g id=\"line2d_96\">\n      <g>\n       <use style=\"stroke:#000000;stroke-width:0.8;\" x=\"28.942188\" xlink:href=\"#m1b060e1dea\" y=\"130.915862\"/>\n      </g>\n     </g>\n     <g id=\"text_48\">\n      <!-- 16 -->\n      <g transform=\"translate(9.217188 134.715081)scale(0.1 -0.1)\">\n       <use xlink:href=\"#DejaVuSans-49\"/>\n       <use x=\"63.623047\" xlink:href=\"#DejaVuSans-54\"/>\n      </g>\n     </g>\n    </g>\n    <g id=\"ytick_20\">\n     <g id=\"line2d_97\">\n      <path clip-path=\"url(#pfb9bdf7fd0)\" d=\"M 28.942188 119.668966 \nL 363.742188 119.668966 \n\" style=\"fill:none;stroke:#b0b0b0;stroke-linecap:square;stroke-width:0.8;\"/>\n     </g>\n     <g id=\"line2d_98\">\n      <g>\n       <use style=\"stroke:#000000;stroke-width:0.8;\" x=\"28.942188\" xlink:href=\"#m1b060e1dea\" y=\"119.668966\"/>\n      </g>\n     </g>\n     <g id=\"text_49\">\n      <!-- 17 -->\n      <g transform=\"translate(9.217188 123.468184)scale(0.1 -0.1)\">\n       <use xlink:href=\"#DejaVuSans-49\"/>\n       <use x=\"63.623047\" xlink:href=\"#DejaVuSans-55\"/>\n      </g>\n     </g>\n    </g>\n    <g id=\"ytick_21\">\n     <g id=\"line2d_99\">\n      <path clip-path=\"url(#pfb9bdf7fd0)\" d=\"M 28.942188 108.422069 \nL 363.742188 108.422069 \n\" style=\"fill:none;stroke:#b0b0b0;stroke-linecap:square;stroke-width:0.8;\"/>\n     </g>\n     <g id=\"line2d_100\">\n      <g>\n       <use style=\"stroke:#000000;stroke-width:0.8;\" x=\"28.942188\" xlink:href=\"#m1b060e1dea\" y=\"108.422069\"/>\n      </g>\n     </g>\n     <g id=\"text_50\">\n      <!-- 18 -->\n      <g transform=\"translate(9.217188 112.221288)scale(0.1 -0.1)\">\n       <use xlink:href=\"#DejaVuSans-49\"/>\n       <use x=\"63.623047\" xlink:href=\"#DejaVuSans-56\"/>\n      </g>\n     </g>\n    </g>\n    <g id=\"ytick_22\">\n     <g id=\"line2d_101\">\n      <path clip-path=\"url(#pfb9bdf7fd0)\" d=\"M 28.942188 97.175172 \nL 363.742188 97.175172 \n\" style=\"fill:none;stroke:#b0b0b0;stroke-linecap:square;stroke-width:0.8;\"/>\n     </g>\n     <g id=\"line2d_102\">\n      <g>\n       <use style=\"stroke:#000000;stroke-width:0.8;\" x=\"28.942188\" xlink:href=\"#m1b060e1dea\" y=\"97.175172\"/>\n      </g>\n     </g>\n     <g id=\"text_51\">\n      <!-- 19 -->\n      <g transform=\"translate(9.217188 100.974391)scale(0.1 -0.1)\">\n       <use xlink:href=\"#DejaVuSans-49\"/>\n       <use x=\"63.623047\" xlink:href=\"#DejaVuSans-57\"/>\n      </g>\n     </g>\n    </g>\n    <g id=\"ytick_23\">\n     <g id=\"line2d_103\">\n      <path clip-path=\"url(#pfb9bdf7fd0)\" d=\"M 28.942188 85.928276 \nL 363.742188 85.928276 \n\" style=\"fill:none;stroke:#b0b0b0;stroke-linecap:square;stroke-width:0.8;\"/>\n     </g>\n     <g id=\"line2d_104\">\n      <g>\n       <use style=\"stroke:#000000;stroke-width:0.8;\" x=\"28.942188\" xlink:href=\"#m1b060e1dea\" y=\"85.928276\"/>\n      </g>\n     </g>\n     <g id=\"text_52\">\n      <!-- 20 -->\n      <g transform=\"translate(9.217188 89.727495)scale(0.1 -0.1)\">\n       <use xlink:href=\"#DejaVuSans-50\"/>\n       <use x=\"63.623047\" xlink:href=\"#DejaVuSans-48\"/>\n      </g>\n     </g>\n    </g>\n    <g id=\"ytick_24\">\n     <g id=\"line2d_105\">\n      <path clip-path=\"url(#pfb9bdf7fd0)\" d=\"M 28.942188 74.681379 \nL 363.742188 74.681379 \n\" style=\"fill:none;stroke:#b0b0b0;stroke-linecap:square;stroke-width:0.8;\"/>\n     </g>\n     <g id=\"line2d_106\">\n      <g>\n       <use style=\"stroke:#000000;stroke-width:0.8;\" x=\"28.942188\" xlink:href=\"#m1b060e1dea\" y=\"74.681379\"/>\n      </g>\n     </g>\n     <g id=\"text_53\">\n      <!-- 21 -->\n      <g transform=\"translate(9.217188 78.480598)scale(0.1 -0.1)\">\n       <use xlink:href=\"#DejaVuSans-50\"/>\n       <use x=\"63.623047\" xlink:href=\"#DejaVuSans-49\"/>\n      </g>\n     </g>\n    </g>\n    <g id=\"ytick_25\">\n     <g id=\"line2d_107\">\n      <path clip-path=\"url(#pfb9bdf7fd0)\" d=\"M 28.942188 63.434483 \nL 363.742188 63.434483 \n\" style=\"fill:none;stroke:#b0b0b0;stroke-linecap:square;stroke-width:0.8;\"/>\n     </g>\n     <g id=\"line2d_108\">\n      <g>\n       <use style=\"stroke:#000000;stroke-width:0.8;\" x=\"28.942188\" xlink:href=\"#m1b060e1dea\" y=\"63.434483\"/>\n      </g>\n     </g>\n     <g id=\"text_54\">\n      <!-- 22 -->\n      <g transform=\"translate(9.217188 67.233702)scale(0.1 -0.1)\">\n       <use xlink:href=\"#DejaVuSans-50\"/>\n       <use x=\"63.623047\" xlink:href=\"#DejaVuSans-50\"/>\n      </g>\n     </g>\n    </g>\n    <g id=\"ytick_26\">\n     <g id=\"line2d_109\">\n      <path clip-path=\"url(#pfb9bdf7fd0)\" d=\"M 28.942188 52.187586 \nL 363.742188 52.187586 \n\" style=\"fill:none;stroke:#b0b0b0;stroke-linecap:square;stroke-width:0.8;\"/>\n     </g>\n     <g id=\"line2d_110\">\n      <g>\n       <use style=\"stroke:#000000;stroke-width:0.8;\" x=\"28.942188\" xlink:href=\"#m1b060e1dea\" y=\"52.187586\"/>\n      </g>\n     </g>\n     <g id=\"text_55\">\n      <!-- 23 -->\n      <g transform=\"translate(9.217188 55.986805)scale(0.1 -0.1)\">\n       <use xlink:href=\"#DejaVuSans-50\"/>\n       <use x=\"63.623047\" xlink:href=\"#DejaVuSans-51\"/>\n      </g>\n     </g>\n    </g>\n    <g id=\"ytick_27\">\n     <g id=\"line2d_111\">\n      <path clip-path=\"url(#pfb9bdf7fd0)\" d=\"M 28.942188 40.94069 \nL 363.742188 40.94069 \n\" style=\"fill:none;stroke:#b0b0b0;stroke-linecap:square;stroke-width:0.8;\"/>\n     </g>\n     <g id=\"line2d_112\">\n      <g>\n       <use style=\"stroke:#000000;stroke-width:0.8;\" x=\"28.942188\" xlink:href=\"#m1b060e1dea\" y=\"40.94069\"/>\n      </g>\n     </g>\n     <g id=\"text_56\">\n      <!-- 24 -->\n      <g transform=\"translate(9.217188 44.739908)scale(0.1 -0.1)\">\n       <use xlink:href=\"#DejaVuSans-50\"/>\n       <use x=\"63.623047\" xlink:href=\"#DejaVuSans-52\"/>\n      </g>\n     </g>\n    </g>\n    <g id=\"ytick_28\">\n     <g id=\"line2d_113\">\n      <path clip-path=\"url(#pfb9bdf7fd0)\" d=\"M 28.942188 29.693793 \nL 363.742188 29.693793 \n\" style=\"fill:none;stroke:#b0b0b0;stroke-linecap:square;stroke-width:0.8;\"/>\n     </g>\n     <g id=\"line2d_114\">\n      <g>\n       <use style=\"stroke:#000000;stroke-width:0.8;\" x=\"28.942188\" xlink:href=\"#m1b060e1dea\" y=\"29.693793\"/>\n      </g>\n     </g>\n     <g id=\"text_57\">\n      <!-- 25 -->\n      <g transform=\"translate(9.217188 33.493012)scale(0.1 -0.1)\">\n       <use xlink:href=\"#DejaVuSans-50\"/>\n       <use x=\"63.623047\" xlink:href=\"#DejaVuSans-53\"/>\n      </g>\n     </g>\n    </g>\n    <g id=\"ytick_29\">\n     <g id=\"line2d_115\">\n      <path clip-path=\"url(#pfb9bdf7fd0)\" d=\"M 28.942188 18.446897 \nL 363.742188 18.446897 \n\" style=\"fill:none;stroke:#b0b0b0;stroke-linecap:square;stroke-width:0.8;\"/>\n     </g>\n     <g id=\"line2d_116\">\n      <g>\n       <use style=\"stroke:#000000;stroke-width:0.8;\" x=\"28.942188\" xlink:href=\"#m1b060e1dea\" y=\"18.446897\"/>\n      </g>\n     </g>\n     <g id=\"text_58\">\n      <!-- 26 -->\n      <g transform=\"translate(9.217188 22.246115)scale(0.1 -0.1)\">\n       <use xlink:href=\"#DejaVuSans-50\"/>\n       <use x=\"63.623047\" xlink:href=\"#DejaVuSans-54\"/>\n      </g>\n     </g>\n    </g>\n   </g>\n   <g id=\"PathCollection_1\">\n    <defs>\n     <path d=\"M -3 3 \nL 3 -3 \nM -3 -3 \nL 3 3 \n\" id=\"m2a5c058cc1\" style=\"stroke:#000000;stroke-width:1.5;\"/>\n    </defs>\n    <g clip-path=\"url(#pfb9bdf7fd0)\">\n     <use style=\"stroke:#000000;stroke-width:1.5;\" x=\"52.031843\" xlink:href=\"#m2a5c058cc1\" y=\"310.866207\"/>\n    </g>\n   </g>\n   <g id=\"PathCollection_2\">\n    <defs>\n     <path d=\"M 0 3 \nC 0.795609 3 1.55874 2.683901 2.12132 2.12132 \nC 2.683901 1.55874 3 0.795609 3 0 \nC 3 -0.795609 2.683901 -1.55874 2.12132 -2.12132 \nC 1.55874 -2.683901 0.795609 -3 0 -3 \nC -0.795609 -3 -1.55874 -2.683901 -2.12132 -2.12132 \nC -2.683901 -1.55874 -3 -0.795609 -3 0 \nC -3 0.795609 -2.683901 1.55874 -2.12132 2.12132 \nC -1.55874 2.683901 -0.795609 3 0 3 \nz\n\" id=\"m7ae98bf0e3\" style=\"stroke:#1f77b4;\"/>\n    </defs>\n    <g clip-path=\"url(#pfb9bdf7fd0)\">\n     <use style=\"fill:#1f77b4;stroke:#1f77b4;\" x=\"52.031843\" xlink:href=\"#m7ae98bf0e3\" y=\"310.866207\"/>\n     <use style=\"fill:#1f77b4;stroke:#1f77b4;\" x=\"52.031843\" xlink:href=\"#m7ae98bf0e3\" y=\"299.61931\"/>\n     <use style=\"fill:#1f77b4;stroke:#1f77b4;\" x=\"52.031843\" xlink:href=\"#m7ae98bf0e3\" y=\"288.372414\"/>\n     <use style=\"fill:#1f77b4;stroke:#1f77b4;\" x=\"52.031843\" xlink:href=\"#m7ae98bf0e3\" y=\"277.125517\"/>\n     <use style=\"fill:#1f77b4;stroke:#1f77b4;\" x=\"52.031843\" xlink:href=\"#m7ae98bf0e3\" y=\"265.878621\"/>\n     <use style=\"fill:#1f77b4;stroke:#1f77b4;\" x=\"52.031843\" xlink:href=\"#m7ae98bf0e3\" y=\"254.631724\"/>\n     <use style=\"fill:#1f77b4;stroke:#1f77b4;\" x=\"63.57667\" xlink:href=\"#m7ae98bf0e3\" y=\"310.866207\"/>\n     <use style=\"fill:#1f77b4;stroke:#1f77b4;\" x=\"63.57667\" xlink:href=\"#m7ae98bf0e3\" y=\"299.61931\"/>\n     <use style=\"fill:#1f77b4;stroke:#1f77b4;\" x=\"63.57667\" xlink:href=\"#m7ae98bf0e3\" y=\"288.372414\"/>\n     <use style=\"fill:#1f77b4;stroke:#1f77b4;\" x=\"63.57667\" xlink:href=\"#m7ae98bf0e3\" y=\"277.125517\"/>\n     <use style=\"fill:#1f77b4;stroke:#1f77b4;\" x=\"63.57667\" xlink:href=\"#m7ae98bf0e3\" y=\"265.878621\"/>\n     <use style=\"fill:#1f77b4;stroke:#1f77b4;\" x=\"63.57667\" xlink:href=\"#m7ae98bf0e3\" y=\"254.631724\"/>\n     <use style=\"fill:#1f77b4;stroke:#1f77b4;\" x=\"75.121498\" xlink:href=\"#m7ae98bf0e3\" y=\"310.866207\"/>\n     <use style=\"fill:#1f77b4;stroke:#1f77b4;\" x=\"75.121498\" xlink:href=\"#m7ae98bf0e3\" y=\"299.61931\"/>\n     <use style=\"fill:#1f77b4;stroke:#1f77b4;\" x=\"75.121498\" xlink:href=\"#m7ae98bf0e3\" y=\"288.372414\"/>\n     <use style=\"fill:#1f77b4;stroke:#1f77b4;\" x=\"75.121498\" xlink:href=\"#m7ae98bf0e3\" y=\"277.125517\"/>\n     <use style=\"fill:#1f77b4;stroke:#1f77b4;\" x=\"75.121498\" xlink:href=\"#m7ae98bf0e3\" y=\"265.878621\"/>\n     <use style=\"fill:#1f77b4;stroke:#1f77b4;\" x=\"75.121498\" xlink:href=\"#m7ae98bf0e3\" y=\"254.631724\"/>\n     <use style=\"fill:#1f77b4;stroke:#1f77b4;\" x=\"86.666325\" xlink:href=\"#m7ae98bf0e3\" y=\"310.866207\"/>\n     <use style=\"fill:#1f77b4;stroke:#1f77b4;\" x=\"86.666325\" xlink:href=\"#m7ae98bf0e3\" y=\"299.61931\"/>\n     <use style=\"fill:#1f77b4;stroke:#1f77b4;\" x=\"86.666325\" xlink:href=\"#m7ae98bf0e3\" y=\"288.372414\"/>\n     <use style=\"fill:#1f77b4;stroke:#1f77b4;\" x=\"86.666325\" xlink:href=\"#m7ae98bf0e3\" y=\"277.125517\"/>\n     <use style=\"fill:#1f77b4;stroke:#1f77b4;\" x=\"86.666325\" xlink:href=\"#m7ae98bf0e3\" y=\"265.878621\"/>\n     <use style=\"fill:#1f77b4;stroke:#1f77b4;\" x=\"86.666325\" xlink:href=\"#m7ae98bf0e3\" y=\"254.631724\"/>\n     <use style=\"fill:#1f77b4;stroke:#1f77b4;\" x=\"98.211153\" xlink:href=\"#m7ae98bf0e3\" y=\"310.866207\"/>\n     <use style=\"fill:#1f77b4;stroke:#1f77b4;\" x=\"98.211153\" xlink:href=\"#m7ae98bf0e3\" y=\"299.61931\"/>\n     <use style=\"fill:#1f77b4;stroke:#1f77b4;\" x=\"98.211153\" xlink:href=\"#m7ae98bf0e3\" y=\"288.372414\"/>\n     <use style=\"fill:#1f77b4;stroke:#1f77b4;\" x=\"98.211153\" xlink:href=\"#m7ae98bf0e3\" y=\"277.125517\"/>\n     <use style=\"fill:#1f77b4;stroke:#1f77b4;\" x=\"98.211153\" xlink:href=\"#m7ae98bf0e3\" y=\"265.878621\"/>\n     <use style=\"fill:#1f77b4;stroke:#1f77b4;\" x=\"98.211153\" xlink:href=\"#m7ae98bf0e3\" y=\"254.631724\"/>\n     <use style=\"fill:#1f77b4;stroke:#1f77b4;\" x=\"109.755981\" xlink:href=\"#m7ae98bf0e3\" y=\"310.866207\"/>\n     <use style=\"fill:#1f77b4;stroke:#1f77b4;\" x=\"109.755981\" xlink:href=\"#m7ae98bf0e3\" y=\"299.61931\"/>\n     <use style=\"fill:#1f77b4;stroke:#1f77b4;\" x=\"109.755981\" xlink:href=\"#m7ae98bf0e3\" y=\"288.372414\"/>\n     <use style=\"fill:#1f77b4;stroke:#1f77b4;\" x=\"109.755981\" xlink:href=\"#m7ae98bf0e3\" y=\"277.125517\"/>\n     <use style=\"fill:#1f77b4;stroke:#1f77b4;\" x=\"109.755981\" xlink:href=\"#m7ae98bf0e3\" y=\"265.878621\"/>\n     <use style=\"fill:#1f77b4;stroke:#1f77b4;\" x=\"109.755981\" xlink:href=\"#m7ae98bf0e3\" y=\"254.631724\"/>\n    </g>\n   </g>\n   <g id=\"PathCollection_3\">\n    <defs>\n     <path d=\"M 0 3 \nC 0.795609 3 1.55874 2.683901 2.12132 2.12132 \nC 2.683901 1.55874 3 0.795609 3 0 \nC 3 -0.795609 2.683901 -1.55874 2.12132 -2.12132 \nC 1.55874 -2.683901 0.795609 -3 0 -3 \nC -0.795609 -3 -1.55874 -2.683901 -2.12132 -2.12132 \nC -2.683901 -1.55874 -3 -0.795609 -3 0 \nC -3 0.795609 -2.683901 1.55874 -2.12132 2.12132 \nC -1.55874 2.683901 -0.795609 3 0 3 \nz\n\" id=\"m952ee9bc43\" style=\"stroke:#ff7f0e;\"/>\n    </defs>\n    <g clip-path=\"url(#pfb9bdf7fd0)\">\n     <use style=\"fill:#ff7f0e;stroke:#ff7f0e;\" x=\"52.031843\" xlink:href=\"#m952ee9bc43\" y=\"310.866207\"/>\n     <use style=\"fill:#ff7f0e;stroke:#ff7f0e;\" x=\"52.031843\" xlink:href=\"#m952ee9bc43\" y=\"299.61931\"/>\n     <use style=\"fill:#ff7f0e;stroke:#ff7f0e;\" x=\"52.031843\" xlink:href=\"#m952ee9bc43\" y=\"265.878621\"/>\n     <use style=\"fill:#ff7f0e;stroke:#ff7f0e;\" x=\"52.031843\" xlink:href=\"#m952ee9bc43\" y=\"209.644138\"/>\n     <use style=\"fill:#ff7f0e;stroke:#ff7f0e;\" x=\"52.031843\" xlink:href=\"#m952ee9bc43\" y=\"130.915862\"/>\n     <use style=\"fill:#ff7f0e;stroke:#ff7f0e;\" x=\"52.031843\" xlink:href=\"#m952ee9bc43\" y=\"29.693793\"/>\n     <use style=\"fill:#ff7f0e;stroke:#ff7f0e;\" x=\"63.57667\" xlink:href=\"#m952ee9bc43\" y=\"310.866207\"/>\n     <use style=\"fill:#ff7f0e;stroke:#ff7f0e;\" x=\"63.57667\" xlink:href=\"#m952ee9bc43\" y=\"299.61931\"/>\n     <use style=\"fill:#ff7f0e;stroke:#ff7f0e;\" x=\"63.57667\" xlink:href=\"#m952ee9bc43\" y=\"265.878621\"/>\n     <use style=\"fill:#ff7f0e;stroke:#ff7f0e;\" x=\"63.57667\" xlink:href=\"#m952ee9bc43\" y=\"209.644138\"/>\n     <use style=\"fill:#ff7f0e;stroke:#ff7f0e;\" x=\"63.57667\" xlink:href=\"#m952ee9bc43\" y=\"130.915862\"/>\n     <use style=\"fill:#ff7f0e;stroke:#ff7f0e;\" x=\"63.57667\" xlink:href=\"#m952ee9bc43\" y=\"29.693793\"/>\n     <use style=\"fill:#ff7f0e;stroke:#ff7f0e;\" x=\"98.211153\" xlink:href=\"#m952ee9bc43\" y=\"310.866207\"/>\n     <use style=\"fill:#ff7f0e;stroke:#ff7f0e;\" x=\"98.211153\" xlink:href=\"#m952ee9bc43\" y=\"299.61931\"/>\n     <use style=\"fill:#ff7f0e;stroke:#ff7f0e;\" x=\"98.211153\" xlink:href=\"#m952ee9bc43\" y=\"265.878621\"/>\n     <use style=\"fill:#ff7f0e;stroke:#ff7f0e;\" x=\"98.211153\" xlink:href=\"#m952ee9bc43\" y=\"209.644138\"/>\n     <use style=\"fill:#ff7f0e;stroke:#ff7f0e;\" x=\"98.211153\" xlink:href=\"#m952ee9bc43\" y=\"130.915862\"/>\n     <use style=\"fill:#ff7f0e;stroke:#ff7f0e;\" x=\"98.211153\" xlink:href=\"#m952ee9bc43\" y=\"29.693793\"/>\n     <use style=\"fill:#ff7f0e;stroke:#ff7f0e;\" x=\"155.935291\" xlink:href=\"#m952ee9bc43\" y=\"310.866207\"/>\n     <use style=\"fill:#ff7f0e;stroke:#ff7f0e;\" x=\"155.935291\" xlink:href=\"#m952ee9bc43\" y=\"299.61931\"/>\n     <use style=\"fill:#ff7f0e;stroke:#ff7f0e;\" x=\"155.935291\" xlink:href=\"#m952ee9bc43\" y=\"265.878621\"/>\n     <use style=\"fill:#ff7f0e;stroke:#ff7f0e;\" x=\"155.935291\" xlink:href=\"#m952ee9bc43\" y=\"209.644138\"/>\n     <use style=\"fill:#ff7f0e;stroke:#ff7f0e;\" x=\"155.935291\" xlink:href=\"#m952ee9bc43\" y=\"130.915862\"/>\n     <use style=\"fill:#ff7f0e;stroke:#ff7f0e;\" x=\"155.935291\" xlink:href=\"#m952ee9bc43\" y=\"29.693793\"/>\n     <use style=\"fill:#ff7f0e;stroke:#ff7f0e;\" x=\"236.749084\" xlink:href=\"#m952ee9bc43\" y=\"310.866207\"/>\n     <use style=\"fill:#ff7f0e;stroke:#ff7f0e;\" x=\"236.749084\" xlink:href=\"#m952ee9bc43\" y=\"299.61931\"/>\n     <use style=\"fill:#ff7f0e;stroke:#ff7f0e;\" x=\"236.749084\" xlink:href=\"#m952ee9bc43\" y=\"265.878621\"/>\n     <use style=\"fill:#ff7f0e;stroke:#ff7f0e;\" x=\"236.749084\" xlink:href=\"#m952ee9bc43\" y=\"209.644138\"/>\n     <use style=\"fill:#ff7f0e;stroke:#ff7f0e;\" x=\"236.749084\" xlink:href=\"#m952ee9bc43\" y=\"130.915862\"/>\n     <use style=\"fill:#ff7f0e;stroke:#ff7f0e;\" x=\"236.749084\" xlink:href=\"#m952ee9bc43\" y=\"29.693793\"/>\n     <use style=\"fill:#ff7f0e;stroke:#ff7f0e;\" x=\"340.652532\" xlink:href=\"#m952ee9bc43\" y=\"310.866207\"/>\n     <use style=\"fill:#ff7f0e;stroke:#ff7f0e;\" x=\"340.652532\" xlink:href=\"#m952ee9bc43\" y=\"299.61931\"/>\n     <use style=\"fill:#ff7f0e;stroke:#ff7f0e;\" x=\"340.652532\" xlink:href=\"#m952ee9bc43\" y=\"265.878621\"/>\n     <use style=\"fill:#ff7f0e;stroke:#ff7f0e;\" x=\"340.652532\" xlink:href=\"#m952ee9bc43\" y=\"209.644138\"/>\n     <use style=\"fill:#ff7f0e;stroke:#ff7f0e;\" x=\"340.652532\" xlink:href=\"#m952ee9bc43\" y=\"130.915862\"/>\n     <use style=\"fill:#ff7f0e;stroke:#ff7f0e;\" x=\"340.652532\" xlink:href=\"#m952ee9bc43\" y=\"29.693793\"/>\n    </g>\n   </g>\n   <g id=\"line2d_117\">\n    <path clip-path=\"url(#pfb9bdf7fd0)\" d=\"M 28.942188 310.866207 \nL 363.742188 310.866207 \n\" style=\"fill:none;stroke:#000000;stroke-linecap:square;stroke-width:2;\"/>\n   </g>\n   <g id=\"line2d_118\">\n    <path clip-path=\"url(#pfb9bdf7fd0)\" d=\"M 52.031843 333.36 \nL 52.031843 7.2 \n\" style=\"fill:none;stroke:#000000;stroke-linecap:square;stroke-width:2;\"/>\n   </g>\n   <g id=\"patch_3\">\n    <path d=\"M 28.942188 333.36 \nL 28.942188 7.2 \n\" style=\"fill:none;stroke:#000000;stroke-linecap:square;stroke-linejoin:miter;stroke-width:0.8;\"/>\n   </g>\n   <g id=\"patch_4\">\n    <path d=\"M 363.742188 333.36 \nL 363.742188 7.2 \n\" style=\"fill:none;stroke:#000000;stroke-linecap:square;stroke-linejoin:miter;stroke-width:0.8;\"/>\n   </g>\n   <g id=\"patch_5\">\n    <path d=\"M 28.942188 333.36 \nL 363.742188 333.36 \n\" style=\"fill:none;stroke:#000000;stroke-linecap:square;stroke-linejoin:miter;stroke-width:0.8;\"/>\n   </g>\n   <g id=\"patch_6\">\n    <path d=\"M 28.942188 7.2 \nL 363.742188 7.2 \n\" style=\"fill:none;stroke:#000000;stroke-linecap:square;stroke-linejoin:miter;stroke-width:0.8;\"/>\n   </g>\n  </g>\n </g>\n <defs>\n  <clipPath id=\"pfb9bdf7fd0\">\n   <rect height=\"326.16\" width=\"334.8\" x=\"28.942188\" y=\"7.2\"/>\n  </clipPath>\n </defs>\n</svg>\n",
      "image/png": "[encoded data removed]"
     },
     "metadata": {
      "needs_background": "light"
     }
    }
   ],
   "source": [
    "from my_draw2d import *\n",
    "from vectors_my_implementation import *\n",
    "\n",
    "original_points = [(x, y) for x in range(0, 6) for y in range(0, 6)]\n",
    "\n",
    "def s_transformation(p):\n",
    "    x, y = p\n",
    "    return (x * x, y * y)\n",
    "\n",
    "transformed_points = [s_transformation(p) for p in original_points]\n",
    "\n",
    "draw2d(\n",
    "    Points2D(*original_points, color=blue),\n",
    "    Points2D(*transformed_points, color=orange)\n",
    ")"
   ]
  },
  {
   "source": [
    "The points seem to explode after applying the transformation, as the space between the points is no longer equal, but rather increases."
   ],
   "cell_type": "markdown",
   "metadata": {}
  },
  {
   "source": [
    "## Exercise 4.15\n",
    "\n",
    "Property-based testing is a type of unit testing that involves inventing arbitrary input data for a program and then checking that the output satisfies the desired conditions. There are popular libraries like *Hypothesis* that make it easy to set up. Using your library of choice, implement property based tests that check if a vector transformation is linear.\n"
   ],
   "cell_type": "markdown",
   "metadata": {}
  },
  {
   "source": [
    "The idea is to generate a large number of random values and then check whether the transformation preserves linear combinations.\n",
    "\n",
    "from rangom import uniform:\n"
   ],
   "cell_type": "markdown",
   "metadata": {}
  },
  {
   "cell_type": "code",
   "execution_count": 1,
   "metadata": {},
   "outputs": [
    {
     "output_type": "stream",
     "name": "stdout",
     "text": [
      "Squared Transformation: \n#0: Transformation does not hold for f1=67.56108678098963 v1=(541.8151261205778, 814.3122844675595) f2=-355.5377498019767 v2=(-37.73057494083059, 572.9390568917563)\nTransformation Squared Transformation:  is not a linear transformation\nIdentity Transformation:\nTransformation Identity Transformation: held after 10000 attempts to break it\n"
     ]
    }
   ],
   "source": [
    "from random import uniform\n",
    "from vectors_my_implementation import *\n",
    "\n",
    "def random(min, max):\n",
    "    def new_function():\n",
    "        return uniform(min, max)\n",
    "    return new_function\n",
    "\n",
    "def s_transform(v):\n",
    "    x, y = v\n",
    "    return (x * x, y * y)\n",
    "\n",
    "def identity_transform(v):\n",
    "    return v\n",
    "\n",
    "def apply_linear_combo(f1, v1, f2, v2):\n",
    "    return add(scale(f1, v1), scale(f2, v2))\n",
    "\n",
    "rand = random(-1000, 1000)\n",
    "\n",
    "def property_based_testing(label, num_samples, rand, transformation):\n",
    "    print(label)\n",
    "    failed = False\n",
    "    for i in range(0, num_samples):\n",
    "        f1 = rand()\n",
    "        v1_x = rand()\n",
    "        v1_y = rand()\n",
    "        f2 = rand()\n",
    "        v2_x = rand()\n",
    "        v2_y = rand()\n",
    "\n",
    "        # S(f1v1 + f2v2)\n",
    "        op_1 = transformation(apply_linear_combo(f1, (v1_x, v1_y), f2, (v2_x, v2_y)))\n",
    "\n",
    "        # f1 S(v1) + f2 S(v2)\n",
    "        op_2 = apply_linear_combo(f1, transformation((v1_x, v1_y)), f2, transformation((v2_x, v2_y)))\n",
    "\n",
    "        if op_1 != op_2:\n",
    "            v1 = (v1_x, v1_y)\n",
    "            v2 = (v2_x, v2_y)\n",
    "            failed = True\n",
    "            print('#{}: Transformation does not hold for f1={} v1={} f2={} v2={}'.format(i, f1, v1, f2, v2))\n",
    "            break\n",
    "    if failed:\n",
    "        print('Transformation {} is not a linear transformation'.format(label))\n",
    "    else:\n",
    "        print('Transformation {} held after {} attempts to break it'.format(label, num_samples))\n",
    "\n",
    "\n",
    "property_based_testing('Squared Transformation: ', 10000, rand, s_transform)\n",
    "property_based_testing('Identity Transformation:', 10000, rand, identity_transform)\n"
   ]
  },
  {
   "source": [
    "## Exercise 4.16\n",
    "\n",
    "One 2D vector transformation is reflection across the x-axis. This transformation takes a vector and returns another one, which is the mirror image with respect the x-axis. Its x-coordinate should be unchanged, and its y-coordinate should change its sign. Denoting this transformation as $ S_x(v) $:\n",
    "\n",
    "Draw two vectors and their sum, as well as the reflection of these three vectors to demonstrate that this transformation preserves the vector addition. Draw another diagram to show similarly that scalar multiplication is preserved, thereby demonstrating visually both criteria for linearity."
   ],
   "cell_type": "markdown",
   "metadata": {}
  },
  {
   "source": [
    "We'll draw this transformation to picture whether this transformation looks like a linear transformation preserving vector addition and scalar multiples or not.\n",
    "\n",
    "Let's begin with vector addition. We should see *graphically* that:\n",
    "\n",
    "$\n",
    "S_x(u + v) = S_x(u) + S_x(v)\n",
    "$"
   ],
   "cell_type": "markdown",
   "metadata": {}
  },
  {
   "cell_type": "code",
   "execution_count": 3,
   "metadata": {},
   "outputs": [
    {
     "output_type": "display_data",
     "data": {
      "text/plain": "<Figure size 432x432 with 1 Axes>",
      "image/svg+xml": "<?xml version=\"1.0\" encoding=\"utf-8\" standalone=\"no\"?>\n<!DOCTYPE svg PUBLIC \"-//W3C//DTD SVG 1.1//EN\"\n  \"http://www.w3.org/Graphics/SVG/1.1/DTD/svg11.dtd\">\n<!-- Created with matplotlib (https://matplotlib.org/) -->\n<svg height=\"357.238125pt\" version=\"1.1\" viewBox=\"0 0 370.942187 357.238125\" width=\"370.942187pt\" xmlns=\"http://www.w3.org/2000/svg\" xmlns:xlink=\"http://www.w3.org/1999/xlink\">\n <defs>\n  <style type=\"text/css\">\n*{stroke-linecap:butt;stroke-linejoin:round;}\n  </style>\n </defs>\n <g id=\"figure_1\">\n  <g id=\"patch_1\">\n   <path d=\"M 0 357.238125 \nL 370.942187 357.238125 \nL 370.942187 0 \nL 0 0 \nz\n\" style=\"fill:none;\"/>\n  </g>\n  <g id=\"axes_1\">\n   <g id=\"patch_2\">\n    <path d=\"M 28.942188 333.36 \nL 363.742188 333.36 \nL 363.742188 7.2 \nL 28.942188 7.2 \nz\n\" style=\"fill:#ffffff;\"/>\n   </g>\n   <g id=\"matplotlib.axis_1\">\n    <g id=\"xtick_1\">\n     <g id=\"line2d_1\">\n      <path clip-path=\"url(#p9feefd3489)\" d=\"M 28.942188 333.36 \nL 28.942188 7.2 \n\" style=\"fill:none;stroke:#b0b0b0;stroke-linecap:square;stroke-width:0.8;\"/>\n     </g>\n     <g id=\"line2d_2\">\n      <defs>\n       <path d=\"M 0 0 \nL 0 3.5 \n\" id=\"m5cfd3d6268\" style=\"stroke:#000000;stroke-width:0.8;\"/>\n      </defs>\n      <g>\n       <use style=\"stroke:#000000;stroke-width:0.8;\" x=\"28.942188\" xlink:href=\"#m5cfd3d6268\" y=\"333.36\"/>\n      </g>\n     </g>\n     <g id=\"text_1\">\n      <!-- −1 -->\n      <defs>\n       <path d=\"M 10.59375 35.5 \nL 73.1875 35.5 \nL 73.1875 27.203125 \nL 10.59375 27.203125 \nz\n\" id=\"DejaVuSans-8722\"/>\n       <path d=\"M 12.40625 8.296875 \nL 28.515625 8.296875 \nL 28.515625 63.921875 \nL 10.984375 60.40625 \nL 10.984375 69.390625 \nL 28.421875 72.90625 \nL 38.28125 72.90625 \nL 38.28125 8.296875 \nL 54.390625 8.296875 \nL 54.390625 0 \nL 12.40625 0 \nz\n\" id=\"DejaVuSans-49\"/>\n      </defs>\n      <g transform=\"translate(21.571094 347.958438)scale(0.1 -0.1)\">\n       <use xlink:href=\"#DejaVuSans-8722\"/>\n       <use x=\"83.789062\" xlink:href=\"#DejaVuSans-49\"/>\n      </g>\n     </g>\n    </g>\n    <g id=\"xtick_2\">\n     <g id=\"line2d_3\">\n      <path clip-path=\"url(#p9feefd3489)\" d=\"M 66.142188 333.36 \nL 66.142188 7.2 \n\" style=\"fill:none;stroke:#b0b0b0;stroke-linecap:square;stroke-width:0.8;\"/>\n     </g>\n     <g id=\"line2d_4\">\n      <g>\n       <use style=\"stroke:#000000;stroke-width:0.8;\" x=\"66.142188\" xlink:href=\"#m5cfd3d6268\" y=\"333.36\"/>\n      </g>\n     </g>\n     <g id=\"text_2\">\n      <!-- 0 -->\n      <defs>\n       <path d=\"M 31.78125 66.40625 \nQ 24.171875 66.40625 20.328125 58.90625 \nQ 16.5 51.421875 16.5 36.375 \nQ 16.5 21.390625 20.328125 13.890625 \nQ 24.171875 6.390625 31.78125 6.390625 \nQ 39.453125 6.390625 43.28125 13.890625 \nQ 47.125 21.390625 47.125 36.375 \nQ 47.125 51.421875 43.28125 58.90625 \nQ 39.453125 66.40625 31.78125 66.40625 \nz\nM 31.78125 74.21875 \nQ 44.046875 74.21875 50.515625 64.515625 \nQ 56.984375 54.828125 56.984375 36.375 \nQ 56.984375 17.96875 50.515625 8.265625 \nQ 44.046875 -1.421875 31.78125 -1.421875 \nQ 19.53125 -1.421875 13.0625 8.265625 \nQ 6.59375 17.96875 6.59375 36.375 \nQ 6.59375 54.828125 13.0625 64.515625 \nQ 19.53125 74.21875 31.78125 74.21875 \nz\n\" id=\"DejaVuSans-48\"/>\n      </defs>\n      <g transform=\"translate(62.960938 347.958438)scale(0.1 -0.1)\">\n       <use xlink:href=\"#DejaVuSans-48\"/>\n      </g>\n     </g>\n    </g>\n    <g id=\"xtick_3\">\n     <g id=\"line2d_5\">\n      <path clip-path=\"url(#p9feefd3489)\" d=\"M 103.342187 333.36 \nL 103.342187 7.2 \n\" style=\"fill:none;stroke:#b0b0b0;stroke-linecap:square;stroke-width:0.8;\"/>\n     </g>\n     <g id=\"line2d_6\">\n      <g>\n       <use style=\"stroke:#000000;stroke-width:0.8;\" x=\"103.342187\" xlink:href=\"#m5cfd3d6268\" y=\"333.36\"/>\n      </g>\n     </g>\n     <g id=\"text_3\">\n      <!-- 1 -->\n      <g transform=\"translate(100.160937 347.958438)scale(0.1 -0.1)\">\n       <use xlink:href=\"#DejaVuSans-49\"/>\n      </g>\n     </g>\n    </g>\n    <g id=\"xtick_4\">\n     <g id=\"line2d_7\">\n      <path clip-path=\"url(#p9feefd3489)\" d=\"M 140.542188 333.36 \nL 140.542188 7.2 \n\" style=\"fill:none;stroke:#b0b0b0;stroke-linecap:square;stroke-width:0.8;\"/>\n     </g>\n     <g id=\"line2d_8\">\n      <g>\n       <use style=\"stroke:#000000;stroke-width:0.8;\" x=\"140.542188\" xlink:href=\"#m5cfd3d6268\" y=\"333.36\"/>\n      </g>\n     </g>\n     <g id=\"text_4\">\n      <!-- 2 -->\n      <defs>\n       <path d=\"M 19.1875 8.296875 \nL 53.609375 8.296875 \nL 53.609375 0 \nL 7.328125 0 \nL 7.328125 8.296875 \nQ 12.9375 14.109375 22.625 23.890625 \nQ 32.328125 33.6875 34.8125 36.53125 \nQ 39.546875 41.84375 41.421875 45.53125 \nQ 43.3125 49.21875 43.3125 52.78125 \nQ 43.3125 58.59375 39.234375 62.25 \nQ 35.15625 65.921875 28.609375 65.921875 \nQ 23.96875 65.921875 18.8125 64.3125 \nQ 13.671875 62.703125 7.8125 59.421875 \nL 7.8125 69.390625 \nQ 13.765625 71.78125 18.9375 73 \nQ 24.125 74.21875 28.421875 74.21875 \nQ 39.75 74.21875 46.484375 68.546875 \nQ 53.21875 62.890625 53.21875 53.421875 \nQ 53.21875 48.921875 51.53125 44.890625 \nQ 49.859375 40.875 45.40625 35.40625 \nQ 44.1875 33.984375 37.640625 27.21875 \nQ 31.109375 20.453125 19.1875 8.296875 \nz\n\" id=\"DejaVuSans-50\"/>\n      </defs>\n      <g transform=\"translate(137.360938 347.958438)scale(0.1 -0.1)\">\n       <use xlink:href=\"#DejaVuSans-50\"/>\n      </g>\n     </g>\n    </g>\n    <g id=\"xtick_5\">\n     <g id=\"line2d_9\">\n      <path clip-path=\"url(#p9feefd3489)\" d=\"M 177.742188 333.36 \nL 177.742188 7.2 \n\" style=\"fill:none;stroke:#b0b0b0;stroke-linecap:square;stroke-width:0.8;\"/>\n     </g>\n     <g id=\"line2d_10\">\n      <g>\n       <use style=\"stroke:#000000;stroke-width:0.8;\" x=\"177.742188\" xlink:href=\"#m5cfd3d6268\" y=\"333.36\"/>\n      </g>\n     </g>\n     <g id=\"text_5\">\n      <!-- 3 -->\n      <defs>\n       <path d=\"M 40.578125 39.3125 \nQ 47.65625 37.796875 51.625 33 \nQ 55.609375 28.21875 55.609375 21.1875 \nQ 55.609375 10.40625 48.1875 4.484375 \nQ 40.765625 -1.421875 27.09375 -1.421875 \nQ 22.515625 -1.421875 17.65625 -0.515625 \nQ 12.796875 0.390625 7.625 2.203125 \nL 7.625 11.71875 \nQ 11.71875 9.328125 16.59375 8.109375 \nQ 21.484375 6.890625 26.8125 6.890625 \nQ 36.078125 6.890625 40.9375 10.546875 \nQ 45.796875 14.203125 45.796875 21.1875 \nQ 45.796875 27.640625 41.28125 31.265625 \nQ 36.765625 34.90625 28.71875 34.90625 \nL 20.21875 34.90625 \nL 20.21875 43.015625 \nL 29.109375 43.015625 \nQ 36.375 43.015625 40.234375 45.921875 \nQ 44.09375 48.828125 44.09375 54.296875 \nQ 44.09375 59.90625 40.109375 62.90625 \nQ 36.140625 65.921875 28.71875 65.921875 \nQ 24.65625 65.921875 20.015625 65.03125 \nQ 15.375 64.15625 9.8125 62.3125 \nL 9.8125 71.09375 \nQ 15.4375 72.65625 20.34375 73.4375 \nQ 25.25 74.21875 29.59375 74.21875 \nQ 40.828125 74.21875 47.359375 69.109375 \nQ 53.90625 64.015625 53.90625 55.328125 \nQ 53.90625 49.265625 50.4375 45.09375 \nQ 46.96875 40.921875 40.578125 39.3125 \nz\n\" id=\"DejaVuSans-51\"/>\n      </defs>\n      <g transform=\"translate(174.560937 347.958438)scale(0.1 -0.1)\">\n       <use xlink:href=\"#DejaVuSans-51\"/>\n      </g>\n     </g>\n    </g>\n    <g id=\"xtick_6\">\n     <g id=\"line2d_11\">\n      <path clip-path=\"url(#p9feefd3489)\" d=\"M 214.942187 333.36 \nL 214.942187 7.2 \n\" style=\"fill:none;stroke:#b0b0b0;stroke-linecap:square;stroke-width:0.8;\"/>\n     </g>\n     <g id=\"line2d_12\">\n      <g>\n       <use style=\"stroke:#000000;stroke-width:0.8;\" x=\"214.942187\" xlink:href=\"#m5cfd3d6268\" y=\"333.36\"/>\n      </g>\n     </g>\n     <g id=\"text_6\">\n      <!-- 4 -->\n      <defs>\n       <path d=\"M 37.796875 64.3125 \nL 12.890625 25.390625 \nL 37.796875 25.390625 \nz\nM 35.203125 72.90625 \nL 47.609375 72.90625 \nL 47.609375 25.390625 \nL 58.015625 25.390625 \nL 58.015625 17.1875 \nL 47.609375 17.1875 \nL 47.609375 0 \nL 37.796875 0 \nL 37.796875 17.1875 \nL 4.890625 17.1875 \nL 4.890625 26.703125 \nz\n\" id=\"DejaVuSans-52\"/>\n      </defs>\n      <g transform=\"translate(211.760937 347.958438)scale(0.1 -0.1)\">\n       <use xlink:href=\"#DejaVuSans-52\"/>\n      </g>\n     </g>\n    </g>\n    <g id=\"xtick_7\">\n     <g id=\"line2d_13\">\n      <path clip-path=\"url(#p9feefd3489)\" d=\"M 252.142187 333.36 \nL 252.142187 7.2 \n\" style=\"fill:none;stroke:#b0b0b0;stroke-linecap:square;stroke-width:0.8;\"/>\n     </g>\n     <g id=\"line2d_14\">\n      <g>\n       <use style=\"stroke:#000000;stroke-width:0.8;\" x=\"252.142187\" xlink:href=\"#m5cfd3d6268\" y=\"333.36\"/>\n      </g>\n     </g>\n     <g id=\"text_7\">\n      <!-- 5 -->\n      <defs>\n       <path d=\"M 10.796875 72.90625 \nL 49.515625 72.90625 \nL 49.515625 64.59375 \nL 19.828125 64.59375 \nL 19.828125 46.734375 \nQ 21.96875 47.46875 24.109375 47.828125 \nQ 26.265625 48.1875 28.421875 48.1875 \nQ 40.625 48.1875 47.75 41.5 \nQ 54.890625 34.8125 54.890625 23.390625 \nQ 54.890625 11.625 47.5625 5.09375 \nQ 40.234375 -1.421875 26.90625 -1.421875 \nQ 22.3125 -1.421875 17.546875 -0.640625 \nQ 12.796875 0.140625 7.71875 1.703125 \nL 7.71875 11.625 \nQ 12.109375 9.234375 16.796875 8.0625 \nQ 21.484375 6.890625 26.703125 6.890625 \nQ 35.15625 6.890625 40.078125 11.328125 \nQ 45.015625 15.765625 45.015625 23.390625 \nQ 45.015625 31 40.078125 35.4375 \nQ 35.15625 39.890625 26.703125 39.890625 \nQ 22.75 39.890625 18.8125 39.015625 \nQ 14.890625 38.140625 10.796875 36.28125 \nz\n\" id=\"DejaVuSans-53\"/>\n      </defs>\n      <g transform=\"translate(248.960937 347.958438)scale(0.1 -0.1)\">\n       <use xlink:href=\"#DejaVuSans-53\"/>\n      </g>\n     </g>\n    </g>\n    <g id=\"xtick_8\">\n     <g id=\"line2d_15\">\n      <path clip-path=\"url(#p9feefd3489)\" d=\"M 289.342188 333.36 \nL 289.342188 7.2 \n\" style=\"fill:none;stroke:#b0b0b0;stroke-linecap:square;stroke-width:0.8;\"/>\n     </g>\n     <g id=\"line2d_16\">\n      <g>\n       <use style=\"stroke:#000000;stroke-width:0.8;\" x=\"289.342188\" xlink:href=\"#m5cfd3d6268\" y=\"333.36\"/>\n      </g>\n     </g>\n     <g id=\"text_8\">\n      <!-- 6 -->\n      <defs>\n       <path d=\"M 33.015625 40.375 \nQ 26.375 40.375 22.484375 35.828125 \nQ 18.609375 31.296875 18.609375 23.390625 \nQ 18.609375 15.53125 22.484375 10.953125 \nQ 26.375 6.390625 33.015625 6.390625 \nQ 39.65625 6.390625 43.53125 10.953125 \nQ 47.40625 15.53125 47.40625 23.390625 \nQ 47.40625 31.296875 43.53125 35.828125 \nQ 39.65625 40.375 33.015625 40.375 \nz\nM 52.59375 71.296875 \nL 52.59375 62.3125 \nQ 48.875 64.0625 45.09375 64.984375 \nQ 41.3125 65.921875 37.59375 65.921875 \nQ 27.828125 65.921875 22.671875 59.328125 \nQ 17.53125 52.734375 16.796875 39.40625 \nQ 19.671875 43.65625 24.015625 45.921875 \nQ 28.375 48.1875 33.59375 48.1875 \nQ 44.578125 48.1875 50.953125 41.515625 \nQ 57.328125 34.859375 57.328125 23.390625 \nQ 57.328125 12.15625 50.6875 5.359375 \nQ 44.046875 -1.421875 33.015625 -1.421875 \nQ 20.359375 -1.421875 13.671875 8.265625 \nQ 6.984375 17.96875 6.984375 36.375 \nQ 6.984375 53.65625 15.1875 63.9375 \nQ 23.390625 74.21875 37.203125 74.21875 \nQ 40.921875 74.21875 44.703125 73.484375 \nQ 48.484375 72.75 52.59375 71.296875 \nz\n\" id=\"DejaVuSans-54\"/>\n      </defs>\n      <g transform=\"translate(286.160938 347.958438)scale(0.1 -0.1)\">\n       <use xlink:href=\"#DejaVuSans-54\"/>\n      </g>\n     </g>\n    </g>\n    <g id=\"xtick_9\">\n     <g id=\"line2d_17\">\n      <path clip-path=\"url(#p9feefd3489)\" d=\"M 326.542187 333.36 \nL 326.542187 7.2 \n\" style=\"fill:none;stroke:#b0b0b0;stroke-linecap:square;stroke-width:0.8;\"/>\n     </g>\n     <g id=\"line2d_18\">\n      <g>\n       <use style=\"stroke:#000000;stroke-width:0.8;\" x=\"326.542187\" xlink:href=\"#m5cfd3d6268\" y=\"333.36\"/>\n      </g>\n     </g>\n     <g id=\"text_9\">\n      <!-- 7 -->\n      <defs>\n       <path d=\"M 8.203125 72.90625 \nL 55.078125 72.90625 \nL 55.078125 68.703125 \nL 28.609375 0 \nL 18.3125 0 \nL 43.21875 64.59375 \nL 8.203125 64.59375 \nz\n\" id=\"DejaVuSans-55\"/>\n      </defs>\n      <g transform=\"translate(323.360937 347.958438)scale(0.1 -0.1)\">\n       <use xlink:href=\"#DejaVuSans-55\"/>\n      </g>\n     </g>\n    </g>\n   </g>\n   <g id=\"matplotlib.axis_2\">\n    <g id=\"ytick_1\">\n     <g id=\"line2d_19\">\n      <path clip-path=\"url(#p9feefd3489)\" d=\"M 28.942188 333.36 \nL 363.742188 333.36 \n\" style=\"fill:none;stroke:#b0b0b0;stroke-linecap:square;stroke-width:0.8;\"/>\n     </g>\n     <g id=\"line2d_20\">\n      <defs>\n       <path d=\"M 0 0 \nL -3.5 0 \n\" id=\"m0e7d636812\" style=\"stroke:#000000;stroke-width:0.8;\"/>\n      </defs>\n      <g>\n       <use style=\"stroke:#000000;stroke-width:0.8;\" x=\"28.942188\" xlink:href=\"#m0e7d636812\" y=\"333.36\"/>\n      </g>\n     </g>\n     <g id=\"text_10\">\n      <!-- −1 -->\n      <g transform=\"translate(7.2 337.159219)scale(0.1 -0.1)\">\n       <use xlink:href=\"#DejaVuSans-8722\"/>\n       <use x=\"83.789062\" xlink:href=\"#DejaVuSans-49\"/>\n      </g>\n     </g>\n    </g>\n    <g id=\"ytick_2\">\n     <g id=\"line2d_21\">\n      <path clip-path=\"url(#p9feefd3489)\" d=\"M 28.942188 297.12 \nL 363.742188 297.12 \n\" style=\"fill:none;stroke:#b0b0b0;stroke-linecap:square;stroke-width:0.8;\"/>\n     </g>\n     <g id=\"line2d_22\">\n      <g>\n       <use style=\"stroke:#000000;stroke-width:0.8;\" x=\"28.942188\" xlink:href=\"#m0e7d636812\" y=\"297.12\"/>\n      </g>\n     </g>\n     <g id=\"text_11\">\n      <!-- 0 -->\n      <g transform=\"translate(15.579688 300.919219)scale(0.1 -0.1)\">\n       <use xlink:href=\"#DejaVuSans-48\"/>\n      </g>\n     </g>\n    </g>\n    <g id=\"ytick_3\">\n     <g id=\"line2d_23\">\n      <path clip-path=\"url(#p9feefd3489)\" d=\"M 28.942188 260.88 \nL 363.742188 260.88 \n\" style=\"fill:none;stroke:#b0b0b0;stroke-linecap:square;stroke-width:0.8;\"/>\n     </g>\n     <g id=\"line2d_24\">\n      <g>\n       <use style=\"stroke:#000000;stroke-width:0.8;\" x=\"28.942188\" xlink:href=\"#m0e7d636812\" y=\"260.88\"/>\n      </g>\n     </g>\n     <g id=\"text_12\">\n      <!-- 1 -->\n      <g transform=\"translate(15.579688 264.679219)scale(0.1 -0.1)\">\n       <use xlink:href=\"#DejaVuSans-49\"/>\n      </g>\n     </g>\n    </g>\n    <g id=\"ytick_4\">\n     <g id=\"line2d_25\">\n      <path clip-path=\"url(#p9feefd3489)\" d=\"M 28.942188 224.64 \nL 363.742188 224.64 \n\" style=\"fill:none;stroke:#b0b0b0;stroke-linecap:square;stroke-width:0.8;\"/>\n     </g>\n     <g id=\"line2d_26\">\n      <g>\n       <use style=\"stroke:#000000;stroke-width:0.8;\" x=\"28.942188\" xlink:href=\"#m0e7d636812\" y=\"224.64\"/>\n      </g>\n     </g>\n     <g id=\"text_13\">\n      <!-- 2 -->\n      <g transform=\"translate(15.579688 228.439219)scale(0.1 -0.1)\">\n       <use xlink:href=\"#DejaVuSans-50\"/>\n      </g>\n     </g>\n    </g>\n    <g id=\"ytick_5\">\n     <g id=\"line2d_27\">\n      <path clip-path=\"url(#p9feefd3489)\" d=\"M 28.942188 188.4 \nL 363.742188 188.4 \n\" style=\"fill:none;stroke:#b0b0b0;stroke-linecap:square;stroke-width:0.8;\"/>\n     </g>\n     <g id=\"line2d_28\">\n      <g>\n       <use style=\"stroke:#000000;stroke-width:0.8;\" x=\"28.942188\" xlink:href=\"#m0e7d636812\" y=\"188.4\"/>\n      </g>\n     </g>\n     <g id=\"text_14\">\n      <!-- 3 -->\n      <g transform=\"translate(15.579688 192.199219)scale(0.1 -0.1)\">\n       <use xlink:href=\"#DejaVuSans-51\"/>\n      </g>\n     </g>\n    </g>\n    <g id=\"ytick_6\">\n     <g id=\"line2d_29\">\n      <path clip-path=\"url(#p9feefd3489)\" d=\"M 28.942188 152.16 \nL 363.742188 152.16 \n\" style=\"fill:none;stroke:#b0b0b0;stroke-linecap:square;stroke-width:0.8;\"/>\n     </g>\n     <g id=\"line2d_30\">\n      <g>\n       <use style=\"stroke:#000000;stroke-width:0.8;\" x=\"28.942188\" xlink:href=\"#m0e7d636812\" y=\"152.16\"/>\n      </g>\n     </g>\n     <g id=\"text_15\">\n      <!-- 4 -->\n      <g transform=\"translate(15.579688 155.959219)scale(0.1 -0.1)\">\n       <use xlink:href=\"#DejaVuSans-52\"/>\n      </g>\n     </g>\n    </g>\n    <g id=\"ytick_7\">\n     <g id=\"line2d_31\">\n      <path clip-path=\"url(#p9feefd3489)\" d=\"M 28.942188 115.92 \nL 363.742188 115.92 \n\" style=\"fill:none;stroke:#b0b0b0;stroke-linecap:square;stroke-width:0.8;\"/>\n     </g>\n     <g id=\"line2d_32\">\n      <g>\n       <use style=\"stroke:#000000;stroke-width:0.8;\" x=\"28.942188\" xlink:href=\"#m0e7d636812\" y=\"115.92\"/>\n      </g>\n     </g>\n     <g id=\"text_16\">\n      <!-- 5 -->\n      <g transform=\"translate(15.579688 119.719219)scale(0.1 -0.1)\">\n       <use xlink:href=\"#DejaVuSans-53\"/>\n      </g>\n     </g>\n    </g>\n    <g id=\"ytick_8\">\n     <g id=\"line2d_33\">\n      <path clip-path=\"url(#p9feefd3489)\" d=\"M 28.942188 79.68 \nL 363.742188 79.68 \n\" style=\"fill:none;stroke:#b0b0b0;stroke-linecap:square;stroke-width:0.8;\"/>\n     </g>\n     <g id=\"line2d_34\">\n      <g>\n       <use style=\"stroke:#000000;stroke-width:0.8;\" x=\"28.942188\" xlink:href=\"#m0e7d636812\" y=\"79.68\"/>\n      </g>\n     </g>\n     <g id=\"text_17\">\n      <!-- 6 -->\n      <g transform=\"translate(15.579688 83.479219)scale(0.1 -0.1)\">\n       <use xlink:href=\"#DejaVuSans-54\"/>\n      </g>\n     </g>\n    </g>\n    <g id=\"ytick_9\">\n     <g id=\"line2d_35\">\n      <path clip-path=\"url(#p9feefd3489)\" d=\"M 28.942188 43.44 \nL 363.742188 43.44 \n\" style=\"fill:none;stroke:#b0b0b0;stroke-linecap:square;stroke-width:0.8;\"/>\n     </g>\n     <g id=\"line2d_36\">\n      <g>\n       <use style=\"stroke:#000000;stroke-width:0.8;\" x=\"28.942188\" xlink:href=\"#m0e7d636812\" y=\"43.44\"/>\n      </g>\n     </g>\n     <g id=\"text_18\">\n      <!-- 7 -->\n      <g transform=\"translate(15.579688 47.239219)scale(0.1 -0.1)\">\n       <use xlink:href=\"#DejaVuSans-55\"/>\n      </g>\n     </g>\n    </g>\n   </g>\n   <g id=\"PathCollection_1\">\n    <defs>\n     <path d=\"M -3 3 \nL 3 -3 \nM -3 -3 \nL 3 3 \n\" id=\"mbf2bf92084\" style=\"stroke:#000000;stroke-width:1.5;\"/>\n    </defs>\n    <g clip-path=\"url(#p9feefd3489)\">\n     <use style=\"stroke:#000000;stroke-width:1.5;\" x=\"66.142188\" xlink:href=\"#mbf2bf92084\" y=\"297.12\"/>\n    </g>\n   </g>\n   <g id=\"patch_3\">\n    <path clip-path=\"url(#p9feefd3489)\" d=\"M 214.942187 224.64 \nL 202.464928 236.795266 \nL 199.977794 231.949366 \nL 66.150506 297.136207 \nL 66.133869 297.103793 \nL 199.961158 231.916952 \nL 197.474024 227.071053 \nz\n\" style=\"fill:#1f77b4;stroke:#1f77b4;stroke-linejoin:miter;\"/>\n   </g>\n   <g id=\"patch_4\">\n    <path clip-path=\"url(#p9feefd3489)\" d=\"M 177.742188 115.92 \nL 173.914339 132.700794 \nL 169.145478 129.913317 \nL 66.158137 297.129323 \nL 66.126238 297.110677 \nL 169.113579 129.894672 \nL 164.344718 127.107196 \nz\n\" style=\"fill:#2ca02c;stroke:#2ca02c;stroke-linejoin:miter;\"/>\n   </g>\n   <g id=\"patch_5\">\n    <path clip-path=\"url(#p9feefd3489)\" d=\"M 326.542187 43.44 \nL 318.650876 58.81533 \nL 314.718372 54.98431 \nL 66.15534 297.132813 \nL 66.129035 297.107187 \nL 314.692068 54.958685 \nL 310.759564 51.127665 \nz\n\" style=\"fill:#ff7f0e;stroke:#ff7f0e;stroke-linejoin:miter;\"/>\n   </g>\n   <g id=\"line2d_37\">\n    <path clip-path=\"url(#p9feefd3489)\" d=\"M 28.942188 297.12 \nL 363.742188 297.12 \n\" style=\"fill:none;stroke:#000000;stroke-linecap:square;stroke-width:2;\"/>\n   </g>\n   <g id=\"line2d_38\">\n    <path clip-path=\"url(#p9feefd3489)\" d=\"M 66.142188 333.36 \nL 66.142188 7.2 \n\" style=\"fill:none;stroke:#000000;stroke-linecap:square;stroke-width:2;\"/>\n   </g>\n   <g id=\"patch_6\">\n    <path d=\"M 28.942188 333.36 \nL 28.942188 7.2 \n\" style=\"fill:none;stroke:#000000;stroke-linecap:square;stroke-linejoin:miter;stroke-width:0.8;\"/>\n   </g>\n   <g id=\"patch_7\">\n    <path d=\"M 363.742188 333.36 \nL 363.742188 7.2 \n\" style=\"fill:none;stroke:#000000;stroke-linecap:square;stroke-linejoin:miter;stroke-width:0.8;\"/>\n   </g>\n   <g id=\"patch_8\">\n    <path d=\"M 28.942188 333.36 \nL 363.742188 333.36 \n\" style=\"fill:none;stroke:#000000;stroke-linecap:square;stroke-linejoin:miter;stroke-width:0.8;\"/>\n   </g>\n   <g id=\"patch_9\">\n    <path d=\"M 28.942188 7.2 \nL 363.742188 7.2 \n\" style=\"fill:none;stroke:#000000;stroke-linecap:square;stroke-linejoin:miter;stroke-width:0.8;\"/>\n   </g>\n  </g>\n </g>\n <defs>\n  <clipPath id=\"p9feefd3489\">\n   <rect height=\"326.16\" width=\"334.8\" x=\"28.942188\" y=\"7.2\"/>\n  </clipPath>\n </defs>\n</svg>\n",
      "image/png": "[encoded data removed]"
     },
     "metadata": {
      "needs_background": "light"
     }
    },
    {
     "output_type": "display_data",
     "data": {
      "text/plain": "<Figure size 432x432 with 1 Axes>",
      "image/svg+xml": "<?xml version=\"1.0\" encoding=\"utf-8\" standalone=\"no\"?>\n<!DOCTYPE svg PUBLIC \"-//W3C//DTD SVG 1.1//EN\"\n  \"http://www.w3.org/Graphics/SVG/1.1/DTD/svg11.dtd\">\n<!-- Created with matplotlib (https://matplotlib.org/) -->\n<svg height=\"357.238125pt\" version=\"1.1\" viewBox=\"0 0 370.942187 357.238125\" width=\"370.942187pt\" xmlns=\"http://www.w3.org/2000/svg\" xmlns:xlink=\"http://www.w3.org/1999/xlink\">\n <defs>\n  <style type=\"text/css\">\n*{stroke-linecap:butt;stroke-linejoin:round;}\n  </style>\n </defs>\n <g id=\"figure_1\">\n  <g id=\"patch_1\">\n   <path d=\"M 0 357.238125 \nL 370.942187 357.238125 \nL 370.942187 0 \nL 0 0 \nz\n\" style=\"fill:none;\"/>\n  </g>\n  <g id=\"axes_1\">\n   <g id=\"patch_2\">\n    <path d=\"M 28.942188 333.36 \nL 363.742188 333.36 \nL 363.742188 7.2 \nL 28.942188 7.2 \nz\n\" style=\"fill:#ffffff;\"/>\n   </g>\n   <g id=\"matplotlib.axis_1\">\n    <g id=\"xtick_1\">\n     <g id=\"line2d_1\">\n      <path clip-path=\"url(#pdf6950b778)\" d=\"M 28.942188 333.36 \nL 28.942188 7.2 \n\" style=\"fill:none;stroke:#b0b0b0;stroke-linecap:square;stroke-width:0.8;\"/>\n     </g>\n     <g id=\"line2d_2\">\n      <defs>\n       <path d=\"M 0 0 \nL 0 3.5 \n\" id=\"ma93da21278\" style=\"stroke:#000000;stroke-width:0.8;\"/>\n      </defs>\n      <g>\n       <use style=\"stroke:#000000;stroke-width:0.8;\" x=\"28.942188\" xlink:href=\"#ma93da21278\" y=\"333.36\"/>\n      </g>\n     </g>\n     <g id=\"text_1\">\n      <!-- −1 -->\n      <defs>\n       <path d=\"M 10.59375 35.5 \nL 73.1875 35.5 \nL 73.1875 27.203125 \nL 10.59375 27.203125 \nz\n\" id=\"DejaVuSans-8722\"/>\n       <path d=\"M 12.40625 8.296875 \nL 28.515625 8.296875 \nL 28.515625 63.921875 \nL 10.984375 60.40625 \nL 10.984375 69.390625 \nL 28.421875 72.90625 \nL 38.28125 72.90625 \nL 38.28125 8.296875 \nL 54.390625 8.296875 \nL 54.390625 0 \nL 12.40625 0 \nz\n\" id=\"DejaVuSans-49\"/>\n      </defs>\n      <g transform=\"translate(21.571094 347.958438)scale(0.1 -0.1)\">\n       <use xlink:href=\"#DejaVuSans-8722\"/>\n       <use x=\"83.789062\" xlink:href=\"#DejaVuSans-49\"/>\n      </g>\n     </g>\n    </g>\n    <g id=\"xtick_2\">\n     <g id=\"line2d_3\">\n      <path clip-path=\"url(#pdf6950b778)\" d=\"M 66.142188 333.36 \nL 66.142188 7.2 \n\" style=\"fill:none;stroke:#b0b0b0;stroke-linecap:square;stroke-width:0.8;\"/>\n     </g>\n     <g id=\"line2d_4\">\n      <g>\n       <use style=\"stroke:#000000;stroke-width:0.8;\" x=\"66.142188\" xlink:href=\"#ma93da21278\" y=\"333.36\"/>\n      </g>\n     </g>\n     <g id=\"text_2\">\n      <!-- 0 -->\n      <defs>\n       <path d=\"M 31.78125 66.40625 \nQ 24.171875 66.40625 20.328125 58.90625 \nQ 16.5 51.421875 16.5 36.375 \nQ 16.5 21.390625 20.328125 13.890625 \nQ 24.171875 6.390625 31.78125 6.390625 \nQ 39.453125 6.390625 43.28125 13.890625 \nQ 47.125 21.390625 47.125 36.375 \nQ 47.125 51.421875 43.28125 58.90625 \nQ 39.453125 66.40625 31.78125 66.40625 \nz\nM 31.78125 74.21875 \nQ 44.046875 74.21875 50.515625 64.515625 \nQ 56.984375 54.828125 56.984375 36.375 \nQ 56.984375 17.96875 50.515625 8.265625 \nQ 44.046875 -1.421875 31.78125 -1.421875 \nQ 19.53125 -1.421875 13.0625 8.265625 \nQ 6.59375 17.96875 6.59375 36.375 \nQ 6.59375 54.828125 13.0625 64.515625 \nQ 19.53125 74.21875 31.78125 74.21875 \nz\n\" id=\"DejaVuSans-48\"/>\n      </defs>\n      <g transform=\"translate(62.960938 347.958438)scale(0.1 -0.1)\">\n       <use xlink:href=\"#DejaVuSans-48\"/>\n      </g>\n     </g>\n    </g>\n    <g id=\"xtick_3\">\n     <g id=\"line2d_5\">\n      <path clip-path=\"url(#pdf6950b778)\" d=\"M 103.342187 333.36 \nL 103.342187 7.2 \n\" style=\"fill:none;stroke:#b0b0b0;stroke-linecap:square;stroke-width:0.8;\"/>\n     </g>\n     <g id=\"line2d_6\">\n      <g>\n       <use style=\"stroke:#000000;stroke-width:0.8;\" x=\"103.342187\" xlink:href=\"#ma93da21278\" y=\"333.36\"/>\n      </g>\n     </g>\n     <g id=\"text_3\">\n      <!-- 1 -->\n      <g transform=\"translate(100.160937 347.958438)scale(0.1 -0.1)\">\n       <use xlink:href=\"#DejaVuSans-49\"/>\n      </g>\n     </g>\n    </g>\n    <g id=\"xtick_4\">\n     <g id=\"line2d_7\">\n      <path clip-path=\"url(#pdf6950b778)\" d=\"M 140.542188 333.36 \nL 140.542188 7.2 \n\" style=\"fill:none;stroke:#b0b0b0;stroke-linecap:square;stroke-width:0.8;\"/>\n     </g>\n     <g id=\"line2d_8\">\n      <g>\n       <use style=\"stroke:#000000;stroke-width:0.8;\" x=\"140.542188\" xlink:href=\"#ma93da21278\" y=\"333.36\"/>\n      </g>\n     </g>\n     <g id=\"text_4\">\n      <!-- 2 -->\n      <defs>\n       <path d=\"M 19.1875 8.296875 \nL 53.609375 8.296875 \nL 53.609375 0 \nL 7.328125 0 \nL 7.328125 8.296875 \nQ 12.9375 14.109375 22.625 23.890625 \nQ 32.328125 33.6875 34.8125 36.53125 \nQ 39.546875 41.84375 41.421875 45.53125 \nQ 43.3125 49.21875 43.3125 52.78125 \nQ 43.3125 58.59375 39.234375 62.25 \nQ 35.15625 65.921875 28.609375 65.921875 \nQ 23.96875 65.921875 18.8125 64.3125 \nQ 13.671875 62.703125 7.8125 59.421875 \nL 7.8125 69.390625 \nQ 13.765625 71.78125 18.9375 73 \nQ 24.125 74.21875 28.421875 74.21875 \nQ 39.75 74.21875 46.484375 68.546875 \nQ 53.21875 62.890625 53.21875 53.421875 \nQ 53.21875 48.921875 51.53125 44.890625 \nQ 49.859375 40.875 45.40625 35.40625 \nQ 44.1875 33.984375 37.640625 27.21875 \nQ 31.109375 20.453125 19.1875 8.296875 \nz\n\" id=\"DejaVuSans-50\"/>\n      </defs>\n      <g transform=\"translate(137.360938 347.958438)scale(0.1 -0.1)\">\n       <use xlink:href=\"#DejaVuSans-50\"/>\n      </g>\n     </g>\n    </g>\n    <g id=\"xtick_5\">\n     <g id=\"line2d_9\">\n      <path clip-path=\"url(#pdf6950b778)\" d=\"M 177.742188 333.36 \nL 177.742188 7.2 \n\" style=\"fill:none;stroke:#b0b0b0;stroke-linecap:square;stroke-width:0.8;\"/>\n     </g>\n     <g id=\"line2d_10\">\n      <g>\n       <use style=\"stroke:#000000;stroke-width:0.8;\" x=\"177.742188\" xlink:href=\"#ma93da21278\" y=\"333.36\"/>\n      </g>\n     </g>\n     <g id=\"text_5\">\n      <!-- 3 -->\n      <defs>\n       <path d=\"M 40.578125 39.3125 \nQ 47.65625 37.796875 51.625 33 \nQ 55.609375 28.21875 55.609375 21.1875 \nQ 55.609375 10.40625 48.1875 4.484375 \nQ 40.765625 -1.421875 27.09375 -1.421875 \nQ 22.515625 -1.421875 17.65625 -0.515625 \nQ 12.796875 0.390625 7.625 2.203125 \nL 7.625 11.71875 \nQ 11.71875 9.328125 16.59375 8.109375 \nQ 21.484375 6.890625 26.8125 6.890625 \nQ 36.078125 6.890625 40.9375 10.546875 \nQ 45.796875 14.203125 45.796875 21.1875 \nQ 45.796875 27.640625 41.28125 31.265625 \nQ 36.765625 34.90625 28.71875 34.90625 \nL 20.21875 34.90625 \nL 20.21875 43.015625 \nL 29.109375 43.015625 \nQ 36.375 43.015625 40.234375 45.921875 \nQ 44.09375 48.828125 44.09375 54.296875 \nQ 44.09375 59.90625 40.109375 62.90625 \nQ 36.140625 65.921875 28.71875 65.921875 \nQ 24.65625 65.921875 20.015625 65.03125 \nQ 15.375 64.15625 9.8125 62.3125 \nL 9.8125 71.09375 \nQ 15.4375 72.65625 20.34375 73.4375 \nQ 25.25 74.21875 29.59375 74.21875 \nQ 40.828125 74.21875 47.359375 69.109375 \nQ 53.90625 64.015625 53.90625 55.328125 \nQ 53.90625 49.265625 50.4375 45.09375 \nQ 46.96875 40.921875 40.578125 39.3125 \nz\n\" id=\"DejaVuSans-51\"/>\n      </defs>\n      <g transform=\"translate(174.560937 347.958438)scale(0.1 -0.1)\">\n       <use xlink:href=\"#DejaVuSans-51\"/>\n      </g>\n     </g>\n    </g>\n    <g id=\"xtick_6\">\n     <g id=\"line2d_11\">\n      <path clip-path=\"url(#pdf6950b778)\" d=\"M 214.942187 333.36 \nL 214.942187 7.2 \n\" style=\"fill:none;stroke:#b0b0b0;stroke-linecap:square;stroke-width:0.8;\"/>\n     </g>\n     <g id=\"line2d_12\">\n      <g>\n       <use style=\"stroke:#000000;stroke-width:0.8;\" x=\"214.942187\" xlink:href=\"#ma93da21278\" y=\"333.36\"/>\n      </g>\n     </g>\n     <g id=\"text_6\">\n      <!-- 4 -->\n      <defs>\n       <path d=\"M 37.796875 64.3125 \nL 12.890625 25.390625 \nL 37.796875 25.390625 \nz\nM 35.203125 72.90625 \nL 47.609375 72.90625 \nL 47.609375 25.390625 \nL 58.015625 25.390625 \nL 58.015625 17.1875 \nL 47.609375 17.1875 \nL 47.609375 0 \nL 37.796875 0 \nL 37.796875 17.1875 \nL 4.890625 17.1875 \nL 4.890625 26.703125 \nz\n\" id=\"DejaVuSans-52\"/>\n      </defs>\n      <g transform=\"translate(211.760937 347.958438)scale(0.1 -0.1)\">\n       <use xlink:href=\"#DejaVuSans-52\"/>\n      </g>\n     </g>\n    </g>\n    <g id=\"xtick_7\">\n     <g id=\"line2d_13\">\n      <path clip-path=\"url(#pdf6950b778)\" d=\"M 252.142187 333.36 \nL 252.142187 7.2 \n\" style=\"fill:none;stroke:#b0b0b0;stroke-linecap:square;stroke-width:0.8;\"/>\n     </g>\n     <g id=\"line2d_14\">\n      <g>\n       <use style=\"stroke:#000000;stroke-width:0.8;\" x=\"252.142187\" xlink:href=\"#ma93da21278\" y=\"333.36\"/>\n      </g>\n     </g>\n     <g id=\"text_7\">\n      <!-- 5 -->\n      <defs>\n       <path d=\"M 10.796875 72.90625 \nL 49.515625 72.90625 \nL 49.515625 64.59375 \nL 19.828125 64.59375 \nL 19.828125 46.734375 \nQ 21.96875 47.46875 24.109375 47.828125 \nQ 26.265625 48.1875 28.421875 48.1875 \nQ 40.625 48.1875 47.75 41.5 \nQ 54.890625 34.8125 54.890625 23.390625 \nQ 54.890625 11.625 47.5625 5.09375 \nQ 40.234375 -1.421875 26.90625 -1.421875 \nQ 22.3125 -1.421875 17.546875 -0.640625 \nQ 12.796875 0.140625 7.71875 1.703125 \nL 7.71875 11.625 \nQ 12.109375 9.234375 16.796875 8.0625 \nQ 21.484375 6.890625 26.703125 6.890625 \nQ 35.15625 6.890625 40.078125 11.328125 \nQ 45.015625 15.765625 45.015625 23.390625 \nQ 45.015625 31 40.078125 35.4375 \nQ 35.15625 39.890625 26.703125 39.890625 \nQ 22.75 39.890625 18.8125 39.015625 \nQ 14.890625 38.140625 10.796875 36.28125 \nz\n\" id=\"DejaVuSans-53\"/>\n      </defs>\n      <g transform=\"translate(248.960937 347.958438)scale(0.1 -0.1)\">\n       <use xlink:href=\"#DejaVuSans-53\"/>\n      </g>\n     </g>\n    </g>\n    <g id=\"xtick_8\">\n     <g id=\"line2d_15\">\n      <path clip-path=\"url(#pdf6950b778)\" d=\"M 289.342188 333.36 \nL 289.342188 7.2 \n\" style=\"fill:none;stroke:#b0b0b0;stroke-linecap:square;stroke-width:0.8;\"/>\n     </g>\n     <g id=\"line2d_16\">\n      <g>\n       <use style=\"stroke:#000000;stroke-width:0.8;\" x=\"289.342188\" xlink:href=\"#ma93da21278\" y=\"333.36\"/>\n      </g>\n     </g>\n     <g id=\"text_8\">\n      <!-- 6 -->\n      <defs>\n       <path d=\"M 33.015625 40.375 \nQ 26.375 40.375 22.484375 35.828125 \nQ 18.609375 31.296875 18.609375 23.390625 \nQ 18.609375 15.53125 22.484375 10.953125 \nQ 26.375 6.390625 33.015625 6.390625 \nQ 39.65625 6.390625 43.53125 10.953125 \nQ 47.40625 15.53125 47.40625 23.390625 \nQ 47.40625 31.296875 43.53125 35.828125 \nQ 39.65625 40.375 33.015625 40.375 \nz\nM 52.59375 71.296875 \nL 52.59375 62.3125 \nQ 48.875 64.0625 45.09375 64.984375 \nQ 41.3125 65.921875 37.59375 65.921875 \nQ 27.828125 65.921875 22.671875 59.328125 \nQ 17.53125 52.734375 16.796875 39.40625 \nQ 19.671875 43.65625 24.015625 45.921875 \nQ 28.375 48.1875 33.59375 48.1875 \nQ 44.578125 48.1875 50.953125 41.515625 \nQ 57.328125 34.859375 57.328125 23.390625 \nQ 57.328125 12.15625 50.6875 5.359375 \nQ 44.046875 -1.421875 33.015625 -1.421875 \nQ 20.359375 -1.421875 13.671875 8.265625 \nQ 6.984375 17.96875 6.984375 36.375 \nQ 6.984375 53.65625 15.1875 63.9375 \nQ 23.390625 74.21875 37.203125 74.21875 \nQ 40.921875 74.21875 44.703125 73.484375 \nQ 48.484375 72.75 52.59375 71.296875 \nz\n\" id=\"DejaVuSans-54\"/>\n      </defs>\n      <g transform=\"translate(286.160938 347.958438)scale(0.1 -0.1)\">\n       <use xlink:href=\"#DejaVuSans-54\"/>\n      </g>\n     </g>\n    </g>\n    <g id=\"xtick_9\">\n     <g id=\"line2d_17\">\n      <path clip-path=\"url(#pdf6950b778)\" d=\"M 326.542187 333.36 \nL 326.542187 7.2 \n\" style=\"fill:none;stroke:#b0b0b0;stroke-linecap:square;stroke-width:0.8;\"/>\n     </g>\n     <g id=\"line2d_18\">\n      <g>\n       <use style=\"stroke:#000000;stroke-width:0.8;\" x=\"326.542187\" xlink:href=\"#ma93da21278\" y=\"333.36\"/>\n      </g>\n     </g>\n     <g id=\"text_9\">\n      <!-- 7 -->\n      <defs>\n       <path d=\"M 8.203125 72.90625 \nL 55.078125 72.90625 \nL 55.078125 68.703125 \nL 28.609375 0 \nL 18.3125 0 \nL 43.21875 64.59375 \nL 8.203125 64.59375 \nz\n\" id=\"DejaVuSans-55\"/>\n      </defs>\n      <g transform=\"translate(323.360937 347.958438)scale(0.1 -0.1)\">\n       <use xlink:href=\"#DejaVuSans-55\"/>\n      </g>\n     </g>\n    </g>\n   </g>\n   <g id=\"matplotlib.axis_2\">\n    <g id=\"ytick_1\">\n     <g id=\"line2d_19\">\n      <path clip-path=\"url(#pdf6950b778)\" d=\"M 28.942188 333.36 \nL 363.742188 333.36 \n\" style=\"fill:none;stroke:#b0b0b0;stroke-linecap:square;stroke-width:0.8;\"/>\n     </g>\n     <g id=\"line2d_20\">\n      <defs>\n       <path d=\"M 0 0 \nL -3.5 0 \n\" id=\"m8bfc5b5450\" style=\"stroke:#000000;stroke-width:0.8;\"/>\n      </defs>\n      <g>\n       <use style=\"stroke:#000000;stroke-width:0.8;\" x=\"28.942188\" xlink:href=\"#m8bfc5b5450\" y=\"333.36\"/>\n      </g>\n     </g>\n     <g id=\"text_10\">\n      <!-- −8 -->\n      <defs>\n       <path d=\"M 31.78125 34.625 \nQ 24.75 34.625 20.71875 30.859375 \nQ 16.703125 27.09375 16.703125 20.515625 \nQ 16.703125 13.921875 20.71875 10.15625 \nQ 24.75 6.390625 31.78125 6.390625 \nQ 38.8125 6.390625 42.859375 10.171875 \nQ 46.921875 13.96875 46.921875 20.515625 \nQ 46.921875 27.09375 42.890625 30.859375 \nQ 38.875 34.625 31.78125 34.625 \nz\nM 21.921875 38.8125 \nQ 15.578125 40.375 12.03125 44.71875 \nQ 8.5 49.078125 8.5 55.328125 \nQ 8.5 64.0625 14.71875 69.140625 \nQ 20.953125 74.21875 31.78125 74.21875 \nQ 42.671875 74.21875 48.875 69.140625 \nQ 55.078125 64.0625 55.078125 55.328125 \nQ 55.078125 49.078125 51.53125 44.71875 \nQ 48 40.375 41.703125 38.8125 \nQ 48.828125 37.15625 52.796875 32.3125 \nQ 56.78125 27.484375 56.78125 20.515625 \nQ 56.78125 9.90625 50.3125 4.234375 \nQ 43.84375 -1.421875 31.78125 -1.421875 \nQ 19.734375 -1.421875 13.25 4.234375 \nQ 6.78125 9.90625 6.78125 20.515625 \nQ 6.78125 27.484375 10.78125 32.3125 \nQ 14.796875 37.15625 21.921875 38.8125 \nz\nM 18.3125 54.390625 \nQ 18.3125 48.734375 21.84375 45.5625 \nQ 25.390625 42.390625 31.78125 42.390625 \nQ 38.140625 42.390625 41.71875 45.5625 \nQ 45.3125 48.734375 45.3125 54.390625 \nQ 45.3125 60.0625 41.71875 63.234375 \nQ 38.140625 66.40625 31.78125 66.40625 \nQ 25.390625 66.40625 21.84375 63.234375 \nQ 18.3125 60.0625 18.3125 54.390625 \nz\n\" id=\"DejaVuSans-56\"/>\n      </defs>\n      <g transform=\"translate(7.2 337.159219)scale(0.1 -0.1)\">\n       <use xlink:href=\"#DejaVuSans-8722\"/>\n       <use x=\"83.789062\" xlink:href=\"#DejaVuSans-56\"/>\n      </g>\n     </g>\n    </g>\n    <g id=\"ytick_2\">\n     <g id=\"line2d_21\">\n      <path clip-path=\"url(#pdf6950b778)\" d=\"M 28.942188 297.12 \nL 363.742188 297.12 \n\" style=\"fill:none;stroke:#b0b0b0;stroke-linecap:square;stroke-width:0.8;\"/>\n     </g>\n     <g id=\"line2d_22\">\n      <g>\n       <use style=\"stroke:#000000;stroke-width:0.8;\" x=\"28.942188\" xlink:href=\"#m8bfc5b5450\" y=\"297.12\"/>\n      </g>\n     </g>\n     <g id=\"text_11\">\n      <!-- −7 -->\n      <g transform=\"translate(7.2 300.919219)scale(0.1 -0.1)\">\n       <use xlink:href=\"#DejaVuSans-8722\"/>\n       <use x=\"83.789062\" xlink:href=\"#DejaVuSans-55\"/>\n      </g>\n     </g>\n    </g>\n    <g id=\"ytick_3\">\n     <g id=\"line2d_23\">\n      <path clip-path=\"url(#pdf6950b778)\" d=\"M 28.942188 260.88 \nL 363.742188 260.88 \n\" style=\"fill:none;stroke:#b0b0b0;stroke-linecap:square;stroke-width:0.8;\"/>\n     </g>\n     <g id=\"line2d_24\">\n      <g>\n       <use style=\"stroke:#000000;stroke-width:0.8;\" x=\"28.942188\" xlink:href=\"#m8bfc5b5450\" y=\"260.88\"/>\n      </g>\n     </g>\n     <g id=\"text_12\">\n      <!-- −6 -->\n      <g transform=\"translate(7.2 264.679219)scale(0.1 -0.1)\">\n       <use xlink:href=\"#DejaVuSans-8722\"/>\n       <use x=\"83.789062\" xlink:href=\"#DejaVuSans-54\"/>\n      </g>\n     </g>\n    </g>\n    <g id=\"ytick_4\">\n     <g id=\"line2d_25\">\n      <path clip-path=\"url(#pdf6950b778)\" d=\"M 28.942188 224.64 \nL 363.742188 224.64 \n\" style=\"fill:none;stroke:#b0b0b0;stroke-linecap:square;stroke-width:0.8;\"/>\n     </g>\n     <g id=\"line2d_26\">\n      <g>\n       <use style=\"stroke:#000000;stroke-width:0.8;\" x=\"28.942188\" xlink:href=\"#m8bfc5b5450\" y=\"224.64\"/>\n      </g>\n     </g>\n     <g id=\"text_13\">\n      <!-- −5 -->\n      <g transform=\"translate(7.2 228.439219)scale(0.1 -0.1)\">\n       <use xlink:href=\"#DejaVuSans-8722\"/>\n       <use x=\"83.789062\" xlink:href=\"#DejaVuSans-53\"/>\n      </g>\n     </g>\n    </g>\n    <g id=\"ytick_5\">\n     <g id=\"line2d_27\">\n      <path clip-path=\"url(#pdf6950b778)\" d=\"M 28.942188 188.4 \nL 363.742188 188.4 \n\" style=\"fill:none;stroke:#b0b0b0;stroke-linecap:square;stroke-width:0.8;\"/>\n     </g>\n     <g id=\"line2d_28\">\n      <g>\n       <use style=\"stroke:#000000;stroke-width:0.8;\" x=\"28.942188\" xlink:href=\"#m8bfc5b5450\" y=\"188.4\"/>\n      </g>\n     </g>\n     <g id=\"text_14\">\n      <!-- −4 -->\n      <g transform=\"translate(7.2 192.199219)scale(0.1 -0.1)\">\n       <use xlink:href=\"#DejaVuSans-8722\"/>\n       <use x=\"83.789062\" xlink:href=\"#DejaVuSans-52\"/>\n      </g>\n     </g>\n    </g>\n    <g id=\"ytick_6\">\n     <g id=\"line2d_29\">\n      <path clip-path=\"url(#pdf6950b778)\" d=\"M 28.942188 152.16 \nL 363.742188 152.16 \n\" style=\"fill:none;stroke:#b0b0b0;stroke-linecap:square;stroke-width:0.8;\"/>\n     </g>\n     <g id=\"line2d_30\">\n      <g>\n       <use style=\"stroke:#000000;stroke-width:0.8;\" x=\"28.942188\" xlink:href=\"#m8bfc5b5450\" y=\"152.16\"/>\n      </g>\n     </g>\n     <g id=\"text_15\">\n      <!-- −3 -->\n      <g transform=\"translate(7.2 155.959219)scale(0.1 -0.1)\">\n       <use xlink:href=\"#DejaVuSans-8722\"/>\n       <use x=\"83.789062\" xlink:href=\"#DejaVuSans-51\"/>\n      </g>\n     </g>\n    </g>\n    <g id=\"ytick_7\">\n     <g id=\"line2d_31\">\n      <path clip-path=\"url(#pdf6950b778)\" d=\"M 28.942188 115.92 \nL 363.742188 115.92 \n\" style=\"fill:none;stroke:#b0b0b0;stroke-linecap:square;stroke-width:0.8;\"/>\n     </g>\n     <g id=\"line2d_32\">\n      <g>\n       <use style=\"stroke:#000000;stroke-width:0.8;\" x=\"28.942188\" xlink:href=\"#m8bfc5b5450\" y=\"115.92\"/>\n      </g>\n     </g>\n     <g id=\"text_16\">\n      <!-- −2 -->\n      <g transform=\"translate(7.2 119.719219)scale(0.1 -0.1)\">\n       <use xlink:href=\"#DejaVuSans-8722\"/>\n       <use x=\"83.789062\" xlink:href=\"#DejaVuSans-50\"/>\n      </g>\n     </g>\n    </g>\n    <g id=\"ytick_8\">\n     <g id=\"line2d_33\">\n      <path clip-path=\"url(#pdf6950b778)\" d=\"M 28.942188 79.68 \nL 363.742188 79.68 \n\" style=\"fill:none;stroke:#b0b0b0;stroke-linecap:square;stroke-width:0.8;\"/>\n     </g>\n     <g id=\"line2d_34\">\n      <g>\n       <use style=\"stroke:#000000;stroke-width:0.8;\" x=\"28.942188\" xlink:href=\"#m8bfc5b5450\" y=\"79.68\"/>\n      </g>\n     </g>\n     <g id=\"text_17\">\n      <!-- −1 -->\n      <g transform=\"translate(7.2 83.479219)scale(0.1 -0.1)\">\n       <use xlink:href=\"#DejaVuSans-8722\"/>\n       <use x=\"83.789062\" xlink:href=\"#DejaVuSans-49\"/>\n      </g>\n     </g>\n    </g>\n    <g id=\"ytick_9\">\n     <g id=\"line2d_35\">\n      <path clip-path=\"url(#pdf6950b778)\" d=\"M 28.942188 43.44 \nL 363.742188 43.44 \n\" style=\"fill:none;stroke:#b0b0b0;stroke-linecap:square;stroke-width:0.8;\"/>\n     </g>\n     <g id=\"line2d_36\">\n      <g>\n       <use style=\"stroke:#000000;stroke-width:0.8;\" x=\"28.942188\" xlink:href=\"#m8bfc5b5450\" y=\"43.44\"/>\n      </g>\n     </g>\n     <g id=\"text_18\">\n      <!-- 0 -->\n      <g transform=\"translate(15.579688 47.239219)scale(0.1 -0.1)\">\n       <use xlink:href=\"#DejaVuSans-48\"/>\n      </g>\n     </g>\n    </g>\n   </g>\n   <g id=\"PathCollection_1\">\n    <defs>\n     <path d=\"M -3 3 \nL 3 -3 \nM -3 -3 \nL 3 3 \n\" id=\"m09a55724e6\" style=\"stroke:#000000;stroke-width:1.5;\"/>\n    </defs>\n    <g clip-path=\"url(#pdf6950b778)\">\n     <use style=\"stroke:#000000;stroke-width:1.5;\" x=\"66.142188\" xlink:href=\"#m09a55724e6\" y=\"43.44\"/>\n    </g>\n   </g>\n   <g id=\"patch_3\">\n    <path clip-path=\"url(#pdf6950b778)\" d=\"M 214.942187 115.92 \nL 197.474024 113.488947 \nL 199.961158 108.643048 \nL 66.133869 43.456207 \nL 66.150506 43.423793 \nL 199.977794 108.610634 \nL 202.464928 103.764734 \nz\n\" style=\"fill:#1f77b4;stroke:#1f77b4;stroke-linejoin:miter;\"/>\n   </g>\n   <g id=\"patch_4\">\n    <path clip-path=\"url(#pdf6950b778)\" d=\"M 177.742188 224.64 \nL 164.344718 213.452804 \nL 169.113579 210.665328 \nL 66.126238 43.449323 \nL 66.158137 43.430677 \nL 169.145478 210.646683 \nL 173.914339 207.859206 \nz\n\" style=\"fill:#2ca02c;stroke:#2ca02c;stroke-linejoin:miter;\"/>\n   </g>\n   <g id=\"patch_5\">\n    <path clip-path=\"url(#pdf6950b778)\" d=\"M 326.542187 297.12 \nL 313.144718 285.932804 \nL 317.913579 283.145328 \nL 214.926238 115.929323 \nL 214.958137 115.910677 \nL 317.945478 283.126683 \nL 322.714339 280.339206 \nz\n\" style=\"fill:#2ca02c;stroke:#2ca02c;stroke-linejoin:miter;\"/>\n   </g>\n   <g id=\"patch_6\">\n    <path clip-path=\"url(#pdf6950b778)\" d=\"M 326.542187 297.12 \nL 310.759564 289.432335 \nL 314.692068 285.601315 \nL 66.129035 43.452813 \nL 66.15534 43.427187 \nL 314.718372 285.57569 \nL 318.650876 281.74467 \nz\n\" style=\"fill:#9467bd;stroke:#9467bd;stroke-linejoin:miter;\"/>\n   </g>\n   <g id=\"line2d_37\">\n    <path clip-path=\"url(#pdf6950b778)\" d=\"M 28.942188 43.44 \nL 363.742188 43.44 \n\" style=\"fill:none;stroke:#000000;stroke-linecap:square;stroke-width:2;\"/>\n   </g>\n   <g id=\"line2d_38\">\n    <path clip-path=\"url(#pdf6950b778)\" d=\"M 66.142188 333.36 \nL 66.142188 7.2 \n\" style=\"fill:none;stroke:#000000;stroke-linecap:square;stroke-width:2;\"/>\n   </g>\n   <g id=\"patch_7\">\n    <path d=\"M 28.942188 333.36 \nL 28.942188 7.2 \n\" style=\"fill:none;stroke:#000000;stroke-linecap:square;stroke-linejoin:miter;stroke-width:0.8;\"/>\n   </g>\n   <g id=\"patch_8\">\n    <path d=\"M 363.742188 333.36 \nL 363.742188 7.2 \n\" style=\"fill:none;stroke:#000000;stroke-linecap:square;stroke-linejoin:miter;stroke-width:0.8;\"/>\n   </g>\n   <g id=\"patch_9\">\n    <path d=\"M 28.942188 333.36 \nL 363.742188 333.36 \n\" style=\"fill:none;stroke:#000000;stroke-linecap:square;stroke-linejoin:miter;stroke-width:0.8;\"/>\n   </g>\n   <g id=\"patch_10\">\n    <path d=\"M 28.942188 7.2 \nL 363.742188 7.2 \n\" style=\"fill:none;stroke:#000000;stroke-linecap:square;stroke-linejoin:miter;stroke-width:0.8;\"/>\n   </g>\n  </g>\n </g>\n <defs>\n  <clipPath id=\"pdf6950b778\">\n   <rect height=\"326.16\" width=\"334.8\" x=\"28.942188\" y=\"7.2\"/>\n  </clipPath>\n </defs>\n</svg>\n",
      "image/png": "[encoded data removed]"
     },
     "metadata": {
      "needs_background": "light"
     }
    }
   ],
   "source": [
    "from my_draw2d import *\n",
    "from vectors_my_implementation import *\n",
    "\n",
    "u = (4, 2)\n",
    "v = (3, 5)\n",
    "sum_vector = add(u, v)\n",
    "\n",
    "draw2d(\n",
    "    Arrow2D(u, color=blue),\n",
    "    Arrow2D(v, color=green),\n",
    "    Arrow2D(sum_vector, color=orange)\n",
    ")\n",
    "\n",
    "def sx(v):\n",
    "    x, y = v\n",
    "    return (x, -y)\n",
    "\n",
    "sx_u = sx(u)\n",
    "sx_v = sx(v)\n",
    "sx_sum_vector = sx(sum_vector)\n",
    "\n",
    "draw2d(\n",
    "    Arrow2D(sx_u, color=blue),\n",
    "    Arrow2D(sx_v, color=green),\n",
    "    Arrow2D(add(sx_u, sx_v), sx_u, color=green),\n",
    "    Arrow2D(sx_sum_vector, color=purple)\n",
    ")\n",
    "\n",
    "\n"
   ]
  },
  {
   "source": [
    "We can see that $ S_x(u + v) = S_x(u) + S_x(v) $, and there does not seem to be any evident reason why it wouldn't be the same for any pair of $ u $ and $ v $ vectors."
   ],
   "cell_type": "markdown",
   "metadata": {}
  },
  {
   "source": [
    "Let's now do the same for the scalar multiples:\n",
    "\n",
    "$\n",
    "S_x(s \\cdot u) = s \\cdot S_x(u)\n",
    "$"
   ],
   "cell_type": "markdown",
   "metadata": {}
  },
  {
   "cell_type": "code",
   "execution_count": 5,
   "metadata": {},
   "outputs": [
    {
     "output_type": "display_data",
     "data": {
      "text/plain": "<Figure size 432x493.714 with 1 Axes>",
      "image/svg+xml": "<?xml version=\"1.0\" encoding=\"utf-8\" standalone=\"no\"?>\n<!DOCTYPE svg PUBLIC \"-//W3C//DTD SVG 1.1//EN\"\n  \"http://www.w3.org/Graphics/SVG/1.1/DTD/svg11.dtd\">\n<!-- Created with matplotlib (https://matplotlib.org/) -->\n<svg height=\"403.832411pt\" version=\"1.1\" viewBox=\"0 0 370.942187 403.832411\" width=\"370.942187pt\" xmlns=\"http://www.w3.org/2000/svg\" xmlns:xlink=\"http://www.w3.org/1999/xlink\">\n <defs>\n  <style type=\"text/css\">\n*{stroke-linecap:butt;stroke-linejoin:round;}\n  </style>\n </defs>\n <g id=\"figure_1\">\n  <g id=\"patch_1\">\n   <path d=\"M 0 403.832411 \nL 370.942187 403.832411 \nL 370.942187 0 \nL 0 0 \nz\n\" style=\"fill:none;\"/>\n  </g>\n  <g id=\"axes_1\">\n   <g id=\"patch_2\">\n    <path d=\"M 28.942188 379.954286 \nL 363.742188 379.954286 \nL 363.742188 7.2 \nL 28.942188 7.2 \nz\n\" style=\"fill:#ffffff;\"/>\n   </g>\n   <g id=\"matplotlib.axis_1\">\n    <g id=\"xtick_1\">\n     <g id=\"line2d_1\">\n      <path clip-path=\"url(#p218df3d0b7)\" d=\"M 28.942188 379.954286 \nL 28.942188 7.2 \n\" style=\"fill:none;stroke:#b0b0b0;stroke-linecap:square;stroke-width:0.8;\"/>\n     </g>\n     <g id=\"line2d_2\">\n      <defs>\n       <path d=\"M 0 0 \nL 0 3.5 \n\" id=\"mb2618551d3\" style=\"stroke:#000000;stroke-width:0.8;\"/>\n      </defs>\n      <g>\n       <use style=\"stroke:#000000;stroke-width:0.8;\" x=\"28.942188\" xlink:href=\"#mb2618551d3\" y=\"379.954286\"/>\n      </g>\n     </g>\n     <g id=\"text_1\">\n      <!-- −1 -->\n      <defs>\n       <path d=\"M 10.59375 35.5 \nL 73.1875 35.5 \nL 73.1875 27.203125 \nL 10.59375 27.203125 \nz\n\" id=\"DejaVuSans-8722\"/>\n       <path d=\"M 12.40625 8.296875 \nL 28.515625 8.296875 \nL 28.515625 63.921875 \nL 10.984375 60.40625 \nL 10.984375 69.390625 \nL 28.421875 72.90625 \nL 38.28125 72.90625 \nL 38.28125 8.296875 \nL 54.390625 8.296875 \nL 54.390625 0 \nL 12.40625 0 \nz\n\" id=\"DejaVuSans-49\"/>\n      </defs>\n      <g transform=\"translate(21.571094 394.552723)scale(0.1 -0.1)\">\n       <use xlink:href=\"#DejaVuSans-8722\"/>\n       <use x=\"83.789062\" xlink:href=\"#DejaVuSans-49\"/>\n      </g>\n     </g>\n    </g>\n    <g id=\"xtick_2\">\n     <g id=\"line2d_3\">\n      <path clip-path=\"url(#p218df3d0b7)\" d=\"M 76.770759 379.954286 \nL 76.770759 7.2 \n\" style=\"fill:none;stroke:#b0b0b0;stroke-linecap:square;stroke-width:0.8;\"/>\n     </g>\n     <g id=\"line2d_4\">\n      <g>\n       <use style=\"stroke:#000000;stroke-width:0.8;\" x=\"76.770759\" xlink:href=\"#mb2618551d3\" y=\"379.954286\"/>\n      </g>\n     </g>\n     <g id=\"text_2\">\n      <!-- 0 -->\n      <defs>\n       <path d=\"M 31.78125 66.40625 \nQ 24.171875 66.40625 20.328125 58.90625 \nQ 16.5 51.421875 16.5 36.375 \nQ 16.5 21.390625 20.328125 13.890625 \nQ 24.171875 6.390625 31.78125 6.390625 \nQ 39.453125 6.390625 43.28125 13.890625 \nQ 47.125 21.390625 47.125 36.375 \nQ 47.125 51.421875 43.28125 58.90625 \nQ 39.453125 66.40625 31.78125 66.40625 \nz\nM 31.78125 74.21875 \nQ 44.046875 74.21875 50.515625 64.515625 \nQ 56.984375 54.828125 56.984375 36.375 \nQ 56.984375 17.96875 50.515625 8.265625 \nQ 44.046875 -1.421875 31.78125 -1.421875 \nQ 19.53125 -1.421875 13.0625 8.265625 \nQ 6.59375 17.96875 6.59375 36.375 \nQ 6.59375 54.828125 13.0625 64.515625 \nQ 19.53125 74.21875 31.78125 74.21875 \nz\n\" id=\"DejaVuSans-48\"/>\n      </defs>\n      <g transform=\"translate(73.589509 394.552723)scale(0.1 -0.1)\">\n       <use xlink:href=\"#DejaVuSans-48\"/>\n      </g>\n     </g>\n    </g>\n    <g id=\"xtick_3\">\n     <g id=\"line2d_5\">\n      <path clip-path=\"url(#p218df3d0b7)\" d=\"M 124.59933 379.954286 \nL 124.59933 7.2 \n\" style=\"fill:none;stroke:#b0b0b0;stroke-linecap:square;stroke-width:0.8;\"/>\n     </g>\n     <g id=\"line2d_6\">\n      <g>\n       <use style=\"stroke:#000000;stroke-width:0.8;\" x=\"124.59933\" xlink:href=\"#mb2618551d3\" y=\"379.954286\"/>\n      </g>\n     </g>\n     <g id=\"text_3\">\n      <!-- 1 -->\n      <g transform=\"translate(121.41808 394.552723)scale(0.1 -0.1)\">\n       <use xlink:href=\"#DejaVuSans-49\"/>\n      </g>\n     </g>\n    </g>\n    <g id=\"xtick_4\">\n     <g id=\"line2d_7\">\n      <path clip-path=\"url(#p218df3d0b7)\" d=\"M 172.427902 379.954286 \nL 172.427902 7.2 \n\" style=\"fill:none;stroke:#b0b0b0;stroke-linecap:square;stroke-width:0.8;\"/>\n     </g>\n     <g id=\"line2d_8\">\n      <g>\n       <use style=\"stroke:#000000;stroke-width:0.8;\" x=\"172.427902\" xlink:href=\"#mb2618551d3\" y=\"379.954286\"/>\n      </g>\n     </g>\n     <g id=\"text_4\">\n      <!-- 2 -->\n      <defs>\n       <path d=\"M 19.1875 8.296875 \nL 53.609375 8.296875 \nL 53.609375 0 \nL 7.328125 0 \nL 7.328125 8.296875 \nQ 12.9375 14.109375 22.625 23.890625 \nQ 32.328125 33.6875 34.8125 36.53125 \nQ 39.546875 41.84375 41.421875 45.53125 \nQ 43.3125 49.21875 43.3125 52.78125 \nQ 43.3125 58.59375 39.234375 62.25 \nQ 35.15625 65.921875 28.609375 65.921875 \nQ 23.96875 65.921875 18.8125 64.3125 \nQ 13.671875 62.703125 7.8125 59.421875 \nL 7.8125 69.390625 \nQ 13.765625 71.78125 18.9375 73 \nQ 24.125 74.21875 28.421875 74.21875 \nQ 39.75 74.21875 46.484375 68.546875 \nQ 53.21875 62.890625 53.21875 53.421875 \nQ 53.21875 48.921875 51.53125 44.890625 \nQ 49.859375 40.875 45.40625 35.40625 \nQ 44.1875 33.984375 37.640625 27.21875 \nQ 31.109375 20.453125 19.1875 8.296875 \nz\n\" id=\"DejaVuSans-50\"/>\n      </defs>\n      <g transform=\"translate(169.246652 394.552723)scale(0.1 -0.1)\">\n       <use xlink:href=\"#DejaVuSans-50\"/>\n      </g>\n     </g>\n    </g>\n    <g id=\"xtick_5\">\n     <g id=\"line2d_9\">\n      <path clip-path=\"url(#p218df3d0b7)\" d=\"M 220.256473 379.954286 \nL 220.256473 7.2 \n\" style=\"fill:none;stroke:#b0b0b0;stroke-linecap:square;stroke-width:0.8;\"/>\n     </g>\n     <g id=\"line2d_10\">\n      <g>\n       <use style=\"stroke:#000000;stroke-width:0.8;\" x=\"220.256473\" xlink:href=\"#mb2618551d3\" y=\"379.954286\"/>\n      </g>\n     </g>\n     <g id=\"text_5\">\n      <!-- 3 -->\n      <defs>\n       <path d=\"M 40.578125 39.3125 \nQ 47.65625 37.796875 51.625 33 \nQ 55.609375 28.21875 55.609375 21.1875 \nQ 55.609375 10.40625 48.1875 4.484375 \nQ 40.765625 -1.421875 27.09375 -1.421875 \nQ 22.515625 -1.421875 17.65625 -0.515625 \nQ 12.796875 0.390625 7.625 2.203125 \nL 7.625 11.71875 \nQ 11.71875 9.328125 16.59375 8.109375 \nQ 21.484375 6.890625 26.8125 6.890625 \nQ 36.078125 6.890625 40.9375 10.546875 \nQ 45.796875 14.203125 45.796875 21.1875 \nQ 45.796875 27.640625 41.28125 31.265625 \nQ 36.765625 34.90625 28.71875 34.90625 \nL 20.21875 34.90625 \nL 20.21875 43.015625 \nL 29.109375 43.015625 \nQ 36.375 43.015625 40.234375 45.921875 \nQ 44.09375 48.828125 44.09375 54.296875 \nQ 44.09375 59.90625 40.109375 62.90625 \nQ 36.140625 65.921875 28.71875 65.921875 \nQ 24.65625 65.921875 20.015625 65.03125 \nQ 15.375 64.15625 9.8125 62.3125 \nL 9.8125 71.09375 \nQ 15.4375 72.65625 20.34375 73.4375 \nQ 25.25 74.21875 29.59375 74.21875 \nQ 40.828125 74.21875 47.359375 69.109375 \nQ 53.90625 64.015625 53.90625 55.328125 \nQ 53.90625 49.265625 50.4375 45.09375 \nQ 46.96875 40.921875 40.578125 39.3125 \nz\n\" id=\"DejaVuSans-51\"/>\n      </defs>\n      <g transform=\"translate(217.075223 394.552723)scale(0.1 -0.1)\">\n       <use xlink:href=\"#DejaVuSans-51\"/>\n      </g>\n     </g>\n    </g>\n    <g id=\"xtick_6\">\n     <g id=\"line2d_11\">\n      <path clip-path=\"url(#p218df3d0b7)\" d=\"M 268.085045 379.954286 \nL 268.085045 7.2 \n\" style=\"fill:none;stroke:#b0b0b0;stroke-linecap:square;stroke-width:0.8;\"/>\n     </g>\n     <g id=\"line2d_12\">\n      <g>\n       <use style=\"stroke:#000000;stroke-width:0.8;\" x=\"268.085045\" xlink:href=\"#mb2618551d3\" y=\"379.954286\"/>\n      </g>\n     </g>\n     <g id=\"text_6\">\n      <!-- 4 -->\n      <defs>\n       <path d=\"M 37.796875 64.3125 \nL 12.890625 25.390625 \nL 37.796875 25.390625 \nz\nM 35.203125 72.90625 \nL 47.609375 72.90625 \nL 47.609375 25.390625 \nL 58.015625 25.390625 \nL 58.015625 17.1875 \nL 47.609375 17.1875 \nL 47.609375 0 \nL 37.796875 0 \nL 37.796875 17.1875 \nL 4.890625 17.1875 \nL 4.890625 26.703125 \nz\n\" id=\"DejaVuSans-52\"/>\n      </defs>\n      <g transform=\"translate(264.903795 394.552723)scale(0.1 -0.1)\">\n       <use xlink:href=\"#DejaVuSans-52\"/>\n      </g>\n     </g>\n    </g>\n    <g id=\"xtick_7\">\n     <g id=\"line2d_13\">\n      <path clip-path=\"url(#p218df3d0b7)\" d=\"M 315.913616 379.954286 \nL 315.913616 7.2 \n\" style=\"fill:none;stroke:#b0b0b0;stroke-linecap:square;stroke-width:0.8;\"/>\n     </g>\n     <g id=\"line2d_14\">\n      <g>\n       <use style=\"stroke:#000000;stroke-width:0.8;\" x=\"315.913616\" xlink:href=\"#mb2618551d3\" y=\"379.954286\"/>\n      </g>\n     </g>\n     <g id=\"text_7\">\n      <!-- 5 -->\n      <defs>\n       <path d=\"M 10.796875 72.90625 \nL 49.515625 72.90625 \nL 49.515625 64.59375 \nL 19.828125 64.59375 \nL 19.828125 46.734375 \nQ 21.96875 47.46875 24.109375 47.828125 \nQ 26.265625 48.1875 28.421875 48.1875 \nQ 40.625 48.1875 47.75 41.5 \nQ 54.890625 34.8125 54.890625 23.390625 \nQ 54.890625 11.625 47.5625 5.09375 \nQ 40.234375 -1.421875 26.90625 -1.421875 \nQ 22.3125 -1.421875 17.546875 -0.640625 \nQ 12.796875 0.140625 7.71875 1.703125 \nL 7.71875 11.625 \nQ 12.109375 9.234375 16.796875 8.0625 \nQ 21.484375 6.890625 26.703125 6.890625 \nQ 35.15625 6.890625 40.078125 11.328125 \nQ 45.015625 15.765625 45.015625 23.390625 \nQ 45.015625 31 40.078125 35.4375 \nQ 35.15625 39.890625 26.703125 39.890625 \nQ 22.75 39.890625 18.8125 39.015625 \nQ 14.890625 38.140625 10.796875 36.28125 \nz\n\" id=\"DejaVuSans-53\"/>\n      </defs>\n      <g transform=\"translate(312.732366 394.552723)scale(0.1 -0.1)\">\n       <use xlink:href=\"#DejaVuSans-53\"/>\n      </g>\n     </g>\n    </g>\n   </g>\n   <g id=\"matplotlib.axis_2\">\n    <g id=\"ytick_1\">\n     <g id=\"line2d_15\">\n      <path clip-path=\"url(#p218df3d0b7)\" d=\"M 28.942188 379.954286 \nL 363.742188 379.954286 \n\" style=\"fill:none;stroke:#b0b0b0;stroke-linecap:square;stroke-width:0.8;\"/>\n     </g>\n     <g id=\"line2d_16\">\n      <defs>\n       <path d=\"M 0 0 \nL -3.5 0 \n\" id=\"m646d5eb1f1\" style=\"stroke:#000000;stroke-width:0.8;\"/>\n      </defs>\n      <g>\n       <use style=\"stroke:#000000;stroke-width:0.8;\" x=\"28.942188\" xlink:href=\"#m646d5eb1f1\" y=\"379.954286\"/>\n      </g>\n     </g>\n     <g id=\"text_8\">\n      <!-- −4 -->\n      <g transform=\"translate(7.2 383.753504)scale(0.1 -0.1)\">\n       <use xlink:href=\"#DejaVuSans-8722\"/>\n       <use x=\"83.789062\" xlink:href=\"#DejaVuSans-52\"/>\n      </g>\n     </g>\n    </g>\n    <g id=\"ytick_2\">\n     <g id=\"line2d_17\">\n      <path clip-path=\"url(#p218df3d0b7)\" d=\"M 28.942188 333.36 \nL 363.742188 333.36 \n\" style=\"fill:none;stroke:#b0b0b0;stroke-linecap:square;stroke-width:0.8;\"/>\n     </g>\n     <g id=\"line2d_18\">\n      <g>\n       <use style=\"stroke:#000000;stroke-width:0.8;\" x=\"28.942188\" xlink:href=\"#m646d5eb1f1\" y=\"333.36\"/>\n      </g>\n     </g>\n     <g id=\"text_9\">\n      <!-- −3 -->\n      <g transform=\"translate(7.2 337.159219)scale(0.1 -0.1)\">\n       <use xlink:href=\"#DejaVuSans-8722\"/>\n       <use x=\"83.789062\" xlink:href=\"#DejaVuSans-51\"/>\n      </g>\n     </g>\n    </g>\n    <g id=\"ytick_3\">\n     <g id=\"line2d_19\">\n      <path clip-path=\"url(#p218df3d0b7)\" d=\"M 28.942188 286.765714 \nL 363.742188 286.765714 \n\" style=\"fill:none;stroke:#b0b0b0;stroke-linecap:square;stroke-width:0.8;\"/>\n     </g>\n     <g id=\"line2d_20\">\n      <g>\n       <use style=\"stroke:#000000;stroke-width:0.8;\" x=\"28.942188\" xlink:href=\"#m646d5eb1f1\" y=\"286.765714\"/>\n      </g>\n     </g>\n     <g id=\"text_10\">\n      <!-- −2 -->\n      <g transform=\"translate(7.2 290.564933)scale(0.1 -0.1)\">\n       <use xlink:href=\"#DejaVuSans-8722\"/>\n       <use x=\"83.789062\" xlink:href=\"#DejaVuSans-50\"/>\n      </g>\n     </g>\n    </g>\n    <g id=\"ytick_4\">\n     <g id=\"line2d_21\">\n      <path clip-path=\"url(#p218df3d0b7)\" d=\"M 28.942188 240.171429 \nL 363.742188 240.171429 \n\" style=\"fill:none;stroke:#b0b0b0;stroke-linecap:square;stroke-width:0.8;\"/>\n     </g>\n     <g id=\"line2d_22\">\n      <g>\n       <use style=\"stroke:#000000;stroke-width:0.8;\" x=\"28.942188\" xlink:href=\"#m646d5eb1f1\" y=\"240.171429\"/>\n      </g>\n     </g>\n     <g id=\"text_11\">\n      <!-- −1 -->\n      <g transform=\"translate(7.2 243.970647)scale(0.1 -0.1)\">\n       <use xlink:href=\"#DejaVuSans-8722\"/>\n       <use x=\"83.789062\" xlink:href=\"#DejaVuSans-49\"/>\n      </g>\n     </g>\n    </g>\n    <g id=\"ytick_5\">\n     <g id=\"line2d_23\">\n      <path clip-path=\"url(#p218df3d0b7)\" d=\"M 28.942188 193.577143 \nL 363.742188 193.577143 \n\" style=\"fill:none;stroke:#b0b0b0;stroke-linecap:square;stroke-width:0.8;\"/>\n     </g>\n     <g id=\"line2d_24\">\n      <g>\n       <use style=\"stroke:#000000;stroke-width:0.8;\" x=\"28.942188\" xlink:href=\"#m646d5eb1f1\" y=\"193.577143\"/>\n      </g>\n     </g>\n     <g id=\"text_12\">\n      <!-- 0 -->\n      <g transform=\"translate(15.579688 197.376362)scale(0.1 -0.1)\">\n       <use xlink:href=\"#DejaVuSans-48\"/>\n      </g>\n     </g>\n    </g>\n    <g id=\"ytick_6\">\n     <g id=\"line2d_25\">\n      <path clip-path=\"url(#p218df3d0b7)\" d=\"M 28.942188 146.982857 \nL 363.742188 146.982857 \n\" style=\"fill:none;stroke:#b0b0b0;stroke-linecap:square;stroke-width:0.8;\"/>\n     </g>\n     <g id=\"line2d_26\">\n      <g>\n       <use style=\"stroke:#000000;stroke-width:0.8;\" x=\"28.942188\" xlink:href=\"#m646d5eb1f1\" y=\"146.982857\"/>\n      </g>\n     </g>\n     <g id=\"text_13\">\n      <!-- 1 -->\n      <g transform=\"translate(15.579688 150.782076)scale(0.1 -0.1)\">\n       <use xlink:href=\"#DejaVuSans-49\"/>\n      </g>\n     </g>\n    </g>\n    <g id=\"ytick_7\">\n     <g id=\"line2d_27\">\n      <path clip-path=\"url(#p218df3d0b7)\" d=\"M 28.942188 100.388571 \nL 363.742188 100.388571 \n\" style=\"fill:none;stroke:#b0b0b0;stroke-linecap:square;stroke-width:0.8;\"/>\n     </g>\n     <g id=\"line2d_28\">\n      <g>\n       <use style=\"stroke:#000000;stroke-width:0.8;\" x=\"28.942188\" xlink:href=\"#m646d5eb1f1\" y=\"100.388571\"/>\n      </g>\n     </g>\n     <g id=\"text_14\">\n      <!-- 2 -->\n      <g transform=\"translate(15.579688 104.18779)scale(0.1 -0.1)\">\n       <use xlink:href=\"#DejaVuSans-50\"/>\n      </g>\n     </g>\n    </g>\n    <g id=\"ytick_8\">\n     <g id=\"line2d_29\">\n      <path clip-path=\"url(#p218df3d0b7)\" d=\"M 28.942188 53.794286 \nL 363.742188 53.794286 \n\" style=\"fill:none;stroke:#b0b0b0;stroke-linecap:square;stroke-width:0.8;\"/>\n     </g>\n     <g id=\"line2d_30\">\n      <g>\n       <use style=\"stroke:#000000;stroke-width:0.8;\" x=\"28.942188\" xlink:href=\"#m646d5eb1f1\" y=\"53.794286\"/>\n      </g>\n     </g>\n     <g id=\"text_15\">\n      <!-- 3 -->\n      <g transform=\"translate(15.579688 57.593504)scale(0.1 -0.1)\">\n       <use xlink:href=\"#DejaVuSans-51\"/>\n      </g>\n     </g>\n    </g>\n   </g>\n   <g id=\"PathCollection_1\">\n    <defs>\n     <path d=\"M -3 3 \nL 3 -3 \nM -3 -3 \nL 3 3 \n\" id=\"m2e1e330cb9\" style=\"stroke:#000000;stroke-width:1.5;\"/>\n    </defs>\n    <g clip-path=\"url(#p218df3d0b7)\">\n     <use style=\"stroke:#000000;stroke-width:1.5;\" x=\"76.770759\" xlink:href=\"#m2e1e330cb9\" y=\"193.577143\"/>\n    </g>\n   </g>\n   <g id=\"patch_3\">\n    <path clip-path=\"url(#p218df3d0b7)\" d=\"M 291.99933 53.794286 \nL 281.166036 67.363362 \nL 278.084074 62.859721 \nL 76.784024 193.596527 \nL 76.757494 193.557758 \nL 278.057543 62.820952 \nL 274.975581 58.317311 \nz\n\" style=\"fill:#1f77b4;stroke:#1f77b4;stroke-linejoin:miter;\"/>\n   </g>\n   <g id=\"patch_4\">\n    <path clip-path=\"url(#p218df3d0b7)\" d=\"M 291.99933 333.36 \nL 274.975581 328.836975 \nL 278.057543 324.333334 \nL 76.757494 193.596527 \nL 76.784024 193.557758 \nL 278.084074 324.294565 \nL 281.166036 319.790924 \nz\n\" style=\"fill:#2ca02c;stroke:#2ca02c;stroke-linejoin:miter;\"/>\n   </g>\n   <g id=\"patch_5\">\n    <path clip-path=\"url(#p218df3d0b7)\" d=\"M 291.99933 333.36 \nL 274.975581 328.836975 \nL 278.057543 324.333334 \nL 76.757494 193.596527 \nL 76.784024 193.557758 \nL 278.084074 324.294565 \nL 281.166036 319.790924 \nz\n\" style=\"fill:#9467bd;stroke:#9467bd;stroke-linejoin:miter;\"/>\n   </g>\n   <g id=\"line2d_31\">\n    <path clip-path=\"url(#p218df3d0b7)\" d=\"M 28.942188 193.577143 \nL 363.742188 193.577143 \n\" style=\"fill:none;stroke:#000000;stroke-linecap:square;stroke-width:2;\"/>\n   </g>\n   <g id=\"line2d_32\">\n    <path clip-path=\"url(#p218df3d0b7)\" d=\"M 76.770759 379.954286 \nL 76.770759 7.2 \n\" style=\"fill:none;stroke:#000000;stroke-linecap:square;stroke-width:2;\"/>\n   </g>\n   <g id=\"patch_6\">\n    <path d=\"M 28.942188 379.954286 \nL 28.942188 7.2 \n\" style=\"fill:none;stroke:#000000;stroke-linecap:square;stroke-linejoin:miter;stroke-width:0.8;\"/>\n   </g>\n   <g id=\"patch_7\">\n    <path d=\"M 363.742188 379.954286 \nL 363.742188 7.2 \n\" style=\"fill:none;stroke:#000000;stroke-linecap:square;stroke-linejoin:miter;stroke-width:0.8;\"/>\n   </g>\n   <g id=\"patch_8\">\n    <path d=\"M 28.942188 379.954286 \nL 363.742188 379.954286 \n\" style=\"fill:none;stroke:#000000;stroke-linecap:square;stroke-linejoin:miter;stroke-width:0.8;\"/>\n   </g>\n   <g id=\"patch_9\">\n    <path d=\"M 28.942188 7.2 \nL 363.742188 7.2 \n\" style=\"fill:none;stroke:#000000;stroke-linecap:square;stroke-linejoin:miter;stroke-width:0.8;\"/>\n   </g>\n  </g>\n </g>\n <defs>\n  <clipPath id=\"p218df3d0b7\">\n   <rect height=\"372.754286\" width=\"334.8\" x=\"28.942188\" y=\"7.2\"/>\n  </clipPath>\n </defs>\n</svg>\n",
      "image/png": "[encoded data removed]"
     },
     "metadata": {
      "needs_background": "light"
     }
    }
   ],
   "source": [
    "from my_draw2d import *\n",
    "from vectors_my_implementation import *\n",
    "\n",
    "u = (3, 2)\n",
    "s = 1.5\n",
    "scalar_product = scale(s, u)\n",
    "\n",
    "def sx(v):\n",
    "    x, y = v\n",
    "    return (x, -y)\n",
    "\n",
    "sx_u = sx(u)\n",
    "sx_scalar_product = sx(scalar_product)\n",
    "\n",
    "draw2d(\n",
    "    Arrow2D(scalar_product, color=blue),\n",
    "    Arrow2D(scale(s, sx_u), color=green),\n",
    "    Arrow2D(sx_scalar_product, color=purple)\n",
    ")\n"
   ]
  },
  {
   "source": [
    "We see only the purple arrow, which demonstrates that $ S_x(s \\cdot u) = s \\cdot S_x(u) $.\n",
    "\n",
    "Also, we see no evidence why it shouldn't work for other $ s $ and $ u $."
   ],
   "cell_type": "markdown",
   "metadata": {}
  },
  {
   "source": [
    "Obviously, this is no Mathematical proof that reflection is a linear transformation, but this method can give us an early indication about whether a transformation is linear or not.\n",
    "\n",
    "Also, demonstrating that $ S_x(a \\cdot u + b \\cdot v) = a \\cdot S_x(u) + b \\cdot S_x(v) $, for $ S_x(u) = S_x((x, y)) = (x, -y) $ is fairly easy."
   ],
   "cell_type": "markdown",
   "metadata": {}
  },
  {
   "source": [
    "## Exercise 4.17\n",
    "\n",
    "Suppose $ S $ and $ T $ are both linear transformations. Explain why the composition of $ S $ and $ T $ is also linear."
   ],
   "cell_type": "markdown",
   "metadata": {}
  },
  {
   "source": [
    "Because $ S $ and $ T $ are linear transformations, we know that:\n",
    "\n",
    "$\n",
    "S( a \\cdot u + b \\cdot v) = a \\cdot S(u) + b \\cdot S(v) \\\\\n",
    "T( a \\cdot u + b \\cdot v) = a \\cdot T(u) + b \\cdot T(v)\n",
    "$\n",
    "\n",
    "Therefore:\n",
    "\n",
    "$\n",
    "T(S(a \\cdot u + b \\cdot v)) = T(a \\cdot S(u) + b \\cdot S(v)) \\\\\n",
    "= a \\cdot T(S(u)) + b \\cdot T(S(v))\n",
    "$\n",
    "\n",
    "And therefore, $ T(S(u)) $ is linear as it preserves linear combinations."
   ],
   "cell_type": "markdown",
   "metadata": {}
  },
  {
   "source": [
    "# Exercise 4.18\n",
    "\n",
    "Let T be the linear transformation done by the Python function `rotate_x_by(pi / 2)`. What are $ T(e1) $, $ T(e2) $ and $ T(e3) $?"
   ],
   "cell_type": "markdown",
   "metadata": {}
  },
  {
   "source": [
    "Let's use Python first, then elaborate on the answer afterwards:"
   ],
   "cell_type": "markdown",
   "metadata": {}
  },
  {
   "cell_type": "code",
   "execution_count": 6,
   "metadata": {},
   "outputs": [
    {
     "output_type": "stream",
     "name": "stdout",
     "text": [
      "(1, 0, 0) => (1, 0.0, 0.0)\n(0, 1, 0) => (0, 6.123233995736766e-17, 1.0)\n(0, 0, 1) => (0, -1.0, 1.2246467991473532e-16)\n"
     ]
    }
   ],
   "source": [
    "from my_draw3d import *\n",
    "from transformations_support import *\n",
    "\n",
    "e1 = (1, 0, 0)\n",
    "e2 = (0, 1, 0)\n",
    "e3 = (0, 0, 1)\n",
    "\n",
    "rotated_e1 = rotate_x_by(pi / 2)(e1)\n",
    "rotated_e2 = rotate_x_by(pi / 2)(e2)\n",
    "rotated_e3 = rotate_x_by(pi / 2)(e3)\n",
    "\n",
    "print('{} => {}'.format(e1, rotated_e1))\n",
    "print('{} => {}'.format(e2, rotated_e2))\n",
    "print('{} => {}'.format(e3, rotated_e3))"
   ]
  },
  {
   "source": [
    "Thus:\n",
    "\n",
    "+ $ e1 $ does not change when transformed\n",
    "+ $ e2 $ becomes $ e3 $\n",
    "+ $ e3 $ becomes - $ e2 $\n",
    "\n",
    "Let's see if the fact matches our expectations:\n",
    "\n",
    "When we rotate about an axis, the coordinate for that axis won't change. This is consistent with $ e1 $ being unaffected with the change, and $ e2 $ and $ e3 $ x coordinate being zero.\n",
    "\n",
    "Then, for $ e2 = (0, 1, 0) $, if we rotate by 90° it effectively means a 90° rotation on the x = 0 plane.\n",
    "\n",
    "Similarly, for $ e3 = (0, 0, 1) $, if we rotate 90°, it means a rotation on the x = 0 plane, which will make it $ -e2 $."
   ],
   "cell_type": "markdown",
   "metadata": {}
  },
  {
   "source": [
    "## Exercise 4.19\n",
    "\n",
    "Write a `linear_combination(scalars, vectors)` that takes a list of scalars and the same number of vectors and returns a single vector."
   ],
   "cell_type": "markdown",
   "metadata": {}
  },
  {
   "cell_type": "code",
   "execution_count": 18,
   "metadata": {},
   "outputs": [
    {
     "output_type": "stream",
     "name": "stdout",
     "text": [
      "(22, 28)\n(1, 2, 3)\n"
     ]
    }
   ],
   "source": [
    "from vectors_my_implementation import *\n",
    "\n",
    "def linear_combination(scalars, *vectors):\n",
    "    result = add(*[scale(s, v) for s,v in zip(scalars, vectors)])\n",
    "    return result\n",
    "\n",
    "# should be (22, 28)\n",
    "print(linear_combination([1, 2, 3], (1, 2), (3, 4), (5, 6))) \n",
    "\n",
    "# should be (1, 2, 3)\n",
    "print(linear_combination([1, 2, 3], (1, 0, 0), (0, 1, 0), (0, 0, 1)))\n"
   ]
  },
  {
   "source": [
    "For the first time, implementation looks good, but in terms of style, let's do it a bit more Pythonic:"
   ],
   "cell_type": "markdown",
   "metadata": {}
  },
  {
   "cell_type": "code",
   "execution_count": 19,
   "metadata": {},
   "outputs": [
    {
     "output_type": "stream",
     "name": "stdout",
     "text": [
      "(22, 28)\n(1, 2, 3)\n"
     ]
    }
   ],
   "source": [
    "from vectors_my_implementation import *\n",
    "\n",
    "def linear_combination(scalars, *vectors):\n",
    "    scaled = [scale(s, v) for s,v in zip(scalars, vectors)]\n",
    "    return add(*scaled)\n",
    "\n",
    "# should be (22, 28)\n",
    "print(linear_combination([1, 2, 3], (1, 2), (3, 4), (5, 6))) \n",
    "\n",
    "# should be (1, 2, 3)\n",
    "print(linear_combination([1, 2, 3], (1, 0, 0), (0, 1, 0), (0, 0, 1)))"
   ]
  },
  {
   "source": [
    "# Exercise 4.20\n",
    "\n",
    "Write a function `transform_standard_basis(transform)` that takes a 3D vector transformation as an input and outputs the effect it has on the standard basis. It should output a tuple of 3 vectors that are the result of the transform acting on $ e1 $, $ e2 $ and $ e3 $."
   ],
   "cell_type": "markdown",
   "metadata": {}
  },
  {
   "cell_type": "code",
   "execution_count": 21,
   "metadata": {},
   "outputs": [
    {
     "output_type": "stream",
     "name": "stdout",
     "text": [
      "((1, 0, 0), (0, 1, 0), (0, 0, 1))\n((1, 0.0, 0.0), (0, 6.123233995736766e-17, 1.0), (0, -1.0, 1.2246467991473532e-16))\n"
     ]
    }
   ],
   "source": [
    "from transformations_support import *\n",
    "\n",
    "def transform_standard_basis(transform):\n",
    "    e1 = (1, 0, 0)\n",
    "    e2 = (0, 1, 0)\n",
    "    e3 = (0, 0, 1)\n",
    "    return tuple(transform(v) for v in [e1, e2, e3])\n",
    "\n",
    "\n",
    "def identity_transform(v):\n",
    "    return v\n",
    "\n",
    "\n",
    "print(transform_standard_basis(identity_transform))\n",
    "print(transform_standard_basis(rotate_x_by(pi / 2)))\n"
   ]
  },
  {
   "source": [
    "Probably, it was an unnecessary use of tuples and comprehensions, so a cleaner and more explicit implementation could be:"
   ],
   "cell_type": "markdown",
   "metadata": {}
  },
  {
   "cell_type": "code",
   "execution_count": 25,
   "metadata": {},
   "outputs": [
    {
     "output_type": "stream",
     "name": "stdout",
     "text": [
      "((1, 0, 0), (0, 1, 0), (0, 0, 1))\n((1, 0.0, 0.0), (0, 6.123233995736766e-17, 1.0), (0, -1.0, 1.2246467991473532e-16))\n"
     ]
    }
   ],
   "source": [
    "from transformations_support import *\n",
    "\n",
    "def transform_standard_basis(transform):\n",
    "    return (transform((1, 0, 0)), transform((0, 1, 0)), transform((0, 0, 1)))\n",
    "\n",
    "def identity_transform(v):\n",
    "    return v\n",
    "\n",
    "\n",
    "print(transform_standard_basis(identity_transform))\n",
    "print(transform_standard_basis(rotate_x_by(pi / 2)))"
   ]
  },
  {
   "source": [
    "## Exercise 4.21\n",
    "\n",
    "Suppose $ B $ is a linear transformation, with $ B(e1) = (0, 0, 1) $, $ B(e2) = (2, 1, 0) $, $ B(e3) = (-1, 0, -1) $.\n",
    "Let $ v = (-1, 1, 2) $. What is $ B(v) $?"
   ],
   "cell_type": "markdown",
   "metadata": {}
  },
  {
   "source": [
    "Very easy, as in virtue of linear transformations: \n",
    "\n",
    "$ \n",
    "B(a \\cdot u + b \\cdot v) = a \\cdot B(u) + b \\cdot B(v)\n",
    "$\n",
    "\n",
    "$\n",
    "B(v) = B((-1, 1, 2)) = B(-e1 + e2 + 2 \\cdot e3) \\\\\n",
    "= -1 \\cdot B(e1) + B(e2) + 2 \\ cdot B(e3) \\\\\n",
    "= -1 \\cdot (0, 0, 1) + (2, 1, 0) + 2 \\cdot (-1, 0, -1) \\\\\n",
    "= (0, 1, -3)\n",
    "$"
   ],
   "cell_type": "markdown",
   "metadata": {}
  },
  {
   "source": [
    "## Exercise 4.22\n",
    "\n",
    "Suppose $ A $ and $ B $ are both linear transformations with:\n",
    "$\n",
    "A(e1) = (1, 1, 1), \\hspace{1ex} A(e2) = (1, 0, -1), \\hspace{1ex} A(e3) = (0, 1, 1) \\\\\n",
    "B(e1) = (0, 0, 1), \\hspace{1ex} B(e2) = (2, 1, 0), \\hspace{1ex} B(e3) = (-1, 0, -1) \\\\\n",
    "$\n",
    "\n",
    "Calculate $ A(B(e1)) $, $ A(B(e2)) $ and $ A(B(e3)) $"
   ],
   "cell_type": "markdown",
   "metadata": {}
  },
  {
   "source": [
    "Again, this is extremely easy in virtue of how linear transformations behave on linear combinations:\n",
    "\n",
    "$\n",
    "A(B(e1)) = A((0, 0, 1)) = A(e3) = (0, 1, 1)\n",
    "$\n",
    "\n",
    "$\n",
    "A(B(e2)) = A((2, 1, 0)) = A(2e1 + e2) = 2 \\cdot A(e1) + A(e2) \\\\\n",
    "= (2, 2, 2) + (1, 0, -1) = (3, 2, 1)\n",
    "$\n",
    "\n",
    "$\n",
    "A(B(e3)) = A((-1, 0, -1)) = A(-e1-e3) = -A(e1)-A(e3) \\\\\n",
    "= (-1, -1, -1)-(0, 1, 1) = (-1, -2, -2)\n",
    "$\n",
    "\n",
    "Note that as we now know the effect of $ A(B(v)) $ on the three vectors of the standar basis, we could compute the effect of this linear transformation for any vector.\n"
   ],
   "cell_type": "markdown",
   "metadata": {}
  }
 ]
}