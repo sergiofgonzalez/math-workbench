{
 "metadata": {
  "language_info": {
   "codemirror_mode": {
    "name": "ipython",
    "version": 3
   },
   "file_extension": ".py",
   "mimetype": "text/x-python",
   "name": "python",
   "nbconvert_exporter": "python",
   "pygments_lexer": "ipython3",
   "version": "3.8.3-final"
  },
  "orig_nbformat": 2,
  "kernelspec": {
   "name": "Python 3.8.3 64-bit ('base': conda)",
   "display_name": "Python 3.8.3 64-bit ('base': conda)",
   "metadata": {
    "interpreter": {
     "hash": "ead85409a3df2736fa4852a03cf3afe7e5b1dbdc0e40d7d22bbcbf8cf1adf5fa"
    }
   }
  }
 },
 "nbformat": 4,
 "nbformat_minor": 2,
 "cells": [
  {
   "source": [
    "# Exercises on Transformations\n",
    "\n",
    "## Exercise 4.1\n",
    "Implement a `translate_by(...)` function that takes a translation vector as an input and returns a translation function as output."
   ],
   "cell_type": "markdown",
   "metadata": {}
  },
  {
   "source": [
    "Let's define the function and apply it to the teapot to validate it works"
   ],
   "cell_type": "markdown",
   "metadata": {}
  },
  {
   "cell_type": "code",
   "execution_count": 2,
   "metadata": {},
   "outputs": [
    {
     "output_type": "error",
     "ename": "SystemExit",
     "evalue": "0",
     "traceback": [
      "An exception has occurred, use %tb to see the full traceback.\n",
      "\u001b[0;31mSystemExit\u001b[0m\u001b[0;31m:\u001b[0m 0\n"
     ]
    }
   ],
   "source": [
    "from teapot import load_triangles\n",
    "from draw_model import draw_model\n",
    "from vectors import add\n",
    "\n",
    "def polygon_map(transformation, polygons):\n",
    "    return [\n",
    "        [transformation(vertex) for vertex in polygon]\n",
    "        for polygon in polygons\n",
    "    ]\n",
    "\n",
    "def translate_by(vector):\n",
    "    def new_function(v):\n",
    "        return add(vector, v)\n",
    "    return new_function\n",
    "\n",
    "draw_model(polygon_map(translate_by((-1, 0, 0)), load_triangles()))"
   ]
  },
  {
   "source": [
    "| NOTE: |\n",
    "| :---- |\n",
    "| To help simplify running the cells, I have created a library `transformation_support.py` that contains the building blocks such as `polygon_map(...)` etc. so that we don't have to create them in each and every exercise. |"
   ],
   "cell_type": "markdown",
   "metadata": {}
  },
  {
   "source": [
    "## Exercise 4.2\n",
    "\n",
    "Render the teapot translated by 20 units in the negative z direction. What does the resulting image look like?"
   ],
   "cell_type": "markdown",
   "metadata": {}
  },
  {
   "source": [
    "It should look as if we're looking at the teapot way above 3D model. We should be able to see the top of the teapot, and it should also look smaller, as it is way further."
   ],
   "cell_type": "markdown",
   "metadata": {}
  },
  {
   "cell_type": "code",
   "execution_count": 1,
   "metadata": {},
   "outputs": [
    {
     "output_type": "stream",
     "name": "stdout",
     "text": [
      "pygame 1.9.6\nHello from the pygame community. https://www.pygame.org/contribute.html\n"
     ]
    },
    {
     "output_type": "error",
     "ename": "SystemExit",
     "evalue": "0",
     "traceback": [
      "An exception has occurred, use %tb to see the full traceback.\n",
      "\u001b[0;31mSystemExit\u001b[0m\u001b[0;31m:\u001b[0m 0\n"
     ]
    }
   ],
   "source": [
    "from teapot import load_triangles\n",
    "from draw_model import draw_model\n",
    "from transformations_support import *\n",
    "\n",
    "draw_model(polygon_map(translate_by((0, 0, -20)), load_triangles()))"
   ]
  },
  {
   "source": [
    "Note that one of our predictions is right (it's smaller), but not the other (the shape it is still centered).\n",
    "The shape is further from the viewpoint `(0, 0, -5)`.\n",
    "\n",
    "Let's see what happens when we translate from different vectors:"
   ],
   "cell_type": "markdown",
   "metadata": {}
  },
  {
   "cell_type": "code",
   "execution_count": 2,
   "metadata": {},
   "outputs": [
    {
     "output_type": "error",
     "ename": "SystemExit",
     "evalue": "0",
     "traceback": [
      "An exception has occurred, use %tb to see the full traceback.\n",
      "\u001b[0;31mSystemExit\u001b[0m\u001b[0;31m:\u001b[0m 0\n"
     ]
    }
   ],
   "source": [
    "from teapot import load_triangles\n",
    "from draw_model import draw_model\n",
    "from transformations_support import *\n",
    "\n",
    "draw_model(polygon_map(translate_by((-2, 0, 0)), load_triangles()))"
   ]
  },
  {
   "cell_type": "code",
   "execution_count": 3,
   "metadata": {},
   "outputs": [
    {
     "output_type": "error",
     "ename": "SystemExit",
     "evalue": "0",
     "traceback": [
      "An exception has occurred, use %tb to see the full traceback.\n",
      "\u001b[0;31mSystemExit\u001b[0m\u001b[0;31m:\u001b[0m 0\n"
     ]
    }
   ],
   "source": [
    "from teapot import load_triangles\n",
    "from draw_model import draw_model\n",
    "from transformations_support import *\n",
    "\n",
    "draw_model(polygon_map(translate_by((0, -2, 0)), load_triangles()))"
   ]
  },
  {
   "source": [
    "So, what we though would happen for `(0, 0, -20)` is happening for `(0, -2, 0)`. The translation by `(-2, 0, 0)` is consistent with our expectations (move to the left) and `(0, 0, -20)` is more consisten with what we would expect for movement on the y axis."
   ],
   "cell_type": "markdown",
   "metadata": {}
  },
  {
   "source": [
    "## Exercise 4.3\n",
    "\n",
    "What happens to the teapot when you scale every vector by a scalar between 0 and 1? What happens when you scale it by a factor of -1?"
   ],
   "cell_type": "markdown",
   "metadata": {}
  },
  {
   "source": [
    "When you scale every vector by a scalar between 0 and 1 you will make the teapot smaller, but maintaining the ratio. Let's confirm:"
   ],
   "cell_type": "markdown",
   "metadata": {}
  },
  {
   "cell_type": "code",
   "execution_count": 2,
   "metadata": {},
   "outputs": [
    {
     "output_type": "error",
     "ename": "SystemExit",
     "evalue": "0",
     "traceback": [
      "An exception has occurred, use %tb to see the full traceback.\n",
      "\u001b[0;31mSystemExit\u001b[0m\u001b[0;31m:\u001b[0m 0\n"
     ]
    }
   ],
   "source": [
    "from teapot import load_triangles\n",
    "from draw_model import draw_model\n",
    "from transformations_support import *\n",
    "\n",
    "draw_model(polygon_map(scale_by(0.1), load_triangles()))"
   ]
  },
  {
   "source": [
    "If we scale every vector of the teapot by -1, we will *negate* every vector of the 3D model. As a result up will be down and left will be right (and vice versa)."
   ],
   "cell_type": "markdown",
   "metadata": {}
  },
  {
   "cell_type": "code",
   "execution_count": 4,
   "metadata": {},
   "outputs": [
    {
     "output_type": "error",
     "ename": "SystemExit",
     "evalue": "0",
     "traceback": [
      "An exception has occurred, use %tb to see the full traceback.\n",
      "\u001b[0;31mSystemExit\u001b[0m\u001b[0;31m:\u001b[0m 0\n"
     ]
    }
   ],
   "source": [
    "from teapot import load_triangles\n",
    "from draw_model import draw_model\n",
    "from transformations_support import *\n",
    "\n",
    "draw_model(polygon_map(scale_by(-1), load_triangles()))"
   ]
  },
  {
   "source": [
    "It must be noted that actually, scaling by -1 turns every vector inside-out, so each normal vector will now point into the teapot rather than outward, and therefore will create problem while rendering.\n",
    "\n",
    "Let's rotate the scaled teapot to see that:"
   ],
   "cell_type": "markdown",
   "metadata": {}
  },
  {
   "cell_type": "code",
   "execution_count": 3,
   "metadata": {},
   "outputs": [
    {
     "output_type": "error",
     "ename": "SystemExit",
     "evalue": "0",
     "traceback": [
      "An exception has occurred, use %tb to see the full traceback.\n",
      "\u001b[0;31mSystemExit\u001b[0m\u001b[0;31m:\u001b[0m 0\n"
     ]
    }
   ],
   "source": [
    "from teapot import load_triangles\n",
    "from draw_model_custom_impl import draw_model_anim\n",
    "from transformations_support import *\n",
    "\n",
    "draw_model_anim(polygon_map(scale_by(-1), load_triangles()))\n"
   ]
  },
  {
   "cell_type": "code",
   "execution_count": null,
   "metadata": {},
   "outputs": [],
   "source": [
    "See how it does not render correctly, specially the spout."
   ]
  },
  {
   "source": [
    "## Exercise 4.4\n",
    "\n",
    "First apply a `translate1left(...)` to the teapot and then `scale2`. How is the result different when you compose the functions in different order?"
   ],
   "cell_type": "markdown",
   "metadata": {}
  },
  {
   "source": [
    "We know that if we first scale and then translate, a double size teapot will be found translated to the left. However, if we first translate and scale, the teapot will be stretched:"
   ],
   "cell_type": "markdown",
   "metadata": {}
  },
  {
   "cell_type": "code",
   "execution_count": 3,
   "metadata": {},
   "outputs": [
    {
     "output_type": "error",
     "ename": "SystemExit",
     "evalue": "0",
     "traceback": [
      "An exception has occurred, use %tb to see the full traceback.\n",
      "\u001b[0;31mSystemExit\u001b[0m\u001b[0;31m:\u001b[0m 0\n"
     ]
    }
   ],
   "source": [
    "from teapot import load_triangles\n",
    "from draw_model_custom_impl import draw_model_anim\n",
    "from transformations_support import *\n",
    "\n",
    "draw_model_anim(polygon_map(compose(translate_by((-1, 0, 0)), scale_by(2)), load_triangles()), display_axes=True)"
   ]
  },
  {
   "cell_type": "code",
   "execution_count": 4,
   "metadata": {},
   "outputs": [
    {
     "output_type": "error",
     "ename": "SystemExit",
     "evalue": "0",
     "traceback": [
      "An exception has occurred, use %tb to see the full traceback.\n",
      "\u001b[0;31mSystemExit\u001b[0m\u001b[0;31m:\u001b[0m 0\n"
     ]
    }
   ],
   "source": [
    "from teapot import load_triangles\n",
    "from draw_model_custom_impl import draw_model_anim\n",
    "from transformations_support import *\n",
    "\n",
    "draw_model_anim(polygon_map(compose(scale_by(2), translate_by((-1, 0, 0))), load_triangles()), display_axes=True)"
   ]
  },
  {
   "source": [
    "So we were wrong again: if we first translate and then scale, the 3D model is translated further to the left. This is because when the scaling factor of 2 is applied after the translation, the distance of the translation doubles as well.\n",
    "\n",
    "![Transformation Order is important](../images/transformation_order.png)"
   ],
   "cell_type": "markdown",
   "metadata": {}
  },
  {
   "source": [
    "## Exercise 4.5\n",
    "\n",
    "What is the effect of the transformation `compose(scale_by(0.4), scale_by(1.5))`?"
   ],
   "cell_type": "markdown",
   "metadata": {}
  },
  {
   "source": [
    "The effect will be the scaling the 3D shape by $ 0.4 \\times 1.5 = 0.6 $"
   ],
   "cell_type": "markdown",
   "metadata": {}
  },
  {
   "cell_type": "code",
   "execution_count": 1,
   "metadata": {},
   "outputs": [
    {
     "output_type": "stream",
     "name": "stdout",
     "text": [
      "pygame 1.9.6\nHello from the pygame community. https://www.pygame.org/contribute.html\n"
     ]
    },
    {
     "output_type": "error",
     "ename": "SystemExit",
     "evalue": "0",
     "traceback": [
      "An exception has occurred, use %tb to see the full traceback.\n",
      "\u001b[0;31mSystemExit\u001b[0m\u001b[0;31m:\u001b[0m 0\n"
     ]
    }
   ],
   "source": [
    "from teapot import load_triangles\n",
    "from draw_model_custom_impl import draw_model_anim\n",
    "from transformations_support import *\n",
    "\n",
    "draw_model_anim(polygon_map(compose(scale_by(0.4), scale_by(1.5)), load_triangles()))"
   ]
  },
  {
   "source": [
    "## Exercise 4.6\n",
    "\n",
    "Modify the `compose(...)` function so that it can take a variable number of arguments that will be applied in given order."
   ],
   "cell_type": "markdown",
   "metadata": {}
  },
  {
   "source": [
    "Let's see what is the anatomy of the `compose(f1, f2)` function and think about how it can be generalized:\n",
    "\n",
    "```python\n",
    "def compose(f1, f2):\n",
    "    def new_function(input):\n",
    "        return f1(f2(input))\n",
    "    return new_function\n",
    "```"
   ],
   "cell_type": "markdown",
   "metadata": {}
  },
  {
   "cell_type": "code",
   "execution_count": 3,
   "metadata": {},
   "outputs": [
    {
     "output_type": "error",
     "ename": "SystemExit",
     "evalue": "0",
     "traceback": [
      "An exception has occurred, use %tb to see the full traceback.\n",
      "\u001b[0;31mSystemExit\u001b[0m\u001b[0;31m:\u001b[0m 0\n"
     ]
    }
   ],
   "source": [
    "def compose_multiple(*fArgs):\n",
    "    def new_function(input):\n",
    "        resulting_f = None\n",
    "        for f in fArgs:\n",
    "            resulting_f = f(input)\n",
    "        return resulting_f\n",
    "    return new_function\n",
    "\n",
    "from teapot import load_triangles\n",
    "from draw_model_custom_impl import draw_model_anim\n",
    "from transformations_support import *\n",
    "\n",
    "draw_model_anim(polygon_map(compose_multiple(scale_by(0.4), scale_by(1.5), scale_by(2)), load_triangles()))"
   ]
  },
  {
   "source": [
    "This can be further improved, by applying it in reversed order, so that it is applied in the same order as `compose(f_last, f_first)`. Also, if no function given the *identity* transformation is applied (no transformation)."
   ],
   "cell_type": "markdown",
   "metadata": {}
  },
  {
   "cell_type": "code",
   "execution_count": null,
   "metadata": {},
   "outputs": [],
   "source": [
    "def compose(*fArgs):\n",
    "    def new_function(input):\n",
    "        state = input\n",
    "        for f in reversed(args):\n",
    "            state = f(state) \n",
    "            return state     \n",
    "    return new_function"
   ]
  },
  {
   "cell_type": "code",
   "execution_count": 1,
   "metadata": {},
   "outputs": [
    {
     "output_type": "stream",
     "name": "stdout",
     "text": [
      "pygame 1.9.6\nHello from the pygame community. https://www.pygame.org/contribute.html\n"
     ]
    },
    {
     "output_type": "error",
     "ename": "SystemExit",
     "evalue": "0",
     "traceback": [
      "An exception has occurred, use %tb to see the full traceback.\n",
      "\u001b[0;31mSystemExit\u001b[0m\u001b[0;31m:\u001b[0m 0\n"
     ]
    }
   ],
   "source": [
    "from teapot import load_triangles\n",
    "from draw_model_custom_impl import draw_model_anim\n",
    "from transformations_support import *\n",
    "\n",
    "draw_model_anim(polygon_map(compose(scale_by(0.4), scale_by(1.5), scale_by(2), translate_by((-1, 0, 0))), load_triangles()))"
   ]
  },
  {
   "source": [
    "Note that the `compose(...)` function is not constrained to 3D transformations, it can be applied to all type of Python functions that receive an input and transforms it:"
   ],
   "cell_type": "markdown",
   "metadata": {}
  },
  {
   "cell_type": "code",
   "execution_count": 3,
   "metadata": {},
   "outputs": [
    {
     "output_type": "stream",
     "name": "stdout",
     "text": [
      "PYTHON\n"
     ]
    }
   ],
   "source": [
    "def prepend(string):\n",
    "    def new_function(input):\n",
    "        return string + input\n",
    "    return new_function\n",
    "\n",
    "\n",
    "f = compose(prepend('P'), prepend('Y'), prepend('T'))\n",
    "print(f('HON'))\n"
   ]
  },
  {
   "source": [
    "## Exercise 4.7\n",
    "\n",
    "Write a `curry2(f)` that takes a Python function `f(x, y)` with two arguments and returns a curried version.\n",
    "\n",
    "That is, `g = curry2(f)` the result of `f(x, y)` and `g(x)(y)` should return the same result."
   ],
   "cell_type": "markdown",
   "metadata": {}
  },
  {
   "source": [
    "Currying is the process of transforming a function that takes multiple arguments in a function that takes a single argument and returns another function which accepts further arguments, one by one, that the original function would receive.\n",
    "\n",
    "In our case, we have a function `f(x, y)` that receives two arguments. Therefore, we'll use *currying* to transform it into `g(x)(y)`.\n",
    "\n",
    "Let's do it in Python:"
   ],
   "cell_type": "markdown",
   "metadata": {}
  },
  {
   "cell_type": "code",
   "execution_count": 6,
   "metadata": {},
   "outputs": [
    {
     "output_type": "stream",
     "name": "stdout",
     "text": [
      "(2, 4, 6)\n(2, 4, 6)\n"
     ]
    }
   ],
   "source": [
    "# no currying\n",
    "scale_by_2 = scale_by(2)\n",
    "print(scale_by_2((1, 2, 3)))\n",
    "\n",
    "\n",
    "def curry2(f):\n",
    "    def g(x):\n",
    "        def new_function(y):\n",
    "            return f(x, y)\n",
    "        return new_function\n",
    "    return g\n",
    "\n",
    "scale_by = curry2(scale)\n",
    "\n",
    "print(scale_by(2)((1, 2, 3)))"
   ]
  },
  {
   "source": [
    "## Exercise 4.8\n",
    "\n",
    "Without running it, what is the result of applying the transformation `compose(rotate_z_by(pi/2), rotate_x_by(pi/2))? What if you switch the order of the composition?"
   ],
   "cell_type": "markdown",
   "metadata": {}
  },
  {
   "source": [
    "The result will be the teapot rotated by the x-axis 90° towards us, so that we see the top part of the teapot, and then rotated 90° about the z-axis, so that the spout is looking down.\n",
    "\n",
    "Let's confirm:"
   ],
   "cell_type": "markdown",
   "metadata": {}
  },
  {
   "cell_type": "code",
   "execution_count": 1,
   "metadata": {},
   "outputs": [
    {
     "output_type": "stream",
     "name": "stdout",
     "text": [
      "pygame 1.9.6\nHello from the pygame community. https://www.pygame.org/contribute.html\n"
     ]
    },
    {
     "output_type": "error",
     "ename": "SystemExit",
     "evalue": "0",
     "traceback": [
      "An exception has occurred, use %tb to see the full traceback.\n",
      "\u001b[0;31mSystemExit\u001b[0m\u001b[0;31m:\u001b[0m 0\n"
     ]
    }
   ],
   "source": [
    "from teapot import load_triangles\n",
    "from draw_model_custom_impl import draw_model_anim\n",
    "from transformations_support import *\n",
    "from math import pi\n",
    "\n",
    "draw_model_anim(polygon_map(rotate_z_by(pi / 2.), load_triangles()))"
   ]
  },
  {
   "cell_type": "code",
   "execution_count": 1,
   "metadata": {},
   "outputs": [
    {
     "output_type": "stream",
     "name": "stdout",
     "text": [
      "pygame 1.9.6\nHello from the pygame community. https://www.pygame.org/contribute.html\n"
     ]
    },
    {
     "output_type": "error",
     "ename": "SystemExit",
     "evalue": "0",
     "traceback": [
      "An exception has occurred, use %tb to see the full traceback.\n",
      "\u001b[0;31mSystemExit\u001b[0m\u001b[0;31m:\u001b[0m 0\n"
     ]
    }
   ],
   "source": [
    "from teapot import load_triangles\n",
    "from draw_model_custom_impl import draw_model_anim\n",
    "from transformations_support import *\n",
    "from math import pi\n",
    "\n",
    "draw_model_anim(polygon_map(rotate_x_by(pi / 2.), load_triangles()))"
   ]
  },
  {
   "cell_type": "code",
   "execution_count": 6,
   "metadata": {},
   "outputs": [
    {
     "output_type": "error",
     "ename": "SystemExit",
     "evalue": "0",
     "traceback": [
      "An exception has occurred, use %tb to see the full traceback.\n",
      "\u001b[0;31mSystemExit\u001b[0m\u001b[0;31m:\u001b[0m 0\n"
     ]
    }
   ],
   "source": [
    "from teapot import load_triangles\n",
    "from draw_model_custom_impl import draw_model_anim\n",
    "from transformations_support import *\n",
    "from math import pi\n",
    "\n",
    "draw_model_anim(polygon_map(compose(rotate_z_by(pi / 2.), rotate_x_by(pi / 2.)), load_triangles()))"
   ]
  },
  {
   "source": [
    "If we apply the reverse composition, the spout will be in our direction:"
   ],
   "cell_type": "markdown",
   "metadata": {}
  },
  {
   "cell_type": "code",
   "execution_count": 5,
   "metadata": {},
   "outputs": [
    {
     "output_type": "error",
     "ename": "SystemExit",
     "evalue": "0",
     "traceback": [
      "An exception has occurred, use %tb to see the full traceback.\n",
      "\u001b[0;31mSystemExit\u001b[0m\u001b[0;31m:\u001b[0m 0\n"
     ]
    }
   ],
   "source": [
    "from teapot import load_triangles\n",
    "from draw_model_custom_impl import draw_model_anim\n",
    "from transformations_support import *\n",
    "from math import pi\n",
    "\n",
    "draw_model_anim(polygon_map(compose(rotate_x_by(pi / 2.), rotate_z_by(pi / 2.)), load_triangles()))"
   ]
  },
  {
   "source": [
    "## Exercise 4.9\n",
    "\n",
    "Write a function `stretch_x(scalar, vector)` that scales the target vector by the given factor, but only in the x direction.\n",
    "\n",
    "Also, write a curried version of `stretch_x_by(...)` so that `stretch_x_by(scalar)(vector)` returns the same result."
   ],
   "cell_type": "markdown",
   "metadata": {}
  },
  {
   "source": [
    "I'm already used to *currying* as seen in the previous example, without currying it would be:\n",
    "\n",
    "```python\n",
    "def stretch_x(scalar, vector):\n",
    "    ...\n",
    "```\n",
    "\n"
   ],
   "cell_type": "markdown",
   "metadata": {}
  },
  {
   "cell_type": "code",
   "execution_count": 2,
   "metadata": {},
   "outputs": [
    {
     "output_type": "error",
     "ename": "SystemExit",
     "evalue": "0",
     "traceback": [
      "An exception has occurred, use %tb to see the full traceback.\n",
      "\u001b[0;31mSystemExit\u001b[0m\u001b[0;31m:\u001b[0m 0\n"
     ]
    }
   ],
   "source": [
    "from teapot import load_triangles\n",
    "from draw_model_custom_impl import draw_model_anim\n",
    "from transformations_support import *\n",
    "\n",
    "# no currying\n",
    "\n",
    "def stretch_x(scalar, vector):\n",
    "    x, y, z = vector\n",
    "    return (scalar * x, y, z)\n",
    "\n",
    "transformed_triangles = [\n",
    "    [stretch_x(1.5, v) for v in triangle]\n",
    "    for triangle in load_triangles()\n",
    "]\n",
    "\n",
    "draw_model_anim(transformed_triangles)"
   ]
  },
  {
   "cell_type": "code",
   "execution_count": 4,
   "metadata": {},
   "outputs": [
    {
     "output_type": "error",
     "ename": "SystemExit",
     "evalue": "0",
     "traceback": [
      "An exception has occurred, use %tb to see the full traceback.\n",
      "\u001b[0;31mSystemExit\u001b[0m\u001b[0;31m:\u001b[0m 0\n"
     ]
    }
   ],
   "source": [
    "\n",
    "def stretch_x(scalar):\n",
    "    def new_function(v):\n",
    "        x, y, z = v\n",
    "        return (scalar * x, y, z)\n",
    "    return new_function\n",
    "\n",
    "draw_model_anim(polygon_map(stretch_x(0.5), load_triangles()))\n"
   ]
  },
  {
   "cell_type": "code",
   "execution_count": null,
   "metadata": {},
   "outputs": [],
   "source": []
  }
 ]
}