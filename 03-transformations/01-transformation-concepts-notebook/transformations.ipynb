{
 "metadata": {
  "language_info": {
   "codemirror_mode": {
    "name": "ipython",
    "version": 3
   },
   "file_extension": ".py",
   "mimetype": "text/x-python",
   "name": "python",
   "nbconvert_exporter": "python",
   "pygments_lexer": "ipython3",
   "version": "3.8.3-final"
  },
  "orig_nbformat": 2,
  "kernelspec": {
   "name": "Python 3.8.3 64-bit ('base': conda)",
   "display_name": "Python 3.8.3 64-bit ('base': conda)",
   "metadata": {
    "interpreter": {
     "hash": "ead85409a3df2736fa4852a03cf3afe7e5b1dbdc0e40d7d22bbcbf8cf1adf5fa"
    }
   }
  }
 },
 "nbformat": 4,
 "nbformat_minor": 2,
 "cells": [
  {
   "source": [
    "# Transformations\n",
    "> TBD (transforming vectors and graphics)\n",
    "\n",
    "## Contents\n",
    "TBD\n",
    "\n",
    "## Intro\n",
    "\n",
    "In this chapter, and leaning on the concepts we've learned in the previous chapters, we'll see how we can render any 2D or 3D figure by decomposing it into line segments and polygons defined by vectors.\n",
    "\n",
    "Also, we'll introduce the concept of animation, which consists in render slightly different static images in quick sequence to *cheat* or mind and make it think that the image is continuously changing.\n",
    "\n",
    "This changes in the images are powered by transformations. As a mental model, you can think of transformation as black boxes that receive an input and produce a geometric change on the given input (rotate, translate, scale,...).\n",
    "\n",
    "We will discuss a broad class of vector transformations called *linear transformations* that, like rotations, transform vectors on a straight line to new vectors that also lie on a straight line. *Linear transformations* have numerous applications in math, physics and data analysis.\n",
    "\n",
    "To visualize rotations, linear transformations and other relevant transformations, *OpenGL* will be used using *PyOpenGL* library. For animations we'll use *PyGame* a game development library for Python."
   ],
   "cell_type": "markdown",
   "metadata": {}
  },
  {
   "source": [
    "## Transforming 3D objects\n",
    "\n",
    "The goal of this chapter is to learn how to create new 3D objexts from existing ones applying transformations.\n",
    "\n",
    "Every transformation we look at will take a vector as an input and will return another vector:\n",
    "\n",
    "```python\n",
    "def transform(v):\n",
    "    old_x, old_y, old_z = v\n",
    "    # ... transform ...\n",
    "    return (new_x, new_y, new_z)\n",
    "```"
   ],
   "cell_type": "markdown",
   "metadata": {}
  },
  {
   "source": [
    "### Drawing a Transformed Object\n",
    "\n",
    "We'll use the *Utah teapot* as our 3D model reference. We will modify the vectors defining the teapot and re-render it, so that we can see the geometric effect of the transformation.\n",
    "\n",
    "When we run it without changes we see:"
   ],
   "cell_type": "markdown",
   "metadata": {}
  },
  {
   "cell_type": "code",
   "execution_count": 6,
   "metadata": {},
   "outputs": [
    {
     "output_type": "error",
     "ename": "SystemExit",
     "evalue": "0",
     "traceback": [
      "An exception has occurred, use %tb to see the full traceback.\n",
      "\u001b[0;31mSystemExit\u001b[0m\u001b[0;31m:\u001b[0m 0\n"
     ]
    }
   ],
   "source": [
    "from draw_teapot import draw_teapot\n",
    "\n",
    "draw_teapot()"
   ]
  },
  {
   "source": [
    "As an example, we can define a function `scale2(vector)` that multiplies any input vector by `2.0` and returns the result:"
   ],
   "cell_type": "markdown",
   "metadata": {}
  },
  {
   "cell_type": "code",
   "execution_count": 7,
   "metadata": {},
   "outputs": [],
   "source": [
    "from vectors import scale\n",
    "\n",
    "def scale2(v):\n",
    "    return scale(2.0, v)"
   ]
  },
  {
   "source": [
    "Note that this function complies with the form given for the `transform(...)` function above, and therefore, it is a transformation.\n",
    "\n",
    "Let's apply it to the teapot vectors and see what happens:"
   ],
   "cell_type": "markdown",
   "metadata": {}
  },
  {
   "cell_type": "code",
   "execution_count": 8,
   "metadata": {},
   "outputs": [
    {
     "output_type": "error",
     "ename": "SystemExit",
     "evalue": "0",
     "traceback": [
      "An exception has occurred, use %tb to see the full traceback.\n",
      "\u001b[0;31mSystemExit\u001b[0m\u001b[0;31m:\u001b[0m 0\n"
     ]
    }
   ],
   "source": [
    "from teapot import load_triangles\n",
    "from draw_model import draw_model\n",
    "\n",
    "original_triangles = load_triangles()\n",
    "scaled_triangles = [ \n",
    "    [scale2(vertex) for vertex in triangle] \n",
    "    for triangle in original_triangles\n",
    "]\n",
    "\n",
    "draw_model(scaled_triangles)"
   ]
  },
  {
   "source": [
    "Let's now apply another simple transformation: translation. We want to move every vertex of the 3D model one unit in the negative x direction, apply to the already scaled figure and see what happens:"
   ],
   "cell_type": "markdown",
   "metadata": {}
  },
  {
   "cell_type": "code",
   "execution_count": 9,
   "metadata": {},
   "outputs": [
    {
     "output_type": "error",
     "ename": "SystemExit",
     "evalue": "0",
     "traceback": [
      "An exception has occurred, use %tb to see the full traceback.\n",
      "\u001b[0;31mSystemExit\u001b[0m\u001b[0;31m:\u001b[0m 0\n"
     ]
    }
   ],
   "source": [
    "from vectors import add\n",
    "\n",
    "def translate_1_left(v):\n",
    "    return add((-1, 0, 0), v)\n",
    "\n",
    "translated_scaled_triangles = [\n",
    "    [ translate_1_left(vertex) for vertex in triangle ]\n",
    "    for triangle in scaled_triangles\n",
    "]\n",
    "\n",
    "draw_model(translated_scaled_triangles)"
   ]
  },
  {
   "source": [
    "### Composing vector transformations\n",
    "\n",
    "Applying any number of transformations sequentially defines a new transformation. For example, we could package what we did in 2 steps in the previous section into a single transformation:"
   ],
   "cell_type": "markdown",
   "metadata": {}
  },
  {
   "cell_type": "code",
   "execution_count": 10,
   "metadata": {},
   "outputs": [
    {
     "output_type": "error",
     "ename": "SystemExit",
     "evalue": "0",
     "traceback": [
      "An exception has occurred, use %tb to see the full traceback.\n",
      "\u001b[0;31mSystemExit\u001b[0m\u001b[0;31m:\u001b[0m 0\n"
     ]
    }
   ],
   "source": [
    "def scale2_then_translate1left(v):\n",
    "    return translate_1_left(scale2(v))\n",
    "\n",
    "original_triangles = load_triangles()\n",
    "transformed_triangles = [\n",
    "    [scale2_then_translate1left(vertex) for vertex in triangle]\n",
    "    for triangle in original_triangles\n",
    "]\n",
    "\n",
    "draw_model(transformed_triangles)"
   ]
  },
  {
   "source": [
    "As vector transformations take vectors and return vectors, we can combine any number of them using *function composition*:\n",
    "\n",
    "```python\n",
    "def compose(f1, f2):\n",
    "    def new_function(input):\n",
    "        return f1(f2(input))\n",
    "    return new_function\n",
    "```"
   ],
   "cell_type": "markdown",
   "metadata": {}
  },
  {
   "cell_type": "code",
   "execution_count": 11,
   "metadata": {},
   "outputs": [
    {
     "output_type": "error",
     "ename": "SystemExit",
     "evalue": "0",
     "traceback": [
      "An exception has occurred, use %tb to see the full traceback.\n",
      "\u001b[0;31mSystemExit\u001b[0m\u001b[0;31m:\u001b[0m 0\n"
     ]
    }
   ],
   "source": [
    "def compose(f1, f2):\n",
    "    def new_function(input):\n",
    "        return f1(f2(input))\n",
    "    return new_function\n",
    "\n",
    "scale2_then_translate1left = compose(translate_1_left, scale2)\n",
    "\n",
    "original_triangles = load_triangles()\n",
    "transformed_triangles = [\n",
    "    [scale2_then_translate1left(vertex) for vertex in triangle]\n",
    "    for triangle in original_triangles\n",
    "]\n",
    "\n",
    "draw_model(transformed_triangles)"
   ]
  },
  {
   "source": [
    "We've already seen that having to apply the *list comprehension* technique each time that we want to apply a transformation is kind of a nuisance.\n",
    "\n",
    "We can improve that by creating a helper function `polygon_map(transformation, polygons)`:"
   ],
   "cell_type": "markdown",
   "metadata": {}
  },
  {
   "cell_type": "code",
   "execution_count": 12,
   "metadata": {},
   "outputs": [
    {
     "output_type": "error",
     "ename": "SystemExit",
     "evalue": "0",
     "traceback": [
      "An exception has occurred, use %tb to see the full traceback.\n",
      "\u001b[0;31mSystemExit\u001b[0m\u001b[0;31m:\u001b[0m 0\n"
     ]
    }
   ],
   "source": [
    "def polygon_map(transformation, polygons):\n",
    "    return [\n",
    "        [transformation(vertex) for vertex in polygon]\n",
    "        for polygon in polygons\n",
    "    ]\n",
    "\n",
    "draw_model(\n",
    "    polygon_map(\n",
    "        compose(translate_1_left, scale2), load_triangles()\n",
    "        )\n",
    "    )"
   ]
  },
  {
   "source": [
    "Both `compose(...)` and `polygon_map(...)` take vector transformations as arguments. \n",
    "\n",
    "Sometimes, it's also useful to have functions that return transformations. For example, we can define a `scale_by(scalar)` function:"
   ],
   "cell_type": "markdown",
   "metadata": {}
  },
  {
   "cell_type": "code",
   "execution_count": 16,
   "metadata": {},
   "outputs": [
    {
     "output_type": "error",
     "ename": "SystemExit",
     "evalue": "0",
     "traceback": [
      "An exception has occurred, use %tb to see the full traceback.\n",
      "\u001b[0;31mSystemExit\u001b[0m\u001b[0;31m:\u001b[0m 0\n"
     ]
    }
   ],
   "source": [
    "def scale_by(scalar):\n",
    "    def new_function(v):\n",
    "        return scale(scalar, v)\n",
    "    return new_function\n",
    "\n",
    "draw_model(polygon_map(scale_by(0.5), load_triangles()))"
   ]
  },
  {
   "source": [
    "Similarly, we can use the same approach (having functions that return transformations) to define a `translate_by(...)` function:"
   ],
   "cell_type": "markdown",
   "metadata": {}
  },
  {
   "cell_type": "code",
   "execution_count": 13,
   "metadata": {},
   "outputs": [
    {
     "output_type": "error",
     "ename": "SystemExit",
     "evalue": "0",
     "traceback": [
      "An exception has occurred, use %tb to see the full traceback.\n",
      "\u001b[0;31mSystemExit\u001b[0m\u001b[0;31m:\u001b[0m 0\n"
     ]
    }
   ],
   "source": [
    "def translate_by(translation_vector):\n",
    "    def new_function(v):\n",
    "        return add(translation_vector, v)\n",
    "    return new_function\n",
    "\n",
    "draw_model(polygon_map(translate_by((-1, 0, 0)), load_triangles()))"
   ]
  },
  {
   "source": [
    "As a result, we now have a very flexible, *functional* way of applying transformations thanks to *composition* and *functions that return functions*:"
   ],
   "cell_type": "markdown",
   "metadata": {}
  },
  {
   "cell_type": "code",
   "execution_count": 14,
   "metadata": {},
   "outputs": [
    {
     "output_type": "error",
     "ename": "NameError",
     "evalue": "name 'scale_by' is not defined",
     "traceback": [
      "\u001b[0;31m---------------------------------------------------------------------------\u001b[0m",
      "\u001b[0;31mNameError\u001b[0m                                 Traceback (most recent call last)",
      "\u001b[0;32m<ipython-input-14-87d91b0e0aab>\u001b[0m in \u001b[0;36m<module>\u001b[0;34m\u001b[0m\n\u001b[0;32m----> 1\u001b[0;31m \u001b[0mdraw_model\u001b[0m\u001b[0;34m(\u001b[0m\u001b[0mpolygon_map\u001b[0m\u001b[0;34m(\u001b[0m\u001b[0mcompose\u001b[0m\u001b[0;34m(\u001b[0m\u001b[0mtranslate_by\u001b[0m\u001b[0;34m(\u001b[0m\u001b[0;34m(\u001b[0m\u001b[0;34m-\u001b[0m\u001b[0;36m1\u001b[0m\u001b[0;34m,\u001b[0m \u001b[0;36m0\u001b[0m\u001b[0;34m,\u001b[0m \u001b[0;36m0\u001b[0m\u001b[0;34m)\u001b[0m\u001b[0;34m)\u001b[0m\u001b[0;34m,\u001b[0m \u001b[0mscale_by\u001b[0m\u001b[0;34m(\u001b[0m\u001b[0;36m2\u001b[0m\u001b[0;34m)\u001b[0m\u001b[0;34m)\u001b[0m\u001b[0;34m,\u001b[0m \u001b[0mload_triangles\u001b[0m\u001b[0;34m(\u001b[0m\u001b[0;34m)\u001b[0m\u001b[0;34m)\u001b[0m\u001b[0;34m)\u001b[0m\u001b[0;34m\u001b[0m\u001b[0;34m\u001b[0m\u001b[0m\n\u001b[0m",
      "\u001b[0;31mNameError\u001b[0m: name 'scale_by' is not defined"
     ]
    }
   ],
   "source": [
    "draw_model(polygon_map(compose(translate_by((-1, 0, 0)), scale_by(2)), load_triangles()))"
   ]
  },
  {
   "source": [
    "### Rotating an object about an axis\n",
    "\n",
    "We already learn how to do rotations in 2D in the chapter [01 &mdash; Vectors in the 2D plane](../../01-vectors-in-the-2d-plane).\n",
    "The technique consisted in converting the Cartesian coordinates of the vector to be rotated to its polar coordinates, applying the rotation, and then convert it back to its Cartesian coordinates.\n",
    "\n",
    "This technique is also useful for 3D rotations because all 3D vector rotations are *isolated in planes*.\n",
    "\n",
    "For example, considered the following situation in which we want to rotate a point in the 3D space around the z-axis:\n",
    "\n",
    "![3D space rotations](../images/3d-space-rotations.png)\n",
    "\n"
   ],
   "cell_type": "markdown",
   "metadata": {}
  },
  {
   "source": [
    "Note that when the point is rotated, the z coordinate of the point does not change &mdash; it is isolated on the z plane, and therefore, we could apply the 2D rotation technique to the x and y coordinates of the point.\n",
    "\n",
    "Let's define the rotation function:"
   ],
   "cell_type": "markdown",
   "metadata": {}
  },
  {
   "cell_type": "code",
   "execution_count": 15,
   "metadata": {},
   "outputs": [],
   "source": [
    "from vectors import to_polar, to_cartesian\n",
    "\n",
    "def rotate2d(angle, vector):\n",
    "    vector_length, vector_angle = to_polar(vector)\n",
    "    vector_angle = vector_angle + angle\n",
    "    return to_cartesian((vector_length, vector_angle))"
   ]
  },
  {
   "source": [
    "And now the 3D rotation function to compute rotations about the z-axis:"
   ],
   "cell_type": "markdown",
   "metadata": {}
  },
  {
   "cell_type": "code",
   "execution_count": 16,
   "metadata": {},
   "outputs": [],
   "source": [
    "def rotate_z(angle, vector):\n",
    "    v_x, v_y, v_z = vector\n",
    "    new_x, new_y = rotate2d(angle, (v_x, v_y))\n",
    "    return (new_x, new_y, v_z)"
   ]
  },
  {
   "source": [
    "And if we define a `rotate_z_by(...)` function that returns a function that performs the transformation, we will be able to start using it for our renders:"
   ],
   "cell_type": "markdown",
   "metadata": {}
  },
  {
   "cell_type": "code",
   "execution_count": 18,
   "metadata": {},
   "outputs": [],
   "source": [
    "def rotate_z_by(angle):\n",
    "    def new_function(v):\n",
    "        return rotate_z(angle, v)\n",
    "    return new_function"
   ]
  },
  {
   "cell_type": "code",
   "execution_count": 19,
   "metadata": {},
   "outputs": [
    {
     "output_type": "error",
     "ename": "SystemExit",
     "evalue": "0",
     "traceback": [
      "An exception has occurred, use %tb to see the full traceback.\n",
      "\u001b[0;31mSystemExit\u001b[0m\u001b[0;31m:\u001b[0m 0\n"
     ]
    }
   ],
   "source": [
    "from math import pi\n",
    "\n",
    "draw_model(polygon_map(rotate_z_by(pi / 4.0), load_triangles()))"
   ]
  },
  {
   "source": [
    "We can write similar functions to rotate about the x and y axis:"
   ],
   "cell_type": "markdown",
   "metadata": {}
  },
  {
   "cell_type": "code",
   "execution_count": 20,
   "metadata": {},
   "outputs": [
    {
     "output_type": "error",
     "ename": "SystemExit",
     "evalue": "0",
     "traceback": [
      "An exception has occurred, use %tb to see the full traceback.\n",
      "\u001b[0;31mSystemExit\u001b[0m\u001b[0;31m:\u001b[0m 0\n"
     ]
    }
   ],
   "source": [
    "def rotate_x(angle, vector):\n",
    "    x, y, z = vector\n",
    "    new_y, new_z = rotate2d(angle, (y, z))\n",
    "    return (x, new_y, new_z)\n",
    "\n",
    "def rotate_x_by(angle):\n",
    "    def new_function(v):\n",
    "        return rotate_x(angle, v)\n",
    "    return new_function\n",
    "\n",
    "\n",
    "draw_model(polygon_map(rotate_x_by(pi / 2.), load_triangles()))"
   ]
  },
  {
   "cell_type": "code",
   "execution_count": 21,
   "metadata": {},
   "outputs": [
    {
     "output_type": "error",
     "ename": "SystemExit",
     "evalue": "0",
     "traceback": [
      "An exception has occurred, use %tb to see the full traceback.\n",
      "\u001b[0;31mSystemExit\u001b[0m\u001b[0;31m:\u001b[0m 0\n"
     ]
    }
   ],
   "source": [
    "def rotate_y(angle, vector):\n",
    "    x, y, z = vector\n",
    "    new_x, new_z = rotate2d(angle, (x, z))\n",
    "    return (new_x, y, new_z)\n",
    "\n",
    "def rotate_y_by(angle):\n",
    "    def new_function(v):\n",
    "        return rotate_y(angle, v)\n",
    "    return new_function\n",
    "\n",
    "draw_model(polygon_map(rotate_y_by(pi / 4.), load_triangles()))"
   ]
  },
  {
   "source": [
    "### Inventing your own geometric transformations\n",
    "\n",
    "We've seen so far the more common *transformations*: scaling, translation and rotation. However, we can define additional ones as long as they conform with the requirement:\n",
    "> a transformation takes as input a 3D vector and return a 3D vector."
   ],
   "cell_type": "markdown",
   "metadata": {}
  },
  {
   "source": [
    "For example, we can define a `stretch_x(...)` that returns a vector whose x coordinate has been stretched:"
   ],
   "cell_type": "markdown",
   "metadata": {}
  },
  {
   "cell_type": "code",
   "execution_count": 24,
   "metadata": {},
   "outputs": [
    {
     "output_type": "error",
     "ename": "SystemExit",
     "evalue": "0",
     "traceback": [
      "An exception has occurred, use %tb to see the full traceback.\n",
      "\u001b[0;31mSystemExit\u001b[0m\u001b[0;31m:\u001b[0m 0\n"
     ]
    }
   ],
   "source": [
    "def stretch_x(v):\n",
    "    x, y, z = v\n",
    "    return (4. * x, y, z)\n",
    "\n",
    "draw_model(polygon_map(stretch_x, load_triangles()))"
   ]
  },
  {
   "cell_type": "code",
   "execution_count": 25,
   "metadata": {},
   "outputs": [
    {
     "output_type": "error",
     "ename": "SystemExit",
     "evalue": "0",
     "traceback": [
      "An exception has occurred, use %tb to see the full traceback.\n",
      "\u001b[0;31mSystemExit\u001b[0m\u001b[0;31m:\u001b[0m 0\n"
     ]
    }
   ],
   "source": [
    "def stretch_y(v):\n",
    "    x, y, z = v\n",
    "    return (x, 4. * y, z)\n",
    "\n",
    "draw_model(polygon_map(stretch_y, load_triangles()))"
   ]
  },
  {
   "cell_type": "code",
   "execution_count": 26,
   "metadata": {},
   "outputs": [
    {
     "output_type": "error",
     "ename": "SystemExit",
     "evalue": "0",
     "traceback": [
      "An exception has occurred, use %tb to see the full traceback.\n",
      "\u001b[0;31mSystemExit\u001b[0m\u001b[0;31m:\u001b[0m 0\n"
     ]
    }
   ],
   "source": [
    "def cube_stretch_z(v):\n",
    "    x, y, z = v\n",
    "    return (x, y, z * z * z)\n",
    "\n",
    "draw_model(polygon_map(cube_stretch_z, load_triangles()))"
   ]
  },
  {
   "cell_type": "code",
   "execution_count": null,
   "metadata": {},
   "outputs": [],
   "source": [
    "def cube_stretch_y(v):\n",
    "    x, y, z = v\n",
    "    return (x, y * y * y, z)\n",
    "\n",
    "draw_model(polygon_map(cube_stretch_y, load_triangles()))"
   ]
  },
  {
   "cell_type": "code",
   "execution_count": null,
   "metadata": {},
   "outputs": [],
   "source": [
    "Additional transformatios are possible, like *slanting*:"
   ]
  },
  {
   "cell_type": "code",
   "execution_count": 28,
   "metadata": {},
   "outputs": [
    {
     "output_type": "error",
     "ename": "SystemExit",
     "evalue": "0",
     "traceback": [
      "An exception has occurred, use %tb to see the full traceback.\n",
      "\u001b[0;31mSystemExit\u001b[0m\u001b[0;31m:\u001b[0m 0\n"
     ]
    }
   ],
   "source": [
    "def slant_xy(v):\n",
    "    x, y, z = v\n",
    "    return (x + y, y, z)\n",
    "\n",
    "draw_model(polygon_map(slant_xy, load_triangles()))"
   ]
  },
  {
   "source": [
    "## Linear Transformations\n",
    "\n",
    "Linear transformations are special transformations where vector arithmetics looks the same before and after the transformation. Linear transformations are one of the main objects of study in linear algebra."
   ],
   "cell_type": "markdown",
   "metadata": {}
  },
  {
   "source": [
    "### Preserving vector arithmetic\n",
    "\n",
    "Let's try to understand what *linear transformations* mean with examples:"
   ],
   "cell_type": "markdown",
   "metadata": {}
  }
 ]
}