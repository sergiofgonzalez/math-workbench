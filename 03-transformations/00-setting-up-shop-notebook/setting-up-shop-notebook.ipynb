{
 "metadata": {
  "language_info": {
   "codemirror_mode": {
    "name": "ipython",
    "version": 3
   },
   "file_extension": ".py",
   "mimetype": "text/x-python",
   "name": "python",
   "nbconvert_exporter": "python",
   "pygments_lexer": "ipython3",
   "version": "3.8.3-final"
  },
  "orig_nbformat": 2,
  "kernelspec": {
   "name": "Python 3.8.3 64-bit ('base': conda)",
   "display_name": "Python 3.8.3 64-bit ('base': conda)",
   "metadata": {
    "interpreter": {
     "hash": "ead85409a3df2736fa4852a03cf3afe7e5b1dbdc0e40d7d22bbcbf8cf1adf5fa"
    }
   }
  }
 },
 "nbformat": 4,
 "nbformat_minor": 2,
 "cells": [
  {
   "source": [
    "# Transformations &mdash; Setting up shop\n",
    "> introduction to tools, techniques and libraries used in the concepts section\n",
    "\n",
    "\n",
    "## Intro\n",
    "\n",
    "Before we dive in into the concepts of 3D animations and transformations, we need to install additional tooling into our environment.\n",
    "\n",
    "To visualize rotations, linear transformations and other relevant transformations, *OpenGL* will be used through *PyOpenGL* library. For animations we'll use *PyGame* a game development library for Python.\n",
    "\n",
    "The following sections details how these packages can be installed and configured, and the initial usage tips regarding these tools are given."
   ],
   "cell_type": "markdown",
   "metadata": {}
  },
  {
   "source": [
    "## Setting Up Shop with *PyOpenGL* and *PyGame*\n",
    "\n",
    "### Installing `pygame`\n",
    "\n",
    "`pygame` library does not come with the *conda* distribution, so it has to be manually installed.\n",
    "\n",
    "However, When trying to do simple installation you get dependency errors such as:\n",
    "\n",
    "```bash\n",
    "$ pip install pygame\n",
    "...\n",
    "Hunting dependencies...\n",
    "WARNING: \"sdl-config\" failed!\n",
    "```\n",
    "\n",
    "This can be fixed by first accessing the *Software & Updates* app, and checking the *sources* option:\n",
    "\n",
    "![Software and Updates app](../images/software-and-updates-gtk.png)\n",
    "\n",
    "![Checking sources](../images/software-update-src.png)\n",
    "\n",
    "Right after that, you can run:\n",
    "```bash\n",
    "$ sudo apt install python-dev python3-dev\n",
    "$ sudo apt build-dep python-pygame\n",
    "```\n",
    "\n",
    "And then:\n",
    "\n",
    "```bash\n",
    "$ python3 -m pip install -U pygame --user\n",
    "```\n",
    "\n",
    "which seems to be same as `pip install pygame`.\n",
    "\n",
    "The last step is to exit *VSCode* and enter again, and the `pygame` library will be available for you to import."
   ],
   "cell_type": "markdown",
   "metadata": {}
  },
  {
   "source": [
    "### Recreating the octahedron from previous chapter\n",
    "In this section we will recreate the rendering of an octahedron but using *OpenGL*.\n",
    "\n",
    "#### Setting up our `vectors` library\n",
    "\n",
    "In chapter 1 and 2 we developed a `vector_arithmetic.py` library with all the operations related to vectors. In this section, we renamed this library as `vectors.py` for simplicity, and added a few extra functions related to the rendering section of chapter 2.\n",
    "\n",
    "Also, some of the names have been simplified (`dot()` instead of `dot_product()`, `cross()` instead of `cross_product()`, etc.)\n",
    "\n",
    "The library can be found in [`vectors.py`](../02-vectors-library).\n",
    "\n",
    "| NOTE : |\n",
    "| :----- |\n",
    "| While the notebook approach is very conducive to the code annotation and documentation, there are issues when running the game code inside a notebook (cell gets executing, the kernel needs to restart multiple times, etc.). Please, use [octahedron_render.py](../03-octahedron-3d/) to run the octahedron render in a standalone Python programme. For this reason, Python code in the section below has been included as markdown. |"
   ],
   "cell_type": "markdown",
   "metadata": {}
  },
  {
   "source": [
    "#### Creating the game loop\n",
    "\n",
    "Now, we will include the code that will actually display the octahedron:"
   ],
   "cell_type": "markdown",
   "metadata": {}
  },
  {
   "source": [
    "```python\n",
    "import pygame\n",
    "from pygame.locals import *\n",
    "from OpenGL.GL import *\n",
    "from OpenGL.GLU import *\n",
    "import matplotlib.cm\n",
    "from vectors import *\n",
    "from math import *\n",
    "```"
   ],
   "cell_type": "markdown",
   "metadata": {
    "tags": []
   }
  },
  {
   "source": [
    "For simplicity, we will still use the shading mechanism from `matplotlib`. Also, the `normal(...)` function that returned a vector perpendicular to the shape face will stay the same (note: it could have been added to the `vectors.py` lib):"
   ],
   "cell_type": "markdown",
   "metadata": {}
  },
  {
   "source": [
    "def normal(face):\n",
    "    return (cross(subtract(face[1], face[0]), subtract(face[2], face[0])))\n",
    "\n",
    "blues = matplotlib.cm.get_cmap('Blues')\n",
    "def shade(face, color_map=blues, light=(1, 2, 3)):\n",
    "    return color_map(1 - dot(unit(normal(face)), unit(light)))\n"
   ],
   "cell_type": "code",
   "metadata": {},
   "execution_count": null,
   "outputs": []
  },
  {
   "source": [
    "Now, we specify the octahedron faces as we did in the previous chapter, and establish the position of our light source at `(1, 2, 3)`."
   ],
   "cell_type": "markdown",
   "metadata": {}
  },
  {
   "cell_type": "code",
   "execution_count": 3,
   "metadata": {},
   "outputs": [],
   "source": [
    "octahedron_faces = [ \n",
    "      [(1, 0, 0), (0, 1, 0), (0, 0, 1)],\n",
    "      [(1, 0, 0), (0, 0, -1), (0, 1, 0)],\n",
    "      [(1, 0, 0), (0, 0, 1), (0, -1, 0)],\n",
    "      [(1, 0, 0), (0, -1, 0), (0, 0, -1)],\n",
    "      [(-1, 0, 0), (0, 0, 1), (0, 1, 0)],\n",
    "      [(-1, 0, 0), (0, 1, 0), (0, 0, -1)],\n",
    "      [(-1, 0, 0), (0, -1, 0), (0, 0, 1)],\n",
    "      [(-1, 0, 0), (0, 0, -1), (0, -1, 0)]\n",
    "]\n",
    "\n",
    "light = (1, 2, 3)"
   ]
  },
  {
   "source": [
    "Next step consists in bootstrapping *PyGame*, establish the window size in pixels and configure *OpenGL* as the graphics engine:"
   ],
   "cell_type": "markdown",
   "metadata": {}
  },
  {
   "source": [
    "```python\n",
    "# pygame.init()\n",
    "# switched to pygame.display.init() as the former left the process hanged\n",
    "\n",
    "pygame.display.init()\n",
    "display = (400, 400)\n",
    "window = pygame.display.set_mode(display, DOUBLEBUF|OPENGL)\n",
    "```"
   ],
   "cell_type": "markdown",
   "metadata": {}
  },
  {
   "source": [
    "Right after that we should set up the user perspective in *OpenGL*: "
   ],
   "cell_type": "markdown",
   "metadata": {}
  },
  {
   "source": [
    "```python\n",
    "# Set our perspective when looking at the the 3D scene\n",
    "# 45 is the viewing angle\n",
    "# 1 is the aspect ratio\n",
    "# 0.1 and 50 put limits on the z coordinates that are rendered:\n",
    "#   no objects further than 50 units or closer than 0.1 will be rendered\n",
    "gluPerspective(45, 1, 0.1, 50.0)\n",
    "\n",
    "# Observe the scene from 5 units up the z axis\n",
    "# (-5 means move the scene down by (0, 0, -5))\n",
    "glTranslatef(0.0, 0.0, -5)\n",
    "\n",
    "# hide polygons not visible from our perspective\n",
    "glEnable(GL_CULL_FACE)\n",
    "\n",
    "# render polygons closer to us on top of those further from us\n",
    "glEnable(GL_DEPTH_TEST)\n",
    "\n",
    "# hide polygons facing us but located behind other polygons\n",
    "glCullFace(GL_BACK)\n",
    "```"
   ],
   "cell_type": "markdown",
   "metadata": {}
  },
  {
   "source": [
    "Finally, we implement the main code that draws our octahedron.\n",
    "\n",
    "Although not needed for this particular example, we are writing code that draws the object over and over repeatedly.\n",
    "\n",
    "The animation loop is:\n",
    "+ loop through the vectors\n",
    "+ decide how to shade them\n",
    "+ draw them using OpenGL\n",
    "+ update the frame on the PyGame window"
   ],
   "cell_type": "markdown",
   "metadata": {}
  },
  {
   "source": [
    "```python\n",
    "# initializes a clock to measure time progress for PyGame\n",
    "clock = pygame.time.Clock()\n",
    "\n",
    "while True:\n",
    "    # check event and process quit if user closes window\n",
    "    for event in pygame.event.get():\n",
    "        if event.type == pygame.QUIT:\n",
    "            pygame.display.quit()\n",
    "            pygame.quit()\n",
    "            quit()\n",
    "    \n",
    "    # instruct PyGame clock to advance\n",
    "    clock.tick()\n",
    "\n",
    "    # clear previous state\n",
    "    glClear(GL_COLOR_BUFFER_BIT|GL_DEPTH_BUFFER_BIT)\n",
    "\n",
    "    # inform OpenGL we will be drawing triangles\n",
    "    glBegin(GL_TRIANGLES)\n",
    "    for face in octahedron_faces:\n",
    "        color = shade(face, blues, light)\n",
    "        for vertex in face:\n",
    "            glColor3fv((color[0], color[1], color[2]))\n",
    "            \n",
    "            # draw current vertex from face\n",
    "            glVertex3fv(vertex)\n",
    "    glEnd()\n",
    "\n",
    "    # tell PyGame next frame is ready to be rendered\n",
    "    pygame.display.flip()\n",
    "```"
   ],
   "cell_type": "markdown",
   "metadata": {
    "tags": []
   }
  },
  {
   "source": [
    "#### Changing the Perspective\n",
    "\n",
    "The function `glTranslatef(...)` is used to tell the position from which we want to see the 3D scene we're rendering.\n",
    "\n",
    "```python\n",
    "# Observe the scene from 5 units up the z axis\n",
    "# (-5 means move the scene down by (0, 0, -5))\n",
    "glTranslatef(0.0, 0.0, -5)\n",
    "```\n",
    "\n",
    "There is also `glRotatef(...)` function that lets us change the angle at which we observe the scene.\n",
    "\n",
    "```python\n",
    "# rotates the whole scene by the angle theta about an axis specified by the vector (x, y, z)\n",
    "glRotatef(theta, x, y, z)\n",
    "``` \n",
    "\n",
    "The vector `(0, 0, 1)` points along the z axis, and therefore `glRotatef(30, 0, 0, 1)` will rotate the scene by 30° about the z axis.\n",
    "\n",
    "![Rotating about the z axis](../images/octahedron_glRotatef.png)\n",
    "\n",
    "Similarly, `glRotatef(30, 0, 1, 1)` will rotate the scene by 30° about the (0, 1, 1) which is tilted 45° between the y and z axes."
   ],
   "cell_type": "markdown",
   "metadata": {}
  },
  {
   "source": [
    "It must be noted that `glRotatef()` does not change the shading of the octahedron, because we're only moving the *position of the camera*, but as the octahedron stays in the same position, the shading will not change.\n",
    "\n",
    "In the [octahedron_render.py](../03-octahedron-3d/) we have included a couple of functionalities associated with this behavior:\n",
    "+ when clicking the right mouse button `glRotatef(30, 0, 0, 1)` will be called\n",
    "+ when clicking the left mouse button `glRotatef(30, 0, 1, 1)` will be called\n",
    "+ when typing `a` the automatic animation will be enabled. This will rotate the shape about the axis `(0, 1, 1)` every 10 seconds.\n"
   ],
   "cell_type": "markdown",
   "metadata": {}
  },
  {
   "source": [
    "### Loading and Rendering the Utah teapot\n",
    "\n",
    "In the same way we identified the vectors outlining the vertices of an octahedron, we could do the same for any other 3D object. However, artists and engineers who work on 3D models have specialized tools for this purpose, and that use a different format.\n",
    "\n",
    "In this section we will use this approach to work with a famous 3D model: the *Utah teapot*. This is considered like the *hello world* for 3D graphics programming."
   ],
   "cell_type": "markdown",
   "metadata": {}
  },
  {
   "source": [
    "The process starts with the teapot model saved in a `teapot.off` file. This is an example of the *Object File Format*, a plaintext format that specifies the polygons that make up the surface of a 3D object, and the 3D vectors that identify the vertices of the polygon.\n",
    "\n",
    "```\n",
    "OFF\n",
    "  480 448 926   # indicates number of vertices, faces and edges of the 3D  model\n",
    "  0 0 0.488037  # 3D vectors for each of the vertices as x, y, z ccordinates\n",
    "  ...\n",
    "  4 324 306 304 317 # Specifies the faces of the model\n",
    "  ..\n",
    "```\n",
    "\n",
    "In the faces section, the first number identifies the type of polygon (3 for triangle, 4 for quadrilateral, 5 for a pentagon...). The numbers that follow tell us the indices of the vertices from the previous lines that form the corners of the polygon."
   ],
   "cell_type": "markdown",
   "metadata": {}
  },
  {
   "source": [
    "Once we have the shape definition in place, we will need functions to load the vertices and polygons from that file. These are the details:\n",
    "+ `load_vertices(...)` &mdash; return a list of 440 vectors, which are the vertices for the 3D model\n",
    "+ `load_polygons(...)` &mdash; return a list of 448 lists, each one containing the vectors that are the vertices for that polygon.\n",
    "+ `load_triangles(...)` &mdash; breaks up polygons with four or more vertices in triangles, as our rendering method is based on triangles."
   ],
   "cell_type": "markdown",
   "metadata": {}
  },
  {
   "source": [
    "Additionally, we create a function `draw_model(...)` to skip having to type the PyGame and OpenGL boilerplate code, each time we need to draw a model:\n",
    "\n",
    "```python\n",
    "def draw_model(faces, color_map=blues, light=(1, 2, 3)):\n",
    "...\n",
    "```\n",
    "\n",
    "As a result of all this supporting code, we can draw the teapot with a single line:"
   ],
   "cell_type": "markdown",
   "metadata": {}
  },
  {
   "cell_type": "code",
   "execution_count": 2,
   "metadata": {},
   "outputs": [
    {
     "output_type": "error",
     "ename": "SystemExit",
     "evalue": "0",
     "traceback": [
      "An exception has occurred, use %tb to see the full traceback.\n",
      "\u001b[0;31mSystemExit\u001b[0m\u001b[0;31m:\u001b[0m 0\n"
     ]
    }
   ],
   "source": [
    "from teapot import load_triangles\n",
    "from draw_model import draw_model\n",
    "\n",
    "draw_model(load_triangles())"
   ]
  },
  {
   "source": [
    "| NOTE: |\n",
    "| :---- |\n",
    "| Note that the files within the directory have been taken directly from the book code, as my vector library was giving issues. Also, a few modifications have been included in `draw_model.py` related to initialization and termination management. |"
   ],
   "cell_type": "markdown",
   "metadata": {}
  }
 ]
}