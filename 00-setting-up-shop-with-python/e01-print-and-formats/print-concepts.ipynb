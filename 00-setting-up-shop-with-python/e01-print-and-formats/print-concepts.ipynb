{
 "metadata": {
  "language_info": {
   "codemirror_mode": {
    "name": "ipython",
    "version": 3
   },
   "file_extension": ".py",
   "mimetype": "text/x-python",
   "name": "python",
   "nbconvert_exporter": "python",
   "pygments_lexer": "ipython3",
   "version": "3.8.3-final"
  },
  "orig_nbformat": 2,
  "kernelspec": {
   "name": "python_defaultSpec_1600847179818",
   "display_name": "Python 3.8.3 64-bit ('base': conda)"
  }
 },
 "nbformat": 4,
 "nbformat_minor": 2,
 "cells": [
  {
   "source": [
    "# `print(...)` and print formats"
   ],
   "cell_type": "markdown",
   "metadata": {}
  },
  {
   "source": [
    "You can use `print()` to display information on the standard output"
   ],
   "cell_type": "markdown",
   "metadata": {}
  },
  {
   "cell_type": "code",
   "execution_count": 1,
   "metadata": {
    "tags": []
   },
   "outputs": [
    {
     "output_type": "stream",
     "name": "stdout",
     "text": "Hello, world!\n"
    }
   ],
   "source": [
    "print('Hello, world!')"
   ]
  },
  {
   "source": [
    "Variable content can be also included using format specifiers like `%s`, `%d`, `%r`..."
   ],
   "cell_type": "markdown",
   "metadata": {}
  },
  {
   "cell_type": "code",
   "execution_count": 3,
   "metadata": {
    "tags": []
   },
   "outputs": [
    {
     "output_type": "stream",
     "name": "stdout",
     "text": "Hello to Jason Isaacs, who is turning 46 today and his fave number is 3.1415926\n"
    }
   ],
   "source": [
    "s = 'Jason Isaacs'\n",
    "age = 46\n",
    "favorite_number = 3.1415926\n",
    "\n",
    "print('Hello to %s, who is turning %d today and whose fave number is %r' % (s, age, favorite_number))"
   ]
  },
  {
   "source": [
    "However, format specifies do not work well with tuples:"
   ],
   "cell_type": "markdown",
   "metadata": {}
  },
  {
   "cell_type": "code",
   "execution_count": 4,
   "metadata": {},
   "outputs": [
    {
     "output_type": "error",
     "ename": "TypeError",
     "evalue": "not all arguments converted during string formatting",
     "traceback": [
      "\u001b[0;31m---------------------------------------------------------------------------\u001b[0m",
      "\u001b[0;31mTypeError\u001b[0m                                 Traceback (most recent call last)",
      "\u001b[0;32m<ipython-input-4-f3753bb93bbf>\u001b[0m in \u001b[0;36m<module>\u001b[0;34m\u001b[0m\n\u001b[1;32m      1\u001b[0m \u001b[0mfavorite_vector\u001b[0m \u001b[0;34m=\u001b[0m \u001b[0;34m(\u001b[0m\u001b[0;36m2\u001b[0m\u001b[0;34m,\u001b[0m \u001b[0;36m5\u001b[0m\u001b[0;34m)\u001b[0m\u001b[0;34m\u001b[0m\u001b[0;34m\u001b[0m\u001b[0m\n\u001b[0;32m----> 2\u001b[0;31m \u001b[0mprint\u001b[0m\u001b[0;34m(\u001b[0m\u001b[0;34m'My fave vector is %s'\u001b[0m \u001b[0;34m%\u001b[0m \u001b[0;34m(\u001b[0m\u001b[0;36m2\u001b[0m\u001b[0;34m,\u001b[0m \u001b[0;36m5\u001b[0m\u001b[0;34m)\u001b[0m\u001b[0;34m)\u001b[0m\u001b[0;34m\u001b[0m\u001b[0;34m\u001b[0m\u001b[0m\n\u001b[0m",
      "\u001b[0;31mTypeError\u001b[0m: not all arguments converted during string formatting"
     ]
    }
   ],
   "source": [
    "favorite_vector = (2, 5)\n",
    "print('My fave vector is %s' % (2, 5)) # not all arguments converted during string formatting"
   ]
  },
  {
   "source": [
    "Python also allows you to use the `format(...)` function which pretty much simplifies things:"
   ],
   "cell_type": "markdown",
   "metadata": {}
  },
  {
   "source": [
    "s = 'Jason Isaacs'\n",
    "age = 46\n",
    "favorite_number = 3.1415926\n",
    "favorite_vector = (2, 5)\n",
    "\n",
    "print('My favorite vector is {0}'.format(favorite_vector))\n",
    "print('Hello to {0}, who is turning {1} today and whose fave number is {2}'.format(s, age, favorite_number))"
   ],
   "cell_type": "code",
   "metadata": {
    "tags": []
   },
   "execution_count": 5,
   "outputs": [
    {
     "output_type": "stream",
     "name": "stdout",
     "text": "My favorite vector is (2, 5)\nHello to Jason Isaacs, who is turning 46 today and whose fave number is 3.1415926\n"
    }
   ]
  },
  {
   "source": [
    "If there is no need to reuse the given parameters, the number of the parameter can be omitted"
   ],
   "cell_type": "markdown",
   "metadata": {}
  },
  {
   "cell_type": "code",
   "execution_count": 1,
   "metadata": {
    "tags": []
   },
   "outputs": [
    {
     "output_type": "stream",
     "name": "stdout",
     "text": "Hello to Jason Isaacs, who is turning 46 today and whose fave number is 3.1415926\n"
    }
   ],
   "source": [
    "s = 'Jason Isaacs'\n",
    "age = 46\n",
    "favorite_number = 3.1415926\n",
    "favorite_vector = (2, 5)\n",
    "\n",
    "print('Hello to {}, who is turning {} today and whose fave number is {}'.format(s, age, favorite_number))"
   ]
  },
  {
   "cell_type": "code",
   "execution_count": null,
   "metadata": {},
   "outputs": [],
   "source": []
  }
 ]
}