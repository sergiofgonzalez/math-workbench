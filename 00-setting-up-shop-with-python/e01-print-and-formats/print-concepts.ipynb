{
 "metadata": {
  "language_info": {
   "codemirror_mode": {
    "name": "ipython",
    "version": 3
   },
   "file_extension": ".py",
   "mimetype": "text/x-python",
   "name": "python",
   "nbconvert_exporter": "python",
   "pygments_lexer": "ipython3",
   "version": "3.8.8"
  },
  "orig_nbformat": 2,
  "kernelspec": {
   "name": "python3",
   "display_name": "Python 3.8.8 64-bit ('base': conda)"
  },
  "interpreter": {
   "hash": "ead85409a3df2736fa4852a03cf3afe7e5b1dbdc0e40d7d22bbcbf8cf1adf5fa"
  }
 },
 "nbformat": 4,
 "nbformat_minor": 2,
 "cells": [
  {
   "cell_type": "markdown",
   "source": [
    "# `print(...)` and print formats"
   ],
   "metadata": {}
  },
  {
   "cell_type": "markdown",
   "source": [
    "You can use `print()` to display information on the standard output"
   ],
   "metadata": {}
  },
  {
   "cell_type": "code",
   "execution_count": 1,
   "source": [
    "print('Hello, world!')"
   ],
   "outputs": [
    {
     "output_type": "stream",
     "name": "stdout",
     "text": [
      "Hello, world!\n"
     ]
    }
   ],
   "metadata": {
    "tags": []
   }
  },
  {
   "cell_type": "markdown",
   "source": [
    "Variable content can be also included using format specifiers like `%s`, `%d`, `%r`..."
   ],
   "metadata": {}
  },
  {
   "cell_type": "code",
   "execution_count": 3,
   "source": [
    "s = 'Jason Isaacs'\n",
    "age = 46\n",
    "favorite_number = 3.1415926\n",
    "\n",
    "print('Hello to %s, who is turning %d today and whose fave number is %r' % (s, age, favorite_number))"
   ],
   "outputs": [
    {
     "output_type": "stream",
     "name": "stdout",
     "text": [
      "Hello to Jason Isaacs, who is turning 46 today and his fave number is 3.1415926\n"
     ]
    }
   ],
   "metadata": {
    "tags": []
   }
  },
  {
   "cell_type": "markdown",
   "source": [
    "However, format specifies do not work well with tuples:"
   ],
   "metadata": {}
  },
  {
   "cell_type": "code",
   "execution_count": 4,
   "source": [
    "favorite_vector = (2, 5)\n",
    "print('My fave vector is %s' % (2, 5)) # not all arguments converted during string formatting"
   ],
   "outputs": [
    {
     "output_type": "error",
     "ename": "TypeError",
     "evalue": "not all arguments converted during string formatting",
     "traceback": [
      "\u001b[0;31m---------------------------------------------------------------------------\u001b[0m",
      "\u001b[0;31mTypeError\u001b[0m                                 Traceback (most recent call last)",
      "\u001b[0;32m<ipython-input-4-f3753bb93bbf>\u001b[0m in \u001b[0;36m<module>\u001b[0;34m\u001b[0m\n\u001b[1;32m      1\u001b[0m \u001b[0mfavorite_vector\u001b[0m \u001b[0;34m=\u001b[0m \u001b[0;34m(\u001b[0m\u001b[0;36m2\u001b[0m\u001b[0;34m,\u001b[0m \u001b[0;36m5\u001b[0m\u001b[0;34m)\u001b[0m\u001b[0;34m\u001b[0m\u001b[0;34m\u001b[0m\u001b[0m\n\u001b[0;32m----> 2\u001b[0;31m \u001b[0mprint\u001b[0m\u001b[0;34m(\u001b[0m\u001b[0;34m'My fave vector is %s'\u001b[0m \u001b[0;34m%\u001b[0m \u001b[0;34m(\u001b[0m\u001b[0;36m2\u001b[0m\u001b[0;34m,\u001b[0m \u001b[0;36m5\u001b[0m\u001b[0;34m)\u001b[0m\u001b[0;34m)\u001b[0m\u001b[0;34m\u001b[0m\u001b[0;34m\u001b[0m\u001b[0m\n\u001b[0m",
      "\u001b[0;31mTypeError\u001b[0m: not all arguments converted during string formatting"
     ]
    }
   ],
   "metadata": {}
  },
  {
   "cell_type": "markdown",
   "source": [
    "Python also allows you to use the `format(...)` function which pretty much simplifies things:"
   ],
   "metadata": {}
  },
  {
   "cell_type": "code",
   "execution_count": 5,
   "source": [
    "s = 'Jason Isaacs'\n",
    "age = 46\n",
    "favorite_number = 3.1415926\n",
    "favorite_vector = (2, 5)\n",
    "\n",
    "print('My favorite vector is {0}'.format(favorite_vector))\n",
    "print('Hello to {0}, who is turning {1} today and whose fave number is {2}'.format(s, age, favorite_number))"
   ],
   "outputs": [
    {
     "output_type": "stream",
     "name": "stdout",
     "text": [
      "My favorite vector is (2, 5)\n",
      "Hello to Jason Isaacs, who is turning 46 today and whose fave number is 3.1415926\n"
     ]
    }
   ],
   "metadata": {
    "tags": []
   }
  },
  {
   "cell_type": "markdown",
   "source": [
    "If there is no need to reuse the given parameters, the number of the parameter can be omitted"
   ],
   "metadata": {}
  },
  {
   "cell_type": "code",
   "execution_count": 1,
   "source": [
    "s = 'Jason Isaacs'\n",
    "age = 46\n",
    "favorite_number = 3.1415926\n",
    "favorite_vector = (2, 5)\n",
    "\n",
    "print('Hello to {}, who is turning {} today and whose fave number is {}'.format(s, age, favorite_number))"
   ],
   "outputs": [
    {
     "output_type": "stream",
     "name": "stdout",
     "text": [
      "Hello to Jason Isaacs, who is turning 46 today and whose fave number is 3.1415926\n"
     ]
    }
   ],
   "metadata": {
    "tags": []
   }
  },
  {
   "cell_type": "markdown",
   "source": [
    "Finally, you can use the `f'string_template'` formatting, which makes the syntax more terse, as you can use inline parameters (as in JavaScript template strings):"
   ],
   "metadata": {}
  },
  {
   "cell_type": "code",
   "execution_count": 1,
   "source": [
    "s = 'Jason Isaacs'\n",
    "age = 46\n",
    "favorite_number = 3.1415926\n",
    "\n",
    "print(f'Hello to {s}, who is turning {age} today and whose fave number is {favorite_number}')"
   ],
   "outputs": [
    {
     "output_type": "stream",
     "name": "stdout",
     "text": [
      "Hello to Jason Isaacs, who is turning 46 today and whose fave number is 3.1415926\n"
     ]
    }
   ],
   "metadata": {}
  }
 ]
}