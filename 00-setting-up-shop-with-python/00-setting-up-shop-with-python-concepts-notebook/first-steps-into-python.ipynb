{
 "cells": [
  {
   "cell_type": "markdown",
   "source": [
    "# First steps into Python\n",
    "> a collection of basic Python snippets"
   ],
   "metadata": {}
  },
  {
   "cell_type": "markdown",
   "source": [
    "## Hello, Python!\n",
    "\n",
    "The following cell is the canonical *Hello, world!* example in Python:"
   ],
   "metadata": {}
  },
  {
   "cell_type": "code",
   "execution_count": 42,
   "source": [
    "msg = \"Hello, world!\"\n",
    "\n",
    "print(msg)"
   ],
   "outputs": [
    {
     "output_type": "stream",
     "name": "stdout",
     "text": [
      "Hello, world!\n"
     ]
    }
   ],
   "metadata": {}
  },
  {
   "cell_type": "markdown",
   "source": [
    "## Hello, Python functions!\n",
    "\n",
    "Writing and calling Python functions is extremely easy. Note that we're also introducing a *for loop* to call the function ten times:"
   ],
   "metadata": {}
  },
  {
   "cell_type": "code",
   "execution_count": 43,
   "source": [
    "def f(x):\n",
    "    return x * x\n",
    "\n",
    "print(f(5))\n",
    "\n",
    "for x in range(0, 10):\n",
    "    print(f(x))"
   ],
   "outputs": [
    {
     "output_type": "stream",
     "name": "stdout",
     "text": [
      "25\n",
      "0\n",
      "1\n",
      "4\n",
      "9\n",
      "16\n",
      "25\n",
      "36\n",
      "49\n",
      "64\n",
      "81\n"
     ]
    }
   ],
   "metadata": {}
  },
  {
   "cell_type": "markdown",
   "source": [
    "## Hello, local imports!\n",
    "\n",
    "The previous example also illustrates how to import modules such as *Matplotlib* and *NumPy*.\n",
    "\n",
    "You can also import your own modules following the same approach. Note that there is a Python file `my_lib.py` in the current directory."
   ],
   "metadata": {}
  },
  {
   "cell_type": "code",
   "execution_count": 44,
   "source": [
    "from my_lib import square\n",
    "\n",
    "square(5)\n",
    "\n"
   ],
   "outputs": [
    {
     "output_type": "execute_result",
     "data": {
      "text/plain": [
       "25"
      ]
     },
     "metadata": {},
     "execution_count": 44
    }
   ],
   "metadata": {}
  },
  {
   "cell_type": "markdown",
   "source": [
    "It is also possible to place your custom modules in a particular folder.\n",
    "\n",
    "In the following example, we have created another module named `another_lib` and placed it into `./lib/`.\n",
    "\n",
    "You can consume it using:"
   ],
   "metadata": {}
  },
  {
   "cell_type": "code",
   "execution_count": 45,
   "source": [
    "from lib.another_lib import cube\n",
    "\n",
    "cube(5)"
   ],
   "outputs": [
    {
     "output_type": "execute_result",
     "data": {
      "text/plain": [
       "125"
      ]
     },
     "metadata": {},
     "execution_count": 45
    }
   ],
   "metadata": {}
  },
  {
   "cell_type": "markdown",
   "source": [
    "## Hello, `math` library!\n",
    "\n",
    "The `math` library contains a large collection of Math related utilities:"
   ],
   "metadata": {}
  },
  {
   "cell_type": "code",
   "execution_count": 46,
   "source": [
    "from math import pi, e\n",
    "\n",
    "print(pi)\n",
    "print(e)"
   ],
   "outputs": [
    {
     "output_type": "stream",
     "name": "stdout",
     "text": [
      "3.141592653589793\n",
      "2.718281828459045\n"
     ]
    }
   ],
   "metadata": {}
  },
  {
   "cell_type": "markdown",
   "source": [
    "You can also import the whole `math` library, although then you will have to qualify the constants and functions you use:"
   ],
   "metadata": {}
  },
  {
   "cell_type": "code",
   "execution_count": 47,
   "source": [
    "import math\n",
    "\n",
    "result = math.sqrt(25)\n",
    "print(result)"
   ],
   "outputs": [
    {
     "output_type": "stream",
     "name": "stdout",
     "text": [
      "5.0\n"
     ]
    }
   ],
   "metadata": {}
  },
  {
   "cell_type": "markdown",
   "source": [
    "In general, it's considered best practice to import exactly the symbols you need:"
   ],
   "metadata": {}
  },
  {
   "cell_type": "code",
   "execution_count": 48,
   "source": [
    "from math import sqrt, sin, cos, exp, log\n",
    "\n",
    "result = sin(pi / 2)\n",
    "print (result)\n",
    "\n",
    "print(cos(pi / 3))\n",
    "print(exp(1))\n",
    "print(log(exp(2)))"
   ],
   "outputs": [
    {
     "output_type": "stream",
     "name": "stdout",
     "text": [
      "1.0\n",
      "0.5000000000000001\n",
      "2.718281828459045\n",
      "2.0\n"
     ]
    }
   ],
   "metadata": {}
  },
  {
   "cell_type": "markdown",
   "source": [
    "## Hello, random!\n",
    "\n",
    "You can use the `random` module from the Python Standard library to generate random numbers:"
   ],
   "metadata": {}
  },
  {
   "cell_type": "code",
   "execution_count": 49,
   "source": [
    "from random import randint, uniform\n",
    "\n",
    "print(randint(0, 10))\n",
    "print(uniform(7.5, 9.5))"
   ],
   "outputs": [
    {
     "output_type": "stream",
     "name": "stdout",
     "text": [
      "3\n",
      "7.510985853304885\n"
     ]
    }
   ],
   "metadata": {}
  },
  {
   "cell_type": "markdown",
   "source": [
    "## Hello, collections!\n",
    "\n",
    "Collections are an essential part of Python. The following examples illustrates some basics around collections.\n"
   ],
   "metadata": {}
  },
  {
   "cell_type": "markdown",
   "source": [
    "### Lists\n",
    "\n",
    "Lists are ordered collections of elements."
   ],
   "metadata": {}
  },
  {
   "cell_type": "code",
   "execution_count": 50,
   "source": [
    "# creating and accessing\n",
    "\n",
    "months = [\"January\", \"February\", \"March\"]\n",
    "print(months[0]) # <- January\n",
    "print(months[2]) # <- March"
   ],
   "outputs": [
    {
     "output_type": "stream",
     "name": "stdout",
     "text": [
      "January\n",
      "March\n"
     ]
    }
   ],
   "metadata": {}
  },
  {
   "cell_type": "code",
   "execution_count": 51,
   "source": [
    "# unpacking (i.e. destructuring)\n",
    "jan, feb, march = months\n",
    "print(jan)\n",
    "print(march)"
   ],
   "outputs": [
    {
     "output_type": "stream",
     "name": "stdout",
     "text": [
      "January\n",
      "March\n"
     ]
    }
   ],
   "metadata": {}
  },
  {
   "cell_type": "code",
   "execution_count": 52,
   "source": [
    "# concatenating lists\n",
    "long_list = [1, 2, 3] + [4, 5, 6]\n",
    "print(long_list)"
   ],
   "outputs": [
    {
     "output_type": "stream",
     "name": "stdout",
     "text": [
      "[1, 2, 3, 4, 5, 6]\n"
     ]
    }
   ],
   "metadata": {}
  },
  {
   "cell_type": "code",
   "execution_count": 53,
   "source": [
    "# slicing lists\n",
    "\n",
    "sublist = long_list[1:3] # list with elements 1 and 2\n",
    "print(sublist)"
   ],
   "outputs": [
    {
     "output_type": "stream",
     "name": "stdout",
     "text": [
      "[2, 3]\n"
     ]
    }
   ],
   "metadata": {}
  },
  {
   "cell_type": "code",
   "execution_count": 54,
   "source": [
    "# obtaining the length of lists\n",
    "\n",
    "print(len(months))\n",
    "print(len(long_list))\n",
    "print(len(sublist))"
   ],
   "outputs": [
    {
     "output_type": "stream",
     "name": "stdout",
     "text": [
      "3\n",
      "6\n",
      "2\n"
     ]
    }
   ],
   "metadata": {}
  },
  {
   "cell_type": "code",
   "execution_count": 55,
   "source": [
    "# indexing from the back of the list\n",
    "\n",
    "# getting the last element\n",
    "print(long_list[len(long_list) - 1])\n",
    "print(long_list[-1]) # much prettier using negative indices\n",
    "\n",
    "# getting the one before last item\n",
    "print(long_list[-2])\n",
    "\n",
    "# slicing with negative indices\n",
    "sublist = long_list[1:-1] # get elems from the second to the last\n",
    "print(sublist)"
   ],
   "outputs": [
    {
     "output_type": "stream",
     "name": "stdout",
     "text": [
      "6\n",
      "6\n",
      "5\n",
      "[2, 3, 4, 5]\n"
     ]
    }
   ],
   "metadata": {}
  },
  {
   "cell_type": "code",
   "execution_count": 56,
   "source": [
    "# list of lists\n",
    "list_of_lists = [[1, 2, 3], [4, 5, 6], [7, 8, 9]]\n",
    "print(list_of_lists)\n",
    "\n",
    "# getting the second element from the third vector\n",
    "print(list_of_lists[2][1])"
   ],
   "outputs": [
    {
     "output_type": "stream",
     "name": "stdout",
     "text": [
      "[[1, 2, 3], [4, 5, 6], [7, 8, 9]]\n",
      "8\n"
     ]
    }
   ],
   "metadata": {}
  },
  {
   "cell_type": "code",
   "execution_count": 57,
   "source": [
    "# iterating over a list with for\n",
    "\n",
    "for x in months:\n",
    "    print('Month: ' + x)"
   ],
   "outputs": [
    {
     "output_type": "stream",
     "name": "stdout",
     "text": [
      "Month: January\n",
      "Month: February\n",
      "Month: March\n"
     ]
    }
   ],
   "metadata": {}
  },
  {
   "cell_type": "code",
   "execution_count": 58,
   "source": [
    "# appending items to a list\n",
    "\n",
    "nums = [1, 2, 3, 4, 5]\n",
    "squares = [] # empty list\n",
    "\n",
    "for n in nums:\n",
    "    squares.append(n *n)\n",
    "\n",
    "print(squares)"
   ],
   "outputs": [
    {
     "output_type": "stream",
     "name": "stdout",
     "text": [
      "[1, 4, 9, 16, 25]\n"
     ]
    }
   ],
   "metadata": {}
  },
  {
   "cell_type": "markdown",
   "source": [
    "### Lists comprehensions\n",
    "\n",
    "Lists comprehensions lets you build lists declaratively (instead of imperatively using `append`) within the list definition in a very concise way."
   ],
   "metadata": {}
  },
  {
   "cell_type": "code",
   "execution_count": 59,
   "source": [
    "# simple\n",
    "cubes = [ x * x * x for x in nums]\n",
    "print(cubes)\n",
    "\n",
    "\n",
    "# nested\n",
    "years = [2019, 2020, 2021]\n",
    "combination = [ m + \" \" + str(y) for y in years for m in months]\n",
    "print(combination)\n",
    "\n",
    "# multilist\n",
    "multilist_combination = [[m + \" \" + str(y) for y in years] for m in months]\n",
    "print(multilist_combination) # each month in its own vector"
   ],
   "outputs": [
    {
     "output_type": "stream",
     "name": "stdout",
     "text": [
      "[1, 8, 27, 64, 125]\n",
      "['January 2019', 'February 2019', 'March 2019', 'January 2020', 'February 2020', 'March 2020', 'January 2021', 'February 2021', 'March 2021']\n",
      "[['January 2019', 'January 2020', 'January 2021'], ['February 2019', 'February 2020', 'February 2021'], ['March 2019', 'March 2020', 'March 2021']]\n"
     ]
    }
   ],
   "metadata": {}
  },
  {
   "cell_type": "code",
   "execution_count": 60,
   "source": [
    "# using a nested for in which the range is fixed (useful for iterating over tuple indices)\n",
    "some_tuples = [(x, i) for x in range(-1, 6) for i in [0, 1]]\n",
    "print(some_tuples)"
   ],
   "outputs": [
    {
     "output_type": "stream",
     "name": "stdout",
     "text": [
      "[(-1, 0), (-1, 1), (0, 0), (0, 1), (1, 0), (1, 1), (2, 0), (2, 1), (3, 0), (3, 1), (4, 0), (4, 1), (5, 0), (5, 1)]\n"
     ]
    }
   ],
   "metadata": {}
  },
  {
   "cell_type": "markdown",
   "source": [
    "### ranges\n",
    "\n",
    "The `range` is another type of collection. The `range()` function returns an object of type range that is iterable:"
   ],
   "metadata": {}
  },
  {
   "cell_type": "code",
   "execution_count": 61,
   "source": [
    "# range creation\n",
    "print(range(5, 10))\n",
    "\n"
   ],
   "outputs": [
    {
     "output_type": "stream",
     "name": "stdout",
     "text": [
      "range(5, 10)\n"
     ]
    }
   ],
   "metadata": {}
  },
  {
   "cell_type": "code",
   "execution_count": 62,
   "source": [
    "# iterating over a range\n",
    "for i in range(5, 10):\n",
    "    print(i)"
   ],
   "outputs": [
    {
     "output_type": "stream",
     "name": "stdout",
     "text": [
      "5\n",
      "6\n",
      "7\n",
      "8\n",
      "9\n"
     ]
    }
   ],
   "metadata": {}
  },
  {
   "cell_type": "code",
   "execution_count": 63,
   "source": [
    "# materializing a range into a list\n",
    "# (only recommended for small ranges)\n",
    "resulting_list = list(range(0, 10))\n",
    "print(resulting_list)"
   ],
   "outputs": [
    {
     "output_type": "stream",
     "name": "stdout",
     "text": [
      "[0, 1, 2, 3, 4, 5, 6, 7, 8, 9]\n"
     ]
    }
   ],
   "metadata": {}
  },
  {
   "cell_type": "markdown",
   "source": [
    "### The `zip` operation\n",
    "\n",
    "The `zip()` function lets you combine two iterables"
   ],
   "metadata": {}
  },
  {
   "cell_type": "code",
   "execution_count": 64,
   "source": [
    "zipped = zip([1, 2, 3], ['a', 'b', 'c'])\n",
    "print(zipped) # d'oh!\n",
    "\n",
    "print(list(zipped)) # you have to materialize it into a list to see it"
   ],
   "outputs": [
    {
     "output_type": "stream",
     "name": "stdout",
     "text": [
      "<zip object at 0x7f62d7e0ac40>\n",
      "[(1, 'a'), (2, 'b'), (3, 'c')]\n"
     ]
    }
   ],
   "metadata": {}
  },
  {
   "cell_type": "markdown",
   "source": [
    "### Generators\n",
    "\n",
    "Generators give you a way to create iterables that don't store all of their values at once (at iterable creation)."
   ],
   "metadata": {}
  },
  {
   "cell_type": "code",
   "execution_count": 65,
   "source": [
    "def count():\n",
    "    x = 0\n",
    "    while True:\n",
    "        yield x\n",
    "        x += 1\n",
    "\n",
    "print(count()) # d'oh!\n",
    "print(count()) # d'oh!\n",
    "print(count()) # d'oh!"
   ],
   "outputs": [
    {
     "output_type": "stream",
     "name": "stdout",
     "text": [
      "<generator object count at 0x7f62d7cedac0>\n",
      "<generator object count at 0x7f62d7cedac0>\n",
      "<generator object count at 0x7f62d7cedac0>\n"
     ]
    }
   ],
   "metadata": {}
  },
  {
   "cell_type": "code",
   "execution_count": 66,
   "source": [
    "# using the generator using for\n",
    "\n",
    "for i in count():\n",
    "    if i > 10:\n",
    "        break\n",
    "    else:\n",
    "        print(i)"
   ],
   "outputs": [
    {
     "output_type": "stream",
     "name": "stdout",
     "text": [
      "0\n",
      "1\n",
      "2\n",
      "3\n",
      "4\n",
      "5\n",
      "6\n",
      "7\n",
      "8\n",
      "9\n",
      "10\n"
     ]
    }
   ],
   "metadata": {}
  },
  {
   "cell_type": "code",
   "execution_count": 67,
   "source": [
    "# another *more contrived* example\n",
    "\n",
    "def count_v2(a, b):\n",
    "    x = a\n",
    "    while x < b:\n",
    "        yield x\n",
    "        x += 1\n",
    "\n",
    "gen = count_v2(1, 10)\n",
    "for i in gen:\n",
    "    print(i)\n",
    "\n",
    "# using a list comprehension to materialize a generator\n",
    "print([x for x in count_v2(1, 10)])\n"
   ],
   "outputs": [
    {
     "output_type": "stream",
     "name": "stdout",
     "text": [
      "1\n",
      "2\n",
      "3\n",
      "4\n",
      "5\n",
      "6\n",
      "7\n",
      "8\n",
      "9\n",
      "[1, 2, 3, 4, 5, 6, 7, 8, 9]\n"
     ]
    }
   ],
   "metadata": {}
  },
  {
   "cell_type": "markdown",
   "source": [
    "### Generator comprehensions\n",
    "\n",
    "A generator comprehension is a special type of syntax that lets you define generators in a much compact way:"
   ],
   "metadata": {}
  },
  {
   "cell_type": "code",
   "execution_count": 68,
   "source": [
    "# syntactic sugar\n",
    "gen_comprehension = (x * x for x in range(0, 10))\n",
    "print(gen_comprehension) # not materialized\n",
    "\n",
    "for x in gen_comprehension:\n",
    "    print(x)"
   ],
   "outputs": [
    {
     "output_type": "stream",
     "name": "stdout",
     "text": [
      "<generator object <genexpr> at 0x7f62d7cf4660>\n",
      "0\n",
      "1\n",
      "4\n",
      "9\n",
      "16\n",
      "25\n",
      "36\n",
      "49\n",
      "64\n",
      "81\n"
     ]
    }
   ],
   "metadata": {}
  },
  {
   "cell_type": "code",
   "execution_count": 69,
   "source": [
    "# you can materialize finite generators into lists\n",
    "squares = list((x * x for x in range(0, 10)))\n",
    "squares"
   ],
   "outputs": [
    {
     "output_type": "execute_result",
     "data": {
      "text/plain": [
       "[0, 1, 4, 9, 16, 25, 36, 49, 64, 81]"
      ]
     },
     "metadata": {},
     "execution_count": 69
    }
   ],
   "metadata": {}
  },
  {
   "cell_type": "markdown",
   "source": [
    "### tuples\n",
    "\n",
    "Tuples are another essential Python collection. You can picture tuples as immutable lists with more or less the same API:"
   ],
   "metadata": {}
  },
  {
   "cell_type": "code",
   "execution_count": 70,
   "source": [
    "print((1, 2))\n",
    "print(('a', 'b', 'c', 'd'))\n",
    "\n",
    "my_tuple = 1, 2, 3, 4, 5\n",
    "print(my_tuple)"
   ],
   "outputs": [
    {
     "output_type": "stream",
     "name": "stdout",
     "text": [
      "(1, 2)\n",
      "('a', 'b', 'c', 'd')\n",
      "(1, 2, 3, 4, 5)\n"
     ]
    }
   ],
   "metadata": {}
  },
  {
   "cell_type": "code",
   "execution_count": 71,
   "source": [
    "# you can use generators comprehension to generate tuples\n",
    "\n",
    "a = 1, 2, 3, 4, 5\n",
    "b = tuple(x + 10 for x in a)\n",
    "print(b)"
   ],
   "outputs": [
    {
     "output_type": "stream",
     "name": "stdout",
     "text": [
      "(11, 12, 13, 14, 15)\n"
     ]
    }
   ],
   "metadata": {}
  },
  {
   "cell_type": "markdown",
   "source": [
    "### Sets\n",
    "\n",
    "Sets is yet another essential Python collection. You can picture it as a collection of elements where every entry must be distinct, and where order is not important (lists are ordered collection):"
   ],
   "metadata": {}
  },
  {
   "cell_type": "code",
   "execution_count": 72,
   "source": [
    "import random\n",
    "\n",
    "def genRandomInts(min, max, num_samples):\n",
    "    x = 0\n",
    "    while x < num_samples:\n",
    "        yield random.randint(min, max)\n",
    "        x += 1\n",
    "\n",
    "nums = [x for x in genRandomInts(1, 6, 10)]\n",
    "print(nums)\n",
    "print(set(nums))"
   ],
   "outputs": [
    {
     "output_type": "stream",
     "name": "stdout",
     "text": [
      "[2, 5, 6, 3, 6, 3, 6, 1, 4, 2]\n",
      "{1, 2, 3, 4, 5, 6}\n"
     ]
    }
   ],
   "metadata": {}
  },
  {
   "cell_type": "markdown",
   "source": [
    "### Dictionaries\n",
    "\n",
    "Dictionaries are collections of key-value pairs."
   ],
   "metadata": {}
  },
  {
   "cell_type": "code",
   "execution_count": 73,
   "source": [
    "dog = {\"name\": \"Mara\", \"age\": 8}\n",
    "print(dog)\n",
    "print(dog[\"name\"])\n",
    "print(dog[\"age\"])"
   ],
   "outputs": [
    {
     "output_type": "stream",
     "name": "stdout",
     "text": [
      "{'name': 'Mara', 'age': 8}\n",
      "Mara\n",
      "8\n"
     ]
    }
   ],
   "metadata": {}
  },
  {
   "cell_type": "code",
   "execution_count": 74,
   "source": [
    "# the key-value pairs can be materialized into a list\n",
    "print(list(dog.items()))\n",
    "\n",
    "# then you can iterate over them\n",
    "for key, value in list(dog.items()):\n",
    "    print(f'key={key}, value={value}')"
   ],
   "outputs": [
    {
     "output_type": "stream",
     "name": "stdout",
     "text": [
      "[('name', 'Mara'), ('age', 8)]\n",
      "key=name, value=Mara\n",
      "key=age, value=8\n"
     ]
    }
   ],
   "metadata": {}
  },
  {
   "cell_type": "markdown",
   "source": [
    "## Hello, NumPy collections\n",
    "\n",
    "*NumPy* is the de-facto standard Python library for working with numbers. NumPy also defines its own set of collections, such as arrays, and ranges:"
   ],
   "metadata": {}
  },
  {
   "cell_type": "code",
   "execution_count": 75,
   "source": [
    "import numpy as np\n",
    "\n",
    "my_array = np.array([1, 2, 3, 4, 5])\n",
    "print(my_array)\n",
    "\n",
    "print(np.arange(0, 10))\n",
    "print(np.arange(0, 5, 0.5))"
   ],
   "outputs": [
    {
     "output_type": "stream",
     "name": "stdout",
     "text": [
      "[1 2 3 4 5]\n",
      "[0 1 2 3 4 5 6 7 8 9]\n",
      "[0.  0.5 1.  1.5 2.  2.5 3.  3.5 4.  4.5]\n"
     ]
    }
   ],
   "metadata": {}
  },
  {
   "cell_type": "markdown",
   "source": [
    "## Useful collection functions\n",
    "\n",
    "Python provides a large set of useful functions that work on collections such as `sum()`, `min()`, `max()`, `sorted()`..."
   ],
   "metadata": {}
  },
  {
   "cell_type": "code",
   "execution_count": 76,
   "source": [
    "# sum\n",
    "print(sum([1, 2, 3]))\n",
    "\n",
    "# max\n",
    "print(max([1, 2, 3]))\n",
    "\n",
    "# min\n",
    "print(max([1, 2, 3]))\n",
    "\n",
    "# sorted\n",
    "nums = [5, 1, 7, 3, 4, 2, 6]\n",
    "print(sorted(nums))\n",
    "print(nums) # original list is not mutated\n",
    "\n",
    "# reversed\n",
    "print(reversed(nums)) # d'oh!\n",
    "print(nums) # original list is not mutated\n"
   ],
   "outputs": [
    {
     "output_type": "stream",
     "name": "stdout",
     "text": [
      "6\n",
      "3\n",
      "3\n",
      "[1, 2, 3, 4, 5, 6, 7]\n",
      "[5, 1, 7, 3, 4, 2, 6]\n",
      "<list_reverseiterator object at 0x7f62d7e1b040>\n",
      "[5, 1, 7, 3, 4, 2, 6]\n"
     ]
    }
   ],
   "metadata": {}
  },
  {
   "cell_type": "markdown",
   "source": [
    "## Functions\n",
    "\n",
    "Functions are first-class citizens in Python."
   ],
   "metadata": {}
  },
  {
   "cell_type": "code",
   "execution_count": 77,
   "source": [
    "# simple function definition\n",
    "\n",
    "def square(x):\n",
    "    y = x * x\n",
    "    return y\n",
    "\n",
    "print(square(5))"
   ],
   "outputs": [
    {
     "output_type": "stream",
     "name": "stdout",
     "text": [
      "25\n"
     ]
    }
   ],
   "metadata": {}
  },
  {
   "cell_type": "code",
   "execution_count": 78,
   "source": [
    "# function with several explicit arguments\n",
    "\n",
    "def add3(x, y, z):\n",
    "    return x + y + z\n",
    "\n",
    "print(add3(1, 2, 3))"
   ],
   "outputs": [
    {
     "output_type": "stream",
     "name": "stdout",
     "text": [
      "6\n"
     ]
    }
   ],
   "metadata": {}
  },
  {
   "cell_type": "code",
   "execution_count": 79,
   "source": [
    "# function that takes a variable number of arguments\n",
    "\n",
    "def add(*args):\n",
    "    total = 0\n",
    "    for num in args:\n",
    "        total += num\n",
    "    return total\n",
    "\n",
    "print(add(1, 2, 3))\n",
    "print(add(1, 2, 3, 4, 5, 6, 7, 8, 9, 10))\n",
    "print(add(1))\n",
    "print(add())"
   ],
   "outputs": [
    {
     "output_type": "stream",
     "name": "stdout",
     "text": [
      "6\n",
      "55\n",
      "1\n",
      "0\n"
     ]
    }
   ],
   "metadata": {}
  },
  {
   "cell_type": "code",
   "execution_count": 80,
   "source": [
    "# you can use the '*' operator to convert a list into something that can be fed into *args\n",
    "\n",
    "nums = [1, 2, 3, 4, 5]\n",
    "try:\n",
    "    print(add(nums)) # runtime error when doing total += num\n",
    "except Exception as err:\n",
    "    print('ERROR:', err)\n",
    "\n",
    "print(add(*nums))"
   ],
   "outputs": [
    {
     "output_type": "stream",
     "name": "stdout",
     "text": [
      "ERROR: unsupported operand type(s) for +=: 'int' and 'list'\n",
      "15\n"
     ]
    }
   ],
   "metadata": {}
  },
  {
   "cell_type": "code",
   "execution_count": 81,
   "source": [
    "# arguments in Python functions are named\n",
    "\n",
    "def birthday(name, age):\n",
    "    s = \"Happy birthday, %s, you are %d years old!\" % (name, age) # old school string formatting\n",
    "    return s\n",
    "\n",
    "print(birthday(\"Alex\", 4))\n",
    "print(birthday(age=13, name=\"Adrian\"))"
   ],
   "outputs": [
    {
     "output_type": "stream",
     "name": "stdout",
     "text": [
      "Happy birthday, Alex, you are 4 years old!\n",
      "Happy birthday, Adrian, you are 13 years old!\n"
     ]
    }
   ],
   "metadata": {}
  },
  {
   "cell_type": "code",
   "execution_count": 82,
   "source": [
    "# you can also have default values for the arguments\n",
    "\n",
    "def birthday(name=\"friend\", age=None):\n",
    "    s = \"Happy birthday, %s\" % name\n",
    "    if age:\n",
    "        s += \", you are %d years old\" % age\n",
    "    return s + \"!\"\n",
    "\n",
    "print(birthday())\n",
    "print(birthday(age=47))\n",
    "print(birthday(name='Inma', age=51))\n"
   ],
   "outputs": [
    {
     "output_type": "stream",
     "name": "stdout",
     "text": [
      "Happy birthday, friend!\n",
      "Happy birthday, friend, you are 47 years old!\n",
      "Happy birthday, Inma, you are 51 years old!\n"
     ]
    }
   ],
   "metadata": {}
  },
  {
   "cell_type": "code",
   "execution_count": 83,
   "source": [
    "# arguments can be packed into a dictionary and fed into a function using the '**' operator\n",
    "\n",
    "nephew = { \"name\": \"Alex\", \"age\": 4 }\n",
    "print(birthday(**nephew))\n"
   ],
   "outputs": [
    {
     "output_type": "stream",
     "name": "stdout",
     "text": [
      "Happy birthday, Alex, you are 4 years old!\n"
     ]
    }
   ],
   "metadata": {}
  },
  {
   "cell_type": "code",
   "execution_count": 84,
   "source": [
    "# and functions can be declared to received an unstructured dictionary\n",
    "\n",
    "def birthday_v2(**kwargs):\n",
    "    s = \"Happy birthday, %s\" % kwargs[\"name\"] if \"name\" in kwargs else \"friend\"\n",
    "    if \"age\" in kwargs:\n",
    "        s += \", you are %d years old\" % kwargs[\"age\"]\n",
    "    return s + \"!\"\n",
    "\n",
    "print(birthday_v2(name=\"Alex\", age=5))\n",
    "print(birthday_v2(age=13))\n",
    "print(birthday_v2(name=\"Adrian\"))"
   ],
   "outputs": [
    {
     "output_type": "stream",
     "name": "stdout",
     "text": [
      "Happy birthday, Alex, you are 5 years old!\n",
      "friend, you are 13 years old!\n",
      "Happy birthday, Adrian!\n"
     ]
    }
   ],
   "metadata": {}
  },
  {
   "cell_type": "code",
   "execution_count": 85,
   "source": [
    "# functions are first-class citizens\n",
    "\n",
    "def evaluate(f, x):\n",
    "    return f(x)\n",
    "\n",
    "print(evaluate(square, 10))"
   ],
   "outputs": [
    {
     "output_type": "stream",
     "name": "stdout",
     "text": [
      "100\n"
     ]
    }
   ],
   "metadata": {}
  },
  {
   "cell_type": "code",
   "execution_count": 86,
   "source": [
    "# the usual map, filter and reduce higher order functions are available in Python\n",
    "\n",
    "# map\n",
    "squares = map(square, range(0, 10))\n",
    "print(squares) # d'oh!\n",
    "print(list(squares))\n",
    "\n",
    "# filter\n",
    "nums = range(0, 20)\n",
    "even_nums = filter(lambda n : n % 2 == 0, nums)\n",
    "print(list(even_nums))\n",
    "\n",
    "# reduce\n",
    "from functools import reduce\n",
    "def sum_fn(x, y):\n",
    "    return x + y\n",
    "sum = reduce(sum_fn, [1, 2, 3, 4, 5, 6, 7, 8, 9, 10])\n",
    "print(sum)\n",
    "\n",
    "# reduce using lambdas\n",
    "sum = reduce(lambda acc, n: acc + n, range(1, 11))\n",
    "print(sum)"
   ],
   "outputs": [
    {
     "output_type": "stream",
     "name": "stdout",
     "text": [
      "<map object at 0x7f62d7e32ca0>\n",
      "[0, 1, 4, 9, 16, 25, 36, 49, 64, 81]\n",
      "[0, 2, 4, 6, 8, 10, 12, 14, 16, 18]\n",
      "55\n",
      "55\n"
     ]
    }
   ],
   "metadata": {}
  },
  {
   "cell_type": "code",
   "execution_count": 87,
   "source": [
    "# you can return functions from functions to create closures\n",
    "\n",
    "def make_power_function(power):\n",
    "    def power_fn(x):\n",
    "        return x ** power\n",
    "    return power_fn\n",
    "\n",
    "square_fn = make_power_function(2)\n",
    "cube_fn = make_power_function(3)\n",
    "\n",
    "print(list(map(square_fn, range(0, 10))))\n",
    "print(list(map(cube_fn, range(0, 10))))"
   ],
   "outputs": [
    {
     "output_type": "stream",
     "name": "stdout",
     "text": [
      "[0, 1, 4, 9, 16, 25, 36, 49, 64, 81]\n",
      "[0, 1, 8, 27, 64, 125, 216, 343, 512, 729]\n"
     ]
    }
   ],
   "metadata": {}
  },
  {
   "cell_type": "code",
   "execution_count": 88,
   "source": [
    "# Python lets you declare lambdas (i.e. unnamed functions)\n",
    "\n",
    "fn = lambda x : x + 2\n",
    "print(fn(5))"
   ],
   "outputs": [
    {
     "output_type": "stream",
     "name": "stdout",
     "text": [
      "7\n"
     ]
    }
   ],
   "metadata": {}
  },
  {
   "cell_type": "code",
   "execution_count": 89,
   "source": [
    "# you can apply the parameters directly in the same line you're defining the lambda\n",
    "\n",
    "result = (lambda x: x + 3)(5)\n",
    "print(result)"
   ],
   "outputs": [
    {
     "output_type": "stream",
     "name": "stdout",
     "text": [
      "8\n"
     ]
    }
   ],
   "metadata": {}
  },
  {
   "cell_type": "code",
   "execution_count": 90,
   "source": [
    "# same with several parameters\n",
    "result = (lambda x, y : x * y)(2, 3)\n",
    "print(result)"
   ],
   "outputs": [
    {
     "output_type": "stream",
     "name": "stdout",
     "text": [
      "6\n"
     ]
    }
   ],
   "metadata": {}
  },
  {
   "cell_type": "code",
   "execution_count": 91,
   "source": [
    "# lambdas provides more succinct functions that return functions\n",
    "\n",
    "def make_power_function(power):\n",
    "    return lambda base : base ** power\n",
    "\n",
    "power4 = make_power_function(4)\n",
    "print(list(map(power4, range(0, 10))))\n",
    "\n",
    "# an alternative way to display the results\n",
    "print([power4(num) for num in range(0, 10)])"
   ],
   "outputs": [
    {
     "output_type": "stream",
     "name": "stdout",
     "text": [
      "[0, 1, 16, 81, 256, 625, 1296, 2401, 4096, 6561]\n",
      "[0, 1, 16, 81, 256, 625, 1296, 2401, 4096, 6561]\n"
     ]
    }
   ],
   "metadata": {}
  },
  {
   "cell_type": "markdown",
   "source": [
    "### Applying functions to NumPy arrays\n",
    "\n",
    "NumPy arrays are special objects that are not defined in Python core language. As a result, when applying functions to NumPy arrays you can either:\n",
    "+ search in NumPy documentation to see whether that function is available for NumPy arrays.\n",
    "+ use `np.vectorize()` to create a custom function that can be applied to the arrays."
   ],
   "metadata": {}
  },
  {
   "cell_type": "code",
   "execution_count": 92,
   "source": [
    "# example: numpy provides the sqrt function that when applied\n",
    "# to a NumPy array calculates the sqrt of each of the elements\n",
    "\n",
    "import numpy as np\n",
    "\n",
    "print(np.sqrt(np.arange(0, 10)))"
   ],
   "outputs": [
    {
     "output_type": "stream",
     "name": "stdout",
     "text": [
      "[0.         1.         1.41421356 1.73205081 2.         2.23606798\n",
      " 2.44948974 2.64575131 2.82842712 3.        ]\n"
     ]
    }
   ],
   "metadata": {}
  },
  {
   "cell_type": "code",
   "execution_count": 93,
   "source": [
    "# example: using vectorize()\n",
    "\n",
    "def my_custom_fn(x):\n",
    "    if x % 2 == 0:\n",
    "        return x / 2\n",
    "    else:\n",
    "        return 0\n",
    "\n",
    "my_np_custom_fn = np.vectorize(my_custom_fn)\n",
    "print(my_np_custom_fn(np.arange(1, 10)))"
   ],
   "outputs": [
    {
     "output_type": "stream",
     "name": "stdout",
     "text": [
      "[0 1 0 2 0 3 0 4 0]\n"
     ]
    }
   ],
   "metadata": {}
  },
  {
   "cell_type": "markdown",
   "source": [
    "## Hello, matplotlib!\n",
    "\n",
    "Plotting 2D in Python is also a breeze. In the following example we plot the function $ sin(x) \\text{ for } x \\text{ in (0, 20)} $"
   ],
   "metadata": {}
  },
  {
   "cell_type": "code",
   "execution_count": 94,
   "source": [
    "import matplotlib.pyplot as plt\n",
    "import numpy as np\n",
    "\n",
    "x = np.linspace(0, 20, 100) # Create a list of evenly spaced numbers over the range\n",
    "plt.plot(x, np.sin(x))      # Plot the sine function\n",
    "\n",
    "plt.show() # this is not needed in Jupyter notebooks, but doesn't hurt either"
   ],
   "outputs": [
    {
     "output_type": "display_data",
     "data": {
      "image/png": "[encoded data removed]",
      "text/plain": [
       "<Figure size 432x288 with 1 Axes>"
      ]
     },
     "metadata": {
      "needs_background": "light"
     }
    }
   ],
   "metadata": {}
  },
  {
   "cell_type": "markdown",
   "source": [
    "### Scatter plot\n",
    "\n",
    "Use scatter plots for easy visualization of ordered pairs in the form (x, y)"
   ],
   "metadata": {}
  },
  {
   "cell_type": "code",
   "execution_count": 95,
   "source": [
    "import matplotlib.pyplot as plt\n",
    "\n",
    "x_values = [1, 2, 3, 4, 5]\n",
    "y_values = [1, 4, 9, 16, 25]\n",
    "\n",
    "plt.scatter(x_values, y_values)\n",
    "plt.show()"
   ],
   "outputs": [
    {
     "output_type": "display_data",
     "data": {
      "image/png": "[encoded data removed]",
      "text/plain": [
       "<Figure size 432x288 with 1 Axes>"
      ]
     },
     "metadata": {
      "needs_background": "light"
     }
    }
   ],
   "metadata": {}
  },
  {
   "cell_type": "markdown",
   "source": [
    "You can use `marker` and `c` arguments to set the shape and color of the dots in a scatter plot:"
   ],
   "metadata": {}
  },
  {
   "cell_type": "code",
   "execution_count": 96,
   "source": [
    "plt.scatter(x_values, y_values, marker='x', c='red')"
   ],
   "outputs": [
    {
     "output_type": "execute_result",
     "data": {
      "text/plain": [
       "<matplotlib.collections.PathCollection at 0x7f62d7c6acd0>"
      ]
     },
     "metadata": {},
     "execution_count": 96
    },
    {
     "output_type": "display_data",
     "data": {
      "image/png": "[encoded data removed]",
      "text/plain": [
       "<Figure size 432x288 with 1 Axes>"
      ]
     },
     "metadata": {
      "needs_background": "light"
     }
    }
   ],
   "metadata": {}
  },
  {
   "cell_type": "markdown",
   "source": [
    "### Line charts\n",
    "\n",
    "A line chart is like a scatter plot, but the dots are connected with lines:"
   ],
   "metadata": {}
  },
  {
   "cell_type": "code",
   "execution_count": 97,
   "source": [
    "import matplotlib.pyplot as plt\n",
    "\n",
    "x_values = [1, 2, 3, 4, 5]\n",
    "y_values = [1, 4, 9, 16, 25]\n",
    "\n",
    "plt.plot(x_values, y_values)\n",
    "plt.show()"
   ],
   "outputs": [
    {
     "output_type": "display_data",
     "data": {
      "image/png": "[encoded data removed]",
      "text/plain": [
       "<Figure size 432x288 with 1 Axes>"
      ]
     },
     "metadata": {
      "needs_background": "light"
     }
    }
   ],
   "metadata": {}
  },
  {
   "cell_type": "markdown",
   "source": [
    "Line charts are usefult to draw segments in 2D:"
   ],
   "metadata": {}
  },
  {
   "cell_type": "code",
   "execution_count": 98,
   "source": [
    "import matplotlib.pyplot as plt\n",
    "\n",
    "def draw_segment(p1, p2):\n",
    "    x1, y1 = p1\n",
    "    x2, y2 = p2\n",
    "    plt.plot([x1, x2], [y1, y2], marker='o')\n",
    "    plt.show()\n",
    "\n",
    "draw_segment((0, 3), (2, 1))\n"
   ],
   "outputs": [
    {
     "output_type": "display_data",
     "data": {
      "image/png": "[encoded data removed]",
      "text/plain": [
       "<Figure size 432x288 with 1 Axes>"
      ]
     },
     "metadata": {
      "needs_background": "light"
     }
    }
   ],
   "metadata": {}
  },
  {
   "cell_type": "markdown",
   "source": [
    "Line charts are also use to draw the graph of a mathematical function.\n",
    "\n",
    "Given a function `f`, you can use a line chart to plot all the pairs `(x, f(x))` in a certain range:\n",
    "\n",
    "| NOTE: |\n",
    "| :---- |\n",
    "| In the following example we're creating the plot using `math.sin()` instead of `np.sin()` for illustration purposes. |"
   ],
   "metadata": {}
  },
  {
   "cell_type": "code",
   "execution_count": 99,
   "source": [
    "import matplotlib.pyplot as plt\n",
    "import numpy as np\n",
    "import math\n",
    "\n",
    "x_values = np.arange(0, 10, 0.01)\n",
    "y_values = [math.sin(x) for x in x_values]\n",
    "plt.plot(x_values, y_values)\n",
    "plt.show()\n"
   ],
   "outputs": [
    {
     "output_type": "display_data",
     "data": {
      "image/png": "[encoded data removed]",
      "text/plain": [
       "<Figure size 432x288 with 1 Axes>"
      ]
     },
     "metadata": {
      "needs_background": "light"
     }
    }
   ],
   "metadata": {}
  },
  {
   "cell_type": "markdown",
   "source": [
    "You can plot several graphs on the same canvas calling repeatedly `plt.plot()`:"
   ],
   "metadata": {}
  },
  {
   "cell_type": "code",
   "execution_count": 100,
   "source": [
    "import matplotlib.pyplot as plt\n",
    "import numpy as np\n",
    "\n",
    "\n",
    "x_values = np.arange(0, 10, 0.01)\n",
    "y_values = np.sin(x_values)\n",
    "plt.plot(x_values, y_values)\n",
    "\n",
    "y_values = np.cos(x_values)\n",
    "plt.plot(x_values, y_values)\n",
    "plt.show()"
   ],
   "outputs": [
    {
     "output_type": "display_data",
     "data": {
      "image/png": "[encoded data removed]",
      "text/plain": [
       "<Figure size 432x288 with 1 Axes>"
      ]
     },
     "metadata": {
      "needs_background": "light"
     }
    }
   ],
   "metadata": {}
  },
  {
   "cell_type": "markdown",
   "source": [
    "### Common customizations on plots\n",
    "> see more in matplotlib.org"
   ],
   "metadata": {}
  },
  {
   "cell_type": "markdown",
   "source": [
    "#### Setting the scale of a chart\n",
    "\n",
    "By default, the charts are autoscaled by matplotlib, but you can use `plt.xlim()` and `plt.ylim()` to explicitly set that range:"
   ],
   "metadata": {}
  },
  {
   "cell_type": "code",
   "execution_count": 101,
   "source": [
    "plt.xlim(-5, 5) # set the x range to be (-5, 5)\n",
    "plt.ylim(0, 5) # set the y range to be (0, 5)\n",
    "draw_segment((0, 3), (2, 1))"
   ],
   "outputs": [
    {
     "output_type": "display_data",
     "data": {
      "image/png": "[encoded data removed]",
      "text/plain": [
       "<Figure size 432x288 with 1 Axes>"
      ]
     },
     "metadata": {
      "needs_background": "light"
     }
    }
   ],
   "metadata": {}
  },
  {
   "cell_type": "markdown",
   "source": [
    "#### Controlling the graph aspect ration\n",
    "\n",
    "You can make x units and y units equal so that the graph is square:"
   ],
   "metadata": {}
  },
  {
   "cell_type": "code",
   "execution_count": 102,
   "source": [
    "plt.xlim(-5, 5)\n",
    "plt.ylim(0, 5)\n",
    "plt.gcf().set_size_inches(5, 5) # gcf stands for get current figure\n",
    "draw_segment((0, 3), (2, 1))"
   ],
   "outputs": [
    {
     "output_type": "display_data",
     "data": {
      "image/png": "[encoded data removed]",
      "text/plain": [
       "<Figure size 360x360 with 1 Axes>"
      ]
     },
     "metadata": {
      "needs_background": "light"
     }
    }
   ],
   "metadata": {}
  },
  {
   "cell_type": "markdown",
   "source": [
    "#### Setting labels in your graphs\n",
    "\n",
    "You can use:\n",
    "+ `plt.title()` &mdash; sets the title of a plot\n",
    "+ `plt.xlabel()` &mdash; sets the label for the x-axis\n",
    "+ `plt.ylabel()` &mdash; sets the label for the y-axis"
   ],
   "metadata": {}
  },
  {
   "cell_type": "code",
   "execution_count": 103,
   "source": [
    "import matplotlib.pyplot as plt\n",
    "import numpy as np\n",
    "\n",
    "\n",
    "x_values = np.arange(0, 10, 0.01)\n",
    "y_values = np.sin(x_values)\n",
    "plt.plot(x_values, y_values)\n",
    "\n",
    "plt.title('Graph of sin(x) vs. x', fontsize=16)\n",
    "plt.xlabel('this is the x-axis', fontsize=16)\n",
    "plt.ylabel('this is the y label', fontsize=16)\n",
    "\n",
    "plt.show()"
   ],
   "outputs": [
    {
     "output_type": "display_data",
     "data": {
      "image/png": "[encoded data removed]",
      "text/plain": [
       "<Figure size 432x288 with 1 Axes>"
      ]
     },
     "metadata": {
      "needs_background": "light"
     }
    }
   ],
   "metadata": {}
  },
  {
   "cell_type": "markdown",
   "source": [
    "## Hello, OOP!\n",
    "\n",
    "Python supports object-oriented programming (OOP) with special keywords and syntax.\n",
    "\n",
    "Let's start by defining a class `Rectangle` that models that shape:"
   ],
   "metadata": {}
  },
  {
   "cell_type": "code",
   "execution_count": 104,
   "source": [
    "class Rectangle():\n",
    "\n",
    "    # constructor\n",
    "    def __init__(self, w, h):\n",
    "        self.width = w\n",
    "        self.height = h\n",
    "\n",
    "    # instance method\n",
    "    def area(self):\n",
    "        return self.width * self.height\n",
    "\n",
    "    # another instance method with args\n",
    "    def scale(self, factor):\n",
    "        return Rectangle(self.width * factor, self.height * factor)\n",
    "    \n",
    "    # special method: equality\n",
    "    def __eq__(self, other):\n",
    "        print('__eq__')\n",
    "        return self.width == other.width and self.height == other.height\n",
    "\n",
    "    # special method: string representation of the instance\n",
    "    def __repr__(self):\n",
    "        return f'Rectangle ({self.width} by {self.height})'\n",
    "\n",
    "    # operator overloading (when instance comes on the left-hand side)\n",
    "    def __mul__(self, factor):\n",
    "        print('__mul__')\n",
    "        return self.scale(factor)\n",
    "\n",
    "    # operator overloading (when instance comes on the right-hand side)\n",
    "    def __rmul__(self, factor):\n",
    "        print('__rmul__')\n",
    "        return self.scale(factor)\n",
    "\n",
    "    # class methods\n",
    "    @classmethod\n",
    "    def square(cls, side):\n",
    "        return Rectangle(side, side)\n"
   ],
   "outputs": [],
   "metadata": {}
  },
  {
   "cell_type": "markdown",
   "source": [
    "Using the class is a breeze"
   ],
   "metadata": {}
  },
  {
   "cell_type": "code",
   "execution_count": 105,
   "source": [
    "r = Rectangle(3, 4)\n",
    "print(r) # __repr__ will be invoked\n",
    "\n",
    "print('r.width = {}, r.height= {}'.format(r.width, r.height))\n",
    "\n",
    "print(type(r))\n",
    "\n",
    "enlarged = r.scale(2)\n",
    "print(enlarged)\n",
    "\n",
    "print(5 * r) # __rmul__: instance comes in the right hand side\n",
    "print(r * 5) # __mul__ : instance comes in the left hand side \n",
    "\n",
    "# equality\n",
    "enlarged = enlarged.scale(0.5)\n",
    "print(enlarged)\n",
    "print(r)\n",
    "print(r == enlarged) # calls __eq__\n",
    "\n",
    "\n",
    "# class methods\n",
    "square = Rectangle.square(4)\n",
    "print(square)"
   ],
   "outputs": [
    {
     "output_type": "stream",
     "name": "stdout",
     "text": [
      "Rectangle (3 by 4)\n",
      "r.width = 3, r.height= 4\n",
      "<class '__main__.Rectangle'>\n",
      "Rectangle (6 by 8)\n",
      "__rmul__\n",
      "Rectangle (15 by 20)\n",
      "__mul__\n",
      "Rectangle (15 by 20)\n",
      "Rectangle (3.0 by 4.0)\n",
      "Rectangle (3 by 4)\n",
      "__eq__\n",
      "True\n",
      "Rectangle (4 by 4)\n"
     ]
    }
   ],
   "metadata": {}
  },
  {
   "cell_type": "markdown",
   "source": [
    "The special property `__dict__` returns the properties of an object as a dictionary.\n",
    "\n",
    "| NOTE: |\n",
    "| :---- |\n",
    "| `__dict__` is a property, not a method. |\n",
    "\n",
    "When applied to an instance, it returns the instance fields, when applied to a class it returns its methods."
   ],
   "metadata": {}
  },
  {
   "cell_type": "code",
   "execution_count": 107,
   "source": [
    "print(r.__dict__)\n",
    "print('=================')\n",
    "print(Rectangle.__dict__)"
   ],
   "outputs": [
    {
     "output_type": "stream",
     "name": "stdout",
     "text": [
      "{'width': 3, 'height': 4}\n",
      "==================\n",
      "{'__module__': '__main__', '__init__': <function Rectangle.__init__ at 0x7f62d80229d0>, 'area': <function Rectangle.area at 0x7f62d8022a60>, 'scale': <function Rectangle.scale at 0x7f62d8022f70>, '__eq__': <function Rectangle.__eq__ at 0x7f62d8022ca0>, '__repr__': <function Rectangle.__repr__ at 0x7f62d8022dc0>, '__mul__': <function Rectangle.__mul__ at 0x7f62d7c6f1f0>, '__rmul__': <function Rectangle.__rmul__ at 0x7f62d7c6f280>, 'square': <classmethod object at 0x7f62d7c82130>, '__dict__': <attribute '__dict__' of 'Rectangle' objects>, '__weakref__': <attribute '__weakref__' of 'Rectangle' objects>, '__doc__': None, '__hash__': None}\n"
     ]
    }
   ],
   "metadata": {}
  },
  {
   "cell_type": "markdown",
   "source": [
    "### using inheritance\n",
    "\n",
    "The following example illustrates how to use inheritance in Python:"
   ],
   "metadata": {}
  },
  {
   "cell_type": "code",
   "execution_count": 40,
   "source": [
    "class Square(Rectangle):\n",
    "    def __init__(self, s):\n",
    "        super().__init__(s, s) # look ma!, no need to return!\n",
    "\n",
    "    # overriding scale so that it returns a Square instance\n",
    "    # instead of a rectagnle\n",
    "    def scale(self, factor):\n",
    "        return Square(self.width * factor)\n",
    "\n",
    "    # same with __repr__ (otherwise, it returns a Rectangle)\n",
    "    def __repr__(self):\n",
    "        return \"Square ({})\".format(self.width)\n"
   ],
   "outputs": [],
   "metadata": {}
  },
  {
   "cell_type": "code",
   "execution_count": 41,
   "source": [
    "sq = Square(5)\n",
    "\n",
    "print(sq)"
   ],
   "outputs": [
    {
     "output_type": "stream",
     "name": "stdout",
     "text": [
      "Square (5)\n"
     ]
    }
   ],
   "metadata": {}
  },
  {
   "cell_type": "markdown",
   "source": [
    "### Abstract classes\n",
    "\n",
    "Python supports the concepts of abstract classes, which inherit from a special base class `ABC`. \n",
    "\n",
    "Abstract methods needs to be decorated with `@abstractmethod` and implemented with the special keyword `pass` to indicate an empty implementation."
   ],
   "metadata": {}
  },
  {
   "cell_type": "code",
   "execution_count": 113,
   "source": [
    "from abc import ABC, abstractmethod\n",
    "import math\n",
    "\n",
    "class Shape(ABC):\n",
    "    @abstractmethod\n",
    "    def area(self):\n",
    "        pass\n",
    "\n",
    "    @abstractmethod\n",
    "    def scale(self):\n",
    "        pass\n",
    "\n",
    "    def __eq__(self, other):\n",
    "        return self.__dict__ == other.__dict__\n",
    "\n",
    "    def __mul__(self, factor):\n",
    "        return self.scale(factor)\n",
    "\n",
    "    def __rmul__(self, factor):\n",
    "        return self.scale(factor)\n",
    "\n",
    "\n",
    "class Rectangle(Shape):\n",
    "    def __init__(self, w, h):\n",
    "        self.width = w\n",
    "        self.height = h\n",
    "    \n",
    "    def area(self):\n",
    "        return self.width * self.height\n",
    "\n",
    "    def scale(self, factor):\n",
    "        return Rectangle(self.width * factor, self.height * factor)\n",
    "\n",
    "    def __repr__(self):\n",
    "        return \"Rectangle ({} by {})\".format(self.width, self.height)\n",
    "\n",
    "\n",
    "class Circle(Shape):\n",
    "    def __init__(self, r):\n",
    "        self.radius = r\n",
    "\n",
    "    def area(self):\n",
    "        return math.pi * (self.radius ** 2)\n",
    "\n",
    "    def scale(self, factor):\n",
    "        return Circle(self.radius * factor)\n",
    "\n",
    "    def __repr__(self):\n",
    "        return \"Circle (radius {})\".format(self.radius)\n"
   ],
   "outputs": [],
   "metadata": {}
  },
  {
   "cell_type": "code",
   "execution_count": 114,
   "source": [
    "circle = Circle(2)\n",
    "print(circle)\n",
    "\n",
    "r = Rectangle(4, 2)\n",
    "print(r)\n",
    "\n",
    "print(circle.area())\n",
    "print(r.area())"
   ],
   "outputs": [
    {
     "output_type": "stream",
     "name": "stdout",
     "text": [
      "Circle (radius 2)\n",
      "Rectangle (4 by 2)\n",
      "12.566370614359172\n",
      "8\n"
     ]
    }
   ],
   "metadata": {}
  }
 ],
 "metadata": {
  "orig_nbformat": 4,
  "language_info": {
   "name": "python",
   "version": "3.8.8",
   "mimetype": "text/x-python",
   "codemirror_mode": {
    "name": "ipython",
    "version": 3
   },
   "pygments_lexer": "ipython3",
   "nbconvert_exporter": "python",
   "file_extension": ".py"
  },
  "kernelspec": {
   "name": "python3",
   "display_name": "Python 3.8.8 64-bit ('base': conda)"
  },
  "interpreter": {
   "hash": "ead85409a3df2736fa4852a03cf3afe7e5b1dbdc0e40d7d22bbcbf8cf1adf5fa"
  }
 },
 "nbformat": 4,
 "nbformat_minor": 2
}