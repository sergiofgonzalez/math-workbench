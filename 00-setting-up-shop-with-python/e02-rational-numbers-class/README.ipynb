{
 "metadata": {
  "language_info": {
   "codemirror_mode": {
    "name": "ipython",
    "version": 3
   },
   "file_extension": ".py",
   "mimetype": "text/x-python",
   "name": "python",
   "nbconvert_exporter": "python",
   "pygments_lexer": "ipython3",
   "version": "3.8.3-final"
  },
  "orig_nbformat": 2,
  "kernelspec": {
   "name": "python3",
   "display_name": "Python 3",
   "language": "python"
  }
 },
 "nbformat": 4,
 "nbformat_minor": 2,
 "cells": [
  {
   "source": [
    "# A specification for the Rational class\n",
    "> writing a Python class that represents rational numbers\n",
    "\n",
    "## Introducing Rational numbers\n",
    "A *Rational* number is a number that can be expressed as a ration $ \\frac{n}{d} $, where $ n $ and $ d $ are integers, except that $ d $ cannot be zero.\n",
    "\n",
    "The number $ n $ is called the *numerator* and $ d $ the *denominator*.\n",
    "\n",
    "Examples of rational numbers are:\n",
    "$\n",
    "\\frac{1}{2} \\\\\n",
    "\\frac{2}{3} \\\\\n",
    "\\frac{112}{239} \\\\\n",
    "\\frac{2}{1}\n",
    "$\n",
    "\n",
    "Rational numbers have the advantage that fractions are represented exactly, without rounding or approximation."
   ],
   "cell_type": "markdown",
   "metadata": {}
  },
  {
   "source": [
    "## Specification of the `Rational` class\n",
    "\n",
    "We'll write a Python class that models the behavior of rational numbers, allowing them to be added, subtracted, multiplied, and divided.\n",
    "\n",
    "To add two rationals, you must first obtain a common denominator, then add the two numerators.\n",
    "\n",
    "For example:\n",
    "\n",
    "$\n",
    "\\frac{1}{2} + \\frac{2}{3} = \\frac{3}{6} + \\frac{4}{6} = \\frac{7}{6}\n",
    "$\n",
    "\n",
    "To multiply two rational numbers, you can simply multiply their numerators and denominators:\n",
    "\n",
    "$\n",
    "\\frac{1}{2} \\cdot \\frac{2}{5} = \\frac{2}{10} = \\frac{1}{5}\n",
    "$\n",
    "\n",
    "| NOTE: |\n",
    "| :---- |\n",
    "| Some rational numbers such as $ \\frac{2}{10} $ can be represented more compactly in its *normalized form* as $ \\frac{2}{10} $. Both numbers represent the same underlying number, but the *normalized form* is preferred. |\n",
    "\n",
    "To subtract two rational numbers, you can multiply the right operand by $ -1 $ and then add them:\n",
    "\n",
    "$\n",
    "\\frac{5}{3} - \\frac{1}{2} = \\frac{10}{6} - \\frac{3}{6} = \\frac{7}{6}\n",
    "$\n",
    "\n",
    "To divide two rational numbers, you swap the numerator and denominator of the right operand and then multiply:\n",
    "\n",
    "$\n",
    "\\frac{\\frac{1}{2}}{\\frac{3}{5}} = \\frac{1}{2} \\cdot \\frac{5}{3} = \\frac{5}{6}\n",
    "$"
   ],
   "cell_type": "markdown",
   "metadata": {}
  },
  {
   "source": [
    "It must be note that in Math, rational numbers do not have a mutable state: when you add one rational number to another the result will be a new rational numbers, and the original operands will not have changed.\n",
    "\n",
    "The developer experience we're looking for in the class is as follows:\n",
    "\n",
    "```python\n",
    "oneHalf = Rational(1, 2)\n",
    "twoThirds = Rational(2, 3)\n",
    "result = (oneHalf / 7) + (1 - twoThirds) # 17/42\n",
    "```"
   ],
   "cell_type": "markdown",
   "metadata": {}
  },
  {
   "source": [
    "## Exercises\n",
    "\n",
    "$\n",
    "[(\\frac{2}{10} - \\frac{7}{15}) \\div \\frac{2}{6}] \\cdot \\frac{3}{2}\n",
    "$"
   ],
   "cell_type": "markdown",
   "metadata": {}
  },
  {
   "cell_type": "code",
   "execution_count": 1,
   "metadata": {},
   "outputs": [
    {
     "output_type": "stream",
     "name": "stdout",
     "text": [
      "-6/5\n"
     ]
    }
   ],
   "source": [
    "from rational import Rational\n",
    "\n",
    "result = ((Rational(2, 10) - Rational(7, 15)) / Rational(2, 6)) * Rational(3, 2)\n",
    "\n",
    "print(result)"
   ]
  },
  {
   "source": [
    "$\n",
    "(3 - \\frac{2}{3})^3 \\div (2 + \\frac{3}{4})^2 - \\frac{4}{5} \\cdot \\frac{7}{6}\n",
    "$"
   ],
   "cell_type": "markdown",
   "metadata": {}
  },
  {
   "cell_type": "code",
   "execution_count": 1,
   "metadata": {},
   "outputs": [
    {
     "output_type": "stream",
     "name": "stdout",
     "text": [
      "12194/16335\n"
     ]
    }
   ],
   "source": [
    "from rational import Rational\n",
    "\n",
    "result = (((3 - Rational(2, 3)) ** 3) / (2 + Rational(3, 4)) ** 2) - Rational(4, 5) * Rational(7, 6)\n",
    "\n",
    "print(result)"
   ]
  },
  {
   "cell_type": "code",
   "execution_count": 4,
   "metadata": {},
   "outputs": [
    {
     "output_type": "stream",
     "name": "stdout",
     "text": [
      "6/5\n221/180\n4/9\n"
     ]
    }
   ],
   "source": [
    "from rational import Rational\n",
    "\n",
    "t1 = Rational(4, 6) + Rational(5, 4) * Rational(2, 3) - Rational(3, 5) / 2\n",
    "print(t1)\n",
    "\n",
    "t2 = (Rational(6, 18) * Rational(1, 2)) ** 2\n",
    "print(t1 + t2)\n",
    "\n",
    "t3 = Rational(96, 216)\n",
    "print(t3)"
   ]
  },
  {
   "cell_type": "code",
   "execution_count": 3,
   "metadata": {},
   "outputs": [
    {
     "output_type": "stream",
     "name": "stdout",
     "text": [
      "1/1\n"
     ]
    }
   ],
   "source": [
    "from rational import Rational\n",
    "\n",
    "t1 = Rational(7) - Rational(3, 4) + Rational(6, 24)\n",
    "\n",
    "print(t1 / Rational(13, 2))\n"
   ]
  },
  {
   "cell_type": "code",
   "execution_count": 9,
   "metadata": {},
   "outputs": [
    {
     "output_type": "stream",
     "name": "stdout",
     "text": [
      "11/4\n"
     ]
    }
   ],
   "source": [
    "from rational import Rational\n",
    "\n",
    "t1 = Rational(1, 2) + Rational(2, 3) + Rational(3, 4) + Rational(5, 6)\n",
    "print(t1)"
   ]
  },
  {
   "cell_type": "code",
   "execution_count": 4,
   "metadata": {},
   "outputs": [
    {
     "output_type": "execute_result",
     "data": {
      "text/plain": [
       "913/882"
      ]
     },
     "metadata": {},
     "execution_count": 4
    }
   ],
   "source": [
    "from rational import Rational\n",
    "\n",
    "((Rational(4, 6) + Rational(5, 4) * Rational(2, 3) - Rational(3, 5) / 2) - Rational(1, 5)) + Rational(3, 4) ** 2 - (Rational(2, 3) * Rational(5, 7) + Rational(1, 4)) ** 2"
   ]
  },
  {
   "cell_type": "code",
   "execution_count": null,
   "metadata": {},
   "outputs": [],
   "source": []
  }
 ]
}