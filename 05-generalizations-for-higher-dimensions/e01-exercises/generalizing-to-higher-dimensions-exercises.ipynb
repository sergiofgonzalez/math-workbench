{
 "metadata": {
  "language_info": {
   "codemirror_mode": {
    "name": "ipython",
    "version": 3
   },
   "file_extension": ".py",
   "mimetype": "text/x-python",
   "name": "python",
   "nbconvert_exporter": "python",
   "pygments_lexer": "ipython3",
   "version": "3.8.3-final"
  },
  "orig_nbformat": 2,
  "kernelspec": {
   "name": "python3",
   "display_name": "Python 3"
  }
 },
 "nbformat": 4,
 "nbformat_minor": 2,
 "cells": [
  {
   "source": [
    "# Exercises on Generalizing to higher dimensions\n",
    "\n",
    "## Exercise 6.1\n",
    "Implement a `Vec3` class inheriting from Vector"
   ],
   "cell_type": "markdown",
   "metadata": {}
  },
  {
   "source": [
    "The solution has been implemented in [e00 &mdash; Vector lib](../e00-vector-lib/)."
   ],
   "cell_type": "markdown",
   "metadata": {}
  },
  {
   "source": [
    "## Exercise 6.2\n",
    "\n",
    "Implement a `CoordinateVector` class inheriting from Vector with an abstract property representing the dimension. This should save the repetitive work when implementing specific coordinate vector classes. Inheriting from CoordinateVector and setting the dimension to 6 should be sufficient to implement a `Vec6` class."
   ],
   "cell_type": "markdown",
   "metadata": {}
  },
  {
   "source": [
    "The solution has been implemented in [e00 &mdash; Vector lib](../e00-vector-lib/)."
   ],
   "cell_type": "markdown",
   "metadata": {}
  },
  {
   "source": [
    "## Exercise 6.3\n",
    "\n",
    "Add a `zero(...)` abstract method to the `Vector` class to return the zero vector in a given vector space, as well as an implementation for the negation operator. These are useful because we're required to have a zero vector and negations of any vector in any vector space."
   ],
   "cell_type": "markdown",
   "metadata": {}
  },
  {
   "source": [
    "The solution has been implemented in [e00 &mdash; Vector lib](../e00-vector-lib/)."
   ],
   "cell_type": "markdown",
   "metadata": {}
  },
  {
   "source": [
    "## Exercise 6.4\n",
    "\n",
    "Write unit tests to show that the addition and scalar multiplication operations for `Vec3` satisfy the vector space properties."
   ],
   "cell_type": "markdown",
   "metadata": {}
  },
  {
   "source": [
    "The solution has been implemented in [e00 &mdash; Vector lib](../e00-vector-lib/)."
   ],
   "cell_type": "markdown",
   "metadata": {}
  },
  {
   "source": [
    "## Exercise 6.5\n",
    "\n",
    "Add unit tests to all the test classes to validate that $ 0 + v = v $, $ 0 \\cdot v = \\vec{0} $, and $ -v + v = \\vec{0} $."
   ],
   "cell_type": "markdown",
   "metadata": {}
  },
  {
   "source": [
    "The solution has been implemented in [e00 &mdash; Vector lib](../e00-vector-lib/)."
   ],
   "cell_type": "markdown",
   "metadata": {}
  },
  {
   "source": [
    "# Exercise 6.6\n",
    "\n",
    "As equality is implemented for `Vec2` and `Vec3`, it turns out that `Vec2(1, 2) == Vec3(1, 2, 3)` is `True`. Python's duck typying is too forgiving for its own good! Fix this by adding a check tht classes must match before testing vector equality."
   ],
   "cell_type": "markdown",
   "metadata": {}
  },
  {
   "source": [
    "The solution has been implemented in [e00 &mdash; Vector lib](../e00-vector-lib/)."
   ],
   "cell_type": "markdown",
   "metadata": {}
  },
  {
   "source": [
    "## Exercise 6.7\n",
    "\n",
    "Implement a `__truediv__` function on `Vector` that allows you to divide vectors by scalars.\n",
    "\n",
    "> Hint: dividing a vector by an scalar is the same as multiplying for `1.0 / scalar`."
   ],
   "cell_type": "markdown",
   "metadata": {}
  },
  {
   "source": [
    "The solution has been implemented in [e00 &mdash; Vector lib](../e00-vector-lib/)."
   ],
   "cell_type": "markdown",
   "metadata": {}
  },
  {
   "cell_type": "code",
   "execution_count": null,
   "metadata": {},
   "outputs": [],
   "source": [
    "## Exercise 6.8\n",
    "\n",
    "Run the vector space unit tests with float values for $ u $, $ v $ and $ w $, rather than with objects inheriting from the `Vector` class. This demonstrates that real numbers are indeed vectors."
   ]
  },
  {
   "source": [
    "We already have a `vector0d.py` class that inherits from `Vector` and demonstrates it is a vector space in [e00 &mdash; Vector lib](../e00-vector-lib/). But what is asked here is to implement the tests without creating the class that inherits from `Vector`. That is, we need to validate that *floats* fulfill the following rules:\n",
    "\n",
    "1. $ v + w = w + v $\n",
    "\n",
    "2. $ u + (v + w) = (u + v) + w $\n",
    "\n",
    "1. $ a (b v) = (a b) v $\n",
    "\n",
    "2. $ 1 v = v $\n",
    "\n",
    "3. $ a v + b v = (a + b) v $\n",
    "\n",
    "4. $ a (v + w) = av + aw $\n",
    "\n",
    "And as a bonus:\n",
    "\n",
    "7. $ \\vec{0} + v = v $\n",
    "\n",
    "8. $ \\vec{0} \\cdot v = \\vec{0} $\n",
    "\n",
    "9. $ -v + v = \\vec{0} $\n",
    "\n",
    "For $ u $, $ v $, $ w $ being floats."
   ],
   "cell_type": "markdown",
   "metadata": {}
  },
  {
   "source": [
    "Instead of doing it with the `unittest` library, as we just want to demonstrate it for this execise, we will use `assert` instead:"
   ],
   "cell_type": "markdown",
   "metadata": {}
  },
  {
   "cell_type": "code",
   "execution_count": 5,
   "metadata": {},
   "outputs": [
    {
     "output_type": "error",
     "ename": "AssertionError",
     "evalue": "",
     "traceback": [
      "\u001b[0;31m---------------------------------------------------------------------------\u001b[0m",
      "\u001b[0;31mAssertionError\u001b[0m                            Traceback (most recent call last)",
      "\u001b[0;32m<ipython-input-5-f4ab20703074>\u001b[0m in \u001b[0;36m<module>\u001b[0;34m\u001b[0m\n\u001b[1;32m     23\u001b[0m     \u001b[0ma\u001b[0m\u001b[0;34m,\u001b[0m \u001b[0mb\u001b[0m \u001b[0;34m=\u001b[0m \u001b[0mrandom_scalar\u001b[0m\u001b[0;34m(\u001b[0m\u001b[0;34m)\u001b[0m\u001b[0;34m,\u001b[0m \u001b[0mrandom_scalar\u001b[0m\u001b[0;34m(\u001b[0m\u001b[0;34m)\u001b[0m\u001b[0;34m\u001b[0m\u001b[0;34m\u001b[0m\u001b[0m\n\u001b[1;32m     24\u001b[0m     \u001b[0mu\u001b[0m\u001b[0;34m,\u001b[0m \u001b[0mv\u001b[0m\u001b[0;34m,\u001b[0m \u001b[0mw\u001b[0m \u001b[0;34m=\u001b[0m \u001b[0mrandom_float\u001b[0m\u001b[0;34m(\u001b[0m\u001b[0;34m)\u001b[0m\u001b[0;34m,\u001b[0m \u001b[0mrandom_float\u001b[0m\u001b[0;34m(\u001b[0m\u001b[0;34m)\u001b[0m\u001b[0;34m,\u001b[0m \u001b[0mrandom_float\u001b[0m\u001b[0;34m(\u001b[0m\u001b[0;34m)\u001b[0m\u001b[0;34m\u001b[0m\u001b[0;34m\u001b[0m\u001b[0m\n\u001b[0;32m---> 25\u001b[0;31m     \u001b[0mcheck_vector_space_rules\u001b[0m\u001b[0;34m(\u001b[0m\u001b[0misclose\u001b[0m\u001b[0;34m,\u001b[0m \u001b[0ma\u001b[0m\u001b[0;34m,\u001b[0m \u001b[0mb\u001b[0m\u001b[0;34m,\u001b[0m \u001b[0mu\u001b[0m\u001b[0;34m,\u001b[0m \u001b[0mv\u001b[0m\u001b[0;34m,\u001b[0m \u001b[0mw\u001b[0m\u001b[0;34m)\u001b[0m\u001b[0;34m\u001b[0m\u001b[0;34m\u001b[0m\u001b[0m\n\u001b[0m\u001b[1;32m     26\u001b[0m \u001b[0;34m\u001b[0m\u001b[0m\n\u001b[1;32m     27\u001b[0m \u001b[0mprint\u001b[0m\u001b[0;34m(\u001b[0m\u001b[0;34m'Sucess!'\u001b[0m\u001b[0;34m)\u001b[0m\u001b[0;34m\u001b[0m\u001b[0;34m\u001b[0m\u001b[0m\n",
      "\u001b[0;32m<ipython-input-5-f4ab20703074>\u001b[0m in \u001b[0;36mcheck_vector_space_rules\u001b[0;34m(eqFn, a, b, u, v, w)\u001b[0m\n\u001b[1;32m     18\u001b[0m     \u001b[0;32massert\u001b[0m \u001b[0meqFn\u001b[0m\u001b[0;34m(\u001b[0m\u001b[0;36m0\u001b[0m \u001b[0;34m+\u001b[0m \u001b[0mv\u001b[0m\u001b[0;34m,\u001b[0m \u001b[0mv\u001b[0m\u001b[0;34m)\u001b[0m\u001b[0;34m\u001b[0m\u001b[0;34m\u001b[0m\u001b[0m\n\u001b[1;32m     19\u001b[0m     \u001b[0;32massert\u001b[0m \u001b[0meqFn\u001b[0m\u001b[0;34m(\u001b[0m\u001b[0;36m0\u001b[0m \u001b[0;34m*\u001b[0m \u001b[0mv\u001b[0m\u001b[0;34m,\u001b[0m \u001b[0;36m0\u001b[0m\u001b[0;34m)\u001b[0m\u001b[0;34m\u001b[0m\u001b[0;34m\u001b[0m\u001b[0m\n\u001b[0;32m---> 20\u001b[0;31m     \u001b[0;32massert\u001b[0m \u001b[0meqFn\u001b[0m\u001b[0;34m(\u001b[0m\u001b[0;34m-\u001b[0m\u001b[0mv\u001b[0m \u001b[0;34m+\u001b[0m \u001b[0mv\u001b[0m\u001b[0;34m,\u001b[0m \u001b[0;36m1\u001b[0m\u001b[0;34m)\u001b[0m\u001b[0;34m\u001b[0m\u001b[0;34m\u001b[0m\u001b[0m\n\u001b[0m\u001b[1;32m     21\u001b[0m \u001b[0;34m\u001b[0m\u001b[0m\n\u001b[1;32m     22\u001b[0m \u001b[0;32mfor\u001b[0m \u001b[0m_\u001b[0m \u001b[0;32min\u001b[0m \u001b[0mrange\u001b[0m\u001b[0;34m(\u001b[0m\u001b[0;36m0\u001b[0m\u001b[0;34m,\u001b[0m \u001b[0;36m100\u001b[0m\u001b[0;34m)\u001b[0m\u001b[0;34m:\u001b[0m\u001b[0;34m\u001b[0m\u001b[0;34m\u001b[0m\u001b[0m\n",
      "\u001b[0;31mAssertionError\u001b[0m: "
     ]
    }
   ],
   "source": [
    "from math import isclose\n",
    "from random import uniform\n",
    "\n",
    "def random_float():\n",
    "    return uniform(-10, 10)\n",
    "\n",
    "def random_scalar():\n",
    "    return random_float()    \n",
    "\n",
    "def check_vector_space_rules(eqFn, a, b, u, v, w):\n",
    "    assert eqFn(u + v, v + u)\n",
    "    assert eqFn(u + (v + w), (u + v) + w)\n",
    "    assert eqFn(a * (b * v), (a * b) * v)\n",
    "    assert eqFn(1 * v, v)\n",
    "    assert eqFn((a + b) * v, a * v + b * v)\n",
    "    assert eqFn(a * v + a * w, a * (v + w))\n",
    "    \n",
    "    assert eqFn(0 + v, v)\n",
    "    assert eqFn(0 * v, 0)\n",
    "    assert eqFn(-v + v, 0)\n",
    "\n",
    "for _ in range(0, 100):\n",
    "    a, b = random_scalar(), random_scalar()\n",
    "    u, v, w = random_float(), random_float(), random_float()\n",
    "    check_vector_space_rules(isclose, a, b, u, v, w)\n",
    "\n",
    "print('Sucess!')"
   ]
  },
  {
   "source": [
    "## Exercise 6.9\n",
    "\n",
    "Run the vector space unit tests for `CarForSale` class to show its objects form a vector space if we ignore their textual attributes."
   ],
   "cell_type": "markdown",
   "metadata": {}
  },
  {
   "source": [
    "The solution has been implemented in [e00 &mdash; Vector lib: CarForSale tests](../e00-vector-lib/test_vector_car_for_sale.py)."
   ],
   "cell_type": "markdown",
   "metadata": {}
  },
  {
   "source": [
    "## Exercise 6.10\n",
    "\n",
    "Implement the class `Function(Vector)` that takes a function of one variable as an argument to its constructor and implements a `__call__` method so that you can treat it as a function.\n",
    "\n",
    "As a result, you should be able to run: `plot([f, g, f + g, 3 * g], -10, 10)` with `f` and `g` being instances of `Function(...)`."
   ],
   "cell_type": "markdown",
   "metadata": {}
  },
  {
   "source": [
    "The solution has been implemented in [e00 &mdash; Vector lib: Vector Function](../e00-vector-lib/test_vector_function.py)."
   ],
   "cell_type": "markdown",
   "metadata": {}
  },
  {
   "source": [
    "## Exercise 6.11\n",
    "\n",
    "Testing equality of functions is difficult. Do your best to write a function to test whether two functions are equal."
   ],
   "cell_type": "markdown",
   "metadata": {}
  },
  {
   "source": [
    "As there is no way to prove that two functions are equal, we will limit the equality check to a few thousand samples in the range (-10, 10).\n",
    "\n",
    "```python\n",
    "    def approx_equal(self, v, w):\n",
    "        if (not Function in v.__class__.mro()) or (not Function in w.__class__.mro()):\n",
    "            raise TypeError('approx_equal requires compatible Function vectors')        \n",
    "        \n",
    "        num_samples = 10000\n",
    "        samples = [self.random_scalar() for _ in range(0, num_samples)]\n",
    "        results = [isclose(v(x), w(x)) for x in samples]\n",
    "        return all(results)\n",
    "```\n",
    "\n",
    "It must be noted that the equality of functions is an *undecidable* problem. That is, it has been proved that there is no algorithm that can guarantee whether any two functions are the same.\n",
    "\n",
    "Because of that, our function might return `True` for functions that are not equal.\n",
    "\n",
    "You can have a look at all the details in: [e00 &mdash; Vector lib: Vector Function](../e00-vector-lib/test_vector_function.py)."
   ],
   "cell_type": "markdown",
   "metadata": {}
  },
  {
   "source": [
    "## Exercise 6.12\n",
    "\n",
    "Unit test your `Function` class to demonstrate that functions satisfy the vector space properties."
   ],
   "cell_type": "markdown",
   "metadata": {}
  },
  {
   "cell_type": "code",
   "execution_count": 1,
   "metadata": {},
   "outputs": [
    {
     "output_type": "error",
     "ename": "SyntaxError",
     "evalue": "invalid syntax (<ipython-input-1-40c4968db9b9>, line 1)",
     "traceback": [
      "\u001b[0;36m  File \u001b[0;32m\"<ipython-input-1-40c4968db9b9>\"\u001b[0;36m, line \u001b[0;32m1\u001b[0m\n\u001b[0;31m    TBD after we define *polynomial functions\u001b[0m\n\u001b[0m        ^\u001b[0m\n\u001b[0;31mSyntaxError\u001b[0m\u001b[0;31m:\u001b[0m invalid syntax\n"
     ]
    }
   ],
   "source": [
    "TBD after we define *polynomial functions*."
   ]
  },
  {
   "source": [
    "## Exercise 6.13\n",
    "\n",
    "Implement a class `Function2(Vector)` that stores a function of two variables."
   ],
   "cell_type": "markdown",
   "metadata": {}
  },
  {
   "source": [
    "Resolved in [e00 &mdash; Vector lib: Vector Function2](../e00-vector-lib/test_vector_function2.py)."
   ],
   "cell_type": "markdown",
   "metadata": {}
  },
  {
   "source": [
    "## Exercise 6.14\n",
    "\n",
    "What is the dimension of the vector space of the $ 9 \\times 9 $ matrices."
   ],
   "cell_type": "markdown",
   "metadata": {}
  },
  {
   "source": [
    "A $ 9 \\times 9 $ matrix has 81 independent numbers, and therefore, it is an 81-dimensional vector space."
   ],
   "cell_type": "markdown",
   "metadata": {}
  },
  {
   "source": [
    "## Exercise 6.15\n",
    "\n",
    "Implement a `Matrix` class inheriting from `Vector` with abstract properties representing the number of rows and columns. You should not be able to instantiate a `Matrix` class, but you should be able to inherit from `Matrix` to create a `Matrix_5_x_3`."
   ],
   "cell_type": "markdown",
   "metadata": {}
  },
  {
   "source": [
    "Resolved in [e00 &mdash; Vector lib: Matrix](../e00-vector-lib/test_vector_matrix_2x2.py)."
   ],
   "cell_type": "markdown",
   "metadata": {}
  },
  {
   "source": [
    "## Exercise 6.16\n",
    "\n",
    "There is no exercise 6.16 :)"
   ],
   "cell_type": "markdown",
   "metadata": {}
  },
  {
   "source": [
    "## Exercise 6.17\n",
    "\n",
    "Create and unit test the `Matrix_5x3` class to demonstrate that it obeys the defining properties of a vector space."
   ],
   "cell_type": "markdown",
   "metadata": {}
  },
  {
   "source": [
    "Resolved in [e00 &mdash; Vector lib: Matrix](../e00-vector-lib/test_vector_matrix_5x3.py)."
   ],
   "cell_type": "markdown",
   "metadata": {}
  },
  {
   "source": [
    "## Exercise 6.18\n",
    "\n",
    "Write a `LinearMap3d_to_5d` class inheriting from `Vector` that uses a $ 5x3 $ matrix as its data but implements a `__call__` method to act as a linear map from $ \\mathbb{R}^3 $ to $ \\mathbb{R}^5 $. Show that it agrees with `Matrix_5x3` in its underlying computation and that independently passes the defining properties of a vector space."
   ],
   "cell_type": "markdown",
   "metadata": {}
  },
  {
   "source": [
    "Resolved in [e00 &mdash; Vector lib: LinearMap 3D to 5D](../e00-vector-lib/test_linear_map_3d_to_5d.py)."
   ],
   "cell_type": "markdown",
   "metadata": {}
  },
  {
   "source": [
    "## Exercise 6.19\n",
    "\n",
    "Write a Python function enabling you to multiply `Matrix_5x3` objects by `Vec3` objects in the sense of matrix multiplication. Update your overloading of the `*` operator for the vector and matrix classes so that you can multiply vectors on their left by either scalars or matrices."
   ],
   "cell_type": "markdown",
   "metadata": {}
  },
  {
   "source": [
    "Resolved in [e00 &mdash; Vector lib: Matrix 5x3](../e00-vector-lib/test_matrix_5x3.py)."
   ],
   "cell_type": "markdown",
   "metadata": {}
  }
 ]
}