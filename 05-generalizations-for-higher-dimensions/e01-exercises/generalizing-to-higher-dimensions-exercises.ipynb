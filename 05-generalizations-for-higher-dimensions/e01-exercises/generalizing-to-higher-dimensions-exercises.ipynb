{
 "metadata": {
  "language_info": {
   "codemirror_mode": {
    "name": "ipython",
    "version": 3
   },
   "file_extension": ".py",
   "mimetype": "text/x-python",
   "name": "python",
   "nbconvert_exporter": "python",
   "pygments_lexer": "ipython3",
   "version": 3
  },
  "orig_nbformat": 2
 },
 "nbformat": 4,
 "nbformat_minor": 2,
 "cells": [
  {
   "source": [
    "# Exercises on Generalizing to higher dimensions\n",
    "\n",
    "## Exercise 6.1\n",
    "Implement a `Vec3` class inheriting from Vector"
   ],
   "cell_type": "markdown",
   "metadata": {}
  },
  {
   "source": [
    "The solution has been implemented in [e00 &mdas; Vector lib](../e00-vector-lib/)."
   ],
   "cell_type": "markdown",
   "metadata": {}
  },
  {
   "source": [
    "## Exercise 6.2\n",
    "\n",
    "Implement a `CoordinateVector` class inheriting from Vector with an abstract property representing the dimension. This should save the repetitive work when implementing specific coordinate vector classes. Inheriting from CoordinateVector and setting the dimension to 6 should be sufficient to implement a `Vec6` class."
   ],
   "cell_type": "markdown",
   "metadata": {}
  },
  {
   "source": [
    "The solution has been implemented in [e00 &mdas; Vector lib](../e00-vector-lib/)."
   ],
   "cell_type": "markdown",
   "metadata": {}
  },
  {
   "source": [
    "## Exercise 6.3\n",
    "\n",
    "Add a `zero(...)` abstract method to the `Vector` class to return the zero vector in a given vector space, as well as an implementation for the negation operator. These are useful because we're required to have a zero vector and negations of any vector in any vector space."
   ],
   "cell_type": "markdown",
   "metadata": {}
  },
  {
   "source": [
    "The solution has been implemented in [e00 &mdas; Vector lib](../e00-vector-lib/)."
   ],
   "cell_type": "markdown",
   "metadata": {}
  },
  {
   "source": [
    "## Exercise 6.4\n",
    "\n",
    "Write unit tests to show that the addition and scalar multiplication operations for `Vec3` satisfy the vector space properties."
   ],
   "cell_type": "markdown",
   "metadata": {}
  },
  {
   "source": [
    "The solution has been implemented in [e00 &mdas; Vector lib](../e00-vector-lib/)."
   ],
   "cell_type": "markdown",
   "metadata": {}
  },
  {
   "source": [
    "## Exercise 6.5\n",
    "\n",
    "Add unit tests to all the test classes to validate that $ 0 + v = v $, $ 0 \\cdot v = \\vec{0} $, and $ -v + v = \\vec{0} $."
   ],
   "cell_type": "markdown",
   "metadata": {}
  },
  {
   "source": [
    "The solution has been implemented in [e00 &mdas; Vector lib](../e00-vector-lib/)."
   ],
   "cell_type": "markdown",
   "metadata": {}
  },
  {
   "source": [
    "# Exercise 6.6\n",
    "\n",
    "As equality is implemented for `Vec2` and `Vec3`, it turns out that `Vec2(1, 2) == Vec3(1, 2, 3)` is `True`. Python's duck typying is too forgiving for its own good! Fix this by adding a check tht classes must match before testing vector equality."
   ],
   "cell_type": "markdown",
   "metadata": {}
  },
  {
   "source": [
    "The solution has been implemented in [e00 &mdas; Vector lib](../e00-vector-lib/)."
   ],
   "cell_type": "markdown",
   "metadata": {}
  },
  {
   "source": [
    "## Exercise 6.7\n",
    "\n",
    "Implement a `__truediv__` function on `Vector` that allows you to divide vectors by scalars.\n",
    "\n",
    "> Hint: dividing a vector by an scalar is the same as multiplying for `1.0 / scalar`."
   ],
   "cell_type": "markdown",
   "metadata": {}
  }
 ]
}