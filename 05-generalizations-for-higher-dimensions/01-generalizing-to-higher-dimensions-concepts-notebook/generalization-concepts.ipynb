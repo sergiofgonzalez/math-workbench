{
 "metadata": {
  "language_info": {
   "codemirror_mode": {
    "name": "ipython",
    "version": 3
   },
   "file_extension": ".py",
   "mimetype": "text/x-python",
   "name": "python",
   "nbconvert_exporter": "python",
   "pygments_lexer": "ipython3",
   "version": "3.8.3-final"
  },
  "orig_nbformat": 2,
  "kernelspec": {
   "name": "python3",
   "display_name": "Python 3"
  }
 },
 "nbformat": 4,
 "nbformat_minor": 2,
 "cells": [
  {
   "source": [
    "# Generalizing to higher dimensions\n",
    "\n",
    "## Intro\n",
    "\n",
    "Linear algebra generalizes all the concepts we've handled thus far in 2D, 3D and 4D to any number of dimensions.\n",
    "\n",
    "In this chapter, we will also create *programmatic generalizations* and define *vector spaces*. Vector spaces are collections of objects that we can treat like vectors. These can be arrows in the plane, tuples of numbers, or objects that we can treat like vectors such as images (which we can combine to create new images).\n",
    "\n",
    "The key operations in a vector space will be vector addition, and scalar multiplication, as with these you will be able to do linear combinations.\n",
    "\n",
    "## Generalizing the definition of a vector\n",
    "\n",
    "Python supports OOP, and we will leverage this technique as it will let us create a *parent class* from which 2D, 3D and vectors from higher dimensions can inherit from.\n",
    "\n",
    "![OOP with vectors](../images/vectors-oop.png)"
   ],
   "cell_type": "markdown",
   "metadata": {}
  },
  {
   "source": [
    "### Creating a class for vectors in the 2D plane\n",
    "\n",
    "In our previous examples, our 2D and 3D vectors have been defined as *coordinate vectors*. That is, they were represented by tuples of numbers that were their coordinates.\n",
    "\n",
    "Now we will use a class instead of a tuple, to have more control of the definitions and operations."
   ],
   "cell_type": "markdown",
   "metadata": {}
  },
  {
   "cell_type": "code",
   "execution_count": 10,
   "metadata": {},
   "outputs": [
    {
     "output_type": "stream",
     "name": "stdout",
     "text": [
      "v=(1.6, 3.8)\nw=(1, 10)\n(1, 1).scale(50) = (50, 50)\nTrue\n"
     ]
    }
   ],
   "source": [
    "class Vec2():\n",
    "    def __init__(self, x, y):\n",
    "        self.x = x\n",
    "        self.y = y\n",
    "\n",
    "    def add(self, v2):\n",
    "        return Vec2(self.x + v2.x, self.y + v2.y)\n",
    "\n",
    "    def scale(self, scalar):\n",
    "        return Vec2(self.x * scalar, self.y * scalar)\n",
    "\n",
    "    def __eq__(self, other):\n",
    "        return self.x == other.x and self.y == other.y\n",
    "\n",
    "# Constructing Vectors\n",
    "v = Vec2(1.6, 3.8)\n",
    "print('v=({}, {})'.format(v.x, v.y))\n",
    "\n",
    "# Adding vectors\n",
    "v = Vec2(3, 4)\n",
    "w = v.add(Vec2(-2, 6))\n",
    "print('w=({}, {})'.format(w.x, w.y))\n",
    "\n",
    "# Scaling vectors\n",
    "u = Vec2(1, 1).scale(50)\n",
    "print('({}, {}).scale({}) = ({}, {})'.format(1, 1, 50, u.x, u.y))\n",
    "\n",
    "# equality\n",
    "print(Vec2(3, 4) == Vec2(3, 4))\n"
   ]
  },
  {
   "source": [
    "Note that the approach is slightly different now. You call a constructor to initialize a vector, and the vector operations are class methods rather than standalone functions.\n",
    "\n",
    "Note also that the `Vec2.add(...)` method returns a new vector."
   ],
   "cell_type": "markdown",
   "metadata": {}
  },
  {
   "source": [
    "### Improving the `Vec2` class\n",
    "\n",
    "TBD"
   ],
   "cell_type": "markdown",
   "metadata": {}
  }
 ]
}