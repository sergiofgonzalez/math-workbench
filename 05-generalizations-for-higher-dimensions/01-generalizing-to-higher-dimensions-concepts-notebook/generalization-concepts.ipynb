{
 "metadata": {
  "language_info": {
   "codemirror_mode": {
    "name": "ipython",
    "version": 3
   },
   "file_extension": ".py",
   "mimetype": "text/x-python",
   "name": "python",
   "nbconvert_exporter": "python",
   "pygments_lexer": "ipython3",
   "version": "3.8.3-final"
  },
  "orig_nbformat": 2,
  "kernelspec": {
   "name": "python3",
   "display_name": "Python 3"
  }
 },
 "nbformat": 4,
 "nbformat_minor": 2,
 "cells": [
  {
   "source": [
    "# Generalizing to higher dimensions\n",
    "\n",
    "## Intro\n",
    "\n",
    "Linear algebra generalizes all the concepts we've handled thus far in 2D, 3D and 4D to any number of dimensions.\n",
    "\n",
    "In this chapter, we will also create *programmatic generalizations* and define *vector spaces*. Vector spaces are collections of objects that we can treat like vectors. These can be arrows in the plane, tuples of numbers, or objects that we can treat like vectors such as images (which we can combine to create new images).\n",
    "\n",
    "The key operations in a vector space will be vector addition, and scalar multiplication, as with these you will be able to do linear combinations.\n",
    "\n",
    "## Generalizing the definition of a vector\n",
    "\n",
    "Python supports OOP, and we will leverage this technique as it will let us create a *parent class* from which 2D, 3D and vectors from higher dimensions can inherit from.\n",
    "\n",
    "![OOP with vectors](../images/vectors-oop.png)"
   ],
   "cell_type": "markdown",
   "metadata": {}
  },
  {
   "source": [
    "### Creating a class for vectors in the 2D plane\n",
    "\n",
    "In our previous examples, our 2D and 3D vectors have been defined as *coordinate vectors*. That is, they were represented by tuples of numbers that were their coordinates.\n",
    "\n",
    "Now we will use a class instead of a tuple, to have more control of the definitions and operations."
   ],
   "cell_type": "markdown",
   "metadata": {}
  },
  {
   "cell_type": "code",
   "execution_count": 10,
   "metadata": {},
   "outputs": [
    {
     "output_type": "stream",
     "name": "stdout",
     "text": [
      "v=(1.6, 3.8)\nw=(1, 10)\n(1, 1).scale(50) = (50, 50)\nTrue\n"
     ]
    }
   ],
   "source": [
    "class Vec2():\n",
    "    def __init__(self, x, y):\n",
    "        self.x = x\n",
    "        self.y = y\n",
    "\n",
    "    def add(self, v2):\n",
    "        return Vec2(self.x + v2.x, self.y + v2.y)\n",
    "\n",
    "    def scale(self, scalar):\n",
    "        return Vec2(self.x * scalar, self.y * scalar)\n",
    "\n",
    "    def __eq__(self, other):\n",
    "        return self.x == other.x and self.y == other.y\n",
    "\n",
    "# Constructing Vectors\n",
    "v = Vec2(1.6, 3.8)\n",
    "print('v=({}, {})'.format(v.x, v.y))\n",
    "\n",
    "# Adding vectors\n",
    "v = Vec2(3, 4)\n",
    "w = v.add(Vec2(-2, 6))\n",
    "print('w=({}, {})'.format(w.x, w.y))\n",
    "\n",
    "# Scaling vectors\n",
    "u = Vec2(1, 1).scale(50)\n",
    "print('({}, {}).scale({}) = ({}, {})'.format(1, 1, 50, u.x, u.y))\n",
    "\n",
    "# equality\n",
    "print(Vec2(3, 4) == Vec2(3, 4))\n"
   ]
  },
  {
   "source": [
    "Note that the approach is slightly different now. You call a constructor to initialize a vector, and the vector operations are class methods rather than standalone functions.\n",
    "\n",
    "Note also that the `Vec2.add(...)` method returns a new vector."
   ],
   "cell_type": "markdown",
   "metadata": {}
  },
  {
   "source": [
    "### Improving the `Vec2` class\n",
    "\n",
    "In the same way we defined the `__eq__(...)` method, we can define some other additional methods that would provide some syntactic sugar that would improve the development experience for the users of our library."
   ],
   "cell_type": "markdown",
   "metadata": {}
  },
  {
   "cell_type": "code",
   "execution_count": null,
   "metadata": {},
   "outputs": [],
   "source": [
    "class Vec2():\n",
    "    def __init__(self, x, y):\n",
    "        self.x = x\n",
    "        self.y = y\n",
    "\n",
    "    def add(self, v2):\n",
    "        return Vec2(self.x + v2.x, self.y + v2.y)\n",
    "\n",
    "    def scale(self, scalar):\n",
    "        return Vec2(self.x * scalar, self.y * scalar)\n",
    "\n",
    "    def __eq__(self, other):\n",
    "        return self.x == other.x and self.y == other.y\n",
    "\n",
    "    def __add__(self, v2):\n",
    "        return self.add(v2)\n",
    "    \n",
    "    def __mul__(self, scalar):\n",
    "        return self.scale(scalar)\n",
    "    \n",
    "    def __rmul__(self, scalar):\n",
    "        return self.scale(scalar)"
   ]
  },
  {
   "source": [
    "Finally, we can also define the `__repr__(...)` method that will be called when we need a string representation of the vector."
   ],
   "cell_type": "markdown",
   "metadata": {}
  },
  {
   "cell_type": "code",
   "execution_count": null,
   "metadata": {},
   "outputs": [],
   "source": [
    "class Vec2():\n",
    "    def __init__(self, x, y):\n",
    "        self.x = x\n",
    "        self.y = y\n",
    "\n",
    "    def add(self, v2):\n",
    "        return Vec2(self.x + v2.x, self.y + v2.y)\n",
    "\n",
    "    def scale(self, scalar):\n",
    "        return Vec2(self.x * scalar, self.y * scalar)\n",
    "\n",
    "    def __eq__(self, other):\n",
    "        return self.x == other.x and self.y == other.y\n",
    "\n",
    "    def __add__(self, v2):\n",
    "        return self.add(v2)\n",
    "    \n",
    "    def __mul__(self, scalar):\n",
    "        return self.scale(scalar)\n",
    "    \n",
    "    def __rmul__(self, scalar):\n",
    "        return self.scale(scalar)\n",
    "    \n",
    "    def __repr__(self):\n",
    "        return 'Vec2({}, {})'.format(self.x, self.y)"
   ]
  },
  {
   "source": [
    "Now we can do amazing things such as:"
   ],
   "cell_type": "markdown",
   "metadata": {}
  },
  {
   "cell_type": "code",
   "execution_count": 1,
   "metadata": {},
   "outputs": [
    {
     "output_type": "stream",
     "name": "stdout",
     "text": [
      "Vec2(3.0, 4.0)\n"
     ]
    }
   ],
   "source": [
    "class Vec2():\n",
    "    def __init__(self, x, y):\n",
    "        self.x = x\n",
    "        self.y = y\n",
    "\n",
    "    def add(self, v2):\n",
    "        return Vec2(self.x + v2.x, self.y + v2.y)\n",
    "\n",
    "    def scale(self, scalar):\n",
    "        return Vec2(self.x * scalar, self.y * scalar)\n",
    "\n",
    "    def __eq__(self, other):\n",
    "        return self.x == other.x and self.y == other.y\n",
    "\n",
    "    def __add__(self, v2):\n",
    "        return self.add(v2)\n",
    "    \n",
    "    def __mul__(self, scalar):\n",
    "        return self.scale(scalar)\n",
    "    \n",
    "    def __rmul__(self, scalar):\n",
    "        return self.scale(scalar)\n",
    "    \n",
    "    def __repr__(self):\n",
    "        return 'Vec2({}, {})'.format(self.x, self.y)\n",
    "\n",
    "print(3.0 * Vec2(1, 0) + 4.0 * Vec2(0, 1))        "
   ]
  },
  {
   "source": [
    "### Repeating the process with 3D vectors\n",
    "\n",
    "The same approach can be taken for 3D vectors:\n",
    "+ We will define the class\n",
    "+ Add methods for addition and scalar product\n",
    "+ Add equality methods\n",
    "+ Enable operator overloading for `+` and `*`."
   ],
   "cell_type": "markdown",
   "metadata": {}
  },
  {
   "cell_type": "code",
   "execution_count": 3,
   "metadata": {},
   "outputs": [
    {
     "output_type": "stream",
     "name": "stdout",
     "text": [
      "Vec3(2.0, 2.0, 0.0)\n"
     ]
    }
   ],
   "source": [
    "class Vec3():\n",
    "    def __init__(self, x, y, z):\n",
    "        self.x = x\n",
    "        self.y = y\n",
    "        self.z = z\n",
    "    \n",
    "    def add(self, other):\n",
    "        return Vec3(self.x + other.x, self.y + other.y, self.z + other.z)\n",
    "\n",
    "    def scale(self, scalar):\n",
    "        return Vec3(scalar * self.x, scalar * self.y, scalar * self.z)\n",
    "\n",
    "    def __eq__(self, other):\n",
    "        return self.x == other.x and self.y == other.y and self.z == other.z\n",
    "\n",
    "    def __add__(self, v2):\n",
    "        return self.add(v2)\n",
    "\n",
    "    def __mul__(self, scalar):\n",
    "        return self.scale(scalar)\n",
    "\n",
    "    def __rmul__(self, scalar):\n",
    "        return self.scale(scalar)\n",
    "\n",
    "    def __repr__(self):\n",
    "        return 'Vec3({}, {}, {})'.format(self.x, self.y, self.z)\n",
    "\n",
    "print(2.0 * (Vec3(1, 0, 0) + Vec3(0, 1, 0)))        "
   ]
  },
  {
   "source": [
    "Having written the classes for vectors in 3D and 3D opens the door for generalization. There are multiple ways of generalizing the approach, but we will focus on how we use the vectors, and not in how they work. This approach will let us define functions that will work for any number of dimensions: it will let us separate the *what* from the *how*."
   ],
   "cell_type": "markdown",
   "metadata": {}
  },
  {
   "source": [
    "### Building a vector base class\n",
    "\n",
    "The basic operations we do with our `Vec2` and `Vec3` classes has been:\n",
    "+ constructing new instances\n",
    "+ add vectors to vectors\n",
    "+ multiply scalars to vectors\n",
    "+ testing equality\n",
    "+ representing the vector as a string\n",
    "\n",
    "Out of these operations, only vector addition and scalar product are distinctive vector operations: the rest are just Python related methods.\n",
    "\n",
    "Let's define our base class for vectors according to this fact.\n"
   ],
   "cell_type": "markdown",
   "metadata": {}
  },
  {
   "cell_type": "code",
   "execution_count": null,
   "metadata": {},
   "outputs": [],
   "source": [
    "from abc import ABCMeta, abstractmethod\n",
    "\n",
    "class Vector(metaclass=ABCMeta):\n",
    "\n",
    "    @abstractmethod\n",
    "    def scale(self, scalar):\n",
    "        pass\n",
    "\n",
    "    @abstractmethod\n",
    "    def add(self, other):\n",
    "        pass\n",
    "\n",
    "    def __mul__(self, scalar):\n",
    "        return self.scale(scalar)\n",
    "\n",
    "    def __rmul__(self, scalar):\n",
    "        return self.scale(scalar)\n",
    "\n",
    "    def __add__(self, v2):\n",
    "        return self.add(v2)"
   ]
  },
  {
   "source": [
    "The `abc` module contains helper classes, functions, and method decorators that help define abstract base classes &mdash; a class that is not intended to be instantiated, but instead should be used as a template for classes that inherit from it.\n",
    "\n",
    "As a result, with our `Vector` class definition we are giving the template for the classes that will inherit from it, forcing them to have methods for vector addition and scalar product.\n",
    "\n",
    "The `@abstractmethod` decorators is used to tag the method as abstract, that is, not implemented in the base class but in the concrete subclasses.\n",
    "\n",
    "By contrast, the methods that implement the operator overloading for `*` and `+` can be fully specified in our base class."
   ],
   "cell_type": "markdown",
   "metadata": {}
  },
  {
   "source": [
    "We can now define `Vec2` as a child class of `Vec`:"
   ],
   "cell_type": "markdown",
   "metadata": {}
  },
  {
   "cell_type": "code",
   "execution_count": null,
   "metadata": {},
   "outputs": [],
   "source": [
    "from abc import ABCMeta, abstractmethod\n",
    "\n",
    "class Vector(metaclass=ABCMeta):\n",
    "\n",
    "    @abstractmethod\n",
    "    def scale(self, scalar):\n",
    "        pass\n",
    "\n",
    "    @abstractmethod\n",
    "    def add(self, other):\n",
    "        pass\n",
    "\n",
    "    def __mul__(self, scalar):\n",
    "        return self.scale(scalar)\n",
    "\n",
    "    def __rmul__(self, scalar):\n",
    "        return self.scale(scalar)\n",
    "\n",
    "    def __add__(self, v2):\n",
    "        return self.add(v2)\n",
    "\n",
    "class Vec2(Vector):\n",
    "    def __init__(self, x, y):\n",
    "        self.x = x\n",
    "        self.y = y\n",
    "\n",
    "    def add(self, other):\n",
    "        return Vec2(self.x + other.x, self.y + other.y)\n",
    "\n",
    "    def scale(self, scalar):\n",
    "        return Vec2(scalar * self.x, scalar * self.y)\n",
    "\n",
    "    def __eq__(self, other):\n",
    "        return self.x == other.x and self.y == other.y\n",
    "\n",
    "    def __repr__(self):\n",
    "        return 'Vec2({}, {})'.format(self.x, self.y)        "
   ]
  },
  {
   "source": [
    "This approach has saved us from repeating ourselves: The methods that were identical between `Vec2` and `Vec3` are now part of the base class, while the remaining methods which were different for `Vec2` and `Vec3` must be implemented by the concrete class.\n",
    "\n",
    "This approach also let us *enrich* the base class as we discover more operations that we want to provide to the child classes that inherit from `Vector`, for example, `subtract(...)`:"
   ],
   "cell_type": "markdown",
   "metadata": {}
  },
  {
   "cell_type": "code",
   "execution_count": 4,
   "metadata": {},
   "outputs": [
    {
     "output_type": "stream",
     "name": "stdout",
     "text": [
      "Vec2(-4, 2)\n"
     ]
    }
   ],
   "source": [
    "from abc import ABCMeta, abstractmethod\n",
    "\n",
    "class Vector(metaclass=ABCMeta):\n",
    "\n",
    "    @abstractmethod\n",
    "    def scale(self, scalar):\n",
    "        pass\n",
    "\n",
    "    @abstractmethod\n",
    "    def add(self, other):\n",
    "        pass\n",
    "\n",
    "    def __mul__(self, scalar):\n",
    "        return self.scale(scalar)\n",
    "\n",
    "    def __rmul__(self, scalar):\n",
    "        return self.scale(scalar)\n",
    "\n",
    "    def __add__(self, v2):\n",
    "        return self.add(v2)\n",
    "    \n",
    "    def subtract(self, other):\n",
    "        return self.add(-1 * other)\n",
    "\n",
    "    def __sub__(self, other):\n",
    "        return self.subtract(other)\n",
    "\n",
    "class Vec2(Vector):\n",
    "    def __init__(self, x, y):\n",
    "        self.x = x\n",
    "        self.y = y\n",
    "\n",
    "    def add(self, other):\n",
    "        return Vec2(self.x + other.x, self.y + other.y)\n",
    "\n",
    "    def scale(self, scalar):\n",
    "        return Vec2(scalar * self.x, scalar * self.y)\n",
    "\n",
    "    def __eq__(self, other):\n",
    "        return self.x == other.x and self.y == other.y\n",
    "\n",
    "    def __repr__(self):\n",
    "        return 'Vec2({}, {})'.format(self.x, self.y)  \n",
    "\n",
    "print(Vec2(1, 3) - Vec2(5, 1))        "
   ]
  },
  {
   "source": [
    "Note how we have *enriched* the child class `Vec2` with a `subtract(...)` method without changing the `Vec2` source code at all."
   ],
   "cell_type": "markdown",
   "metadata": {}
  },
  {
   "source": [
    "### Defining vector spaces\n",
    "\n",
    "In this section, we will switch from Python code to mathematical language to see how we can define a similar generalization of the vector concept.\n",
    "\n",
    "In math, a vector is defined for what it does, rather than for what it is. Let's start with an incomplete definition of a vector:\n",
    "\n",
    "> | DEFINITION |\n",
    "| :--------- |\n",
    "| A vector is an object equipped with a *suitable* way to add it to other vectors and multiply it by scalars. |\n",
    "\n",
    "What is missing from the previous definition is the explicit definition *suitability*. That can be given as a set of rules that any *object* candidate to qualify as a vector must fulfill:\n",
    "\n",
    "1. Adding vectors in any order shouldn't matter: $ v + w = w + v $\n",
    "2. Adding vectors in any grouping shouldn't matter: $ u + (v + w) = (u + v) + w $\n",
    "\n",
    "Note that for example, strings and concatenation do not fulfill these rules and therefore, do not qualify as vectors as `\"hot\" + \"dog\" != \"dog\" + \"hot\"`."
   ],
   "cell_type": "markdown",
   "metadata": {}
  },
  {
   "source": [
    "Additional rules must be given for well-behaved scalar multiplications:\n",
    "\n",
    "1. Multiplying vectors by several scalars should be the same as multiplying by all the scalars at once. That is, if $ a $ and $ b $ are scalars and $ v $ i s a vector, then $ a (b v) = (a b) v $.\n",
    "2. Multiplying a vector by 1 should leave the vector unchanged: $ 1 v = v $.\n",
    "3. Addition of scalars should be compatible with scalar multiplication: $ a v + b v = (a + b) v$.\n",
    "4. Addition of vectors should be compatible with scalar multiplication: $ a (v + w) = av + aw $. "
   ],
   "cell_type": "markdown",
   "metadata": {}
  },
  {
   "source": [
    "The takeaway from these rules is that we have a way to check if an object can be effectively considered a vector, and lead us to define the concept of a *vector space* as a collection of compatible vectors:\n",
    "\n",
    "> | DEFINITION |\n",
    "| :--------- |\n",
    "| A vector space is a collection of objects called vectors, equipped with suitable vector addition and scalar multiplication operations, such that every linear combination of vectors in the collection produces a vector that is also in the collection. |"
   ],
   "cell_type": "markdown",
   "metadata": {}
  },
  {
   "source": [
    "A collection like `[Vec2(1, 0), Vec2(5, -3), Vec2(1.1, 0.8)]` is a group of vectors but it is not a vector space as the linear combination `1 * Vec2(1, 0) + 1 * Vec2(5, -3) = Vec2(6, -3)` which is not a vector of the collection.\n",
    "\n",
    "As you can imagine, most vector spaces are infinite sets containing of the possible linear combinations of the elements of the vector space and the infinite number of scalars there are. Such an infinite set is the collection of all possible 2D vectors.\n",
    "\n",
    "There are two implications of the fact that vector spaces need to contain all their scalar multiples.\n",
    "\n",
    "First, $ 0 \\cdot v = \\vec{0} $ that is, no matter what vector you pick, multiplying it by the scalar 0 will render the *zero vector*. Adding the *zero vector* to any vector leaves that vector unchanged: $ \\vec{0} + v = v $.\n",
    "\n",
    "Second, every vector $ v $has an opposite vector $ -1 \\cdot v $ written as $ -v $. As $ v + (-v) = (1 + (-1)) v = 0 v = \\vec{0} $. That is, for every vector there is another vector in the vector space that *cancels it out* by addition. "
   ],
   "cell_type": "markdown",
   "metadata": {}
  },
  {
   "source": [
    "### Unit testing vector space classes\n",
    "\n",
    "In Math, suitability is guaranteed by *writing a proof*. In code, we rely in writing unit tests.\n",
    "\n",
    "For instance, we can check rule #4 for well-behaved scalar multiplication doing:\n"
   ],
   "cell_type": "markdown",
   "metadata": {}
  },
  {
   "cell_type": "code",
   "execution_count": 1,
   "metadata": {},
   "outputs": [
    {
     "output_type": "execute_result",
     "data": {
      "text/plain": [
       "True"
      ]
     },
     "metadata": {},
     "execution_count": 1
    }
   ],
   "source": [
    "from vector2d import Vec2\n",
    "\n",
    "s = -3\n",
    "u, v = Vec2(42, -10), Vec2(1.5, 8)\n",
    "\n",
    "# should be true\n",
    "s * (u + v) == s * v + s * u"
   ]
  },
  {
   "source": [
    "Obviously, the test is quite weak, but we're off to a good start.\n",
    "\n",
    "We can improve it a little bit by selecting random numbers and using Python's assert:"
   ],
   "cell_type": "markdown",
   "metadata": {}
  },
  {
   "cell_type": "code",
   "execution_count": 2,
   "metadata": {},
   "outputs": [
    {
     "output_type": "error",
     "ename": "AssertionError",
     "evalue": "",
     "traceback": [
      "\u001b[0;31m---------------------------------------------------------------------------\u001b[0m",
      "\u001b[0;31mAssertionError\u001b[0m                            Traceback (most recent call last)",
      "\u001b[0;32m<ipython-input-2-fc4efbac3fef>\u001b[0m in \u001b[0;36m<module>\u001b[0;34m\u001b[0m\n\u001b[1;32m     10\u001b[0m \u001b[0ma\u001b[0m \u001b[0;34m=\u001b[0m \u001b[0mrandom_scalar\u001b[0m\u001b[0;34m(\u001b[0m\u001b[0;34m)\u001b[0m\u001b[0;34m\u001b[0m\u001b[0;34m\u001b[0m\u001b[0m\n\u001b[1;32m     11\u001b[0m \u001b[0mu\u001b[0m\u001b[0;34m,\u001b[0m \u001b[0mv\u001b[0m \u001b[0;34m=\u001b[0m \u001b[0mrandom_vec2\u001b[0m\u001b[0;34m(\u001b[0m\u001b[0;34m)\u001b[0m\u001b[0;34m,\u001b[0m \u001b[0mrandom_vec2\u001b[0m\u001b[0;34m(\u001b[0m\u001b[0;34m)\u001b[0m\u001b[0;34m\u001b[0m\u001b[0;34m\u001b[0m\u001b[0m\n\u001b[0;32m---> 12\u001b[0;31m \u001b[0;32massert\u001b[0m \u001b[0ma\u001b[0m \u001b[0;34m*\u001b[0m \u001b[0;34m(\u001b[0m\u001b[0mu\u001b[0m \u001b[0;34m+\u001b[0m \u001b[0mv\u001b[0m\u001b[0;34m)\u001b[0m \u001b[0;34m==\u001b[0m \u001b[0ma\u001b[0m \u001b[0;34m*\u001b[0m \u001b[0mv\u001b[0m \u001b[0;34m+\u001b[0m \u001b[0ma\u001b[0m \u001b[0;34m*\u001b[0m \u001b[0mu\u001b[0m\u001b[0;34m\u001b[0m\u001b[0;34m\u001b[0m\u001b[0m\n\u001b[0m",
      "\u001b[0;31mAssertionError\u001b[0m: "
     ]
    }
   ],
   "source": [
    "from vector2d import Vec2\n",
    "from random import uniform\n",
    "\n",
    "def random_scalar():\n",
    "    return uniform(-10, 10)\n",
    "\n",
    "def random_vec2():\n",
    "    return Vec2(random_scalar(), random_scalar())\n",
    "\n",
    "a = random_scalar()\n",
    "u, v = random_vec2(), random_vec2()\n",
    "\n",
    "# this should fail because right and left parts differ by very small fractions\n",
    "assert a * (u + v) == a * v + a * u    "
   ]
  },
  {
   "source": [
    "The previous test can be fixed by using Python's `math.isclose(...)`. Also, we can make the test more robust by testing the rule hundred times rather than just once:"
   ],
   "cell_type": "markdown",
   "metadata": {}
  },
  {
   "cell_type": "code",
   "execution_count": 5,
   "metadata": {},
   "outputs": [],
   "source": [
    "from vector2d import Vec2\n",
    "from random import uniform\n",
    "from math import isclose\n",
    "\n",
    "def random_scalar():\n",
    "    return uniform(-10, 10)\n",
    "\n",
    "def random_vec2():\n",
    "    return Vec2(random_scalar(), random_scalar())\n",
    "\n",
    "def approx_equal_vec2(v, w):\n",
    "    return isclose(v.x, w.x) and isclose(v.y, w.y)\n",
    "\n",
    "for _ in range(0, 100):\n",
    "    a = random_scalar()\n",
    "    u, v = random_vec2(), random_vec2()\n",
    "\n",
    "    assert approx_equal_vec2(a * (u + v),  a * v + a * u)"
   ]
  },
  {
   "source": [
    "Now we can test the 6 vector space properties defined above:\n",
    "1. $ v + w = w + v $\n",
    "\n",
    "2. $ u + (v + w) = (u + v) + w $\n",
    "\n",
    "1. $ a (b v) = (a b) v $\n",
    "\n",
    "2. $ 1 v = v $\n",
    "\n",
    "3. $ a v + b v = (a + b) v $\n",
    "\n",
    "4. $ a (v + w) = av + aw $"
   ],
   "cell_type": "markdown",
   "metadata": {}
  },
  {
   "cell_type": "code",
   "execution_count": 6,
   "metadata": {},
   "outputs": [
    {
     "output_type": "stream",
     "name": "stdout",
     "text": [
      "Test completed :)\n"
     ]
    }
   ],
   "source": [
    "from vector2d import Vec2\n",
    "from random import uniform\n",
    "from math import isclose\n",
    "\n",
    "def random_scalar():\n",
    "    return uniform(-10, 10)\n",
    "\n",
    "def random_vec2():\n",
    "    return Vec2(random_scalar(), random_scalar())\n",
    "\n",
    "def approx_equal_vec2(v, w):\n",
    "    return isclose(v.x, w.x) and isclose(v.y, w.y)\n",
    "\n",
    "def test(eq, a, b, u, v, w):\n",
    "    assert eq(u + v, v + u)\n",
    "    assert eq(u + (v + w), (u + v) + w)\n",
    "    assert eq(a * (b * v), (a * b) * v)\n",
    "    assert eq(1 * v, v)\n",
    "    assert eq((a + b) * v, a * v + b * v)\n",
    "    assert eq(a * v + a * w, a * (v + w))\n",
    "\n",
    "for _ in range(0, 100):\n",
    "    a, b = random_scalar(), random_scalar()\n",
    "    u, v, w = random_vec2(), random_vec2(), random_vec2()\n",
    "    test(approx_equal_vec2, a, b, u, v, w)\n",
    "\n",
    "print('Test completed :)')"
   ]
  },
  {
   "source": [
    "Note that this setup isn't completely generic, as we had to write special functions to generate random `Vec2` instances and to compare them. The important part is that the test function itself and the expressions are generic, so the amount of work needed when we need to validate for other vector spaces will be small."
   ],
   "cell_type": "markdown",
   "metadata": {}
  },
  {
   "source": [
    "## Exploring different vectors spaces\n",
    "\n",
    "With the concept of *vector space* already introduced, we will explore some examples by taking a look at a new kind of object and implement it as a class that inherits from `Vector`.\n",
    "\n",
    "By definition, the new class will support *addition*, *scalar multiplication* and the other well-known vector operations."
   ],
   "cell_type": "markdown",
   "metadata": {}
  },
  {
   "source": [
    "### Enumerating all coordinate vector spaces\n",
    "\n",
    "We have implemented `Vec2`, `Vec3` and `Vec6`. But what about `Vec1`. Let's explore what happens when we create that class and explore its properties:"
   ],
   "cell_type": "markdown",
   "metadata": {}
  },
  {
   "cell_type": "code",
   "execution_count": 7,
   "metadata": {},
   "outputs": [
    {
     "output_type": "stream",
     "name": "stdout",
     "text": [
      "Vec1(5)\nVec1(3)\nVec1(3.0)\n"
     ]
    }
   ],
   "source": [
    "from vector import Vector\n",
    "\n",
    "class Vec1(Vector):\n",
    "    def __init__(self, x):\n",
    "        self.x = x\n",
    "\n",
    "    @classmethod\n",
    "    def zero(cls):\n",
    "        return Vec1(0)\n",
    "\n",
    "    def add(self, other):\n",
    "        return Vec1(self.x + other.x)\n",
    "\n",
    "    def scale(self, scalar):\n",
    "        return Vec1(scalar * self.x)\n",
    "\n",
    "    def __eq__(self, other):\n",
    "        if not self.__class__ in other.__class__.mro():\n",
    "            return False\n",
    "        else:\n",
    "            return self.x == other.x\n",
    "\n",
    "    def __repr__(self):\n",
    "        return 'Vec1({})'.format(self.x)  \n",
    "\n",
    "\n",
    "print(Vec1(2) + Vec1(3))\n",
    "print(3 * Vec1(1))\n",
    "print(Vec1(6) / 2)"
   ]
  },
  {
   "source": [
    "The interesting takeaway is that `Vec1` defines a vector space in its own right! with vector addition being the regular real number addition and scalar multiplication being the regular multiplication.\n",
    "\n",
    "The set of all real numbers (including integers, fractions, and irrational numbers) is denoted as $ \\mathbb{R} $\n",
    "\n",
    "> $ \\mathbb{R} $ is a vector space where the scalars and the vectors are the same kind of objects."
   ],
   "cell_type": "markdown",
   "metadata": {}
  },
  {
   "source": [
    "Coordinate vector spaces are denoted $ \\mathbb{R}_n $ where $ n $ is the dimension or number of coordinates so that $ \\mathbb{R}_2 $ is the 2D plane and $ \\mathbb{R}_3 $ is the 3D space.\n",
    "\n",
    "As long as real numbers are used, any vector space is some $ \\mathbb{R}_n $ in disguise."
   ],
   "cell_type": "markdown",
   "metadata": {}
  },
  {
   "source": [
    "The vector space $ \\mathbb{R}_0 $ is the set of vectors with zero coordinates, which can also be implemented in Python:"
   ],
   "cell_type": "markdown",
   "metadata": {}
  },
  {
   "cell_type": "code",
   "execution_count": 9,
   "metadata": {},
   "outputs": [
    {
     "output_type": "stream",
     "name": "stdout",
     "text": [
      "Vec0()\nVec0()\nVec0()\n"
     ]
    }
   ],
   "source": [
    "from vector import Vector\n",
    "\n",
    "class Vec0(Vector):\n",
    "    def __init__(self):\n",
    "        pass\n",
    "\n",
    "    @classmethod\n",
    "    def zero(cls):\n",
    "        return Vec0()\n",
    "\n",
    "    def add(self, other):\n",
    "        return Vec0()\n",
    "\n",
    "    def scale(self, scalar):\n",
    "        return Vec0()\n",
    "\n",
    "    def __eq__(self, other):\n",
    "        return self.__class__ == other.__class__\n",
    "\n",
    "    def __repr__(self):\n",
    "        return 'Vec0()'\n",
    "\n",
    "\n",
    "print(Vec0() + Vec0())\n",
    "print(3 * Vec0())\n",
    "print(Vec0() / 2)"
   ]
  },
  {
   "source": [
    "### Identifying vector spaces in the wild\n",
    "\n",
    "Let's consider the following dataset that consists of information about used Toyota Priuses.\n",
    "\n",
    "```json\n",
    "[\n",
    "  [\"Post status\",\"Year\",\"Model\",\"Miles\",\"Price\",\"Source\",\"Time Posted\",\"Location\",\"Title & Link\"],\n",
    "  [\"For Sale\",\"2005\",\"Prius\",\"114000\",\"3500\",\"craigslist\",\"11/30 - 06:44\",\"San Francisco, CA\",\"toyota prius \"],\n",
    "  [\"For Sale\",\"2015\",\"Prius\",\"n/a\",\"12500\",\"craigslist\",\"11/30 - 07:00\",\"Seattle, WA\",\"Toyota prius 2015 \"],\n",
    "```\n",
    "\n",
    "The first element of the array are the columns of the dataset, while the remaining elements constitutes the data.\n",
    "\n",
    "We can easily define a `CarForSale` class that would model the information in the dataset:\n",
    "\n"
   ],
   "cell_type": "markdown",
   "metadata": {}
  },
  {
   "cell_type": "code",
   "execution_count": null,
   "metadata": {},
   "outputs": [],
   "source": [
    "def CarForSale():\n",
    "    def __init__(self, model_year, mileage, price, posted_datetime, model, source, location, description):\n",
    "        self.model_year = model_year\n",
    "        self.mileage = mileage\n",
    "        self.price = price\n",
    "        self.posted_datetime = posted_datetime\n",
    "        self.model = model\n",
    "        self.source = source\n",
    "        self.location = location\n",
    "        self.description = description"
   ]
  },
  {
   "source": [
    "Let's consider whether it would be interesting to consider `CarForSale` objects as vectors:\n",
    "> We could average them as a linear combination to see what typical Prius for sale looks like\n",
    "\n",
    "Obviously, the numeric fields `model_year`, `mileage`, `price` can be added like coordinates of a regular vector, but the string properties can't. Thus, when we do arithmetics with this properties we will set them to the string `'(virtual)'` to remind us of this fact.\n",
    "\n",
    "Also, we can't add datetimes, but we can add timespans. For example, we could use the day we retrieved the data as a reference point, and add the time spans since the cars were posted for sale.\n",
    "\n",
    "Let's do those modifications in the class:"
   ],
   "cell_type": "markdown",
   "metadata": {}
  },
  {
   "cell_type": "code",
   "execution_count": null,
   "metadata": {},
   "outputs": [],
   "source": [
    "from datetime import datetime\n",
    "from vector import Vector\n",
    "\n",
    "class CarForSale(Vector):\n",
    "    reference_date = datetime(2018, 11, 30, 12) # 30-Nov-2018-12:00:00\n",
    "\n",
    "    def __init__(self, model_year, mileage, price, posted_datetime, model='(virtual)', source='(virtual)', location='(virtual)', description='(virtual)'):\n",
    "        self.model_year = model_year\n",
    "        self.mileage = mileage\n",
    "        self.price = price\n",
    "        self.posted_datetime = posted_datetime\n",
    "        self.model = model\n",
    "        self.source = source\n",
    "        self.location = location\n",
    "        self.description = description\n",
    "\n",
    "    def add(self, other):\n",
    "        def add_dates(d1, d2):\n",
    "            age1 = CarForSale.reference_date - d1\n",
    "            age2 = CarForSale.reference_date - d2\n",
    "            sum_age = age1 + age2\n",
    "            return CarForSale.reference_date - sum_age\n",
    "\n",
    "        return CarForSale(\n",
    "            self.model_year + other.model_year,\n",
    "            self.mileage + other.mileage,\n",
    "            self.price + other.price,\n",
    "            add_dates(self.posted_datetime, other.posted_datetime)\n",
    "        )\n",
    "\n",
    "    def scale(self, scalar):\n",
    "        def scale_date(d):\n",
    "            age = CarForSale.reference_date - d\n",
    "            return CarForSale.reference_date - (scalar * age)\n",
    "\n",
    "        return CarForSale(\n",
    "            scalar * self.model_year,\n",
    "            scalar * self.mileage,\n",
    "            scalar * self.price,\n",
    "            scale_date(self.posted_datetime)\n",
    "        )\n",
    "\n",
    "    @classmethod\n",
    "    def zero(cls):\n",
    "        return CarForSale(0, 0, 0, CarForSale.reference_date)"
   ]
  },
  {
   "source": [
    "Let's give it a run and see how the vector space operations work with this class. In order to do that we need load some data:"
   ],
   "cell_type": "markdown",
   "metadata": {}
  },
  {
   "cell_type": "code",
   "execution_count": 15,
   "metadata": {},
   "outputs": [
    {
     "output_type": "stream",
     "name": "stdout",
     "text": [
      "{'model_year': 2005, 'mileage': 114000.0, 'price': 3500.0, 'posted_datetime': datetime.datetime(2018, 11, 30, 6, 44), 'model': 'Prius', 'source': 'craigslist', 'location': 'San Francisco, CA', 'description': 'toyota prius '}\n"
     ]
    }
   ],
   "source": [
    "from car_for_sale import CarForSale\n",
    "\n",
    "from json import loads, dumps\n",
    "from pathlib import Path\n",
    "from datetime import datetime\n",
    "\n",
    "contents = Path('cargraph.json').read_text()\n",
    "cg_objects = loads(contents)\n",
    "cleaned = []\n",
    "\n",
    "def parse_date(s):\n",
    "    input_format='%m/%d - %H:%M'\n",
    "    dt = datetime.strptime(s, input_format).replace(year=2018)\n",
    "    return dt\n",
    "\n",
    "for car in cg_objects[1:]:\n",
    "    try:\n",
    "        row = CarForSale(int(car[1]), float(car[3]), float(car[4]), parse_date(car[6]), car[2], car[5], car[7], car[8])\n",
    "        cleaned.append(row)\n",
    "    except:\n",
    "        pass\n",
    "\n",
    "cars = cleaned\n",
    "\n",
    "\n",
    "print(cars[0].__dict__)"
   ]
  },
  {
   "cell_type": "code",
   "execution_count": null,
   "metadata": {},
   "outputs": [],
   "source": []
  }
 ]
}