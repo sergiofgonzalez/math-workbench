{
 "metadata": {
  "language_info": {
   "codemirror_mode": {
    "name": "ipython",
    "version": 3
   },
   "file_extension": ".py",
   "mimetype": "text/x-python",
   "name": "python",
   "nbconvert_exporter": "python",
   "pygments_lexer": "ipython3",
   "version": "3.8.3-final"
  },
  "orig_nbformat": 2,
  "kernelspec": {
   "name": "python3",
   "display_name": "Python 3"
  }
 },
 "nbformat": 4,
 "nbformat_minor": 2,
 "cells": [
  {
   "source": [
    "# Generalizing to higher dimensions\n",
    "\n",
    "## Intro\n",
    "\n",
    "Linear algebra generalizes all the concepts we've handled thus far in 2D, 3D and 4D to any number of dimensions.\n",
    "\n",
    "In this chapter, we will also create *programmatic generalizations* and define *vector spaces*. Vector spaces are collections of objects that we can treat like vectors. These can be arrows in the plane, tuples of numbers, or objects that we can treat like vectors such as images (which we can combine to create new images).\n",
    "\n",
    "The key operations in a vector space will be vector addition, and scalar multiplication, as with these you will be able to do linear combinations.\n",
    "\n",
    "## Generalizing the definition of a vector\n",
    "\n",
    "Python supports OOP, and we will leverage this technique as it will let us create a *parent class* from which 2D, 3D and vectors from higher dimensions can inherit from.\n",
    "\n",
    "![OOP with vectors](../images/vectors-oop.png)"
   ],
   "cell_type": "markdown",
   "metadata": {}
  },
  {
   "source": [
    "### Creating a class for vectors in the 2D plane\n",
    "\n",
    "In our previous examples, our 2D and 3D vectors have been defined as *coordinate vectors*. That is, they were represented by tuples of numbers that were their coordinates.\n",
    "\n",
    "Now we will use a class instead of a tuple, to have more control of the definitions and operations."
   ],
   "cell_type": "markdown",
   "metadata": {}
  },
  {
   "cell_type": "code",
   "execution_count": 10,
   "metadata": {},
   "outputs": [
    {
     "output_type": "stream",
     "name": "stdout",
     "text": [
      "v=(1.6, 3.8)\nw=(1, 10)\n(1, 1).scale(50) = (50, 50)\nTrue\n"
     ]
    }
   ],
   "source": [
    "class Vec2():\n",
    "    def __init__(self, x, y):\n",
    "        self.x = x\n",
    "        self.y = y\n",
    "\n",
    "    def add(self, v2):\n",
    "        return Vec2(self.x + v2.x, self.y + v2.y)\n",
    "\n",
    "    def scale(self, scalar):\n",
    "        return Vec2(self.x * scalar, self.y * scalar)\n",
    "\n",
    "    def __eq__(self, other):\n",
    "        return self.x == other.x and self.y == other.y\n",
    "\n",
    "# Constructing Vectors\n",
    "v = Vec2(1.6, 3.8)\n",
    "print('v=({}, {})'.format(v.x, v.y))\n",
    "\n",
    "# Adding vectors\n",
    "v = Vec2(3, 4)\n",
    "w = v.add(Vec2(-2, 6))\n",
    "print('w=({}, {})'.format(w.x, w.y))\n",
    "\n",
    "# Scaling vectors\n",
    "u = Vec2(1, 1).scale(50)\n",
    "print('({}, {}).scale({}) = ({}, {})'.format(1, 1, 50, u.x, u.y))\n",
    "\n",
    "# equality\n",
    "print(Vec2(3, 4) == Vec2(3, 4))\n"
   ]
  },
  {
   "source": [
    "Note that the approach is slightly different now. You call a constructor to initialize a vector, and the vector operations are class methods rather than standalone functions.\n",
    "\n",
    "Note also that the `Vec2.add(...)` method returns a new vector."
   ],
   "cell_type": "markdown",
   "metadata": {}
  },
  {
   "source": [
    "### Improving the `Vec2` class\n",
    "\n",
    "In the same way we defined the `__eq__(...)` method, we can define some other additional methods that would provide some syntactic sugar that would improve the development experience for the users of our library."
   ],
   "cell_type": "markdown",
   "metadata": {}
  },
  {
   "cell_type": "code",
   "execution_count": null,
   "metadata": {},
   "outputs": [],
   "source": [
    "class Vec2():\n",
    "    def __init__(self, x, y):\n",
    "        self.x = x\n",
    "        self.y = y\n",
    "\n",
    "    def add(self, v2):\n",
    "        return Vec2(self.x + v2.x, self.y + v2.y)\n",
    "\n",
    "    def scale(self, scalar):\n",
    "        return Vec2(self.x * scalar, self.y * scalar)\n",
    "\n",
    "    def __eq__(self, other):\n",
    "        return self.x == other.x and self.y == other.y\n",
    "\n",
    "    def __add__(self, v2):\n",
    "        return self.add(v2)\n",
    "    \n",
    "    def __mul__(self, scalar):\n",
    "        return self.scale(scalar)\n",
    "    \n",
    "    def __rmul__(self, scalar):\n",
    "        return self.scale(scalar)"
   ]
  },
  {
   "source": [
    "Finally, we can also define the `__repr__(...)` method that will be called when we need a string representation of the vector."
   ],
   "cell_type": "markdown",
   "metadata": {}
  },
  {
   "cell_type": "code",
   "execution_count": null,
   "metadata": {},
   "outputs": [],
   "source": [
    "class Vec2():\n",
    "    def __init__(self, x, y):\n",
    "        self.x = x\n",
    "        self.y = y\n",
    "\n",
    "    def add(self, v2):\n",
    "        return Vec2(self.x + v2.x, self.y + v2.y)\n",
    "\n",
    "    def scale(self, scalar):\n",
    "        return Vec2(self.x * scalar, self.y * scalar)\n",
    "\n",
    "    def __eq__(self, other):\n",
    "        return self.x == other.x and self.y == other.y\n",
    "\n",
    "    def __add__(self, v2):\n",
    "        return self.add(v2)\n",
    "    \n",
    "    def __mul__(self, scalar):\n",
    "        return self.scale(scalar)\n",
    "    \n",
    "    def __rmul__(self, scalar):\n",
    "        return self.scale(scalar)\n",
    "    \n",
    "    def __repr__(self):\n",
    "        return 'Vec2({}, {})'.format(self.x, self.y)"
   ]
  },
  {
   "source": [
    "Now we can do amazing things such as:"
   ],
   "cell_type": "markdown",
   "metadata": {}
  },
  {
   "cell_type": "code",
   "execution_count": 1,
   "metadata": {},
   "outputs": [
    {
     "output_type": "stream",
     "name": "stdout",
     "text": [
      "Vec2(3.0, 4.0)\n"
     ]
    }
   ],
   "source": [
    "class Vec2():\n",
    "    def __init__(self, x, y):\n",
    "        self.x = x\n",
    "        self.y = y\n",
    "\n",
    "    def add(self, v2):\n",
    "        return Vec2(self.x + v2.x, self.y + v2.y)\n",
    "\n",
    "    def scale(self, scalar):\n",
    "        return Vec2(self.x * scalar, self.y * scalar)\n",
    "\n",
    "    def __eq__(self, other):\n",
    "        return self.x == other.x and self.y == other.y\n",
    "\n",
    "    def __add__(self, v2):\n",
    "        return self.add(v2)\n",
    "    \n",
    "    def __mul__(self, scalar):\n",
    "        return self.scale(scalar)\n",
    "    \n",
    "    def __rmul__(self, scalar):\n",
    "        return self.scale(scalar)\n",
    "    \n",
    "    def __repr__(self):\n",
    "        return 'Vec2({}, {})'.format(self.x, self.y)\n",
    "\n",
    "print(3.0 * Vec2(1, 0) + 4.0 * Vec2(0, 1))        "
   ]
  },
  {
   "source": [
    "### Repeating the process with 3D vectors\n",
    "\n",
    "The same approach can be taken for 3D vectors:\n",
    "+ We will define the class\n",
    "+ Add methods for addition and scalar product\n",
    "+ Add equality methods\n",
    "+ Enable operator overloading for `+` and `*`."
   ],
   "cell_type": "markdown",
   "metadata": {}
  },
  {
   "cell_type": "code",
   "execution_count": 3,
   "metadata": {},
   "outputs": [
    {
     "output_type": "stream",
     "name": "stdout",
     "text": [
      "Vec3(2.0, 2.0, 0.0)\n"
     ]
    }
   ],
   "source": [
    "class Vec3():\n",
    "    def __init__(self, x, y, z):\n",
    "        self.x = x\n",
    "        self.y = y\n",
    "        self.z = z\n",
    "    \n",
    "    def add(self, other):\n",
    "        return Vec3(self.x + other.x, self.y + other.y, self.z + other.z)\n",
    "\n",
    "    def scale(self, scalar):\n",
    "        return Vec3(scalar * self.x, scalar * self.y, scalar * self.z)\n",
    "\n",
    "    def __eq__(self, other):\n",
    "        return self.x == other.x and self.y == other.y and self.z == other.z\n",
    "\n",
    "    def __add__(self, v2):\n",
    "        return self.add(v2)\n",
    "\n",
    "    def __mul__(self, scalar):\n",
    "        return self.scale(scalar)\n",
    "\n",
    "    def __rmul__(self, scalar):\n",
    "        return self.scale(scalar)\n",
    "\n",
    "    def __repr__(self):\n",
    "        return 'Vec3({}, {}, {})'.format(self.x, self.y, self.z)\n",
    "\n",
    "print(2.0 * (Vec3(1, 0, 0) + Vec3(0, 1, 0)))        "
   ]
  },
  {
   "source": [
    "Having written the classes for vectors in 3D and 3D opens the door for generalization. There are multiple ways of generalizing the approach, but we will focus on how we use the vectors, and not in how they work. This approach will let us define functions that will work for any number of dimensions: it will let us separate the *what* from the *how*."
   ],
   "cell_type": "markdown",
   "metadata": {}
  },
  {
   "source": [
    "### Building a vector base class\n",
    "\n",
    "The basic operations we do with our `Vec2` and `Vec3` classes has been:\n",
    "+ constructing new instances\n",
    "+ add vectors to vectors\n",
    "+ multiply scalars to vectors\n",
    "+ testing equality\n",
    "+ representing the vector as a string\n",
    "\n",
    "Out of these operations, only vector addition and scalar product are distinctive vector operations: the rest are just Python related methods.\n",
    "\n",
    "Let's define our base class for vectors according to this fact.\n"
   ],
   "cell_type": "markdown",
   "metadata": {}
  },
  {
   "cell_type": "code",
   "execution_count": null,
   "metadata": {},
   "outputs": [],
   "source": [
    "from abc import ABCMeta, abstractmethod\n",
    "\n",
    "class Vector(metaclass=ABCMeta):\n",
    "\n",
    "    @abstractmethod\n",
    "    def scale(self, scalar):\n",
    "        pass\n",
    "\n",
    "    @abstractmethod\n",
    "    def add(self, other):\n",
    "        pass\n",
    "\n",
    "    def __mul__(self, scalar):\n",
    "        return self.scale(scalar)\n",
    "\n",
    "    def __rmul__(self, scalar):\n",
    "        return self.scale(scalar)\n",
    "\n",
    "    def __add__(self, v2):\n",
    "        return self.add(v2)"
   ]
  },
  {
   "source": [
    "The `abc` module contains helper classes, functions, and method decorators that help define abstract base classes &mdash; a class that is not intended to be instantiated, but instead should be used as a template for classes that inherit from it.\n",
    "\n",
    "As a result, with our `Vector` class definition we are giving the template for the classes that will inherit from it, forcing them to have methods for vector addition and scalar product.\n",
    "\n",
    "The `@abstractmethod` decorators is used to tag the method as abstract, that is, not implemented in the base class but in the concrete subclasses.\n",
    "\n",
    "By contrast, the methods that implement the operator overloading for `*` and `+` can be fully specified in our base class."
   ],
   "cell_type": "markdown",
   "metadata": {}
  },
  {
   "source": [
    "We can now define `Vec2` as a child class of `Vec`:"
   ],
   "cell_type": "markdown",
   "metadata": {}
  },
  {
   "cell_type": "code",
   "execution_count": null,
   "metadata": {},
   "outputs": [],
   "source": [
    "from abc import ABCMeta, abstractmethod\n",
    "\n",
    "class Vector(metaclass=ABCMeta):\n",
    "\n",
    "    @abstractmethod\n",
    "    def scale(self, scalar):\n",
    "        pass\n",
    "\n",
    "    @abstractmethod\n",
    "    def add(self, other):\n",
    "        pass\n",
    "\n",
    "    def __mul__(self, scalar):\n",
    "        return self.scale(scalar)\n",
    "\n",
    "    def __rmul__(self, scalar):\n",
    "        return self.scale(scalar)\n",
    "\n",
    "    def __add__(self, v2):\n",
    "        return self.add(v2)\n",
    "\n",
    "class Vec2(Vector):\n",
    "    def __init__(self, x, y):\n",
    "        self.x = x\n",
    "        self.y = y\n",
    "\n",
    "    def add(self, other):\n",
    "        return Vec2(self.x + other.x, self.y + other.y)\n",
    "\n",
    "    def scale(self, scalar):\n",
    "        return Vec2(scalar * self.x, scalar * self.y)\n",
    "\n",
    "    def __eq__(self, other):\n",
    "        return self.x == other.x and self.y == other.y\n",
    "\n",
    "    def __repr__(self):\n",
    "        return 'Vec2({}, {})'.format(self.x, self.y)        "
   ]
  },
  {
   "source": [
    "This approach has saved us from repeating ourselves: The methods that were identical between `Vec2` and `Vec3` are now part of the base class, while the remaining methods which were different for `Vec2` and `Vec3` must be implemented by the concrete class.\n",
    "\n",
    "This approach also let us *enrich* the base class as we discover more operations that we want to provide to the child classes that inherit from `Vector`, for example, `subtract(...)`:"
   ],
   "cell_type": "markdown",
   "metadata": {}
  },
  {
   "cell_type": "code",
   "execution_count": 4,
   "metadata": {},
   "outputs": [
    {
     "output_type": "stream",
     "name": "stdout",
     "text": [
      "Vec2(-4, 2)\n"
     ]
    }
   ],
   "source": [
    "from abc import ABCMeta, abstractmethod\n",
    "\n",
    "class Vector(metaclass=ABCMeta):\n",
    "\n",
    "    @abstractmethod\n",
    "    def scale(self, scalar):\n",
    "        pass\n",
    "\n",
    "    @abstractmethod\n",
    "    def add(self, other):\n",
    "        pass\n",
    "\n",
    "    def __mul__(self, scalar):\n",
    "        return self.scale(scalar)\n",
    "\n",
    "    def __rmul__(self, scalar):\n",
    "        return self.scale(scalar)\n",
    "\n",
    "    def __add__(self, v2):\n",
    "        return self.add(v2)\n",
    "    \n",
    "    def subtract(self, other):\n",
    "        return self.add(-1 * other)\n",
    "\n",
    "    def __sub__(self, other):\n",
    "        return self.subtract(other)\n",
    "\n",
    "class Vec2(Vector):\n",
    "    def __init__(self, x, y):\n",
    "        self.x = x\n",
    "        self.y = y\n",
    "\n",
    "    def add(self, other):\n",
    "        return Vec2(self.x + other.x, self.y + other.y)\n",
    "\n",
    "    def scale(self, scalar):\n",
    "        return Vec2(scalar * self.x, scalar * self.y)\n",
    "\n",
    "    def __eq__(self, other):\n",
    "        return self.x == other.x and self.y == other.y\n",
    "\n",
    "    def __repr__(self):\n",
    "        return 'Vec2({}, {})'.format(self.x, self.y)  \n",
    "\n",
    "print(Vec2(1, 3) - Vec2(5, 1))        "
   ]
  },
  {
   "source": [
    "Note how we have *enriched* the child class `Vec2` with a `subtract(...)` method without changing the `Vec2` source code at all."
   ],
   "cell_type": "markdown",
   "metadata": {}
  },
  {
   "source": [
    "### Defining vector spaces\n",
    "\n",
    "In this section, we will switch from Python code to mathematical language to see how we can define a similar generalization of the vector concept.\n",
    "\n",
    "In math, a vector is defined for what it does, rather than for what it is. Let's start with an incomplete definition of a vector:\n",
    "\n",
    "> | DEFINITION |\n",
    "| :--------- |\n",
    "| A vector is an object equipped with a *suitable* way to add it to other vectors and multiply it by scalars. |\n",
    "\n",
    "What is missing from the previous definition is the explicit definition *suitability*. That can be given as a set of rules that any *object* candidate to qualify as a vector must fulfill:\n",
    "\n",
    "1. Adding vectors in any order shouldn't matter: $ v + w = w + v $\n",
    "2. Adding vectors in any grouping shouldn't matter: $ u + (v + w) = (u + v) + w $\n",
    "\n",
    "Note that for example, strings and concatenation do not fulfill these rules and therefore, do not qualify as vectors as `\"hot\" + \"dog\" != \"dog\" + \"hot\"`."
   ],
   "cell_type": "markdown",
   "metadata": {}
  },
  {
   "source": [
    "Additional rules must be given for well-behaved scalar multiplications:\n",
    "\n",
    "1. Multiplying vectors by several scalars should be the same as multiplying by all the scalars at once. That is, if $ a $ and $ b $ are scalars and $ v $ i s a vector, then $ a (b v) = (a b) v $.\n",
    "2. Multiplying a vector by 1 should leave the vector unchanged: $ 1 v = v $.\n",
    "3. Addition of scalars should be compatible with scalar multiplication: $ a v + b v = (a + b) v$.\n",
    "4. Addition of vectors should be compatible with scalar multiplication: $ a (v + w) = av + aw $. "
   ],
   "cell_type": "markdown",
   "metadata": {}
  },
  {
   "source": [
    "The takeaway from these rules is that we have a way to check if an object can be effectively considered a vector, and lead us to define the concept of a *vector space* as a collection of compatible vectors:\n",
    "\n",
    "> | DEFINITION |\n",
    "| :--------- |\n",
    "| A vector space is a collection of objects called vectors, equipped with suitable vector addition and scalar multiplication operations, such that every linear combination of vectors in the collection produces a vector that is also in the collection. |"
   ],
   "cell_type": "markdown",
   "metadata": {}
  },
  {
   "source": [
    "A collection like `[Vec2(1, 0), Vec2(5, -3), Vec2(1.1, 0.8)]` is a group of vectors but it is not a vector space as the linear combination `1 * Vec2(1, 0) + 1 * Vec2(5, -3) = Vec2(6, -3)` which is not a vector of the collection.\n",
    "\n",
    "As you can imagine, most vector spaces are infinite sets containing of the possible linear combinations of the elements of the vector space and the infinite number of scalars there are. Such an infinite set is the collection of all possible 2D vectors.\n",
    "\n",
    "There are two implications of the fact that vector spaces need to contain all their scalar multiples.\n",
    "\n",
    "First, $ 0 \\cdot v = \\vec{0} $ that is, no matter what vector you pick, multiplying it by the scalar 0 will render the *zero vector*. Adding the *zero vector* to any vector leaves that vector unchanged: $ \\vec{0} + v = v $.\n",
    "\n",
    "Second, every vector $ v $has an opposite vector $ -1 \\cdot v $ written as $ -v $. As $ v + (-v) = (1 + (-1)) v = 0 v = \\vec{0} $. That is, for every vector there is another vector in the vector space that *cancels it out* by addition. "
   ],
   "cell_type": "markdown",
   "metadata": {}
  },
  {
   "source": [
    "### Unit testing vector space classes\n",
    "\n",
    "In Math, suitability is guaranteed by *writing a proof*. In code, we rely in writing unit tests.\n",
    "\n",
    "For instance, we can check rule #4 for well-behaved scalar multiplication doing:\n"
   ],
   "cell_type": "markdown",
   "metadata": {}
  },
  {
   "cell_type": "code",
   "execution_count": 1,
   "metadata": {},
   "outputs": [
    {
     "output_type": "execute_result",
     "data": {
      "text/plain": [
       "True"
      ]
     },
     "metadata": {},
     "execution_count": 1
    }
   ],
   "source": [
    "from vector2d import Vec2\n",
    "\n",
    "s = -3\n",
    "u, v = Vec2(42, -10), Vec2(1.5, 8)\n",
    "\n",
    "# should be true\n",
    "s * (u + v) == s * v + s * u"
   ]
  },
  {
   "source": [
    "Obviously, the test is quite weak, but we're off to a good start.\n",
    "\n",
    "We can improve it a little bit by selecting random numbers and using Python's assert:"
   ],
   "cell_type": "markdown",
   "metadata": {}
  },
  {
   "cell_type": "code",
   "execution_count": 2,
   "metadata": {},
   "outputs": [
    {
     "output_type": "error",
     "ename": "AssertionError",
     "evalue": "",
     "traceback": [
      "\u001b[0;31m---------------------------------------------------------------------------\u001b[0m",
      "\u001b[0;31mAssertionError\u001b[0m                            Traceback (most recent call last)",
      "\u001b[0;32m<ipython-input-2-fc4efbac3fef>\u001b[0m in \u001b[0;36m<module>\u001b[0;34m\u001b[0m\n\u001b[1;32m     10\u001b[0m \u001b[0ma\u001b[0m \u001b[0;34m=\u001b[0m \u001b[0mrandom_scalar\u001b[0m\u001b[0;34m(\u001b[0m\u001b[0;34m)\u001b[0m\u001b[0;34m\u001b[0m\u001b[0;34m\u001b[0m\u001b[0m\n\u001b[1;32m     11\u001b[0m \u001b[0mu\u001b[0m\u001b[0;34m,\u001b[0m \u001b[0mv\u001b[0m \u001b[0;34m=\u001b[0m \u001b[0mrandom_vec2\u001b[0m\u001b[0;34m(\u001b[0m\u001b[0;34m)\u001b[0m\u001b[0;34m,\u001b[0m \u001b[0mrandom_vec2\u001b[0m\u001b[0;34m(\u001b[0m\u001b[0;34m)\u001b[0m\u001b[0;34m\u001b[0m\u001b[0;34m\u001b[0m\u001b[0m\n\u001b[0;32m---> 12\u001b[0;31m \u001b[0;32massert\u001b[0m \u001b[0ma\u001b[0m \u001b[0;34m*\u001b[0m \u001b[0;34m(\u001b[0m\u001b[0mu\u001b[0m \u001b[0;34m+\u001b[0m \u001b[0mv\u001b[0m\u001b[0;34m)\u001b[0m \u001b[0;34m==\u001b[0m \u001b[0ma\u001b[0m \u001b[0;34m*\u001b[0m \u001b[0mv\u001b[0m \u001b[0;34m+\u001b[0m \u001b[0ma\u001b[0m \u001b[0;34m*\u001b[0m \u001b[0mu\u001b[0m\u001b[0;34m\u001b[0m\u001b[0;34m\u001b[0m\u001b[0m\n\u001b[0m",
      "\u001b[0;31mAssertionError\u001b[0m: "
     ]
    }
   ],
   "source": [
    "from vector2d import Vec2\n",
    "from random import uniform\n",
    "\n",
    "def random_scalar():\n",
    "    return uniform(-10, 10)\n",
    "\n",
    "def random_vec2():\n",
    "    return Vec2(random_scalar(), random_scalar())\n",
    "\n",
    "a = random_scalar()\n",
    "u, v = random_vec2(), random_vec2()\n",
    "\n",
    "# this should fail because right and left parts differ by very small fractions\n",
    "assert a * (u + v) == a * v + a * u    "
   ]
  },
  {
   "source": [
    "The previous test can be fixed by using Python's `math.isclose(...)`. Also, we can make the test more robust by testing the rule hundred times rather than just once:"
   ],
   "cell_type": "markdown",
   "metadata": {}
  },
  {
   "cell_type": "code",
   "execution_count": 5,
   "metadata": {},
   "outputs": [],
   "source": [
    "from vector2d import Vec2\n",
    "from random import uniform\n",
    "from math import isclose\n",
    "\n",
    "def random_scalar():\n",
    "    return uniform(-10, 10)\n",
    "\n",
    "def random_vec2():\n",
    "    return Vec2(random_scalar(), random_scalar())\n",
    "\n",
    "def approx_equal_vec2(v, w):\n",
    "    return isclose(v.x, w.x) and isclose(v.y, w.y)\n",
    "\n",
    "for _ in range(0, 100):\n",
    "    a = random_scalar()\n",
    "    u, v = random_vec2(), random_vec2()\n",
    "\n",
    "    assert approx_equal_vec2(a * (u + v),  a * v + a * u)"
   ]
  },
  {
   "source": [
    "Now we can test the 6 vector space properties defined above:\n",
    "1. $ v + w = w + v $\n",
    "\n",
    "2. $ u + (v + w) = (u + v) + w $\n",
    "\n",
    "1. $ a (b v) = (a b) v $\n",
    "\n",
    "2. $ 1 v = v $\n",
    "\n",
    "3. $ a v + b v = (a + b) v $\n",
    "\n",
    "4. $ a (v + w) = av + aw $"
   ],
   "cell_type": "markdown",
   "metadata": {}
  },
  {
   "cell_type": "code",
   "execution_count": 6,
   "metadata": {},
   "outputs": [
    {
     "output_type": "stream",
     "name": "stdout",
     "text": [
      "Test completed :)\n"
     ]
    }
   ],
   "source": [
    "from vector2d import Vec2\n",
    "from random import uniform\n",
    "from math import isclose\n",
    "\n",
    "def random_scalar():\n",
    "    return uniform(-10, 10)\n",
    "\n",
    "def random_vec2():\n",
    "    return Vec2(random_scalar(), random_scalar())\n",
    "\n",
    "def approx_equal_vec2(v, w):\n",
    "    return isclose(v.x, w.x) and isclose(v.y, w.y)\n",
    "\n",
    "def test(eq, a, b, u, v, w):\n",
    "    assert eq(u + v, v + u)\n",
    "    assert eq(u + (v + w), (u + v) + w)\n",
    "    assert eq(a * (b * v), (a * b) * v)\n",
    "    assert eq(1 * v, v)\n",
    "    assert eq((a + b) * v, a * v + b * v)\n",
    "    assert eq(a * v + a * w, a * (v + w))\n",
    "\n",
    "for _ in range(0, 100):\n",
    "    a, b = random_scalar(), random_scalar()\n",
    "    u, v, w = random_vec2(), random_vec2(), random_vec2()\n",
    "    test(approx_equal_vec2, a, b, u, v, w)\n",
    "\n",
    "print('Test completed :)')"
   ]
  },
  {
   "source": [
    "Note that this setup isn't completely generic, as we had to write special functions to generate random `Vec2` instances and to compare them. The important part is that the test function itself and the expressions are generic, so the amount of work needed when we need to validate for other vector spaces will be small."
   ],
   "cell_type": "markdown",
   "metadata": {}
  },
  {
   "source": [
    "## Exploring different vectors spaces\n",
    "\n",
    "With the concept of *vector space* already introduced, we will explore some examples by taking a look at a new kind of object and implement it as a class that inherits from `Vector`.\n",
    "\n",
    "By definition, the new class will support *addition*, *scalar multiplication* and the other well-known vector operations."
   ],
   "cell_type": "markdown",
   "metadata": {}
  },
  {
   "source": [
    "### Enumerating all coordinate vector spaces\n",
    "\n",
    "We have implemented `Vec2`, `Vec3` and `Vec6`. But what about `Vec1`. Let's explore what happens when we create that class and explore its properties:"
   ],
   "cell_type": "markdown",
   "metadata": {}
  },
  {
   "cell_type": "code",
   "execution_count": 7,
   "metadata": {},
   "outputs": [
    {
     "output_type": "stream",
     "name": "stdout",
     "text": [
      "Vec1(5)\nVec1(3)\nVec1(3.0)\n"
     ]
    }
   ],
   "source": [
    "from vector import Vector\n",
    "\n",
    "class Vec1(Vector):\n",
    "    def __init__(self, x):\n",
    "        self.x = x\n",
    "\n",
    "    @classmethod\n",
    "    def zero(cls):\n",
    "        return Vec1(0)\n",
    "\n",
    "    def add(self, other):\n",
    "        return Vec1(self.x + other.x)\n",
    "\n",
    "    def scale(self, scalar):\n",
    "        return Vec1(scalar * self.x)\n",
    "\n",
    "    def __eq__(self, other):\n",
    "        if not self.__class__ in other.__class__.mro():\n",
    "            return False\n",
    "        else:\n",
    "            return self.x == other.x\n",
    "\n",
    "    def __repr__(self):\n",
    "        return 'Vec1({})'.format(self.x)  \n",
    "\n",
    "\n",
    "print(Vec1(2) + Vec1(3))\n",
    "print(3 * Vec1(1))\n",
    "print(Vec1(6) / 2)"
   ]
  },
  {
   "source": [
    "The interesting takeaway is that `Vec1` defines a vector space in its own right! with vector addition being the regular real number addition and scalar multiplication being the regular multiplication.\n",
    "\n",
    "The set of all real numbers (including integers, fractions, and irrational numbers) is denoted as $ \\mathbb{R} $\n",
    "\n",
    "> $ \\mathbb{R} $ is a vector space where the scalars and the vectors are the same kind of objects."
   ],
   "cell_type": "markdown",
   "metadata": {}
  },
  {
   "source": [
    "Coordinate vector spaces are denoted $ \\mathbb{R}_n $ where $ n $ is the dimension or number of coordinates so that $ \\mathbb{R}_2 $ is the 2D plane and $ \\mathbb{R}_3 $ is the 3D space.\n",
    "\n",
    "As long as real numbers are used, any vector space is some $ \\mathbb{R}_n $ in disguise."
   ],
   "cell_type": "markdown",
   "metadata": {}
  },
  {
   "source": [
    "The vector space $ \\mathbb{R}_0 $ is the set of vectors with zero coordinates, which can also be implemented in Python:"
   ],
   "cell_type": "markdown",
   "metadata": {}
  },
  {
   "cell_type": "code",
   "execution_count": 9,
   "metadata": {},
   "outputs": [
    {
     "output_type": "stream",
     "name": "stdout",
     "text": [
      "Vec0()\nVec0()\nVec0()\n"
     ]
    }
   ],
   "source": [
    "from vector import Vector\n",
    "\n",
    "class Vec0(Vector):\n",
    "    def __init__(self):\n",
    "        pass\n",
    "\n",
    "    @classmethod\n",
    "    def zero(cls):\n",
    "        return Vec0()\n",
    "\n",
    "    def add(self, other):\n",
    "        return Vec0()\n",
    "\n",
    "    def scale(self, scalar):\n",
    "        return Vec0()\n",
    "\n",
    "    def __eq__(self, other):\n",
    "        return self.__class__ == other.__class__\n",
    "\n",
    "    def __repr__(self):\n",
    "        return 'Vec0()'\n",
    "\n",
    "\n",
    "print(Vec0() + Vec0())\n",
    "print(3 * Vec0())\n",
    "print(Vec0() / 2)"
   ]
  },
  {
   "source": [
    "### Identifying vector spaces in the wild\n",
    "\n",
    "Let's consider the following dataset that consists of information about used Toyota Priuses.\n",
    "\n",
    "```json\n",
    "[\n",
    "  [\"Post status\",\"Year\",\"Model\",\"Miles\",\"Price\",\"Source\",\"Time Posted\",\"Location\",\"Title & Link\"],\n",
    "  [\"For Sale\",\"2005\",\"Prius\",\"114000\",\"3500\",\"craigslist\",\"11/30 - 06:44\",\"San Francisco, CA\",\"toyota prius \"],\n",
    "  [\"For Sale\",\"2015\",\"Prius\",\"n/a\",\"12500\",\"craigslist\",\"11/30 - 07:00\",\"Seattle, WA\",\"Toyota prius 2015 \"],\n",
    "```\n",
    "\n",
    "The first element of the array are the columns of the dataset, while the remaining elements constitutes the data.\n",
    "\n",
    "We can easily define a `CarForSale` class that would model the information in the dataset:\n",
    "\n"
   ],
   "cell_type": "markdown",
   "metadata": {}
  },
  {
   "cell_type": "code",
   "execution_count": null,
   "metadata": {},
   "outputs": [],
   "source": [
    "def CarForSale():\n",
    "    def __init__(self, model_year, mileage, price, posted_datetime, model, source, location, description):\n",
    "        self.model_year = model_year\n",
    "        self.mileage = mileage\n",
    "        self.price = price\n",
    "        self.posted_datetime = posted_datetime\n",
    "        self.model = model\n",
    "        self.source = source\n",
    "        self.location = location\n",
    "        self.description = description"
   ]
  },
  {
   "source": [
    "Let's consider whether it would be interesting to consider `CarForSale` objects as vectors:\n",
    "> We could average them as a linear combination to see what typical Prius for sale looks like\n",
    "\n",
    "Obviously, the numeric fields `model_year`, `mileage`, `price` can be added like coordinates of a regular vector, but the string properties can't. Thus, when we do arithmetics with this properties we will set them to the string `'(virtual)'` to remind us of this fact.\n",
    "\n",
    "Also, we can't add datetimes, but we can add timespans. For example, we could use the day we retrieved the data as a reference point, and add the time spans since the cars were posted for sale.\n",
    "\n",
    "Let's do those modifications in the class:"
   ],
   "cell_type": "markdown",
   "metadata": {}
  },
  {
   "cell_type": "code",
   "execution_count": null,
   "metadata": {},
   "outputs": [],
   "source": [
    "from datetime import datetime\n",
    "from vector import Vector\n",
    "\n",
    "class CarForSale(Vector):\n",
    "    reference_date = datetime(2018, 11, 30, 12) # 30-Nov-2018-12:00:00\n",
    "\n",
    "    def __init__(self, model_year, mileage, price, posted_datetime, model='(virtual)', source='(virtual)', location='(virtual)', description='(virtual)'):\n",
    "        self.model_year = model_year\n",
    "        self.mileage = mileage\n",
    "        self.price = price\n",
    "        self.posted_datetime = posted_datetime\n",
    "        self.model = model\n",
    "        self.source = source\n",
    "        self.location = location\n",
    "        self.description = description\n",
    "\n",
    "    def add(self, other):\n",
    "        def add_dates(d1, d2):\n",
    "            age1 = CarForSale.reference_date - d1\n",
    "            age2 = CarForSale.reference_date - d2\n",
    "            sum_age = age1 + age2\n",
    "            return CarForSale.reference_date - sum_age\n",
    "\n",
    "        return CarForSale(\n",
    "            self.model_year + other.model_year,\n",
    "            self.mileage + other.mileage,\n",
    "            self.price + other.price,\n",
    "            add_dates(self.posted_datetime, other.posted_datetime)\n",
    "        )\n",
    "\n",
    "    def scale(self, scalar):\n",
    "        def scale_date(d):\n",
    "            age = CarForSale.reference_date - d\n",
    "            return CarForSale.reference_date - (scalar * age)\n",
    "\n",
    "        return CarForSale(\n",
    "            scalar * self.model_year,\n",
    "            scalar * self.mileage,\n",
    "            scalar * self.price,\n",
    "            scale_date(self.posted_datetime)\n",
    "        )\n",
    "\n",
    "    @classmethod\n",
    "    def zero(cls):\n",
    "        return CarForSale(0, 0, 0, CarForSale.reference_date)"
   ]
  },
  {
   "source": [
    "Let's give it a run and see how the vector space operations work with this class. In order to do that we need load some data:"
   ],
   "cell_type": "markdown",
   "metadata": {}
  },
  {
   "cell_type": "code",
   "execution_count": 16,
   "metadata": {},
   "outputs": [
    {
     "output_type": "stream",
     "name": "stdout",
     "text": [
      "{'model_year': 2005, 'mileage': 114000.0, 'price': 3500.0, 'posted_datetime': datetime.datetime(2018, 11, 30, 6, 44), 'model': 'Prius', 'source': 'craigslist', 'location': 'San Francisco, CA', 'description': 'toyota prius '}\n{'model_year': 4012, 'mileage': 306000.0, 'price': 6100.0, 'posted_datetime': datetime.datetime(2018, 11, 30, 3, 59), 'model': '(virtual)', 'source': '(virtual)', 'location': '(virtual)', 'description': '(virtual)'}\n"
     ]
    }
   ],
   "source": [
    "from car_for_sale import CarForSale\n",
    "\n",
    "from json import loads, dumps\n",
    "from pathlib import Path\n",
    "from datetime import datetime\n",
    "\n",
    "contents = Path('cargraph.json').read_text()\n",
    "cg_objects = loads(contents)\n",
    "cleaned = []\n",
    "\n",
    "def parse_date(s):\n",
    "    input_format='%m/%d - %H:%M'\n",
    "    dt = datetime.strptime(s, input_format).replace(year=2018)\n",
    "    return dt\n",
    "\n",
    "for car in cg_objects[1:]:\n",
    "    try:\n",
    "        row = CarForSale(int(car[1]), float(car[3]), float(car[4]), parse_date(car[6]), car[2], car[5], car[7], car[8])\n",
    "        cleaned.append(row)\n",
    "    except:\n",
    "        pass\n",
    "\n",
    "cars = cleaned\n",
    "\n",
    "\n",
    "# print first car\n",
    "print(cars[0].__dict__)\n",
    "\n",
    "# add first and second car\n",
    "print((cars[0] + cars[1]).__dict__)"
   ]
  },
  {
   "cell_type": "code",
   "execution_count": null,
   "metadata": {},
   "outputs": [],
   "source": [
    "The sum does not seem to be very meaningful per se, but if we calculate the average of all the cars:"
   ]
  },
  {
   "cell_type": "code",
   "execution_count": 18,
   "metadata": {},
   "outputs": [
    {
     "output_type": "stream",
     "name": "stdout",
     "text": [
      "{'model_year': 2012.5365853658536, 'mileage': 87731.63414634147, 'price': 12574.731707317074, 'posted_datetime': datetime.datetime(2018, 11, 30, 9, 0, 49, 756098), 'model': '(virtual)', 'source': '(virtual)', 'location': '(virtual)', 'description': '(virtual)'}\n"
     ]
    }
   ],
   "source": [
    "average_prius = sum(cars, CarForSale.zero()) / len(cars)\n",
    "\n",
    "print(average_prius.__dict__)"
   ]
  },
  {
   "source": [
    "That means:\n",
    "* the average car age is 2012\n",
    "* the average mileage of the cars for sale is 87732 miles\n",
    "* the average price is 12574\n",
    "* the average date in which the ad was posted was 30-Nov-2018\n",
    "\n",
    "Thus, we see that apart from the string data, the `CarForSale` behaves like a 4D vector with dimensions price, model year, mileage and datetime of posting."
   ],
   "cell_type": "markdown",
   "metadata": {}
  },
  {
   "source": [
    "### Treating functions as vectors\n",
    "\n",
    "Mathematical functions can also be considered vectors.\n",
    "\n",
    "In math we define functions as:\n",
    "\n",
    "$\n",
    "f: \\mathbb{R} \\Rightarrow \\mathbb{R}\n",
    "$\n",
    "\n",
    "> In Python, those will be regular functions that take a float and return a float.\n",
    "\n",
    "We can write functions algebraically as in $ f(x) = 0.5 \\cdot x + 3 $ or $ g(x) = sin(x) $ and we will be able to visualize them graphically too."
   ],
   "cell_type": "markdown",
   "metadata": {}
  },
  {
   "cell_type": "code",
   "execution_count": 20,
   "metadata": {},
   "outputs": [
    {
     "output_type": "display_data",
     "data": {
      "text/plain": "<Figure size 432x288 with 1 Axes>",
      "image/svg+xml": "<?xml version=\"1.0\" encoding=\"utf-8\" standalone=\"no\"?>\n<!DOCTYPE svg PUBLIC \"-//W3C//DTD SVG 1.1//EN\"\n  \"http://www.w3.org/Graphics/SVG/1.1/DTD/svg11.dtd\">\n<!-- Created with matplotlib (https://matplotlib.org/) -->\n<svg height=\"277.318125pt\" version=\"1.1\" viewBox=\"0 0 370.942187 277.318125\" width=\"370.942187pt\" xmlns=\"http://www.w3.org/2000/svg\" xmlns:xlink=\"http://www.w3.org/1999/xlink\">\n <defs>\n  <style type=\"text/css\">\n*{stroke-linecap:butt;stroke-linejoin:round;}\n  </style>\n </defs>\n <g id=\"figure_1\">\n  <g id=\"patch_1\">\n   <path d=\"M 0 277.318125 \nL 370.942187 277.318125 \nL 370.942187 0 \nL 0 0 \nz\n\" style=\"fill:none;\"/>\n  </g>\n  <g id=\"axes_1\">\n   <g id=\"patch_2\">\n    <path d=\"M 28.942188 253.44 \nL 363.742188 253.44 \nL 363.742188 36 \nL 28.942188 36 \nz\n\" style=\"fill:#ffffff;\"/>\n   </g>\n   <g id=\"matplotlib.axis_1\">\n    <g id=\"xtick_1\">\n     <g id=\"line2d_1\">\n      <defs>\n       <path d=\"M 0 0 \nL 0 3.5 \n\" id=\"mc23f8fa52f\" style=\"stroke:#000000;stroke-width:0.8;\"/>\n      </defs>\n      <g>\n       <use style=\"stroke:#000000;stroke-width:0.8;\" x=\"44.160369\" xlink:href=\"#mc23f8fa52f\" y=\"253.44\"/>\n      </g>\n     </g>\n     <g id=\"text_1\">\n      <!-- −10.0 -->\n      <defs>\n       <path d=\"M 10.59375 35.5 \nL 73.1875 35.5 \nL 73.1875 27.203125 \nL 10.59375 27.203125 \nz\n\" id=\"DejaVuSans-8722\"/>\n       <path d=\"M 12.40625 8.296875 \nL 28.515625 8.296875 \nL 28.515625 63.921875 \nL 10.984375 60.40625 \nL 10.984375 69.390625 \nL 28.421875 72.90625 \nL 38.28125 72.90625 \nL 38.28125 8.296875 \nL 54.390625 8.296875 \nL 54.390625 0 \nL 12.40625 0 \nz\n\" id=\"DejaVuSans-49\"/>\n       <path d=\"M 31.78125 66.40625 \nQ 24.171875 66.40625 20.328125 58.90625 \nQ 16.5 51.421875 16.5 36.375 \nQ 16.5 21.390625 20.328125 13.890625 \nQ 24.171875 6.390625 31.78125 6.390625 \nQ 39.453125 6.390625 43.28125 13.890625 \nQ 47.125 21.390625 47.125 36.375 \nQ 47.125 51.421875 43.28125 58.90625 \nQ 39.453125 66.40625 31.78125 66.40625 \nz\nM 31.78125 74.21875 \nQ 44.046875 74.21875 50.515625 64.515625 \nQ 56.984375 54.828125 56.984375 36.375 \nQ 56.984375 17.96875 50.515625 8.265625 \nQ 44.046875 -1.421875 31.78125 -1.421875 \nQ 19.53125 -1.421875 13.0625 8.265625 \nQ 6.59375 17.96875 6.59375 36.375 \nQ 6.59375 54.828125 13.0625 64.515625 \nQ 19.53125 74.21875 31.78125 74.21875 \nz\n\" id=\"DejaVuSans-48\"/>\n       <path d=\"M 10.6875 12.40625 \nL 21 12.40625 \nL 21 0 \nL 10.6875 0 \nz\n\" id=\"DejaVuSans-46\"/>\n      </defs>\n      <g transform=\"translate(28.837713 268.038437)scale(0.1 -0.1)\">\n       <use xlink:href=\"#DejaVuSans-8722\"/>\n       <use x=\"83.789062\" xlink:href=\"#DejaVuSans-49\"/>\n       <use x=\"147.412109\" xlink:href=\"#DejaVuSans-48\"/>\n       <use x=\"211.035156\" xlink:href=\"#DejaVuSans-46\"/>\n       <use x=\"242.822266\" xlink:href=\"#DejaVuSans-48\"/>\n      </g>\n     </g>\n    </g>\n    <g id=\"xtick_2\">\n     <g id=\"line2d_2\">\n      <g>\n       <use style=\"stroke:#000000;stroke-width:0.8;\" x=\"82.205824\" xlink:href=\"#mc23f8fa52f\" y=\"253.44\"/>\n      </g>\n     </g>\n     <g id=\"text_2\">\n      <!-- −7.5 -->\n      <defs>\n       <path d=\"M 8.203125 72.90625 \nL 55.078125 72.90625 \nL 55.078125 68.703125 \nL 28.609375 0 \nL 18.3125 0 \nL 43.21875 64.59375 \nL 8.203125 64.59375 \nz\n\" id=\"DejaVuSans-55\"/>\n       <path d=\"M 10.796875 72.90625 \nL 49.515625 72.90625 \nL 49.515625 64.59375 \nL 19.828125 64.59375 \nL 19.828125 46.734375 \nQ 21.96875 47.46875 24.109375 47.828125 \nQ 26.265625 48.1875 28.421875 48.1875 \nQ 40.625 48.1875 47.75 41.5 \nQ 54.890625 34.8125 54.890625 23.390625 \nQ 54.890625 11.625 47.5625 5.09375 \nQ 40.234375 -1.421875 26.90625 -1.421875 \nQ 22.3125 -1.421875 17.546875 -0.640625 \nQ 12.796875 0.140625 7.71875 1.703125 \nL 7.71875 11.625 \nQ 12.109375 9.234375 16.796875 8.0625 \nQ 21.484375 6.890625 26.703125 6.890625 \nQ 35.15625 6.890625 40.078125 11.328125 \nQ 45.015625 15.765625 45.015625 23.390625 \nQ 45.015625 31 40.078125 35.4375 \nQ 35.15625 39.890625 26.703125 39.890625 \nQ 22.75 39.890625 18.8125 39.015625 \nQ 14.890625 38.140625 10.796875 36.28125 \nz\n\" id=\"DejaVuSans-53\"/>\n      </defs>\n      <g transform=\"translate(70.064418 268.038437)scale(0.1 -0.1)\">\n       <use xlink:href=\"#DejaVuSans-8722\"/>\n       <use x=\"83.789062\" xlink:href=\"#DejaVuSans-55\"/>\n       <use x=\"147.412109\" xlink:href=\"#DejaVuSans-46\"/>\n       <use x=\"179.199219\" xlink:href=\"#DejaVuSans-53\"/>\n      </g>\n     </g>\n    </g>\n    <g id=\"xtick_3\">\n     <g id=\"line2d_3\">\n      <g>\n       <use style=\"stroke:#000000;stroke-width:0.8;\" x=\"120.251278\" xlink:href=\"#mc23f8fa52f\" y=\"253.44\"/>\n      </g>\n     </g>\n     <g id=\"text_3\">\n      <!-- −5.0 -->\n      <g transform=\"translate(108.109872 268.038437)scale(0.1 -0.1)\">\n       <use xlink:href=\"#DejaVuSans-8722\"/>\n       <use x=\"83.789062\" xlink:href=\"#DejaVuSans-53\"/>\n       <use x=\"147.412109\" xlink:href=\"#DejaVuSans-46\"/>\n       <use x=\"179.199219\" xlink:href=\"#DejaVuSans-48\"/>\n      </g>\n     </g>\n    </g>\n    <g id=\"xtick_4\">\n     <g id=\"line2d_4\">\n      <g>\n       <use style=\"stroke:#000000;stroke-width:0.8;\" x=\"158.296733\" xlink:href=\"#mc23f8fa52f\" y=\"253.44\"/>\n      </g>\n     </g>\n     <g id=\"text_4\">\n      <!-- −2.5 -->\n      <defs>\n       <path d=\"M 19.1875 8.296875 \nL 53.609375 8.296875 \nL 53.609375 0 \nL 7.328125 0 \nL 7.328125 8.296875 \nQ 12.9375 14.109375 22.625 23.890625 \nQ 32.328125 33.6875 34.8125 36.53125 \nQ 39.546875 41.84375 41.421875 45.53125 \nQ 43.3125 49.21875 43.3125 52.78125 \nQ 43.3125 58.59375 39.234375 62.25 \nQ 35.15625 65.921875 28.609375 65.921875 \nQ 23.96875 65.921875 18.8125 64.3125 \nQ 13.671875 62.703125 7.8125 59.421875 \nL 7.8125 69.390625 \nQ 13.765625 71.78125 18.9375 73 \nQ 24.125 74.21875 28.421875 74.21875 \nQ 39.75 74.21875 46.484375 68.546875 \nQ 53.21875 62.890625 53.21875 53.421875 \nQ 53.21875 48.921875 51.53125 44.890625 \nQ 49.859375 40.875 45.40625 35.40625 \nQ 44.1875 33.984375 37.640625 27.21875 \nQ 31.109375 20.453125 19.1875 8.296875 \nz\n\" id=\"DejaVuSans-50\"/>\n      </defs>\n      <g transform=\"translate(146.155327 268.038437)scale(0.1 -0.1)\">\n       <use xlink:href=\"#DejaVuSans-8722\"/>\n       <use x=\"83.789062\" xlink:href=\"#DejaVuSans-50\"/>\n       <use x=\"147.412109\" xlink:href=\"#DejaVuSans-46\"/>\n       <use x=\"179.199219\" xlink:href=\"#DejaVuSans-53\"/>\n      </g>\n     </g>\n    </g>\n    <g id=\"xtick_5\">\n     <g id=\"line2d_5\">\n      <g>\n       <use style=\"stroke:#000000;stroke-width:0.8;\" x=\"196.342188\" xlink:href=\"#mc23f8fa52f\" y=\"253.44\"/>\n      </g>\n     </g>\n     <g id=\"text_5\">\n      <!-- 0.0 -->\n      <g transform=\"translate(188.390625 268.038437)scale(0.1 -0.1)\">\n       <use xlink:href=\"#DejaVuSans-48\"/>\n       <use x=\"63.623047\" xlink:href=\"#DejaVuSans-46\"/>\n       <use x=\"95.410156\" xlink:href=\"#DejaVuSans-48\"/>\n      </g>\n     </g>\n    </g>\n    <g id=\"xtick_6\">\n     <g id=\"line2d_6\">\n      <g>\n       <use style=\"stroke:#000000;stroke-width:0.8;\" x=\"234.387642\" xlink:href=\"#mc23f8fa52f\" y=\"253.44\"/>\n      </g>\n     </g>\n     <g id=\"text_6\">\n      <!-- 2.5 -->\n      <g transform=\"translate(226.43608 268.038437)scale(0.1 -0.1)\">\n       <use xlink:href=\"#DejaVuSans-50\"/>\n       <use x=\"63.623047\" xlink:href=\"#DejaVuSans-46\"/>\n       <use x=\"95.410156\" xlink:href=\"#DejaVuSans-53\"/>\n      </g>\n     </g>\n    </g>\n    <g id=\"xtick_7\">\n     <g id=\"line2d_7\">\n      <g>\n       <use style=\"stroke:#000000;stroke-width:0.8;\" x=\"272.433097\" xlink:href=\"#mc23f8fa52f\" y=\"253.44\"/>\n      </g>\n     </g>\n     <g id=\"text_7\">\n      <!-- 5.0 -->\n      <g transform=\"translate(264.481534 268.038437)scale(0.1 -0.1)\">\n       <use xlink:href=\"#DejaVuSans-53\"/>\n       <use x=\"63.623047\" xlink:href=\"#DejaVuSans-46\"/>\n       <use x=\"95.410156\" xlink:href=\"#DejaVuSans-48\"/>\n      </g>\n     </g>\n    </g>\n    <g id=\"xtick_8\">\n     <g id=\"line2d_8\">\n      <g>\n       <use style=\"stroke:#000000;stroke-width:0.8;\" x=\"310.478551\" xlink:href=\"#mc23f8fa52f\" y=\"253.44\"/>\n      </g>\n     </g>\n     <g id=\"text_8\">\n      <!-- 7.5 -->\n      <g transform=\"translate(302.526989 268.038437)scale(0.1 -0.1)\">\n       <use xlink:href=\"#DejaVuSans-55\"/>\n       <use x=\"63.623047\" xlink:href=\"#DejaVuSans-46\"/>\n       <use x=\"95.410156\" xlink:href=\"#DejaVuSans-53\"/>\n      </g>\n     </g>\n    </g>\n    <g id=\"xtick_9\">\n     <g id=\"line2d_9\">\n      <g>\n       <use style=\"stroke:#000000;stroke-width:0.8;\" x=\"348.524006\" xlink:href=\"#mc23f8fa52f\" y=\"253.44\"/>\n      </g>\n     </g>\n     <g id=\"text_9\">\n      <!-- 10.0 -->\n      <g transform=\"translate(337.391193 268.038437)scale(0.1 -0.1)\">\n       <use xlink:href=\"#DejaVuSans-49\"/>\n       <use x=\"63.623047\" xlink:href=\"#DejaVuSans-48\"/>\n       <use x=\"127.246094\" xlink:href=\"#DejaVuSans-46\"/>\n       <use x=\"159.033203\" xlink:href=\"#DejaVuSans-48\"/>\n      </g>\n     </g>\n    </g>\n   </g>\n   <g id=\"matplotlib.axis_2\">\n    <g id=\"ytick_1\">\n     <g id=\"line2d_10\">\n      <defs>\n       <path d=\"M 0 0 \nL -3.5 0 \n\" id=\"mf0c40c88cc\" style=\"stroke:#000000;stroke-width:0.8;\"/>\n      </defs>\n      <g>\n       <use style=\"stroke:#000000;stroke-width:0.8;\" x=\"28.942188\" xlink:href=\"#mf0c40c88cc\" y=\"243.556364\"/>\n      </g>\n     </g>\n     <g id=\"text_10\">\n      <!-- −2 -->\n      <g transform=\"translate(7.2 247.355582)scale(0.1 -0.1)\">\n       <use xlink:href=\"#DejaVuSans-8722\"/>\n       <use x=\"83.789062\" xlink:href=\"#DejaVuSans-50\"/>\n      </g>\n     </g>\n    </g>\n    <g id=\"ytick_2\">\n     <g id=\"line2d_11\">\n      <g>\n       <use style=\"stroke:#000000;stroke-width:0.8;\" x=\"28.942188\" xlink:href=\"#mf0c40c88cc\" y=\"204.021818\"/>\n      </g>\n     </g>\n     <g id=\"text_11\">\n      <!-- 0 -->\n      <g transform=\"translate(15.579688 207.821037)scale(0.1 -0.1)\">\n       <use xlink:href=\"#DejaVuSans-48\"/>\n      </g>\n     </g>\n    </g>\n    <g id=\"ytick_3\">\n     <g id=\"line2d_12\">\n      <g>\n       <use style=\"stroke:#000000;stroke-width:0.8;\" x=\"28.942188\" xlink:href=\"#mf0c40c88cc\" y=\"164.487273\"/>\n      </g>\n     </g>\n     <g id=\"text_12\">\n      <!-- 2 -->\n      <g transform=\"translate(15.579688 168.286491)scale(0.1 -0.1)\">\n       <use xlink:href=\"#DejaVuSans-50\"/>\n      </g>\n     </g>\n    </g>\n    <g id=\"ytick_4\">\n     <g id=\"line2d_13\">\n      <g>\n       <use style=\"stroke:#000000;stroke-width:0.8;\" x=\"28.942188\" xlink:href=\"#mf0c40c88cc\" y=\"124.952727\"/>\n      </g>\n     </g>\n     <g id=\"text_13\">\n      <!-- 4 -->\n      <defs>\n       <path d=\"M 37.796875 64.3125 \nL 12.890625 25.390625 \nL 37.796875 25.390625 \nz\nM 35.203125 72.90625 \nL 47.609375 72.90625 \nL 47.609375 25.390625 \nL 58.015625 25.390625 \nL 58.015625 17.1875 \nL 47.609375 17.1875 \nL 47.609375 0 \nL 37.796875 0 \nL 37.796875 17.1875 \nL 4.890625 17.1875 \nL 4.890625 26.703125 \nz\n\" id=\"DejaVuSans-52\"/>\n      </defs>\n      <g transform=\"translate(15.579688 128.751946)scale(0.1 -0.1)\">\n       <use xlink:href=\"#DejaVuSans-52\"/>\n      </g>\n     </g>\n    </g>\n    <g id=\"ytick_5\">\n     <g id=\"line2d_14\">\n      <g>\n       <use style=\"stroke:#000000;stroke-width:0.8;\" x=\"28.942188\" xlink:href=\"#mf0c40c88cc\" y=\"85.418182\"/>\n      </g>\n     </g>\n     <g id=\"text_14\">\n      <!-- 6 -->\n      <defs>\n       <path d=\"M 33.015625 40.375 \nQ 26.375 40.375 22.484375 35.828125 \nQ 18.609375 31.296875 18.609375 23.390625 \nQ 18.609375 15.53125 22.484375 10.953125 \nQ 26.375 6.390625 33.015625 6.390625 \nQ 39.65625 6.390625 43.53125 10.953125 \nQ 47.40625 15.53125 47.40625 23.390625 \nQ 47.40625 31.296875 43.53125 35.828125 \nQ 39.65625 40.375 33.015625 40.375 \nz\nM 52.59375 71.296875 \nL 52.59375 62.3125 \nQ 48.875 64.0625 45.09375 64.984375 \nQ 41.3125 65.921875 37.59375 65.921875 \nQ 27.828125 65.921875 22.671875 59.328125 \nQ 17.53125 52.734375 16.796875 39.40625 \nQ 19.671875 43.65625 24.015625 45.921875 \nQ 28.375 48.1875 33.59375 48.1875 \nQ 44.578125 48.1875 50.953125 41.515625 \nQ 57.328125 34.859375 57.328125 23.390625 \nQ 57.328125 12.15625 50.6875 5.359375 \nQ 44.046875 -1.421875 33.015625 -1.421875 \nQ 20.359375 -1.421875 13.671875 8.265625 \nQ 6.984375 17.96875 6.984375 36.375 \nQ 6.984375 53.65625 15.1875 63.9375 \nQ 23.390625 74.21875 37.203125 74.21875 \nQ 40.921875 74.21875 44.703125 73.484375 \nQ 48.484375 72.75 52.59375 71.296875 \nz\n\" id=\"DejaVuSans-54\"/>\n      </defs>\n      <g transform=\"translate(15.579688 89.217401)scale(0.1 -0.1)\">\n       <use xlink:href=\"#DejaVuSans-54\"/>\n      </g>\n     </g>\n    </g>\n    <g id=\"ytick_6\">\n     <g id=\"line2d_15\">\n      <g>\n       <use style=\"stroke:#000000;stroke-width:0.8;\" x=\"28.942188\" xlink:href=\"#mf0c40c88cc\" y=\"45.883636\"/>\n      </g>\n     </g>\n     <g id=\"text_15\">\n      <!-- 8 -->\n      <defs>\n       <path d=\"M 31.78125 34.625 \nQ 24.75 34.625 20.71875 30.859375 \nQ 16.703125 27.09375 16.703125 20.515625 \nQ 16.703125 13.921875 20.71875 10.15625 \nQ 24.75 6.390625 31.78125 6.390625 \nQ 38.8125 6.390625 42.859375 10.171875 \nQ 46.921875 13.96875 46.921875 20.515625 \nQ 46.921875 27.09375 42.890625 30.859375 \nQ 38.875 34.625 31.78125 34.625 \nz\nM 21.921875 38.8125 \nQ 15.578125 40.375 12.03125 44.71875 \nQ 8.5 49.078125 8.5 55.328125 \nQ 8.5 64.0625 14.71875 69.140625 \nQ 20.953125 74.21875 31.78125 74.21875 \nQ 42.671875 74.21875 48.875 69.140625 \nQ 55.078125 64.0625 55.078125 55.328125 \nQ 55.078125 49.078125 51.53125 44.71875 \nQ 48 40.375 41.703125 38.8125 \nQ 48.828125 37.15625 52.796875 32.3125 \nQ 56.78125 27.484375 56.78125 20.515625 \nQ 56.78125 9.90625 50.3125 4.234375 \nQ 43.84375 -1.421875 31.78125 -1.421875 \nQ 19.734375 -1.421875 13.25 4.234375 \nQ 6.78125 9.90625 6.78125 20.515625 \nQ 6.78125 27.484375 10.78125 32.3125 \nQ 14.796875 37.15625 21.921875 38.8125 \nz\nM 18.3125 54.390625 \nQ 18.3125 48.734375 21.84375 45.5625 \nQ 25.390625 42.390625 31.78125 42.390625 \nQ 38.140625 42.390625 41.71875 45.5625 \nQ 45.3125 48.734375 45.3125 54.390625 \nQ 45.3125 60.0625 41.71875 63.234375 \nQ 38.140625 66.40625 31.78125 66.40625 \nQ 25.390625 66.40625 21.84375 63.234375 \nQ 18.3125 60.0625 18.3125 54.390625 \nz\n\" id=\"DejaVuSans-56\"/>\n      </defs>\n      <g transform=\"translate(15.579688 49.682855)scale(0.1 -0.1)\">\n       <use xlink:href=\"#DejaVuSans-56\"/>\n      </g>\n     </g>\n    </g>\n   </g>\n   <g id=\"line2d_16\">\n    <path clip-path=\"url(#p3b910ef9bf)\" d=\"M 28.942188 204.021818 \nL 363.742188 204.021818 \n\" style=\"fill:none;stroke:#000000;stroke-linecap:square;stroke-width:1.5;\"/>\n   </g>\n   <g id=\"line2d_17\">\n    <path clip-path=\"url(#p3b910ef9bf)\" d=\"M 196.342188 253.44 \nL 196.342188 36 \n\" style=\"fill:none;stroke:#000000;stroke-linecap:square;stroke-width:1.5;\"/>\n   </g>\n   <g id=\"line2d_18\">\n    <path clip-path=\"url(#p3b910ef9bf)\" d=\"M 44.160369 243.556364 \nL 47.234749 241.559669 \nL 50.30913 239.562975 \nL 53.38351 237.566281 \nL 56.45789 235.569587 \nL 59.53227 233.572893 \nL 62.60665 231.576198 \nL 65.68103 229.579504 \nL 68.755411 227.58281 \nL 71.829791 225.586116 \nL 74.904171 223.589421 \nL 77.978551 221.592727 \nL 81.052931 219.596033 \nL 84.127311 217.599339 \nL 87.201692 215.602645 \nL 90.276072 213.60595 \nL 93.350452 211.609256 \nL 96.424832 209.612562 \nL 99.499212 207.615868 \nL 102.573592 205.619174 \nL 105.647973 203.622479 \nL 108.722353 201.625785 \nL 111.796733 199.629091 \nL 114.871113 197.632397 \nL 117.945493 195.635702 \nL 121.019873 193.639008 \nL 124.094254 191.642314 \nL 127.168634 189.64562 \nL 130.243014 187.648926 \nL 133.317394 185.652231 \nL 136.391774 183.655537 \nL 139.466154 181.658843 \nL 142.540535 179.662149 \nL 145.614915 177.665455 \nL 148.689295 175.66876 \nL 151.763675 173.672066 \nL 154.838055 171.675372 \nL 157.912435 169.678678 \nL 160.986816 167.681983 \nL 164.061196 165.685289 \nL 167.135576 163.688595 \nL 170.209956 161.691901 \nL 173.284336 159.695207 \nL 176.358716 157.698512 \nL 179.433097 155.701818 \nL 182.507477 153.705124 \nL 185.581857 151.70843 \nL 188.656237 149.711736 \nL 191.730617 147.715041 \nL 194.804997 145.718347 \nL 197.879378 143.721653 \nL 200.953758 141.724959 \nL 204.028138 139.728264 \nL 207.102518 137.73157 \nL 210.176898 135.734876 \nL 213.251278 133.738182 \nL 216.325659 131.741488 \nL 219.400039 129.744793 \nL 222.474419 127.748099 \nL 225.548799 125.751405 \nL 228.623179 123.754711 \nL 231.697559 121.758017 \nL 234.77194 119.761322 \nL 237.84632 117.764628 \nL 240.9207 115.767934 \nL 243.99508 113.77124 \nL 247.06946 111.774545 \nL 250.14384 109.777851 \nL 253.218221 107.781157 \nL 256.292601 105.784463 \nL 259.366981 103.787769 \nL 262.441361 101.791074 \nL 265.515741 99.79438 \nL 268.590121 97.797686 \nL 271.664502 95.800992 \nL 274.738882 93.804298 \nL 277.813262 91.807603 \nL 280.887642 89.810909 \nL 283.962022 87.814215 \nL 287.036402 85.817521 \nL 290.110783 83.820826 \nL 293.185163 81.824132 \nL 296.259543 79.827438 \nL 299.333923 77.830744 \nL 302.408303 75.83405 \nL 305.482683 73.837355 \nL 308.557064 71.840661 \nL 311.631444 69.843967 \nL 314.705824 67.847273 \nL 317.780204 65.850579 \nL 320.854584 63.853884 \nL 323.928964 61.85719 \nL 327.003345 59.860496 \nL 330.077725 57.863802 \nL 333.152105 55.867107 \nL 336.226485 53.870413 \nL 339.300865 51.873719 \nL 342.375245 49.877025 \nL 345.449626 47.880331 \nL 348.524006 45.883636 \n\" style=\"fill:none;stroke:#1f77b4;stroke-linecap:square;stroke-width:1.5;\"/>\n   </g>\n   <g id=\"line2d_19\">\n    <path clip-path=\"url(#p3b910ef9bf)\" d=\"M 44.160369 193.268005 \nL 47.234749 196.814696 \nL 50.30913 200.654526 \nL 53.38351 204.631316 \nL 56.45789 208.583316 \nL 59.53227 212.349783 \nL 62.60665 215.777522 \nL 65.68103 218.727116 \nL 68.755411 221.078592 \nL 71.829791 222.736309 \nL 74.904171 223.632842 \nL 77.978551 223.731724 \nL 81.052931 223.028935 \nL 84.127311 221.553059 \nL 87.201692 219.364125 \nL 90.276072 216.551165 \nL 93.350452 213.228592 \nL 96.424832 209.531547 \nL 99.499212 205.610401 \nL 102.573592 201.624643 \nL 105.647973 197.736386 \nL 108.722353 194.103779 \nL 111.796733 190.874575 \nL 114.871113 188.180116 \nL 117.945493 186.129995 \nL 121.019873 184.807598 \nL 124.094254 184.266711 \nL 127.168634 184.529335 \nL 130.243014 185.584787 \nL 133.317394 187.390139 \nL 136.391774 189.87196 \nL 139.466154 192.929306 \nL 142.540535 196.437823 \nL 145.614915 200.254809 \nL 148.689295 204.225013 \nL 151.763675 208.186952 \nL 154.838055 211.97948 \nL 157.912435 215.448341 \nL 160.986816 218.452446 \nL 164.061196 220.869605 \nL 167.135576 222.601506 \nL 170.209956 223.577704 \nL 173.284336 223.758496 \nL 176.358716 223.136526 \nL 179.433097 221.737094 \nL 182.507477 219.617118 \nL 185.581857 216.862827 \nL 188.656237 213.586246 \nL 191.730617 209.920645 \nL 194.804997 206.015119 \nL 197.879378 202.028518 \nL 200.953758 198.122991 \nL 204.028138 194.457391 \nL 207.102518 191.18081 \nL 210.176898 188.426518 \nL 213.251278 186.306543 \nL 216.325659 184.90711 \nL 219.400039 184.285141 \nL 222.474419 184.465932 \nL 225.548799 185.442131 \nL 228.623179 187.174031 \nL 231.697559 189.591191 \nL 234.77194 192.595295 \nL 237.84632 196.064157 \nL 240.9207 199.856685 \nL 243.99508 203.818624 \nL 247.06946 207.788827 \nL 250.14384 211.605813 \nL 253.218221 215.114331 \nL 256.292601 218.171677 \nL 259.366981 220.653498 \nL 262.441361 222.458849 \nL 265.515741 223.514302 \nL 268.590121 223.776925 \nL 271.664502 223.236039 \nL 274.738882 221.913642 \nL 277.813262 219.863521 \nL 280.887642 217.169061 \nL 283.962022 213.939857 \nL 287.036402 210.307251 \nL 290.110783 206.418994 \nL 293.185163 202.433235 \nL 296.259543 198.51209 \nL 299.333923 194.815045 \nL 302.408303 191.492472 \nL 305.482683 188.679512 \nL 308.557064 186.490578 \nL 311.631444 185.014702 \nL 314.705824 184.311912 \nL 317.780204 184.410795 \nL 320.854584 185.307327 \nL 323.928964 186.965044 \nL 327.003345 189.316521 \nL 330.077725 192.266114 \nL 333.152105 195.693854 \nL 336.226485 199.460321 \nL 339.300865 203.41232 \nL 342.375245 207.38911 \nL 345.449626 211.228941 \nL 348.524006 214.775632 \n\" style=\"fill:none;stroke:#ff7f0e;stroke-linecap:square;stroke-width:1.5;\"/>\n   </g>\n   <g id=\"patch_3\">\n    <path d=\"M 28.942188 253.44 \nL 28.942188 36 \n\" style=\"fill:none;stroke:#000000;stroke-linecap:square;stroke-linejoin:miter;stroke-width:0.8;\"/>\n   </g>\n   <g id=\"patch_4\">\n    <path d=\"M 363.742188 253.44 \nL 363.742188 36 \n\" style=\"fill:none;stroke:#000000;stroke-linecap:square;stroke-linejoin:miter;stroke-width:0.8;\"/>\n   </g>\n   <g id=\"patch_5\">\n    <path d=\"M 28.942188 253.44 \nL 363.742188 253.44 \n\" style=\"fill:none;stroke:#000000;stroke-linecap:square;stroke-linejoin:miter;stroke-width:0.8;\"/>\n   </g>\n   <g id=\"patch_6\">\n    <path d=\"M 28.942188 36 \nL 363.742188 36 \n\" style=\"fill:none;stroke:#000000;stroke-linecap:square;stroke-linejoin:miter;stroke-width:0.8;\"/>\n   </g>\n  </g>\n  <g id=\"text_16\">\n   <!-- Visualizing functions -->\n   <defs>\n    <path d=\"M 28.609375 0 \nL 0.78125 72.90625 \nL 11.078125 72.90625 \nL 34.1875 11.53125 \nL 57.328125 72.90625 \nL 67.578125 72.90625 \nL 39.796875 0 \nz\n\" id=\"DejaVuSans-86\"/>\n    <path d=\"M 9.421875 54.6875 \nL 18.40625 54.6875 \nL 18.40625 0 \nL 9.421875 0 \nz\nM 9.421875 75.984375 \nL 18.40625 75.984375 \nL 18.40625 64.59375 \nL 9.421875 64.59375 \nz\n\" id=\"DejaVuSans-105\"/>\n    <path d=\"M 44.28125 53.078125 \nL 44.28125 44.578125 \nQ 40.484375 46.53125 36.375 47.5 \nQ 32.28125 48.484375 27.875 48.484375 \nQ 21.1875 48.484375 17.84375 46.4375 \nQ 14.5 44.390625 14.5 40.28125 \nQ 14.5 37.15625 16.890625 35.375 \nQ 19.28125 33.59375 26.515625 31.984375 \nL 29.59375 31.296875 \nQ 39.15625 29.25 43.1875 25.515625 \nQ 47.21875 21.78125 47.21875 15.09375 \nQ 47.21875 7.46875 41.1875 3.015625 \nQ 35.15625 -1.421875 24.609375 -1.421875 \nQ 20.21875 -1.421875 15.453125 -0.5625 \nQ 10.6875 0.296875 5.421875 2 \nL 5.421875 11.28125 \nQ 10.40625 8.6875 15.234375 7.390625 \nQ 20.0625 6.109375 24.8125 6.109375 \nQ 31.15625 6.109375 34.5625 8.28125 \nQ 37.984375 10.453125 37.984375 14.40625 \nQ 37.984375 18.0625 35.515625 20.015625 \nQ 33.0625 21.96875 24.703125 23.78125 \nL 21.578125 24.515625 \nQ 13.234375 26.265625 9.515625 29.90625 \nQ 5.8125 33.546875 5.8125 39.890625 \nQ 5.8125 47.609375 11.28125 51.796875 \nQ 16.75 56 26.8125 56 \nQ 31.78125 56 36.171875 55.265625 \nQ 40.578125 54.546875 44.28125 53.078125 \nz\n\" id=\"DejaVuSans-115\"/>\n    <path d=\"M 8.5 21.578125 \nL 8.5 54.6875 \nL 17.484375 54.6875 \nL 17.484375 21.921875 \nQ 17.484375 14.15625 20.5 10.265625 \nQ 23.53125 6.390625 29.59375 6.390625 \nQ 36.859375 6.390625 41.078125 11.03125 \nQ 45.3125 15.671875 45.3125 23.6875 \nL 45.3125 54.6875 \nL 54.296875 54.6875 \nL 54.296875 0 \nL 45.3125 0 \nL 45.3125 8.40625 \nQ 42.046875 3.421875 37.71875 1 \nQ 33.40625 -1.421875 27.6875 -1.421875 \nQ 18.265625 -1.421875 13.375 4.4375 \nQ 8.5 10.296875 8.5 21.578125 \nz\nM 31.109375 56 \nz\n\" id=\"DejaVuSans-117\"/>\n    <path d=\"M 34.28125 27.484375 \nQ 23.390625 27.484375 19.1875 25 \nQ 14.984375 22.515625 14.984375 16.5 \nQ 14.984375 11.71875 18.140625 8.90625 \nQ 21.296875 6.109375 26.703125 6.109375 \nQ 34.1875 6.109375 38.703125 11.40625 \nQ 43.21875 16.703125 43.21875 25.484375 \nL 43.21875 27.484375 \nz\nM 52.203125 31.203125 \nL 52.203125 0 \nL 43.21875 0 \nL 43.21875 8.296875 \nQ 40.140625 3.328125 35.546875 0.953125 \nQ 30.953125 -1.421875 24.3125 -1.421875 \nQ 15.921875 -1.421875 10.953125 3.296875 \nQ 6 8.015625 6 15.921875 \nQ 6 25.140625 12.171875 29.828125 \nQ 18.359375 34.515625 30.609375 34.515625 \nL 43.21875 34.515625 \nL 43.21875 35.40625 \nQ 43.21875 41.609375 39.140625 45 \nQ 35.0625 48.390625 27.6875 48.390625 \nQ 23 48.390625 18.546875 47.265625 \nQ 14.109375 46.140625 10.015625 43.890625 \nL 10.015625 52.203125 \nQ 14.9375 54.109375 19.578125 55.046875 \nQ 24.21875 56 28.609375 56 \nQ 40.484375 56 46.34375 49.84375 \nQ 52.203125 43.703125 52.203125 31.203125 \nz\n\" id=\"DejaVuSans-97\"/>\n    <path d=\"M 9.421875 75.984375 \nL 18.40625 75.984375 \nL 18.40625 0 \nL 9.421875 0 \nz\n\" id=\"DejaVuSans-108\"/>\n    <path d=\"M 5.515625 54.6875 \nL 48.1875 54.6875 \nL 48.1875 46.484375 \nL 14.40625 7.171875 \nL 48.1875 7.171875 \nL 48.1875 0 \nL 4.296875 0 \nL 4.296875 8.203125 \nL 38.09375 47.515625 \nL 5.515625 47.515625 \nz\n\" id=\"DejaVuSans-122\"/>\n    <path d=\"M 54.890625 33.015625 \nL 54.890625 0 \nL 45.90625 0 \nL 45.90625 32.71875 \nQ 45.90625 40.484375 42.875 44.328125 \nQ 39.84375 48.1875 33.796875 48.1875 \nQ 26.515625 48.1875 22.3125 43.546875 \nQ 18.109375 38.921875 18.109375 30.90625 \nL 18.109375 0 \nL 9.078125 0 \nL 9.078125 54.6875 \nL 18.109375 54.6875 \nL 18.109375 46.1875 \nQ 21.34375 51.125 25.703125 53.5625 \nQ 30.078125 56 35.796875 56 \nQ 45.21875 56 50.046875 50.171875 \nQ 54.890625 44.34375 54.890625 33.015625 \nz\n\" id=\"DejaVuSans-110\"/>\n    <path d=\"M 45.40625 27.984375 \nQ 45.40625 37.75 41.375 43.109375 \nQ 37.359375 48.484375 30.078125 48.484375 \nQ 22.859375 48.484375 18.828125 43.109375 \nQ 14.796875 37.75 14.796875 27.984375 \nQ 14.796875 18.265625 18.828125 12.890625 \nQ 22.859375 7.515625 30.078125 7.515625 \nQ 37.359375 7.515625 41.375 12.890625 \nQ 45.40625 18.265625 45.40625 27.984375 \nz\nM 54.390625 6.78125 \nQ 54.390625 -7.171875 48.1875 -13.984375 \nQ 42 -20.796875 29.203125 -20.796875 \nQ 24.46875 -20.796875 20.265625 -20.09375 \nQ 16.0625 -19.390625 12.109375 -17.921875 \nL 12.109375 -9.1875 \nQ 16.0625 -11.328125 19.921875 -12.34375 \nQ 23.78125 -13.375 27.78125 -13.375 \nQ 36.625 -13.375 41.015625 -8.765625 \nQ 45.40625 -4.15625 45.40625 5.171875 \nL 45.40625 9.625 \nQ 42.625 4.78125 38.28125 2.390625 \nQ 33.9375 0 27.875 0 \nQ 17.828125 0 11.671875 7.65625 \nQ 5.515625 15.328125 5.515625 27.984375 \nQ 5.515625 40.671875 11.671875 48.328125 \nQ 17.828125 56 27.875 56 \nQ 33.9375 56 38.28125 53.609375 \nQ 42.625 51.21875 45.40625 46.390625 \nL 45.40625 54.6875 \nL 54.390625 54.6875 \nz\n\" id=\"DejaVuSans-103\"/>\n    <path id=\"DejaVuSans-32\"/>\n    <path d=\"M 37.109375 75.984375 \nL 37.109375 68.5 \nL 28.515625 68.5 \nQ 23.6875 68.5 21.796875 66.546875 \nQ 19.921875 64.59375 19.921875 59.515625 \nL 19.921875 54.6875 \nL 34.71875 54.6875 \nL 34.71875 47.703125 \nL 19.921875 47.703125 \nL 19.921875 0 \nL 10.890625 0 \nL 10.890625 47.703125 \nL 2.296875 47.703125 \nL 2.296875 54.6875 \nL 10.890625 54.6875 \nL 10.890625 58.5 \nQ 10.890625 67.625 15.140625 71.796875 \nQ 19.390625 75.984375 28.609375 75.984375 \nz\n\" id=\"DejaVuSans-102\"/>\n    <path d=\"M 48.78125 52.59375 \nL 48.78125 44.1875 \nQ 44.96875 46.296875 41.140625 47.34375 \nQ 37.3125 48.390625 33.40625 48.390625 \nQ 24.65625 48.390625 19.8125 42.84375 \nQ 14.984375 37.3125 14.984375 27.296875 \nQ 14.984375 17.28125 19.8125 11.734375 \nQ 24.65625 6.203125 33.40625 6.203125 \nQ 37.3125 6.203125 41.140625 7.25 \nQ 44.96875 8.296875 48.78125 10.40625 \nL 48.78125 2.09375 \nQ 45.015625 0.34375 40.984375 -0.53125 \nQ 36.96875 -1.421875 32.421875 -1.421875 \nQ 20.0625 -1.421875 12.78125 6.34375 \nQ 5.515625 14.109375 5.515625 27.296875 \nQ 5.515625 40.671875 12.859375 48.328125 \nQ 20.21875 56 33.015625 56 \nQ 37.15625 56 41.109375 55.140625 \nQ 45.0625 54.296875 48.78125 52.59375 \nz\n\" id=\"DejaVuSans-99\"/>\n    <path d=\"M 18.3125 70.21875 \nL 18.3125 54.6875 \nL 36.8125 54.6875 \nL 36.8125 47.703125 \nL 18.3125 47.703125 \nL 18.3125 18.015625 \nQ 18.3125 11.328125 20.140625 9.421875 \nQ 21.96875 7.515625 27.59375 7.515625 \nL 36.8125 7.515625 \nL 36.8125 0 \nL 27.59375 0 \nQ 17.1875 0 13.234375 3.875 \nQ 9.28125 7.765625 9.28125 18.015625 \nL 9.28125 47.703125 \nL 2.6875 47.703125 \nL 2.6875 54.6875 \nL 9.28125 54.6875 \nL 9.28125 70.21875 \nz\n\" id=\"DejaVuSans-116\"/>\n    <path d=\"M 30.609375 48.390625 \nQ 23.390625 48.390625 19.1875 42.75 \nQ 14.984375 37.109375 14.984375 27.296875 \nQ 14.984375 17.484375 19.15625 11.84375 \nQ 23.34375 6.203125 30.609375 6.203125 \nQ 37.796875 6.203125 41.984375 11.859375 \nQ 46.1875 17.53125 46.1875 27.296875 \nQ 46.1875 37.015625 41.984375 42.703125 \nQ 37.796875 48.390625 30.609375 48.390625 \nz\nM 30.609375 56 \nQ 42.328125 56 49.015625 48.375 \nQ 55.71875 40.765625 55.71875 27.296875 \nQ 55.71875 13.875 49.015625 6.21875 \nQ 42.328125 -1.421875 30.609375 -1.421875 \nQ 18.84375 -1.421875 12.171875 6.21875 \nQ 5.515625 13.875 5.515625 27.296875 \nQ 5.515625 40.765625 12.171875 48.375 \nQ 18.84375 56 30.609375 56 \nz\n\" id=\"DejaVuSans-111\"/>\n   </defs>\n   <g transform=\"translate(108.883437 19.3575)scale(0.16 -0.16)\">\n    <use xlink:href=\"#DejaVuSans-86\"/>\n    <use x=\"66.158203\" xlink:href=\"#DejaVuSans-105\"/>\n    <use x=\"93.941406\" xlink:href=\"#DejaVuSans-115\"/>\n    <use x=\"146.041016\" xlink:href=\"#DejaVuSans-117\"/>\n    <use x=\"209.419922\" xlink:href=\"#DejaVuSans-97\"/>\n    <use x=\"270.699219\" xlink:href=\"#DejaVuSans-108\"/>\n    <use x=\"298.482422\" xlink:href=\"#DejaVuSans-105\"/>\n    <use x=\"326.265625\" xlink:href=\"#DejaVuSans-122\"/>\n    <use x=\"378.755859\" xlink:href=\"#DejaVuSans-105\"/>\n    <use x=\"406.539062\" xlink:href=\"#DejaVuSans-110\"/>\n    <use x=\"469.917969\" xlink:href=\"#DejaVuSans-103\"/>\n    <use x=\"533.394531\" xlink:href=\"#DejaVuSans-32\"/>\n    <use x=\"565.181641\" xlink:href=\"#DejaVuSans-102\"/>\n    <use x=\"600.386719\" xlink:href=\"#DejaVuSans-117\"/>\n    <use x=\"663.765625\" xlink:href=\"#DejaVuSans-110\"/>\n    <use x=\"727.144531\" xlink:href=\"#DejaVuSans-99\"/>\n    <use x=\"782.125\" xlink:href=\"#DejaVuSans-116\"/>\n    <use x=\"821.333984\" xlink:href=\"#DejaVuSans-105\"/>\n    <use x=\"849.117188\" xlink:href=\"#DejaVuSans-111\"/>\n    <use x=\"910.298828\" xlink:href=\"#DejaVuSans-110\"/>\n    <use x=\"973.677734\" xlink:href=\"#DejaVuSans-115\"/>\n   </g>\n  </g>\n </g>\n <defs>\n  <clipPath id=\"p3b910ef9bf\">\n   <rect height=\"217.44\" width=\"334.8\" x=\"28.942188\" y=\"36\"/>\n  </clipPath>\n </defs>\n</svg>\n",
      "image/png": "[encoded data removed]"
     },
     "metadata": {
      "needs_background": "light"
     }
    }
   ],
   "source": [
    "# see https://matplotlib.org/3.3.2/gallery/subplots_axes_and_figures/\n",
    "import numpy as np\n",
    "import matplotlib.pyplot as plt \n",
    "from math import sin\n",
    "\n",
    "def f(x):\n",
    "    return 0.5 * x + 3\n",
    "\n",
    "def g(x):\n",
    "    return sin(x)\n",
    "\n",
    "def plot(functions, xmin, xmax, title=None):\n",
    "    xs = np.linspace(xmin, xmax, 100)\n",
    "    fig, ax = plt.subplots()\n",
    "    ax.axhline(y=0, color='k')\n",
    "    ax.axvline(x=0, color='k')\n",
    "    if title:\n",
    "        fig.suptitle(title, fontsize=16)\n",
    "    for f in functions:\n",
    "        ys = [f(x) for x in xs]\n",
    "        plt.plot(xs, ys)\n",
    "\n",
    "plot([f, g], -10, 10, title=\"Visualizing functions\")"
   ]
  },
  {
   "source": [
    "Algebraically, we can add functions by adding the expressions that define them:\n",
    "\n",
    "$\n",
    "f(x) = 0.5 \\cdot x + 3 \\\\\n",
    "g(x) = sin(x)\\\\\n",
    "(f + g)(x) = f(x) + g(x) = 0.5 \\cdot x + 3 + sin(x)\n",
    "$\n",
    "\n",
    "Visually, we would do:"
   ],
   "cell_type": "markdown",
   "metadata": {}
  },
  {
   "cell_type": "code",
   "execution_count": 21,
   "metadata": {},
   "outputs": [
    {
     "output_type": "display_data",
     "data": {
      "text/plain": "<Figure size 432x288 with 1 Axes>",
      "image/svg+xml": "<?xml version=\"1.0\" encoding=\"utf-8\" standalone=\"no\"?>\n<!DOCTYPE svg PUBLIC \"-//W3C//DTD SVG 1.1//EN\"\n  \"http://www.w3.org/Graphics/SVG/1.1/DTD/svg11.dtd\">\n<!-- Created with matplotlib (https://matplotlib.org/) -->\n<svg height=\"277.318125pt\" version=\"1.1\" viewBox=\"0 0 370.942187 277.318125\" width=\"370.942187pt\" xmlns=\"http://www.w3.org/2000/svg\" xmlns:xlink=\"http://www.w3.org/1999/xlink\">\n <defs>\n  <style type=\"text/css\">\n*{stroke-linecap:butt;stroke-linejoin:round;}\n  </style>\n </defs>\n <g id=\"figure_1\">\n  <g id=\"patch_1\">\n   <path d=\"M 0 277.318125 \nL 370.942187 277.318125 \nL 370.942187 0 \nL 0 0 \nz\n\" style=\"fill:none;\"/>\n  </g>\n  <g id=\"axes_1\">\n   <g id=\"patch_2\">\n    <path d=\"M 28.942188 253.44 \nL 363.742188 253.44 \nL 363.742188 36 \nL 28.942188 36 \nz\n\" style=\"fill:#ffffff;\"/>\n   </g>\n   <g id=\"matplotlib.axis_1\">\n    <g id=\"xtick_1\">\n     <g id=\"line2d_1\">\n      <defs>\n       <path d=\"M 0 0 \nL 0 3.5 \n\" id=\"mf0f6b7ee9f\" style=\"stroke:#000000;stroke-width:0.8;\"/>\n      </defs>\n      <g>\n       <use style=\"stroke:#000000;stroke-width:0.8;\" x=\"44.160369\" xlink:href=\"#mf0f6b7ee9f\" y=\"253.44\"/>\n      </g>\n     </g>\n     <g id=\"text_1\">\n      <!-- −10.0 -->\n      <defs>\n       <path d=\"M 10.59375 35.5 \nL 73.1875 35.5 \nL 73.1875 27.203125 \nL 10.59375 27.203125 \nz\n\" id=\"DejaVuSans-8722\"/>\n       <path d=\"M 12.40625 8.296875 \nL 28.515625 8.296875 \nL 28.515625 63.921875 \nL 10.984375 60.40625 \nL 10.984375 69.390625 \nL 28.421875 72.90625 \nL 38.28125 72.90625 \nL 38.28125 8.296875 \nL 54.390625 8.296875 \nL 54.390625 0 \nL 12.40625 0 \nz\n\" id=\"DejaVuSans-49\"/>\n       <path d=\"M 31.78125 66.40625 \nQ 24.171875 66.40625 20.328125 58.90625 \nQ 16.5 51.421875 16.5 36.375 \nQ 16.5 21.390625 20.328125 13.890625 \nQ 24.171875 6.390625 31.78125 6.390625 \nQ 39.453125 6.390625 43.28125 13.890625 \nQ 47.125 21.390625 47.125 36.375 \nQ 47.125 51.421875 43.28125 58.90625 \nQ 39.453125 66.40625 31.78125 66.40625 \nz\nM 31.78125 74.21875 \nQ 44.046875 74.21875 50.515625 64.515625 \nQ 56.984375 54.828125 56.984375 36.375 \nQ 56.984375 17.96875 50.515625 8.265625 \nQ 44.046875 -1.421875 31.78125 -1.421875 \nQ 19.53125 -1.421875 13.0625 8.265625 \nQ 6.59375 17.96875 6.59375 36.375 \nQ 6.59375 54.828125 13.0625 64.515625 \nQ 19.53125 74.21875 31.78125 74.21875 \nz\n\" id=\"DejaVuSans-48\"/>\n       <path d=\"M 10.6875 12.40625 \nL 21 12.40625 \nL 21 0 \nL 10.6875 0 \nz\n\" id=\"DejaVuSans-46\"/>\n      </defs>\n      <g transform=\"translate(28.837713 268.038437)scale(0.1 -0.1)\">\n       <use xlink:href=\"#DejaVuSans-8722\"/>\n       <use x=\"83.789062\" xlink:href=\"#DejaVuSans-49\"/>\n       <use x=\"147.412109\" xlink:href=\"#DejaVuSans-48\"/>\n       <use x=\"211.035156\" xlink:href=\"#DejaVuSans-46\"/>\n       <use x=\"242.822266\" xlink:href=\"#DejaVuSans-48\"/>\n      </g>\n     </g>\n    </g>\n    <g id=\"xtick_2\">\n     <g id=\"line2d_2\">\n      <g>\n       <use style=\"stroke:#000000;stroke-width:0.8;\" x=\"82.205824\" xlink:href=\"#mf0f6b7ee9f\" y=\"253.44\"/>\n      </g>\n     </g>\n     <g id=\"text_2\">\n      <!-- −7.5 -->\n      <defs>\n       <path d=\"M 8.203125 72.90625 \nL 55.078125 72.90625 \nL 55.078125 68.703125 \nL 28.609375 0 \nL 18.3125 0 \nL 43.21875 64.59375 \nL 8.203125 64.59375 \nz\n\" id=\"DejaVuSans-55\"/>\n       <path d=\"M 10.796875 72.90625 \nL 49.515625 72.90625 \nL 49.515625 64.59375 \nL 19.828125 64.59375 \nL 19.828125 46.734375 \nQ 21.96875 47.46875 24.109375 47.828125 \nQ 26.265625 48.1875 28.421875 48.1875 \nQ 40.625 48.1875 47.75 41.5 \nQ 54.890625 34.8125 54.890625 23.390625 \nQ 54.890625 11.625 47.5625 5.09375 \nQ 40.234375 -1.421875 26.90625 -1.421875 \nQ 22.3125 -1.421875 17.546875 -0.640625 \nQ 12.796875 0.140625 7.71875 1.703125 \nL 7.71875 11.625 \nQ 12.109375 9.234375 16.796875 8.0625 \nQ 21.484375 6.890625 26.703125 6.890625 \nQ 35.15625 6.890625 40.078125 11.328125 \nQ 45.015625 15.765625 45.015625 23.390625 \nQ 45.015625 31 40.078125 35.4375 \nQ 35.15625 39.890625 26.703125 39.890625 \nQ 22.75 39.890625 18.8125 39.015625 \nQ 14.890625 38.140625 10.796875 36.28125 \nz\n\" id=\"DejaVuSans-53\"/>\n      </defs>\n      <g transform=\"translate(70.064418 268.038437)scale(0.1 -0.1)\">\n       <use xlink:href=\"#DejaVuSans-8722\"/>\n       <use x=\"83.789062\" xlink:href=\"#DejaVuSans-55\"/>\n       <use x=\"147.412109\" xlink:href=\"#DejaVuSans-46\"/>\n       <use x=\"179.199219\" xlink:href=\"#DejaVuSans-53\"/>\n      </g>\n     </g>\n    </g>\n    <g id=\"xtick_3\">\n     <g id=\"line2d_3\">\n      <g>\n       <use style=\"stroke:#000000;stroke-width:0.8;\" x=\"120.251278\" xlink:href=\"#mf0f6b7ee9f\" y=\"253.44\"/>\n      </g>\n     </g>\n     <g id=\"text_3\">\n      <!-- −5.0 -->\n      <g transform=\"translate(108.109872 268.038437)scale(0.1 -0.1)\">\n       <use xlink:href=\"#DejaVuSans-8722\"/>\n       <use x=\"83.789062\" xlink:href=\"#DejaVuSans-53\"/>\n       <use x=\"147.412109\" xlink:href=\"#DejaVuSans-46\"/>\n       <use x=\"179.199219\" xlink:href=\"#DejaVuSans-48\"/>\n      </g>\n     </g>\n    </g>\n    <g id=\"xtick_4\">\n     <g id=\"line2d_4\">\n      <g>\n       <use style=\"stroke:#000000;stroke-width:0.8;\" x=\"158.296733\" xlink:href=\"#mf0f6b7ee9f\" y=\"253.44\"/>\n      </g>\n     </g>\n     <g id=\"text_4\">\n      <!-- −2.5 -->\n      <defs>\n       <path d=\"M 19.1875 8.296875 \nL 53.609375 8.296875 \nL 53.609375 0 \nL 7.328125 0 \nL 7.328125 8.296875 \nQ 12.9375 14.109375 22.625 23.890625 \nQ 32.328125 33.6875 34.8125 36.53125 \nQ 39.546875 41.84375 41.421875 45.53125 \nQ 43.3125 49.21875 43.3125 52.78125 \nQ 43.3125 58.59375 39.234375 62.25 \nQ 35.15625 65.921875 28.609375 65.921875 \nQ 23.96875 65.921875 18.8125 64.3125 \nQ 13.671875 62.703125 7.8125 59.421875 \nL 7.8125 69.390625 \nQ 13.765625 71.78125 18.9375 73 \nQ 24.125 74.21875 28.421875 74.21875 \nQ 39.75 74.21875 46.484375 68.546875 \nQ 53.21875 62.890625 53.21875 53.421875 \nQ 53.21875 48.921875 51.53125 44.890625 \nQ 49.859375 40.875 45.40625 35.40625 \nQ 44.1875 33.984375 37.640625 27.21875 \nQ 31.109375 20.453125 19.1875 8.296875 \nz\n\" id=\"DejaVuSans-50\"/>\n      </defs>\n      <g transform=\"translate(146.155327 268.038437)scale(0.1 -0.1)\">\n       <use xlink:href=\"#DejaVuSans-8722\"/>\n       <use x=\"83.789062\" xlink:href=\"#DejaVuSans-50\"/>\n       <use x=\"147.412109\" xlink:href=\"#DejaVuSans-46\"/>\n       <use x=\"179.199219\" xlink:href=\"#DejaVuSans-53\"/>\n      </g>\n     </g>\n    </g>\n    <g id=\"xtick_5\">\n     <g id=\"line2d_5\">\n      <g>\n       <use style=\"stroke:#000000;stroke-width:0.8;\" x=\"196.342188\" xlink:href=\"#mf0f6b7ee9f\" y=\"253.44\"/>\n      </g>\n     </g>\n     <g id=\"text_5\">\n      <!-- 0.0 -->\n      <g transform=\"translate(188.390625 268.038437)scale(0.1 -0.1)\">\n       <use xlink:href=\"#DejaVuSans-48\"/>\n       <use x=\"63.623047\" xlink:href=\"#DejaVuSans-46\"/>\n       <use x=\"95.410156\" xlink:href=\"#DejaVuSans-48\"/>\n      </g>\n     </g>\n    </g>\n    <g id=\"xtick_6\">\n     <g id=\"line2d_6\">\n      <g>\n       <use style=\"stroke:#000000;stroke-width:0.8;\" x=\"234.387642\" xlink:href=\"#mf0f6b7ee9f\" y=\"253.44\"/>\n      </g>\n     </g>\n     <g id=\"text_6\">\n      <!-- 2.5 -->\n      <g transform=\"translate(226.43608 268.038437)scale(0.1 -0.1)\">\n       <use xlink:href=\"#DejaVuSans-50\"/>\n       <use x=\"63.623047\" xlink:href=\"#DejaVuSans-46\"/>\n       <use x=\"95.410156\" xlink:href=\"#DejaVuSans-53\"/>\n      </g>\n     </g>\n    </g>\n    <g id=\"xtick_7\">\n     <g id=\"line2d_7\">\n      <g>\n       <use style=\"stroke:#000000;stroke-width:0.8;\" x=\"272.433097\" xlink:href=\"#mf0f6b7ee9f\" y=\"253.44\"/>\n      </g>\n     </g>\n     <g id=\"text_7\">\n      <!-- 5.0 -->\n      <g transform=\"translate(264.481534 268.038437)scale(0.1 -0.1)\">\n       <use xlink:href=\"#DejaVuSans-53\"/>\n       <use x=\"63.623047\" xlink:href=\"#DejaVuSans-46\"/>\n       <use x=\"95.410156\" xlink:href=\"#DejaVuSans-48\"/>\n      </g>\n     </g>\n    </g>\n    <g id=\"xtick_8\">\n     <g id=\"line2d_8\">\n      <g>\n       <use style=\"stroke:#000000;stroke-width:0.8;\" x=\"310.478551\" xlink:href=\"#mf0f6b7ee9f\" y=\"253.44\"/>\n      </g>\n     </g>\n     <g id=\"text_8\">\n      <!-- 7.5 -->\n      <g transform=\"translate(302.526989 268.038437)scale(0.1 -0.1)\">\n       <use xlink:href=\"#DejaVuSans-55\"/>\n       <use x=\"63.623047\" xlink:href=\"#DejaVuSans-46\"/>\n       <use x=\"95.410156\" xlink:href=\"#DejaVuSans-53\"/>\n      </g>\n     </g>\n    </g>\n    <g id=\"xtick_9\">\n     <g id=\"line2d_9\">\n      <g>\n       <use style=\"stroke:#000000;stroke-width:0.8;\" x=\"348.524006\" xlink:href=\"#mf0f6b7ee9f\" y=\"253.44\"/>\n      </g>\n     </g>\n     <g id=\"text_9\">\n      <!-- 10.0 -->\n      <g transform=\"translate(337.391193 268.038437)scale(0.1 -0.1)\">\n       <use xlink:href=\"#DejaVuSans-49\"/>\n       <use x=\"63.623047\" xlink:href=\"#DejaVuSans-48\"/>\n       <use x=\"127.246094\" xlink:href=\"#DejaVuSans-46\"/>\n       <use x=\"159.033203\" xlink:href=\"#DejaVuSans-48\"/>\n      </g>\n     </g>\n    </g>\n   </g>\n   <g id=\"matplotlib.axis_2\">\n    <g id=\"ytick_1\">\n     <g id=\"line2d_10\">\n      <defs>\n       <path d=\"M 0 0 \nL -3.5 0 \n\" id=\"m2c8c9a2305\" style=\"stroke:#000000;stroke-width:0.8;\"/>\n      </defs>\n      <g>\n       <use style=\"stroke:#000000;stroke-width:0.8;\" x=\"28.942188\" xlink:href=\"#m2c8c9a2305\" y=\"242.484886\"/>\n      </g>\n     </g>\n     <g id=\"text_10\">\n      <!-- −2 -->\n      <g transform=\"translate(7.2 246.284105)scale(0.1 -0.1)\">\n       <use xlink:href=\"#DejaVuSans-8722\"/>\n       <use x=\"83.789062\" xlink:href=\"#DejaVuSans-50\"/>\n      </g>\n     </g>\n    </g>\n    <g id=\"ytick_2\">\n     <g id=\"line2d_11\">\n      <g>\n       <use style=\"stroke:#000000;stroke-width:0.8;\" x=\"28.942188\" xlink:href=\"#m2c8c9a2305\" y=\"203.378932\"/>\n      </g>\n     </g>\n     <g id=\"text_11\">\n      <!-- 0 -->\n      <g transform=\"translate(15.579688 207.178151)scale(0.1 -0.1)\">\n       <use xlink:href=\"#DejaVuSans-48\"/>\n      </g>\n     </g>\n    </g>\n    <g id=\"ytick_3\">\n     <g id=\"line2d_12\">\n      <g>\n       <use style=\"stroke:#000000;stroke-width:0.8;\" x=\"28.942188\" xlink:href=\"#m2c8c9a2305\" y=\"164.272977\"/>\n      </g>\n     </g>\n     <g id=\"text_12\">\n      <!-- 2 -->\n      <g transform=\"translate(15.579688 168.072196)scale(0.1 -0.1)\">\n       <use xlink:href=\"#DejaVuSans-50\"/>\n      </g>\n     </g>\n    </g>\n    <g id=\"ytick_4\">\n     <g id=\"line2d_13\">\n      <g>\n       <use style=\"stroke:#000000;stroke-width:0.8;\" x=\"28.942188\" xlink:href=\"#m2c8c9a2305\" y=\"125.167023\"/>\n      </g>\n     </g>\n     <g id=\"text_13\">\n      <!-- 4 -->\n      <defs>\n       <path d=\"M 37.796875 64.3125 \nL 12.890625 25.390625 \nL 37.796875 25.390625 \nz\nM 35.203125 72.90625 \nL 47.609375 72.90625 \nL 47.609375 25.390625 \nL 58.015625 25.390625 \nL 58.015625 17.1875 \nL 47.609375 17.1875 \nL 47.609375 0 \nL 37.796875 0 \nL 37.796875 17.1875 \nL 4.890625 17.1875 \nL 4.890625 26.703125 \nz\n\" id=\"DejaVuSans-52\"/>\n      </defs>\n      <g transform=\"translate(15.579688 128.966241)scale(0.1 -0.1)\">\n       <use xlink:href=\"#DejaVuSans-52\"/>\n      </g>\n     </g>\n    </g>\n    <g id=\"ytick_5\">\n     <g id=\"line2d_14\">\n      <g>\n       <use style=\"stroke:#000000;stroke-width:0.8;\" x=\"28.942188\" xlink:href=\"#m2c8c9a2305\" y=\"86.061068\"/>\n      </g>\n     </g>\n     <g id=\"text_14\">\n      <!-- 6 -->\n      <defs>\n       <path d=\"M 33.015625 40.375 \nQ 26.375 40.375 22.484375 35.828125 \nQ 18.609375 31.296875 18.609375 23.390625 \nQ 18.609375 15.53125 22.484375 10.953125 \nQ 26.375 6.390625 33.015625 6.390625 \nQ 39.65625 6.390625 43.53125 10.953125 \nQ 47.40625 15.53125 47.40625 23.390625 \nQ 47.40625 31.296875 43.53125 35.828125 \nQ 39.65625 40.375 33.015625 40.375 \nz\nM 52.59375 71.296875 \nL 52.59375 62.3125 \nQ 48.875 64.0625 45.09375 64.984375 \nQ 41.3125 65.921875 37.59375 65.921875 \nQ 27.828125 65.921875 22.671875 59.328125 \nQ 17.53125 52.734375 16.796875 39.40625 \nQ 19.671875 43.65625 24.015625 45.921875 \nQ 28.375 48.1875 33.59375 48.1875 \nQ 44.578125 48.1875 50.953125 41.515625 \nQ 57.328125 34.859375 57.328125 23.390625 \nQ 57.328125 12.15625 50.6875 5.359375 \nQ 44.046875 -1.421875 33.015625 -1.421875 \nQ 20.359375 -1.421875 13.671875 8.265625 \nQ 6.984375 17.96875 6.984375 36.375 \nQ 6.984375 53.65625 15.1875 63.9375 \nQ 23.390625 74.21875 37.203125 74.21875 \nQ 40.921875 74.21875 44.703125 73.484375 \nQ 48.484375 72.75 52.59375 71.296875 \nz\n\" id=\"DejaVuSans-54\"/>\n      </defs>\n      <g transform=\"translate(15.579688 89.860287)scale(0.1 -0.1)\">\n       <use xlink:href=\"#DejaVuSans-54\"/>\n      </g>\n     </g>\n    </g>\n    <g id=\"ytick_6\">\n     <g id=\"line2d_15\">\n      <g>\n       <use style=\"stroke:#000000;stroke-width:0.8;\" x=\"28.942188\" xlink:href=\"#m2c8c9a2305\" y=\"46.955114\"/>\n      </g>\n     </g>\n     <g id=\"text_15\">\n      <!-- 8 -->\n      <defs>\n       <path d=\"M 31.78125 34.625 \nQ 24.75 34.625 20.71875 30.859375 \nQ 16.703125 27.09375 16.703125 20.515625 \nQ 16.703125 13.921875 20.71875 10.15625 \nQ 24.75 6.390625 31.78125 6.390625 \nQ 38.8125 6.390625 42.859375 10.171875 \nQ 46.921875 13.96875 46.921875 20.515625 \nQ 46.921875 27.09375 42.890625 30.859375 \nQ 38.875 34.625 31.78125 34.625 \nz\nM 21.921875 38.8125 \nQ 15.578125 40.375 12.03125 44.71875 \nQ 8.5 49.078125 8.5 55.328125 \nQ 8.5 64.0625 14.71875 69.140625 \nQ 20.953125 74.21875 31.78125 74.21875 \nQ 42.671875 74.21875 48.875 69.140625 \nQ 55.078125 64.0625 55.078125 55.328125 \nQ 55.078125 49.078125 51.53125 44.71875 \nQ 48 40.375 41.703125 38.8125 \nQ 48.828125 37.15625 52.796875 32.3125 \nQ 56.78125 27.484375 56.78125 20.515625 \nQ 56.78125 9.90625 50.3125 4.234375 \nQ 43.84375 -1.421875 31.78125 -1.421875 \nQ 19.734375 -1.421875 13.25 4.234375 \nQ 6.78125 9.90625 6.78125 20.515625 \nQ 6.78125 27.484375 10.78125 32.3125 \nQ 14.796875 37.15625 21.921875 38.8125 \nz\nM 18.3125 54.390625 \nQ 18.3125 48.734375 21.84375 45.5625 \nQ 25.390625 42.390625 31.78125 42.390625 \nQ 38.140625 42.390625 41.71875 45.5625 \nQ 45.3125 48.734375 45.3125 54.390625 \nQ 45.3125 60.0625 41.71875 63.234375 \nQ 38.140625 66.40625 31.78125 66.40625 \nQ 25.390625 66.40625 21.84375 63.234375 \nQ 18.3125 60.0625 18.3125 54.390625 \nz\n\" id=\"DejaVuSans-56\"/>\n      </defs>\n      <g transform=\"translate(15.579688 50.754332)scale(0.1 -0.1)\">\n       <use xlink:href=\"#DejaVuSans-56\"/>\n      </g>\n     </g>\n    </g>\n   </g>\n   <g id=\"line2d_16\">\n    <path clip-path=\"url(#p227e8255b0)\" d=\"M 28.942188 203.378932 \nL 363.742188 203.378932 \n\" style=\"fill:none;stroke:#000000;stroke-linecap:square;stroke-width:1.5;\"/>\n   </g>\n   <g id=\"line2d_17\">\n    <path clip-path=\"url(#p227e8255b0)\" d=\"M 196.342188 253.44 \nL 196.342188 36 \n\" style=\"fill:none;stroke:#000000;stroke-linecap:square;stroke-width:1.5;\"/>\n   </g>\n   <g id=\"line2d_18\">\n    <path clip-path=\"url(#p227e8255b0)\" d=\"M 44.160369 242.484886 \nL 47.234749 240.509838 \nL 50.30913 238.53479 \nL 53.38351 236.559742 \nL 56.45789 234.584694 \nL 59.53227 232.609645 \nL 62.60665 230.634597 \nL 65.68103 228.659549 \nL 68.755411 226.684501 \nL 71.829791 224.709453 \nL 74.904171 222.734404 \nL 77.978551 220.759356 \nL 81.052931 218.784308 \nL 84.127311 216.80926 \nL 87.201692 214.834212 \nL 90.276072 212.859163 \nL 93.350452 210.884115 \nL 96.424832 208.909067 \nL 99.499212 206.934019 \nL 102.573592 204.95897 \nL 105.647973 202.983922 \nL 108.722353 201.008874 \nL 111.796733 199.033826 \nL 114.871113 197.058778 \nL 117.945493 195.083729 \nL 121.019873 193.108681 \nL 124.094254 191.133633 \nL 127.168634 189.158585 \nL 130.243014 187.183537 \nL 133.317394 185.208488 \nL 136.391774 183.23344 \nL 139.466154 181.258392 \nL 142.540535 179.283344 \nL 145.614915 177.308295 \nL 148.689295 175.333247 \nL 151.763675 173.358199 \nL 154.838055 171.383151 \nL 157.912435 169.408103 \nL 160.986816 167.433054 \nL 164.061196 165.458006 \nL 167.135576 163.482958 \nL 170.209956 161.50791 \nL 173.284336 159.532862 \nL 176.358716 157.557813 \nL 179.433097 155.582765 \nL 182.507477 153.607717 \nL 185.581857 151.632669 \nL 188.656237 149.657621 \nL 191.730617 147.682572 \nL 194.804997 145.707524 \nL 197.879378 143.732476 \nL 200.953758 141.757428 \nL 204.028138 139.782379 \nL 207.102518 137.807331 \nL 210.176898 135.832283 \nL 213.251278 133.857235 \nL 216.325659 131.882187 \nL 219.400039 129.907138 \nL 222.474419 127.93209 \nL 225.548799 125.957042 \nL 228.623179 123.981994 \nL 231.697559 122.006946 \nL 234.77194 120.031897 \nL 237.84632 118.056849 \nL 240.9207 116.081801 \nL 243.99508 114.106753 \nL 247.06946 112.131705 \nL 250.14384 110.156656 \nL 253.218221 108.181608 \nL 256.292601 106.20656 \nL 259.366981 104.231512 \nL 262.441361 102.256463 \nL 265.515741 100.281415 \nL 268.590121 98.306367 \nL 271.664502 96.331319 \nL 274.738882 94.356271 \nL 277.813262 92.381222 \nL 280.887642 90.406174 \nL 283.962022 88.431126 \nL 287.036402 86.456078 \nL 290.110783 84.48103 \nL 293.185163 82.505981 \nL 296.259543 80.530933 \nL 299.333923 78.555885 \nL 302.408303 76.580837 \nL 305.482683 74.605788 \nL 308.557064 72.63074 \nL 311.631444 70.655692 \nL 314.705824 68.680644 \nL 317.780204 66.705596 \nL 320.854584 64.730547 \nL 323.928964 62.755499 \nL 327.003345 60.780451 \nL 330.077725 58.805403 \nL 333.152105 56.830355 \nL 336.226485 54.855306 \nL 339.300865 52.880258 \nL 342.375245 50.90521 \nL 345.449626 48.930162 \nL 348.524006 46.955114 \n\" style=\"fill:none;stroke:#1f77b4;stroke-linecap:square;stroke-width:1.5;\"/>\n   </g>\n   <g id=\"line2d_19\">\n    <path clip-path=\"url(#p227e8255b0)\" d=\"M 44.160369 192.741699 \nL 47.234749 196.249941 \nL 50.30913 200.048144 \nL 53.38351 203.981822 \nL 56.45789 207.890978 \nL 59.53227 211.616614 \nL 62.60665 215.007193 \nL 65.68103 217.92481 \nL 68.755411 220.250795 \nL 71.829791 221.890541 \nL 74.904171 222.777354 \nL 77.978551 222.875164 \nL 81.052931 222.179994 \nL 84.127311 220.720117 \nL 87.201692 218.554914 \nL 90.276072 215.772449 \nL 93.350452 212.485895 \nL 96.424832 208.82893 \nL 99.499212 204.950293 \nL 102.573592 201.007744 \nL 105.647973 197.161639 \nL 108.722353 193.568414 \nL 111.796733 190.374217 \nL 114.871113 187.708968 \nL 117.945493 185.681072 \nL 121.019873 184.373011 \nL 124.094254 183.837988 \nL 127.168634 184.097765 \nL 130.243014 185.141775 \nL 133.317394 186.927555 \nL 136.391774 189.382471 \nL 139.466154 192.406672 \nL 142.540535 195.877155 \nL 145.614915 199.652761 \nL 148.689295 203.579924 \nL 151.763675 207.498911 \nL 154.838055 211.250325 \nL 157.912435 214.681581 \nL 160.986816 217.653118 \nL 164.061196 220.044074 \nL 167.135576 221.757199 \nL 170.209956 222.722814 \nL 173.284336 222.901646 \nL 176.358716 222.286419 \nL 179.433097 220.902158 \nL 182.507477 218.805165 \nL 185.581857 216.080732 \nL 188.656237 212.839672 \nL 191.730617 209.21381 \nL 194.804997 205.350623 \nL 197.879378 201.407241 \nL 200.953758 197.544054 \nL 204.028138 193.918192 \nL 207.102518 190.677132 \nL 210.176898 187.952699 \nL 213.251278 185.855706 \nL 216.325659 184.471445 \nL 219.400039 183.856218 \nL 222.474419 184.035049 \nL 225.548799 185.000665 \nL 228.623179 186.71379 \nL 231.697559 189.104746 \nL 234.77194 192.076283 \nL 237.84632 195.507539 \nL 240.9207 199.258952 \nL 243.99508 203.17794 \nL 247.06946 207.105103 \nL 250.14384 210.880709 \nL 253.218221 214.351191 \nL 256.292601 217.375393 \nL 259.366981 219.830309 \nL 262.441361 221.616089 \nL 265.515741 222.660099 \nL 268.590121 222.919875 \nL 271.664502 222.384853 \nL 274.738882 221.076791 \nL 277.813262 219.048896 \nL 280.887642 216.383647 \nL 283.962022 213.18945 \nL 287.036402 209.596225 \nL 290.110783 205.75012 \nL 293.185163 201.807571 \nL 296.259543 197.928934 \nL 299.333923 194.271968 \nL 302.408303 190.985415 \nL 305.482683 188.20295 \nL 308.557064 186.037746 \nL 311.631444 184.57787 \nL 314.705824 183.882699 \nL 317.780204 183.98051 \nL 320.854584 184.867323 \nL 323.928964 186.507069 \nL 327.003345 188.833053 \nL 330.077725 191.75067 \nL 333.152105 195.14125 \nL 336.226485 198.866885 \nL 339.300865 202.776042 \nL 342.375245 206.70972 \nL 345.449626 210.507923 \nL 348.524006 214.016164 \n\" style=\"fill:none;stroke:#ff7f0e;stroke-linecap:square;stroke-width:1.5;\"/>\n   </g>\n   <g id=\"line2d_20\">\n    <path clip-path=\"url(#p227e8255b0)\" d=\"M 44.160369 231.847654 \nL 47.234749 233.380847 \nL 50.30913 235.204002 \nL 53.38351 237.162632 \nL 56.45789 239.09674 \nL 59.53227 240.847327 \nL 62.60665 242.262859 \nL 65.68103 243.205427 \nL 68.755411 243.556364 \nL 71.829791 243.221061 \nL 74.904171 242.132826 \nL 77.978551 240.255589 \nL 81.052931 237.58537 \nL 84.127311 234.150445 \nL 87.201692 230.010193 \nL 90.276072 225.25268 \nL 93.350452 219.991079 \nL 96.424832 214.359065 \nL 99.499212 208.50538 \nL 102.573592 202.587782 \nL 105.647973 196.76663 \nL 108.722353 191.198356 \nL 111.796733 186.029111 \nL 114.871113 181.388814 \nL 117.945493 177.38587 \nL 121.019873 174.102761 \nL 124.094254 171.592689 \nL 127.168634 169.877418 \nL 130.243014 168.94638 \nL 133.317394 168.757111 \nL 136.391774 169.236979 \nL 139.466154 170.286132 \nL 142.540535 171.781566 \nL 145.614915 173.582124 \nL 148.689295 175.534239 \nL 151.763675 177.478179 \nL 154.838055 179.254544 \nL 157.912435 180.710752 \nL 160.986816 181.707241 \nL 164.061196 182.123148 \nL 167.135576 181.861225 \nL 170.209956 180.851792 \nL 173.284336 179.055575 \nL 176.358716 176.4653 \nL 179.433097 173.105991 \nL 182.507477 169.03395 \nL 185.581857 164.334469 \nL 188.656237 159.118361 \nL 191.730617 153.517451 \nL 194.804997 147.679215 \nL 197.879378 141.760785 \nL 200.953758 135.922549 \nL 204.028138 130.321639 \nL 207.102518 125.105531 \nL 210.176898 120.40605 \nL 213.251278 116.334009 \nL 216.325659 112.9747 \nL 219.400039 110.384425 \nL 222.474419 108.588208 \nL 225.548799 107.578775 \nL 228.623179 107.316852 \nL 231.697559 107.732759 \nL 234.77194 108.729248 \nL 237.84632 110.185456 \nL 240.9207 111.961821 \nL 243.99508 113.905761 \nL 247.06946 115.857876 \nL 250.14384 117.658434 \nL 253.218221 119.153868 \nL 256.292601 120.203021 \nL 259.366981 120.682889 \nL 262.441361 120.49362 \nL 265.515741 119.562582 \nL 268.590121 117.847311 \nL 271.664502 115.337239 \nL 274.738882 112.05413 \nL 277.813262 108.051186 \nL 280.887642 103.410889 \nL 283.962022 98.241644 \nL 287.036402 92.67337 \nL 290.110783 86.852218 \nL 293.185163 80.93462 \nL 296.259543 75.080935 \nL 299.333923 69.448921 \nL 302.408303 64.18732 \nL 305.482683 59.429807 \nL 308.557064 55.289555 \nL 311.631444 51.85463 \nL 314.705824 49.184411 \nL 317.780204 47.307174 \nL 320.854584 46.218939 \nL 323.928964 45.883636 \nL 327.003345 46.234573 \nL 330.077725 47.177141 \nL 333.152105 48.592673 \nL 336.226485 50.34326 \nL 339.300865 52.277368 \nL 342.375245 54.235998 \nL 345.449626 56.059153 \nL 348.524006 57.592346 \n\" style=\"fill:none;stroke:#2ca02c;stroke-linecap:square;stroke-width:1.5;\"/>\n   </g>\n   <g id=\"patch_3\">\n    <path d=\"M 28.942188 253.44 \nL 28.942188 36 \n\" style=\"fill:none;stroke:#000000;stroke-linecap:square;stroke-linejoin:miter;stroke-width:0.8;\"/>\n   </g>\n   <g id=\"patch_4\">\n    <path d=\"M 363.742188 253.44 \nL 363.742188 36 \n\" style=\"fill:none;stroke:#000000;stroke-linecap:square;stroke-linejoin:miter;stroke-width:0.8;\"/>\n   </g>\n   <g id=\"patch_5\">\n    <path d=\"M 28.942188 253.44 \nL 363.742188 253.44 \n\" style=\"fill:none;stroke:#000000;stroke-linecap:square;stroke-linejoin:miter;stroke-width:0.8;\"/>\n   </g>\n   <g id=\"patch_6\">\n    <path d=\"M 28.942188 36 \nL 363.742188 36 \n\" style=\"fill:none;stroke:#000000;stroke-linecap:square;stroke-linejoin:miter;stroke-width:0.8;\"/>\n   </g>\n  </g>\n  <g id=\"text_16\">\n   <!-- Visualizing function addition -->\n   <defs>\n    <path d=\"M 28.609375 0 \nL 0.78125 72.90625 \nL 11.078125 72.90625 \nL 34.1875 11.53125 \nL 57.328125 72.90625 \nL 67.578125 72.90625 \nL 39.796875 0 \nz\n\" id=\"DejaVuSans-86\"/>\n    <path d=\"M 9.421875 54.6875 \nL 18.40625 54.6875 \nL 18.40625 0 \nL 9.421875 0 \nz\nM 9.421875 75.984375 \nL 18.40625 75.984375 \nL 18.40625 64.59375 \nL 9.421875 64.59375 \nz\n\" id=\"DejaVuSans-105\"/>\n    <path d=\"M 44.28125 53.078125 \nL 44.28125 44.578125 \nQ 40.484375 46.53125 36.375 47.5 \nQ 32.28125 48.484375 27.875 48.484375 \nQ 21.1875 48.484375 17.84375 46.4375 \nQ 14.5 44.390625 14.5 40.28125 \nQ 14.5 37.15625 16.890625 35.375 \nQ 19.28125 33.59375 26.515625 31.984375 \nL 29.59375 31.296875 \nQ 39.15625 29.25 43.1875 25.515625 \nQ 47.21875 21.78125 47.21875 15.09375 \nQ 47.21875 7.46875 41.1875 3.015625 \nQ 35.15625 -1.421875 24.609375 -1.421875 \nQ 20.21875 -1.421875 15.453125 -0.5625 \nQ 10.6875 0.296875 5.421875 2 \nL 5.421875 11.28125 \nQ 10.40625 8.6875 15.234375 7.390625 \nQ 20.0625 6.109375 24.8125 6.109375 \nQ 31.15625 6.109375 34.5625 8.28125 \nQ 37.984375 10.453125 37.984375 14.40625 \nQ 37.984375 18.0625 35.515625 20.015625 \nQ 33.0625 21.96875 24.703125 23.78125 \nL 21.578125 24.515625 \nQ 13.234375 26.265625 9.515625 29.90625 \nQ 5.8125 33.546875 5.8125 39.890625 \nQ 5.8125 47.609375 11.28125 51.796875 \nQ 16.75 56 26.8125 56 \nQ 31.78125 56 36.171875 55.265625 \nQ 40.578125 54.546875 44.28125 53.078125 \nz\n\" id=\"DejaVuSans-115\"/>\n    <path d=\"M 8.5 21.578125 \nL 8.5 54.6875 \nL 17.484375 54.6875 \nL 17.484375 21.921875 \nQ 17.484375 14.15625 20.5 10.265625 \nQ 23.53125 6.390625 29.59375 6.390625 \nQ 36.859375 6.390625 41.078125 11.03125 \nQ 45.3125 15.671875 45.3125 23.6875 \nL 45.3125 54.6875 \nL 54.296875 54.6875 \nL 54.296875 0 \nL 45.3125 0 \nL 45.3125 8.40625 \nQ 42.046875 3.421875 37.71875 1 \nQ 33.40625 -1.421875 27.6875 -1.421875 \nQ 18.265625 -1.421875 13.375 4.4375 \nQ 8.5 10.296875 8.5 21.578125 \nz\nM 31.109375 56 \nz\n\" id=\"DejaVuSans-117\"/>\n    <path d=\"M 34.28125 27.484375 \nQ 23.390625 27.484375 19.1875 25 \nQ 14.984375 22.515625 14.984375 16.5 \nQ 14.984375 11.71875 18.140625 8.90625 \nQ 21.296875 6.109375 26.703125 6.109375 \nQ 34.1875 6.109375 38.703125 11.40625 \nQ 43.21875 16.703125 43.21875 25.484375 \nL 43.21875 27.484375 \nz\nM 52.203125 31.203125 \nL 52.203125 0 \nL 43.21875 0 \nL 43.21875 8.296875 \nQ 40.140625 3.328125 35.546875 0.953125 \nQ 30.953125 -1.421875 24.3125 -1.421875 \nQ 15.921875 -1.421875 10.953125 3.296875 \nQ 6 8.015625 6 15.921875 \nQ 6 25.140625 12.171875 29.828125 \nQ 18.359375 34.515625 30.609375 34.515625 \nL 43.21875 34.515625 \nL 43.21875 35.40625 \nQ 43.21875 41.609375 39.140625 45 \nQ 35.0625 48.390625 27.6875 48.390625 \nQ 23 48.390625 18.546875 47.265625 \nQ 14.109375 46.140625 10.015625 43.890625 \nL 10.015625 52.203125 \nQ 14.9375 54.109375 19.578125 55.046875 \nQ 24.21875 56 28.609375 56 \nQ 40.484375 56 46.34375 49.84375 \nQ 52.203125 43.703125 52.203125 31.203125 \nz\n\" id=\"DejaVuSans-97\"/>\n    <path d=\"M 9.421875 75.984375 \nL 18.40625 75.984375 \nL 18.40625 0 \nL 9.421875 0 \nz\n\" id=\"DejaVuSans-108\"/>\n    <path d=\"M 5.515625 54.6875 \nL 48.1875 54.6875 \nL 48.1875 46.484375 \nL 14.40625 7.171875 \nL 48.1875 7.171875 \nL 48.1875 0 \nL 4.296875 0 \nL 4.296875 8.203125 \nL 38.09375 47.515625 \nL 5.515625 47.515625 \nz\n\" id=\"DejaVuSans-122\"/>\n    <path d=\"M 54.890625 33.015625 \nL 54.890625 0 \nL 45.90625 0 \nL 45.90625 32.71875 \nQ 45.90625 40.484375 42.875 44.328125 \nQ 39.84375 48.1875 33.796875 48.1875 \nQ 26.515625 48.1875 22.3125 43.546875 \nQ 18.109375 38.921875 18.109375 30.90625 \nL 18.109375 0 \nL 9.078125 0 \nL 9.078125 54.6875 \nL 18.109375 54.6875 \nL 18.109375 46.1875 \nQ 21.34375 51.125 25.703125 53.5625 \nQ 30.078125 56 35.796875 56 \nQ 45.21875 56 50.046875 50.171875 \nQ 54.890625 44.34375 54.890625 33.015625 \nz\n\" id=\"DejaVuSans-110\"/>\n    <path d=\"M 45.40625 27.984375 \nQ 45.40625 37.75 41.375 43.109375 \nQ 37.359375 48.484375 30.078125 48.484375 \nQ 22.859375 48.484375 18.828125 43.109375 \nQ 14.796875 37.75 14.796875 27.984375 \nQ 14.796875 18.265625 18.828125 12.890625 \nQ 22.859375 7.515625 30.078125 7.515625 \nQ 37.359375 7.515625 41.375 12.890625 \nQ 45.40625 18.265625 45.40625 27.984375 \nz\nM 54.390625 6.78125 \nQ 54.390625 -7.171875 48.1875 -13.984375 \nQ 42 -20.796875 29.203125 -20.796875 \nQ 24.46875 -20.796875 20.265625 -20.09375 \nQ 16.0625 -19.390625 12.109375 -17.921875 \nL 12.109375 -9.1875 \nQ 16.0625 -11.328125 19.921875 -12.34375 \nQ 23.78125 -13.375 27.78125 -13.375 \nQ 36.625 -13.375 41.015625 -8.765625 \nQ 45.40625 -4.15625 45.40625 5.171875 \nL 45.40625 9.625 \nQ 42.625 4.78125 38.28125 2.390625 \nQ 33.9375 0 27.875 0 \nQ 17.828125 0 11.671875 7.65625 \nQ 5.515625 15.328125 5.515625 27.984375 \nQ 5.515625 40.671875 11.671875 48.328125 \nQ 17.828125 56 27.875 56 \nQ 33.9375 56 38.28125 53.609375 \nQ 42.625 51.21875 45.40625 46.390625 \nL 45.40625 54.6875 \nL 54.390625 54.6875 \nz\n\" id=\"DejaVuSans-103\"/>\n    <path id=\"DejaVuSans-32\"/>\n    <path d=\"M 37.109375 75.984375 \nL 37.109375 68.5 \nL 28.515625 68.5 \nQ 23.6875 68.5 21.796875 66.546875 \nQ 19.921875 64.59375 19.921875 59.515625 \nL 19.921875 54.6875 \nL 34.71875 54.6875 \nL 34.71875 47.703125 \nL 19.921875 47.703125 \nL 19.921875 0 \nL 10.890625 0 \nL 10.890625 47.703125 \nL 2.296875 47.703125 \nL 2.296875 54.6875 \nL 10.890625 54.6875 \nL 10.890625 58.5 \nQ 10.890625 67.625 15.140625 71.796875 \nQ 19.390625 75.984375 28.609375 75.984375 \nz\n\" id=\"DejaVuSans-102\"/>\n    <path d=\"M 48.78125 52.59375 \nL 48.78125 44.1875 \nQ 44.96875 46.296875 41.140625 47.34375 \nQ 37.3125 48.390625 33.40625 48.390625 \nQ 24.65625 48.390625 19.8125 42.84375 \nQ 14.984375 37.3125 14.984375 27.296875 \nQ 14.984375 17.28125 19.8125 11.734375 \nQ 24.65625 6.203125 33.40625 6.203125 \nQ 37.3125 6.203125 41.140625 7.25 \nQ 44.96875 8.296875 48.78125 10.40625 \nL 48.78125 2.09375 \nQ 45.015625 0.34375 40.984375 -0.53125 \nQ 36.96875 -1.421875 32.421875 -1.421875 \nQ 20.0625 -1.421875 12.78125 6.34375 \nQ 5.515625 14.109375 5.515625 27.296875 \nQ 5.515625 40.671875 12.859375 48.328125 \nQ 20.21875 56 33.015625 56 \nQ 37.15625 56 41.109375 55.140625 \nQ 45.0625 54.296875 48.78125 52.59375 \nz\n\" id=\"DejaVuSans-99\"/>\n    <path d=\"M 18.3125 70.21875 \nL 18.3125 54.6875 \nL 36.8125 54.6875 \nL 36.8125 47.703125 \nL 18.3125 47.703125 \nL 18.3125 18.015625 \nQ 18.3125 11.328125 20.140625 9.421875 \nQ 21.96875 7.515625 27.59375 7.515625 \nL 36.8125 7.515625 \nL 36.8125 0 \nL 27.59375 0 \nQ 17.1875 0 13.234375 3.875 \nQ 9.28125 7.765625 9.28125 18.015625 \nL 9.28125 47.703125 \nL 2.6875 47.703125 \nL 2.6875 54.6875 \nL 9.28125 54.6875 \nL 9.28125 70.21875 \nz\n\" id=\"DejaVuSans-116\"/>\n    <path d=\"M 30.609375 48.390625 \nQ 23.390625 48.390625 19.1875 42.75 \nQ 14.984375 37.109375 14.984375 27.296875 \nQ 14.984375 17.484375 19.15625 11.84375 \nQ 23.34375 6.203125 30.609375 6.203125 \nQ 37.796875 6.203125 41.984375 11.859375 \nQ 46.1875 17.53125 46.1875 27.296875 \nQ 46.1875 37.015625 41.984375 42.703125 \nQ 37.796875 48.390625 30.609375 48.390625 \nz\nM 30.609375 56 \nQ 42.328125 56 49.015625 48.375 \nQ 55.71875 40.765625 55.71875 27.296875 \nQ 55.71875 13.875 49.015625 6.21875 \nQ 42.328125 -1.421875 30.609375 -1.421875 \nQ 18.84375 -1.421875 12.171875 6.21875 \nQ 5.515625 13.875 5.515625 27.296875 \nQ 5.515625 40.765625 12.171875 48.375 \nQ 18.84375 56 30.609375 56 \nz\n\" id=\"DejaVuSans-111\"/>\n    <path d=\"M 45.40625 46.390625 \nL 45.40625 75.984375 \nL 54.390625 75.984375 \nL 54.390625 0 \nL 45.40625 0 \nL 45.40625 8.203125 \nQ 42.578125 3.328125 38.25 0.953125 \nQ 33.9375 -1.421875 27.875 -1.421875 \nQ 17.96875 -1.421875 11.734375 6.484375 \nQ 5.515625 14.40625 5.515625 27.296875 \nQ 5.515625 40.1875 11.734375 48.09375 \nQ 17.96875 56 27.875 56 \nQ 33.9375 56 38.25 53.625 \nQ 42.578125 51.265625 45.40625 46.390625 \nz\nM 14.796875 27.296875 \nQ 14.796875 17.390625 18.875 11.75 \nQ 22.953125 6.109375 30.078125 6.109375 \nQ 37.203125 6.109375 41.296875 11.75 \nQ 45.40625 17.390625 45.40625 27.296875 \nQ 45.40625 37.203125 41.296875 42.84375 \nQ 37.203125 48.484375 30.078125 48.484375 \nQ 22.953125 48.484375 18.875 42.84375 \nQ 14.796875 37.203125 14.796875 27.296875 \nz\n\" id=\"DejaVuSans-100\"/>\n   </defs>\n   <g transform=\"translate(77.902187 19.3575)scale(0.16 -0.16)\">\n    <use xlink:href=\"#DejaVuSans-86\"/>\n    <use x=\"66.158203\" xlink:href=\"#DejaVuSans-105\"/>\n    <use x=\"93.941406\" xlink:href=\"#DejaVuSans-115\"/>\n    <use x=\"146.041016\" xlink:href=\"#DejaVuSans-117\"/>\n    <use x=\"209.419922\" xlink:href=\"#DejaVuSans-97\"/>\n    <use x=\"270.699219\" xlink:href=\"#DejaVuSans-108\"/>\n    <use x=\"298.482422\" xlink:href=\"#DejaVuSans-105\"/>\n    <use x=\"326.265625\" xlink:href=\"#DejaVuSans-122\"/>\n    <use x=\"378.755859\" xlink:href=\"#DejaVuSans-105\"/>\n    <use x=\"406.539062\" xlink:href=\"#DejaVuSans-110\"/>\n    <use x=\"469.917969\" xlink:href=\"#DejaVuSans-103\"/>\n    <use x=\"533.394531\" xlink:href=\"#DejaVuSans-32\"/>\n    <use x=\"565.181641\" xlink:href=\"#DejaVuSans-102\"/>\n    <use x=\"600.386719\" xlink:href=\"#DejaVuSans-117\"/>\n    <use x=\"663.765625\" xlink:href=\"#DejaVuSans-110\"/>\n    <use x=\"727.144531\" xlink:href=\"#DejaVuSans-99\"/>\n    <use x=\"782.125\" xlink:href=\"#DejaVuSans-116\"/>\n    <use x=\"821.333984\" xlink:href=\"#DejaVuSans-105\"/>\n    <use x=\"849.117188\" xlink:href=\"#DejaVuSans-111\"/>\n    <use x=\"910.298828\" xlink:href=\"#DejaVuSans-110\"/>\n    <use x=\"973.677734\" xlink:href=\"#DejaVuSans-32\"/>\n    <use x=\"1005.464844\" xlink:href=\"#DejaVuSans-97\"/>\n    <use x=\"1066.744141\" xlink:href=\"#DejaVuSans-100\"/>\n    <use x=\"1130.220703\" xlink:href=\"#DejaVuSans-100\"/>\n    <use x=\"1193.697266\" xlink:href=\"#DejaVuSans-105\"/>\n    <use x=\"1221.480469\" xlink:href=\"#DejaVuSans-116\"/>\n    <use x=\"1260.689453\" xlink:href=\"#DejaVuSans-105\"/>\n    <use x=\"1288.472656\" xlink:href=\"#DejaVuSans-111\"/>\n    <use x=\"1349.654297\" xlink:href=\"#DejaVuSans-110\"/>\n   </g>\n  </g>\n </g>\n <defs>\n  <clipPath id=\"p227e8255b0\">\n   <rect height=\"217.44\" width=\"334.8\" x=\"28.942188\" y=\"36\"/>\n  </clipPath>\n </defs>\n</svg>\n",
      "image/png": "[encoded data removed]"
     },
     "metadata": {
      "needs_background": "light"
     }
    }
   ],
   "source": [
    "from my_plot import plot\n",
    "\n",
    "def f(x):\n",
    "    return 0.5 * x + 3\n",
    "\n",
    "def g(x):\n",
    "    return sin(x)\n",
    "\n",
    "def add_functions(f, g):\n",
    "    def new_function(x):\n",
    "        return f(x) + g(x)\n",
    "    return new_function\n",
    "\n",
    "plot([f, g, add_functions(f, g)], -10, 10, 'Visualizing function addition')"
   ]
  },
  {
   "source": [
    "Likewise, we can algrebraically multiply a function by an scalar by multiplying its expression by that scalar:\n",
    "\n",
    "$\n",
    "g(x) = sin(x)\\\\\n",
    "a \\cdot g(x) = a \\cdot sin(x)\n",
    "$\n",
    "\n",
    "Visually, we would do:"
   ],
   "cell_type": "markdown",
   "metadata": {}
  },
  {
   "cell_type": "code",
   "execution_count": 23,
   "metadata": {},
   "outputs": [
    {
     "output_type": "display_data",
     "data": {
      "text/plain": "<Figure size 432x288 with 1 Axes>",
      "image/svg+xml": "<?xml version=\"1.0\" encoding=\"utf-8\" standalone=\"no\"?>\n<!DOCTYPE svg PUBLIC \"-//W3C//DTD SVG 1.1//EN\"\n  \"http://www.w3.org/Graphics/SVG/1.1/DTD/svg11.dtd\">\n<!-- Created with matplotlib (https://matplotlib.org/) -->\n<svg height=\"277.318125pt\" version=\"1.1\" viewBox=\"0 0 370.942187 277.318125\" width=\"370.942187pt\" xmlns=\"http://www.w3.org/2000/svg\" xmlns:xlink=\"http://www.w3.org/1999/xlink\">\n <defs>\n  <style type=\"text/css\">\n*{stroke-linecap:butt;stroke-linejoin:round;}\n  </style>\n </defs>\n <g id=\"figure_1\">\n  <g id=\"patch_1\">\n   <path d=\"M 0 277.318125 \nL 370.942187 277.318125 \nL 370.942187 0 \nL 0 0 \nz\n\" style=\"fill:none;\"/>\n  </g>\n  <g id=\"axes_1\">\n   <g id=\"patch_2\">\n    <path d=\"M 28.942188 253.44 \nL 363.742188 253.44 \nL 363.742188 36 \nL 28.942188 36 \nz\n\" style=\"fill:#ffffff;\"/>\n   </g>\n   <g id=\"matplotlib.axis_1\">\n    <g id=\"xtick_1\">\n     <g id=\"line2d_1\">\n      <defs>\n       <path d=\"M 0 0 \nL 0 3.5 \n\" id=\"m06c8816998\" style=\"stroke:#000000;stroke-width:0.8;\"/>\n      </defs>\n      <g>\n       <use style=\"stroke:#000000;stroke-width:0.8;\" x=\"44.160369\" xlink:href=\"#m06c8816998\" y=\"253.44\"/>\n      </g>\n     </g>\n     <g id=\"text_1\">\n      <!-- −10.0 -->\n      <defs>\n       <path d=\"M 10.59375 35.5 \nL 73.1875 35.5 \nL 73.1875 27.203125 \nL 10.59375 27.203125 \nz\n\" id=\"DejaVuSans-8722\"/>\n       <path d=\"M 12.40625 8.296875 \nL 28.515625 8.296875 \nL 28.515625 63.921875 \nL 10.984375 60.40625 \nL 10.984375 69.390625 \nL 28.421875 72.90625 \nL 38.28125 72.90625 \nL 38.28125 8.296875 \nL 54.390625 8.296875 \nL 54.390625 0 \nL 12.40625 0 \nz\n\" id=\"DejaVuSans-49\"/>\n       <path d=\"M 31.78125 66.40625 \nQ 24.171875 66.40625 20.328125 58.90625 \nQ 16.5 51.421875 16.5 36.375 \nQ 16.5 21.390625 20.328125 13.890625 \nQ 24.171875 6.390625 31.78125 6.390625 \nQ 39.453125 6.390625 43.28125 13.890625 \nQ 47.125 21.390625 47.125 36.375 \nQ 47.125 51.421875 43.28125 58.90625 \nQ 39.453125 66.40625 31.78125 66.40625 \nz\nM 31.78125 74.21875 \nQ 44.046875 74.21875 50.515625 64.515625 \nQ 56.984375 54.828125 56.984375 36.375 \nQ 56.984375 17.96875 50.515625 8.265625 \nQ 44.046875 -1.421875 31.78125 -1.421875 \nQ 19.53125 -1.421875 13.0625 8.265625 \nQ 6.59375 17.96875 6.59375 36.375 \nQ 6.59375 54.828125 13.0625 64.515625 \nQ 19.53125 74.21875 31.78125 74.21875 \nz\n\" id=\"DejaVuSans-48\"/>\n       <path d=\"M 10.6875 12.40625 \nL 21 12.40625 \nL 21 0 \nL 10.6875 0 \nz\n\" id=\"DejaVuSans-46\"/>\n      </defs>\n      <g transform=\"translate(28.837713 268.038437)scale(0.1 -0.1)\">\n       <use xlink:href=\"#DejaVuSans-8722\"/>\n       <use x=\"83.789062\" xlink:href=\"#DejaVuSans-49\"/>\n       <use x=\"147.412109\" xlink:href=\"#DejaVuSans-48\"/>\n       <use x=\"211.035156\" xlink:href=\"#DejaVuSans-46\"/>\n       <use x=\"242.822266\" xlink:href=\"#DejaVuSans-48\"/>\n      </g>\n     </g>\n    </g>\n    <g id=\"xtick_2\">\n     <g id=\"line2d_2\">\n      <g>\n       <use style=\"stroke:#000000;stroke-width:0.8;\" x=\"82.205824\" xlink:href=\"#m06c8816998\" y=\"253.44\"/>\n      </g>\n     </g>\n     <g id=\"text_2\">\n      <!-- −7.5 -->\n      <defs>\n       <path d=\"M 8.203125 72.90625 \nL 55.078125 72.90625 \nL 55.078125 68.703125 \nL 28.609375 0 \nL 18.3125 0 \nL 43.21875 64.59375 \nL 8.203125 64.59375 \nz\n\" id=\"DejaVuSans-55\"/>\n       <path d=\"M 10.796875 72.90625 \nL 49.515625 72.90625 \nL 49.515625 64.59375 \nL 19.828125 64.59375 \nL 19.828125 46.734375 \nQ 21.96875 47.46875 24.109375 47.828125 \nQ 26.265625 48.1875 28.421875 48.1875 \nQ 40.625 48.1875 47.75 41.5 \nQ 54.890625 34.8125 54.890625 23.390625 \nQ 54.890625 11.625 47.5625 5.09375 \nQ 40.234375 -1.421875 26.90625 -1.421875 \nQ 22.3125 -1.421875 17.546875 -0.640625 \nQ 12.796875 0.140625 7.71875 1.703125 \nL 7.71875 11.625 \nQ 12.109375 9.234375 16.796875 8.0625 \nQ 21.484375 6.890625 26.703125 6.890625 \nQ 35.15625 6.890625 40.078125 11.328125 \nQ 45.015625 15.765625 45.015625 23.390625 \nQ 45.015625 31 40.078125 35.4375 \nQ 35.15625 39.890625 26.703125 39.890625 \nQ 22.75 39.890625 18.8125 39.015625 \nQ 14.890625 38.140625 10.796875 36.28125 \nz\n\" id=\"DejaVuSans-53\"/>\n      </defs>\n      <g transform=\"translate(70.064418 268.038437)scale(0.1 -0.1)\">\n       <use xlink:href=\"#DejaVuSans-8722\"/>\n       <use x=\"83.789062\" xlink:href=\"#DejaVuSans-55\"/>\n       <use x=\"147.412109\" xlink:href=\"#DejaVuSans-46\"/>\n       <use x=\"179.199219\" xlink:href=\"#DejaVuSans-53\"/>\n      </g>\n     </g>\n    </g>\n    <g id=\"xtick_3\">\n     <g id=\"line2d_3\">\n      <g>\n       <use style=\"stroke:#000000;stroke-width:0.8;\" x=\"120.251278\" xlink:href=\"#m06c8816998\" y=\"253.44\"/>\n      </g>\n     </g>\n     <g id=\"text_3\">\n      <!-- −5.0 -->\n      <g transform=\"translate(108.109872 268.038437)scale(0.1 -0.1)\">\n       <use xlink:href=\"#DejaVuSans-8722\"/>\n       <use x=\"83.789062\" xlink:href=\"#DejaVuSans-53\"/>\n       <use x=\"147.412109\" xlink:href=\"#DejaVuSans-46\"/>\n       <use x=\"179.199219\" xlink:href=\"#DejaVuSans-48\"/>\n      </g>\n     </g>\n    </g>\n    <g id=\"xtick_4\">\n     <g id=\"line2d_4\">\n      <g>\n       <use style=\"stroke:#000000;stroke-width:0.8;\" x=\"158.296733\" xlink:href=\"#m06c8816998\" y=\"253.44\"/>\n      </g>\n     </g>\n     <g id=\"text_4\">\n      <!-- −2.5 -->\n      <defs>\n       <path d=\"M 19.1875 8.296875 \nL 53.609375 8.296875 \nL 53.609375 0 \nL 7.328125 0 \nL 7.328125 8.296875 \nQ 12.9375 14.109375 22.625 23.890625 \nQ 32.328125 33.6875 34.8125 36.53125 \nQ 39.546875 41.84375 41.421875 45.53125 \nQ 43.3125 49.21875 43.3125 52.78125 \nQ 43.3125 58.59375 39.234375 62.25 \nQ 35.15625 65.921875 28.609375 65.921875 \nQ 23.96875 65.921875 18.8125 64.3125 \nQ 13.671875 62.703125 7.8125 59.421875 \nL 7.8125 69.390625 \nQ 13.765625 71.78125 18.9375 73 \nQ 24.125 74.21875 28.421875 74.21875 \nQ 39.75 74.21875 46.484375 68.546875 \nQ 53.21875 62.890625 53.21875 53.421875 \nQ 53.21875 48.921875 51.53125 44.890625 \nQ 49.859375 40.875 45.40625 35.40625 \nQ 44.1875 33.984375 37.640625 27.21875 \nQ 31.109375 20.453125 19.1875 8.296875 \nz\n\" id=\"DejaVuSans-50\"/>\n      </defs>\n      <g transform=\"translate(146.155327 268.038437)scale(0.1 -0.1)\">\n       <use xlink:href=\"#DejaVuSans-8722\"/>\n       <use x=\"83.789062\" xlink:href=\"#DejaVuSans-50\"/>\n       <use x=\"147.412109\" xlink:href=\"#DejaVuSans-46\"/>\n       <use x=\"179.199219\" xlink:href=\"#DejaVuSans-53\"/>\n      </g>\n     </g>\n    </g>\n    <g id=\"xtick_5\">\n     <g id=\"line2d_5\">\n      <g>\n       <use style=\"stroke:#000000;stroke-width:0.8;\" x=\"196.342188\" xlink:href=\"#m06c8816998\" y=\"253.44\"/>\n      </g>\n     </g>\n     <g id=\"text_5\">\n      <!-- 0.0 -->\n      <g transform=\"translate(188.390625 268.038437)scale(0.1 -0.1)\">\n       <use xlink:href=\"#DejaVuSans-48\"/>\n       <use x=\"63.623047\" xlink:href=\"#DejaVuSans-46\"/>\n       <use x=\"95.410156\" xlink:href=\"#DejaVuSans-48\"/>\n      </g>\n     </g>\n    </g>\n    <g id=\"xtick_6\">\n     <g id=\"line2d_6\">\n      <g>\n       <use style=\"stroke:#000000;stroke-width:0.8;\" x=\"234.387642\" xlink:href=\"#m06c8816998\" y=\"253.44\"/>\n      </g>\n     </g>\n     <g id=\"text_6\">\n      <!-- 2.5 -->\n      <g transform=\"translate(226.43608 268.038437)scale(0.1 -0.1)\">\n       <use xlink:href=\"#DejaVuSans-50\"/>\n       <use x=\"63.623047\" xlink:href=\"#DejaVuSans-46\"/>\n       <use x=\"95.410156\" xlink:href=\"#DejaVuSans-53\"/>\n      </g>\n     </g>\n    </g>\n    <g id=\"xtick_7\">\n     <g id=\"line2d_7\">\n      <g>\n       <use style=\"stroke:#000000;stroke-width:0.8;\" x=\"272.433097\" xlink:href=\"#m06c8816998\" y=\"253.44\"/>\n      </g>\n     </g>\n     <g id=\"text_7\">\n      <!-- 5.0 -->\n      <g transform=\"translate(264.481534 268.038437)scale(0.1 -0.1)\">\n       <use xlink:href=\"#DejaVuSans-53\"/>\n       <use x=\"63.623047\" xlink:href=\"#DejaVuSans-46\"/>\n       <use x=\"95.410156\" xlink:href=\"#DejaVuSans-48\"/>\n      </g>\n     </g>\n    </g>\n    <g id=\"xtick_8\">\n     <g id=\"line2d_8\">\n      <g>\n       <use style=\"stroke:#000000;stroke-width:0.8;\" x=\"310.478551\" xlink:href=\"#m06c8816998\" y=\"253.44\"/>\n      </g>\n     </g>\n     <g id=\"text_8\">\n      <!-- 7.5 -->\n      <g transform=\"translate(302.526989 268.038437)scale(0.1 -0.1)\">\n       <use xlink:href=\"#DejaVuSans-55\"/>\n       <use x=\"63.623047\" xlink:href=\"#DejaVuSans-46\"/>\n       <use x=\"95.410156\" xlink:href=\"#DejaVuSans-53\"/>\n      </g>\n     </g>\n    </g>\n    <g id=\"xtick_9\">\n     <g id=\"line2d_9\">\n      <g>\n       <use style=\"stroke:#000000;stroke-width:0.8;\" x=\"348.524006\" xlink:href=\"#m06c8816998\" y=\"253.44\"/>\n      </g>\n     </g>\n     <g id=\"text_9\">\n      <!-- 10.0 -->\n      <g transform=\"translate(337.391193 268.038437)scale(0.1 -0.1)\">\n       <use xlink:href=\"#DejaVuSans-49\"/>\n       <use x=\"63.623047\" xlink:href=\"#DejaVuSans-48\"/>\n       <use x=\"127.246094\" xlink:href=\"#DejaVuSans-46\"/>\n       <use x=\"159.033203\" xlink:href=\"#DejaVuSans-48\"/>\n      </g>\n     </g>\n    </g>\n   </g>\n   <g id=\"matplotlib.axis_2\">\n    <g id=\"ytick_1\">\n     <g id=\"line2d_10\">\n      <defs>\n       <path d=\"M 0 0 \nL -3.5 0 \n\" id=\"m993322adb1\" style=\"stroke:#000000;stroke-width:0.8;\"/>\n      </defs>\n      <g>\n       <use style=\"stroke:#000000;stroke-width:0.8;\" x=\"28.942188\" xlink:href=\"#m993322adb1\" y=\"243.617229\"/>\n      </g>\n     </g>\n     <g id=\"text_10\">\n      <!-- −3 -->\n      <defs>\n       <path d=\"M 40.578125 39.3125 \nQ 47.65625 37.796875 51.625 33 \nQ 55.609375 28.21875 55.609375 21.1875 \nQ 55.609375 10.40625 48.1875 4.484375 \nQ 40.765625 -1.421875 27.09375 -1.421875 \nQ 22.515625 -1.421875 17.65625 -0.515625 \nQ 12.796875 0.390625 7.625 2.203125 \nL 7.625 11.71875 \nQ 11.71875 9.328125 16.59375 8.109375 \nQ 21.484375 6.890625 26.8125 6.890625 \nQ 36.078125 6.890625 40.9375 10.546875 \nQ 45.796875 14.203125 45.796875 21.1875 \nQ 45.796875 27.640625 41.28125 31.265625 \nQ 36.765625 34.90625 28.71875 34.90625 \nL 20.21875 34.90625 \nL 20.21875 43.015625 \nL 29.109375 43.015625 \nQ 36.375 43.015625 40.234375 45.921875 \nQ 44.09375 48.828125 44.09375 54.296875 \nQ 44.09375 59.90625 40.109375 62.90625 \nQ 36.140625 65.921875 28.71875 65.921875 \nQ 24.65625 65.921875 20.015625 65.03125 \nQ 15.375 64.15625 9.8125 62.3125 \nL 9.8125 71.09375 \nQ 15.4375 72.65625 20.34375 73.4375 \nQ 25.25 74.21875 29.59375 74.21875 \nQ 40.828125 74.21875 47.359375 69.109375 \nQ 53.90625 64.015625 53.90625 55.328125 \nQ 53.90625 49.265625 50.4375 45.09375 \nQ 46.96875 40.921875 40.578125 39.3125 \nz\n\" id=\"DejaVuSans-51\"/>\n      </defs>\n      <g transform=\"translate(7.2 247.416448)scale(0.1 -0.1)\">\n       <use xlink:href=\"#DejaVuSans-8722\"/>\n       <use x=\"83.789062\" xlink:href=\"#DejaVuSans-51\"/>\n      </g>\n     </g>\n    </g>\n    <g id=\"ytick_2\">\n     <g id=\"line2d_11\">\n      <g>\n       <use style=\"stroke:#000000;stroke-width:0.8;\" x=\"28.942188\" xlink:href=\"#m993322adb1\" y=\"210.651486\"/>\n      </g>\n     </g>\n     <g id=\"text_11\">\n      <!-- −2 -->\n      <g transform=\"translate(7.2 214.450705)scale(0.1 -0.1)\">\n       <use xlink:href=\"#DejaVuSans-8722\"/>\n       <use x=\"83.789062\" xlink:href=\"#DejaVuSans-50\"/>\n      </g>\n     </g>\n    </g>\n    <g id=\"ytick_3\">\n     <g id=\"line2d_12\">\n      <g>\n       <use style=\"stroke:#000000;stroke-width:0.8;\" x=\"28.942188\" xlink:href=\"#m993322adb1\" y=\"177.685743\"/>\n      </g>\n     </g>\n     <g id=\"text_12\">\n      <!-- −1 -->\n      <g transform=\"translate(7.2 181.484962)scale(0.1 -0.1)\">\n       <use xlink:href=\"#DejaVuSans-8722\"/>\n       <use x=\"83.789062\" xlink:href=\"#DejaVuSans-49\"/>\n      </g>\n     </g>\n    </g>\n    <g id=\"ytick_4\">\n     <g id=\"line2d_13\">\n      <g>\n       <use style=\"stroke:#000000;stroke-width:0.8;\" x=\"28.942188\" xlink:href=\"#m993322adb1\" y=\"144.72\"/>\n      </g>\n     </g>\n     <g id=\"text_13\">\n      <!-- 0 -->\n      <g transform=\"translate(15.579688 148.519219)scale(0.1 -0.1)\">\n       <use xlink:href=\"#DejaVuSans-48\"/>\n      </g>\n     </g>\n    </g>\n    <g id=\"ytick_5\">\n     <g id=\"line2d_14\">\n      <g>\n       <use style=\"stroke:#000000;stroke-width:0.8;\" x=\"28.942188\" xlink:href=\"#m993322adb1\" y=\"111.754257\"/>\n      </g>\n     </g>\n     <g id=\"text_14\">\n      <!-- 1 -->\n      <g transform=\"translate(15.579688 115.553476)scale(0.1 -0.1)\">\n       <use xlink:href=\"#DejaVuSans-49\"/>\n      </g>\n     </g>\n    </g>\n    <g id=\"ytick_6\">\n     <g id=\"line2d_15\">\n      <g>\n       <use style=\"stroke:#000000;stroke-width:0.8;\" x=\"28.942188\" xlink:href=\"#m993322adb1\" y=\"78.788514\"/>\n      </g>\n     </g>\n     <g id=\"text_15\">\n      <!-- 2 -->\n      <g transform=\"translate(15.579688 82.587733)scale(0.1 -0.1)\">\n       <use xlink:href=\"#DejaVuSans-50\"/>\n      </g>\n     </g>\n    </g>\n    <g id=\"ytick_7\">\n     <g id=\"line2d_16\">\n      <g>\n       <use style=\"stroke:#000000;stroke-width:0.8;\" x=\"28.942188\" xlink:href=\"#m993322adb1\" y=\"45.822771\"/>\n      </g>\n     </g>\n     <g id=\"text_16\">\n      <!-- 3 -->\n      <g transform=\"translate(15.579688 49.62199)scale(0.1 -0.1)\">\n       <use xlink:href=\"#DejaVuSans-51\"/>\n      </g>\n     </g>\n    </g>\n   </g>\n   <g id=\"line2d_17\">\n    <path clip-path=\"url(#pde412e202c)\" d=\"M 28.942188 144.72 \nL 363.742188 144.72 \n\" style=\"fill:none;stroke:#000000;stroke-linecap:square;stroke-width:1.5;\"/>\n   </g>\n   <g id=\"line2d_18\">\n    <path clip-path=\"url(#pde412e202c)\" d=\"M 196.342188 253.44 \nL 196.342188 36 \n\" style=\"fill:none;stroke:#000000;stroke-linecap:square;stroke-width:1.5;\"/>\n   </g>\n   <g id=\"line2d_19\">\n    <path clip-path=\"url(#pde412e202c)\" d=\"M 44.160369 126.78594 \nL 47.234749 132.700732 \nL 50.30913 139.10439 \nL 53.38351 145.736455 \nL 56.45789 152.327177 \nL 59.53227 158.608489 \nL 62.60665 164.324906 \nL 65.68103 169.243922 \nL 68.755411 173.165463 \nL 71.829791 175.930027 \nL 74.904171 177.425167 \nL 77.978551 177.590073 \nL 81.052931 176.418036 \nL 84.127311 173.956728 \nL 87.201692 170.306258 \nL 90.276072 165.615104 \nL 93.350452 160.074072 \nL 96.424832 153.908536 \nL 99.499212 147.369269 \nL 102.573592 140.722247 \nL 105.647973 134.237828 \nL 108.722353 128.179756 \nL 111.796733 122.794434 \nL 114.871113 118.300903 \nL 117.945493 114.881931 \nL 121.019873 112.676578 \nL 124.094254 111.774545 \nL 127.168634 112.212521 \nL 130.243014 113.972691 \nL 133.317394 116.983464 \nL 136.391774 121.122379 \nL 139.466154 126.221094 \nL 142.540535 132.072225 \nL 145.614915 138.437786 \nL 148.689295 145.058866 \nL 151.763675 151.666164 \nL 154.838055 157.990936 \nL 157.912435 163.775933 \nL 160.986816 168.785857 \nL 164.061196 172.816937 \nL 167.135576 175.705216 \nL 170.209956 177.333215 \nL 173.284336 177.63472 \nL 176.358716 176.597466 \nL 179.433097 174.263642 \nL 182.507477 170.728173 \nL 185.581857 166.13486 \nL 188.656237 160.670529 \nL 191.730617 154.557433 \nL 194.804997 148.044213 \nL 197.879378 141.395787 \nL 200.953758 134.882567 \nL 204.028138 128.769471 \nL 207.102518 123.30514 \nL 210.176898 118.711827 \nL 213.251278 115.176358 \nL 216.325659 112.842534 \nL 219.400039 111.80528 \nL 222.474419 112.106785 \nL 225.548799 113.734784 \nL 228.623179 116.623063 \nL 231.697559 120.654143 \nL 234.77194 125.664067 \nL 237.84632 131.449064 \nL 240.9207 137.773836 \nL 243.99508 144.381134 \nL 247.06946 151.002214 \nL 250.14384 157.367775 \nL 253.218221 163.218906 \nL 256.292601 168.317621 \nL 259.366981 172.456536 \nL 262.441361 175.467309 \nL 265.515741 177.227479 \nL 268.590121 177.665455 \nL 271.664502 176.763422 \nL 274.738882 174.558069 \nL 277.813262 171.139097 \nL 280.887642 166.645566 \nL 283.962022 161.260244 \nL 287.036402 155.202172 \nL 290.110783 148.717753 \nL 293.185163 142.070731 \nL 296.259543 135.531464 \nL 299.333923 129.365928 \nL 302.408303 123.824896 \nL 305.482683 119.133742 \nL 308.557064 115.483272 \nL 311.631444 113.021964 \nL 314.705824 111.849927 \nL 317.780204 112.014833 \nL 320.854584 113.509973 \nL 323.928964 116.274537 \nL 327.003345 120.196078 \nL 330.077725 125.115094 \nL 333.152105 130.831511 \nL 336.226485 137.112823 \nL 339.300865 143.703545 \nL 342.375245 150.33561 \nL 345.449626 156.739268 \nL 348.524006 162.65406 \n\" style=\"fill:none;stroke:#1f77b4;stroke-linecap:square;stroke-width:1.5;\"/>\n   </g>\n   <g id=\"line2d_20\">\n    <path clip-path=\"url(#pde412e202c)\" d=\"M 44.160369 90.91782 \nL 47.234749 108.662195 \nL 50.30913 127.87317 \nL 53.38351 147.769365 \nL 56.45789 167.541532 \nL 59.53227 186.385466 \nL 62.60665 203.534718 \nL 65.68103 218.291766 \nL 68.755411 230.05639 \nL 71.829791 238.35008 \nL 74.904171 242.835502 \nL 77.978551 243.330219 \nL 81.052931 239.814108 \nL 84.127311 232.430183 \nL 87.201692 221.478773 \nL 90.276072 207.405311 \nL 93.350452 190.782216 \nL 96.424832 172.285607 \nL 99.499212 152.667807 \nL 102.573592 132.726741 \nL 105.647973 113.273484 \nL 108.722353 95.099268 \nL 111.796733 78.943303 \nL 114.871113 65.46271 \nL 117.945493 55.205792 \nL 121.019873 48.589735 \nL 124.094254 45.883636 \nL 127.168634 47.197564 \nL 130.243014 52.478074 \nL 133.317394 61.510391 \nL 136.391774 73.927138 \nL 139.466154 89.223282 \nL 142.540535 106.776674 \nL 145.614915 125.873357 \nL 148.689295 145.736598 \nL 151.763675 165.558492 \nL 154.838055 184.532809 \nL 157.912435 201.887799 \nL 160.986816 216.917571 \nL 164.061196 229.010812 \nL 167.135576 237.675647 \nL 170.209956 242.559646 \nL 173.284336 243.464159 \nL 176.358716 240.352397 \nL 179.433097 233.350925 \nL 182.507477 222.74452 \nL 185.581857 208.964581 \nL 188.656237 192.571587 \nL 191.730617 174.232298 \nL 194.804997 154.69264 \nL 197.879378 134.74736 \nL 200.953758 115.207702 \nL 204.028138 96.868413 \nL 207.102518 80.475419 \nL 210.176898 66.69548 \nL 213.251278 56.089075 \nL 216.325659 49.087603 \nL 219.400039 45.975841 \nL 222.474419 46.880354 \nL 225.548799 51.764353 \nL 228.623179 60.429188 \nL 231.697559 72.522429 \nL 234.77194 87.552201 \nL 237.84632 104.907191 \nL 240.9207 123.881508 \nL 243.99508 143.703402 \nL 247.06946 163.566643 \nL 250.14384 182.663326 \nL 253.218221 200.216718 \nL 256.292601 215.512862 \nL 259.366981 227.929609 \nL 262.441361 236.961926 \nL 265.515741 242.242436 \nL 268.590121 243.556364 \nL 271.664502 240.850265 \nL 274.738882 234.234208 \nL 277.813262 223.97729 \nL 280.887642 210.496697 \nL 283.962022 194.340732 \nL 287.036402 176.166516 \nL 290.110783 156.713259 \nL 293.185163 136.772193 \nL 296.259543 117.154393 \nL 299.333923 98.657784 \nL 302.408303 82.034689 \nL 305.482683 67.961227 \nL 308.557064 57.009817 \nL 311.631444 49.625892 \nL 314.705824 46.109781 \nL 317.780204 46.604498 \nL 320.854584 51.08992 \nL 323.928964 59.38361 \nL 327.003345 71.148234 \nL 330.077725 85.905282 \nL 333.152105 103.054534 \nL 336.226485 121.898468 \nL 339.300865 141.670635 \nL 342.375245 161.56683 \nL 345.449626 180.777805 \nL 348.524006 198.52218 \n\" style=\"fill:none;stroke:#ff7f0e;stroke-linecap:square;stroke-width:1.5;\"/>\n   </g>\n   <g id=\"patch_3\">\n    <path d=\"M 28.942188 253.44 \nL 28.942188 36 \n\" style=\"fill:none;stroke:#000000;stroke-linecap:square;stroke-linejoin:miter;stroke-width:0.8;\"/>\n   </g>\n   <g id=\"patch_4\">\n    <path d=\"M 363.742188 253.44 \nL 363.742188 36 \n\" style=\"fill:none;stroke:#000000;stroke-linecap:square;stroke-linejoin:miter;stroke-width:0.8;\"/>\n   </g>\n   <g id=\"patch_5\">\n    <path d=\"M 28.942188 253.44 \nL 363.742188 253.44 \n\" style=\"fill:none;stroke:#000000;stroke-linecap:square;stroke-linejoin:miter;stroke-width:0.8;\"/>\n   </g>\n   <g id=\"patch_6\">\n    <path d=\"M 28.942188 36 \nL 363.742188 36 \n\" style=\"fill:none;stroke:#000000;stroke-linecap:square;stroke-linejoin:miter;stroke-width:0.8;\"/>\n   </g>\n  </g>\n  <g id=\"text_17\">\n   <!-- Visualizing function scalar product -->\n   <defs>\n    <path d=\"M 28.609375 0 \nL 0.78125 72.90625 \nL 11.078125 72.90625 \nL 34.1875 11.53125 \nL 57.328125 72.90625 \nL 67.578125 72.90625 \nL 39.796875 0 \nz\n\" id=\"DejaVuSans-86\"/>\n    <path d=\"M 9.421875 54.6875 \nL 18.40625 54.6875 \nL 18.40625 0 \nL 9.421875 0 \nz\nM 9.421875 75.984375 \nL 18.40625 75.984375 \nL 18.40625 64.59375 \nL 9.421875 64.59375 \nz\n\" id=\"DejaVuSans-105\"/>\n    <path d=\"M 44.28125 53.078125 \nL 44.28125 44.578125 \nQ 40.484375 46.53125 36.375 47.5 \nQ 32.28125 48.484375 27.875 48.484375 \nQ 21.1875 48.484375 17.84375 46.4375 \nQ 14.5 44.390625 14.5 40.28125 \nQ 14.5 37.15625 16.890625 35.375 \nQ 19.28125 33.59375 26.515625 31.984375 \nL 29.59375 31.296875 \nQ 39.15625 29.25 43.1875 25.515625 \nQ 47.21875 21.78125 47.21875 15.09375 \nQ 47.21875 7.46875 41.1875 3.015625 \nQ 35.15625 -1.421875 24.609375 -1.421875 \nQ 20.21875 -1.421875 15.453125 -0.5625 \nQ 10.6875 0.296875 5.421875 2 \nL 5.421875 11.28125 \nQ 10.40625 8.6875 15.234375 7.390625 \nQ 20.0625 6.109375 24.8125 6.109375 \nQ 31.15625 6.109375 34.5625 8.28125 \nQ 37.984375 10.453125 37.984375 14.40625 \nQ 37.984375 18.0625 35.515625 20.015625 \nQ 33.0625 21.96875 24.703125 23.78125 \nL 21.578125 24.515625 \nQ 13.234375 26.265625 9.515625 29.90625 \nQ 5.8125 33.546875 5.8125 39.890625 \nQ 5.8125 47.609375 11.28125 51.796875 \nQ 16.75 56 26.8125 56 \nQ 31.78125 56 36.171875 55.265625 \nQ 40.578125 54.546875 44.28125 53.078125 \nz\n\" id=\"DejaVuSans-115\"/>\n    <path d=\"M 8.5 21.578125 \nL 8.5 54.6875 \nL 17.484375 54.6875 \nL 17.484375 21.921875 \nQ 17.484375 14.15625 20.5 10.265625 \nQ 23.53125 6.390625 29.59375 6.390625 \nQ 36.859375 6.390625 41.078125 11.03125 \nQ 45.3125 15.671875 45.3125 23.6875 \nL 45.3125 54.6875 \nL 54.296875 54.6875 \nL 54.296875 0 \nL 45.3125 0 \nL 45.3125 8.40625 \nQ 42.046875 3.421875 37.71875 1 \nQ 33.40625 -1.421875 27.6875 -1.421875 \nQ 18.265625 -1.421875 13.375 4.4375 \nQ 8.5 10.296875 8.5 21.578125 \nz\nM 31.109375 56 \nz\n\" id=\"DejaVuSans-117\"/>\n    <path d=\"M 34.28125 27.484375 \nQ 23.390625 27.484375 19.1875 25 \nQ 14.984375 22.515625 14.984375 16.5 \nQ 14.984375 11.71875 18.140625 8.90625 \nQ 21.296875 6.109375 26.703125 6.109375 \nQ 34.1875 6.109375 38.703125 11.40625 \nQ 43.21875 16.703125 43.21875 25.484375 \nL 43.21875 27.484375 \nz\nM 52.203125 31.203125 \nL 52.203125 0 \nL 43.21875 0 \nL 43.21875 8.296875 \nQ 40.140625 3.328125 35.546875 0.953125 \nQ 30.953125 -1.421875 24.3125 -1.421875 \nQ 15.921875 -1.421875 10.953125 3.296875 \nQ 6 8.015625 6 15.921875 \nQ 6 25.140625 12.171875 29.828125 \nQ 18.359375 34.515625 30.609375 34.515625 \nL 43.21875 34.515625 \nL 43.21875 35.40625 \nQ 43.21875 41.609375 39.140625 45 \nQ 35.0625 48.390625 27.6875 48.390625 \nQ 23 48.390625 18.546875 47.265625 \nQ 14.109375 46.140625 10.015625 43.890625 \nL 10.015625 52.203125 \nQ 14.9375 54.109375 19.578125 55.046875 \nQ 24.21875 56 28.609375 56 \nQ 40.484375 56 46.34375 49.84375 \nQ 52.203125 43.703125 52.203125 31.203125 \nz\n\" id=\"DejaVuSans-97\"/>\n    <path d=\"M 9.421875 75.984375 \nL 18.40625 75.984375 \nL 18.40625 0 \nL 9.421875 0 \nz\n\" id=\"DejaVuSans-108\"/>\n    <path d=\"M 5.515625 54.6875 \nL 48.1875 54.6875 \nL 48.1875 46.484375 \nL 14.40625 7.171875 \nL 48.1875 7.171875 \nL 48.1875 0 \nL 4.296875 0 \nL 4.296875 8.203125 \nL 38.09375 47.515625 \nL 5.515625 47.515625 \nz\n\" id=\"DejaVuSans-122\"/>\n    <path d=\"M 54.890625 33.015625 \nL 54.890625 0 \nL 45.90625 0 \nL 45.90625 32.71875 \nQ 45.90625 40.484375 42.875 44.328125 \nQ 39.84375 48.1875 33.796875 48.1875 \nQ 26.515625 48.1875 22.3125 43.546875 \nQ 18.109375 38.921875 18.109375 30.90625 \nL 18.109375 0 \nL 9.078125 0 \nL 9.078125 54.6875 \nL 18.109375 54.6875 \nL 18.109375 46.1875 \nQ 21.34375 51.125 25.703125 53.5625 \nQ 30.078125 56 35.796875 56 \nQ 45.21875 56 50.046875 50.171875 \nQ 54.890625 44.34375 54.890625 33.015625 \nz\n\" id=\"DejaVuSans-110\"/>\n    <path d=\"M 45.40625 27.984375 \nQ 45.40625 37.75 41.375 43.109375 \nQ 37.359375 48.484375 30.078125 48.484375 \nQ 22.859375 48.484375 18.828125 43.109375 \nQ 14.796875 37.75 14.796875 27.984375 \nQ 14.796875 18.265625 18.828125 12.890625 \nQ 22.859375 7.515625 30.078125 7.515625 \nQ 37.359375 7.515625 41.375 12.890625 \nQ 45.40625 18.265625 45.40625 27.984375 \nz\nM 54.390625 6.78125 \nQ 54.390625 -7.171875 48.1875 -13.984375 \nQ 42 -20.796875 29.203125 -20.796875 \nQ 24.46875 -20.796875 20.265625 -20.09375 \nQ 16.0625 -19.390625 12.109375 -17.921875 \nL 12.109375 -9.1875 \nQ 16.0625 -11.328125 19.921875 -12.34375 \nQ 23.78125 -13.375 27.78125 -13.375 \nQ 36.625 -13.375 41.015625 -8.765625 \nQ 45.40625 -4.15625 45.40625 5.171875 \nL 45.40625 9.625 \nQ 42.625 4.78125 38.28125 2.390625 \nQ 33.9375 0 27.875 0 \nQ 17.828125 0 11.671875 7.65625 \nQ 5.515625 15.328125 5.515625 27.984375 \nQ 5.515625 40.671875 11.671875 48.328125 \nQ 17.828125 56 27.875 56 \nQ 33.9375 56 38.28125 53.609375 \nQ 42.625 51.21875 45.40625 46.390625 \nL 45.40625 54.6875 \nL 54.390625 54.6875 \nz\n\" id=\"DejaVuSans-103\"/>\n    <path id=\"DejaVuSans-32\"/>\n    <path d=\"M 37.109375 75.984375 \nL 37.109375 68.5 \nL 28.515625 68.5 \nQ 23.6875 68.5 21.796875 66.546875 \nQ 19.921875 64.59375 19.921875 59.515625 \nL 19.921875 54.6875 \nL 34.71875 54.6875 \nL 34.71875 47.703125 \nL 19.921875 47.703125 \nL 19.921875 0 \nL 10.890625 0 \nL 10.890625 47.703125 \nL 2.296875 47.703125 \nL 2.296875 54.6875 \nL 10.890625 54.6875 \nL 10.890625 58.5 \nQ 10.890625 67.625 15.140625 71.796875 \nQ 19.390625 75.984375 28.609375 75.984375 \nz\n\" id=\"DejaVuSans-102\"/>\n    <path d=\"M 48.78125 52.59375 \nL 48.78125 44.1875 \nQ 44.96875 46.296875 41.140625 47.34375 \nQ 37.3125 48.390625 33.40625 48.390625 \nQ 24.65625 48.390625 19.8125 42.84375 \nQ 14.984375 37.3125 14.984375 27.296875 \nQ 14.984375 17.28125 19.8125 11.734375 \nQ 24.65625 6.203125 33.40625 6.203125 \nQ 37.3125 6.203125 41.140625 7.25 \nQ 44.96875 8.296875 48.78125 10.40625 \nL 48.78125 2.09375 \nQ 45.015625 0.34375 40.984375 -0.53125 \nQ 36.96875 -1.421875 32.421875 -1.421875 \nQ 20.0625 -1.421875 12.78125 6.34375 \nQ 5.515625 14.109375 5.515625 27.296875 \nQ 5.515625 40.671875 12.859375 48.328125 \nQ 20.21875 56 33.015625 56 \nQ 37.15625 56 41.109375 55.140625 \nQ 45.0625 54.296875 48.78125 52.59375 \nz\n\" id=\"DejaVuSans-99\"/>\n    <path d=\"M 18.3125 70.21875 \nL 18.3125 54.6875 \nL 36.8125 54.6875 \nL 36.8125 47.703125 \nL 18.3125 47.703125 \nL 18.3125 18.015625 \nQ 18.3125 11.328125 20.140625 9.421875 \nQ 21.96875 7.515625 27.59375 7.515625 \nL 36.8125 7.515625 \nL 36.8125 0 \nL 27.59375 0 \nQ 17.1875 0 13.234375 3.875 \nQ 9.28125 7.765625 9.28125 18.015625 \nL 9.28125 47.703125 \nL 2.6875 47.703125 \nL 2.6875 54.6875 \nL 9.28125 54.6875 \nL 9.28125 70.21875 \nz\n\" id=\"DejaVuSans-116\"/>\n    <path d=\"M 30.609375 48.390625 \nQ 23.390625 48.390625 19.1875 42.75 \nQ 14.984375 37.109375 14.984375 27.296875 \nQ 14.984375 17.484375 19.15625 11.84375 \nQ 23.34375 6.203125 30.609375 6.203125 \nQ 37.796875 6.203125 41.984375 11.859375 \nQ 46.1875 17.53125 46.1875 27.296875 \nQ 46.1875 37.015625 41.984375 42.703125 \nQ 37.796875 48.390625 30.609375 48.390625 \nz\nM 30.609375 56 \nQ 42.328125 56 49.015625 48.375 \nQ 55.71875 40.765625 55.71875 27.296875 \nQ 55.71875 13.875 49.015625 6.21875 \nQ 42.328125 -1.421875 30.609375 -1.421875 \nQ 18.84375 -1.421875 12.171875 6.21875 \nQ 5.515625 13.875 5.515625 27.296875 \nQ 5.515625 40.765625 12.171875 48.375 \nQ 18.84375 56 30.609375 56 \nz\n\" id=\"DejaVuSans-111\"/>\n    <path d=\"M 41.109375 46.296875 \nQ 39.59375 47.171875 37.8125 47.578125 \nQ 36.03125 48 33.890625 48 \nQ 26.265625 48 22.1875 43.046875 \nQ 18.109375 38.09375 18.109375 28.8125 \nL 18.109375 0 \nL 9.078125 0 \nL 9.078125 54.6875 \nL 18.109375 54.6875 \nL 18.109375 46.1875 \nQ 20.953125 51.171875 25.484375 53.578125 \nQ 30.03125 56 36.53125 56 \nQ 37.453125 56 38.578125 55.875 \nQ 39.703125 55.765625 41.0625 55.515625 \nz\n\" id=\"DejaVuSans-114\"/>\n    <path d=\"M 18.109375 8.203125 \nL 18.109375 -20.796875 \nL 9.078125 -20.796875 \nL 9.078125 54.6875 \nL 18.109375 54.6875 \nL 18.109375 46.390625 \nQ 20.953125 51.265625 25.265625 53.625 \nQ 29.59375 56 35.59375 56 \nQ 45.5625 56 51.78125 48.09375 \nQ 58.015625 40.1875 58.015625 27.296875 \nQ 58.015625 14.40625 51.78125 6.484375 \nQ 45.5625 -1.421875 35.59375 -1.421875 \nQ 29.59375 -1.421875 25.265625 0.953125 \nQ 20.953125 3.328125 18.109375 8.203125 \nz\nM 48.6875 27.296875 \nQ 48.6875 37.203125 44.609375 42.84375 \nQ 40.53125 48.484375 33.40625 48.484375 \nQ 26.265625 48.484375 22.1875 42.84375 \nQ 18.109375 37.203125 18.109375 27.296875 \nQ 18.109375 17.390625 22.1875 11.75 \nQ 26.265625 6.109375 33.40625 6.109375 \nQ 40.53125 6.109375 44.609375 11.75 \nQ 48.6875 17.390625 48.6875 27.296875 \nz\n\" id=\"DejaVuSans-112\"/>\n    <path d=\"M 45.40625 46.390625 \nL 45.40625 75.984375 \nL 54.390625 75.984375 \nL 54.390625 0 \nL 45.40625 0 \nL 45.40625 8.203125 \nQ 42.578125 3.328125 38.25 0.953125 \nQ 33.9375 -1.421875 27.875 -1.421875 \nQ 17.96875 -1.421875 11.734375 6.484375 \nQ 5.515625 14.40625 5.515625 27.296875 \nQ 5.515625 40.1875 11.734375 48.09375 \nQ 17.96875 56 27.875 56 \nQ 33.9375 56 38.25 53.625 \nQ 42.578125 51.265625 45.40625 46.390625 \nz\nM 14.796875 27.296875 \nQ 14.796875 17.390625 18.875 11.75 \nQ 22.953125 6.109375 30.078125 6.109375 \nQ 37.203125 6.109375 41.296875 11.75 \nQ 45.40625 17.390625 45.40625 27.296875 \nQ 45.40625 37.203125 41.296875 42.84375 \nQ 37.203125 48.484375 30.078125 48.484375 \nQ 22.953125 48.484375 18.875 42.84375 \nQ 14.796875 37.203125 14.796875 27.296875 \nz\n\" id=\"DejaVuSans-100\"/>\n   </defs>\n   <g transform=\"translate(53.317187 19.3575)scale(0.16 -0.16)\">\n    <use xlink:href=\"#DejaVuSans-86\"/>\n    <use x=\"66.158203\" xlink:href=\"#DejaVuSans-105\"/>\n    <use x=\"93.941406\" xlink:href=\"#DejaVuSans-115\"/>\n    <use x=\"146.041016\" xlink:href=\"#DejaVuSans-117\"/>\n    <use x=\"209.419922\" xlink:href=\"#DejaVuSans-97\"/>\n    <use x=\"270.699219\" xlink:href=\"#DejaVuSans-108\"/>\n    <use x=\"298.482422\" xlink:href=\"#DejaVuSans-105\"/>\n    <use x=\"326.265625\" xlink:href=\"#DejaVuSans-122\"/>\n    <use x=\"378.755859\" xlink:href=\"#DejaVuSans-105\"/>\n    <use x=\"406.539062\" xlink:href=\"#DejaVuSans-110\"/>\n    <use x=\"469.917969\" xlink:href=\"#DejaVuSans-103\"/>\n    <use x=\"533.394531\" xlink:href=\"#DejaVuSans-32\"/>\n    <use x=\"565.181641\" xlink:href=\"#DejaVuSans-102\"/>\n    <use x=\"600.386719\" xlink:href=\"#DejaVuSans-117\"/>\n    <use x=\"663.765625\" xlink:href=\"#DejaVuSans-110\"/>\n    <use x=\"727.144531\" xlink:href=\"#DejaVuSans-99\"/>\n    <use x=\"782.125\" xlink:href=\"#DejaVuSans-116\"/>\n    <use x=\"821.333984\" xlink:href=\"#DejaVuSans-105\"/>\n    <use x=\"849.117188\" xlink:href=\"#DejaVuSans-111\"/>\n    <use x=\"910.298828\" xlink:href=\"#DejaVuSans-110\"/>\n    <use x=\"973.677734\" xlink:href=\"#DejaVuSans-32\"/>\n    <use x=\"1005.464844\" xlink:href=\"#DejaVuSans-115\"/>\n    <use x=\"1057.564453\" xlink:href=\"#DejaVuSans-99\"/>\n    <use x=\"1112.544922\" xlink:href=\"#DejaVuSans-97\"/>\n    <use x=\"1173.824219\" xlink:href=\"#DejaVuSans-108\"/>\n    <use x=\"1201.607422\" xlink:href=\"#DejaVuSans-97\"/>\n    <use x=\"1262.886719\" xlink:href=\"#DejaVuSans-114\"/>\n    <use x=\"1304\" xlink:href=\"#DejaVuSans-32\"/>\n    <use x=\"1335.787109\" xlink:href=\"#DejaVuSans-112\"/>\n    <use x=\"1399.263672\" xlink:href=\"#DejaVuSans-114\"/>\n    <use x=\"1438.126953\" xlink:href=\"#DejaVuSans-111\"/>\n    <use x=\"1499.308594\" xlink:href=\"#DejaVuSans-100\"/>\n    <use x=\"1562.785156\" xlink:href=\"#DejaVuSans-117\"/>\n    <use x=\"1626.164062\" xlink:href=\"#DejaVuSans-99\"/>\n    <use x=\"1681.144531\" xlink:href=\"#DejaVuSans-116\"/>\n   </g>\n  </g>\n </g>\n <defs>\n  <clipPath id=\"pde412e202c\">\n   <rect height=\"217.44\" width=\"334.8\" x=\"28.942188\" y=\"36\"/>\n  </clipPath>\n </defs>\n</svg>\n",
      "image/png": "[encoded data removed]"
     },
     "metadata": {
      "needs_background": "light"
     }
    }
   ],
   "source": [
    "from my_plot import plot\n",
    "\n",
    "def g(x):\n",
    "    return sin(x)\n",
    "\n",
    "def mult_function(scalar, f):\n",
    "    def new_function(x):\n",
    "        return scalar * g(x)\n",
    "    return new_function\n",
    "\n",
    "plot([g, mult_function(3, g)], -10, 10, 'Visualizing function scalar product')"
   ]
  },
  {
   "source": [
    "Everything we've seen so far indicates that functions are actually a vector space, and that we would be able to create a Python class for functions and make it inherit from `Vector` and then do linear combinations of functions such as `2 * f - 6 * g`.\n",
    "\n",
    "But what is the dimension of the functions vector space? In order to do so, we need to think about how many real numbers uniquely identify a function, in the same way that we know that a set of 2 vectors uniquely identify a vector in the plane, and three values identify a vector in the 3D space.\n",
    "\n",
    "By following that reasoning, we end up to the conclusion that the dimension of the functions vector space is infinite &mdash; in order to uniquely define a function $ f(x) $ we require all of the possible values of $ x $."
   ],
   "cell_type": "markdown",
   "metadata": {}
  },
  {
   "cell_type": "code",
   "execution_count": null,
   "metadata": {},
   "outputs": [],
   "source": [
    "### Treating matrices as vectors\n",
    "\n",
    "tbd"
   ]
  }
 ]
}