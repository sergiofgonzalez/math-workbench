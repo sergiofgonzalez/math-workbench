{
 "cells": [
  {
   "cell_type": "markdown",
   "source": [
    "# Vectors in the 2D plane\n",
    "\n",
    "## Contents\n",
    "TBD"
   ],
   "metadata": {}
  },
  {
   "cell_type": "markdown",
   "source": [
    "## Introduction\n",
    "\n",
    "Vectors are objects that live in multi-dimensional spaces. They have their own notions of arithmetic (adding, multiplying, ...).\n",
    "\n",
    "In this chapter, we deal with 2D vectors."
   ],
   "metadata": {}
  },
  {
   "cell_type": "markdown",
   "source": [
    "## Picturing 2D vectors\n",
    "\n",
    "In Math terms, the 2D space is referred to as a **plane**. \n",
    "\n",
    "Locations in the *plane* are identified by their vertical and horizontal positions, typically referred to a reference point: the **origin** of the plane.\n",
    "\n",
    "> A **2D vector** is a point in the plane relative to the **origin**.\n",
    "\n",
    "Alternatively, you can think of a vector as a straight arrow in the plane."
   ],
   "metadata": {}
  },
  {
   "cell_type": "markdown",
   "source": [
    "2D vectors are represented laying out in the plane two perpendicular axes that intersect at the origin of the plane. The horizontal axis (singular of axes) is called the **x-axis** and the vertical **axis** is called the **y-axis**.\n",
    "\n",
    "A point in the plane is identified by its **x** and **y** coordinates which gives us where the point lines up with x and y axes.\n",
    "\n",
    "We typically write coordinates as an ordered pair (or tuple) with the x-coordinate first, and y-coordinate second, for example $(6, 4)$."
   ],
   "metadata": {}
  },
  {
   "cell_type": "markdown",
   "source": [
    "### 2D drawing in Python\n",
    "\n",
    "We will be using a small set of custom-built functions to create drawings, built on top of `Matplotlib`. That will let us draw build 2D images using vector data.\n",
    "\n",
    "The following table lists some Python classes representing geametric figures. All of them can be used with a function called `draw()` that takes them as input.\n",
    "\n",
    "| Class | Constructor Example | Description |\n",
    "| :---- | :------------------ | :---------- |\n",
    "| `Polygon` | `Polygon(*vectors)` | Represents a polygon whose vertices are identified by a list of vectors. |\n",
    "| `Points` | `Points(*vectors)` | Represent a list of points to draw. |\n",
    "| `Arrow` | `Arrow(tip, [tail])` | Represents an arrow from the origin to the tip of the vector, or from the tail vector to the tip vector if `tail` is given. |\n",
    "| `Segment` | `Segment(start, end)` | Represents a line segment from the start vector to the end vector. |\n",
    "\n",
    "There are few extra options you can pass to the `draw()` function:\n",
    "+ `grid=(x_unit, y_unit)` &mdash; use x_unit, y_unit values for each of the x-axis and y-axis unit step\n",
    "+ `nice_aspect_ratio` &mdash; instructs `draw()` not to keep the x-axis and y-axis scales the same"
   ],
   "metadata": {}
  },
  {
   "cell_type": "markdown",
   "source": [
    "Let's see it in action by drawing the points. First of all, to avoid having different versions of the drawing library we include the location of the library in the path with the following trick.\n",
    "\n",
    "Additionally, we need to adjust Pylance settings so that the same directory is made known to it."
   ],
   "metadata": {}
  },
  {
   "cell_type": "code",
   "execution_count": 3,
   "source": [
    "import sys\n",
    "sys.path.append('../e02-vector-drawing-lib/')\n"
   ],
   "outputs": [],
   "metadata": {}
  },
  {
   "cell_type": "code",
   "execution_count": 4,
   "source": [
    "\n",
    "from my_vector_drawing_lib import draw, Points\n",
    "\n",
    "dino_points = [(6, 4), (3, 1), (1, 2), (-1, 5), (-2, 5), (-3, 4), (-4, 4), (-5, 3), (-5, 2), (-2, 2), (-5, 1), (-4, 0), (-2, 1), (-1, 0),\n",
    "                        (0, -3), (-1, -4), (1, -4), (2, -3), (1, -2), (3, -1), (5, 1)]\n",
    "\n",
    "draw(\n",
    "    Points(*dino_points)\n",
    ")\n"
   ],
   "outputs": [
    {
     "output_type": "display_data",
     "data": {
      "image/png": "[encoded data removed]",
      "text/plain": [
       "<Figure size 432x365.538 with 1 Axes>"
      ]
     },
     "metadata": {
      "needs_background": "light"
     }
    }
   ],
   "metadata": {}
  },
  {
   "cell_type": "markdown",
   "source": [
    "## Plane vector arithmetic"
   ],
   "metadata": {}
  }
 ],
 "metadata": {
  "orig_nbformat": 4,
  "language_info": {
   "name": "python",
   "version": "3.8.8",
   "mimetype": "text/x-python",
   "codemirror_mode": {
    "name": "ipython",
    "version": 3
   },
   "pygments_lexer": "ipython3",
   "nbconvert_exporter": "python",
   "file_extension": ".py"
  },
  "kernelspec": {
   "name": "python3",
   "display_name": "Python 3.8.8 64-bit ('base': conda)"
  },
  "interpreter": {
   "hash": "ead85409a3df2736fa4852a03cf3afe7e5b1dbdc0e40d7d22bbcbf8cf1adf5fa"
  }
 },
 "nbformat": 4,
 "nbformat_minor": 2
}