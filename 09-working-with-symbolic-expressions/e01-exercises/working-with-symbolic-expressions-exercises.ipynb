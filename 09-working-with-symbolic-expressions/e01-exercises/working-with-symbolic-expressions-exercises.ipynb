{
 "metadata": {
  "language_info": {
   "codemirror_mode": {
    "name": "ipython",
    "version": 3
   },
   "file_extension": ".py",
   "mimetype": "text/x-python",
   "name": "python",
   "nbconvert_exporter": "python",
   "pygments_lexer": "ipython3",
   "version": "3.8.3-final"
  },
  "orig_nbformat": 2,
  "kernelspec": {
   "name": "python3",
   "display_name": "Python 3",
   "language": "python"
  }
 },
 "nbformat": 4,
 "nbformat_minor": 2,
 "cells": [
  {
   "source": [
    "# Exercises on working with symbolic expressions"
   ],
   "cell_type": "markdown",
   "metadata": {}
  },
  {
   "source": [
    "## Exercises 10.1\n",
    "\n",
    "You may have met the natural algorithm, a special mathematical function written $ ln(x) $. **Draw** the expression $ ln(y \\cdot z) $ as a tree built from the elements and combinators described in the previous section."
   ],
   "cell_type": "markdown",
   "metadata": {}
  },
  {
   "source": [
    "Using the same template I used in the concepts section, we get to:\n",
    "\n",
    "![ln(y · z)](../images/ln_y_z.png)\n"
   ],
   "cell_type": "markdown",
   "metadata": {}
  },
  {
   "source": [
    "## Exercise 10.2\n",
    "\n",
    "Translate the expression $ ln(y^z) $ from the previous exercise to Python code. Write it both as a Python function and as a data structure built from elements and combinators.\n",
    "\n",
    "Hint: the natural logarithm is calculated by the Python function `math.log`."
   ],
   "cell_type": "markdown",
   "metadata": {}
  },
  {
   "cell_type": "code",
   "execution_count": null,
   "metadata": {},
   "outputs": [],
   "source": [
    "Let's start by writing the Python function, followed by the data structure from the classes in `my_expressions.py`:"
   ]
  },
  {
   "cell_type": "code",
   "execution_count": 2,
   "metadata": {},
   "outputs": [],
   "source": [
    "from my_expressions import *\n",
    "from math import log\n",
    "\n",
    "def f(y, z):\n",
    "    return log(y ** z)\n",
    "\n",
    "f_expression = Apply(\n",
    "    Function('ln'),\n",
    "    Power(\n",
    "        Variable('y'),\n",
    "        Variable('z')\n",
    "    )\n",
    ")"
   ]
  },
  {
   "source": [
    "## Exercise 10.3\n",
    "\n",
    "What is the expression represented by `Product(Number(3),Sum(Variable(\"y\"),Variable(\"z\")))`?"
   ],
   "cell_type": "markdown",
   "metadata": {}
  },
  {
   "source": [
    "The previous code represents the expression:\n",
    "\n",
    "$\n",
    "\\displaystyle\n",
    "3 \\cdot (y + z)\n",
    "$\n",
    "\n",
    "Note that the parentheses are not needed in the tree, but required to represent the algebraic expression"
   ],
   "cell_type": "markdown",
   "metadata": {}
  },
  {
   "source": [
    "## Exercise 10.4\n",
    "\n",
    "Implement a `Quotient` combinator representing one expression divided by another. How do you represent the following expression?\n",
    "\n",
    "$\n",
    "\\displaystyle\n",
    "\\frac{a + b}{2}\n",
    "$"
   ],
   "cell_type": "markdown",
   "metadata": {}
  },
  {
   "source": [
    "Let's start with the implementation:"
   ],
   "cell_type": "markdown",
   "metadata": {}
  },
  {
   "cell_type": "code",
   "execution_count": null,
   "metadata": {},
   "outputs": [],
   "source": [
    "class Quotient():\n",
    "    def __init__(self, numerator, denominator):\n",
    "        self.numerator = numerator        \n",
    "        self.denominator = denominator\n",
    "        "
   ]
  },
  {
   "cell_type": "code",
   "execution_count": null,
   "metadata": {},
   "outputs": [],
   "source": [
    "Once defined, the previous expression can be easily implemented as:"
   ]
  },
  {
   "cell_type": "code",
   "execution_count": null,
   "metadata": {},
   "outputs": [],
   "source": [
    "from my_expressions import *\n",
    "\n",
    "expr = Quotient(\n",
    "    Sum(\n",
    "        Variable('a'),\n",
    "        Variable('b')\n",
    "    ),\n",
    "    Number(2)\n",
    ")"
   ]
  },
  {
   "source": [
    "## Exercise 10.5\n",
    "\n",
    "Implement a `Difference` combinator representing one expression subtracted from another. How can you represent the expression $ b^2 - 4ac $?"
   ],
   "cell_type": "markdown",
   "metadata": {}
  },
  {
   "source": [
    "Let's go straight ahead:"
   ],
   "cell_type": "markdown",
   "metadata": {}
  },
  {
   "cell_type": "code",
   "execution_count": null,
   "metadata": {},
   "outputs": [],
   "source": [
    "class Difference():\n",
    "    def __init__(self, expr1, expr2):\n",
    "        self.expr1 = expr1\n",
    "        self.expr2 = expr2"
   ]
  },
  {
   "cell_type": "code",
   "execution_count": null,
   "metadata": {},
   "outputs": [],
   "source": [
    "from my_expressions import *\n",
    "\n",
    "Difference(\n",
    "    Power(\n",
    "        Variable('b'),\n",
    "        Number(2)\n",
    "    ),\n",
    "    Product(\n",
    "        Number(4),\n",
    "        Product(\n",
    "            Variable('a'),\n",
    "            Variable('c')\n",
    "        )\n",
    "    )\n",
    ")"
   ]
  },
  {
   "source": [
    "Note that as `Product` does not allow a variable number of arguments, we had to use function composition to represent $ 4ac $."
   ],
   "cell_type": "markdown",
   "metadata": {}
  },
  {
   "source": [
    "## Exercise 10.6\n",
    "\n",
    "Implement a `Negative` combinator representing the negation of an expression. For example, the negation of $ x^2 + y $ is $ -(x^2 + y) $. Represent the latter using the new combinator."
   ],
   "cell_type": "markdown",
   "metadata": {}
  },
  {
   "cell_type": "code",
   "execution_count": 1,
   "metadata": {},
   "outputs": [
    {
     "output_type": "execute_result",
     "data": {
      "text/plain": [
       "<my_expressions.Negative at 0x7faad0db66d0>"
      ]
     },
     "metadata": {},
     "execution_count": 1
    }
   ],
   "source": [
    "from my_expressions import *\n",
    "\n",
    "Negative(\n",
    "    Sum(\n",
    "        Power(Variable('x'), Number(2)), \n",
    "        Variable('y'))\n",
    ")"
   ]
  },
  {
   "source": [
    "## Exercise 10.7\n",
    "\n",
    "Add a function called `Sqrt` that represents a square root, and use it to encode the following formula:\n",
    "\n",
    "$$\n",
    "\\displaystyle\n",
    "\\frac{-b + \\sqrt{b² - 4ac}}{2a}\n",
    "$$"
   ],
   "cell_type": "markdown",
   "metadata": {}
  },
  {
   "cell_type": "code",
   "execution_count": null,
   "metadata": {},
   "outputs": [],
   "source": [
    "Note that the exercise is not requesting us to define a new combinator, but rather to use the existing ones to encode the formula above.\n",
    "\n",
    "What we can do to avoid extra typing is to create named instances of the elements that are repeated:"
   ]
  },
  {
   "cell_type": "code",
   "execution_count": null,
   "metadata": {},
   "outputs": [],
   "source": [
    "from my_expressions import *\n",
    "\n",
    "A = Variable('a')\n",
    "B = Variable('b')\n",
    "C = Variable('c')\n",
    "Sqrt = Function('sqrt')\n",
    "\n",
    "Quotient(\n",
    "    Sum(\n",
    "        Negative(B),\n",
    "        Apply(\n",
    "            Sqrt,\n",
    "            Difference(\n",
    "                Power(B, 2),\n",
    "                Product(\n",
    "                    Number(4),\n",
    "                    Product(A, C)\n",
    "                    )\n",
    "            )\n",
    "        )\n",
    "    ),\n",
    "    Product(Number(2), A)\n",
    ")"
   ]
  },
  {
   "source": [
    "## Exercise 10.8\n",
    "\n",
    "Create an abstract base class called `Expression` and make all of the elements and combinators inherit from it.\n",
    "\n",
    "For example, `class Variable()` will become `class Variable(Expression)`. Then overload the Python arithmetic operations `+`, `-`, `*` and `/` so that they produce `Expression` objects.\n",
    "\n",
    "For instance, the code `2 * Variable('x') + 3` should yield `Sum(Product(Number(2), Variable('x')), Number(3))."
   ],
   "cell_type": "markdown",
   "metadata": {}
  },
  {
   "source": [
    "It is resolved in [my_expressions_v2](my_expressions_v2.py). Note however that initially, the string representation of the algebraic expression is not there."
   ],
   "cell_type": "markdown",
   "metadata": {}
  },
  {
   "source": [
    "## Exercise 10.9\n",
    "\n",
    "Write a function `contains(expression, variable)` that checks whether the given expression contains any occurrence of the specified variable.\n",
    "\n",
    "Usage should be as:\n",
    "\n",
    "```python\n",
    "print(contains(Variable('x'), Variable('x'))) # => True\n",
    "print(contains(Variable('x'), Variable('y'))) # => False\n",
    "```"
   ],
   "cell_type": "markdown",
   "metadata": {}
  },
  {
   "source": [
    "The implementation is as follows:\n",
    "\n",
    "```python\n",
    "def contains(expr, var):\n",
    "    if isinstance(expr, Variable):\n",
    "        return expr.symbol == var.symbol\n",
    "    elif isinstance(expr, Number):\n",
    "        return False\n",
    "    elif isinstance(expr, Power):\n",
    "        return contains(expr.base, var) or contains(expr.exponent, var)\n",
    "    elif isinstance(expr, Product):\n",
    "        return contains(expr.expr1, var) or contains(expr.expr2, var)\n",
    "    elif isinstance(expr, Sum):\n",
    "        return any([contains(sum_expr, var) for sum_expr in expr.exprs])\n",
    "    elif isinstance(expr, Quotient):\n",
    "        return contains(expr.numerator, var) or contains(expr.denominator, var)\n",
    "    elif isinstance(expr, Difference):\n",
    "        return contains(expr.expr1, var) or contains(expr.expr2, var)\n",
    "    elif isinstance(expr, Negative):\n",
    "        return contains(expr.expr, var)\n",
    "    elif isinstance(expr, Apply):\n",
    "        return contains(expr.argument, var)\n",
    "    else:\n",
    "        raise TypeError('Not a valid expression')\n",
    "```\n",
    "\n",
    "And it has been included in [my_expressions_v2.py](./my_expressions_v2.py)."
   ],
   "cell_type": "markdown",
   "metadata": {}
  },
  {
   "cell_type": "code",
   "execution_count": 1,
   "metadata": {},
   "outputs": [
    {
     "output_type": "stream",
     "name": "stdout",
     "text": [
      "True\nFalse\n"
     ]
    }
   ],
   "source": [
    "from my_expressions_v2 import *\n",
    "\n",
    "expr = Product(\n",
    "    Sum(\n",
    "        Power(Product(Number(3), Variable('x')), Number(2)),\n",
    "        Variable('x')),\n",
    "    Apply(Function('sin'), Variable('x'))\n",
    ")\n",
    "\n",
    "print(contains(expr, Variable('x')))\n",
    "print(contains(expr, Variable('y')))"
   ]
  },
  {
   "source": [
    "## Exercise 10.10\n",
    "\n",
    "Write a `distinct_functions(expr)` function that takes an expression as an argument and returns the distinct named functions (like `sin` or `ln`) that appear in the expression."
   ],
   "cell_type": "markdown",
   "metadata": {}
  },
  {
   "source": [
    "The implementation is pretty similar to our existing `distinct_variables` function:\n",
    "\n",
    "```python\n",
    "def distinct_functions(expr):\n",
    "    if isinstance(expr, Variable):\n",
    "        return set()\n",
    "    elif isinstance(expr, Number):\n",
    "        return set()\n",
    "    elif isinstance(expr, Sum):\n",
    "        return set().union(*[distinct_functions(inner_expr) for inner_expr in expr.exprs])\n",
    "    elif isinstance(expr, Product):\n",
    "        return distinct_functions(expr.expr1).union(distinct_functions(expr.expr2))\n",
    "    elif isinstance(expr, Power):\n",
    "        return distinct_functions(expr.base).union(distinct_functions(expr.exponent))\n",
    "    elif isinstance(expr, Apply):\n",
    "        return set([expr.function.name]).union(distinct_functions(expr.argument))\n",
    "    elif isinstance(expr, Quotient):\n",
    "        return distinct_functions(expr.numerator).union(expr.denominator)\n",
    "    elif isinstance(expr, Difference):\n",
    "        return distinct_functions(expr.expr1).union(expr.expr2)\n",
    "    elif isinstance(expr, Negative):\n",
    "        return distinct_functions(expr.expr)\n",
    "    else:\n",
    "        raise TypeError('Not a valid expression')\n",
    "```"
   ],
   "cell_type": "markdown",
   "metadata": {}
  },
  {
   "cell_type": "code",
   "execution_count": 2,
   "metadata": {},
   "outputs": [
    {
     "output_type": "stream",
     "name": "stdout",
     "text": [
      "{'sin', 'ln'}\n"
     ]
    }
   ],
   "source": [
    "from my_expressions_v2 import *\n",
    "\n",
    "expr = Product(\n",
    "    Sum(\n",
    "        Power(Product(Apply(Function('ln'), Number(3)), Variable('x')), Number(2)),\n",
    "        Variable('x')),\n",
    "    Apply(Function('sin'), Variable('x'))\n",
    ")\n",
    "\n",
    "print(distinct_functions(expr))\n"
   ]
  },
  {
   "source": [
    "## Exercise 10.11\n",
    "\n",
    "Write a function `contains_sum` that takes an expression and returns `True` if if contains a sum, or `False` otherwise."
   ],
   "cell_type": "markdown",
   "metadata": {}
  },
  {
   "source": [
    "This is very simular to the `contains(expr, var)` implementation:\n",
    "\n",
    "```python\n",
    "def contains_sum(expr):\n",
    "    if isinstance(expr, Variable):\n",
    "        return False\n",
    "    elif isinstance(expr, Number):\n",
    "        return False\n",
    "    elif isinstance(expr, Power):\n",
    "        return contains_sum(expr.base) or contains_sum(expr.exponent)\n",
    "    elif isinstance(expr, Product):\n",
    "        return contains_sum(expr.expr1) or contains_sum(expr.expr2)\n",
    "    elif isinstance(expr, Sum):\n",
    "        return True\n",
    "    elif isinstance(expr, Quotient):\n",
    "        return contains_sum(expr.numerator) or contains_sum(expr.denominator)\n",
    "    elif isinstance(expr, Difference):\n",
    "        return contains_sum(expr.expr1) or contains_sum(expr.expr2)\n",
    "    elif isinstance(expr, Negative):\n",
    "        return contains_sum(expr.expr)\n",
    "    elif isinstance(expr, Apply):\n",
    "        return contains_sum(expr.argument)\n",
    "    else:\n",
    "        raise TypeError('Not a valid expression')\n",
    "```"
   ],
   "cell_type": "markdown",
   "metadata": {}
  },
  {
   "cell_type": "code",
   "execution_count": 1,
   "metadata": {},
   "outputs": [
    {
     "output_type": "stream",
     "name": "stdout",
     "text": [
      "True\nFalse\n"
     ]
    }
   ],
   "source": [
    "from my_expressions_v2 import *\n",
    "\n",
    "\n",
    "expr = Product(\n",
    "    Sum(\n",
    "        Power(Product(Number(3), Variable('x')), Number(2)),\n",
    "        Variable('x')),\n",
    "    Apply(Function('sin'), Variable('x'))\n",
    ")\n",
    "print(contains_sum(expr))\n",
    "\n",
    "expr = Product(\n",
    "    Product(\n",
    "        Power(Product(Number(3), Variable('x')), Number(2)),\n",
    "        Variable('x')),\n",
    "    Apply(Function('sin'), Variable('x'))\n",
    ")\n",
    "\n",
    "print(contains_sum(expr))"
   ]
  },
  {
   "source": [
    "## Exercise 10.12\n",
    "\n",
    "Write a `__repr__` method on the `Expression` classes so that they appear legibly in an interactive session."
   ],
   "cell_type": "markdown",
   "metadata": {}
  },
  {
   "source": [
    "The approach will be similar to the one taken for the implementation of the `evaluate()` method.\n",
    "\n",
    "+ We define the `__repr__()` method on the `Expression` abstract base class\n",
    "+ Then we implement what the implementation will be for each of the *elements* and *combinators*.\n",
    "\n",
    "The idea is that when printing the expression we get the same string we would use when defining the algebraic expression in Python:"
   ],
   "cell_type": "markdown",
   "metadata": {}
  },
  {
   "cell_type": "code",
   "execution_count": 4,
   "metadata": {},
   "outputs": [
    {
     "output_type": "stream",
     "name": "stdout",
     "text": [
      "Product(Sum(Power(Product(Number(3), Variable('x')), Number(2)), Variable('x')), Apply(Function('sin'), Variable('x')))\nTrue\n"
     ]
    }
   ],
   "source": [
    "from my_expressions_v2 import *\n",
    "\n",
    "expr = Product(\n",
    "    Sum(\n",
    "        Power(Product(Number(3), Variable('x')), Number(2)),\n",
    "        Variable('x')),\n",
    "    Apply(Function('sin'), Variable('x'))\n",
    ")\n",
    "\n",
    "print(expr)\n",
    "\n",
    "str=\"Product(Sum(Power(Product(Number(3), Variable('x')), Number(2)), Variable('x')), Apply(Function('sin'), Variable('x')))\"\n",
    "\n",
    "print('{}'.format(expr) == str)\n"
   ]
  },
  {
   "source": [
    "## Exercise 10.13\n",
    "\n",
    "If you know how to encode equations using the *LaTeX* language, write a `__repr_latex__()` method on the `Expression` classes that return *LaTeX* code representing the given expression.\n",
    "\n",
    "You should see nicely typeset renderings of your expressions in Jupyter after adding the method."
   ],
   "cell_type": "markdown",
   "metadata": {}
  }
 ]
}