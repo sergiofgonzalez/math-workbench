{
 "metadata": {
  "language_info": {
   "codemirror_mode": {
    "name": "ipython",
    "version": 3
   },
   "file_extension": ".py",
   "mimetype": "text/x-python",
   "name": "python",
   "nbconvert_exporter": "python",
   "pygments_lexer": "ipython3",
   "version": "3.8.3-final"
  },
  "orig_nbformat": 2,
  "kernelspec": {
   "name": "python3",
   "display_name": "Python 3",
   "language": "python"
  }
 },
 "nbformat": 4,
 "nbformat_minor": 2,
 "cells": [
  {
   "source": [
    "# Exercises on working with symbolic expressions"
   ],
   "cell_type": "markdown",
   "metadata": {}
  },
  {
   "source": [
    "## Exercises 10.1\n",
    "\n",
    "You may have met the natural algorithm, a special mathematical function written $ ln(x) $. **Draw** the expression $ ln(y \\cdot z) $ as a tree built from the elements and combinators described in the previous section."
   ],
   "cell_type": "markdown",
   "metadata": {}
  },
  {
   "source": [
    "Using the same template I used in the concepts section, we get to:\n",
    "\n",
    "![ln(y · z)](../images/ln_y_z.png)\n"
   ],
   "cell_type": "markdown",
   "metadata": {}
  },
  {
   "source": [
    "## Exercise 10.2\n",
    "\n",
    "Translate the expression $ ln(y^z) $ from the previous exercise to Python code. Write it both as a Python function and as a data structure built from elements and combinators.\n",
    "\n",
    "Hint: the natural logarithm is calculated by the Python function `math.log`."
   ],
   "cell_type": "markdown",
   "metadata": {}
  },
  {
   "cell_type": "code",
   "execution_count": null,
   "metadata": {},
   "outputs": [],
   "source": [
    "Let's start by writing the Python function, followed by the data structure from the classes in `my_expressions.py`:"
   ]
  },
  {
   "cell_type": "code",
   "execution_count": 2,
   "metadata": {},
   "outputs": [],
   "source": [
    "from my_expressions import *\n",
    "from math import log\n",
    "\n",
    "def f(y, z):\n",
    "    return log(y ** z)\n",
    "\n",
    "f_expression = Apply(\n",
    "    Function('ln'),\n",
    "    Power(\n",
    "        Variable('y'),\n",
    "        Variable('z')\n",
    "    )\n",
    ")"
   ]
  },
  {
   "source": [
    "## Exercise 10.3\n",
    "\n",
    "What is the expression represented by `Product(Number(3),Sum(Variable(\"y\"),Variable(\"z\")))`?"
   ],
   "cell_type": "markdown",
   "metadata": {}
  },
  {
   "source": [
    "The previous code represents the expression:\n",
    "\n",
    "$\n",
    "\\displaystyle\n",
    "3 \\cdot (y + z)\n",
    "$\n",
    "\n",
    "Note that the parentheses are not needed in the tree, but required to represent the algebraic expression"
   ],
   "cell_type": "markdown",
   "metadata": {}
  },
  {
   "source": [
    "## Exercise 10.4\n",
    "\n",
    "Implement a `Quotient` combinator representing one expression divided by another. How do you represent the following expression?\n",
    "\n",
    "$\n",
    "\\displaystyle\n",
    "\\frac{a + b}{2}\n",
    "$"
   ],
   "cell_type": "markdown",
   "metadata": {}
  },
  {
   "source": [
    "Let's start with the implementation:"
   ],
   "cell_type": "markdown",
   "metadata": {}
  },
  {
   "cell_type": "code",
   "execution_count": null,
   "metadata": {},
   "outputs": [],
   "source": [
    "class Quotient():\n",
    "    def __init__(self, numerator, denominator):\n",
    "        self.numerator = numerator        \n",
    "        self.denominator = denominator\n",
    "        "
   ]
  },
  {
   "cell_type": "code",
   "execution_count": null,
   "metadata": {},
   "outputs": [],
   "source": [
    "Once defined, the previous expression can be easily implemented as:"
   ]
  },
  {
   "cell_type": "code",
   "execution_count": null,
   "metadata": {},
   "outputs": [],
   "source": [
    "from my_expressions import *\n",
    "\n",
    "expr = Quotient(\n",
    "    Sum(\n",
    "        Variable('a'),\n",
    "        Variable('b')\n",
    "    ),\n",
    "    Number(2)\n",
    ")"
   ]
  },
  {
   "source": [
    "## Exercise 10.5\n",
    "\n",
    "Implement a `Difference` combinator representing one expression subtracted from another. How can you represent the expression $ b^2 - 4ac $?"
   ],
   "cell_type": "markdown",
   "metadata": {}
  },
  {
   "source": [
    "Let's go straight ahead:"
   ],
   "cell_type": "markdown",
   "metadata": {}
  },
  {
   "cell_type": "code",
   "execution_count": null,
   "metadata": {},
   "outputs": [],
   "source": [
    "class Difference():\n",
    "    def __init__(self, expr1, expr2):\n",
    "        self.expr1 = expr1\n",
    "        self.expr2 = expr2"
   ]
  },
  {
   "cell_type": "code",
   "execution_count": null,
   "metadata": {},
   "outputs": [],
   "source": [
    "from my_expressions import *\n",
    "\n",
    "Difference(\n",
    "    Power(\n",
    "        Variable('b'),\n",
    "        Number(2)\n",
    "    ),\n",
    "    Product(\n",
    "        Number(4),\n",
    "        Product(\n",
    "            Variable('a'),\n",
    "            Variable('c')\n",
    "        )\n",
    "    )\n",
    ")"
   ]
  },
  {
   "source": [
    "Note that as `Product` does not allow a variable number of arguments, we had to use function composition to represent $ 4ac $."
   ],
   "cell_type": "markdown",
   "metadata": {}
  }
 ]
}