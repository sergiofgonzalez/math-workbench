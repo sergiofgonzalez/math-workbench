{
 "metadata": {
  "language_info": {
   "codemirror_mode": {
    "name": "ipython",
    "version": 3
   },
   "file_extension": ".py",
   "mimetype": "text/x-python",
   "name": "python",
   "nbconvert_exporter": "python",
   "pygments_lexer": "ipython3",
   "version": "3.8.3-final"
  },
  "orig_nbformat": 2,
  "kernelspec": {
   "name": "python3",
   "display_name": "Python 3",
   "language": "python"
  }
 },
 "nbformat": 4,
 "nbformat_minor": 2,
 "cells": [
  {
   "source": [
    "# Exercises on working with symbolic expressions"
   ],
   "cell_type": "markdown",
   "metadata": {}
  },
  {
   "source": [
    "## Exercises 10.1\n",
    "\n",
    "You may have met the natural algorithm, a special mathematical function written $ ln(x) $. **Draw** the expression $ ln(y \\cdot z) $ as a tree built from the elements and combinators described in the previous section."
   ],
   "cell_type": "markdown",
   "metadata": {}
  },
  {
   "source": [
    "Using the same template I used in the concepts section, we get to:\n",
    "\n",
    "![ln(y · z)](../images/ln_y_z.png)\n"
   ],
   "cell_type": "markdown",
   "metadata": {}
  },
  {
   "source": [
    "## Exercise 10.2\n",
    "\n",
    "Translate the expression $ ln(y^z) $ from the previous exercise to Python code. Write it both as a Python function and as a data structure built from elements and combinators.\n",
    "\n",
    "Hint: the natural logarithm is calculated by the Python function `math.log`."
   ],
   "cell_type": "markdown",
   "metadata": {}
  },
  {
   "cell_type": "code",
   "execution_count": null,
   "metadata": {},
   "outputs": [],
   "source": [
    "Let's start by writing the Python function, followed by the data structure from the classes in `my_expressions.py`:"
   ]
  },
  {
   "cell_type": "code",
   "execution_count": 2,
   "metadata": {},
   "outputs": [],
   "source": [
    "from my_expressions import *\n",
    "from math import log\n",
    "\n",
    "def f(y, z):\n",
    "    return log(y ** z)\n",
    "\n",
    "f_expression = Apply(\n",
    "    Function('ln'),\n",
    "    Power(\n",
    "        Variable('y'),\n",
    "        Variable('z')\n",
    "    )\n",
    ")"
   ]
  },
  {
   "source": [
    "## Exercise 10.3\n",
    "\n",
    "What is the expression represented by `Product(Number(3),Sum(Variable(\"y\"),Variable(\"z\")))`?"
   ],
   "cell_type": "markdown",
   "metadata": {}
  },
  {
   "source": [
    "The previous code represents the expression:\n",
    "\n",
    "$\n",
    "\\displaystyle\n",
    "3 \\cdot (y + z)\n",
    "$\n",
    "\n",
    "Note that the parentheses are not needed in the tree, but required to represent the algebraic expression"
   ],
   "cell_type": "markdown",
   "metadata": {}
  },
  {
   "source": [
    "## Exercise 10.4\n",
    "\n",
    "Implement a `Quotient` combinator representing one expression divided by another. How do you represent the following expression?\n",
    "\n",
    "$\n",
    "\\displaystyle\n",
    "\\frac{a + b}{2}\n",
    "$"
   ],
   "cell_type": "markdown",
   "metadata": {}
  },
  {
   "source": [
    "Let's start with the implementation:"
   ],
   "cell_type": "markdown",
   "metadata": {}
  },
  {
   "cell_type": "code",
   "execution_count": null,
   "metadata": {},
   "outputs": [],
   "source": [
    "class Quotient():\n",
    "    def __init__(self, numerator, denominator):\n",
    "        self.numerator = numerator        \n",
    "        self.denominator = denominator\n",
    "        "
   ]
  },
  {
   "cell_type": "code",
   "execution_count": null,
   "metadata": {},
   "outputs": [],
   "source": [
    "Once defined, the previous expression can be easily implemented as:"
   ]
  },
  {
   "cell_type": "code",
   "execution_count": null,
   "metadata": {},
   "outputs": [],
   "source": [
    "from my_expressions import *\n",
    "\n",
    "expr = Quotient(\n",
    "    Sum(\n",
    "        Variable('a'),\n",
    "        Variable('b')\n",
    "    ),\n",
    "    Number(2)\n",
    ")"
   ]
  },
  {
   "source": [
    "## Exercise 10.5\n",
    "\n",
    "Implement a `Difference` combinator representing one expression subtracted from another. How can you represent the expression $ b^2 - 4ac $?"
   ],
   "cell_type": "markdown",
   "metadata": {}
  },
  {
   "source": [
    "Let's go straight ahead:"
   ],
   "cell_type": "markdown",
   "metadata": {}
  },
  {
   "cell_type": "code",
   "execution_count": null,
   "metadata": {},
   "outputs": [],
   "source": [
    "class Difference():\n",
    "    def __init__(self, expr1, expr2):\n",
    "        self.expr1 = expr1\n",
    "        self.expr2 = expr2"
   ]
  },
  {
   "cell_type": "code",
   "execution_count": null,
   "metadata": {},
   "outputs": [],
   "source": [
    "from my_expressions import *\n",
    "\n",
    "Difference(\n",
    "    Power(\n",
    "        Variable('b'),\n",
    "        Number(2)\n",
    "    ),\n",
    "    Product(\n",
    "        Number(4),\n",
    "        Product(\n",
    "            Variable('a'),\n",
    "            Variable('c')\n",
    "        )\n",
    "    )\n",
    ")"
   ]
  },
  {
   "source": [
    "Note that as `Product` does not allow a variable number of arguments, we had to use function composition to represent $ 4ac $."
   ],
   "cell_type": "markdown",
   "metadata": {}
  },
  {
   "source": [
    "## Exercise 10.6\n",
    "\n",
    "Implement a `Negative` combinator representing the negation of an expression. For example, the negation of $ x^2 + y $ is $ -(x^2 + y) $. Represent the latter using the new combinator."
   ],
   "cell_type": "markdown",
   "metadata": {}
  },
  {
   "cell_type": "code",
   "execution_count": 1,
   "metadata": {},
   "outputs": [
    {
     "output_type": "execute_result",
     "data": {
      "text/plain": [
       "<my_expressions.Negative at 0x7faad0db66d0>"
      ]
     },
     "metadata": {},
     "execution_count": 1
    }
   ],
   "source": [
    "from my_expressions import *\n",
    "\n",
    "Negative(\n",
    "    Sum(\n",
    "        Power(Variable('x'), Number(2)), \n",
    "        Variable('y'))\n",
    ")"
   ]
  },
  {
   "source": [
    "## Exercise 10.7\n",
    "\n",
    "Add a function called `Sqrt` that represents a square root, and use it to encode the following formula:\n",
    "\n",
    "$$\n",
    "\\displaystyle\n",
    "\\frac{-b + \\sqrt{b² - 4ac}}{2a}\n",
    "$$"
   ],
   "cell_type": "markdown",
   "metadata": {}
  },
  {
   "cell_type": "code",
   "execution_count": null,
   "metadata": {},
   "outputs": [],
   "source": [
    "Note that the exercise is not requesting us to define a new combinator, but rather to use the existing ones to encode the formula above.\n",
    "\n",
    "What we can do to avoid extra typing is to create named instances of the elements that are repeated:"
   ]
  },
  {
   "cell_type": "code",
   "execution_count": null,
   "metadata": {},
   "outputs": [],
   "source": [
    "from my_expressions import *\n",
    "\n",
    "A = Variable('a')\n",
    "B = Variable('b')\n",
    "C = Variable('c')\n",
    "Sqrt = Function('sqrt')\n",
    "\n",
    "Quotient(\n",
    "    Sum(\n",
    "        Negative(B),\n",
    "        Apply(\n",
    "            Sqrt,\n",
    "            Difference(\n",
    "                Power(B, 2),\n",
    "                Product(\n",
    "                    Number(4),\n",
    "                    Product(A, C)\n",
    "                    )\n",
    "            )\n",
    "        )\n",
    "    ),\n",
    "    Product(Number(2), A)\n",
    ")"
   ]
  },
  {
   "source": [
    "## Exercise 10.8\n",
    "\n",
    "Create an abstract base class called `Expression` and make all of the elements and combinators inherit from it.\n",
    "\n",
    "For example, `class Variable()` will become `class Variable(Expression)`. Then overload the Python arithmetic operations `+`, `-`, `*` and `/` so that they produce `Expression` objects.\n",
    "\n",
    "For instance, the code `2 * Variable('x') + 3` should yield `Sum(Product(Number(2), Variable('x')), Number(3))."
   ],
   "cell_type": "markdown",
   "metadata": {}
  },
  {
   "source": [
    "It is resolved in [my_expressions_v2](my_expressions_v2.py). Note however that initially, the string representation of the algebraic expression is not there."
   ],
   "cell_type": "markdown",
   "metadata": {}
  }
 ]
}