{
 "metadata": {
  "language_info": {
   "codemirror_mode": {
    "name": "ipython",
    "version": 3
   },
   "file_extension": ".py",
   "mimetype": "text/x-python",
   "name": "python",
   "nbconvert_exporter": "python",
   "pygments_lexer": "ipython3",
   "version": "3.8.3-final"
  },
  "orig_nbformat": 2,
  "kernelspec": {
   "name": "python3",
   "display_name": "Python 3",
   "language": "python"
  }
 },
 "nbformat": 4,
 "nbformat_minor": 2,
 "cells": [
  {
   "source": [
    "# Working with symbolic expressions\n",
    "\n",
    "## Contents\n",
    "+ Modeling algebraic expressions as data structures\n",
    "+ Writing code to analyze, transform, or evaluate algebraic expressions\n",
    "+ Finding the derivative of a function by manipulating the expression that defines it\n",
    "+ Writing a Python function for automatic derivatives\n",
    "+ Using *SymPy* library for automatic integrals"
   ],
   "cell_type": "markdown",
   "metadata": {}
  },
  {
   "source": [
    "## Introduction\n",
    "\n",
    "In the previous chapters we've used Python to approximate solutions for two of the most important concepts in calculus: derivatives and integrals. \n",
    "\n",
    "We learned to calculate derivatives by taking slopes of smaller and smaller secant lines, and to calculate integrals by estimating the area under a graph with thinner and thiner rectangles.\n",
    "\n",
    "By using that *programmatic* approach, we've been able to work do very interesting applications without following the *formal* approach first.\n",
    "\n",
    "That *formal* (non-programmatic) approach dictates how to calculate the exact formula for a derivative and integral.\n",
    "For example, if $ f(x) = x^3 $, $ f'(x) = 3x² $."
   ],
   "cell_type": "markdown",
   "metadata": {}
  },
  {
   "source": [
    "### Finding an exact derivative with a computer algebra system\n",
    "\n",
    "While knowing the rules for derivatives and integrals are very important for Math purposes, those are actually not that useful for computing.\n",
    "\n",
    "In case you need to know the exact formula for a derivative, you can always rely on a *computer algebra system* like *Mathematica*. In particular, there are tools online such as [wolframalpha.com](https://www.wolframalpha.com/), which are powered by *Mathematica* engine.\n",
    "\n",
    "For instance:\n",
    "\n",
    "![Wolfram Alpha](../images/wolfram_alpha.png)"
   ],
   "cell_type": "markdown",
   "metadata": {}
  },
  {
   "source": [
    "This will obviously will work for more complicated formulas such as:\n",
    "\n",
    "$\n",
    "\\displaystyle\n",
    "f(x) = \\frac{1}{1 + e^{-x}}\n",
    "$\n",
    "\n",
    "Which would be written in Python as: `1/(1 + e**(-x))` can be punched into [wolframalpha.com](https://www.wolframalpha.com/) to obtain:\n",
    "\n",
    "$\n",
    "\\displaystyle\n",
    "f(x) = \\frac{e^{-x}}{(1 + e^{-x})^2}\n",
    "$"
   ],
   "cell_type": "markdown",
   "metadata": {}
  },
  {
   "source": [
    "In short, from a programmer's POV, it is more important to know that the derivative represents the instantaneous rate of change of a given function, and know that you have tools such as [wolframalpha.com](https://www.wolframalpha.com/) to obtain the derivative that remembering all the derivative rules by heart.\n",
    "\n",
    "Note that *Mathematica* does not use the approximation approach we've been learning in the past chapters. Instead, it leverages a technique called *symbolic programming* to come up with the formulas.\n",
    "\n",
    "In this chapter, we will learn how to do some *symbolic programming* in Python to manipulate algebraic formulas directly, and ultimately figure out the formulas for the derivatives."
   ],
   "cell_type": "markdown",
   "metadata": {}
  },
  {
   "source": [
    "### Doing symbolic algebra in Python\n",
    "\n",
    "When representing a mathematical formula in Python using the common representation we've used until now, which consists in defining a Python function, does not let us obtain a lot of introspection info about the formula itself:\n",
    "\n",
    "```python\n",
    "from math import sin\n",
    "\n",
    "def f(x):\n",
    "    return (3 * x ** 2 + x) * sin(x)\n",
    "```\n",
    "\n",
    "We can use the representation above to calculate data points, and plot the function, but that representation will make it very difficult for us to create a function such as `contain_division(f)` that would return `False` in the case above.\n",
    "\n",
    "In order to solve such questions we need to represent the function as a *data structure* that would help us understand the algebraic expression that defines the function at a deeper level than the Python function does, while also give us a chance to manipulate it (for example to expand the product).\n",
    "\n",
    "> Our goal for the chapter is to build a program that takes an algebraic expression and transforms it into a data structure that can represent variables, numbers, sums, differences, products, quotients, powers and special functions such as the sine and cosine. With that, we will also allow the generation of derivatives for all of them."
   ],
   "cell_type": "markdown",
   "metadata": {}
  },
  {
   "source": [
    "## Modeling algebraic expressions\n",
    "\n",
    "Let's consider the function $ f(x) = (3x² + x) \\cdot sin(x) $. This is a good candidate for finding the correct modeling approach because it contains variables, numbers, addition and multiplication, a power and special functions such as *sine*.\n",
    "\n",
    "The first note is that the function name $ f $ is an arbitrary name and does not affect the definition of the function. Thus, we can focus on the right-hand side of the equation.\n",
    "\n",
    "> The right hand side of an equation is called an *expression* &mdash; a collection of mathematical symbols combine in some valid way."
   ],
   "cell_type": "markdown",
   "metadata": {}
  },
  {
   "source": [
    "### Breaking an expression into pieces\n",
    "\n",
    "Now that it's clear that we will be focusing in $ (3x² + x) \\cdot sin(x) $, we need to break this expression into smaller pieces.\n",
    "\n",
    "To properly break that expression, we need to split it by the $ \\cdot $ operator:\n",
    "\n",
    "![Breaking up an algebraic expression](../images/breaking_up_expression.png)\n",
    "\n"
   ],
   "cell_type": "markdown",
   "metadata": {}
  },
  {
   "source": [
    "Likewise, $ 3x² + x $ can be broken down into the sum of $ 3x² $ and $ x $. And $ 3x^2 $ can be further decomposed into the product of $ 3 $ and $ x^2 $.\n",
    "\n",
    "In the terminology of functional programming, functions combining smaller objects into bigger ones are often called *combinators*. The ones that we've found in our *alebraic expression* are:\n",
    "+ $ 3x² $ is the product of the expressions $ 3 $ and $ x^2 $\n",
    "+ $ x^2 $ is a power: the expression $ x $ raised to the power of another expression $ 2 $.\n",
    "+ The expression $ sin(x) $ is a function application &mdash; given the expression $ sin $ and the expression $ x $, we build a new expression $ sin(x) $.\n",
    "\n",
    "A variable like $ x $, a number like $ 2 $ or a function name like $ sin $ can't be broken down further. To distinguish those from *combinators* we call them *elements*."
   ],
   "cell_type": "markdown",
   "metadata": {}
  },
  {
   "source": [
    "### Building an expression tree\n",
    "\n",
    "The elements and combinators we find in the *algebraic expression* $ (3x² + x) \\cdot sin(x) $, along with the concept of applying a function, are sufficient to rebuild the expression as a tree. Let's see how, first manually."
   ],
   "cell_type": "markdown",
   "metadata": {}
  },
  {
   "source": [
    "We can start with $ x^2 $, which combines the elements $ x $ and $ 2 $ with the power combinator.\n",
    "\n",
    "That can be followed by the product of $ 3 $ and $ x^2 $, and so forth until we end up with a whole tree that represents the *algebraic expression* as seen below:\n",
    "\n",
    "![Building the expression tree](../images/expression_tree_sequence.png)"
   ],
   "cell_type": "markdown",
   "metadata": {}
  },
  {
   "source": [
    "The root of the tree is the product combinator we used in the previous subsection. From that root node, we create two branches and recursively start creating additional branches that represent the expression."
   ],
   "cell_type": "markdown",
   "metadata": {}
  },
  {
   "source": [
    "### Translating the expression tree to Python\n",
    "\n",
    "In this section we will build some classes representing the expression as a data structure. We will start simple, and start adding more and more capabilities along the way until we reach our goal.\n"
   ],
   "cell_type": "markdown",
   "metadata": {}
  },
  {
   "source": [
    "In our implementation, we will model combinators as containers that hold their inputs.\n",
    "\n",
    "For example:"
   ],
   "cell_type": "markdown",
   "metadata": {}
  },
  {
   "cell_type": "code",
   "execution_count": null,
   "metadata": {},
   "outputs": [],
   "source": [
    "class Power():\n",
    "    def __init__(self, base, exponent):\n",
    "        self.base = base\n",
    "        self.exponent = exponent"
   ]
  },
  {
   "source": [
    "We also need classes to represent numbers and variables, as those will give us extra flexibility in the implementation:"
   ],
   "cell_type": "markdown",
   "metadata": {}
  },
  {
   "cell_type": "code",
   "execution_count": null,
   "metadata": {},
   "outputs": [],
   "source": [
    "class Number():\n",
    "    def __init__(self, number):\n",
    "        self.number = number\n",
    "\n",
    "class Variable():\n",
    "    def __init__(self, symbol):\n",
    "        self.symbol = symbol"
   ]
  },
  {
   "cell_type": "code",
   "execution_count": null,
   "metadata": {},
   "outputs": [],
   "source": [
    "With these three classes defined, we will be able to define our first algebraic expression:"
   ]
  },
  {
   "cell_type": "code",
   "execution_count": 1,
   "metadata": {},
   "outputs": [
    {
     "output_type": "execute_result",
     "data": {
      "text/plain": [
       "<__main__.Power at 0x7f1b9ce6d6a0>"
      ]
     },
     "metadata": {},
     "execution_count": 1
    }
   ],
   "source": [
    "class Power():\n",
    "    def __init__(self, base, exponent):\n",
    "        self.base = base\n",
    "        self.exponent = exponent\n",
    "\n",
    "class Number():\n",
    "    def __init__(self, number):\n",
    "        self.number = number\n",
    "\n",
    "class Variable():\n",
    "    def __init__(self, symbol):\n",
    "        self.symbol = symbol\n",
    "\n",
    "Power(Variable('x'), Number(2))        "
   ]
  },
  {
   "source": [
    "Now let's address the `Product` class:"
   ],
   "cell_type": "markdown",
   "metadata": {}
  },
  {
   "cell_type": "code",
   "execution_count": null,
   "metadata": {},
   "outputs": [],
   "source": [
    "class Product():\n",
    "    def __init__(self, expr1, expr2):\n",
    "        self.expr1 = expr1\n",
    "        self.expr2 = expr2"
   ]
  },
  {
   "source": [
    "With that, we can now model expressions such as $ 3 \\cdot x^2 $:"
   ],
   "cell_type": "markdown",
   "metadata": {}
  },
  {
   "cell_type": "code",
   "execution_count": 2,
   "metadata": {},
   "outputs": [
    {
     "output_type": "execute_result",
     "data": {
      "text/plain": [
       "<__main__.Product at 0x7f1b9d24bc10>"
      ]
     },
     "metadata": {},
     "execution_count": 2
    }
   ],
   "source": [
    "class Power():\n",
    "    def __init__(self, base, exponent):\n",
    "        self.base = base\n",
    "        self.exponent = exponent\n",
    "\n",
    "class Number():\n",
    "    def __init__(self, number):\n",
    "        self.number = number\n",
    "\n",
    "class Variable():\n",
    "    def __init__(self, symbol):\n",
    "        self.symbol = symbol\n",
    "\n",
    "class Product():\n",
    "    def __init__(self, expr1, expr2):\n",
    "        self.expr1 = expr1\n",
    "        self.expr2 = expr2\n",
    "\n",
    "Product(Number(3), Power(Variable('x'), Number(2)))"
   ]
  },
  {
   "source": [
    "After that, we're in a good position to have our first implementation of our algebraic expression classes that would represent the expression:\n",
    "\n",
    "$$\n",
    "\\displaystyle\n",
    "(3x² + x) \\cdot sin(x)\n",
    "$$"
   ],
   "cell_type": "markdown",
   "metadata": {}
  },
  {
   "cell_type": "code",
   "execution_count": 5,
   "metadata": {},
   "outputs": [],
   "source": [
    "class Power():\n",
    "    def __init__(self, base, exponent):\n",
    "        self.base = base\n",
    "        self.exponent = exponent\n",
    "\n",
    "class Number():\n",
    "    def __init__(self, number):\n",
    "        self.number = number\n",
    "\n",
    "class Variable():\n",
    "    def __init__(self, symbol):\n",
    "        self.symbol = symbol\n",
    "\n",
    "class Product():\n",
    "    def __init__(self, expr1, expr2):\n",
    "        self.expr1 = expr1\n",
    "        self.expr2 = expr2\n",
    "\n",
    "class Sum():\n",
    "    def __init__(self, *exprs):\n",
    "        self.exprs = exprs\n",
    "\n",
    "class Function():\n",
    "    def __init__(self, name):\n",
    "        self.name = name\n",
    "\n",
    "class Apply():\n",
    "    def __init__(self, function, argument):\n",
    "        self.function = function\n",
    "        self.argument = argument\n",
    "\n",
    "#  (3x² + x) · sin(x)\n",
    "expression = Product(\n",
    "    Sum(\n",
    "        Product(\n",
    "             Number(3),\n",
    "             Power(\n",
    "                 Variable('x'), \n",
    "                 Number(2))), \n",
    "        Variable('x')),\n",
    "    Apply(\n",
    "        Function('sin'), \n",
    "        Variable('x')))        "
   ]
  },
  {
   "source": [
    "With those simple classes we have given the first step for the creation of our *algebraic expression engine*. Note that despite having been created for a particular expression, the approach is quite flexible as other expressions such as:\n",
    "\n",
    "```python\n",
    "Apply(Function(\"cos\"),Sum(Power(Variable(\"x\"),Number(\"3\")), Number(-5)))\n",
    "```\n",
    "\n",
    "faithfully represent other *algebraic expressions* such as:\n",
    "\n",
    "$$\n",
    "\\displaystyle\n",
    "cos(x^3 - 5)\n",
    "$$"
   ],
   "cell_type": "markdown",
   "metadata": {}
  },
  {
   "source": [
    "## Putting a symbolic expression to work\n",
    "\n",
    "We've seen that for the function we've considered: $ f(x) = (3x² + x)sin(x) $, we can define a Python function that is good for returning an output value:\n",
    "\n",
    "```python\n",
    "def f(x):\n",
    "    return (3 * x ** 2 + x) * sin(x)\n",
    "```\n",
    "\n",
    "but it is not useful for obtaining insights about the function itself (as in: does it use a trigonometric function?) or to expand the expression (as in $ f(x) = 3x^2 sin(x) + x sin(x) $).\n",
    "\n",
    "Then, we created a series of *element* and *combinator* classes, but those seem to be like two separate worlds.\n",
    "\n",
    "The goal of this section is to bridge the gap, so that we can interact with the expression as a data structure of *elements* and *combinators* and also obtain the value when needed."
   ],
   "cell_type": "markdown",
   "metadata": {}
  },
  {
   "source": [
    "## 10.2.1 Finding all the variables in an expression\n",
    "\n",
    "Let's write a function that takes an expression and returns a list of distinct variables that appear in it.\n",
    "\n",
    "For example, $ h(z) = 2z + 3 $ should find `z` while $ g(x) = 7 $ should find no variables.\n",
    "\n",
    "We will call this function `distinct_variables(expr)` and it will accept any expression and return a Python set containing the variables found."
   ],
   "cell_type": "markdown",
   "metadata": {}
  },
  {
   "source": [
    "As you can imagine the situation becomes really complicated when the expression is built from combinators as in $ y \\cdot z + x \\cdot z $.\n",
    "\n",
    "We have already established that the resulting structure that represents that expression is a tree:\n",
    "\n",
    "```python\n",
    "Sum(\n",
    "    Product(\n",
    "        Variable('y'), \n",
    "        Variable('z')\n",
    "        ),\n",
    "    Product(\n",
    "        Variable('x'), \n",
    "        Variable('z'))\n",
    ")\n",
    "```\n",
    "\n",
    "Trees being recursive structures, it seems that it would be appropriate to traverse the expression using a recursive function."
   ],
   "cell_type": "markdown",
   "metadata": {}
  },
  {
   "cell_type": "code",
   "execution_count": 5,
   "metadata": {},
   "outputs": [
    {
     "output_type": "execute_result",
     "data": {
      "text/plain": [
       "{'x', 'y', 'z'}"
      ]
     },
     "metadata": {},
     "execution_count": 5
    }
   ],
   "source": [
    "from my_expressions_v2 import *\n",
    "\n",
    "expr = Sum(\n",
    "    Product(\n",
    "        Variable('y'), \n",
    "        Variable('z')\n",
    "        ),\n",
    "    Product(\n",
    "        Variable('x'), \n",
    "        Variable('z'))\n",
    ")\n",
    "\n",
    "def distinct_variables(expr):\n",
    "    if isinstance(expr, Variable):\n",
    "        return set(expr.symbol)\n",
    "    elif isinstance(expr, Number):\n",
    "        return set()\n",
    "    elif isinstance(expr, Sum):\n",
    "        return set().union(*[distinct_variables(inner_expr) for inner_expr in expr.exprs])\n",
    "    elif isinstance(expr, Product):\n",
    "        return distinct_variables(expr.expr1).union(distinct_variables(expr.expr2))\n",
    "    elif isinstance(expr, Power):\n",
    "        return distinct_variables(expr.base).union(distinct_variables(expr.exponent))\n",
    "    elif isinstance(expr, Apply):\n",
    "        return distinct_variables(expr.argument)\n",
    "    else:\n",
    "        raise TypeError('Not a valid expression')\n",
    "\n",
    "distinct_variables(expr)\n"
   ]
  },
  {
   "source": [
    "That is nothing more than a recursive traversal of a tree. When the function completes, it would have called `distinct_variables(...)` on every expression contained in the target expression.\n",
    "\n",
    "The same approach can be used to find all of the numbers or all of the functions in an expression."
   ],
   "cell_type": "markdown",
   "metadata": {}
  },
  {
   "source": [
    "### Evaluating an expression\n",
    "\n",
    "Now, we've got two representation of the same mathematical function $ f(x) $. The Python function that let us evaluate the function at a given input value of $ x $, and the tree data structure that describes the structure of the expression defining $ f(x) $.\n",
    "\n",
    "We will see that the latter is also a good option to evaluate $ f(x) $ as well with a little bit of extra work."
   ],
   "cell_type": "markdown",
   "metadata": {}
  },
  {
   "source": [
    "*Mechanically*, evaluating the function $ f(x) $ at $ x = 5 $ means substituting the value $ 5 $ everywhere where $ x $ is found in the expression (which could be nowhere if the function is $ g(x) = 7 $).\n",
    "\n",
    "We just need to code the same behavior we have just described: we need to find all the variables, *plug in* the given value for those, and then add some intelligence to the combinators so that they provide the value of the expression they hold."
   ],
   "cell_type": "markdown",
   "metadata": {}
  },
  {
   "source": [
    "The starting data we need are the values to plug-in along with the variable names that they replace. That is, in programming terms, we need to know the *variable bindings*.\n",
    "\n",
    "For example, to evaluate the function $ z(x, y) = 2xy^3 $ we will need some variable bindings such as $ x = 3 $ and $ y = 2 $.\n",
    "\n",
    "With the bindings in place, it will be easy to compute $ x(3, 2) = 2 \\cdot 3 \\cdot 2^3 $."
   ],
   "cell_type": "markdown",
   "metadata": {}
  },
  {
   "source": [
    "In this case, instead of using the previous approach in which we created a function that obtained the final result, we will add an `evaluate(...)` method to each class that represents an expression.\n",
    "\n",
    "In order to enforce this, we will define this method at the `Expression` base abstract class level first:\n",
    "\n",
    "```python\n",
    "class Expression(ABC):\n",
    "    @abstractmethod\n",
    "    def evaluate(self, **bindings):\n",
    "        pass\n",
    "```\n",
    "\n",
    "Note that the function allows you to pass a variable number of bindings, to support expressions with more than one variable.\n",
    "\n",
    "Our expectation, is that the consumer application will use this function like:\n",
    "\n",
    "```python\n",
    "z.evaluate(x=3, y=2) // will do the evaluation for those bindings\n",
    "```"
   ],
   "cell_type": "markdown",
   "metadata": {}
  },
  {
   "source": [
    "Now, we need to modify the `Expression` subclasses to implement the `evaluate(...)` method.\n",
    "\n",
    "\n",
    "The number class is the easiest one, as it should simply return the underlying number.\n",
    "\n",
    "```python\n",
    "class Number(Expression):\n",
    "    def __init__(self, number):\n",
    "        self.number = number\n",
    "\n",
    "    def evaluate(self, **bindings):\n",
    "        return self.number\n",
    "```"
   ],
   "cell_type": "markdown",
   "metadata": {}
  },
  {
   "source": [
    "The `Variable` class is a bit trickier, as we will need to do the substitution:\n",
    "\n",
    "```python\n",
    "class Variable(Expression):\n",
    "    def __init__(self, symbol):\n",
    "        self.symbol = symbol\n",
    "\n",
    "    def evaluate(self, **bindings):\n",
    "        try:\n",
    "            return bindings[self.symbol]\n",
    "        except:\n",
    "            raise KeyError('Variable {} is not bound'.format(self.symbol))\n",
    "```\n",
    "\n",
    "The only interesting part here is the way in which we can *plug-in* the values in Python:\n",
    "\n",
    "Let's consider the following function and invocation"
   ],
   "cell_type": "markdown",
   "metadata": {}
  },
  {
   "cell_type": "code",
   "execution_count": 6,
   "metadata": {},
   "outputs": [
    {
     "output_type": "stream",
     "name": "stdout",
     "text": [
      "{'x': 1, 'y': 2, 'z': 3}\n"
     ]
    }
   ],
   "source": [
    "def f(**args):\n",
    "    print(args)\n",
    "\n",
    "\n",
    "f(x=1, y=2, z=3)"
   ]
  },
  {
   "source": [
    "Note how the invocation of `f(...)` with the given args end up passing the function a dictionary `{'x': 1, 'y': 2, 'z': 3}`, which we can access using the syntax:\n",
    "\n",
    "```python\n",
    "args[key] // => value\n",
    "```\n",
    "\n",
    "Thus:\n",
    "\n",
    "```python\n",
    "binding[self.symbol]\n",
    "```\n",
    "will actually get the value in the dictionary for the given variable name."
   ],
   "cell_type": "markdown",
   "metadata": {}
  },
  {
   "source": [
    "Now, we need to turn our attention to the combinators. Note that we won't consider the `Function` object just yet.\n",
    "\n",
    "The rule is simple: evaluate both expressions contained in the product and then multiply them together.\n",
    "\n",
    "For example, for `Product`:\n",
    "\n",
    "```python\n",
    "class Product(Expression):\n",
    "class Product(Expression):\n",
    "    def __init__(self, expr1, expr2):\n",
    "        self.expr1 = expr1\n",
    "        self.expr2 = expr2\n",
    "\n",
    "    def evaluate(self, **bindings):\n",
    "        return self.expr1.evaluate(**bindings) * self.expr2.evaluate(**bindings)\n",
    "```\n",
    "\n",
    "In the same way, we can add evaluate to the `Sum`, `Power`, `Difference`..."
   ],
   "cell_type": "markdown",
   "metadata": {}
  },
  {
   "source": [
    "The `Apply` combinator works a bit differently, because we need to dynamically look at the function name and figure out how to compute its value.\n",
    "\n",
    "For example, we can create a dictionary and then apply it to the evaluation of the argument of the function:\n",
    "\n",
    "```python\n",
    "_function_bindings = {\n",
    "    'sin': math.sin,\n",
    "    'cos': math.cos,\n",
    "    'ln': math.log\n",
    "    /* ... more functions as needed ... */\n",
    "}\n",
    "\n",
    "class Apply(Expression):\n",
    "    def __init__(self, function, argument):\n",
    "        self.function = function\n",
    "        self.argument = argument\n",
    "\n",
    "    def evaluate(self, **bindings):\n",
    "        return _function_bindings[self.function.name](self.argument.evaluate(**bindings))\n",
    "```"
   ],
   "cell_type": "markdown",
   "metadata": {}
  },
  {
   "source": [
    "After applying those changes, we can start doing evaluations of our previously defined algebraic expressions:"
   ],
   "cell_type": "markdown",
   "metadata": {}
  },
  {
   "source": [
    "from my_expressions_v2 import *\n",
    "from math import sin\n",
    "\n",
    "expr1 = Product(Variable('x'), Variable('y')).evaluate(x=2, y=5)\n",
    "print(expr1) # should be 10\n",
    "\n",
    "f_expression = Product(\n",
    "    Sum(\n",
    "        Product(\n",
    "             Number(3),\n",
    "             Power(\n",
    "                 Variable('x'), \n",
    "                 Number(2))), \n",
    "        Variable('x')),\n",
    "    Apply(\n",
    "        Function('sin'), \n",
    "        Variable('x')))\n",
    "\n",
    "result = f_expression.evaluate(x=5)\n",
    "print(result)\n",
    "\n",
    "def f(x):\n",
    "    return (3 * x ** 2 + x) * sin(x)\n",
    "\n",
    "print(f(5))"
   ],
   "cell_type": "code",
   "metadata": {},
   "execution_count": 5,
   "outputs": [
    {
     "output_type": "stream",
     "name": "stdout",
     "text": [
      "10\n-76.71394197305108\n-76.71394197305108\n"
     ]
    }
   ]
  },
  {
   "source": [
    "### Expanding an expression\n",
    "\n",
    "Once we have our algebraic expression represented as a tree structure we can do further manipulation with it. For example, we can try expanding an expression using the *distributive property* of sums and products.\n",
    "\n",
    "This rule says that:\n",
    "\n",
    "$\n",
    "\\displaystyle\n",
    "(a + b) \\cdot c = a \\cdot c + b \\cdot c\n",
    "$\n",
    "\n",
    "Therefore, our expression:\n",
    "\n",
    "$\n",
    "\\displaystyle\n",
    "(3 x^2 + x) sin(x) = 3 x^2 sin(x) + x sin(x)\n",
    "$\n",
    "\n",
    "The same rule can also be used to expand more complex expressions:\n",
    "\n",
    "$\n",
    "\\displaystyle\n",
    "(x + y)^3 = (x + y)(x + y)(x + y) = \\\\\n",
    "x(x + y)(x + y) + y(x + y)(x + y) = \\\\\n",
    "x^2(x + y) + xy(x + y) + xy(x + y) + y^2(x + y) = \\\\\n",
    "x^3 + x^2y + x^2y + xy^2 + x^2y + xy^2 + xy^2 + y^3 = \\\\\n",
    "x^3 + 3x^2y + 3xy^2 + y^3\n",
    "$"
   ],
   "cell_type": "markdown",
   "metadata": {}
  },
  {
   "source": [
    "The way to do it programmatically consists in defining an `expand(...)` method, first to the `Expression` base class, and then cascade the implementation of the `expand()` to the different *elements* and *combinators*:\n",
    "\n",
    "```python\n",
    "class Expression(ABC):\n",
    "...\n",
    "    @abstractmethod\n",
    "    def expand(self):\n",
    "        pass\n",
    "\n",
    "```\n",
    "\n",
    "If an expression is a variable or number, it is already expanded, so the method should just return the object itself:\n",
    "\n",
    "```python\n",
    "class Number(Expression):\n",
    "...\n",
    "    def expand(self):\n",
    "        return self\n",
    "\n",
    "class Variable(Expression):\n",
    "...\n",
    "    def expand(self):\n",
    "        return self\n",
    "```"
   ],
   "cell_type": "markdown",
   "metadata": {}
  },
  {
   "source": [
    "For sums, we just need to invoke `expand()` on each of its terms:\n",
    "\n",
    "```python\n",
    "class Sum(Expression):\n",
    "...\n",
    "    def expand(self):\n",
    "        return Sum(*[expr.expand() for expr in self.exprs])\n",
    "\n",
    "```"
   ],
   "cell_type": "markdown",
   "metadata": {}
  },
  {
   "source": [
    "The same approach can be used for `Apply`:\n",
    "\n",
    "```python\n",
    "class Apply(Expression):\n",
    "    def __init__(self, function, argument):\n",
    "        self.function = function\n",
    "        self.argument = argument\n",
    "\n",
    "    def evaluate(self, **bindings):\n",
    "        return _function_bindings[self.function.name](self.argument.evaluate(**bindings))\n",
    "\n",
    "    def expand(self):\n",
    "        return Apply(self.function, self.argument.expand())\n",
    "```"
   ],
   "cell_type": "markdown",
   "metadata": {}
  },
  {
   "source": [
    "The real complexity is found when implementing this function in products or powers, because the structure of the expression changes completely.\n",
    "\n",
    "Let's focus on the `Product` first. In order to handle it correctly, we need to differentiate three possible cases:\n",
    "1. The first term of the product is the sum as in $ (a + b) \\cdot c $\n",
    "2. The second term of the product is the sum as in $ a \\cdot (b + c) $\n",
    "3. Neither of the terms is a sum, as in $ a \\cdot b $\n",
    "\n",
    "```python\n",
    "\n",
    "class Product(Expression):\n",
    "...\n",
    "    def expand(self):\n",
    "        expanded1 = self.expr1.expand()\n",
    "        expanded2 = self.expr2.expand()\n",
    "        if isinstance(expanded1, Sum):\n",
    "            return Sum(*[Product(expr, expanded2).expand() for expr in expanded1.exprs])\n",
    "        elif isinstance(expanded2, Sum):\n",
    "            return Sum(*[Product(expanded1, expr) for expr in expanded2.exprs])\n",
    "        else:\n",
    "            return Product(expanded1, expanded2)\n",
    "```"
   ],
   "cell_type": "markdown",
   "metadata": {}
  },
  {
   "source": [
    "With all these methods implemented, we can then test our `expand()` function and see it correctly expands expressions such as $ (a + b)(x + y) $ and $ (3x^2 + x)sin(x) $.\n",
    "\n",
    "At this point, we've written some Python functions that do algebra in the same way we do it manually. This area of computer science is called *symbolic programming* or *computer algebra*."
   ],
   "cell_type": "markdown",
   "metadata": {}
  },
  {
   "cell_type": "code",
   "execution_count": null,
   "metadata": {},
   "outputs": [],
   "source": [
    "For example, once we implement the exercises that let us display our expressions we can do:"
   ]
  },
  {
   "cell_type": "code",
   "execution_count": 1,
   "metadata": {},
   "outputs": [
    {
     "output_type": "execute_result",
     "data": {
      "text/plain": [
       "Sum(Sum(Product(Variable('a'), Variable('x')), Product(Variable('a'), Variable('y'))), Sum(Product(Variable('b'), Variable('x')), Product(Variable('b'), Variable('y'))))"
      ],
      "text/latex": "$$ a \\cdot x + a \\cdot y + b \\cdot x + b \\cdot y $$"
     },
     "metadata": {},
     "execution_count": 1
    }
   ],
   "source": [
    "from my_expressions_v2 import *\n",
    "\n",
    "Product(\n",
    "    Sum(Variable('a'), Variable('b')),\n",
    "    Sum(Variable('x'), Variable('y'))\n",
    ").expand()"
   ]
  },
  {
   "source": [
    "from my_expressions_v2 import *\n",
    "\n",
    "# $ (3x^2 + x)sin(x) $.\n",
    "Product(\n",
    "    Sum(\n",
    "        Product(\n",
    "            Number(3),\n",
    "            Power(Variable('x'), Number(2))\n",
    "        ),\n",
    "        Variable('x')\n",
    "    ),\n",
    "    Apply(Function('sin'), Variable('x'))\n",
    ")\n"
   ],
   "cell_type": "code",
   "metadata": {},
   "execution_count": 1,
   "outputs": [
    {
     "output_type": "execute_result",
     "data": {
      "text/plain": [
       "Product(Sum(Product(Number(3), Power(Variable('x'), Number(2))), Variable('x')), Apply(Function('sin'), Variable('x')))"
      ],
      "text/latex": "$$ ( 3x^{2} + x ) \\cdot sin(x) $$"
     },
     "metadata": {},
     "execution_count": 1
    }
   ]
  },
  {
   "source": [
    "## Finding the derivative of a function\n",
    "\n",
    "There is often a *clean* algebraic formula for the derivative of a function. For instance, if $ f(x) = x^3 $, then, its derivative, which measures the instantaneous rate of change in f at any point $ x $ is given by the formula:\n",
    "\n",
    "$\n",
    "f'(x) = 3 \\cdot x^2\n",
    "$\n",
    "\n",
    "Therefore, you can get the exact result by doing: $ f'(2) = 12 $."
   ],
   "cell_type": "markdown",
   "metadata": {}
  },
  {
   "source": [
    "### Derivative of powers\n",
    "\n",
    "It doesn't require any calculus to find that the derivative of a function of the form $ f(x) = mx + n $ is $ f'(x) = m $. This is because the slope of any secant of the line is the same as the slope of the line.\n",
    "\n",
    "| REMINDER: |\n",
    "| :-------- |\n",
    "| The slope of a function is defined as the change in the vertical coordinate divided by the change in the horizontal coordinate. |\n",
    "\n",
    "This is intuitive, as a linear function $ f(x) $ changes at a constant rate with respect to its input, so the derivative is a constant function.\n",
    "\n",
    "Note also that the constant $ n $ has no effect in the slope, and therefore, doesn't appear in the derivative function."
   ],
   "cell_type": "markdown",
   "metadata": {}
  },
  {
   "source": [
    "It turns out that the derivative of a quadratic function is a linear function. For example, if $ q(x) = x^2 $, $ q'(x) = 2x $. This also makes sense when you plot the graph of $ q(x) $."
   ],
   "cell_type": "markdown",
   "metadata": {}
  },
  {
   "cell_type": "code",
   "execution_count": 7,
   "metadata": {},
   "outputs": [
    {
     "output_type": "display_data",
     "data": {
      "text/plain": "<Figure size 432x288 with 1 Axes>",
      "image/svg+xml": "<?xml version=\"1.0\" encoding=\"utf-8\" standalone=\"no\"?>\n<!DOCTYPE svg PUBLIC \"-//W3C//DTD SVG 1.1//EN\"\n  \"http://www.w3.org/Graphics/SVG/1.1/DTD/svg11.dtd\">\n<!-- Created with matplotlib (https://matplotlib.org/) -->\n<svg height=\"282.75625pt\" version=\"1.1\" viewBox=\"0 0 525.182812 282.75625\" width=\"525.182812pt\" xmlns=\"http://www.w3.org/2000/svg\" xmlns:xlink=\"http://www.w3.org/1999/xlink\">\n <defs>\n  <style type=\"text/css\">\n*{stroke-linecap:butt;stroke-linejoin:round;}\n  </style>\n </defs>\n <g id=\"figure_1\">\n  <g id=\"patch_1\">\n   <path d=\"M 0 282.75625 \nL 525.182812 282.75625 \nL 525.182812 0 \nL 0 0 \nz\n\" style=\"fill:none;\"/>\n  </g>\n  <g id=\"axes_1\">\n   <g id=\"patch_2\">\n    <path d=\"M 48.982813 245.2 \nL 383.782813 245.2 \nL 383.782813 27.76 \nL 48.982813 27.76 \nz\n\" style=\"fill:#ffffff;\"/>\n   </g>\n   <g id=\"matplotlib.axis_1\">\n    <g id=\"xtick_1\">\n     <g id=\"line2d_1\">\n      <path clip-path=\"url(#p3415bdbe0c)\" d=\"M 64.200994 245.2 \nL 64.200994 27.76 \n\" style=\"fill:none;stroke:#b0b0b0;stroke-linecap:square;stroke-width:0.8;\"/>\n     </g>\n     <g id=\"line2d_2\">\n      <defs>\n       <path d=\"M 0 0 \nL 0 3.5 \n\" id=\"m6f25aaf9ef\" style=\"stroke:#000000;stroke-width:0.8;\"/>\n      </defs>\n      <g>\n       <use style=\"stroke:#000000;stroke-width:0.8;\" x=\"64.200994\" xlink:href=\"#m6f25aaf9ef\" y=\"245.2\"/>\n      </g>\n     </g>\n     <g id=\"text_1\">\n      <!-- −10.0 -->\n      <defs>\n       <path d=\"M 10.59375 35.5 \nL 73.1875 35.5 \nL 73.1875 27.203125 \nL 10.59375 27.203125 \nz\n\" id=\"DejaVuSans-8722\"/>\n       <path d=\"M 12.40625 8.296875 \nL 28.515625 8.296875 \nL 28.515625 63.921875 \nL 10.984375 60.40625 \nL 10.984375 69.390625 \nL 28.421875 72.90625 \nL 38.28125 72.90625 \nL 38.28125 8.296875 \nL 54.390625 8.296875 \nL 54.390625 0 \nL 12.40625 0 \nz\n\" id=\"DejaVuSans-49\"/>\n       <path d=\"M 31.78125 66.40625 \nQ 24.171875 66.40625 20.328125 58.90625 \nQ 16.5 51.421875 16.5 36.375 \nQ 16.5 21.390625 20.328125 13.890625 \nQ 24.171875 6.390625 31.78125 6.390625 \nQ 39.453125 6.390625 43.28125 13.890625 \nQ 47.125 21.390625 47.125 36.375 \nQ 47.125 51.421875 43.28125 58.90625 \nQ 39.453125 66.40625 31.78125 66.40625 \nz\nM 31.78125 74.21875 \nQ 44.046875 74.21875 50.515625 64.515625 \nQ 56.984375 54.828125 56.984375 36.375 \nQ 56.984375 17.96875 50.515625 8.265625 \nQ 44.046875 -1.421875 31.78125 -1.421875 \nQ 19.53125 -1.421875 13.0625 8.265625 \nQ 6.59375 17.96875 6.59375 36.375 \nQ 6.59375 54.828125 13.0625 64.515625 \nQ 19.53125 74.21875 31.78125 74.21875 \nz\n\" id=\"DejaVuSans-48\"/>\n       <path d=\"M 10.6875 12.40625 \nL 21 12.40625 \nL 21 0 \nL 10.6875 0 \nz\n\" id=\"DejaVuSans-46\"/>\n      </defs>\n      <g transform=\"translate(48.878338 259.798437)scale(0.1 -0.1)\">\n       <use xlink:href=\"#DejaVuSans-8722\"/>\n       <use x=\"83.789062\" xlink:href=\"#DejaVuSans-49\"/>\n       <use x=\"147.412109\" xlink:href=\"#DejaVuSans-48\"/>\n       <use x=\"211.035156\" xlink:href=\"#DejaVuSans-46\"/>\n       <use x=\"242.822266\" xlink:href=\"#DejaVuSans-48\"/>\n      </g>\n     </g>\n    </g>\n    <g id=\"xtick_2\">\n     <g id=\"line2d_3\">\n      <path clip-path=\"url(#p3415bdbe0c)\" d=\"M 102.246449 245.2 \nL 102.246449 27.76 \n\" style=\"fill:none;stroke:#b0b0b0;stroke-linecap:square;stroke-width:0.8;\"/>\n     </g>\n     <g id=\"line2d_4\">\n      <g>\n       <use style=\"stroke:#000000;stroke-width:0.8;\" x=\"102.246449\" xlink:href=\"#m6f25aaf9ef\" y=\"245.2\"/>\n      </g>\n     </g>\n     <g id=\"text_2\">\n      <!-- −7.5 -->\n      <defs>\n       <path d=\"M 8.203125 72.90625 \nL 55.078125 72.90625 \nL 55.078125 68.703125 \nL 28.609375 0 \nL 18.3125 0 \nL 43.21875 64.59375 \nL 8.203125 64.59375 \nz\n\" id=\"DejaVuSans-55\"/>\n       <path d=\"M 10.796875 72.90625 \nL 49.515625 72.90625 \nL 49.515625 64.59375 \nL 19.828125 64.59375 \nL 19.828125 46.734375 \nQ 21.96875 47.46875 24.109375 47.828125 \nQ 26.265625 48.1875 28.421875 48.1875 \nQ 40.625 48.1875 47.75 41.5 \nQ 54.890625 34.8125 54.890625 23.390625 \nQ 54.890625 11.625 47.5625 5.09375 \nQ 40.234375 -1.421875 26.90625 -1.421875 \nQ 22.3125 -1.421875 17.546875 -0.640625 \nQ 12.796875 0.140625 7.71875 1.703125 \nL 7.71875 11.625 \nQ 12.109375 9.234375 16.796875 8.0625 \nQ 21.484375 6.890625 26.703125 6.890625 \nQ 35.15625 6.890625 40.078125 11.328125 \nQ 45.015625 15.765625 45.015625 23.390625 \nQ 45.015625 31 40.078125 35.4375 \nQ 35.15625 39.890625 26.703125 39.890625 \nQ 22.75 39.890625 18.8125 39.015625 \nQ 14.890625 38.140625 10.796875 36.28125 \nz\n\" id=\"DejaVuSans-53\"/>\n      </defs>\n      <g transform=\"translate(90.105043 259.798437)scale(0.1 -0.1)\">\n       <use xlink:href=\"#DejaVuSans-8722\"/>\n       <use x=\"83.789062\" xlink:href=\"#DejaVuSans-55\"/>\n       <use x=\"147.412109\" xlink:href=\"#DejaVuSans-46\"/>\n       <use x=\"179.199219\" xlink:href=\"#DejaVuSans-53\"/>\n      </g>\n     </g>\n    </g>\n    <g id=\"xtick_3\">\n     <g id=\"line2d_5\">\n      <path clip-path=\"url(#p3415bdbe0c)\" d=\"M 140.291903 245.2 \nL 140.291903 27.76 \n\" style=\"fill:none;stroke:#b0b0b0;stroke-linecap:square;stroke-width:0.8;\"/>\n     </g>\n     <g id=\"line2d_6\">\n      <g>\n       <use style=\"stroke:#000000;stroke-width:0.8;\" x=\"140.291903\" xlink:href=\"#m6f25aaf9ef\" y=\"245.2\"/>\n      </g>\n     </g>\n     <g id=\"text_3\">\n      <!-- −5.0 -->\n      <g transform=\"translate(128.150497 259.798437)scale(0.1 -0.1)\">\n       <use xlink:href=\"#DejaVuSans-8722\"/>\n       <use x=\"83.789062\" xlink:href=\"#DejaVuSans-53\"/>\n       <use x=\"147.412109\" xlink:href=\"#DejaVuSans-46\"/>\n       <use x=\"179.199219\" xlink:href=\"#DejaVuSans-48\"/>\n      </g>\n     </g>\n    </g>\n    <g id=\"xtick_4\">\n     <g id=\"line2d_7\">\n      <path clip-path=\"url(#p3415bdbe0c)\" d=\"M 178.337358 245.2 \nL 178.337358 27.76 \n\" style=\"fill:none;stroke:#b0b0b0;stroke-linecap:square;stroke-width:0.8;\"/>\n     </g>\n     <g id=\"line2d_8\">\n      <g>\n       <use style=\"stroke:#000000;stroke-width:0.8;\" x=\"178.337358\" xlink:href=\"#m6f25aaf9ef\" y=\"245.2\"/>\n      </g>\n     </g>\n     <g id=\"text_4\">\n      <!-- −2.5 -->\n      <defs>\n       <path d=\"M 19.1875 8.296875 \nL 53.609375 8.296875 \nL 53.609375 0 \nL 7.328125 0 \nL 7.328125 8.296875 \nQ 12.9375 14.109375 22.625 23.890625 \nQ 32.328125 33.6875 34.8125 36.53125 \nQ 39.546875 41.84375 41.421875 45.53125 \nQ 43.3125 49.21875 43.3125 52.78125 \nQ 43.3125 58.59375 39.234375 62.25 \nQ 35.15625 65.921875 28.609375 65.921875 \nQ 23.96875 65.921875 18.8125 64.3125 \nQ 13.671875 62.703125 7.8125 59.421875 \nL 7.8125 69.390625 \nQ 13.765625 71.78125 18.9375 73 \nQ 24.125 74.21875 28.421875 74.21875 \nQ 39.75 74.21875 46.484375 68.546875 \nQ 53.21875 62.890625 53.21875 53.421875 \nQ 53.21875 48.921875 51.53125 44.890625 \nQ 49.859375 40.875 45.40625 35.40625 \nQ 44.1875 33.984375 37.640625 27.21875 \nQ 31.109375 20.453125 19.1875 8.296875 \nz\n\" id=\"DejaVuSans-50\"/>\n      </defs>\n      <g transform=\"translate(166.195952 259.798437)scale(0.1 -0.1)\">\n       <use xlink:href=\"#DejaVuSans-8722\"/>\n       <use x=\"83.789062\" xlink:href=\"#DejaVuSans-50\"/>\n       <use x=\"147.412109\" xlink:href=\"#DejaVuSans-46\"/>\n       <use x=\"179.199219\" xlink:href=\"#DejaVuSans-53\"/>\n      </g>\n     </g>\n    </g>\n    <g id=\"xtick_5\">\n     <g id=\"line2d_9\">\n      <path clip-path=\"url(#p3415bdbe0c)\" d=\"M 216.382812 245.2 \nL 216.382812 27.76 \n\" style=\"fill:none;stroke:#b0b0b0;stroke-linecap:square;stroke-width:0.8;\"/>\n     </g>\n     <g id=\"line2d_10\">\n      <g>\n       <use style=\"stroke:#000000;stroke-width:0.8;\" x=\"216.382812\" xlink:href=\"#m6f25aaf9ef\" y=\"245.2\"/>\n      </g>\n     </g>\n     <g id=\"text_5\">\n      <!-- 0.0 -->\n      <g transform=\"translate(208.43125 259.798437)scale(0.1 -0.1)\">\n       <use xlink:href=\"#DejaVuSans-48\"/>\n       <use x=\"63.623047\" xlink:href=\"#DejaVuSans-46\"/>\n       <use x=\"95.410156\" xlink:href=\"#DejaVuSans-48\"/>\n      </g>\n     </g>\n    </g>\n    <g id=\"xtick_6\">\n     <g id=\"line2d_11\">\n      <path clip-path=\"url(#p3415bdbe0c)\" d=\"M 254.428267 245.2 \nL 254.428267 27.76 \n\" style=\"fill:none;stroke:#b0b0b0;stroke-linecap:square;stroke-width:0.8;\"/>\n     </g>\n     <g id=\"line2d_12\">\n      <g>\n       <use style=\"stroke:#000000;stroke-width:0.8;\" x=\"254.428267\" xlink:href=\"#m6f25aaf9ef\" y=\"245.2\"/>\n      </g>\n     </g>\n     <g id=\"text_6\">\n      <!-- 2.5 -->\n      <g transform=\"translate(246.476705 259.798437)scale(0.1 -0.1)\">\n       <use xlink:href=\"#DejaVuSans-50\"/>\n       <use x=\"63.623047\" xlink:href=\"#DejaVuSans-46\"/>\n       <use x=\"95.410156\" xlink:href=\"#DejaVuSans-53\"/>\n      </g>\n     </g>\n    </g>\n    <g id=\"xtick_7\">\n     <g id=\"line2d_13\">\n      <path clip-path=\"url(#p3415bdbe0c)\" d=\"M 292.473722 245.2 \nL 292.473722 27.76 \n\" style=\"fill:none;stroke:#b0b0b0;stroke-linecap:square;stroke-width:0.8;\"/>\n     </g>\n     <g id=\"line2d_14\">\n      <g>\n       <use style=\"stroke:#000000;stroke-width:0.8;\" x=\"292.473722\" xlink:href=\"#m6f25aaf9ef\" y=\"245.2\"/>\n      </g>\n     </g>\n     <g id=\"text_7\">\n      <!-- 5.0 -->\n      <g transform=\"translate(284.522159 259.798437)scale(0.1 -0.1)\">\n       <use xlink:href=\"#DejaVuSans-53\"/>\n       <use x=\"63.623047\" xlink:href=\"#DejaVuSans-46\"/>\n       <use x=\"95.410156\" xlink:href=\"#DejaVuSans-48\"/>\n      </g>\n     </g>\n    </g>\n    <g id=\"xtick_8\">\n     <g id=\"line2d_15\">\n      <path clip-path=\"url(#p3415bdbe0c)\" d=\"M 330.519176 245.2 \nL 330.519176 27.76 \n\" style=\"fill:none;stroke:#b0b0b0;stroke-linecap:square;stroke-width:0.8;\"/>\n     </g>\n     <g id=\"line2d_16\">\n      <g>\n       <use style=\"stroke:#000000;stroke-width:0.8;\" x=\"330.519176\" xlink:href=\"#m6f25aaf9ef\" y=\"245.2\"/>\n      </g>\n     </g>\n     <g id=\"text_8\">\n      <!-- 7.5 -->\n      <g transform=\"translate(322.567614 259.798437)scale(0.1 -0.1)\">\n       <use xlink:href=\"#DejaVuSans-55\"/>\n       <use x=\"63.623047\" xlink:href=\"#DejaVuSans-46\"/>\n       <use x=\"95.410156\" xlink:href=\"#DejaVuSans-53\"/>\n      </g>\n     </g>\n    </g>\n    <g id=\"xtick_9\">\n     <g id=\"line2d_17\">\n      <path clip-path=\"url(#p3415bdbe0c)\" d=\"M 368.564631 245.2 \nL 368.564631 27.76 \n\" style=\"fill:none;stroke:#b0b0b0;stroke-linecap:square;stroke-width:0.8;\"/>\n     </g>\n     <g id=\"line2d_18\">\n      <g>\n       <use style=\"stroke:#000000;stroke-width:0.8;\" x=\"368.564631\" xlink:href=\"#m6f25aaf9ef\" y=\"245.2\"/>\n      </g>\n     </g>\n     <g id=\"text_9\">\n      <!-- 10.0 -->\n      <g transform=\"translate(357.431818 259.798437)scale(0.1 -0.1)\">\n       <use xlink:href=\"#DejaVuSans-49\"/>\n       <use x=\"63.623047\" xlink:href=\"#DejaVuSans-48\"/>\n       <use x=\"127.246094\" xlink:href=\"#DejaVuSans-46\"/>\n       <use x=\"159.033203\" xlink:href=\"#DejaVuSans-48\"/>\n      </g>\n     </g>\n    </g>\n    <g id=\"text_10\">\n     <!-- x -->\n     <defs>\n      <path d=\"M 54.890625 54.6875 \nL 35.109375 28.078125 \nL 55.90625 0 \nL 45.3125 0 \nL 29.390625 21.484375 \nL 13.484375 0 \nL 2.875 0 \nL 24.125 28.609375 \nL 4.6875 54.6875 \nL 15.28125 54.6875 \nL 29.78125 35.203125 \nL 44.28125 54.6875 \nz\n\" id=\"DejaVuSans-120\"/>\n     </defs>\n     <g transform=\"translate(213.423438 273.476562)scale(0.1 -0.1)\">\n      <use xlink:href=\"#DejaVuSans-120\"/>\n     </g>\n    </g>\n   </g>\n   <g id=\"matplotlib.axis_2\">\n    <g id=\"ytick_1\">\n     <g id=\"line2d_19\">\n      <path clip-path=\"url(#p3415bdbe0c)\" d=\"M 48.982813 235.316364 \nL 383.782813 235.316364 \n\" style=\"fill:none;stroke:#b0b0b0;stroke-linecap:square;stroke-width:0.8;\"/>\n     </g>\n     <g id=\"line2d_20\">\n      <defs>\n       <path d=\"M 0 0 \nL -3.5 0 \n\" id=\"m902807c387\" style=\"stroke:#000000;stroke-width:0.8;\"/>\n      </defs>\n      <g>\n       <use style=\"stroke:#000000;stroke-width:0.8;\" x=\"48.982813\" xlink:href=\"#m902807c387\" y=\"235.316364\"/>\n      </g>\n     </g>\n     <g id=\"text_11\">\n      <!-- −20 -->\n      <g transform=\"translate(20.878125 239.115582)scale(0.1 -0.1)\">\n       <use xlink:href=\"#DejaVuSans-8722\"/>\n       <use x=\"83.789062\" xlink:href=\"#DejaVuSans-50\"/>\n       <use x=\"147.412109\" xlink:href=\"#DejaVuSans-48\"/>\n      </g>\n     </g>\n    </g>\n    <g id=\"ytick_2\">\n     <g id=\"line2d_21\">\n      <path clip-path=\"url(#p3415bdbe0c)\" d=\"M 48.982813 202.370909 \nL 383.782813 202.370909 \n\" style=\"fill:none;stroke:#b0b0b0;stroke-linecap:square;stroke-width:0.8;\"/>\n     </g>\n     <g id=\"line2d_22\">\n      <g>\n       <use style=\"stroke:#000000;stroke-width:0.8;\" x=\"48.982813\" xlink:href=\"#m902807c387\" y=\"202.370909\"/>\n      </g>\n     </g>\n     <g id=\"text_12\">\n      <!-- 0 -->\n      <g transform=\"translate(35.620312 206.170128)scale(0.1 -0.1)\">\n       <use xlink:href=\"#DejaVuSans-48\"/>\n      </g>\n     </g>\n    </g>\n    <g id=\"ytick_3\">\n     <g id=\"line2d_23\">\n      <path clip-path=\"url(#p3415bdbe0c)\" d=\"M 48.982813 169.425455 \nL 383.782813 169.425455 \n\" style=\"fill:none;stroke:#b0b0b0;stroke-linecap:square;stroke-width:0.8;\"/>\n     </g>\n     <g id=\"line2d_24\">\n      <g>\n       <use style=\"stroke:#000000;stroke-width:0.8;\" x=\"48.982813\" xlink:href=\"#m902807c387\" y=\"169.425455\"/>\n      </g>\n     </g>\n     <g id=\"text_13\">\n      <!-- 20 -->\n      <g transform=\"translate(29.257812 173.224673)scale(0.1 -0.1)\">\n       <use xlink:href=\"#DejaVuSans-50\"/>\n       <use x=\"63.623047\" xlink:href=\"#DejaVuSans-48\"/>\n      </g>\n     </g>\n    </g>\n    <g id=\"ytick_4\">\n     <g id=\"line2d_25\">\n      <path clip-path=\"url(#p3415bdbe0c)\" d=\"M 48.982813 136.48 \nL 383.782813 136.48 \n\" style=\"fill:none;stroke:#b0b0b0;stroke-linecap:square;stroke-width:0.8;\"/>\n     </g>\n     <g id=\"line2d_26\">\n      <g>\n       <use style=\"stroke:#000000;stroke-width:0.8;\" x=\"48.982813\" xlink:href=\"#m902807c387\" y=\"136.48\"/>\n      </g>\n     </g>\n     <g id=\"text_14\">\n      <!-- 40 -->\n      <defs>\n       <path d=\"M 37.796875 64.3125 \nL 12.890625 25.390625 \nL 37.796875 25.390625 \nz\nM 35.203125 72.90625 \nL 47.609375 72.90625 \nL 47.609375 25.390625 \nL 58.015625 25.390625 \nL 58.015625 17.1875 \nL 47.609375 17.1875 \nL 47.609375 0 \nL 37.796875 0 \nL 37.796875 17.1875 \nL 4.890625 17.1875 \nL 4.890625 26.703125 \nz\n\" id=\"DejaVuSans-52\"/>\n      </defs>\n      <g transform=\"translate(29.257812 140.279219)scale(0.1 -0.1)\">\n       <use xlink:href=\"#DejaVuSans-52\"/>\n       <use x=\"63.623047\" xlink:href=\"#DejaVuSans-48\"/>\n      </g>\n     </g>\n    </g>\n    <g id=\"ytick_5\">\n     <g id=\"line2d_27\">\n      <path clip-path=\"url(#p3415bdbe0c)\" d=\"M 48.982813 103.534545 \nL 383.782813 103.534545 \n\" style=\"fill:none;stroke:#b0b0b0;stroke-linecap:square;stroke-width:0.8;\"/>\n     </g>\n     <g id=\"line2d_28\">\n      <g>\n       <use style=\"stroke:#000000;stroke-width:0.8;\" x=\"48.982813\" xlink:href=\"#m902807c387\" y=\"103.534545\"/>\n      </g>\n     </g>\n     <g id=\"text_15\">\n      <!-- 60 -->\n      <defs>\n       <path d=\"M 33.015625 40.375 \nQ 26.375 40.375 22.484375 35.828125 \nQ 18.609375 31.296875 18.609375 23.390625 \nQ 18.609375 15.53125 22.484375 10.953125 \nQ 26.375 6.390625 33.015625 6.390625 \nQ 39.65625 6.390625 43.53125 10.953125 \nQ 47.40625 15.53125 47.40625 23.390625 \nQ 47.40625 31.296875 43.53125 35.828125 \nQ 39.65625 40.375 33.015625 40.375 \nz\nM 52.59375 71.296875 \nL 52.59375 62.3125 \nQ 48.875 64.0625 45.09375 64.984375 \nQ 41.3125 65.921875 37.59375 65.921875 \nQ 27.828125 65.921875 22.671875 59.328125 \nQ 17.53125 52.734375 16.796875 39.40625 \nQ 19.671875 43.65625 24.015625 45.921875 \nQ 28.375 48.1875 33.59375 48.1875 \nQ 44.578125 48.1875 50.953125 41.515625 \nQ 57.328125 34.859375 57.328125 23.390625 \nQ 57.328125 12.15625 50.6875 5.359375 \nQ 44.046875 -1.421875 33.015625 -1.421875 \nQ 20.359375 -1.421875 13.671875 8.265625 \nQ 6.984375 17.96875 6.984375 36.375 \nQ 6.984375 53.65625 15.1875 63.9375 \nQ 23.390625 74.21875 37.203125 74.21875 \nQ 40.921875 74.21875 44.703125 73.484375 \nQ 48.484375 72.75 52.59375 71.296875 \nz\n\" id=\"DejaVuSans-54\"/>\n      </defs>\n      <g transform=\"translate(29.257812 107.333764)scale(0.1 -0.1)\">\n       <use xlink:href=\"#DejaVuSans-54\"/>\n       <use x=\"63.623047\" xlink:href=\"#DejaVuSans-48\"/>\n      </g>\n     </g>\n    </g>\n    <g id=\"ytick_6\">\n     <g id=\"line2d_29\">\n      <path clip-path=\"url(#p3415bdbe0c)\" d=\"M 48.982813 70.589091 \nL 383.782813 70.589091 \n\" style=\"fill:none;stroke:#b0b0b0;stroke-linecap:square;stroke-width:0.8;\"/>\n     </g>\n     <g id=\"line2d_30\">\n      <g>\n       <use style=\"stroke:#000000;stroke-width:0.8;\" x=\"48.982813\" xlink:href=\"#m902807c387\" y=\"70.589091\"/>\n      </g>\n     </g>\n     <g id=\"text_16\">\n      <!-- 80 -->\n      <defs>\n       <path d=\"M 31.78125 34.625 \nQ 24.75 34.625 20.71875 30.859375 \nQ 16.703125 27.09375 16.703125 20.515625 \nQ 16.703125 13.921875 20.71875 10.15625 \nQ 24.75 6.390625 31.78125 6.390625 \nQ 38.8125 6.390625 42.859375 10.171875 \nQ 46.921875 13.96875 46.921875 20.515625 \nQ 46.921875 27.09375 42.890625 30.859375 \nQ 38.875 34.625 31.78125 34.625 \nz\nM 21.921875 38.8125 \nQ 15.578125 40.375 12.03125 44.71875 \nQ 8.5 49.078125 8.5 55.328125 \nQ 8.5 64.0625 14.71875 69.140625 \nQ 20.953125 74.21875 31.78125 74.21875 \nQ 42.671875 74.21875 48.875 69.140625 \nQ 55.078125 64.0625 55.078125 55.328125 \nQ 55.078125 49.078125 51.53125 44.71875 \nQ 48 40.375 41.703125 38.8125 \nQ 48.828125 37.15625 52.796875 32.3125 \nQ 56.78125 27.484375 56.78125 20.515625 \nQ 56.78125 9.90625 50.3125 4.234375 \nQ 43.84375 -1.421875 31.78125 -1.421875 \nQ 19.734375 -1.421875 13.25 4.234375 \nQ 6.78125 9.90625 6.78125 20.515625 \nQ 6.78125 27.484375 10.78125 32.3125 \nQ 14.796875 37.15625 21.921875 38.8125 \nz\nM 18.3125 54.390625 \nQ 18.3125 48.734375 21.84375 45.5625 \nQ 25.390625 42.390625 31.78125 42.390625 \nQ 38.140625 42.390625 41.71875 45.5625 \nQ 45.3125 48.734375 45.3125 54.390625 \nQ 45.3125 60.0625 41.71875 63.234375 \nQ 38.140625 66.40625 31.78125 66.40625 \nQ 25.390625 66.40625 21.84375 63.234375 \nQ 18.3125 60.0625 18.3125 54.390625 \nz\n\" id=\"DejaVuSans-56\"/>\n      </defs>\n      <g transform=\"translate(29.257812 74.38831)scale(0.1 -0.1)\">\n       <use xlink:href=\"#DejaVuSans-56\"/>\n       <use x=\"63.623047\" xlink:href=\"#DejaVuSans-48\"/>\n      </g>\n     </g>\n    </g>\n    <g id=\"ytick_7\">\n     <g id=\"line2d_31\">\n      <path clip-path=\"url(#p3415bdbe0c)\" d=\"M 48.982813 37.643636 \nL 383.782813 37.643636 \n\" style=\"fill:none;stroke:#b0b0b0;stroke-linecap:square;stroke-width:0.8;\"/>\n     </g>\n     <g id=\"line2d_32\">\n      <g>\n       <use style=\"stroke:#000000;stroke-width:0.8;\" x=\"48.982813\" xlink:href=\"#m902807c387\" y=\"37.643636\"/>\n      </g>\n     </g>\n     <g id=\"text_17\">\n      <!-- 100 -->\n      <g transform=\"translate(22.895312 41.442855)scale(0.1 -0.1)\">\n       <use xlink:href=\"#DejaVuSans-49\"/>\n       <use x=\"63.623047\" xlink:href=\"#DejaVuSans-48\"/>\n       <use x=\"127.246094\" xlink:href=\"#DejaVuSans-48\"/>\n      </g>\n     </g>\n    </g>\n    <g id=\"text_18\">\n     <!-- y -->\n     <defs>\n      <path d=\"M 32.171875 -5.078125 \nQ 28.375 -14.84375 24.75 -17.8125 \nQ 21.140625 -20.796875 15.09375 -20.796875 \nL 7.90625 -20.796875 \nL 7.90625 -13.28125 \nL 13.1875 -13.28125 \nQ 16.890625 -13.28125 18.9375 -11.515625 \nQ 21 -9.765625 23.484375 -3.21875 \nL 25.09375 0.875 \nL 2.984375 54.6875 \nL 12.5 54.6875 \nL 29.59375 11.921875 \nL 46.6875 54.6875 \nL 56.203125 54.6875 \nz\n\" id=\"DejaVuSans-121\"/>\n     </defs>\n     <g transform=\"translate(14.798438 139.439375)rotate(-90)scale(0.1 -0.1)\">\n      <use xlink:href=\"#DejaVuSans-121\"/>\n     </g>\n    </g>\n   </g>\n   <g id=\"line2d_33\">\n    <path clip-path=\"url(#p3415bdbe0c)\" d=\"M 48.982813 202.370909 \nL 383.782813 202.370909 \n\" style=\"fill:none;stroke:#000000;stroke-linecap:square;stroke-width:1.5;\"/>\n   </g>\n   <g id=\"line2d_34\">\n    <path clip-path=\"url(#p3415bdbe0c)\" d=\"M 216.382812 245.2 \nL 216.382812 27.76 \n\" style=\"fill:none;stroke:#000000;stroke-linecap:square;stroke-width:1.5;\"/>\n   </g>\n   <g id=\"line2d_35\">\n    <path clip-path=\"url(#p3415bdbe0c)\" d=\"M 64.200994 37.643636 \nL 67.275374 44.232055 \nL 70.349755 50.686016 \nL 73.424135 57.00552 \nL 76.498515 63.190566 \nL 79.572895 69.241154 \nL 82.647275 75.157285 \nL 85.721655 80.938959 \nL 88.796036 86.586175 \nL 91.870416 92.098933 \nL 94.944796 97.477234 \nL 98.019176 102.721077 \nL 101.093556 107.830463 \nL 104.167936 112.805392 \nL 107.242317 117.645862 \nL 110.316697 122.351876 \nL 113.391077 126.923432 \nL 116.465457 131.36053 \nL 119.539837 135.663171 \nL 122.614217 139.831354 \nL 125.688598 143.865079 \nL 128.762978 147.764348 \nL 131.837358 151.529158 \nL 134.911738 155.159511 \nL 137.986118 158.655407 \nL 141.060498 162.016845 \nL 144.134879 165.243826 \nL 147.209259 168.336349 \nL 150.283639 171.294414 \nL 153.358019 174.118022 \nL 156.432399 176.807173 \nL 159.506779 179.361865 \nL 162.58116 181.782101 \nL 165.65554 184.067879 \nL 168.72992 186.219199 \nL 171.8043 188.236062 \nL 174.87868 190.118467 \nL 177.95306 191.866415 \nL 181.027441 193.479905 \nL 184.101821 194.958938 \nL 187.176201 196.303513 \nL 190.250581 197.513631 \nL 193.324961 198.589291 \nL 196.399341 199.530494 \nL 199.473722 200.337239 \nL 202.548102 201.009527 \nL 205.622482 201.547357 \nL 208.696862 201.950729 \nL 211.771242 202.219644 \nL 214.845622 202.354102 \nL 217.920003 202.354102 \nL 220.994383 202.219644 \nL 224.068763 201.950729 \nL 227.143143 201.547357 \nL 230.217523 201.009527 \nL 233.291903 200.337239 \nL 236.366284 199.530494 \nL 239.440664 198.589291 \nL 242.515044 197.513631 \nL 245.589424 196.303513 \nL 248.663804 194.958938 \nL 251.738184 193.479905 \nL 254.812565 191.866415 \nL 257.886945 190.118467 \nL 260.961325 188.236062 \nL 264.035705 186.219199 \nL 267.110085 184.067879 \nL 270.184465 181.782101 \nL 273.258846 179.361865 \nL 276.333226 176.807173 \nL 279.407606 174.118022 \nL 282.481986 171.294414 \nL 285.556366 168.336349 \nL 288.630746 165.243826 \nL 291.705127 162.016845 \nL 294.779507 158.655407 \nL 297.853887 155.159511 \nL 300.928267 151.529158 \nL 304.002647 147.764348 \nL 307.077027 143.865079 \nL 310.151408 139.831354 \nL 313.225788 135.663171 \nL 316.300168 131.36053 \nL 319.374548 126.923432 \nL 322.448928 122.351876 \nL 325.523308 117.645862 \nL 328.597689 112.805392 \nL 331.672069 107.830463 \nL 334.746449 102.721077 \nL 337.820829 97.477234 \nL 340.895209 92.098933 \nL 343.969589 86.586175 \nL 347.04397 80.938959 \nL 350.11835 75.157285 \nL 353.19273 69.241154 \nL 356.26711 63.190566 \nL 359.34149 57.00552 \nL 362.41587 50.686016 \nL 365.490251 44.232055 \nL 368.564631 37.643636 \n\" style=\"fill:none;stroke:#1f77b4;stroke-linecap:square;stroke-width:1.5;\"/>\n   </g>\n   <g id=\"line2d_36\">\n    <path clip-path=\"url(#p3415bdbe0c)\" d=\"M 64.200994 235.316364 \nL 67.275374 234.650799 \nL 70.349755 233.985234 \nL 73.424135 233.319669 \nL 76.498515 232.654105 \nL 79.572895 231.98854 \nL 82.647275 231.322975 \nL 85.721655 230.65741 \nL 88.796036 229.991846 \nL 91.870416 229.326281 \nL 94.944796 228.660716 \nL 98.019176 227.995152 \nL 101.093556 227.329587 \nL 104.167936 226.664022 \nL 107.242317 225.998457 \nL 110.316697 225.332893 \nL 113.391077 224.667328 \nL 116.465457 224.001763 \nL 119.539837 223.336198 \nL 122.614217 222.670634 \nL 125.688598 222.005069 \nL 128.762978 221.339504 \nL 131.837358 220.673939 \nL 134.911738 220.008375 \nL 137.986118 219.34281 \nL 141.060498 218.677245 \nL 144.134879 218.01168 \nL 147.209259 217.346116 \nL 150.283639 216.680551 \nL 153.358019 216.014986 \nL 156.432399 215.349421 \nL 159.506779 214.683857 \nL 162.58116 214.018292 \nL 165.65554 213.352727 \nL 168.72992 212.687163 \nL 171.8043 212.021598 \nL 174.87868 211.356033 \nL 177.95306 210.690468 \nL 181.027441 210.024904 \nL 184.101821 209.359339 \nL 187.176201 208.693774 \nL 190.250581 208.028209 \nL 193.324961 207.362645 \nL 196.399341 206.69708 \nL 199.473722 206.031515 \nL 202.548102 205.36595 \nL 205.622482 204.700386 \nL 208.696862 204.034821 \nL 211.771242 203.369256 \nL 214.845622 202.703691 \nL 217.920003 202.038127 \nL 220.994383 201.372562 \nL 224.068763 200.706997 \nL 227.143143 200.041433 \nL 230.217523 199.375868 \nL 233.291903 198.710303 \nL 236.366284 198.044738 \nL 239.440664 197.379174 \nL 242.515044 196.713609 \nL 245.589424 196.048044 \nL 248.663804 195.382479 \nL 251.738184 194.716915 \nL 254.812565 194.05135 \nL 257.886945 193.385785 \nL 260.961325 192.72022 \nL 264.035705 192.054656 \nL 267.110085 191.389091 \nL 270.184465 190.723526 \nL 273.258846 190.057961 \nL 276.333226 189.392397 \nL 279.407606 188.726832 \nL 282.481986 188.061267 \nL 285.556366 187.395702 \nL 288.630746 186.730138 \nL 291.705127 186.064573 \nL 294.779507 185.399008 \nL 297.853887 184.733444 \nL 300.928267 184.067879 \nL 304.002647 183.402314 \nL 307.077027 182.736749 \nL 310.151408 182.071185 \nL 313.225788 181.40562 \nL 316.300168 180.740055 \nL 319.374548 180.07449 \nL 322.448928 179.408926 \nL 325.523308 178.743361 \nL 328.597689 178.077796 \nL 331.672069 177.412231 \nL 334.746449 176.746667 \nL 337.820829 176.081102 \nL 340.895209 175.415537 \nL 343.969589 174.749972 \nL 347.04397 174.084408 \nL 350.11835 173.418843 \nL 353.19273 172.753278 \nL 356.26711 172.087713 \nL 359.34149 171.422149 \nL 362.41587 170.756584 \nL 365.490251 170.091019 \nL 368.564631 169.425455 \n\" style=\"fill:none;stroke:#ff7f0e;stroke-linecap:square;stroke-width:1.5;\"/>\n   </g>\n   <g id=\"patch_3\">\n    <path d=\"M 48.982813 245.2 \nL 48.982813 27.76 \n\" style=\"fill:none;stroke:#000000;stroke-linecap:square;stroke-linejoin:miter;stroke-width:0.8;\"/>\n   </g>\n   <g id=\"patch_4\">\n    <path d=\"M 383.782813 245.2 \nL 383.782813 27.76 \n\" style=\"fill:none;stroke:#000000;stroke-linecap:square;stroke-linejoin:miter;stroke-width:0.8;\"/>\n   </g>\n   <g id=\"patch_5\">\n    <path d=\"M 48.982812 245.2 \nL 383.782812 245.2 \n\" style=\"fill:none;stroke:#000000;stroke-linecap:square;stroke-linejoin:miter;stroke-width:0.8;\"/>\n   </g>\n   <g id=\"patch_6\">\n    <path d=\"M 48.982812 27.76 \nL 383.782812 27.76 \n\" style=\"fill:none;stroke:#000000;stroke-linecap:square;stroke-linejoin:miter;stroke-width:0.8;\"/>\n   </g>\n   <g id=\"text_19\">\n    <!-- $q(x) = x^2 $ -->\n    <defs>\n     <path d=\"M 41.703125 8.203125 \nQ 38.09375 3.46875 33.171875 1.015625 \nQ 28.265625 -1.421875 22.3125 -1.421875 \nQ 14.015625 -1.421875 9.296875 4.171875 \nQ 4.59375 9.765625 4.59375 19.578125 \nQ 4.59375 27.484375 7.5 34.859375 \nQ 10.40625 42.234375 15.828125 48.09375 \nQ 19.34375 51.90625 23.90625 53.953125 \nQ 28.46875 56 33.5 56 \nQ 39.546875 56 43.453125 53.609375 \nQ 47.359375 51.21875 49.125 46.390625 \nL 50.6875 54.59375 \nL 59.71875 54.59375 \nL 45.125 -20.609375 \nL 36.078125 -20.609375 \nz\nM 13.921875 20.90625 \nQ 13.921875 13.671875 16.9375 9.890625 \nQ 19.96875 6.109375 25.6875 6.109375 \nQ 34.1875 6.109375 40.1875 14.234375 \nQ 46.1875 22.359375 46.1875 33.984375 \nQ 46.1875 41.015625 43.078125 44.75 \nQ 39.984375 48.484375 34.1875 48.484375 \nQ 29.9375 48.484375 26.3125 46.5 \nQ 22.703125 44.53125 20.015625 40.71875 \nQ 17.1875 36.71875 15.546875 31.34375 \nQ 13.921875 25.984375 13.921875 20.90625 \nz\n\" id=\"DejaVuSans-Oblique-113\"/>\n     <path d=\"M 31 75.875 \nQ 24.46875 64.65625 21.28125 53.65625 \nQ 18.109375 42.671875 18.109375 31.390625 \nQ 18.109375 20.125 21.3125 9.0625 \nQ 24.515625 -2 31 -13.1875 \nL 23.1875 -13.1875 \nQ 15.875 -1.703125 12.234375 9.375 \nQ 8.59375 20.453125 8.59375 31.390625 \nQ 8.59375 42.28125 12.203125 53.3125 \nQ 15.828125 64.359375 23.1875 75.875 \nz\n\" id=\"DejaVuSans-40\"/>\n     <path d=\"M 60.015625 54.6875 \nL 34.90625 27.875 \nL 50.296875 0 \nL 39.984375 0 \nL 28.421875 21.6875 \nL 8.296875 0 \nL -2.59375 0 \nL 24.3125 28.8125 \nL 10.015625 54.6875 \nL 20.3125 54.6875 \nL 30.8125 34.90625 \nL 49.125 54.6875 \nz\n\" id=\"DejaVuSans-Oblique-120\"/>\n     <path d=\"M 8.015625 75.875 \nL 15.828125 75.875 \nQ 23.140625 64.359375 26.78125 53.3125 \nQ 30.421875 42.28125 30.421875 31.390625 \nQ 30.421875 20.453125 26.78125 9.375 \nQ 23.140625 -1.703125 15.828125 -13.1875 \nL 8.015625 -13.1875 \nQ 14.5 -2 17.703125 9.0625 \nQ 20.90625 20.125 20.90625 31.390625 \nQ 20.90625 42.671875 17.703125 53.65625 \nQ 14.5 64.65625 8.015625 75.875 \nz\n\" id=\"DejaVuSans-41\"/>\n     <path d=\"M 10.59375 45.40625 \nL 73.1875 45.40625 \nL 73.1875 37.203125 \nL 10.59375 37.203125 \nz\nM 10.59375 25.484375 \nL 73.1875 25.484375 \nL 73.1875 17.1875 \nL 10.59375 17.1875 \nz\n\" id=\"DejaVuSans-61\"/>\n    </defs>\n    <g transform=\"translate(181.582812 21.76)scale(0.16 -0.16)\">\n     <use transform=\"translate(0 0.765625)\" xlink:href=\"#DejaVuSans-Oblique-113\"/>\n     <use transform=\"translate(63.476562 0.765625)\" xlink:href=\"#DejaVuSans-40\"/>\n     <use transform=\"translate(102.490234 0.765625)\" xlink:href=\"#DejaVuSans-Oblique-120\"/>\n     <use transform=\"translate(161.669922 0.765625)\" xlink:href=\"#DejaVuSans-41\"/>\n     <use transform=\"translate(220.166016 0.765625)\" xlink:href=\"#DejaVuSans-61\"/>\n     <use transform=\"translate(323.4375 0.765625)\" xlink:href=\"#DejaVuSans-Oblique-120\"/>\n     <use transform=\"translate(387.083333 39.046875)scale(0.7)\" xlink:href=\"#DejaVuSans-50\"/>\n    </g>\n   </g>\n   <g id=\"legend_1\">\n    <g id=\"patch_7\">\n     <path d=\"M 390.782813 65.36 \nL 515.982813 65.36 \nQ 517.982813 65.36 517.982813 63.36 \nL 517.982813 34.76 \nQ 517.982813 32.76 515.982813 32.76 \nL 390.782813 32.76 \nQ 388.782813 32.76 388.782813 34.76 \nL 388.782813 63.36 \nQ 388.782813 65.36 390.782813 65.36 \nz\n\" style=\"fill:#ffffff;opacity:0.8;stroke:#cccccc;stroke-linejoin:miter;\"/>\n    </g>\n    <g id=\"line2d_37\">\n     <path d=\"M 392.782813 40.86 \nL 412.782813 40.86 \n\" style=\"fill:none;stroke:#1f77b4;stroke-linecap:square;stroke-width:1.5;\"/>\n    </g>\n    <g id=\"line2d_38\"/>\n    <g id=\"text_20\">\n     <!-- $ q(x), x \\in [-10, 10] $ -->\n     <defs>\n      <path d=\"M 11.71875 12.40625 \nL 22.015625 12.40625 \nL 22.015625 4 \nL 14.015625 -11.625 \nL 7.71875 -11.625 \nL 11.71875 4 \nz\n\" id=\"DejaVuSans-44\"/>\n      <path d=\"M 16.75 30.609375 \nQ 17.09375 27 20.171875 21.140625 \nQ 23.78125 14.359375 30.609375 10.546875 \nQ 37.3125 6.84375 44.53125 6.78125 \nL 78.5625 6.78125 \nL 78.5625 -0.984375 \nL 44.53125 -0.984375 \nQ 35.15625 -0.984375 26.484375 3.84375 \nQ 17.828125 8.6875 13.1875 17.28125 \nQ 8.546875 25.875 8.546875 35.015625 \nQ 8.546875 44.046875 13.1875 52.640625 \nQ 17.828125 61.234375 26.484375 66.109375 \nQ 35.15625 71 44.53125 71 \nL 78.5625 71 \nL 78.5625 63.234375 \nL 44.53125 63.234375 \nQ 37.3125 63.1875 30.609375 59.421875 \nQ 23.828125 55.5625 20.171875 48.828125 \nQ 17.046875 42.96875 16.609375 38.421875 \nL 78.5625 38.421875 \nL 78.5625 30.609375 \nz\n\" id=\"DejaVuSans-8712\"/>\n      <path d=\"M 8.59375 75.984375 \nL 29.296875 75.984375 \nL 29.296875 69 \nL 17.578125 69 \nL 17.578125 -6.203125 \nL 29.296875 -6.203125 \nL 29.296875 -13.1875 \nL 8.59375 -13.1875 \nz\n\" id=\"DejaVuSans-91\"/>\n      <path d=\"M 30.421875 75.984375 \nL 30.421875 -13.1875 \nL 9.71875 -13.1875 \nL 9.71875 -6.203125 \nL 21.390625 -6.203125 \nL 21.390625 69 \nL 9.71875 69 \nL 9.71875 75.984375 \nz\n\" id=\"DejaVuSans-93\"/>\n     </defs>\n     <g transform=\"translate(420.782813 44.36)scale(0.1 -0.1)\">\n      <use transform=\"translate(0 0.015625)\" xlink:href=\"#DejaVuSans-Oblique-113\"/>\n      <use transform=\"translate(63.476562 0.015625)\" xlink:href=\"#DejaVuSans-40\"/>\n      <use transform=\"translate(102.490234 0.015625)\" xlink:href=\"#DejaVuSans-Oblique-120\"/>\n      <use transform=\"translate(161.669922 0.015625)\" xlink:href=\"#DejaVuSans-41\"/>\n      <use transform=\"translate(200.683594 0.015625)\" xlink:href=\"#DejaVuSans-44\"/>\n      <use transform=\"translate(251.953125 0.015625)\" xlink:href=\"#DejaVuSans-Oblique-120\"/>\n      <use transform=\"translate(330.615234 0.015625)\" xlink:href=\"#DejaVuSans-8712\"/>\n      <use transform=\"translate(437.207031 0.015625)\" xlink:href=\"#DejaVuSans-91\"/>\n      <use transform=\"translate(476.220703 0.015625)\" xlink:href=\"#DejaVuSans-8722\"/>\n      <use transform=\"translate(560.009766 0.015625)\" xlink:href=\"#DejaVuSans-49\"/>\n      <use transform=\"translate(623.632812 0.015625)\" xlink:href=\"#DejaVuSans-48\"/>\n      <use transform=\"translate(687.255859 0.015625)\" xlink:href=\"#DejaVuSans-44\"/>\n      <use transform=\"translate(738.525391 0.015625)\" xlink:href=\"#DejaVuSans-49\"/>\n      <use transform=\"translate(802.148438 0.015625)\" xlink:href=\"#DejaVuSans-48\"/>\n      <use transform=\"translate(865.771484 0.015625)\" xlink:href=\"#DejaVuSans-93\"/>\n     </g>\n    </g>\n    <g id=\"line2d_39\">\n     <path d=\"M 392.782813 55.76 \nL 412.782813 55.76 \n\" style=\"fill:none;stroke:#ff7f0e;stroke-linecap:square;stroke-width:1.5;\"/>\n    </g>\n    <g id=\"line2d_40\"/>\n    <g id=\"text_21\">\n     <!-- $ q^\\prime(x), x \\in [-10, 10] $ -->\n     <defs>\n      <path d=\"M 3.515625 5.421875 \nQ 2.875 5.609375 2.875 6.390625 \nL 15.09375 51.8125 \nQ 15.671875 53.65625 17.078125 54.78125 \nQ 18.5 55.90625 20.3125 55.90625 \nQ 22.65625 55.90625 24.4375 54.359375 \nQ 26.21875 52.828125 26.21875 50.484375 \nQ 26.21875 49.46875 25.6875 48.1875 \nL 7.625 4.984375 \nQ 7.28125 4.296875 6.6875 4.296875 \nQ 6.15625 4.296875 5 4.78125 \nQ 3.859375 5.28125 3.515625 5.421875 \nz\n\" id=\"Cmsy10-48\"/>\n     </defs>\n     <g transform=\"translate(420.782813 59.26)scale(0.1 -0.1)\">\n      <use transform=\"translate(0 0.584375)\" xlink:href=\"#DejaVuSans-Oblique-113\"/>\n      <use transform=\"translate(68.126458 38.865625)scale(0.7)\" xlink:href=\"#Cmsy10-48\"/>\n      <use transform=\"translate(90.103997 0.584375)\" xlink:href=\"#DejaVuSans-40\"/>\n      <use transform=\"translate(129.117669 0.584375)\" xlink:href=\"#DejaVuSans-Oblique-120\"/>\n      <use transform=\"translate(188.297357 0.584375)\" xlink:href=\"#DejaVuSans-41\"/>\n      <use transform=\"translate(227.311029 0.584375)\" xlink:href=\"#DejaVuSans-44\"/>\n      <use transform=\"translate(278.58056 0.584375)\" xlink:href=\"#DejaVuSans-Oblique-120\"/>\n      <use transform=\"translate(357.242669 0.584375)\" xlink:href=\"#DejaVuSans-8712\"/>\n      <use transform=\"translate(463.834466 0.584375)\" xlink:href=\"#DejaVuSans-91\"/>\n      <use transform=\"translate(502.848138 0.584375)\" xlink:href=\"#DejaVuSans-8722\"/>\n      <use transform=\"translate(586.637201 0.584375)\" xlink:href=\"#DejaVuSans-49\"/>\n      <use transform=\"translate(650.260247 0.584375)\" xlink:href=\"#DejaVuSans-48\"/>\n      <use transform=\"translate(713.883294 0.584375)\" xlink:href=\"#DejaVuSans-44\"/>\n      <use transform=\"translate(765.152826 0.584375)\" xlink:href=\"#DejaVuSans-49\"/>\n      <use transform=\"translate(828.775872 0.584375)\" xlink:href=\"#DejaVuSans-48\"/>\n      <use transform=\"translate(892.398919 0.584375)\" xlink:href=\"#DejaVuSans-93\"/>\n     </g>\n    </g>\n   </g>\n  </g>\n </g>\n <defs>\n  <clipPath id=\"p3415bdbe0c\">\n   <rect height=\"217.44\" width=\"334.8\" x=\"48.982813\" y=\"27.76\"/>\n  </clipPath>\n </defs>\n</svg>\n",
      "image/png": "[encoded data removed]"
     },
     "metadata": {
      "needs_background": "light"
     }
    }
   ],
   "source": [
    "import numpy as np\n",
    "import matplotlib.pyplot as plt\n",
    "\n",
    "fig, ax = plt.subplots()\n",
    "\n",
    "plt.title(\n",
    "    r'$q(x) = x^2 $', fontsize=16)\n",
    "ax.axhline(y=0, color='black')\n",
    "ax.axvline(x=0, color='black')\n",
    "\n",
    "# plotting the volume\n",
    "def q(x):\n",
    "    return x ** 2\n",
    "\n",
    "def q_derivative(x):\n",
    "    return 2 * x\n",
    "\n",
    "xs = np.linspace(-10, 10, 100)\n",
    "plt.plot(xs, q(xs), label=r'$ q(x), x \\in [-10, 10] $')\n",
    "plt.plot(xs, q_derivative(xs), label=r'$ q^\\prime(x), x \\in [-10, 10] $')\n",
    "\n",
    "plt.xlabel(r'x')\n",
    "plt.ylabel(r'y')\n",
    "plt.legend(bbox_to_anchor=(1, 1))\n",
    "plt.grid(True)\n",
    "plt.show()"
   ]
  },
  {
   "source": [
    "As you can see, the slope starts negative, eventually becomes zero, and then turns positive.\n",
    "\n",
    "All of these facts are special cases of the general rule:\n",
    "\n",
    "$\n",
    "\\displaystyle\n",
    "f(x) = a \\cdot x^n \\\\\n",
    "f'(x) = n \\cdot a \\cdot x^n\n",
    "$\n",
    "\n",
    "As an example:\n",
    "\n",
    "$ \n",
    "f(x) = 5x^4 \\\\\n",
    "f'(x) = 20x^3\n",
    "$\n"
   ],
   "cell_type": "markdown",
   "metadata": {}
  },
  {
   "source": [
    "### Derivatives of transformed functions\n",
    "\n",
    "Adding a constant to a function never changes its derivative:\n",
    "\n",
    "$\n",
    "f(x) = x^100 + \\pi \\\\\n",
    "f'(x) = 100 x^99\n",
    "$\n",
    "\n",
    "However, some modifications of a functions change the derivative. For example, if you put a negative sign in front of a function, the graph flips upside down and so does the graph of any secant line.\n",
    "\n",
    "Because derivatives are determined by the slopes of secant line, the derivative of a negative function is equal to the negative derivative. For example:\n",
    "\n",
    "$\n",
    "f(x) = -5x^2 \\\\\n",
    "f'(x) = -10x\n",
    "$\n"
   ],
   "cell_type": "markdown",
   "metadata": {}
  },
  {
   "source": [
    "Similarly, if you multiply any function by a positive number (say 4), you will get a function that is 4 times steeper than the original one."
   ],
   "cell_type": "markdown",
   "metadata": {}
  },
  {
   "source": [
    "The derivative of the $ sin(x) $ is $ cos(x) $, and in particular:\n",
    "\n",
    "$\n",
    "f(x) = a \\cdot sin(x) \\\\\n",
    "f'(x) = a \\cdot cos(x)\n",
    "$"
   ],
   "cell_type": "markdown",
   "metadata": {}
  },
  {
   "source": [
    "If you add two functions together, the vertical change for any secant line will be the sum of the vertical changes of the individual functions, and therefore:\n",
    "\n",
    "$\n",
    "h = f + g \\\\\n",
    "h'(x) = f'(x) + g'(x)\n",
    "$"
   ],
   "cell_type": "markdown",
   "metadata": {}
  },
  {
   "source": [
    "### Derivatives of some special functions\n",
    "\n",
    "The following table lists the derivatives of the common functions, so that it can be used as a cheat sheet:\n",
    "\n",
    "| Function name | Formula | Derivative |\n",
    "| :------------ | :------ | :--------- |\n",
    "| Sine | $ sin(x) $ | $ cos(x) $ |\n",
    "| Cosine | $ cos(x) $ | $ -sin(x) $ |\n",
    "| Exponential | $ e^x $ | $ e^x $ |\n",
    "| Exponential (any base) | $ a^x $ | $ ln(a) \\cdot a \\cdot x $ |\n",
    "| Natural Logarithm | $ ln(x) $ | $ \\frac{1}{x} $ |\n",
    "| Logarithm (any base) | $ log_{a}(x) $ | $ \\frac{1}{ln(x) \\cdot x} $ |\n",
    "\n",
    "\n",
    "| NOTE: |\n",
    "| :---- |\n",
    "| Remember that you can always rely on https://www.wolframalpha.com/ |\n"
   ],
   "cell_type": "markdown",
   "metadata": {}
  },
  {
   "source": [
    "The cheat sheet above can be used to figure out more complicated derivatives, for example:\n",
    "\n",
    "$\n",
    "\\text{Let } f(x) = 6x + 2sin(x) + 5e^x \\\\\n",
    "f'(x) = 6 + 2cos(x) + 5e^x\n",
    "$\n",
    "\n",
    "Note however that when functions are combined in different ways other than addition and subtraction, the rules above do not apply.\n",
    "\n",
    "For example:\n",
    "\n",
    "$\n",
    "\\text{Let } f(x) = sin(sin(x)) \\\\\n",
    "f'(x) \\ne cos(cos(x))\n",
    "$\n",
    "\n",
    "You can find in https://www.wolframalpha.com/ that $ f'(x) = cos(x)cos(sin(x)) $"
   ],
   "cell_type": "markdown",
   "metadata": {}
  },
  {
   "source": [
    "### Derivatives of products and compositions\n",
    "\n"
   ],
   "cell_type": "markdown",
   "metadata": {}
  }
 ]
}