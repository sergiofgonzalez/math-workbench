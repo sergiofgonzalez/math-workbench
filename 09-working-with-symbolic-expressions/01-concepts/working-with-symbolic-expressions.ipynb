{
 "metadata": {
  "language_info": {
   "codemirror_mode": {
    "name": "ipython",
    "version": 3
   },
   "file_extension": ".py",
   "mimetype": "text/x-python",
   "name": "python",
   "nbconvert_exporter": "python",
   "pygments_lexer": "ipython3",
   "version": "3.8.3-final"
  },
  "orig_nbformat": 2,
  "kernelspec": {
   "name": "python3",
   "display_name": "Python 3",
   "language": "python"
  }
 },
 "nbformat": 4,
 "nbformat_minor": 2,
 "cells": [
  {
   "source": [
    "# Working with symbolic expressions\n",
    "\n",
    "## Contents\n",
    "+ Modeling algebraic expressions as data structures\n",
    "+ Writing code to analyze, transform, or evaluate algebraic expressions\n",
    "+ Finding the derivative of a function by manipulating the expression that defines it\n",
    "+ Writing a Python function for automatic derivatives\n",
    "+ Using *SymPy* library for automatic integrals"
   ],
   "cell_type": "markdown",
   "metadata": {}
  },
  {
   "source": [
    "## Introduction\n",
    "\n",
    "In the previous chapters we've used Python to approximate solutions for two of the most important concepts in calculus: derivatives and integrals. \n",
    "\n",
    "We learned to calculate derivatives by taking slopes of smaller and smaller secant lines, and to calculate integrals by estimating the area under a graph with thinner and thiner rectangles.\n",
    "\n",
    "By using that *programmatic* approach, we've been able to work do very interesting applications without following the *formal* approach first.\n",
    "\n",
    "That *formal* (non-programmatic) approach dictates how to calculate the exact formula for a derivative and integral.\n",
    "For example, if $ f(x) = x^3 $, $ f'(x) = 3x² $."
   ],
   "cell_type": "markdown",
   "metadata": {}
  },
  {
   "source": [
    "### Finding an exact derivative with a computer algebra system\n",
    "\n",
    "While knowing the rules for derivatives and integrals are very important for Math purposes, those are actually not that useful for computing.\n",
    "\n",
    "In case you need to know the exact formula for a derivative, you can always rely on a *computer algebra system* like *Mathematica*. In particular, there are tools online such as [wolframalpha.com](https://www.wolframalpha.com/), which are powered by *Mathematica* engine.\n",
    "\n",
    "For instance:\n",
    "\n",
    "![Wolfram Alpha](../images/wolfram_alpha.png)"
   ],
   "cell_type": "markdown",
   "metadata": {}
  },
  {
   "source": [
    "This will obviously will work for more complicated formulas such as:\n",
    "\n",
    "$\n",
    "\\displaystyle\n",
    "f(x) = \\frac{1}{1 + e^{-x}}\n",
    "$\n",
    "\n",
    "Which would be written in Python as: `1/(1 + e**(-x))` can be punched into [wolframalpha.com](https://www.wolframalpha.com/) to obtain:\n",
    "\n",
    "$\n",
    "\\displaystyle\n",
    "f(x) = \\frac{e^{-x}}{(1 + e^{-x})^2}\n",
    "$"
   ],
   "cell_type": "markdown",
   "metadata": {}
  },
  {
   "source": [
    "In short, from a programmer's POV, it is more important to know that the derivative represents the instantaneous rate of change of a given function, and know that you have tools such as [wolframalpha.com](https://www.wolframalpha.com/) to obtain the derivative that remembering all the derivative rules by heart.\n",
    "\n",
    "Note that *Mathematica* does not use the approximation approach we've been learning in the past chapters. Instead, it leverages a technique called *symbolic programming* to come up with the formulas.\n",
    "\n",
    "In this chapter, we will learn how to do some *symbolic programming* in Python to manipulate algebraic formulas directly, and ultimately figure out the formulas for the derivatives."
   ],
   "cell_type": "markdown",
   "metadata": {}
  },
  {
   "source": [
    "### Doing symbolic algebra in Python\n",
    "\n",
    "When representing a mathematical formula in Python using the common representation we've used until now, which consists in defining a Python function, does not let us obtain a lot of introspection info about the formula itself:\n",
    "\n",
    "```python\n",
    "from math import sin\n",
    "\n",
    "def f(x):\n",
    "    return (3 * x ** 2 + x) * sin(x)\n",
    "```\n",
    "\n",
    "We can use the representation above to calculate data points, and plot the function, but that representation will make it very difficult for us to create a function such as `contain_division(f)` that would return `False` in the case above.\n",
    "\n",
    "In order to solve such questions we need to represent the function as a *data structure* that would help us understand the algebraic expression that defines the function at a deeper level than the Python function does, while also give us a chance to manipulate it (for example to expand the product).\n",
    "\n",
    "> Our goal for the chapter is to build a program that takes an algebraic expression and transforms it into a data structure that can represent variables, numbers, sums, differences, products, quotients, powers and special functions such as the sine and cosine. With that, we will also allow the generation of derivatives for all of them."
   ],
   "cell_type": "markdown",
   "metadata": {}
  },
  {
   "source": [
    "## Modeling algebraic expressions\n",
    "\n",
    "Let's consider the function $ f(x) = (3x² + x) \\cdot sin(x) $. This is a good candidate for finding the correct modeling approach because it contains variables, numbers, addition and multiplication, a power and special functions such as *sine*.\n",
    "\n",
    "The first note is that the function name $ f $ is an arbitrary name and does not affect the definition of the function. Thus, we can focus on the right-hand side of the equation.\n",
    "\n",
    "> The right hand side of an equation is called an *expression* &mdash; a collection of mathematical symbols combine in some valid way."
   ],
   "cell_type": "markdown",
   "metadata": {}
  },
  {
   "source": [
    "### Breaking an expression into pieces\n",
    "\n",
    "Now that it's clear that we will be focusing in $ (3x² + x) \\cdot sin(x) $, we need to break this expression into smaller pieces.\n",
    "\n",
    "To properly break that expression, we need to split it by the $ \\cdot $ operator:\n",
    "\n",
    "![Breaking up an algebraic expression](../images/breaking_up_expression.png)\n",
    "\n"
   ],
   "cell_type": "markdown",
   "metadata": {}
  },
  {
   "source": [
    "Likewise, $ 3x² + x $ can be broken down into the sum of $ 3x² $ and $ x $. And $ 3x^2 $ can be further decomposed into the product of $ 3 $ and $ x^2 $.\n",
    "\n",
    "In the terminology of functional programming, functions combining smaller objects into bigger ones are often called *combinators*. The ones that we've found in our *alebraic expression* are:\n",
    "+ $ 3x² $ is the product of the expressions $ 3 $ and $ x^2 $\n",
    "+ $ x^2 $ is a power: the expression $ x $ raised to the power of another expression $ 2 $.\n",
    "+ The expression $ sin(x) $ is a function application &mdash; given the expression $ sin $ and the expression $ x $, we build a new expression $ sin(x) $.\n",
    "\n",
    "A variable like $ x $, a number like $ 2 $ or a function name like $ sin $ can't be broken down further. To distinguish those from *combinators* we call them *elements*."
   ],
   "cell_type": "markdown",
   "metadata": {}
  },
  {
   "source": [
    "### Building an expression tree\n",
    "\n",
    "The elements and combinators we find in the *algebraic expression* $ (3x² + x) \\cdot sin(x) $, along with the concept of applying a function, are sufficient to rebuild the expression as a tree. Let's see how, first manually."
   ],
   "cell_type": "markdown",
   "metadata": {}
  },
  {
   "source": [
    "We can start with $ x^2 $, which combines the elements $ x $ and $ 2 $ with the power combinator.\n",
    "\n",
    "That can be followed by the product of $ 3 $ and $ x^2 $, and so forth until we end up with a whole tree that represents the *algebraic expression* as seen below:\n",
    "\n",
    "![Building the expression tree](../images/expression_tree_sequence.png)"
   ],
   "cell_type": "markdown",
   "metadata": {}
  },
  {
   "source": [
    "The root of the tree is the product combinator we used in the previous subsection. From that root node, we create two branches and recursively start creating additional branches that represent the expression."
   ],
   "cell_type": "markdown",
   "metadata": {}
  },
  {
   "source": [
    "### Translating the expression tree to Python\n",
    "\n",
    "In this section we will build some classes representing the expression as a data structure. We will start simple, and start adding more and more capabilities along the way until we reach our goal.\n"
   ],
   "cell_type": "markdown",
   "metadata": {}
  },
  {
   "source": [
    "In our implementation, we will model combinators as containers that hold their inputs.\n",
    "\n",
    "For example:"
   ],
   "cell_type": "markdown",
   "metadata": {}
  },
  {
   "cell_type": "code",
   "execution_count": null,
   "metadata": {},
   "outputs": [],
   "source": [
    "class Power():\n",
    "    def __init__(self, base, exponent):\n",
    "        self.base = base\n",
    "        self.exponent = exponent"
   ]
  },
  {
   "source": [
    "We also need classes to represent numbers and variables, as those will give us extra flexibility in the implementation:"
   ],
   "cell_type": "markdown",
   "metadata": {}
  },
  {
   "cell_type": "code",
   "execution_count": null,
   "metadata": {},
   "outputs": [],
   "source": [
    "class Number():\n",
    "    def __init__(self, number):\n",
    "        self.number = number\n",
    "\n",
    "class Variable():\n",
    "    def __init__(self, symbol):\n",
    "        self.symbol = symbol"
   ]
  },
  {
   "cell_type": "code",
   "execution_count": null,
   "metadata": {},
   "outputs": [],
   "source": [
    "With these three classes defined, we will be able to define our first algebraic expression:"
   ]
  },
  {
   "cell_type": "code",
   "execution_count": 1,
   "metadata": {},
   "outputs": [
    {
     "output_type": "execute_result",
     "data": {
      "text/plain": [
       "<__main__.Power at 0x7f1b9ce6d6a0>"
      ]
     },
     "metadata": {},
     "execution_count": 1
    }
   ],
   "source": [
    "class Power():\n",
    "    def __init__(self, base, exponent):\n",
    "        self.base = base\n",
    "        self.exponent = exponent\n",
    "\n",
    "class Number():\n",
    "    def __init__(self, number):\n",
    "        self.number = number\n",
    "\n",
    "class Variable():\n",
    "    def __init__(self, symbol):\n",
    "        self.symbol = symbol\n",
    "\n",
    "Power(Variable('x'), Number(2))        "
   ]
  },
  {
   "source": [
    "Now let's address the `Product` class:"
   ],
   "cell_type": "markdown",
   "metadata": {}
  },
  {
   "cell_type": "code",
   "execution_count": null,
   "metadata": {},
   "outputs": [],
   "source": [
    "class Product():\n",
    "    def __init__(self, expr1, expr2):\n",
    "        self.expr1 = expr1\n",
    "        self.expr2 = expr2"
   ]
  },
  {
   "source": [
    "With that, we can now model expressions such as $ 3 \\cdot x^2 $:"
   ],
   "cell_type": "markdown",
   "metadata": {}
  },
  {
   "cell_type": "code",
   "execution_count": 2,
   "metadata": {},
   "outputs": [
    {
     "output_type": "execute_result",
     "data": {
      "text/plain": [
       "<__main__.Product at 0x7f1b9d24bc10>"
      ]
     },
     "metadata": {},
     "execution_count": 2
    }
   ],
   "source": [
    "class Power():\n",
    "    def __init__(self, base, exponent):\n",
    "        self.base = base\n",
    "        self.exponent = exponent\n",
    "\n",
    "class Number():\n",
    "    def __init__(self, number):\n",
    "        self.number = number\n",
    "\n",
    "class Variable():\n",
    "    def __init__(self, symbol):\n",
    "        self.symbol = symbol\n",
    "\n",
    "class Product():\n",
    "    def __init__(self, expr1, expr2):\n",
    "        self.expr1 = expr1\n",
    "        self.expr2 = expr2\n",
    "\n",
    "Product(Number(3), Power(Variable('x'), Number(2)))"
   ]
  },
  {
   "source": [
    "After that, we're in a good position to have our first implementation of our algebraic expression classes that would represent the expression:\n",
    "\n",
    "$$\n",
    "\\displaystyle\n",
    "(3x² + x) \\cdot sin(x)\n",
    "$$"
   ],
   "cell_type": "markdown",
   "metadata": {}
  },
  {
   "cell_type": "code",
   "execution_count": 5,
   "metadata": {},
   "outputs": [],
   "source": [
    "class Power():\n",
    "    def __init__(self, base, exponent):\n",
    "        self.base = base\n",
    "        self.exponent = exponent\n",
    "\n",
    "class Number():\n",
    "    def __init__(self, number):\n",
    "        self.number = number\n",
    "\n",
    "class Variable():\n",
    "    def __init__(self, symbol):\n",
    "        self.symbol = symbol\n",
    "\n",
    "class Product():\n",
    "    def __init__(self, expr1, expr2):\n",
    "        self.expr1 = expr1\n",
    "        self.expr2 = expr2\n",
    "\n",
    "class Sum():\n",
    "    def __init__(self, *exprs):\n",
    "        self.exprs = exprs\n",
    "\n",
    "class Function():\n",
    "    def __init__(self, name):\n",
    "        self.name = name\n",
    "\n",
    "class Apply():\n",
    "    def __init__(self, function, argument):\n",
    "        self.function = function\n",
    "        self.argument = argument\n",
    "\n",
    "#  (3x² + x) · sin(x)\n",
    "expression = Product(\n",
    "    Sum(\n",
    "        Product(\n",
    "             Number(3),\n",
    "             Power(\n",
    "                 Variable('x'), \n",
    "                 Number(2))), \n",
    "        Variable('x')),\n",
    "    Apply(\n",
    "        Function('sin'), \n",
    "        Variable('x')))        "
   ]
  },
  {
   "source": [
    "With those simple classes we have given the first step for the creation of our *algebraic expression engine*. Note that despite having been created for a particular expression, the approach is quite flexible as other expressions such as:\n",
    "\n",
    "```python\n",
    "Apply(Function(\"cos\"),Sum(Power(Variable(\"x\"),Number(\"3\")), Number(-5)))\n",
    "```\n",
    "\n",
    "faithfully represent other *algebraic expressions* such as:\n",
    "\n",
    "$$\n",
    "\\displaystyle\n",
    "cos(x^3 - 5)\n",
    "$$"
   ],
   "cell_type": "markdown",
   "metadata": {}
  },
  {
   "source": [
    "## Putting a symbolic expression to work\n",
    "\n",
    "We've seen that for the function we've considered: $ f(x) = (3x² + x)sin(x) $, we can define a Python function that is good for returning an output value:\n",
    "\n",
    "```python\n",
    "def f(x):\n",
    "    return (3 * x ** 2 + x) * sin(x)\n",
    "```\n",
    "\n",
    "but it is not useful for obtaining insights about the function itself (as in: does it use a trigonometric function?) or to expand the expression (as in $ f(x) = 3x^2 sin(x) + x sin(x) $).\n",
    "\n",
    "Then, we created a series of *element* and *combinator* classes, but those seem to be like two separate worlds.\n",
    "\n",
    "The goal of this section is to bridge the gap, so that we can interact with the expression as a data structure of *elements* and *combinators* and also obtain the value when needed."
   ],
   "cell_type": "markdown",
   "metadata": {}
  },
  {
   "source": [
    "## 10.2.1 Finding all the variables in an expression\n",
    "\n",
    "Let's write a function that takes an expression and returns a list of distinct variables that appear in it.\n",
    "\n",
    "For example, $ h(z) = 2z + 3 $ should find `z` while $ g(x) = 7 $ should find no variables.\n",
    "\n",
    "We will call this function `distinct_variables(expr)` and it will accept any expression and return a Python set containing the variables found."
   ],
   "cell_type": "markdown",
   "metadata": {}
  },
  {
   "source": [
    "As you can imagine the situation becomes really complicated when the expression is built from combinators as in $ y \\cdot z + x \\cdot z $.\n",
    "\n",
    "We have already established that the resulting structure that represents that expression is a tree:\n",
    "\n",
    "```python\n",
    "Sum(\n",
    "    Product(\n",
    "        Variable('y'), \n",
    "        Variable('z')\n",
    "        ),\n",
    "    Product(\n",
    "        Variable('x'), \n",
    "        Variable('z'))\n",
    ")\n",
    "```\n",
    "\n",
    "Trees being recursive structures, it seems that it would be appropriate to traverse the expression using a recursive function."
   ],
   "cell_type": "markdown",
   "metadata": {}
  },
  {
   "cell_type": "code",
   "execution_count": 5,
   "metadata": {},
   "outputs": [
    {
     "output_type": "execute_result",
     "data": {
      "text/plain": [
       "{'x', 'y', 'z'}"
      ]
     },
     "metadata": {},
     "execution_count": 5
    }
   ],
   "source": [
    "from my_expressions_v2 import *\n",
    "\n",
    "expr = Sum(\n",
    "    Product(\n",
    "        Variable('y'), \n",
    "        Variable('z')\n",
    "        ),\n",
    "    Product(\n",
    "        Variable('x'), \n",
    "        Variable('z'))\n",
    ")\n",
    "\n",
    "def distinct_variables(expr):\n",
    "    if isinstance(expr, Variable):\n",
    "        return set(expr.symbol)\n",
    "    elif isinstance(expr, Number):\n",
    "        return set()\n",
    "    elif isinstance(expr, Sum):\n",
    "        return set().union(*[distinct_variables(inner_expr) for inner_expr in expr.exprs])\n",
    "    elif isinstance(expr, Product):\n",
    "        return distinct_variables(expr.expr1).union(distinct_variables(expr.expr2))\n",
    "    elif isinstance(expr, Power):\n",
    "        return distinct_variables(expr.base).union(distinct_variables(expr.exponent))\n",
    "    elif isinstance(expr, Apply):\n",
    "        return distinct_variables(expr.argument)\n",
    "    else:\n",
    "        raise TypeError('Not a valid expression')\n",
    "\n",
    "distinct_variables(expr)\n"
   ]
  },
  {
   "source": [
    "That is nothing more than a recursive traversal of a tree. When the function completes, it would have called `distinct_variables(...)` on every expression contained in the target expression.\n",
    "\n",
    "The same approach can be used to find all of the numbers or all of the functions in an expression."
   ],
   "cell_type": "markdown",
   "metadata": {}
  },
  {
   "source": [
    "### Evaluating an expression\n",
    "\n",
    "Now, we've got two representation of the same mathematical function $ f(x) $. The Python function that let us evaluate the function at a given input value of $ x $, and the tree data structure that describes the structure of the expression defining $ f(x) $.\n",
    "\n",
    "We will see that the latter is also a good option to evaluate $ f(x) $ as well with a little bit of extra work."
   ],
   "cell_type": "markdown",
   "metadata": {}
  },
  {
   "source": [
    "*Mechanically*, evaluating the function $ f(x) $ at $ x = 5 $ means substituting the value $ 5 $ everywhere where $ x $ is found in the expression (which could be nowhere if the function is $ g(x) = 7 $).\n",
    "\n",
    "We just need to code the same behavior we have just described: we need to find all the variables, *plug in* the given value for those, and then add some intelligence to the combinators so that they provide the value of the expression they hold."
   ],
   "cell_type": "markdown",
   "metadata": {}
  },
  {
   "source": [
    "The starting data we need are the values to plug-in along with the variable names that they replace. That is, in programming terms, we need to know the *variable bindings*.\n",
    "\n",
    "For example, to evaluate the function $ z(x, y) = 2xy^3 $ we will need some variable bindings such as $ x = 3 $ and $ y = 2 $.\n",
    "\n",
    "With the bindings in place, it will be easy to compute $ x(3, 2) = 2 \\cdot 3 \\cdot 2^3 $."
   ],
   "cell_type": "markdown",
   "metadata": {}
  },
  {
   "source": [
    "In this case, instead of using the previous approach in which we created a function that obtained the final result, we will add an `evaluate(...)` method to each class that represents an expression.\n",
    "\n",
    "In order to enforce this, we will define this method at the `Expression` base abstract class level first:\n",
    "\n",
    "```python\n",
    "class Expression(ABC):\n",
    "    @abstractmethod\n",
    "    def evaluate(self, **bindings):\n",
    "        pass\n",
    "```\n",
    "\n",
    "Note that the function allows you to pass a variable number of bindings, to support expressions with more than one variable.\n",
    "\n",
    "Our expectation, is that the consumer application will use this function like:\n",
    "\n",
    "```python\n",
    "z.evaluate(x=3, y=2) // will do the evaluation for those bindings\n",
    "```"
   ],
   "cell_type": "markdown",
   "metadata": {}
  },
  {
   "source": [
    "Now, we need to modify the `Expression` subclasses to implement the `evaluate(...)` method.\n",
    "\n",
    "\n",
    "The number class is the easiest one, as it should simply return the underlying number.\n",
    "\n",
    "```python\n",
    "class Number(Expression):\n",
    "    def __init__(self, number):\n",
    "        self.number = number\n",
    "\n",
    "    def evaluate(self, **bindings):\n",
    "        return self.number\n",
    "```"
   ],
   "cell_type": "markdown",
   "metadata": {}
  },
  {
   "source": [
    "The `Variable` class is a bit trickier, as we will need to do the substitution:\n",
    "\n",
    "```python\n",
    "class Variable(Expression):\n",
    "    def __init__(self, symbol):\n",
    "        self.symbol = symbol\n",
    "\n",
    "    def evaluate(self, **bindings):\n",
    "        try:\n",
    "            return bindings[self.symbol]\n",
    "        except:\n",
    "            raise KeyError('Variable {} is not bound'.format(self.symbol))\n",
    "```\n",
    "\n",
    "The only interesting part here is the way in which we can *plug-in* the values in Python:\n",
    "\n",
    "Let's consider the following function and invocation"
   ],
   "cell_type": "markdown",
   "metadata": {}
  },
  {
   "cell_type": "code",
   "execution_count": 6,
   "metadata": {},
   "outputs": [
    {
     "output_type": "stream",
     "name": "stdout",
     "text": [
      "{'x': 1, 'y': 2, 'z': 3}\n"
     ]
    }
   ],
   "source": [
    "def f(**args):\n",
    "    print(args)\n",
    "\n",
    "\n",
    "f(x=1, y=2, z=3)"
   ]
  },
  {
   "source": [
    "Note how the invocation of `f(...)` with the given args end up passing the function a dictionary `{'x': 1, 'y': 2, 'z': 3}`, which we can access using the syntax:\n",
    "\n",
    "```python\n",
    "args[key] // => value\n",
    "```\n",
    "\n",
    "Thus:\n",
    "\n",
    "```python\n",
    "binding[self.symbol]\n",
    "```\n",
    "will actually get the value in the dictionary for the given variable name."
   ],
   "cell_type": "markdown",
   "metadata": {}
  },
  {
   "cell_type": "code",
   "execution_count": null,
   "metadata": {},
   "outputs": [],
   "source": [
    "Now, we need to turn our attention to the combinators."
   ]
  }
 ]
}